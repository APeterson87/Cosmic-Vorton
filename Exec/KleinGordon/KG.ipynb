{
 "cells": [
  {
   "cell_type": "code",
   "execution_count": 22,
   "metadata": {},
   "outputs": [],
   "source": [
    "import yt\n",
    "import numpy as np"
   ]
  },
  {
   "cell_type": "code",
   "execution_count": 76,
   "metadata": {},
   "outputs": [],
   "source": [
    "plot_num = 1\n",
    "diag_num = 0\n",
    "plot_num += 1000000\n",
    "diag_num += 1000000\n",
    "plot_num_list = list(str(plot_num))\n",
    "diag_num_list = list(str(diag_num))\n",
    "plot_num_list[0] = '0'\n",
    "diag_num_list[0] = '0'\n",
    "plotname = \"plt\"+\"\".join(plot_num_list)\n",
    "diagname = \"diag\"+\"\".join(diag_num_list)"
   ]
  },
  {
   "cell_type": "code",
   "execution_count": 77,
   "metadata": {
    "scrolled": true
   },
   "outputs": [
    {
     "name": "stderr",
     "output_type": "stream",
     "text": [
      "yt : [INFO     ] 2023-01-27 11:59:36,568 Parameters: current_time              = 0.32\n",
      "yt : [INFO     ] 2023-01-27 11:59:36,568 Parameters: domain_dimensions         = [64 64 64]\n",
      "yt : [INFO     ] 2023-01-27 11:59:36,569 Parameters: domain_left_edge          = [-1024. -1024. -1024.]\n",
      "yt : [INFO     ] 2023-01-27 11:59:36,570 Parameters: domain_right_edge         = [1024. 1024. 1024.]\n",
      "/home/ThirdEye87/.local/lib/python3.8/site-packages/yt/sample_data/api.py:138: UserWarning: Storage directory from yt config doesn't exist (currently set to '/does/not/exist'). Current working directory will be used instead.\n",
      "  warn(\n"
     ]
    },
    {
     "ename": "FileNotFoundError",
     "evalue": "No such file or directory: 'diag0000000'.\n(Also tried '/home/ThirdEye87/Cosmic-Vorton/Exec/KleinGordon/diag0000000').",
     "output_type": "error",
     "traceback": [
      "\u001b[0;31m---------------------------------------------------------------------------\u001b[0m",
      "\u001b[0;31mFileNotFoundError\u001b[0m                         Traceback (most recent call last)",
      "\u001b[0;32m<ipython-input-77-30eb56177323>\u001b[0m in \u001b[0;36m<module>\u001b[0;34m\u001b[0m\n\u001b[1;32m      1\u001b[0m \u001b[0mdplot\u001b[0m \u001b[0;34m=\u001b[0m \u001b[0myt\u001b[0m\u001b[0;34m.\u001b[0m\u001b[0mload\u001b[0m\u001b[0;34m(\u001b[0m\u001b[0mplotname\u001b[0m\u001b[0;34m)\u001b[0m\u001b[0;34m\u001b[0m\u001b[0;34m\u001b[0m\u001b[0m\n\u001b[0;32m----> 2\u001b[0;31m \u001b[0mddiag\u001b[0m \u001b[0;34m=\u001b[0m \u001b[0myt\u001b[0m\u001b[0;34m.\u001b[0m\u001b[0mload\u001b[0m\u001b[0;34m(\u001b[0m\u001b[0mdiagname\u001b[0m\u001b[0;34m)\u001b[0m\u001b[0;34m\u001b[0m\u001b[0;34m\u001b[0m\u001b[0m\n\u001b[0m",
      "\u001b[0;32m~/.local/lib/python3.8/site-packages/yt/loaders.py\u001b[0m in \u001b[0;36mload\u001b[0;34m(fn, *args, **kwargs)\u001b[0m\n\u001b[1;32m     80\u001b[0m     \u001b[0;31m# either in the current dir or yt.config.ytcfg['data_dir_directory']\u001b[0m\u001b[0;34m\u001b[0m\u001b[0;34m\u001b[0m\u001b[0;34m\u001b[0m\u001b[0m\n\u001b[1;32m     81\u001b[0m     \u001b[0;32mif\u001b[0m \u001b[0;32mnot\u001b[0m \u001b[0mfn\u001b[0m\u001b[0;34m.\u001b[0m\u001b[0mstartswith\u001b[0m\u001b[0;34m(\u001b[0m\u001b[0;34m\"http\"\u001b[0m\u001b[0;34m)\u001b[0m\u001b[0;34m:\u001b[0m\u001b[0;34m\u001b[0m\u001b[0;34m\u001b[0m\u001b[0m\n\u001b[0;32m---> 82\u001b[0;31m         \u001b[0mfn\u001b[0m \u001b[0;34m=\u001b[0m \u001b[0mstr\u001b[0m\u001b[0;34m(\u001b[0m\u001b[0mlookup_on_disk_data\u001b[0m\u001b[0;34m(\u001b[0m\u001b[0mfn\u001b[0m\u001b[0;34m)\u001b[0m\u001b[0;34m)\u001b[0m\u001b[0;34m\u001b[0m\u001b[0;34m\u001b[0m\u001b[0m\n\u001b[0m\u001b[1;32m     83\u001b[0m \u001b[0;34m\u001b[0m\u001b[0m\n\u001b[1;32m     84\u001b[0m     \u001b[0mcandidates\u001b[0m \u001b[0;34m=\u001b[0m \u001b[0;34m[\u001b[0m\u001b[0;34m]\u001b[0m\u001b[0;34m\u001b[0m\u001b[0;34m\u001b[0m\u001b[0m\n",
      "\u001b[0;32m~/.local/lib/python3.8/site-packages/yt/sample_data/api.py\u001b[0m in \u001b[0;36mlookup_on_disk_data\u001b[0;34m(fn)\u001b[0m\n\u001b[1;32m    170\u001b[0m     \u001b[0;32mif\u001b[0m \u001b[0;32mnot\u001b[0m \u001b[0malt_path\u001b[0m\u001b[0;34m.\u001b[0m\u001b[0mexists\u001b[0m\u001b[0;34m(\u001b[0m\u001b[0;34m)\u001b[0m\u001b[0;34m:\u001b[0m\u001b[0;34m\u001b[0m\u001b[0;34m\u001b[0m\u001b[0m\n\u001b[1;32m    171\u001b[0m         \u001b[0merr_msg\u001b[0m \u001b[0;34m+=\u001b[0m \u001b[0;34mf\"\\n(Also tried '{alt_path}').\"\u001b[0m\u001b[0;34m\u001b[0m\u001b[0;34m\u001b[0m\u001b[0m\n\u001b[0;32m--> 172\u001b[0;31m         \u001b[0;32mraise\u001b[0m \u001b[0mFileNotFoundError\u001b[0m\u001b[0;34m(\u001b[0m\u001b[0merr_msg\u001b[0m\u001b[0;34m)\u001b[0m\u001b[0;34m\u001b[0m\u001b[0;34m\u001b[0m\u001b[0m\n\u001b[0m\u001b[1;32m    173\u001b[0m \u001b[0;34m\u001b[0m\u001b[0m\n\u001b[1;32m    174\u001b[0m     \u001b[0;32mreturn\u001b[0m \u001b[0malt_path\u001b[0m\u001b[0;34m\u001b[0m\u001b[0;34m\u001b[0m\u001b[0m\n",
      "\u001b[0;31mFileNotFoundError\u001b[0m: No such file or directory: 'diag0000000'.\n(Also tried '/home/ThirdEye87/Cosmic-Vorton/Exec/KleinGordon/diag0000000')."
     ]
    }
   ],
   "source": [
    "dplot = yt.load(plotname)\n",
    "ddiag = yt.load(diagname)"
   ]
  },
  {
   "cell_type": "code",
   "execution_count": 78,
   "metadata": {},
   "outputs": [
    {
     "name": "stdout",
     "output_type": "stream",
     "text": [
      "[('boxlib', 'phi1'), ('boxlib', 'phi2'), ('boxlib', 'sigma1'), ('boxlib', 'sigma2'), ('boxlib', 'test'), ('boxlib', 'w_U_0'), ('boxlib', 'w_U_1'), ('boxlib', 'w_U_2')]\n",
      "\n",
      "\n"
     ]
    },
    {
     "ename": "NameError",
     "evalue": "name 'ddiag' is not defined",
     "output_type": "error",
     "traceback": [
      "\u001b[0;31m---------------------------------------------------------------------------\u001b[0m",
      "\u001b[0;31mNameError\u001b[0m                                 Traceback (most recent call last)",
      "\u001b[0;32m<ipython-input-78-9b3a932ba6b8>\u001b[0m in \u001b[0;36m<module>\u001b[0;34m\u001b[0m\n\u001b[1;32m      1\u001b[0m \u001b[0mprint\u001b[0m\u001b[0;34m(\u001b[0m\u001b[0mdplot\u001b[0m\u001b[0;34m.\u001b[0m\u001b[0mfield_list\u001b[0m\u001b[0;34m)\u001b[0m\u001b[0;34m\u001b[0m\u001b[0;34m\u001b[0m\u001b[0m\n\u001b[1;32m      2\u001b[0m \u001b[0mprint\u001b[0m\u001b[0;34m(\u001b[0m\u001b[0;34m'\\n'\u001b[0m\u001b[0;34m)\u001b[0m\u001b[0;34m\u001b[0m\u001b[0;34m\u001b[0m\u001b[0m\n\u001b[0;32m----> 3\u001b[0;31m \u001b[0mprint\u001b[0m\u001b[0;34m(\u001b[0m\u001b[0mddiag\u001b[0m\u001b[0;34m.\u001b[0m\u001b[0mfield_list\u001b[0m\u001b[0;34m)\u001b[0m\u001b[0;34m\u001b[0m\u001b[0;34m\u001b[0m\u001b[0m\n\u001b[0m",
      "\u001b[0;31mNameError\u001b[0m: name 'ddiag' is not defined"
     ]
    }
   ],
   "source": [
    "print(dplot.field_list)\n",
    "print('\\n')\n",
    "print(ddiag.field_list)"
   ]
  },
  {
   "cell_type": "code",
   "execution_count": 79,
   "metadata": {
    "scrolled": false
   },
   "outputs": [
    {
     "name": "stderr",
     "output_type": "stream",
     "text": [
      "yt : [INFO     ] 2023-01-27 11:59:37,696 xlim = -1024.000000 1024.000000\n",
      "yt : [INFO     ] 2023-01-27 11:59:37,697 ylim = -1024.000000 1024.000000\n",
      "yt : [INFO     ] 2023-01-27 11:59:37,698 xlim = -1024.000000 1024.000000\n",
      "yt : [INFO     ] 2023-01-27 11:59:37,699 ylim = -1024.000000 1024.000000\n",
      "yt : [INFO     ] 2023-01-27 11:59:37,701 Making a fixed resolution buffer of (('boxlib', 'test')) 800 by 800\n",
      "yt : [WARNING  ] 2023-01-27 11:59:37,732 Plotting ('boxlib', 'test'): All values = 0.0 dimensionless\n",
      "yt : [WARNING  ] 2023-01-27 11:59:37,732 Switching to linear colorbar scaling.\n",
      "yt : [INFO     ] 2023-01-27 11:59:37,844 Making a fixed resolution buffer of (('boxlib', 'test')) 800 by 800\n"
     ]
    },
    {
     "data": {
      "text/html": [
       "<img style=\"max-width:100%;max-height:100%;\" src=\"data:image/png;base64,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\"><br>"
      ],
      "text/plain": [
       "<yt.visualization.plot_window.AxisAlignedSlicePlot at 0x7fd3069545b0>"
      ]
     },
     "metadata": {},
     "output_type": "display_data"
    },
    {
     "ename": "YTFieldNotFound",
     "evalue": "Could not find field ('boxlib', 'Phi2') in plt0000001.\nDid you mean:\n\t('boxlib', 'phi2')\n\t('boxlib', 'phi1')",
     "output_type": "error",
     "traceback": [
      "\u001b[0;31m---------------------------------------------------------------------------\u001b[0m",
      "\u001b[0;31mYTFieldNotFound\u001b[0m                           Traceback (most recent call last)",
      "\u001b[0;32m<ipython-input-79-5f16f21fb73d>\u001b[0m in \u001b[0;36m<module>\u001b[0;34m\u001b[0m\n\u001b[1;32m     11\u001b[0m \u001b[0;34m\u001b[0m\u001b[0m\n\u001b[1;32m     12\u001b[0m \u001b[0mvar\u001b[0m \u001b[0;34m=\u001b[0m \u001b[0;34m'Phi2'\u001b[0m\u001b[0;34m\u001b[0m\u001b[0;34m\u001b[0m\u001b[0m\n\u001b[0;32m---> 13\u001b[0;31m \u001b[0ms\u001b[0m \u001b[0;34m=\u001b[0m \u001b[0myt\u001b[0m\u001b[0;34m.\u001b[0m\u001b[0mSlicePlot\u001b[0m\u001b[0;34m(\u001b[0m\u001b[0mdplot\u001b[0m\u001b[0;34m,\u001b[0m \u001b[0;34m'z'\u001b[0m\u001b[0;34m,\u001b[0m \u001b[0;34m(\u001b[0m\u001b[0;34m'boxlib'\u001b[0m\u001b[0;34m,\u001b[0m \u001b[0mvar\u001b[0m\u001b[0;34m)\u001b[0m\u001b[0;34m,\u001b[0m \u001b[0morigin\u001b[0m\u001b[0;34m=\u001b[0m\u001b[0;34m'native'\u001b[0m\u001b[0;34m,\u001b[0m \u001b[0mcenter\u001b[0m \u001b[0;34m=\u001b[0m \u001b[0;34m[\u001b[0m\u001b[0;36m0\u001b[0m\u001b[0;34m,\u001b[0m\u001b[0;36m0\u001b[0m\u001b[0;34m,\u001b[0m\u001b[0;36m10\u001b[0m\u001b[0;34m]\u001b[0m\u001b[0;34m)\u001b[0m\u001b[0;34m\u001b[0m\u001b[0;34m\u001b[0m\u001b[0m\n\u001b[0m\u001b[1;32m     14\u001b[0m \u001b[0ms\u001b[0m\u001b[0;34m.\u001b[0m\u001b[0mset_log\u001b[0m\u001b[0;34m(\u001b[0m\u001b[0;34m(\u001b[0m\u001b[0;34m'boxlib'\u001b[0m\u001b[0;34m,\u001b[0m \u001b[0mvar\u001b[0m\u001b[0;34m)\u001b[0m\u001b[0;34m,\u001b[0m \u001b[0;32mFalse\u001b[0m\u001b[0;34m)\u001b[0m\u001b[0;34m\u001b[0m\u001b[0;34m\u001b[0m\u001b[0m\n\u001b[1;32m     15\u001b[0m \u001b[0ms\u001b[0m\u001b[0;34m.\u001b[0m\u001b[0mset_xlabel\u001b[0m\u001b[0;34m(\u001b[0m\u001b[0;34m'x - Axis'\u001b[0m\u001b[0;34m)\u001b[0m\u001b[0;34m\u001b[0m\u001b[0;34m\u001b[0m\u001b[0m\n",
      "\u001b[0;32m~/.local/lib/python3.8/site-packages/yt/visualization/plot_window.py\u001b[0m in \u001b[0;36mSlicePlot\u001b[0;34m(ds, normal, fields, axis, *args, **kwargs)\u001b[0m\n\u001b[1;32m   2482\u001b[0m             \u001b[0;32mdel\u001b[0m \u001b[0mkwargs\u001b[0m\u001b[0;34m[\u001b[0m\u001b[0;34m\"north_vector\"\u001b[0m\u001b[0;34m]\u001b[0m\u001b[0;34m\u001b[0m\u001b[0;34m\u001b[0m\u001b[0m\n\u001b[1;32m   2483\u001b[0m \u001b[0;34m\u001b[0m\u001b[0m\n\u001b[0;32m-> 2484\u001b[0;31m         \u001b[0;32mreturn\u001b[0m \u001b[0mAxisAlignedSlicePlot\u001b[0m\u001b[0;34m(\u001b[0m\u001b[0mds\u001b[0m\u001b[0;34m,\u001b[0m \u001b[0mnormal\u001b[0m\u001b[0;34m,\u001b[0m \u001b[0mfields\u001b[0m\u001b[0;34m,\u001b[0m \u001b[0;34m*\u001b[0m\u001b[0margs\u001b[0m\u001b[0;34m,\u001b[0m \u001b[0;34m**\u001b[0m\u001b[0mkwargs\u001b[0m\u001b[0;34m)\u001b[0m\u001b[0;34m\u001b[0m\u001b[0;34m\u001b[0m\u001b[0m\n\u001b[0m\u001b[1;32m   2485\u001b[0m \u001b[0;34m\u001b[0m\u001b[0m\n\u001b[1;32m   2486\u001b[0m \u001b[0;34m\u001b[0m\u001b[0m\n",
      "\u001b[0;32m~/.local/lib/python3.8/site-packages/yt/visualization/plot_window.py\u001b[0m in \u001b[0;36m__init__\u001b[0;34m(self, ds, axis, fields, center, width, axes_unit, origin, right_handed, fontsize, field_parameters, window_size, aspect, data_source, buff_size)\u001b[0m\n\u001b[1;32m   1610\u001b[0m                 \u001b[0mdata_source\u001b[0m\u001b[0;34m=\u001b[0m\u001b[0mdata_source\u001b[0m\u001b[0;34m,\u001b[0m\u001b[0;34m\u001b[0m\u001b[0;34m\u001b[0m\u001b[0m\n\u001b[1;32m   1611\u001b[0m             )\n\u001b[0;32m-> 1612\u001b[0;31m             \u001b[0mslc\u001b[0m\u001b[0;34m.\u001b[0m\u001b[0mget_data\u001b[0m\u001b[0;34m(\u001b[0m\u001b[0mfields\u001b[0m\u001b[0;34m)\u001b[0m\u001b[0;34m\u001b[0m\u001b[0;34m\u001b[0m\u001b[0m\n\u001b[0m\u001b[1;32m   1613\u001b[0m         \u001b[0mvalidate_mesh_fields\u001b[0m\u001b[0;34m(\u001b[0m\u001b[0mslc\u001b[0m\u001b[0;34m,\u001b[0m \u001b[0mfields\u001b[0m\u001b[0;34m)\u001b[0m\u001b[0;34m\u001b[0m\u001b[0;34m\u001b[0m\u001b[0m\n\u001b[1;32m   1614\u001b[0m         PWViewerMPL.__init__(\n",
      "\u001b[0;32m~/.local/lib/python3.8/site-packages/yt/data_objects/selection_objects/data_selection_objects.py\u001b[0m in \u001b[0;36mget_data\u001b[0;34m(self, fields)\u001b[0m\n\u001b[1;32m    133\u001b[0m         \u001b[0mnfields\u001b[0m \u001b[0;34m=\u001b[0m \u001b[0;34m[\u001b[0m\u001b[0;34m]\u001b[0m\u001b[0;34m\u001b[0m\u001b[0;34m\u001b[0m\u001b[0m\n\u001b[1;32m    134\u001b[0m         \u001b[0mapply_fields\u001b[0m \u001b[0;34m=\u001b[0m \u001b[0mdefaultdict\u001b[0m\u001b[0;34m(\u001b[0m\u001b[0mlist\u001b[0m\u001b[0;34m)\u001b[0m\u001b[0;34m\u001b[0m\u001b[0;34m\u001b[0m\u001b[0m\n\u001b[0;32m--> 135\u001b[0;31m         \u001b[0;32mfor\u001b[0m \u001b[0mfield\u001b[0m \u001b[0;32min\u001b[0m \u001b[0mself\u001b[0m\u001b[0;34m.\u001b[0m\u001b[0m_determine_fields\u001b[0m\u001b[0;34m(\u001b[0m\u001b[0mfields\u001b[0m\u001b[0;34m)\u001b[0m\u001b[0;34m:\u001b[0m\u001b[0;34m\u001b[0m\u001b[0;34m\u001b[0m\u001b[0m\n\u001b[0m\u001b[1;32m    136\u001b[0m             \u001b[0;31m# We need to create the field on the raw particle types\u001b[0m\u001b[0;34m\u001b[0m\u001b[0;34m\u001b[0m\u001b[0;34m\u001b[0m\u001b[0m\n\u001b[1;32m    137\u001b[0m             \u001b[0;31m# for particles types (when the field is not directly\u001b[0m\u001b[0;34m\u001b[0m\u001b[0;34m\u001b[0m\u001b[0;34m\u001b[0m\u001b[0m\n",
      "\u001b[0;32m~/.local/lib/python3.8/site-packages/yt/data_objects/data_containers.py\u001b[0m in \u001b[0;36m_determine_fields\u001b[0;34m(self, fields)\u001b[0m\n\u001b[1;32m   1450\u001b[0m             \u001b[0mftype\u001b[0m\u001b[0;34m,\u001b[0m \u001b[0mfname\u001b[0m \u001b[0;34m=\u001b[0m \u001b[0mself\u001b[0m\u001b[0;34m.\u001b[0m\u001b[0m_tupleize_field\u001b[0m\u001b[0;34m(\u001b[0m\u001b[0mfield\u001b[0m\u001b[0;34m)\u001b[0m\u001b[0;34m\u001b[0m\u001b[0;34m\u001b[0m\u001b[0m\n\u001b[1;32m   1451\u001b[0m             \u001b[0;31m# print(field, \" : \",ftype, fname)\u001b[0m\u001b[0;34m\u001b[0m\u001b[0;34m\u001b[0m\u001b[0;34m\u001b[0m\u001b[0m\n\u001b[0;32m-> 1452\u001b[0;31m             \u001b[0mfinfo\u001b[0m \u001b[0;34m=\u001b[0m \u001b[0mself\u001b[0m\u001b[0;34m.\u001b[0m\u001b[0mds\u001b[0m\u001b[0;34m.\u001b[0m\u001b[0m_get_field_info\u001b[0m\u001b[0;34m(\u001b[0m\u001b[0mftype\u001b[0m\u001b[0;34m,\u001b[0m \u001b[0mfname\u001b[0m\u001b[0;34m)\u001b[0m\u001b[0;34m\u001b[0m\u001b[0;34m\u001b[0m\u001b[0m\n\u001b[0m\u001b[1;32m   1453\u001b[0m \u001b[0;34m\u001b[0m\u001b[0m\n\u001b[1;32m   1454\u001b[0m             \u001b[0;31m# really ugly check to ensure that this field really does exist somewhere,\u001b[0m\u001b[0;34m\u001b[0m\u001b[0;34m\u001b[0m\u001b[0;34m\u001b[0m\u001b[0m\n",
      "\u001b[0;32m~/.local/lib/python3.8/site-packages/yt/data_objects/static_output.py\u001b[0m in \u001b[0;36m_get_field_info\u001b[0;34m(self, ftype, fname)\u001b[0m\n\u001b[1;32m    817\u001b[0m \u001b[0;34m\u001b[0m\u001b[0m\n\u001b[1;32m    818\u001b[0m     \u001b[0;32mdef\u001b[0m \u001b[0m_get_field_info\u001b[0m\u001b[0;34m(\u001b[0m\u001b[0mself\u001b[0m\u001b[0;34m,\u001b[0m \u001b[0mftype\u001b[0m\u001b[0;34m,\u001b[0m \u001b[0mfname\u001b[0m\u001b[0;34m=\u001b[0m\u001b[0;32mNone\u001b[0m\u001b[0;34m)\u001b[0m\u001b[0;34m:\u001b[0m\u001b[0;34m\u001b[0m\u001b[0;34m\u001b[0m\u001b[0m\n\u001b[0;32m--> 819\u001b[0;31m         \u001b[0mfield_info\u001b[0m\u001b[0;34m,\u001b[0m \u001b[0mis_ambiguous\u001b[0m \u001b[0;34m=\u001b[0m \u001b[0mself\u001b[0m\u001b[0;34m.\u001b[0m\u001b[0m_get_field_info_helper\u001b[0m\u001b[0;34m(\u001b[0m\u001b[0mftype\u001b[0m\u001b[0;34m,\u001b[0m \u001b[0mfname\u001b[0m\u001b[0;34m)\u001b[0m\u001b[0;34m\u001b[0m\u001b[0;34m\u001b[0m\u001b[0m\n\u001b[0m\u001b[1;32m    820\u001b[0m \u001b[0;34m\u001b[0m\u001b[0m\n\u001b[1;32m    821\u001b[0m         \u001b[0;32mif\u001b[0m \u001b[0mis_ambiguous\u001b[0m\u001b[0;34m:\u001b[0m\u001b[0;34m\u001b[0m\u001b[0;34m\u001b[0m\u001b[0m\n",
      "\u001b[0;32m~/.local/lib/python3.8/site-packages/yt/data_objects/static_output.py\u001b[0m in \u001b[0;36m_get_field_info_helper\u001b[0;34m(self, ftype, fname)\u001b[0m\n\u001b[1;32m    895\u001b[0m                     \u001b[0mself\u001b[0m\u001b[0;34m.\u001b[0m\u001b[0m_last_finfo\u001b[0m \u001b[0;34m=\u001b[0m \u001b[0mself\u001b[0m\u001b[0;34m.\u001b[0m\u001b[0mfield_info\u001b[0m\u001b[0;34m[\u001b[0m\u001b[0;34m(\u001b[0m\u001b[0mftype\u001b[0m\u001b[0;34m,\u001b[0m \u001b[0mfname\u001b[0m\u001b[0;34m)\u001b[0m\u001b[0;34m]\u001b[0m\u001b[0;34m\u001b[0m\u001b[0;34m\u001b[0m\u001b[0m\n\u001b[1;32m    896\u001b[0m                     \u001b[0;32mreturn\u001b[0m \u001b[0mself\u001b[0m\u001b[0;34m.\u001b[0m\u001b[0m_last_finfo\u001b[0m\u001b[0;34m,\u001b[0m \u001b[0mis_ambiguous\u001b[0m\u001b[0;34m\u001b[0m\u001b[0;34m\u001b[0m\u001b[0m\n\u001b[0;32m--> 897\u001b[0;31m         \u001b[0;32mraise\u001b[0m \u001b[0mYTFieldNotFound\u001b[0m\u001b[0;34m(\u001b[0m\u001b[0mfield\u001b[0m\u001b[0;34m=\u001b[0m\u001b[0mINPUT\u001b[0m\u001b[0;34m,\u001b[0m \u001b[0mds\u001b[0m\u001b[0;34m=\u001b[0m\u001b[0mself\u001b[0m\u001b[0;34m)\u001b[0m\u001b[0;34m\u001b[0m\u001b[0;34m\u001b[0m\u001b[0m\n\u001b[0m\u001b[1;32m    898\u001b[0m \u001b[0;34m\u001b[0m\u001b[0m\n\u001b[1;32m    899\u001b[0m     \u001b[0;32mdef\u001b[0m \u001b[0m_setup_classes\u001b[0m\u001b[0;34m(\u001b[0m\u001b[0mself\u001b[0m\u001b[0;34m)\u001b[0m\u001b[0;34m:\u001b[0m\u001b[0;34m\u001b[0m\u001b[0;34m\u001b[0m\u001b[0m\n",
      "\u001b[0;31mYTFieldNotFound\u001b[0m: Could not find field ('boxlib', 'Phi2') in plt0000001.\nDid you mean:\n\t('boxlib', 'phi2')\n\t('boxlib', 'phi1')"
     ]
    }
   ],
   "source": [
    "var = 'test'\n",
    "s = yt.SlicePlot(dplot, 'z', ('boxlib', var), origin='native', center = [0,0,0])\n",
    "s.set_log(('boxlib', var), False)\n",
    "s.set_xlabel('x - Axis')\n",
    "s.set_ylabel('y - Axis')\n",
    "#s.hide_colorbar()\n",
    "#s.annotate_cell_edges()\n",
    "s.annotate_grids()\n",
    "s.zoom(1)\n",
    "s.show()\n",
    "\n",
    "var = 'Phi2'\n",
    "s = yt.SlicePlot(dplot, 'z', ('boxlib', var), origin='native', center = [0,0,10])\n",
    "s.set_log(('boxlib', var), False)\n",
    "s.set_xlabel('x - Axis')\n",
    "s.set_ylabel('y - Axis')\n",
    "#s.hide_colorbar()\n",
    "#s.annotate_cell_edges()\n",
    "#s.annotate_grids()\n",
    "s.zoom(1)\n",
    "s.show()"
   ]
  },
  {
   "cell_type": "code",
   "execution_count": 35,
   "metadata": {},
   "outputs": [
    {
     "name": "stderr",
     "output_type": "stream",
     "text": [
      "yt : [WARNING  ] 2023-01-10 11:11:33,170 Received two valid image formats '.pdf' (from `filename`) and '.png' (from `suffix`). The former is ignored.\n",
      "yt : [INFO     ] 2023-01-10 11:11:33,171 Saving plot phi_t400_Slice_z_A_L_2.png\n"
     ]
    },
    {
     "data": {
      "text/plain": [
       "['phi_t400_Slice_z_A_L_2.png']"
      ]
     },
     "execution_count": 35,
     "metadata": {},
     "output_type": "execute_result"
    }
   ],
   "source": [
    "s.save(\"phi_t400.pdf\")"
   ]
  },
  {
   "cell_type": "code",
   "execution_count": 9,
   "metadata": {
    "collapsed": true
   },
   "outputs": [
    {
     "name": "stderr",
     "output_type": "stream",
     "text": [
      "yt : [INFO     ] 2020-07-01 12:38:06,673 Parameters: current_time              = 0.1953125\n",
      "yt : [INFO     ] 2020-07-01 12:38:06,674 Parameters: domain_dimensions         = [256 256   1]\n",
      "yt : [INFO     ] 2020-07-01 12:38:06,675 Parameters: domain_left_edge          = [-50. -50.   0.]\n",
      "yt : [INFO     ] 2020-07-01 12:38:06,677 Parameters: domain_right_edge         = [ 50.  50.   1.]\n",
      "yt : [INFO     ] 2020-07-01 12:38:06,784 xlim = -50.000000 50.000000\n",
      "yt : [INFO     ] 2020-07-01 12:38:06,784 ylim = -50.000000 50.000000\n",
      "yt : [INFO     ] 2020-07-01 12:38:06,785 xlim = -50.000000 50.000000\n",
      "yt : [INFO     ] 2020-07-01 12:38:06,786 ylim = -50.000000 50.000000\n",
      "yt : [INFO     ] 2020-07-01 12:38:06,786 Making a fixed resolution buffer of (('boxlib', 'Psi')) 800 by 800\n",
      "yt : [WARNING  ] 2020-07-01 12:38:06,811 Plot image for field ('boxlib', 'Psi') has both positive and negative values. Min = -0.000000, Max = 0.896248.\n",
      "yt : [WARNING  ] 2020-07-01 12:38:06,812 Switching to symlog colorbar scaling unless linear scaling is specified later\n",
      "yt : [INFO     ] 2020-07-01 12:38:07,004 Making a fixed resolution buffer of (('boxlib', 'Psi')) 800 by 800\n",
      "yt : [WARNING  ] 2020-07-01 12:38:07,089 Supplied id_loc but draw_ids is False. Not drawing grid ids\n",
      "yt : [WARNING  ] 2020-07-01 12:38:07,091 Supplied id_loc but draw_ids is False. Not drawing grid ids\n",
      "yt : [WARNING  ] 2020-07-01 12:38:07,092 Supplied id_loc but draw_ids is False. Not drawing grid ids\n",
      "yt : [WARNING  ] 2020-07-01 12:38:07,094 Supplied id_loc but draw_ids is False. Not drawing grid ids\n",
      "yt : [WARNING  ] 2020-07-01 12:38:07,096 Supplied id_loc but draw_ids is False. Not drawing grid ids\n",
      "yt : [WARNING  ] 2020-07-01 12:38:07,098 Supplied id_loc but draw_ids is False. Not drawing grid ids\n",
      "yt : [WARNING  ] 2020-07-01 12:38:07,099 Supplied id_loc but draw_ids is False. Not drawing grid ids\n",
      "yt : [WARNING  ] 2020-07-01 12:38:07,101 Supplied id_loc but draw_ids is False. Not drawing grid ids\n",
      "yt : [WARNING  ] 2020-07-01 12:38:07,103 Supplied id_loc but draw_ids is False. Not drawing grid ids\n",
      "yt : [INFO     ] 2020-07-01 12:38:07,103 Saving plot img00001.png\n"
     ]
    },
    {
     "name": "stdout",
     "output_type": "stream",
     "text": [
      "plt0000001\n",
      "img00001.png\n"
     ]
    },
    {
     "name": "stderr",
     "output_type": "stream",
     "text": [
      "yt : [INFO     ] 2020-07-01 12:38:07,267 Parameters: current_time              = 0.390625\n",
      "yt : [INFO     ] 2020-07-01 12:38:07,268 Parameters: domain_dimensions         = [256 256   1]\n",
      "yt : [INFO     ] 2020-07-01 12:38:07,268 Parameters: domain_left_edge          = [-50. -50.   0.]\n",
      "yt : [INFO     ] 2020-07-01 12:38:07,269 Parameters: domain_right_edge         = [ 50.  50.   1.]\n",
      "yt : [INFO     ] 2020-07-01 12:38:07,370 xlim = -50.000000 50.000000\n",
      "yt : [INFO     ] 2020-07-01 12:38:07,371 ylim = -50.000000 50.000000\n",
      "yt : [INFO     ] 2020-07-01 12:38:07,372 xlim = -50.000000 50.000000\n",
      "yt : [INFO     ] 2020-07-01 12:38:07,372 ylim = -50.000000 50.000000\n",
      "yt : [INFO     ] 2020-07-01 12:38:07,373 Making a fixed resolution buffer of (('boxlib', 'Psi')) 800 by 800\n",
      "yt : [WARNING  ] 2020-07-01 12:38:07,398 Plot image for field ('boxlib', 'Psi') has both positive and negative values. Min = -0.000000, Max = 0.650585.\n",
      "yt : [WARNING  ] 2020-07-01 12:38:07,398 Switching to symlog colorbar scaling unless linear scaling is specified later\n",
      "yt : [INFO     ] 2020-07-01 12:38:07,478 Making a fixed resolution buffer of (('boxlib', 'Psi')) 800 by 800\n",
      "yt : [WARNING  ] 2020-07-01 12:38:07,562 Supplied id_loc but draw_ids is False. Not drawing grid ids\n",
      "yt : [WARNING  ] 2020-07-01 12:38:07,564 Supplied id_loc but draw_ids is False. Not drawing grid ids\n",
      "yt : [WARNING  ] 2020-07-01 12:38:07,566 Supplied id_loc but draw_ids is False. Not drawing grid ids\n",
      "yt : [WARNING  ] 2020-07-01 12:38:07,567 Supplied id_loc but draw_ids is False. Not drawing grid ids\n",
      "yt : [WARNING  ] 2020-07-01 12:38:07,571 Supplied id_loc but draw_ids is False. Not drawing grid ids\n",
      "yt : [WARNING  ] 2020-07-01 12:38:07,573 Supplied id_loc but draw_ids is False. Not drawing grid ids\n",
      "yt : [WARNING  ] 2020-07-01 12:38:07,575 Supplied id_loc but draw_ids is False. Not drawing grid ids\n",
      "yt : [WARNING  ] 2020-07-01 12:38:07,576 Supplied id_loc but draw_ids is False. Not drawing grid ids\n",
      "yt : [WARNING  ] 2020-07-01 12:38:07,578 Supplied id_loc but draw_ids is False. Not drawing grid ids\n",
      "yt : [INFO     ] 2020-07-01 12:38:07,578 Saving plot img00002.png\n"
     ]
    },
    {
     "name": "stdout",
     "output_type": "stream",
     "text": [
      "plt0000002\n",
      "img00002.png\n"
     ]
    },
    {
     "name": "stderr",
     "output_type": "stream",
     "text": [
      "yt : [INFO     ] 2020-07-01 12:38:07,740 Parameters: current_time              = 0.5859375\n",
      "yt : [INFO     ] 2020-07-01 12:38:07,740 Parameters: domain_dimensions         = [256 256   1]\n",
      "yt : [INFO     ] 2020-07-01 12:38:07,741 Parameters: domain_left_edge          = [-50. -50.   0.]\n",
      "yt : [INFO     ] 2020-07-01 12:38:07,742 Parameters: domain_right_edge         = [ 50.  50.   1.]\n",
      "yt : [INFO     ] 2020-07-01 12:38:07,842 xlim = -50.000000 50.000000\n",
      "yt : [INFO     ] 2020-07-01 12:38:07,842 ylim = -50.000000 50.000000\n",
      "yt : [INFO     ] 2020-07-01 12:38:07,843 xlim = -50.000000 50.000000\n",
      "yt : [INFO     ] 2020-07-01 12:38:07,844 ylim = -50.000000 50.000000\n",
      "yt : [INFO     ] 2020-07-01 12:38:07,845 Making a fixed resolution buffer of (('boxlib', 'Psi')) 800 by 800\n",
      "yt : [WARNING  ] 2020-07-01 12:38:07,870 Plot image for field ('boxlib', 'Psi') has both positive and negative values. Min = -0.000001, Max = 0.327555.\n",
      "yt : [WARNING  ] 2020-07-01 12:38:07,870 Switching to symlog colorbar scaling unless linear scaling is specified later\n",
      "yt : [INFO     ] 2020-07-01 12:38:07,946 Making a fixed resolution buffer of (('boxlib', 'Psi')) 800 by 800\n",
      "yt : [WARNING  ] 2020-07-01 12:38:08,030 Supplied id_loc but draw_ids is False. Not drawing grid ids\n",
      "yt : [WARNING  ] 2020-07-01 12:38:08,031 Supplied id_loc but draw_ids is False. Not drawing grid ids\n",
      "yt : [WARNING  ] 2020-07-01 12:38:08,033 Supplied id_loc but draw_ids is False. Not drawing grid ids\n",
      "yt : [WARNING  ] 2020-07-01 12:38:08,035 Supplied id_loc but draw_ids is False. Not drawing grid ids\n",
      "yt : [WARNING  ] 2020-07-01 12:38:08,037 Supplied id_loc but draw_ids is False. Not drawing grid ids\n",
      "yt : [WARNING  ] 2020-07-01 12:38:08,039 Supplied id_loc but draw_ids is False. Not drawing grid ids\n",
      "yt : [WARNING  ] 2020-07-01 12:38:08,041 Supplied id_loc but draw_ids is False. Not drawing grid ids\n",
      "yt : [WARNING  ] 2020-07-01 12:38:08,042 Supplied id_loc but draw_ids is False. Not drawing grid ids\n",
      "yt : [WARNING  ] 2020-07-01 12:38:08,044 Supplied id_loc but draw_ids is False. Not drawing grid ids\n",
      "yt : [INFO     ] 2020-07-01 12:38:08,045 Saving plot img00003.png\n"
     ]
    },
    {
     "name": "stdout",
     "output_type": "stream",
     "text": [
      "plt0000003\n",
      "img00003.png\n"
     ]
    },
    {
     "name": "stderr",
     "output_type": "stream",
     "text": [
      "yt : [INFO     ] 2020-07-01 12:38:08,205 Parameters: current_time              = 0.78125\n",
      "yt : [INFO     ] 2020-07-01 12:38:08,206 Parameters: domain_dimensions         = [256 256   1]\n",
      "yt : [INFO     ] 2020-07-01 12:38:08,206 Parameters: domain_left_edge          = [-50. -50.   0.]\n",
      "yt : [INFO     ] 2020-07-01 12:38:08,207 Parameters: domain_right_edge         = [ 50.  50.   1.]\n",
      "yt : [INFO     ] 2020-07-01 12:38:08,307 xlim = -50.000000 50.000000\n",
      "yt : [INFO     ] 2020-07-01 12:38:08,308 ylim = -50.000000 50.000000\n",
      "yt : [INFO     ] 2020-07-01 12:38:08,309 xlim = -50.000000 50.000000\n",
      "yt : [INFO     ] 2020-07-01 12:38:08,309 ylim = -50.000000 50.000000\n",
      "yt : [INFO     ] 2020-07-01 12:38:08,310 Making a fixed resolution buffer of (('boxlib', 'Psi')) 800 by 800\n",
      "yt : [WARNING  ] 2020-07-01 12:38:08,335 Plot image for field ('boxlib', 'Psi') has both positive and negative values. Min = -0.015302, Max = 0.207359.\n",
      "yt : [WARNING  ] 2020-07-01 12:38:08,335 Switching to symlog colorbar scaling unless linear scaling is specified later\n",
      "yt : [INFO     ] 2020-07-01 12:38:08,524 Making a fixed resolution buffer of (('boxlib', 'Psi')) 800 by 800\n",
      "yt : [WARNING  ] 2020-07-01 12:38:08,609 Supplied id_loc but draw_ids is False. Not drawing grid ids\n",
      "yt : [WARNING  ] 2020-07-01 12:38:08,611 Supplied id_loc but draw_ids is False. Not drawing grid ids\n",
      "yt : [WARNING  ] 2020-07-01 12:38:08,613 Supplied id_loc but draw_ids is False. Not drawing grid ids\n",
      "yt : [WARNING  ] 2020-07-01 12:38:08,615 Supplied id_loc but draw_ids is False. Not drawing grid ids\n",
      "yt : [WARNING  ] 2020-07-01 12:38:08,616 Supplied id_loc but draw_ids is False. Not drawing grid ids\n",
      "yt : [WARNING  ] 2020-07-01 12:38:08,618 Supplied id_loc but draw_ids is False. Not drawing grid ids\n",
      "yt : [WARNING  ] 2020-07-01 12:38:08,620 Supplied id_loc but draw_ids is False. Not drawing grid ids\n",
      "yt : [WARNING  ] 2020-07-01 12:38:08,622 Supplied id_loc but draw_ids is False. Not drawing grid ids\n",
      "yt : [WARNING  ] 2020-07-01 12:38:08,624 Supplied id_loc but draw_ids is False. Not drawing grid ids\n",
      "yt : [INFO     ] 2020-07-01 12:38:08,624 Saving plot img00004.png\n"
     ]
    },
    {
     "name": "stdout",
     "output_type": "stream",
     "text": [
      "plt0000004\n",
      "img00004.png\n"
     ]
    },
    {
     "name": "stderr",
     "output_type": "stream",
     "text": [
      "yt : [INFO     ] 2020-07-01 12:38:08,786 Parameters: current_time              = 0.9765625\n",
      "yt : [INFO     ] 2020-07-01 12:38:08,787 Parameters: domain_dimensions         = [256 256   1]\n",
      "yt : [INFO     ] 2020-07-01 12:38:08,787 Parameters: domain_left_edge          = [-50. -50.   0.]\n",
      "yt : [INFO     ] 2020-07-01 12:38:08,788 Parameters: domain_right_edge         = [ 50.  50.   1.]\n",
      "yt : [INFO     ] 2020-07-01 12:38:08,891 xlim = -50.000000 50.000000\n",
      "yt : [INFO     ] 2020-07-01 12:38:08,891 ylim = -50.000000 50.000000\n",
      "yt : [INFO     ] 2020-07-01 12:38:08,892 xlim = -50.000000 50.000000\n",
      "yt : [INFO     ] 2020-07-01 12:38:08,893 ylim = -50.000000 50.000000\n",
      "yt : [INFO     ] 2020-07-01 12:38:08,893 Making a fixed resolution buffer of (('boxlib', 'Psi')) 800 by 800\n",
      "yt : [WARNING  ] 2020-07-01 12:38:08,919 Plot image for field ('boxlib', 'Psi') has both positive and negative values. Min = -0.283478, Max = 0.168500.\n",
      "yt : [WARNING  ] 2020-07-01 12:38:08,919 Switching to symlog colorbar scaling unless linear scaling is specified later\n",
      "yt : [INFO     ] 2020-07-01 12:38:09,005 Making a fixed resolution buffer of (('boxlib', 'Psi')) 800 by 800\n",
      "yt : [WARNING  ] 2020-07-01 12:38:09,086 Supplied id_loc but draw_ids is False. Not drawing grid ids\n",
      "yt : [WARNING  ] 2020-07-01 12:38:09,088 Supplied id_loc but draw_ids is False. Not drawing grid ids\n",
      "yt : [WARNING  ] 2020-07-01 12:38:09,090 Supplied id_loc but draw_ids is False. Not drawing grid ids\n",
      "yt : [WARNING  ] 2020-07-01 12:38:09,092 Supplied id_loc but draw_ids is False. Not drawing grid ids\n",
      "yt : [WARNING  ] 2020-07-01 12:38:09,094 Supplied id_loc but draw_ids is False. Not drawing grid ids\n",
      "yt : [WARNING  ] 2020-07-01 12:38:09,096 Supplied id_loc but draw_ids is False. Not drawing grid ids\n",
      "yt : [WARNING  ] 2020-07-01 12:38:09,097 Supplied id_loc but draw_ids is False. Not drawing grid ids\n",
      "yt : [WARNING  ] 2020-07-01 12:38:09,099 Supplied id_loc but draw_ids is False. Not drawing grid ids\n",
      "yt : [WARNING  ] 2020-07-01 12:38:09,101 Supplied id_loc but draw_ids is False. Not drawing grid ids\n",
      "yt : [INFO     ] 2020-07-01 12:38:09,101 Saving plot img00005.png\n"
     ]
    },
    {
     "name": "stdout",
     "output_type": "stream",
     "text": [
      "plt0000005\n",
      "img00005.png\n"
     ]
    },
    {
     "name": "stderr",
     "output_type": "stream",
     "text": [
      "yt : [INFO     ] 2020-07-01 12:38:09,264 Parameters: current_time              = 1.171875\n",
      "yt : [INFO     ] 2020-07-01 12:38:09,264 Parameters: domain_dimensions         = [256 256   1]\n",
      "yt : [INFO     ] 2020-07-01 12:38:09,265 Parameters: domain_left_edge          = [-50. -50.   0.]\n",
      "yt : [INFO     ] 2020-07-01 12:38:09,266 Parameters: domain_right_edge         = [ 50.  50.   1.]\n",
      "yt : [INFO     ] 2020-07-01 12:38:09,366 xlim = -50.000000 50.000000\n",
      "yt : [INFO     ] 2020-07-01 12:38:09,366 ylim = -50.000000 50.000000\n",
      "yt : [INFO     ] 2020-07-01 12:38:09,367 xlim = -50.000000 50.000000\n",
      "yt : [INFO     ] 2020-07-01 12:38:09,368 ylim = -50.000000 50.000000\n",
      "yt : [INFO     ] 2020-07-01 12:38:09,369 Making a fixed resolution buffer of (('boxlib', 'Psi')) 800 by 800\n",
      "yt : [WARNING  ] 2020-07-01 12:38:09,394 Plot image for field ('boxlib', 'Psi') has both positive and negative values. Min = -0.450158, Max = 0.145554.\n",
      "yt : [WARNING  ] 2020-07-01 12:38:09,395 Switching to symlog colorbar scaling unless linear scaling is specified later\n",
      "yt : [INFO     ] 2020-07-01 12:38:09,482 Making a fixed resolution buffer of (('boxlib', 'Psi')) 800 by 800\n",
      "yt : [WARNING  ] 2020-07-01 12:38:09,564 Supplied id_loc but draw_ids is False. Not drawing grid ids\n",
      "yt : [WARNING  ] 2020-07-01 12:38:09,566 Supplied id_loc but draw_ids is False. Not drawing grid ids\n",
      "yt : [WARNING  ] 2020-07-01 12:38:09,568 Supplied id_loc but draw_ids is False. Not drawing grid ids\n",
      "yt : [WARNING  ] 2020-07-01 12:38:09,570 Supplied id_loc but draw_ids is False. Not drawing grid ids\n",
      "yt : [WARNING  ] 2020-07-01 12:38:09,571 Supplied id_loc but draw_ids is False. Not drawing grid ids\n",
      "yt : [WARNING  ] 2020-07-01 12:38:09,573 Supplied id_loc but draw_ids is False. Not drawing grid ids\n",
      "yt : [WARNING  ] 2020-07-01 12:38:09,575 Supplied id_loc but draw_ids is False. Not drawing grid ids\n",
      "yt : [WARNING  ] 2020-07-01 12:38:09,577 Supplied id_loc but draw_ids is False. Not drawing grid ids\n",
      "yt : [WARNING  ] 2020-07-01 12:38:09,578 Supplied id_loc but draw_ids is False. Not drawing grid ids\n",
      "yt : [INFO     ] 2020-07-01 12:38:09,579 Saving plot img00006.png\n"
     ]
    },
    {
     "name": "stdout",
     "output_type": "stream",
     "text": [
      "plt0000006\n",
      "img00006.png\n"
     ]
    },
    {
     "name": "stderr",
     "output_type": "stream",
     "text": [
      "yt : [INFO     ] 2020-07-01 12:38:09,834 Parameters: current_time              = 1.3671875\n",
      "yt : [INFO     ] 2020-07-01 12:38:09,835 Parameters: domain_dimensions         = [256 256   1]\n",
      "yt : [INFO     ] 2020-07-01 12:38:09,835 Parameters: domain_left_edge          = [-50. -50.   0.]\n",
      "yt : [INFO     ] 2020-07-01 12:38:09,836 Parameters: domain_right_edge         = [ 50.  50.   1.]\n",
      "yt : [INFO     ] 2020-07-01 12:38:09,937 xlim = -50.000000 50.000000\n",
      "yt : [INFO     ] 2020-07-01 12:38:09,937 ylim = -50.000000 50.000000\n",
      "yt : [INFO     ] 2020-07-01 12:38:09,938 xlim = -50.000000 50.000000\n",
      "yt : [INFO     ] 2020-07-01 12:38:09,939 ylim = -50.000000 50.000000\n",
      "yt : [INFO     ] 2020-07-01 12:38:09,940 Making a fixed resolution buffer of (('boxlib', 'Psi')) 800 by 800\n",
      "yt : [WARNING  ] 2020-07-01 12:38:09,966 Plot image for field ('boxlib', 'Psi') has both positive and negative values. Min = -0.514522, Max = 0.127883.\n",
      "yt : [WARNING  ] 2020-07-01 12:38:09,967 Switching to symlog colorbar scaling unless linear scaling is specified later\n",
      "yt : [INFO     ] 2020-07-01 12:38:10,057 Making a fixed resolution buffer of (('boxlib', 'Psi')) 800 by 800\n",
      "yt : [WARNING  ] 2020-07-01 12:38:10,140 Supplied id_loc but draw_ids is False. Not drawing grid ids\n",
      "yt : [WARNING  ] 2020-07-01 12:38:10,142 Supplied id_loc but draw_ids is False. Not drawing grid ids\n",
      "yt : [WARNING  ] 2020-07-01 12:38:10,144 Supplied id_loc but draw_ids is False. Not drawing grid ids\n",
      "yt : [WARNING  ] 2020-07-01 12:38:10,146 Supplied id_loc but draw_ids is False. Not drawing grid ids\n",
      "yt : [WARNING  ] 2020-07-01 12:38:10,148 Supplied id_loc but draw_ids is False. Not drawing grid ids\n",
      "yt : [WARNING  ] 2020-07-01 12:38:10,149 Supplied id_loc but draw_ids is False. Not drawing grid ids\n",
      "yt : [WARNING  ] 2020-07-01 12:38:10,151 Supplied id_loc but draw_ids is False. Not drawing grid ids\n",
      "yt : [WARNING  ] 2020-07-01 12:38:10,153 Supplied id_loc but draw_ids is False. Not drawing grid ids\n",
      "yt : [WARNING  ] 2020-07-01 12:38:10,155 Supplied id_loc but draw_ids is False. Not drawing grid ids\n",
      "yt : [INFO     ] 2020-07-01 12:38:10,155 Saving plot img00007.png\n"
     ]
    },
    {
     "name": "stdout",
     "output_type": "stream",
     "text": [
      "plt0000007\n",
      "img00007.png\n"
     ]
    },
    {
     "name": "stderr",
     "output_type": "stream",
     "text": [
      "yt : [INFO     ] 2020-07-01 12:38:10,318 Parameters: current_time              = 1.5625\n",
      "yt : [INFO     ] 2020-07-01 12:38:10,319 Parameters: domain_dimensions         = [256 256   1]\n",
      "yt : [INFO     ] 2020-07-01 12:38:10,319 Parameters: domain_left_edge          = [-50. -50.   0.]\n",
      "yt : [INFO     ] 2020-07-01 12:38:10,320 Parameters: domain_right_edge         = [ 50.  50.   1.]\n",
      "yt : [INFO     ] 2020-07-01 12:38:10,422 xlim = -50.000000 50.000000\n",
      "yt : [INFO     ] 2020-07-01 12:38:10,422 ylim = -50.000000 50.000000\n",
      "yt : [INFO     ] 2020-07-01 12:38:10,423 xlim = -50.000000 50.000000\n",
      "yt : [INFO     ] 2020-07-01 12:38:10,424 ylim = -50.000000 50.000000\n",
      "yt : [INFO     ] 2020-07-01 12:38:10,424 Making a fixed resolution buffer of (('boxlib', 'Psi')) 800 by 800\n",
      "yt : [WARNING  ] 2020-07-01 12:38:10,450 Plot image for field ('boxlib', 'Psi') has both positive and negative values. Min = -0.499321, Max = 0.113134.\n",
      "yt : [WARNING  ] 2020-07-01 12:38:10,450 Switching to symlog colorbar scaling unless linear scaling is specified later\n",
      "yt : [INFO     ] 2020-07-01 12:38:10,538 Making a fixed resolution buffer of (('boxlib', 'Psi')) 800 by 800\n",
      "yt : [WARNING  ] 2020-07-01 12:38:10,621 Supplied id_loc but draw_ids is False. Not drawing grid ids\n",
      "yt : [WARNING  ] 2020-07-01 12:38:10,623 Supplied id_loc but draw_ids is False. Not drawing grid ids\n",
      "yt : [WARNING  ] 2020-07-01 12:38:10,625 Supplied id_loc but draw_ids is False. Not drawing grid ids\n",
      "yt : [WARNING  ] 2020-07-01 12:38:10,626 Supplied id_loc but draw_ids is False. Not drawing grid ids\n",
      "yt : [WARNING  ] 2020-07-01 12:38:10,628 Supplied id_loc but draw_ids is False. Not drawing grid ids\n",
      "yt : [WARNING  ] 2020-07-01 12:38:10,630 Supplied id_loc but draw_ids is False. Not drawing grid ids\n",
      "yt : [WARNING  ] 2020-07-01 12:38:10,632 Supplied id_loc but draw_ids is False. Not drawing grid ids\n",
      "yt : [WARNING  ] 2020-07-01 12:38:10,633 Supplied id_loc but draw_ids is False. Not drawing grid ids\n",
      "yt : [WARNING  ] 2020-07-01 12:38:10,635 Supplied id_loc but draw_ids is False. Not drawing grid ids\n",
      "yt : [INFO     ] 2020-07-01 12:38:10,636 Saving plot img00008.png\n"
     ]
    },
    {
     "name": "stdout",
     "output_type": "stream",
     "text": [
      "plt0000008\n",
      "img00008.png\n"
     ]
    },
    {
     "name": "stderr",
     "output_type": "stream",
     "text": [
      "yt : [INFO     ] 2020-07-01 12:38:10,798 Parameters: current_time              = 1.7578125\n",
      "yt : [INFO     ] 2020-07-01 12:38:10,798 Parameters: domain_dimensions         = [256 256   1]\n",
      "yt : [INFO     ] 2020-07-01 12:38:10,799 Parameters: domain_left_edge          = [-50. -50.   0.]\n",
      "yt : [INFO     ] 2020-07-01 12:38:10,800 Parameters: domain_right_edge         = [ 50.  50.   1.]\n",
      "yt : [INFO     ] 2020-07-01 12:38:10,901 xlim = -50.000000 50.000000\n",
      "yt : [INFO     ] 2020-07-01 12:38:10,902 ylim = -50.000000 50.000000\n",
      "yt : [INFO     ] 2020-07-01 12:38:10,903 xlim = -50.000000 50.000000\n",
      "yt : [INFO     ] 2020-07-01 12:38:10,903 ylim = -50.000000 50.000000\n",
      "yt : [INFO     ] 2020-07-01 12:38:10,904 Making a fixed resolution buffer of (('boxlib', 'Psi')) 800 by 800\n",
      "yt : [WARNING  ] 2020-07-01 12:38:10,930 Plot image for field ('boxlib', 'Psi') has both positive and negative values. Min = -0.435726, Max = 0.100804.\n",
      "yt : [WARNING  ] 2020-07-01 12:38:10,930 Switching to symlog colorbar scaling unless linear scaling is specified later\n",
      "yt : [INFO     ] 2020-07-01 12:38:11,125 Making a fixed resolution buffer of (('boxlib', 'Psi')) 800 by 800\n",
      "yt : [WARNING  ] 2020-07-01 12:38:11,209 Supplied id_loc but draw_ids is False. Not drawing grid ids\n",
      "yt : [WARNING  ] 2020-07-01 12:38:11,210 Supplied id_loc but draw_ids is False. Not drawing grid ids\n",
      "yt : [WARNING  ] 2020-07-01 12:38:11,212 Supplied id_loc but draw_ids is False. Not drawing grid ids\n",
      "yt : [WARNING  ] 2020-07-01 12:38:11,214 Supplied id_loc but draw_ids is False. Not drawing grid ids\n",
      "yt : [WARNING  ] 2020-07-01 12:38:11,216 Supplied id_loc but draw_ids is False. Not drawing grid ids\n",
      "yt : [WARNING  ] 2020-07-01 12:38:11,218 Supplied id_loc but draw_ids is False. Not drawing grid ids\n",
      "yt : [WARNING  ] 2020-07-01 12:38:11,219 Supplied id_loc but draw_ids is False. Not drawing grid ids\n",
      "yt : [WARNING  ] 2020-07-01 12:38:11,221 Supplied id_loc but draw_ids is False. Not drawing grid ids\n",
      "yt : [WARNING  ] 2020-07-01 12:38:11,223 Supplied id_loc but draw_ids is False. Not drawing grid ids\n",
      "yt : [INFO     ] 2020-07-01 12:38:11,224 Saving plot img00009.png\n"
     ]
    },
    {
     "name": "stdout",
     "output_type": "stream",
     "text": [
      "plt0000009\n",
      "img00009.png\n"
     ]
    },
    {
     "name": "stderr",
     "output_type": "stream",
     "text": [
      "yt : [INFO     ] 2020-07-01 12:38:11,388 Parameters: current_time              = 1.953125\n",
      "yt : [INFO     ] 2020-07-01 12:38:11,388 Parameters: domain_dimensions         = [256 256   1]\n",
      "yt : [INFO     ] 2020-07-01 12:38:11,389 Parameters: domain_left_edge          = [-50. -50.   0.]\n",
      "yt : [INFO     ] 2020-07-01 12:38:11,389 Parameters: domain_right_edge         = [ 50.  50.   1.]\n",
      "yt : [INFO     ] 2020-07-01 12:38:11,490 xlim = -50.000000 50.000000\n",
      "yt : [INFO     ] 2020-07-01 12:38:11,491 ylim = -50.000000 50.000000\n",
      "yt : [INFO     ] 2020-07-01 12:38:11,492 xlim = -50.000000 50.000000\n",
      "yt : [INFO     ] 2020-07-01 12:38:11,492 ylim = -50.000000 50.000000\n",
      "yt : [INFO     ] 2020-07-01 12:38:11,493 Making a fixed resolution buffer of (('boxlib', 'Psi')) 800 by 800\n",
      "yt : [WARNING  ] 2020-07-01 12:38:11,518 Plot image for field ('boxlib', 'Psi') has both positive and negative values. Min = -0.369830, Max = 0.090201.\n",
      "yt : [WARNING  ] 2020-07-01 12:38:11,518 Switching to symlog colorbar scaling unless linear scaling is specified later\n",
      "yt : [INFO     ] 2020-07-01 12:38:11,605 Making a fixed resolution buffer of (('boxlib', 'Psi')) 800 by 800\n",
      "yt : [WARNING  ] 2020-07-01 12:38:11,686 Supplied id_loc but draw_ids is False. Not drawing grid ids\n",
      "yt : [WARNING  ] 2020-07-01 12:38:11,688 Supplied id_loc but draw_ids is False. Not drawing grid ids\n",
      "yt : [WARNING  ] 2020-07-01 12:38:11,689 Supplied id_loc but draw_ids is False. Not drawing grid ids\n",
      "yt : [WARNING  ] 2020-07-01 12:38:11,692 Supplied id_loc but draw_ids is False. Not drawing grid ids\n",
      "yt : [WARNING  ] 2020-07-01 12:38:11,693 Supplied id_loc but draw_ids is False. Not drawing grid ids\n",
      "yt : [WARNING  ] 2020-07-01 12:38:11,695 Supplied id_loc but draw_ids is False. Not drawing grid ids\n",
      "yt : [WARNING  ] 2020-07-01 12:38:11,697 Supplied id_loc but draw_ids is False. Not drawing grid ids\n",
      "yt : [WARNING  ] 2020-07-01 12:38:11,699 Supplied id_loc but draw_ids is False. Not drawing grid ids\n",
      "yt : [WARNING  ] 2020-07-01 12:38:11,701 Supplied id_loc but draw_ids is False. Not drawing grid ids\n",
      "yt : [INFO     ] 2020-07-01 12:38:11,701 Saving plot img00010.png\n"
     ]
    },
    {
     "name": "stdout",
     "output_type": "stream",
     "text": [
      "plt0000010\n",
      "img00010.png\n"
     ]
    },
    {
     "name": "stderr",
     "output_type": "stream",
     "text": [
      "yt : [INFO     ] 2020-07-01 12:38:11,864 Parameters: current_time              = 2.1484375\n",
      "yt : [INFO     ] 2020-07-01 12:38:11,865 Parameters: domain_dimensions         = [256 256   1]\n",
      "yt : [INFO     ] 2020-07-01 12:38:11,865 Parameters: domain_left_edge          = [-50. -50.   0.]\n",
      "yt : [INFO     ] 2020-07-01 12:38:11,866 Parameters: domain_right_edge         = [ 50.  50.   1.]\n",
      "yt : [INFO     ] 2020-07-01 12:38:11,966 xlim = -50.000000 50.000000\n",
      "yt : [INFO     ] 2020-07-01 12:38:11,966 ylim = -50.000000 50.000000\n",
      "yt : [INFO     ] 2020-07-01 12:38:11,967 xlim = -50.000000 50.000000\n",
      "yt : [INFO     ] 2020-07-01 12:38:11,968 ylim = -50.000000 50.000000\n",
      "yt : [INFO     ] 2020-07-01 12:38:11,969 Making a fixed resolution buffer of (('boxlib', 'Psi')) 800 by 800\n",
      "yt : [WARNING  ] 2020-07-01 12:38:11,994 Plot image for field ('boxlib', 'Psi') has both positive and negative values. Min = -0.328164, Max = 0.081027.\n",
      "yt : [WARNING  ] 2020-07-01 12:38:11,995 Switching to symlog colorbar scaling unless linear scaling is specified later\n",
      "yt : [INFO     ] 2020-07-01 12:38:12,078 Making a fixed resolution buffer of (('boxlib', 'Psi')) 800 by 800\n",
      "yt : [WARNING  ] 2020-07-01 12:38:12,160 Supplied id_loc but draw_ids is False. Not drawing grid ids\n",
      "yt : [WARNING  ] 2020-07-01 12:38:12,162 Supplied id_loc but draw_ids is False. Not drawing grid ids\n",
      "yt : [WARNING  ] 2020-07-01 12:38:12,164 Supplied id_loc but draw_ids is False. Not drawing grid ids\n",
      "yt : [WARNING  ] 2020-07-01 12:38:12,166 Supplied id_loc but draw_ids is False. Not drawing grid ids\n",
      "yt : [WARNING  ] 2020-07-01 12:38:12,168 Supplied id_loc but draw_ids is False. Not drawing grid ids\n",
      "yt : [WARNING  ] 2020-07-01 12:38:12,170 Supplied id_loc but draw_ids is False. Not drawing grid ids\n",
      "yt : [WARNING  ] 2020-07-01 12:38:12,172 Supplied id_loc but draw_ids is False. Not drawing grid ids\n",
      "yt : [WARNING  ] 2020-07-01 12:38:12,174 Supplied id_loc but draw_ids is False. Not drawing grid ids\n",
      "yt : [WARNING  ] 2020-07-01 12:38:12,176 Supplied id_loc but draw_ids is False. Not drawing grid ids\n",
      "yt : [INFO     ] 2020-07-01 12:38:12,176 Saving plot img00011.png\n"
     ]
    },
    {
     "name": "stdout",
     "output_type": "stream",
     "text": [
      "plt0000011\n",
      "img00011.png\n"
     ]
    },
    {
     "name": "stderr",
     "output_type": "stream",
     "text": [
      "yt : [INFO     ] 2020-07-01 12:38:12,337 Parameters: current_time              = 2.34375\n",
      "yt : [INFO     ] 2020-07-01 12:38:12,338 Parameters: domain_dimensions         = [256 256   1]\n",
      "yt : [INFO     ] 2020-07-01 12:38:12,338 Parameters: domain_left_edge          = [-50. -50.   0.]\n",
      "yt : [INFO     ] 2020-07-01 12:38:12,339 Parameters: domain_right_edge         = [ 50.  50.   1.]\n",
      "yt : [INFO     ] 2020-07-01 12:38:12,550 xlim = -50.000000 50.000000\n",
      "yt : [INFO     ] 2020-07-01 12:38:12,550 ylim = -50.000000 50.000000\n",
      "yt : [INFO     ] 2020-07-01 12:38:12,551 xlim = -50.000000 50.000000\n",
      "yt : [INFO     ] 2020-07-01 12:38:12,552 ylim = -50.000000 50.000000\n",
      "yt : [INFO     ] 2020-07-01 12:38:12,553 Making a fixed resolution buffer of (('boxlib', 'Psi')) 800 by 800\n",
      "yt : [WARNING  ] 2020-07-01 12:38:12,579 Plot image for field ('boxlib', 'Psi') has both positive and negative values. Min = -0.297978, Max = 0.073044.\n",
      "yt : [WARNING  ] 2020-07-01 12:38:12,580 Switching to symlog colorbar scaling unless linear scaling is specified later\n",
      "yt : [INFO     ] 2020-07-01 12:38:12,662 Making a fixed resolution buffer of (('boxlib', 'Psi')) 800 by 800\n",
      "yt : [WARNING  ] 2020-07-01 12:38:12,745 Supplied id_loc but draw_ids is False. Not drawing grid ids\n",
      "yt : [WARNING  ] 2020-07-01 12:38:12,747 Supplied id_loc but draw_ids is False. Not drawing grid ids\n",
      "yt : [WARNING  ] 2020-07-01 12:38:12,749 Supplied id_loc but draw_ids is False. Not drawing grid ids\n",
      "yt : [WARNING  ] 2020-07-01 12:38:12,750 Supplied id_loc but draw_ids is False. Not drawing grid ids\n",
      "yt : [WARNING  ] 2020-07-01 12:38:12,752 Supplied id_loc but draw_ids is False. Not drawing grid ids\n",
      "yt : [WARNING  ] 2020-07-01 12:38:12,754 Supplied id_loc but draw_ids is False. Not drawing grid ids\n",
      "yt : [WARNING  ] 2020-07-01 12:38:12,756 Supplied id_loc but draw_ids is False. Not drawing grid ids\n",
      "yt : [WARNING  ] 2020-07-01 12:38:12,758 Supplied id_loc but draw_ids is False. Not drawing grid ids\n",
      "yt : [WARNING  ] 2020-07-01 12:38:12,760 Supplied id_loc but draw_ids is False. Not drawing grid ids\n",
      "yt : [INFO     ] 2020-07-01 12:38:12,761 Saving plot img00012.png\n"
     ]
    },
    {
     "name": "stdout",
     "output_type": "stream",
     "text": [
      "plt0000012\n",
      "img00012.png\n"
     ]
    },
    {
     "name": "stderr",
     "output_type": "stream",
     "text": [
      "yt : [INFO     ] 2020-07-01 12:38:12,924 Parameters: current_time              = 2.5390625\n",
      "yt : [INFO     ] 2020-07-01 12:38:12,924 Parameters: domain_dimensions         = [256 256   1]\n",
      "yt : [INFO     ] 2020-07-01 12:38:12,925 Parameters: domain_left_edge          = [-50. -50.   0.]\n",
      "yt : [INFO     ] 2020-07-01 12:38:12,925 Parameters: domain_right_edge         = [ 50.  50.   1.]\n",
      "yt : [INFO     ] 2020-07-01 12:38:13,027 xlim = -50.000000 50.000000\n",
      "yt : [INFO     ] 2020-07-01 12:38:13,028 ylim = -50.000000 50.000000\n",
      "yt : [INFO     ] 2020-07-01 12:38:13,029 xlim = -50.000000 50.000000\n",
      "yt : [INFO     ] 2020-07-01 12:38:13,029 ylim = -50.000000 50.000000\n",
      "yt : [INFO     ] 2020-07-01 12:38:13,030 Making a fixed resolution buffer of (('boxlib', 'Psi')) 800 by 800\n",
      "yt : [WARNING  ] 2020-07-01 12:38:13,056 Plot image for field ('boxlib', 'Psi') has both positive and negative values. Min = -0.273715, Max = 0.066100.\n",
      "yt : [WARNING  ] 2020-07-01 12:38:13,056 Switching to symlog colorbar scaling unless linear scaling is specified later\n",
      "yt : [INFO     ] 2020-07-01 12:38:13,135 Making a fixed resolution buffer of (('boxlib', 'Psi')) 800 by 800\n",
      "yt : [WARNING  ] 2020-07-01 12:38:13,217 Supplied id_loc but draw_ids is False. Not drawing grid ids\n",
      "yt : [WARNING  ] 2020-07-01 12:38:13,219 Supplied id_loc but draw_ids is False. Not drawing grid ids\n",
      "yt : [WARNING  ] 2020-07-01 12:38:13,221 Supplied id_loc but draw_ids is False. Not drawing grid ids\n",
      "yt : [WARNING  ] 2020-07-01 12:38:13,223 Supplied id_loc but draw_ids is False. Not drawing grid ids\n",
      "yt : [WARNING  ] 2020-07-01 12:38:13,225 Supplied id_loc but draw_ids is False. Not drawing grid ids\n",
      "yt : [WARNING  ] 2020-07-01 12:38:13,227 Supplied id_loc but draw_ids is False. Not drawing grid ids\n",
      "yt : [WARNING  ] 2020-07-01 12:38:13,229 Supplied id_loc but draw_ids is False. Not drawing grid ids\n",
      "yt : [WARNING  ] 2020-07-01 12:38:13,230 Supplied id_loc but draw_ids is False. Not drawing grid ids\n",
      "yt : [WARNING  ] 2020-07-01 12:38:13,232 Supplied id_loc but draw_ids is False. Not drawing grid ids\n",
      "yt : [INFO     ] 2020-07-01 12:38:13,233 Saving plot img00013.png\n"
     ]
    },
    {
     "name": "stdout",
     "output_type": "stream",
     "text": [
      "plt0000013\n",
      "img00013.png\n"
     ]
    },
    {
     "name": "stderr",
     "output_type": "stream",
     "text": [
      "yt : [INFO     ] 2020-07-01 12:38:13,396 Parameters: current_time              = 2.734375\n",
      "yt : [INFO     ] 2020-07-01 12:38:13,397 Parameters: domain_dimensions         = [256 256   1]\n",
      "yt : [INFO     ] 2020-07-01 12:38:13,397 Parameters: domain_left_edge          = [-50. -50.   0.]\n",
      "yt : [INFO     ] 2020-07-01 12:38:13,398 Parameters: domain_right_edge         = [ 50.  50.   1.]\n",
      "yt : [INFO     ] 2020-07-01 12:38:13,497 xlim = -50.000000 50.000000\n",
      "yt : [INFO     ] 2020-07-01 12:38:13,498 ylim = -50.000000 50.000000\n",
      "yt : [INFO     ] 2020-07-01 12:38:13,499 xlim = -50.000000 50.000000\n",
      "yt : [INFO     ] 2020-07-01 12:38:13,499 ylim = -50.000000 50.000000\n",
      "yt : [INFO     ] 2020-07-01 12:38:13,500 Making a fixed resolution buffer of (('boxlib', 'Psi')) 800 by 800\n",
      "yt : [WARNING  ] 2020-07-01 12:38:13,525 Plot image for field ('boxlib', 'Psi') has both positive and negative values. Min = -0.253524, Max = 0.059900.\n",
      "yt : [WARNING  ] 2020-07-01 12:38:13,526 Switching to symlog colorbar scaling unless linear scaling is specified later\n",
      "yt : [INFO     ] 2020-07-01 12:38:13,603 Making a fixed resolution buffer of (('boxlib', 'Psi')) 800 by 800\n",
      "yt : [WARNING  ] 2020-07-01 12:38:13,685 Supplied id_loc but draw_ids is False. Not drawing grid ids\n",
      "yt : [WARNING  ] 2020-07-01 12:38:13,687 Supplied id_loc but draw_ids is False. Not drawing grid ids\n",
      "yt : [WARNING  ] 2020-07-01 12:38:13,689 Supplied id_loc but draw_ids is False. Not drawing grid ids\n",
      "yt : [WARNING  ] 2020-07-01 12:38:13,691 Supplied id_loc but draw_ids is False. Not drawing grid ids\n",
      "yt : [WARNING  ] 2020-07-01 12:38:13,692 Supplied id_loc but draw_ids is False. Not drawing grid ids\n",
      "yt : [WARNING  ] 2020-07-01 12:38:13,694 Supplied id_loc but draw_ids is False. Not drawing grid ids\n",
      "yt : [WARNING  ] 2020-07-01 12:38:13,696 Supplied id_loc but draw_ids is False. Not drawing grid ids\n",
      "yt : [WARNING  ] 2020-07-01 12:38:13,698 Supplied id_loc but draw_ids is False. Not drawing grid ids\n",
      "yt : [WARNING  ] 2020-07-01 12:38:13,700 Supplied id_loc but draw_ids is False. Not drawing grid ids\n",
      "yt : [INFO     ] 2020-07-01 12:38:13,701 Saving plot img00014.png\n"
     ]
    },
    {
     "name": "stdout",
     "output_type": "stream",
     "text": [
      "plt0000014\n",
      "img00014.png\n"
     ]
    },
    {
     "name": "stderr",
     "output_type": "stream",
     "text": [
      "yt : [INFO     ] 2020-07-01 12:38:13,953 Parameters: current_time              = 2.9296875\n",
      "yt : [INFO     ] 2020-07-01 12:38:13,954 Parameters: domain_dimensions         = [256 256   1]\n",
      "yt : [INFO     ] 2020-07-01 12:38:13,955 Parameters: domain_left_edge          = [-50. -50.   0.]\n",
      "yt : [INFO     ] 2020-07-01 12:38:13,955 Parameters: domain_right_edge         = [ 50.  50.   1.]\n",
      "yt : [INFO     ] 2020-07-01 12:38:14,055 xlim = -50.000000 50.000000\n",
      "yt : [INFO     ] 2020-07-01 12:38:14,055 ylim = -50.000000 50.000000\n",
      "yt : [INFO     ] 2020-07-01 12:38:14,056 xlim = -50.000000 50.000000\n",
      "yt : [INFO     ] 2020-07-01 12:38:14,057 ylim = -50.000000 50.000000\n",
      "yt : [INFO     ] 2020-07-01 12:38:14,058 Making a fixed resolution buffer of (('boxlib', 'Psi')) 800 by 800\n",
      "yt : [WARNING  ] 2020-07-01 12:38:14,085 Plot image for field ('boxlib', 'Psi') has both positive and negative values. Min = -0.236019, Max = 0.054475.\n",
      "yt : [WARNING  ] 2020-07-01 12:38:14,086 Switching to symlog colorbar scaling unless linear scaling is specified later\n",
      "yt : [INFO     ] 2020-07-01 12:38:14,167 Making a fixed resolution buffer of (('boxlib', 'Psi')) 800 by 800\n",
      "yt : [WARNING  ] 2020-07-01 12:38:14,247 Supplied id_loc but draw_ids is False. Not drawing grid ids\n",
      "yt : [WARNING  ] 2020-07-01 12:38:14,249 Supplied id_loc but draw_ids is False. Not drawing grid ids\n",
      "yt : [WARNING  ] 2020-07-01 12:38:14,251 Supplied id_loc but draw_ids is False. Not drawing grid ids\n",
      "yt : [WARNING  ] 2020-07-01 12:38:14,253 Supplied id_loc but draw_ids is False. Not drawing grid ids\n",
      "yt : [WARNING  ] 2020-07-01 12:38:14,254 Supplied id_loc but draw_ids is False. Not drawing grid ids\n",
      "yt : [WARNING  ] 2020-07-01 12:38:14,258 Supplied id_loc but draw_ids is False. Not drawing grid ids\n",
      "yt : [WARNING  ] 2020-07-01 12:38:14,260 Supplied id_loc but draw_ids is False. Not drawing grid ids\n",
      "yt : [WARNING  ] 2020-07-01 12:38:14,261 Supplied id_loc but draw_ids is False. Not drawing grid ids\n",
      "yt : [WARNING  ] 2020-07-01 12:38:14,263 Supplied id_loc but draw_ids is False. Not drawing grid ids\n",
      "yt : [INFO     ] 2020-07-01 12:38:14,263 Saving plot img00015.png\n"
     ]
    },
    {
     "name": "stdout",
     "output_type": "stream",
     "text": [
      "plt0000015\n",
      "img00015.png\n"
     ]
    },
    {
     "name": "stderr",
     "output_type": "stream",
     "text": [
      "yt : [INFO     ] 2020-07-01 12:38:14,428 Parameters: current_time              = 3.125\n",
      "yt : [INFO     ] 2020-07-01 12:38:14,428 Parameters: domain_dimensions         = [256 256   1]\n",
      "yt : [INFO     ] 2020-07-01 12:38:14,428 Parameters: domain_left_edge          = [-50. -50.   0.]\n",
      "yt : [INFO     ] 2020-07-01 12:38:14,429 Parameters: domain_right_edge         = [ 50.  50.   1.]\n",
      "yt : [INFO     ] 2020-07-01 12:38:14,529 xlim = -50.000000 50.000000\n",
      "yt : [INFO     ] 2020-07-01 12:38:14,530 ylim = -50.000000 50.000000\n",
      "yt : [INFO     ] 2020-07-01 12:38:14,531 xlim = -50.000000 50.000000\n",
      "yt : [INFO     ] 2020-07-01 12:38:14,531 ylim = -50.000000 50.000000\n",
      "yt : [INFO     ] 2020-07-01 12:38:14,532 Making a fixed resolution buffer of (('boxlib', 'Psi')) 800 by 800\n",
      "yt : [WARNING  ] 2020-07-01 12:38:14,558 Plot image for field ('boxlib', 'Psi') has both positive and negative values. Min = -0.220669, Max = 0.049594.\n",
      "yt : [WARNING  ] 2020-07-01 12:38:14,558 Switching to symlog colorbar scaling unless linear scaling is specified later\n",
      "yt : [INFO     ] 2020-07-01 12:38:14,637 Making a fixed resolution buffer of (('boxlib', 'Psi')) 800 by 800\n",
      "yt : [WARNING  ] 2020-07-01 12:38:14,718 Supplied id_loc but draw_ids is False. Not drawing grid ids\n",
      "yt : [WARNING  ] 2020-07-01 12:38:14,720 Supplied id_loc but draw_ids is False. Not drawing grid ids\n",
      "yt : [WARNING  ] 2020-07-01 12:38:14,722 Supplied id_loc but draw_ids is False. Not drawing grid ids\n",
      "yt : [WARNING  ] 2020-07-01 12:38:14,724 Supplied id_loc but draw_ids is False. Not drawing grid ids\n",
      "yt : [WARNING  ] 2020-07-01 12:38:14,725 Supplied id_loc but draw_ids is False. Not drawing grid ids\n",
      "yt : [WARNING  ] 2020-07-01 12:38:14,727 Supplied id_loc but draw_ids is False. Not drawing grid ids\n",
      "yt : [WARNING  ] 2020-07-01 12:38:14,729 Supplied id_loc but draw_ids is False. Not drawing grid ids\n",
      "yt : [WARNING  ] 2020-07-01 12:38:14,731 Supplied id_loc but draw_ids is False. Not drawing grid ids\n",
      "yt : [WARNING  ] 2020-07-01 12:38:14,733 Supplied id_loc but draw_ids is False. Not drawing grid ids\n",
      "yt : [INFO     ] 2020-07-01 12:38:14,733 Saving plot img00016.png\n"
     ]
    },
    {
     "name": "stdout",
     "output_type": "stream",
     "text": [
      "plt0000016\n",
      "img00016.png\n"
     ]
    },
    {
     "name": "stderr",
     "output_type": "stream",
     "text": [
      "yt : [INFO     ] 2020-07-01 12:38:14,897 Parameters: current_time              = 3.3203125\n",
      "yt : [INFO     ] 2020-07-01 12:38:14,897 Parameters: domain_dimensions         = [256 256   1]\n",
      "yt : [INFO     ] 2020-07-01 12:38:14,898 Parameters: domain_left_edge          = [-50. -50.   0.]\n",
      "yt : [INFO     ] 2020-07-01 12:38:14,898 Parameters: domain_right_edge         = [ 50.  50.   1.]\n",
      "yt : [INFO     ] 2020-07-01 12:38:14,999 xlim = -50.000000 50.000000\n",
      "yt : [INFO     ] 2020-07-01 12:38:15,000 ylim = -50.000000 50.000000\n",
      "yt : [INFO     ] 2020-07-01 12:38:15,001 xlim = -50.000000 50.000000\n",
      "yt : [INFO     ] 2020-07-01 12:38:15,001 ylim = -50.000000 50.000000\n",
      "yt : [INFO     ] 2020-07-01 12:38:15,002 Making a fixed resolution buffer of (('boxlib', 'Psi')) 800 by 800\n",
      "yt : [WARNING  ] 2020-07-01 12:38:15,027 Plot image for field ('boxlib', 'Psi') has both positive and negative values. Min = -0.206857, Max = 0.052175.\n",
      "yt : [WARNING  ] 2020-07-01 12:38:15,028 Switching to symlog colorbar scaling unless linear scaling is specified later\n",
      "yt : [INFO     ] 2020-07-01 12:38:15,209 Making a fixed resolution buffer of (('boxlib', 'Psi')) 800 by 800\n",
      "yt : [WARNING  ] 2020-07-01 12:38:15,297 Supplied id_loc but draw_ids is False. Not drawing grid ids\n",
      "yt : [WARNING  ] 2020-07-01 12:38:15,299 Supplied id_loc but draw_ids is False. Not drawing grid ids\n",
      "yt : [WARNING  ] 2020-07-01 12:38:15,300 Supplied id_loc but draw_ids is False. Not drawing grid ids\n",
      "yt : [WARNING  ] 2020-07-01 12:38:15,302 Supplied id_loc but draw_ids is False. Not drawing grid ids\n",
      "yt : [WARNING  ] 2020-07-01 12:38:15,304 Supplied id_loc but draw_ids is False. Not drawing grid ids\n",
      "yt : [WARNING  ] 2020-07-01 12:38:15,305 Supplied id_loc but draw_ids is False. Not drawing grid ids\n",
      "yt : [WARNING  ] 2020-07-01 12:38:15,307 Supplied id_loc but draw_ids is False. Not drawing grid ids\n",
      "yt : [WARNING  ] 2020-07-01 12:38:15,309 Supplied id_loc but draw_ids is False. Not drawing grid ids\n",
      "yt : [WARNING  ] 2020-07-01 12:38:15,310 Supplied id_loc but draw_ids is False. Not drawing grid ids\n",
      "yt : [INFO     ] 2020-07-01 12:38:15,311 Saving plot img00017.png\n"
     ]
    },
    {
     "name": "stdout",
     "output_type": "stream",
     "text": [
      "plt0000017\n",
      "img00017.png\n"
     ]
    },
    {
     "name": "stderr",
     "output_type": "stream",
     "text": [
      "yt : [INFO     ] 2020-07-01 12:38:15,476 Parameters: current_time              = 3.515625\n",
      "yt : [INFO     ] 2020-07-01 12:38:15,477 Parameters: domain_dimensions         = [256 256   1]\n",
      "yt : [INFO     ] 2020-07-01 12:38:15,477 Parameters: domain_left_edge          = [-50. -50.   0.]\n",
      "yt : [INFO     ] 2020-07-01 12:38:15,478 Parameters: domain_right_edge         = [ 50.  50.   1.]\n",
      "yt : [INFO     ] 2020-07-01 12:38:15,580 xlim = -50.000000 50.000000\n",
      "yt : [INFO     ] 2020-07-01 12:38:15,580 ylim = -50.000000 50.000000\n",
      "yt : [INFO     ] 2020-07-01 12:38:15,581 xlim = -50.000000 50.000000\n",
      "yt : [INFO     ] 2020-07-01 12:38:15,582 ylim = -50.000000 50.000000\n",
      "yt : [INFO     ] 2020-07-01 12:38:15,582 Making a fixed resolution buffer of (('boxlib', 'Psi')) 800 by 800\n",
      "yt : [WARNING  ] 2020-07-01 12:38:15,608 Plot image for field ('boxlib', 'Psi') has both positive and negative values. Min = -0.194221, Max = 0.076711.\n",
      "yt : [WARNING  ] 2020-07-01 12:38:15,609 Switching to symlog colorbar scaling unless linear scaling is specified later\n",
      "yt : [INFO     ] 2020-07-01 12:38:15,691 Making a fixed resolution buffer of (('boxlib', 'Psi')) 800 by 800\n",
      "yt : [WARNING  ] 2020-07-01 12:38:15,772 Supplied id_loc but draw_ids is False. Not drawing grid ids\n",
      "yt : [WARNING  ] 2020-07-01 12:38:15,774 Supplied id_loc but draw_ids is False. Not drawing grid ids\n",
      "yt : [WARNING  ] 2020-07-01 12:38:15,776 Supplied id_loc but draw_ids is False. Not drawing grid ids\n",
      "yt : [WARNING  ] 2020-07-01 12:38:15,778 Supplied id_loc but draw_ids is False. Not drawing grid ids\n",
      "yt : [WARNING  ] 2020-07-01 12:38:15,779 Supplied id_loc but draw_ids is False. Not drawing grid ids\n",
      "yt : [WARNING  ] 2020-07-01 12:38:15,781 Supplied id_loc but draw_ids is False. Not drawing grid ids\n",
      "yt : [WARNING  ] 2020-07-01 12:38:15,783 Supplied id_loc but draw_ids is False. Not drawing grid ids\n",
      "yt : [WARNING  ] 2020-07-01 12:38:15,784 Supplied id_loc but draw_ids is False. Not drawing grid ids\n",
      "yt : [WARNING  ] 2020-07-01 12:38:15,786 Supplied id_loc but draw_ids is False. Not drawing grid ids\n",
      "yt : [INFO     ] 2020-07-01 12:38:15,786 Saving plot img00018.png\n"
     ]
    },
    {
     "name": "stdout",
     "output_type": "stream",
     "text": [
      "plt0000018\n",
      "img00018.png\n"
     ]
    },
    {
     "name": "stderr",
     "output_type": "stream",
     "text": [
      "yt : [INFO     ] 2020-07-01 12:38:15,951 Parameters: current_time              = 3.7109375\n",
      "yt : [INFO     ] 2020-07-01 12:38:15,952 Parameters: domain_dimensions         = [256 256   1]\n",
      "yt : [INFO     ] 2020-07-01 12:38:15,952 Parameters: domain_left_edge          = [-50. -50.   0.]\n",
      "yt : [INFO     ] 2020-07-01 12:38:15,953 Parameters: domain_right_edge         = [ 50.  50.   1.]\n",
      "yt : [INFO     ] 2020-07-01 12:38:16,052 xlim = -50.000000 50.000000\n",
      "yt : [INFO     ] 2020-07-01 12:38:16,052 ylim = -50.000000 50.000000\n",
      "yt : [INFO     ] 2020-07-01 12:38:16,054 xlim = -50.000000 50.000000\n",
      "yt : [INFO     ] 2020-07-01 12:38:16,054 ylim = -50.000000 50.000000\n",
      "yt : [INFO     ] 2020-07-01 12:38:16,055 Making a fixed resolution buffer of (('boxlib', 'Psi')) 800 by 800\n",
      "yt : [WARNING  ] 2020-07-01 12:38:16,080 Plot image for field ('boxlib', 'Psi') has both positive and negative values. Min = -0.182802, Max = 0.095418.\n",
      "yt : [WARNING  ] 2020-07-01 12:38:16,081 Switching to symlog colorbar scaling unless linear scaling is specified later\n",
      "yt : [INFO     ] 2020-07-01 12:38:16,164 Making a fixed resolution buffer of (('boxlib', 'Psi')) 800 by 800\n",
      "yt : [WARNING  ] 2020-07-01 12:38:16,245 Supplied id_loc but draw_ids is False. Not drawing grid ids\n",
      "yt : [WARNING  ] 2020-07-01 12:38:16,246 Supplied id_loc but draw_ids is False. Not drawing grid ids\n",
      "yt : [WARNING  ] 2020-07-01 12:38:16,248 Supplied id_loc but draw_ids is False. Not drawing grid ids\n",
      "yt : [WARNING  ] 2020-07-01 12:38:16,250 Supplied id_loc but draw_ids is False. Not drawing grid ids\n",
      "yt : [WARNING  ] 2020-07-01 12:38:16,251 Supplied id_loc but draw_ids is False. Not drawing grid ids\n",
      "yt : [WARNING  ] 2020-07-01 12:38:16,253 Supplied id_loc but draw_ids is False. Not drawing grid ids\n",
      "yt : [WARNING  ] 2020-07-01 12:38:16,255 Supplied id_loc but draw_ids is False. Not drawing grid ids\n",
      "yt : [WARNING  ] 2020-07-01 12:38:16,257 Supplied id_loc but draw_ids is False. Not drawing grid ids\n",
      "yt : [WARNING  ] 2020-07-01 12:38:16,259 Supplied id_loc but draw_ids is False. Not drawing grid ids\n",
      "yt : [INFO     ] 2020-07-01 12:38:16,259 Saving plot img00019.png\n"
     ]
    },
    {
     "name": "stdout",
     "output_type": "stream",
     "text": [
      "plt0000019\n",
      "img00019.png\n"
     ]
    },
    {
     "name": "stderr",
     "output_type": "stream",
     "text": [
      "yt : [INFO     ] 2020-07-01 12:38:16,423 Parameters: current_time              = 3.90625\n",
      "yt : [INFO     ] 2020-07-01 12:38:16,424 Parameters: domain_dimensions         = [256 256   1]\n",
      "yt : [INFO     ] 2020-07-01 12:38:16,424 Parameters: domain_left_edge          = [-50. -50.   0.]\n",
      "yt : [INFO     ] 2020-07-01 12:38:16,425 Parameters: domain_right_edge         = [ 50.  50.   1.]\n",
      "yt : [INFO     ] 2020-07-01 12:38:16,636 xlim = -50.000000 50.000000\n",
      "yt : [INFO     ] 2020-07-01 12:38:16,637 ylim = -50.000000 50.000000\n",
      "yt : [INFO     ] 2020-07-01 12:38:16,638 xlim = -50.000000 50.000000\n",
      "yt : [INFO     ] 2020-07-01 12:38:16,638 ylim = -50.000000 50.000000\n",
      "yt : [INFO     ] 2020-07-01 12:38:16,640 Making a fixed resolution buffer of (('boxlib', 'Psi')) 800 by 800\n",
      "yt : [WARNING  ] 2020-07-01 12:38:16,666 Plot image for field ('boxlib', 'Psi') has both positive and negative values. Min = -0.172372, Max = 0.108638.\n",
      "yt : [WARNING  ] 2020-07-01 12:38:16,667 Switching to symlog colorbar scaling unless linear scaling is specified later\n",
      "yt : [INFO     ] 2020-07-01 12:38:16,751 Making a fixed resolution buffer of (('boxlib', 'Psi')) 800 by 800\n",
      "yt : [WARNING  ] 2020-07-01 12:38:16,834 Supplied id_loc but draw_ids is False. Not drawing grid ids\n",
      "yt : [WARNING  ] 2020-07-01 12:38:16,835 Supplied id_loc but draw_ids is False. Not drawing grid ids\n",
      "yt : [WARNING  ] 2020-07-01 12:38:16,837 Supplied id_loc but draw_ids is False. Not drawing grid ids\n",
      "yt : [WARNING  ] 2020-07-01 12:38:16,839 Supplied id_loc but draw_ids is False. Not drawing grid ids\n",
      "yt : [WARNING  ] 2020-07-01 12:38:16,841 Supplied id_loc but draw_ids is False. Not drawing grid ids\n",
      "yt : [WARNING  ] 2020-07-01 12:38:16,842 Supplied id_loc but draw_ids is False. Not drawing grid ids\n",
      "yt : [WARNING  ] 2020-07-01 12:38:16,844 Supplied id_loc but draw_ids is False. Not drawing grid ids\n",
      "yt : [WARNING  ] 2020-07-01 12:38:16,846 Supplied id_loc but draw_ids is False. Not drawing grid ids\n",
      "yt : [WARNING  ] 2020-07-01 12:38:16,848 Supplied id_loc but draw_ids is False. Not drawing grid ids\n",
      "yt : [INFO     ] 2020-07-01 12:38:16,848 Saving plot img00020.png\n"
     ]
    },
    {
     "name": "stdout",
     "output_type": "stream",
     "text": [
      "plt0000020\n",
      "img00020.png\n"
     ]
    },
    {
     "name": "stderr",
     "output_type": "stream",
     "text": [
      "yt : [INFO     ] 2020-07-01 12:38:17,014 Parameters: current_time              = 4.1015625\n",
      "yt : [INFO     ] 2020-07-01 12:38:17,015 Parameters: domain_dimensions         = [256 256   1]\n",
      "yt : [INFO     ] 2020-07-01 12:38:17,015 Parameters: domain_left_edge          = [-50. -50.   0.]\n",
      "yt : [INFO     ] 2020-07-01 12:38:17,016 Parameters: domain_right_edge         = [ 50.  50.   1.]\n",
      "yt : [INFO     ] 2020-07-01 12:38:17,118 xlim = -50.000000 50.000000\n",
      "yt : [INFO     ] 2020-07-01 12:38:17,118 ylim = -50.000000 50.000000\n",
      "yt : [INFO     ] 2020-07-01 12:38:17,120 xlim = -50.000000 50.000000\n",
      "yt : [INFO     ] 2020-07-01 12:38:17,120 ylim = -50.000000 50.000000\n",
      "yt : [INFO     ] 2020-07-01 12:38:17,121 Making a fixed resolution buffer of (('boxlib', 'Psi')) 800 by 800\n",
      "yt : [WARNING  ] 2020-07-01 12:38:17,147 Plot image for field ('boxlib', 'Psi') has both positive and negative values. Min = -0.162592, Max = 0.116754.\n",
      "yt : [WARNING  ] 2020-07-01 12:38:17,147 Switching to symlog colorbar scaling unless linear scaling is specified later\n",
      "yt : [INFO     ] 2020-07-01 12:38:17,232 Making a fixed resolution buffer of (('boxlib', 'Psi')) 800 by 800\n",
      "yt : [WARNING  ] 2020-07-01 12:38:17,314 Supplied id_loc but draw_ids is False. Not drawing grid ids\n",
      "yt : [WARNING  ] 2020-07-01 12:38:17,315 Supplied id_loc but draw_ids is False. Not drawing grid ids\n",
      "yt : [WARNING  ] 2020-07-01 12:38:17,317 Supplied id_loc but draw_ids is False. Not drawing grid ids\n",
      "yt : [WARNING  ] 2020-07-01 12:38:17,319 Supplied id_loc but draw_ids is False. Not drawing grid ids\n",
      "yt : [WARNING  ] 2020-07-01 12:38:17,321 Supplied id_loc but draw_ids is False. Not drawing grid ids\n",
      "yt : [WARNING  ] 2020-07-01 12:38:17,322 Supplied id_loc but draw_ids is False. Not drawing grid ids\n",
      "yt : [WARNING  ] 2020-07-01 12:38:17,324 Supplied id_loc but draw_ids is False. Not drawing grid ids\n",
      "yt : [WARNING  ] 2020-07-01 12:38:17,326 Supplied id_loc but draw_ids is False. Not drawing grid ids\n",
      "yt : [WARNING  ] 2020-07-01 12:38:17,327 Supplied id_loc but draw_ids is False. Not drawing grid ids\n",
      "yt : [INFO     ] 2020-07-01 12:38:17,328 Saving plot img00021.png\n"
     ]
    },
    {
     "name": "stdout",
     "output_type": "stream",
     "text": [
      "plt0000021\n",
      "img00021.png\n"
     ]
    },
    {
     "name": "stderr",
     "output_type": "stream",
     "text": [
      "yt : [INFO     ] 2020-07-01 12:38:17,495 Parameters: current_time              = 4.296875\n",
      "yt : [INFO     ] 2020-07-01 12:38:17,495 Parameters: domain_dimensions         = [256 256   1]\n",
      "yt : [INFO     ] 2020-07-01 12:38:17,496 Parameters: domain_left_edge          = [-50. -50.   0.]\n",
      "yt : [INFO     ] 2020-07-01 12:38:17,496 Parameters: domain_right_edge         = [ 50.  50.   1.]\n",
      "yt : [INFO     ] 2020-07-01 12:38:17,596 xlim = -50.000000 50.000000\n",
      "yt : [INFO     ] 2020-07-01 12:38:17,596 ylim = -50.000000 50.000000\n",
      "yt : [INFO     ] 2020-07-01 12:38:17,597 xlim = -50.000000 50.000000\n",
      "yt : [INFO     ] 2020-07-01 12:38:17,598 ylim = -50.000000 50.000000\n",
      "yt : [INFO     ] 2020-07-01 12:38:17,599 Making a fixed resolution buffer of (('boxlib', 'Psi')) 800 by 800\n",
      "yt : [WARNING  ] 2020-07-01 12:38:17,624 Plot image for field ('boxlib', 'Psi') has both positive and negative values. Min = -0.153560, Max = 0.120245.\n",
      "yt : [WARNING  ] 2020-07-01 12:38:17,625 Switching to symlog colorbar scaling unless linear scaling is specified later\n",
      "yt : [INFO     ] 2020-07-01 12:38:17,709 Making a fixed resolution buffer of (('boxlib', 'Psi')) 800 by 800\n",
      "yt : [WARNING  ] 2020-07-01 12:38:17,891 Supplied id_loc but draw_ids is False. Not drawing grid ids\n",
      "yt : [WARNING  ] 2020-07-01 12:38:17,894 Supplied id_loc but draw_ids is False. Not drawing grid ids\n",
      "yt : [WARNING  ] 2020-07-01 12:38:17,896 Supplied id_loc but draw_ids is False. Not drawing grid ids\n",
      "yt : [WARNING  ] 2020-07-01 12:38:17,898 Supplied id_loc but draw_ids is False. Not drawing grid ids\n",
      "yt : [WARNING  ] 2020-07-01 12:38:17,901 Supplied id_loc but draw_ids is False. Not drawing grid ids\n",
      "yt : [WARNING  ] 2020-07-01 12:38:17,903 Supplied id_loc but draw_ids is False. Not drawing grid ids\n",
      "yt : [WARNING  ] 2020-07-01 12:38:17,905 Supplied id_loc but draw_ids is False. Not drawing grid ids\n",
      "yt : [WARNING  ] 2020-07-01 12:38:17,908 Supplied id_loc but draw_ids is False. Not drawing grid ids\n",
      "yt : [WARNING  ] 2020-07-01 12:38:17,910 Supplied id_loc but draw_ids is False. Not drawing grid ids\n"
     ]
    },
    {
     "name": "stdout",
     "output_type": "stream",
     "text": [
      "plt0000022\n",
      "img00022.png\n"
     ]
    },
    {
     "name": "stderr",
     "output_type": "stream",
     "text": [
      "yt : [INFO     ] 2020-07-01 12:38:17,911 Saving plot img00022.png\n",
      "yt : [INFO     ] 2020-07-01 12:38:18,079 Parameters: current_time              = 4.4921875\n",
      "yt : [INFO     ] 2020-07-01 12:38:18,080 Parameters: domain_dimensions         = [256 256   1]\n",
      "yt : [INFO     ] 2020-07-01 12:38:18,080 Parameters: domain_left_edge          = [-50. -50.   0.]\n",
      "yt : [INFO     ] 2020-07-01 12:38:18,081 Parameters: domain_right_edge         = [ 50.  50.   1.]\n",
      "yt : [INFO     ] 2020-07-01 12:38:18,182 xlim = -50.000000 50.000000\n",
      "yt : [INFO     ] 2020-07-01 12:38:18,183 ylim = -50.000000 50.000000\n",
      "yt : [INFO     ] 2020-07-01 12:38:18,184 xlim = -50.000000 50.000000\n",
      "yt : [INFO     ] 2020-07-01 12:38:18,184 ylim = -50.000000 50.000000\n",
      "yt : [INFO     ] 2020-07-01 12:38:18,185 Making a fixed resolution buffer of (('boxlib', 'Psi')) 800 by 800\n",
      "yt : [WARNING  ] 2020-07-01 12:38:18,210 Plot image for field ('boxlib', 'Psi') has both positive and negative values. Min = -0.145139, Max = 0.122178.\n",
      "yt : [WARNING  ] 2020-07-01 12:38:18,211 Switching to symlog colorbar scaling unless linear scaling is specified later\n",
      "yt : [INFO     ] 2020-07-01 12:38:18,296 Making a fixed resolution buffer of (('boxlib', 'Psi')) 800 by 800\n",
      "yt : [WARNING  ] 2020-07-01 12:38:18,377 Supplied id_loc but draw_ids is False. Not drawing grid ids\n",
      "yt : [WARNING  ] 2020-07-01 12:38:18,379 Supplied id_loc but draw_ids is False. Not drawing grid ids\n",
      "yt : [WARNING  ] 2020-07-01 12:38:18,380 Supplied id_loc but draw_ids is False. Not drawing grid ids\n",
      "yt : [WARNING  ] 2020-07-01 12:38:18,382 Supplied id_loc but draw_ids is False. Not drawing grid ids\n",
      "yt : [WARNING  ] 2020-07-01 12:38:18,384 Supplied id_loc but draw_ids is False. Not drawing grid ids\n",
      "yt : [WARNING  ] 2020-07-01 12:38:18,386 Supplied id_loc but draw_ids is False. Not drawing grid ids\n",
      "yt : [WARNING  ] 2020-07-01 12:38:18,387 Supplied id_loc but draw_ids is False. Not drawing grid ids\n",
      "yt : [WARNING  ] 2020-07-01 12:38:18,389 Supplied id_loc but draw_ids is False. Not drawing grid ids\n",
      "yt : [WARNING  ] 2020-07-01 12:38:18,391 Supplied id_loc but draw_ids is False. Not drawing grid ids\n",
      "yt : [INFO     ] 2020-07-01 12:38:18,391 Saving plot img00023.png\n"
     ]
    },
    {
     "name": "stdout",
     "output_type": "stream",
     "text": [
      "plt0000023\n",
      "img00023.png\n"
     ]
    },
    {
     "name": "stderr",
     "output_type": "stream",
     "text": [
      "yt : [INFO     ] 2020-07-01 12:38:18,557 Parameters: current_time              = 4.6875\n",
      "yt : [INFO     ] 2020-07-01 12:38:18,558 Parameters: domain_dimensions         = [256 256   1]\n",
      "yt : [INFO     ] 2020-07-01 12:38:18,558 Parameters: domain_left_edge          = [-50. -50.   0.]\n",
      "yt : [INFO     ] 2020-07-01 12:38:18,559 Parameters: domain_right_edge         = [ 50.  50.   1.]\n",
      "yt : [INFO     ] 2020-07-01 12:38:18,659 xlim = -50.000000 50.000000\n",
      "yt : [INFO     ] 2020-07-01 12:38:18,659 ylim = -50.000000 50.000000\n",
      "yt : [INFO     ] 2020-07-01 12:38:18,660 xlim = -50.000000 50.000000\n",
      "yt : [INFO     ] 2020-07-01 12:38:18,660 ylim = -50.000000 50.000000\n",
      "yt : [INFO     ] 2020-07-01 12:38:18,661 Making a fixed resolution buffer of (('boxlib', 'Psi')) 800 by 800\n",
      "yt : [WARNING  ] 2020-07-01 12:38:18,686 Plot image for field ('boxlib', 'Psi') has both positive and negative values. Min = -0.137349, Max = 0.123575.\n",
      "yt : [WARNING  ] 2020-07-01 12:38:18,687 Switching to symlog colorbar scaling unless linear scaling is specified later\n",
      "yt : [INFO     ] 2020-07-01 12:38:18,771 Making a fixed resolution buffer of (('boxlib', 'Psi')) 800 by 800\n",
      "yt : [WARNING  ] 2020-07-01 12:38:18,852 Supplied id_loc but draw_ids is False. Not drawing grid ids\n",
      "yt : [WARNING  ] 2020-07-01 12:38:18,854 Supplied id_loc but draw_ids is False. Not drawing grid ids\n",
      "yt : [WARNING  ] 2020-07-01 12:38:18,855 Supplied id_loc but draw_ids is False. Not drawing grid ids\n",
      "yt : [WARNING  ] 2020-07-01 12:38:18,857 Supplied id_loc but draw_ids is False. Not drawing grid ids\n",
      "yt : [WARNING  ] 2020-07-01 12:38:18,859 Supplied id_loc but draw_ids is False. Not drawing grid ids\n",
      "yt : [WARNING  ] 2020-07-01 12:38:18,860 Supplied id_loc but draw_ids is False. Not drawing grid ids\n",
      "yt : [WARNING  ] 2020-07-01 12:38:18,863 Supplied id_loc but draw_ids is False. Not drawing grid ids\n",
      "yt : [WARNING  ] 2020-07-01 12:38:18,864 Supplied id_loc but draw_ids is False. Not drawing grid ids\n",
      "yt : [WARNING  ] 2020-07-01 12:38:18,866 Supplied id_loc but draw_ids is False. Not drawing grid ids\n",
      "yt : [INFO     ] 2020-07-01 12:38:18,866 Saving plot img00024.png\n"
     ]
    },
    {
     "name": "stdout",
     "output_type": "stream",
     "text": [
      "plt0000024\n",
      "img00024.png\n"
     ]
    },
    {
     "name": "stderr",
     "output_type": "stream",
     "text": [
      "yt : [INFO     ] 2020-07-01 12:38:19,033 Parameters: current_time              = 4.8828125\n",
      "yt : [INFO     ] 2020-07-01 12:38:19,033 Parameters: domain_dimensions         = [256 256   1]\n",
      "yt : [INFO     ] 2020-07-01 12:38:19,034 Parameters: domain_left_edge          = [-50. -50.   0.]\n",
      "yt : [INFO     ] 2020-07-01 12:38:19,034 Parameters: domain_right_edge         = [ 50.  50.   1.]\n",
      "yt : [INFO     ] 2020-07-01 12:38:19,241 xlim = -50.000000 50.000000\n",
      "yt : [INFO     ] 2020-07-01 12:38:19,242 ylim = -50.000000 50.000000\n",
      "yt : [INFO     ] 2020-07-01 12:38:19,243 xlim = -50.000000 50.000000\n",
      "yt : [INFO     ] 2020-07-01 12:38:19,243 ylim = -50.000000 50.000000\n",
      "yt : [INFO     ] 2020-07-01 12:38:19,244 Making a fixed resolution buffer of (('boxlib', 'Psi')) 800 by 800\n",
      "yt : [WARNING  ] 2020-07-01 12:38:19,270 Plot image for field ('boxlib', 'Psi') has both positive and negative values. Min = -0.130090, Max = 0.124523.\n",
      "yt : [WARNING  ] 2020-07-01 12:38:19,270 Switching to symlog colorbar scaling unless linear scaling is specified later\n",
      "yt : [INFO     ] 2020-07-01 12:38:19,357 Making a fixed resolution buffer of (('boxlib', 'Psi')) 800 by 800\n",
      "yt : [WARNING  ] 2020-07-01 12:38:19,439 Supplied id_loc but draw_ids is False. Not drawing grid ids\n",
      "yt : [WARNING  ] 2020-07-01 12:38:19,441 Supplied id_loc but draw_ids is False. Not drawing grid ids\n",
      "yt : [WARNING  ] 2020-07-01 12:38:19,443 Supplied id_loc but draw_ids is False. Not drawing grid ids\n",
      "yt : [WARNING  ] 2020-07-01 12:38:19,444 Supplied id_loc but draw_ids is False. Not drawing grid ids\n",
      "yt : [WARNING  ] 2020-07-01 12:38:19,446 Supplied id_loc but draw_ids is False. Not drawing grid ids\n",
      "yt : [WARNING  ] 2020-07-01 12:38:19,448 Supplied id_loc but draw_ids is False. Not drawing grid ids\n",
      "yt : [WARNING  ] 2020-07-01 12:38:19,450 Supplied id_loc but draw_ids is False. Not drawing grid ids\n",
      "yt : [WARNING  ] 2020-07-01 12:38:19,452 Supplied id_loc but draw_ids is False. Not drawing grid ids\n",
      "yt : [WARNING  ] 2020-07-01 12:38:19,453 Supplied id_loc but draw_ids is False. Not drawing grid ids\n",
      "yt : [INFO     ] 2020-07-01 12:38:19,454 Saving plot img00025.png\n"
     ]
    },
    {
     "name": "stdout",
     "output_type": "stream",
     "text": [
      "plt0000025\n",
      "img00025.png\n"
     ]
    },
    {
     "name": "stderr",
     "output_type": "stream",
     "text": [
      "yt : [INFO     ] 2020-07-01 12:38:19,620 Parameters: current_time              = 5.078125\n",
      "yt : [INFO     ] 2020-07-01 12:38:19,620 Parameters: domain_dimensions         = [256 256   1]\n",
      "yt : [INFO     ] 2020-07-01 12:38:19,621 Parameters: domain_left_edge          = [-50. -50.   0.]\n",
      "yt : [INFO     ] 2020-07-01 12:38:19,622 Parameters: domain_right_edge         = [ 50.  50.   1.]\n",
      "yt : [INFO     ] 2020-07-01 12:38:19,724 xlim = -50.000000 50.000000\n",
      "yt : [INFO     ] 2020-07-01 12:38:19,724 ylim = -50.000000 50.000000\n",
      "yt : [INFO     ] 2020-07-01 12:38:19,725 xlim = -50.000000 50.000000\n",
      "yt : [INFO     ] 2020-07-01 12:38:19,726 ylim = -50.000000 50.000000\n",
      "yt : [INFO     ] 2020-07-01 12:38:19,726 Making a fixed resolution buffer of (('boxlib', 'Psi')) 800 by 800\n",
      "yt : [WARNING  ] 2020-07-01 12:38:19,752 Plot image for field ('boxlib', 'Psi') has both positive and negative values. Min = -0.123244, Max = 0.125028.\n",
      "yt : [WARNING  ] 2020-07-01 12:38:19,752 Switching to symlog colorbar scaling unless linear scaling is specified later\n",
      "yt : [INFO     ] 2020-07-01 12:38:19,836 Making a fixed resolution buffer of (('boxlib', 'Psi')) 800 by 800\n",
      "yt : [WARNING  ] 2020-07-01 12:38:19,917 Supplied id_loc but draw_ids is False. Not drawing grid ids\n",
      "yt : [WARNING  ] 2020-07-01 12:38:19,919 Supplied id_loc but draw_ids is False. Not drawing grid ids\n",
      "yt : [WARNING  ] 2020-07-01 12:38:19,921 Supplied id_loc but draw_ids is False. Not drawing grid ids\n",
      "yt : [WARNING  ] 2020-07-01 12:38:19,923 Supplied id_loc but draw_ids is False. Not drawing grid ids\n",
      "yt : [WARNING  ] 2020-07-01 12:38:19,924 Supplied id_loc but draw_ids is False. Not drawing grid ids\n",
      "yt : [WARNING  ] 2020-07-01 12:38:19,926 Supplied id_loc but draw_ids is False. Not drawing grid ids\n",
      "yt : [WARNING  ] 2020-07-01 12:38:19,928 Supplied id_loc but draw_ids is False. Not drawing grid ids\n",
      "yt : [WARNING  ] 2020-07-01 12:38:19,929 Supplied id_loc but draw_ids is False. Not drawing grid ids\n",
      "yt : [WARNING  ] 2020-07-01 12:38:19,932 Supplied id_loc but draw_ids is False. Not drawing grid ids\n",
      "yt : [INFO     ] 2020-07-01 12:38:19,932 Saving plot img00026.png\n"
     ]
    },
    {
     "name": "stdout",
     "output_type": "stream",
     "text": [
      "plt0000026\n",
      "img00026.png\n"
     ]
    },
    {
     "name": "stderr",
     "output_type": "stream",
     "text": [
      "yt : [INFO     ] 2020-07-01 12:38:20,099 Parameters: current_time              = 5.2734375\n",
      "yt : [INFO     ] 2020-07-01 12:38:20,100 Parameters: domain_dimensions         = [256 256   1]\n",
      "yt : [INFO     ] 2020-07-01 12:38:20,100 Parameters: domain_left_edge          = [-50. -50.   0.]\n",
      "yt : [INFO     ] 2020-07-01 12:38:20,101 Parameters: domain_right_edge         = [ 50.  50.   1.]\n",
      "yt : [INFO     ] 2020-07-01 12:38:20,201 xlim = -50.000000 50.000000\n",
      "yt : [INFO     ] 2020-07-01 12:38:20,202 ylim = -50.000000 50.000000\n",
      "yt : [INFO     ] 2020-07-01 12:38:20,203 xlim = -50.000000 50.000000\n",
      "yt : [INFO     ] 2020-07-01 12:38:20,203 ylim = -50.000000 50.000000\n",
      "yt : [INFO     ] 2020-07-01 12:38:20,204 Making a fixed resolution buffer of (('boxlib', 'Psi')) 800 by 800\n",
      "yt : [WARNING  ] 2020-07-01 12:38:20,229 Plot image for field ('boxlib', 'Psi') has both positive and negative values. Min = -0.116967, Max = 0.125128.\n",
      "yt : [WARNING  ] 2020-07-01 12:38:20,230 Switching to symlog colorbar scaling unless linear scaling is specified later\n",
      "yt : [INFO     ] 2020-07-01 12:38:20,314 Making a fixed resolution buffer of (('boxlib', 'Psi')) 800 by 800\n",
      "yt : [WARNING  ] 2020-07-01 12:38:20,496 Supplied id_loc but draw_ids is False. Not drawing grid ids\n",
      "yt : [WARNING  ] 2020-07-01 12:38:20,499 Supplied id_loc but draw_ids is False. Not drawing grid ids\n",
      "yt : [WARNING  ] 2020-07-01 12:38:20,501 Supplied id_loc but draw_ids is False. Not drawing grid ids\n",
      "yt : [WARNING  ] 2020-07-01 12:38:20,504 Supplied id_loc but draw_ids is False. Not drawing grid ids\n",
      "yt : [WARNING  ] 2020-07-01 12:38:20,506 Supplied id_loc but draw_ids is False. Not drawing grid ids\n",
      "yt : [WARNING  ] 2020-07-01 12:38:20,509 Supplied id_loc but draw_ids is False. Not drawing grid ids\n",
      "yt : [WARNING  ] 2020-07-01 12:38:20,511 Supplied id_loc but draw_ids is False. Not drawing grid ids\n",
      "yt : [WARNING  ] 2020-07-01 12:38:20,513 Supplied id_loc but draw_ids is False. Not drawing grid ids\n"
     ]
    },
    {
     "name": "stdout",
     "output_type": "stream",
     "text": [
      "plt0000027\n",
      "img00027.png\n"
     ]
    },
    {
     "name": "stderr",
     "output_type": "stream",
     "text": [
      "yt : [WARNING  ] 2020-07-01 12:38:20,515 Supplied id_loc but draw_ids is False. Not drawing grid ids\n",
      "yt : [INFO     ] 2020-07-01 12:38:20,516 Saving plot img00027.png\n",
      "yt : [INFO     ] 2020-07-01 12:38:20,685 Parameters: current_time              = 5.46875\n",
      "yt : [INFO     ] 2020-07-01 12:38:20,686 Parameters: domain_dimensions         = [256 256   1]\n",
      "yt : [INFO     ] 2020-07-01 12:38:20,686 Parameters: domain_left_edge          = [-50. -50.   0.]\n",
      "yt : [INFO     ] 2020-07-01 12:38:20,687 Parameters: domain_right_edge         = [ 50.  50.   1.]\n",
      "yt : [INFO     ] 2020-07-01 12:38:20,789 xlim = -50.000000 50.000000\n",
      "yt : [INFO     ] 2020-07-01 12:38:20,789 ylim = -50.000000 50.000000\n",
      "yt : [INFO     ] 2020-07-01 12:38:20,790 xlim = -50.000000 50.000000\n",
      "yt : [INFO     ] 2020-07-01 12:38:20,790 ylim = -50.000000 50.000000\n",
      "yt : [INFO     ] 2020-07-01 12:38:20,791 Making a fixed resolution buffer of (('boxlib', 'Psi')) 800 by 800\n",
      "yt : [WARNING  ] 2020-07-01 12:38:20,817 Plot image for field ('boxlib', 'Psi') has both positive and negative values. Min = -0.111054, Max = 0.124900.\n",
      "yt : [WARNING  ] 2020-07-01 12:38:20,818 Switching to symlog colorbar scaling unless linear scaling is specified later\n",
      "yt : [INFO     ] 2020-07-01 12:38:20,903 Making a fixed resolution buffer of (('boxlib', 'Psi')) 800 by 800\n",
      "yt : [WARNING  ] 2020-07-01 12:38:20,985 Supplied id_loc but draw_ids is False. Not drawing grid ids\n",
      "yt : [WARNING  ] 2020-07-01 12:38:20,986 Supplied id_loc but draw_ids is False. Not drawing grid ids\n",
      "yt : [WARNING  ] 2020-07-01 12:38:20,988 Supplied id_loc but draw_ids is False. Not drawing grid ids\n",
      "yt : [WARNING  ] 2020-07-01 12:38:20,990 Supplied id_loc but draw_ids is False. Not drawing grid ids\n",
      "yt : [WARNING  ] 2020-07-01 12:38:20,992 Supplied id_loc but draw_ids is False. Not drawing grid ids\n",
      "yt : [WARNING  ] 2020-07-01 12:38:20,993 Supplied id_loc but draw_ids is False. Not drawing grid ids\n",
      "yt : [WARNING  ] 2020-07-01 12:38:20,995 Supplied id_loc but draw_ids is False. Not drawing grid ids\n",
      "yt : [WARNING  ] 2020-07-01 12:38:20,997 Supplied id_loc but draw_ids is False. Not drawing grid ids\n",
      "yt : [WARNING  ] 2020-07-01 12:38:20,998 Supplied id_loc but draw_ids is False. Not drawing grid ids\n",
      "yt : [INFO     ] 2020-07-01 12:38:20,999 Saving plot img00028.png\n"
     ]
    },
    {
     "name": "stdout",
     "output_type": "stream",
     "text": [
      "plt0000028\n",
      "img00028.png\n"
     ]
    },
    {
     "name": "stderr",
     "output_type": "stream",
     "text": [
      "yt : [INFO     ] 2020-07-01 12:38:21,168 Parameters: current_time              = 5.6640625\n",
      "yt : [INFO     ] 2020-07-01 12:38:21,168 Parameters: domain_dimensions         = [256 256   1]\n",
      "yt : [INFO     ] 2020-07-01 12:38:21,169 Parameters: domain_left_edge          = [-50. -50.   0.]\n",
      "yt : [INFO     ] 2020-07-01 12:38:21,169 Parameters: domain_right_edge         = [ 50.  50.   1.]\n",
      "yt : [INFO     ] 2020-07-01 12:38:21,269 xlim = -50.000000 50.000000\n",
      "yt : [INFO     ] 2020-07-01 12:38:21,270 ylim = -50.000000 50.000000\n",
      "yt : [INFO     ] 2020-07-01 12:38:21,271 xlim = -50.000000 50.000000\n",
      "yt : [INFO     ] 2020-07-01 12:38:21,271 ylim = -50.000000 50.000000\n",
      "yt : [INFO     ] 2020-07-01 12:38:21,272 Making a fixed resolution buffer of (('boxlib', 'Psi')) 800 by 800\n",
      "yt : [WARNING  ] 2020-07-01 12:38:21,297 Plot image for field ('boxlib', 'Psi') has both positive and negative values. Min = -0.105299, Max = 0.124369.\n",
      "yt : [WARNING  ] 2020-07-01 12:38:21,298 Switching to symlog colorbar scaling unless linear scaling is specified later\n",
      "yt : [INFO     ] 2020-07-01 12:38:21,382 Making a fixed resolution buffer of (('boxlib', 'Psi')) 800 by 800\n",
      "yt : [WARNING  ] 2020-07-01 12:38:21,463 Supplied id_loc but draw_ids is False. Not drawing grid ids\n",
      "yt : [WARNING  ] 2020-07-01 12:38:21,465 Supplied id_loc but draw_ids is False. Not drawing grid ids\n",
      "yt : [WARNING  ] 2020-07-01 12:38:21,467 Supplied id_loc but draw_ids is False. Not drawing grid ids\n",
      "yt : [WARNING  ] 2020-07-01 12:38:21,468 Supplied id_loc but draw_ids is False. Not drawing grid ids\n",
      "yt : [WARNING  ] 2020-07-01 12:38:21,470 Supplied id_loc but draw_ids is False. Not drawing grid ids\n",
      "yt : [WARNING  ] 2020-07-01 12:38:21,472 Supplied id_loc but draw_ids is False. Not drawing grid ids\n",
      "yt : [WARNING  ] 2020-07-01 12:38:21,473 Supplied id_loc but draw_ids is False. Not drawing grid ids\n",
      "yt : [WARNING  ] 2020-07-01 12:38:21,475 Supplied id_loc but draw_ids is False. Not drawing grid ids\n",
      "yt : [WARNING  ] 2020-07-01 12:38:21,477 Supplied id_loc but draw_ids is False. Not drawing grid ids\n",
      "yt : [INFO     ] 2020-07-01 12:38:21,478 Saving plot img00029.png\n"
     ]
    },
    {
     "name": "stdout",
     "output_type": "stream",
     "text": [
      "plt0000029\n",
      "img00029.png\n"
     ]
    },
    {
     "name": "stderr",
     "output_type": "stream",
     "text": [
      "yt : [INFO     ] 2020-07-01 12:38:21,646 Parameters: current_time              = 5.859375\n",
      "yt : [INFO     ] 2020-07-01 12:38:21,647 Parameters: domain_dimensions         = [256 256   1]\n",
      "yt : [INFO     ] 2020-07-01 12:38:21,647 Parameters: domain_left_edge          = [-50. -50.   0.]\n",
      "yt : [INFO     ] 2020-07-01 12:38:21,648 Parameters: domain_right_edge         = [ 50.  50.   1.]\n",
      "yt : [INFO     ] 2020-07-01 12:38:21,855 xlim = -50.000000 50.000000\n",
      "yt : [INFO     ] 2020-07-01 12:38:21,855 ylim = -50.000000 50.000000\n",
      "yt : [INFO     ] 2020-07-01 12:38:21,856 xlim = -50.000000 50.000000\n",
      "yt : [INFO     ] 2020-07-01 12:38:21,857 ylim = -50.000000 50.000000\n",
      "yt : [INFO     ] 2020-07-01 12:38:21,857 Making a fixed resolution buffer of (('boxlib', 'Psi')) 800 by 800\n",
      "yt : [WARNING  ] 2020-07-01 12:38:21,883 Plot image for field ('boxlib', 'Psi') has both positive and negative values. Min = -0.100022, Max = 0.123592.\n",
      "yt : [WARNING  ] 2020-07-01 12:38:21,884 Switching to symlog colorbar scaling unless linear scaling is specified later\n",
      "yt : [INFO     ] 2020-07-01 12:38:21,971 Making a fixed resolution buffer of (('boxlib', 'Psi')) 800 by 800\n",
      "yt : [WARNING  ] 2020-07-01 12:38:22,055 Supplied id_loc but draw_ids is False. Not drawing grid ids\n",
      "yt : [WARNING  ] 2020-07-01 12:38:22,057 Supplied id_loc but draw_ids is False. Not drawing grid ids\n",
      "yt : [WARNING  ] 2020-07-01 12:38:22,058 Supplied id_loc but draw_ids is False. Not drawing grid ids\n",
      "yt : [WARNING  ] 2020-07-01 12:38:22,060 Supplied id_loc but draw_ids is False. Not drawing grid ids\n",
      "yt : [WARNING  ] 2020-07-01 12:38:22,062 Supplied id_loc but draw_ids is False. Not drawing grid ids\n",
      "yt : [WARNING  ] 2020-07-01 12:38:22,063 Supplied id_loc but draw_ids is False. Not drawing grid ids\n",
      "yt : [WARNING  ] 2020-07-01 12:38:22,065 Supplied id_loc but draw_ids is False. Not drawing grid ids\n",
      "yt : [WARNING  ] 2020-07-01 12:38:22,067 Supplied id_loc but draw_ids is False. Not drawing grid ids\n",
      "yt : [WARNING  ] 2020-07-01 12:38:22,068 Supplied id_loc but draw_ids is False. Not drawing grid ids\n",
      "yt : [INFO     ] 2020-07-01 12:38:22,069 Saving plot img00030.png\n"
     ]
    },
    {
     "name": "stdout",
     "output_type": "stream",
     "text": [
      "plt0000030\n",
      "img00030.png\n"
     ]
    },
    {
     "name": "stderr",
     "output_type": "stream",
     "text": [
      "yt : [INFO     ] 2020-07-01 12:38:22,239 Parameters: current_time              = 6.0546875\n",
      "yt : [INFO     ] 2020-07-01 12:38:22,239 Parameters: domain_dimensions         = [256 256   1]\n",
      "yt : [INFO     ] 2020-07-01 12:38:22,240 Parameters: domain_left_edge          = [-50. -50.   0.]\n",
      "yt : [INFO     ] 2020-07-01 12:38:22,241 Parameters: domain_right_edge         = [ 50.  50.   1.]\n",
      "yt : [INFO     ] 2020-07-01 12:38:22,342 xlim = -50.000000 50.000000\n",
      "yt : [INFO     ] 2020-07-01 12:38:22,343 ylim = -50.000000 50.000000\n",
      "yt : [INFO     ] 2020-07-01 12:38:22,344 xlim = -50.000000 50.000000\n",
      "yt : [INFO     ] 2020-07-01 12:38:22,344 ylim = -50.000000 50.000000\n",
      "yt : [INFO     ] 2020-07-01 12:38:22,345 Making a fixed resolution buffer of (('boxlib', 'Psi')) 800 by 800\n",
      "yt : [WARNING  ] 2020-07-01 12:38:22,371 Plot image for field ('boxlib', 'Psi') has both positive and negative values. Min = -0.095109, Max = 0.122495.\n",
      "yt : [WARNING  ] 2020-07-01 12:38:22,371 Switching to symlog colorbar scaling unless linear scaling is specified later\n",
      "yt : [INFO     ] 2020-07-01 12:38:22,454 Making a fixed resolution buffer of (('boxlib', 'Psi')) 800 by 800\n",
      "yt : [WARNING  ] 2020-07-01 12:38:22,537 Supplied id_loc but draw_ids is False. Not drawing grid ids\n",
      "yt : [WARNING  ] 2020-07-01 12:38:22,538 Supplied id_loc but draw_ids is False. Not drawing grid ids\n",
      "yt : [WARNING  ] 2020-07-01 12:38:22,540 Supplied id_loc but draw_ids is False. Not drawing grid ids\n",
      "yt : [WARNING  ] 2020-07-01 12:38:22,542 Supplied id_loc but draw_ids is False. Not drawing grid ids\n",
      "yt : [WARNING  ] 2020-07-01 12:38:22,543 Supplied id_loc but draw_ids is False. Not drawing grid ids\n",
      "yt : [WARNING  ] 2020-07-01 12:38:22,545 Supplied id_loc but draw_ids is False. Not drawing grid ids\n",
      "yt : [WARNING  ] 2020-07-01 12:38:22,547 Supplied id_loc but draw_ids is False. Not drawing grid ids\n",
      "yt : [WARNING  ] 2020-07-01 12:38:22,549 Supplied id_loc but draw_ids is False. Not drawing grid ids\n",
      "yt : [WARNING  ] 2020-07-01 12:38:22,550 Supplied id_loc but draw_ids is False. Not drawing grid ids\n",
      "yt : [INFO     ] 2020-07-01 12:38:22,551 Saving plot img00031.png\n"
     ]
    },
    {
     "name": "stdout",
     "output_type": "stream",
     "text": [
      "plt0000031\n",
      "img00031.png\n"
     ]
    },
    {
     "name": "stderr",
     "output_type": "stream",
     "text": [
      "yt : [INFO     ] 2020-07-01 12:38:22,722 Parameters: current_time              = 6.25\n",
      "yt : [INFO     ] 2020-07-01 12:38:22,722 Parameters: domain_dimensions         = [256 256   1]\n",
      "yt : [INFO     ] 2020-07-01 12:38:22,723 Parameters: domain_left_edge          = [-50. -50.   0.]\n",
      "yt : [INFO     ] 2020-07-01 12:38:22,723 Parameters: domain_right_edge         = [ 50.  50.   1.]\n",
      "yt : [INFO     ] 2020-07-01 12:38:22,823 xlim = -50.000000 50.000000\n",
      "yt : [INFO     ] 2020-07-01 12:38:22,824 ylim = -50.000000 50.000000\n",
      "yt : [INFO     ] 2020-07-01 12:38:22,825 xlim = -50.000000 50.000000\n",
      "yt : [INFO     ] 2020-07-01 12:38:22,825 ylim = -50.000000 50.000000\n",
      "yt : [INFO     ] 2020-07-01 12:38:22,826 Making a fixed resolution buffer of (('boxlib', 'Psi')) 800 by 800\n",
      "yt : [WARNING  ] 2020-07-01 12:38:22,852 Plot image for field ('boxlib', 'Psi') has both positive and negative values. Min = -0.090383, Max = 0.121290.\n",
      "yt : [WARNING  ] 2020-07-01 12:38:22,852 Switching to symlog colorbar scaling unless linear scaling is specified later\n",
      "yt : [INFO     ] 2020-07-01 12:38:22,936 Making a fixed resolution buffer of (('boxlib', 'Psi')) 800 by 800\n",
      "yt : [WARNING  ] 2020-07-01 12:38:23,120 Supplied id_loc but draw_ids is False. Not drawing grid ids\n",
      "yt : [WARNING  ] 2020-07-01 12:38:23,123 Supplied id_loc but draw_ids is False. Not drawing grid ids\n",
      "yt : [WARNING  ] 2020-07-01 12:38:23,126 Supplied id_loc but draw_ids is False. Not drawing grid ids\n",
      "yt : [WARNING  ] 2020-07-01 12:38:23,128 Supplied id_loc but draw_ids is False. Not drawing grid ids\n",
      "yt : [WARNING  ] 2020-07-01 12:38:23,130 Supplied id_loc but draw_ids is False. Not drawing grid ids\n",
      "yt : [WARNING  ] 2020-07-01 12:38:23,132 Supplied id_loc but draw_ids is False. Not drawing grid ids\n",
      "yt : [WARNING  ] 2020-07-01 12:38:23,135 Supplied id_loc but draw_ids is False. Not drawing grid ids\n",
      "yt : [WARNING  ] 2020-07-01 12:38:23,137 Supplied id_loc but draw_ids is False. Not drawing grid ids\n"
     ]
    },
    {
     "name": "stdout",
     "output_type": "stream",
     "text": [
      "plt0000032\n",
      "img00032.png\n"
     ]
    },
    {
     "name": "stderr",
     "output_type": "stream",
     "text": [
      "yt : [WARNING  ] 2020-07-01 12:38:23,139 Supplied id_loc but draw_ids is False. Not drawing grid ids\n",
      "yt : [INFO     ] 2020-07-01 12:38:23,140 Saving plot img00032.png\n",
      "yt : [INFO     ] 2020-07-01 12:38:23,312 Parameters: current_time              = 6.4453125\n",
      "yt : [INFO     ] 2020-07-01 12:38:23,312 Parameters: domain_dimensions         = [256 256   1]\n",
      "yt : [INFO     ] 2020-07-01 12:38:23,313 Parameters: domain_left_edge          = [-50. -50.   0.]\n",
      "yt : [INFO     ] 2020-07-01 12:38:23,313 Parameters: domain_right_edge         = [ 50.  50.   1.]\n",
      "yt : [INFO     ] 2020-07-01 12:38:23,415 xlim = -50.000000 50.000000\n",
      "yt : [INFO     ] 2020-07-01 12:38:23,416 ylim = -50.000000 50.000000\n",
      "yt : [INFO     ] 2020-07-01 12:38:23,417 xlim = -50.000000 50.000000\n",
      "yt : [INFO     ] 2020-07-01 12:38:23,417 ylim = -50.000000 50.000000\n",
      "yt : [INFO     ] 2020-07-01 12:38:23,418 Making a fixed resolution buffer of (('boxlib', 'Psi')) 800 by 800\n",
      "yt : [WARNING  ] 2020-07-01 12:38:23,444 Plot image for field ('boxlib', 'Psi') has both positive and negative values. Min = -0.085819, Max = 0.119912.\n",
      "yt : [WARNING  ] 2020-07-01 12:38:23,444 Switching to symlog colorbar scaling unless linear scaling is specified later\n",
      "yt : [INFO     ] 2020-07-01 12:38:23,527 Making a fixed resolution buffer of (('boxlib', 'Psi')) 800 by 800\n",
      "yt : [WARNING  ] 2020-07-01 12:38:23,610 Supplied id_loc but draw_ids is False. Not drawing grid ids\n",
      "yt : [WARNING  ] 2020-07-01 12:38:23,612 Supplied id_loc but draw_ids is False. Not drawing grid ids\n",
      "yt : [WARNING  ] 2020-07-01 12:38:23,613 Supplied id_loc but draw_ids is False. Not drawing grid ids\n",
      "yt : [WARNING  ] 2020-07-01 12:38:23,615 Supplied id_loc but draw_ids is False. Not drawing grid ids\n",
      "yt : [WARNING  ] 2020-07-01 12:38:23,617 Supplied id_loc but draw_ids is False. Not drawing grid ids\n",
      "yt : [WARNING  ] 2020-07-01 12:38:23,619 Supplied id_loc but draw_ids is False. Not drawing grid ids\n",
      "yt : [WARNING  ] 2020-07-01 12:38:23,621 Supplied id_loc but draw_ids is False. Not drawing grid ids\n",
      "yt : [WARNING  ] 2020-07-01 12:38:23,622 Supplied id_loc but draw_ids is False. Not drawing grid ids\n",
      "yt : [WARNING  ] 2020-07-01 12:38:23,624 Supplied id_loc but draw_ids is False. Not drawing grid ids\n",
      "yt : [INFO     ] 2020-07-01 12:38:23,625 Saving plot img00033.png\n"
     ]
    },
    {
     "name": "stdout",
     "output_type": "stream",
     "text": [
      "plt0000033\n",
      "img00033.png\n"
     ]
    },
    {
     "name": "stderr",
     "output_type": "stream",
     "text": [
      "yt : [INFO     ] 2020-07-01 12:38:23,796 Parameters: current_time              = 6.640625\n",
      "yt : [INFO     ] 2020-07-01 12:38:23,796 Parameters: domain_dimensions         = [256 256   1]\n",
      "yt : [INFO     ] 2020-07-01 12:38:23,797 Parameters: domain_left_edge          = [-50. -50.   0.]\n",
      "yt : [INFO     ] 2020-07-01 12:38:23,798 Parameters: domain_right_edge         = [ 50.  50.   1.]\n",
      "yt : [INFO     ] 2020-07-01 12:38:23,897 xlim = -50.000000 50.000000\n",
      "yt : [INFO     ] 2020-07-01 12:38:23,898 ylim = -50.000000 50.000000\n",
      "yt : [INFO     ] 2020-07-01 12:38:23,899 xlim = -50.000000 50.000000\n",
      "yt : [INFO     ] 2020-07-01 12:38:23,899 ylim = -50.000000 50.000000\n",
      "yt : [INFO     ] 2020-07-01 12:38:23,900 Making a fixed resolution buffer of (('boxlib', 'Psi')) 800 by 800\n",
      "yt : [WARNING  ] 2020-07-01 12:38:23,926 Plot image for field ('boxlib', 'Psi') has both positive and negative values. Min = -0.081752, Max = 0.118328.\n",
      "yt : [WARNING  ] 2020-07-01 12:38:23,927 Switching to symlog colorbar scaling unless linear scaling is specified later\n",
      "yt : [INFO     ] 2020-07-01 12:38:24,008 Making a fixed resolution buffer of (('boxlib', 'Psi')) 800 by 800\n",
      "yt : [WARNING  ] 2020-07-01 12:38:24,091 Supplied id_loc but draw_ids is False. Not drawing grid ids\n",
      "yt : [WARNING  ] 2020-07-01 12:38:24,093 Supplied id_loc but draw_ids is False. Not drawing grid ids\n",
      "yt : [WARNING  ] 2020-07-01 12:38:24,095 Supplied id_loc but draw_ids is False. Not drawing grid ids\n",
      "yt : [WARNING  ] 2020-07-01 12:38:24,096 Supplied id_loc but draw_ids is False. Not drawing grid ids\n",
      "yt : [WARNING  ] 2020-07-01 12:38:24,098 Supplied id_loc but draw_ids is False. Not drawing grid ids\n",
      "yt : [WARNING  ] 2020-07-01 12:38:24,100 Supplied id_loc but draw_ids is False. Not drawing grid ids\n",
      "yt : [WARNING  ] 2020-07-01 12:38:24,102 Supplied id_loc but draw_ids is False. Not drawing grid ids\n",
      "yt : [WARNING  ] 2020-07-01 12:38:24,103 Supplied id_loc but draw_ids is False. Not drawing grid ids\n",
      "yt : [WARNING  ] 2020-07-01 12:38:24,105 Supplied id_loc but draw_ids is False. Not drawing grid ids\n",
      "yt : [INFO     ] 2020-07-01 12:38:24,105 Saving plot img00034.png\n"
     ]
    },
    {
     "name": "stdout",
     "output_type": "stream",
     "text": [
      "plt0000034\n",
      "img00034.png\n"
     ]
    },
    {
     "name": "stderr",
     "output_type": "stream",
     "text": [
      "yt : [INFO     ] 2020-07-01 12:38:24,277 Parameters: current_time              = 6.8359375\n",
      "yt : [INFO     ] 2020-07-01 12:38:24,278 Parameters: domain_dimensions         = [256 256   1]\n",
      "yt : [INFO     ] 2020-07-01 12:38:24,278 Parameters: domain_left_edge          = [-50. -50.   0.]\n",
      "yt : [INFO     ] 2020-07-01 12:38:24,279 Parameters: domain_right_edge         = [ 50.  50.   1.]\n",
      "yt : [INFO     ] 2020-07-01 12:38:24,488 xlim = -50.000000 50.000000\n",
      "yt : [INFO     ] 2020-07-01 12:38:24,488 ylim = -50.000000 50.000000\n",
      "yt : [INFO     ] 2020-07-01 12:38:24,489 xlim = -50.000000 50.000000\n",
      "yt : [INFO     ] 2020-07-01 12:38:24,490 ylim = -50.000000 50.000000\n",
      "yt : [INFO     ] 2020-07-01 12:38:24,491 Making a fixed resolution buffer of (('boxlib', 'Psi')) 800 by 800\n",
      "yt : [WARNING  ] 2020-07-01 12:38:24,517 Plot image for field ('boxlib', 'Psi') has both positive and negative values. Min = -0.077779, Max = 0.116674.\n",
      "yt : [WARNING  ] 2020-07-01 12:38:24,518 Switching to symlog colorbar scaling unless linear scaling is specified later\n",
      "yt : [INFO     ] 2020-07-01 12:38:24,601 Making a fixed resolution buffer of (('boxlib', 'Psi')) 800 by 800\n",
      "yt : [WARNING  ] 2020-07-01 12:38:24,685 Supplied id_loc but draw_ids is False. Not drawing grid ids\n",
      "yt : [WARNING  ] 2020-07-01 12:38:24,686 Supplied id_loc but draw_ids is False. Not drawing grid ids\n",
      "yt : [WARNING  ] 2020-07-01 12:38:24,688 Supplied id_loc but draw_ids is False. Not drawing grid ids\n",
      "yt : [WARNING  ] 2020-07-01 12:38:24,690 Supplied id_loc but draw_ids is False. Not drawing grid ids\n",
      "yt : [WARNING  ] 2020-07-01 12:38:24,692 Supplied id_loc but draw_ids is False. Not drawing grid ids\n",
      "yt : [WARNING  ] 2020-07-01 12:38:24,694 Supplied id_loc but draw_ids is False. Not drawing grid ids\n",
      "yt : [WARNING  ] 2020-07-01 12:38:24,696 Supplied id_loc but draw_ids is False. Not drawing grid ids\n",
      "yt : [WARNING  ] 2020-07-01 12:38:24,697 Supplied id_loc but draw_ids is False. Not drawing grid ids\n",
      "yt : [WARNING  ] 2020-07-01 12:38:24,699 Supplied id_loc but draw_ids is False. Not drawing grid ids\n",
      "yt : [INFO     ] 2020-07-01 12:38:24,699 Saving plot img00035.png\n"
     ]
    },
    {
     "name": "stdout",
     "output_type": "stream",
     "text": [
      "plt0000035\n",
      "img00035.png\n"
     ]
    },
    {
     "name": "stderr",
     "output_type": "stream",
     "text": [
      "yt : [INFO     ] 2020-07-01 12:38:24,872 Parameters: current_time              = 7.03125\n",
      "yt : [INFO     ] 2020-07-01 12:38:24,873 Parameters: domain_dimensions         = [256 256   1]\n",
      "yt : [INFO     ] 2020-07-01 12:38:24,873 Parameters: domain_left_edge          = [-50. -50.   0.]\n",
      "yt : [INFO     ] 2020-07-01 12:38:24,874 Parameters: domain_right_edge         = [ 50.  50.   1.]\n",
      "yt : [INFO     ] 2020-07-01 12:38:24,975 xlim = -50.000000 50.000000\n",
      "yt : [INFO     ] 2020-07-01 12:38:24,976 ylim = -50.000000 50.000000\n",
      "yt : [INFO     ] 2020-07-01 12:38:24,977 xlim = -50.000000 50.000000\n",
      "yt : [INFO     ] 2020-07-01 12:38:24,977 ylim = -50.000000 50.000000\n",
      "yt : [INFO     ] 2020-07-01 12:38:24,978 Making a fixed resolution buffer of (('boxlib', 'Psi')) 800 by 800\n",
      "yt : [WARNING  ] 2020-07-01 12:38:25,004 Plot image for field ('boxlib', 'Psi') has both positive and negative values. Min = -0.073865, Max = 0.114910.\n",
      "yt : [WARNING  ] 2020-07-01 12:38:25,004 Switching to symlog colorbar scaling unless linear scaling is specified later\n",
      "yt : [INFO     ] 2020-07-01 12:38:25,085 Making a fixed resolution buffer of (('boxlib', 'Psi')) 800 by 800\n",
      "yt : [WARNING  ] 2020-07-01 12:38:25,167 Supplied id_loc but draw_ids is False. Not drawing grid ids\n",
      "yt : [WARNING  ] 2020-07-01 12:38:25,169 Supplied id_loc but draw_ids is False. Not drawing grid ids\n",
      "yt : [WARNING  ] 2020-07-01 12:38:25,171 Supplied id_loc but draw_ids is False. Not drawing grid ids\n",
      "yt : [WARNING  ] 2020-07-01 12:38:25,172 Supplied id_loc but draw_ids is False. Not drawing grid ids\n",
      "yt : [WARNING  ] 2020-07-01 12:38:25,174 Supplied id_loc but draw_ids is False. Not drawing grid ids\n",
      "yt : [WARNING  ] 2020-07-01 12:38:25,176 Supplied id_loc but draw_ids is False. Not drawing grid ids\n",
      "yt : [WARNING  ] 2020-07-01 12:38:25,178 Supplied id_loc but draw_ids is False. Not drawing grid ids\n",
      "yt : [WARNING  ] 2020-07-01 12:38:25,180 Supplied id_loc but draw_ids is False. Not drawing grid ids\n",
      "yt : [WARNING  ] 2020-07-01 12:38:25,182 Supplied id_loc but draw_ids is False. Not drawing grid ids\n",
      "yt : [INFO     ] 2020-07-01 12:38:25,182 Saving plot img00036.png\n"
     ]
    },
    {
     "name": "stdout",
     "output_type": "stream",
     "text": [
      "plt0000036\n",
      "img00036.png\n"
     ]
    },
    {
     "name": "stderr",
     "output_type": "stream",
     "text": [
      "yt : [INFO     ] 2020-07-01 12:38:25,354 Parameters: current_time              = 7.2265625\n",
      "yt : [INFO     ] 2020-07-01 12:38:25,355 Parameters: domain_dimensions         = [256 256   1]\n",
      "yt : [INFO     ] 2020-07-01 12:38:25,355 Parameters: domain_left_edge          = [-50. -50.   0.]\n",
      "yt : [INFO     ] 2020-07-01 12:38:25,356 Parameters: domain_right_edge         = [ 50.  50.   1.]\n",
      "yt : [INFO     ] 2020-07-01 12:38:25,456 xlim = -50.000000 50.000000\n",
      "yt : [INFO     ] 2020-07-01 12:38:25,457 ylim = -50.000000 50.000000\n",
      "yt : [INFO     ] 2020-07-01 12:38:25,458 xlim = -50.000000 50.000000\n",
      "yt : [INFO     ] 2020-07-01 12:38:25,458 ylim = -50.000000 50.000000\n",
      "yt : [INFO     ] 2020-07-01 12:38:25,459 Making a fixed resolution buffer of (('boxlib', 'Psi')) 800 by 800\n",
      "yt : [WARNING  ] 2020-07-01 12:38:25,485 Plot image for field ('boxlib', 'Psi') has both positive and negative values. Min = -0.070099, Max = 0.113000.\n",
      "yt : [WARNING  ] 2020-07-01 12:38:25,486 Switching to symlog colorbar scaling unless linear scaling is specified later\n",
      "yt : [INFO     ] 2020-07-01 12:38:25,566 Making a fixed resolution buffer of (('boxlib', 'Psi')) 800 by 800\n",
      "yt : [WARNING  ] 2020-07-01 12:38:25,648 Supplied id_loc but draw_ids is False. Not drawing grid ids\n",
      "yt : [WARNING  ] 2020-07-01 12:38:25,650 Supplied id_loc but draw_ids is False. Not drawing grid ids\n",
      "yt : [WARNING  ] 2020-07-01 12:38:25,651 Supplied id_loc but draw_ids is False. Not drawing grid ids\n",
      "yt : [WARNING  ] 2020-07-01 12:38:25,653 Supplied id_loc but draw_ids is False. Not drawing grid ids\n",
      "yt : [WARNING  ] 2020-07-01 12:38:25,654 Supplied id_loc but draw_ids is False. Not drawing grid ids\n",
      "yt : [WARNING  ] 2020-07-01 12:38:25,657 Supplied id_loc but draw_ids is False. Not drawing grid ids\n",
      "yt : [WARNING  ] 2020-07-01 12:38:25,658 Supplied id_loc but draw_ids is False. Not drawing grid ids\n",
      "yt : [WARNING  ] 2020-07-01 12:38:25,660 Supplied id_loc but draw_ids is False. Not drawing grid ids\n",
      "yt : [WARNING  ] 2020-07-01 12:38:25,662 Supplied id_loc but draw_ids is False. Not drawing grid ids\n",
      "yt : [INFO     ] 2020-07-01 12:38:25,662 Saving plot img00037.png\n"
     ]
    },
    {
     "name": "stdout",
     "output_type": "stream",
     "text": [
      "plt0000037\n",
      "img00037.png\n"
     ]
    },
    {
     "name": "stderr",
     "output_type": "stream",
     "text": [
      "yt : [INFO     ] 2020-07-01 12:38:25,931 Parameters: current_time              = 7.421875\n",
      "yt : [INFO     ] 2020-07-01 12:38:25,931 Parameters: domain_dimensions         = [256 256   1]\n",
      "yt : [INFO     ] 2020-07-01 12:38:25,932 Parameters: domain_left_edge          = [-50. -50.   0.]\n",
      "yt : [INFO     ] 2020-07-01 12:38:25,932 Parameters: domain_right_edge         = [ 50.  50.   1.]\n",
      "yt : [INFO     ] 2020-07-01 12:38:26,032 xlim = -50.000000 50.000000\n",
      "yt : [INFO     ] 2020-07-01 12:38:26,032 ylim = -50.000000 50.000000\n",
      "yt : [INFO     ] 2020-07-01 12:38:26,033 xlim = -50.000000 50.000000\n",
      "yt : [INFO     ] 2020-07-01 12:38:26,034 ylim = -50.000000 50.000000\n",
      "yt : [INFO     ] 2020-07-01 12:38:26,034 Making a fixed resolution buffer of (('boxlib', 'Psi')) 800 by 800\n",
      "yt : [WARNING  ] 2020-07-01 12:38:26,060 Plot image for field ('boxlib', 'Psi') has both positive and negative values. Min = -0.066880, Max = 0.111076.\n",
      "yt : [WARNING  ] 2020-07-01 12:38:26,061 Switching to symlog colorbar scaling unless linear scaling is specified later\n",
      "yt : [INFO     ] 2020-07-01 12:38:26,141 Making a fixed resolution buffer of (('boxlib', 'Psi')) 800 by 800\n",
      "yt : [WARNING  ] 2020-07-01 12:38:26,225 Supplied id_loc but draw_ids is False. Not drawing grid ids\n",
      "yt : [WARNING  ] 2020-07-01 12:38:26,227 Supplied id_loc but draw_ids is False. Not drawing grid ids\n",
      "yt : [WARNING  ] 2020-07-01 12:38:26,229 Supplied id_loc but draw_ids is False. Not drawing grid ids\n",
      "yt : [WARNING  ] 2020-07-01 12:38:26,231 Supplied id_loc but draw_ids is False. Not drawing grid ids\n",
      "yt : [WARNING  ] 2020-07-01 12:38:26,233 Supplied id_loc but draw_ids is False. Not drawing grid ids\n",
      "yt : [WARNING  ] 2020-07-01 12:38:26,234 Supplied id_loc but draw_ids is False. Not drawing grid ids\n",
      "yt : [WARNING  ] 2020-07-01 12:38:26,236 Supplied id_loc but draw_ids is False. Not drawing grid ids\n",
      "yt : [WARNING  ] 2020-07-01 12:38:26,238 Supplied id_loc but draw_ids is False. Not drawing grid ids\n",
      "yt : [WARNING  ] 2020-07-01 12:38:26,239 Supplied id_loc but draw_ids is False. Not drawing grid ids\n",
      "yt : [INFO     ] 2020-07-01 12:38:26,240 Saving plot img00038.png\n"
     ]
    },
    {
     "name": "stdout",
     "output_type": "stream",
     "text": [
      "plt0000038\n",
      "img00038.png\n"
     ]
    },
    {
     "name": "stderr",
     "output_type": "stream",
     "text": [
      "yt : [INFO     ] 2020-07-01 12:38:26,415 Parameters: current_time              = 7.6171875\n",
      "yt : [INFO     ] 2020-07-01 12:38:26,415 Parameters: domain_dimensions         = [256 256   1]\n",
      "yt : [INFO     ] 2020-07-01 12:38:26,416 Parameters: domain_left_edge          = [-50. -50.   0.]\n",
      "yt : [INFO     ] 2020-07-01 12:38:26,416 Parameters: domain_right_edge         = [ 50.  50.   1.]\n",
      "yt : [INFO     ] 2020-07-01 12:38:26,517 xlim = -50.000000 50.000000\n",
      "yt : [INFO     ] 2020-07-01 12:38:26,517 ylim = -50.000000 50.000000\n",
      "yt : [INFO     ] 2020-07-01 12:38:26,519 xlim = -50.000000 50.000000\n",
      "yt : [INFO     ] 2020-07-01 12:38:26,519 ylim = -50.000000 50.000000\n",
      "yt : [INFO     ] 2020-07-01 12:38:26,520 Making a fixed resolution buffer of (('boxlib', 'Psi')) 800 by 800\n",
      "yt : [WARNING  ] 2020-07-01 12:38:26,546 Plot image for field ('boxlib', 'Psi') has both positive and negative values. Min = -0.066254, Max = 0.109092.\n",
      "yt : [WARNING  ] 2020-07-01 12:38:26,546 Switching to symlog colorbar scaling unless linear scaling is specified later\n",
      "yt : [INFO     ] 2020-07-01 12:38:26,627 Making a fixed resolution buffer of (('boxlib', 'Psi')) 800 by 800\n",
      "yt : [WARNING  ] 2020-07-01 12:38:26,709 Supplied id_loc but draw_ids is False. Not drawing grid ids\n",
      "yt : [WARNING  ] 2020-07-01 12:38:26,711 Supplied id_loc but draw_ids is False. Not drawing grid ids\n",
      "yt : [WARNING  ] 2020-07-01 12:38:26,714 Supplied id_loc but draw_ids is False. Not drawing grid ids\n",
      "yt : [WARNING  ] 2020-07-01 12:38:26,716 Supplied id_loc but draw_ids is False. Not drawing grid ids\n",
      "yt : [WARNING  ] 2020-07-01 12:38:26,718 Supplied id_loc but draw_ids is False. Not drawing grid ids\n",
      "yt : [WARNING  ] 2020-07-01 12:38:26,720 Supplied id_loc but draw_ids is False. Not drawing grid ids\n",
      "yt : [WARNING  ] 2020-07-01 12:38:26,721 Supplied id_loc but draw_ids is False. Not drawing grid ids\n",
      "yt : [WARNING  ] 2020-07-01 12:38:26,723 Supplied id_loc but draw_ids is False. Not drawing grid ids\n",
      "yt : [WARNING  ] 2020-07-01 12:38:26,725 Supplied id_loc but draw_ids is False. Not drawing grid ids\n",
      "yt : [INFO     ] 2020-07-01 12:38:26,726 Saving plot img00039.png\n"
     ]
    },
    {
     "name": "stdout",
     "output_type": "stream",
     "text": [
      "plt0000039\n",
      "img00039.png\n"
     ]
    },
    {
     "name": "stderr",
     "output_type": "stream",
     "text": [
      "yt : [INFO     ] 2020-07-01 12:38:26,899 Parameters: current_time              = 7.8125\n",
      "yt : [INFO     ] 2020-07-01 12:38:26,900 Parameters: domain_dimensions         = [256 256   1]\n",
      "yt : [INFO     ] 2020-07-01 12:38:26,900 Parameters: domain_left_edge          = [-50. -50.   0.]\n",
      "yt : [INFO     ] 2020-07-01 12:38:26,901 Parameters: domain_right_edge         = [ 50.  50.   1.]\n",
      "yt : [INFO     ] 2020-07-01 12:38:27,001 xlim = -50.000000 50.000000\n",
      "yt : [INFO     ] 2020-07-01 12:38:27,001 ylim = -50.000000 50.000000\n",
      "yt : [INFO     ] 2020-07-01 12:38:27,002 xlim = -50.000000 50.000000\n",
      "yt : [INFO     ] 2020-07-01 12:38:27,002 ylim = -50.000000 50.000000\n",
      "yt : [INFO     ] 2020-07-01 12:38:27,003 Making a fixed resolution buffer of (('boxlib', 'Psi')) 800 by 800\n",
      "yt : [WARNING  ] 2020-07-01 12:38:27,029 Plot image for field ('boxlib', 'Psi') has both positive and negative values. Min = -0.067226, Max = 0.107057.\n",
      "yt : [WARNING  ] 2020-07-01 12:38:27,029 Switching to symlog colorbar scaling unless linear scaling is specified later\n",
      "yt : [INFO     ] 2020-07-01 12:38:27,211 Making a fixed resolution buffer of (('boxlib', 'Psi')) 800 by 800\n",
      "yt : [WARNING  ] 2020-07-01 12:38:27,302 Supplied id_loc but draw_ids is False. Not drawing grid ids\n",
      "yt : [WARNING  ] 2020-07-01 12:38:27,303 Supplied id_loc but draw_ids is False. Not drawing grid ids\n",
      "yt : [WARNING  ] 2020-07-01 12:38:27,305 Supplied id_loc but draw_ids is False. Not drawing grid ids\n",
      "yt : [WARNING  ] 2020-07-01 12:38:27,307 Supplied id_loc but draw_ids is False. Not drawing grid ids\n",
      "yt : [WARNING  ] 2020-07-01 12:38:27,309 Supplied id_loc but draw_ids is False. Not drawing grid ids\n",
      "yt : [WARNING  ] 2020-07-01 12:38:27,310 Supplied id_loc but draw_ids is False. Not drawing grid ids\n",
      "yt : [WARNING  ] 2020-07-01 12:38:27,312 Supplied id_loc but draw_ids is False. Not drawing grid ids\n",
      "yt : [WARNING  ] 2020-07-01 12:38:27,314 Supplied id_loc but draw_ids is False. Not drawing grid ids\n",
      "yt : [WARNING  ] 2020-07-01 12:38:27,315 Supplied id_loc but draw_ids is False. Not drawing grid ids\n",
      "yt : [INFO     ] 2020-07-01 12:38:27,316 Saving plot img00040.png\n"
     ]
    },
    {
     "name": "stdout",
     "output_type": "stream",
     "text": [
      "plt0000040\n",
      "img00040.png\n"
     ]
    },
    {
     "name": "stderr",
     "output_type": "stream",
     "text": [
      "yt : [INFO     ] 2020-07-01 12:38:27,490 Parameters: current_time              = 8.0078125\n",
      "yt : [INFO     ] 2020-07-01 12:38:27,490 Parameters: domain_dimensions         = [256 256   1]\n",
      "yt : [INFO     ] 2020-07-01 12:38:27,490 Parameters: domain_left_edge          = [-50. -50.   0.]\n",
      "yt : [INFO     ] 2020-07-01 12:38:27,491 Parameters: domain_right_edge         = [ 50.  50.   1.]\n",
      "yt : [INFO     ] 2020-07-01 12:38:27,593 xlim = -50.000000 50.000000\n",
      "yt : [INFO     ] 2020-07-01 12:38:27,593 ylim = -50.000000 50.000000\n",
      "yt : [INFO     ] 2020-07-01 12:38:27,594 xlim = -50.000000 50.000000\n",
      "yt : [INFO     ] 2020-07-01 12:38:27,595 ylim = -50.000000 50.000000\n",
      "yt : [INFO     ] 2020-07-01 12:38:27,595 Making a fixed resolution buffer of (('boxlib', 'Psi')) 800 by 800\n",
      "yt : [WARNING  ] 2020-07-01 12:38:27,622 Plot image for field ('boxlib', 'Psi') has both positive and negative values. Min = -0.067962, Max = 0.105099.\n",
      "yt : [WARNING  ] 2020-07-01 12:38:27,622 Switching to symlog colorbar scaling unless linear scaling is specified later\n",
      "yt : [INFO     ] 2020-07-01 12:38:27,701 Making a fixed resolution buffer of (('boxlib', 'Psi')) 800 by 800\n",
      "yt : [WARNING  ] 2020-07-01 12:38:27,785 Supplied id_loc but draw_ids is False. Not drawing grid ids\n",
      "yt : [WARNING  ] 2020-07-01 12:38:27,787 Supplied id_loc but draw_ids is False. Not drawing grid ids\n",
      "yt : [WARNING  ] 2020-07-01 12:38:27,789 Supplied id_loc but draw_ids is False. Not drawing grid ids\n",
      "yt : [WARNING  ] 2020-07-01 12:38:27,791 Supplied id_loc but draw_ids is False. Not drawing grid ids\n",
      "yt : [WARNING  ] 2020-07-01 12:38:27,793 Supplied id_loc but draw_ids is False. Not drawing grid ids\n",
      "yt : [WARNING  ] 2020-07-01 12:38:27,794 Supplied id_loc but draw_ids is False. Not drawing grid ids\n",
      "yt : [WARNING  ] 2020-07-01 12:38:27,796 Supplied id_loc but draw_ids is False. Not drawing grid ids\n",
      "yt : [WARNING  ] 2020-07-01 12:38:27,797 Supplied id_loc but draw_ids is False. Not drawing grid ids\n",
      "yt : [WARNING  ] 2020-07-01 12:38:27,799 Supplied id_loc but draw_ids is False. Not drawing grid ids\n",
      "yt : [INFO     ] 2020-07-01 12:38:27,800 Saving plot img00041.png\n"
     ]
    },
    {
     "name": "stdout",
     "output_type": "stream",
     "text": [
      "plt0000041\n",
      "img00041.png\n"
     ]
    },
    {
     "name": "stderr",
     "output_type": "stream",
     "text": [
      "yt : [INFO     ] 2020-07-01 12:38:27,974 Parameters: current_time              = 8.203125\n",
      "yt : [INFO     ] 2020-07-01 12:38:27,975 Parameters: domain_dimensions         = [256 256   1]\n",
      "yt : [INFO     ] 2020-07-01 12:38:27,975 Parameters: domain_left_edge          = [-50. -50.   0.]\n",
      "yt : [INFO     ] 2020-07-01 12:38:27,976 Parameters: domain_right_edge         = [ 50.  50.   1.]\n",
      "yt : [INFO     ] 2020-07-01 12:38:28,075 xlim = -50.000000 50.000000\n",
      "yt : [INFO     ] 2020-07-01 12:38:28,076 ylim = -50.000000 50.000000\n",
      "yt : [INFO     ] 2020-07-01 12:38:28,077 xlim = -50.000000 50.000000\n",
      "yt : [INFO     ] 2020-07-01 12:38:28,077 ylim = -50.000000 50.000000\n",
      "yt : [INFO     ] 2020-07-01 12:38:28,078 Making a fixed resolution buffer of (('boxlib', 'Psi')) 800 by 800\n",
      "yt : [WARNING  ] 2020-07-01 12:38:28,104 Plot image for field ('boxlib', 'Psi') has both positive and negative values. Min = -0.068536, Max = 0.102900.\n",
      "yt : [WARNING  ] 2020-07-01 12:38:28,104 Switching to symlog colorbar scaling unless linear scaling is specified later\n",
      "yt : [INFO     ] 2020-07-01 12:38:28,182 Making a fixed resolution buffer of (('boxlib', 'Psi')) 800 by 800\n",
      "yt : [WARNING  ] 2020-07-01 12:38:28,267 Supplied id_loc but draw_ids is False. Not drawing grid ids\n",
      "yt : [WARNING  ] 2020-07-01 12:38:28,269 Supplied id_loc but draw_ids is False. Not drawing grid ids\n",
      "yt : [WARNING  ] 2020-07-01 12:38:28,271 Supplied id_loc but draw_ids is False. Not drawing grid ids\n",
      "yt : [WARNING  ] 2020-07-01 12:38:28,272 Supplied id_loc but draw_ids is False. Not drawing grid ids\n",
      "yt : [WARNING  ] 2020-07-01 12:38:28,274 Supplied id_loc but draw_ids is False. Not drawing grid ids\n",
      "yt : [WARNING  ] 2020-07-01 12:38:28,276 Supplied id_loc but draw_ids is False. Not drawing grid ids\n",
      "yt : [WARNING  ] 2020-07-01 12:38:28,278 Supplied id_loc but draw_ids is False. Not drawing grid ids\n",
      "yt : [WARNING  ] 2020-07-01 12:38:28,279 Supplied id_loc but draw_ids is False. Not drawing grid ids\n",
      "yt : [WARNING  ] 2020-07-01 12:38:28,281 Supplied id_loc but draw_ids is False. Not drawing grid ids\n",
      "yt : [INFO     ] 2020-07-01 12:38:28,281 Saving plot img00042.png\n"
     ]
    },
    {
     "name": "stdout",
     "output_type": "stream",
     "text": [
      "plt0000042\n",
      "img00042.png\n"
     ]
    },
    {
     "name": "stderr",
     "output_type": "stream",
     "text": [
      "yt : [INFO     ] 2020-07-01 12:38:28,460 Parameters: current_time              = 8.3984375\n",
      "yt : [INFO     ] 2020-07-01 12:38:28,460 Parameters: domain_dimensions         = [256 256   1]\n",
      "yt : [INFO     ] 2020-07-01 12:38:28,461 Parameters: domain_left_edge          = [-50. -50.   0.]\n",
      "yt : [INFO     ] 2020-07-01 12:38:28,461 Parameters: domain_right_edge         = [ 50.  50.   1.]\n",
      "yt : [INFO     ] 2020-07-01 12:38:28,675 xlim = -50.000000 50.000000\n",
      "yt : [INFO     ] 2020-07-01 12:38:28,676 ylim = -50.000000 50.000000\n",
      "yt : [INFO     ] 2020-07-01 12:38:28,677 xlim = -50.000000 50.000000\n",
      "yt : [INFO     ] 2020-07-01 12:38:28,677 ylim = -50.000000 50.000000\n",
      "yt : [INFO     ] 2020-07-01 12:38:28,678 Making a fixed resolution buffer of (('boxlib', 'Psi')) 800 by 800\n",
      "yt : [WARNING  ] 2020-07-01 12:38:28,705 Plot image for field ('boxlib', 'Psi') has both positive and negative values. Min = -0.069089, Max = 0.100670.\n",
      "yt : [WARNING  ] 2020-07-01 12:38:28,706 Switching to symlog colorbar scaling unless linear scaling is specified later\n",
      "yt : [INFO     ] 2020-07-01 12:38:28,786 Making a fixed resolution buffer of (('boxlib', 'Psi')) 800 by 800\n",
      "yt : [WARNING  ] 2020-07-01 12:38:28,870 Supplied id_loc but draw_ids is False. Not drawing grid ids\n",
      "yt : [WARNING  ] 2020-07-01 12:38:28,872 Supplied id_loc but draw_ids is False. Not drawing grid ids\n",
      "yt : [WARNING  ] 2020-07-01 12:38:28,874 Supplied id_loc but draw_ids is False. Not drawing grid ids\n",
      "yt : [WARNING  ] 2020-07-01 12:38:28,876 Supplied id_loc but draw_ids is False. Not drawing grid ids\n",
      "yt : [WARNING  ] 2020-07-01 12:38:28,877 Supplied id_loc but draw_ids is False. Not drawing grid ids\n",
      "yt : [WARNING  ] 2020-07-01 12:38:28,879 Supplied id_loc but draw_ids is False. Not drawing grid ids\n",
      "yt : [WARNING  ] 2020-07-01 12:38:28,881 Supplied id_loc but draw_ids is False. Not drawing grid ids\n",
      "yt : [WARNING  ] 2020-07-01 12:38:28,883 Supplied id_loc but draw_ids is False. Not drawing grid ids\n",
      "yt : [WARNING  ] 2020-07-01 12:38:28,884 Supplied id_loc but draw_ids is False. Not drawing grid ids\n",
      "yt : [INFO     ] 2020-07-01 12:38:28,885 Saving plot img00043.png\n"
     ]
    },
    {
     "name": "stdout",
     "output_type": "stream",
     "text": [
      "plt0000043\n",
      "img00043.png\n"
     ]
    },
    {
     "name": "stderr",
     "output_type": "stream",
     "text": [
      "yt : [INFO     ] 2020-07-01 12:38:29,061 Parameters: current_time              = 8.59375\n",
      "yt : [INFO     ] 2020-07-01 12:38:29,061 Parameters: domain_dimensions         = [256 256   1]\n",
      "yt : [INFO     ] 2020-07-01 12:38:29,062 Parameters: domain_left_edge          = [-50. -50.   0.]\n",
      "yt : [INFO     ] 2020-07-01 12:38:29,062 Parameters: domain_right_edge         = [ 50.  50.   1.]\n",
      "yt : [INFO     ] 2020-07-01 12:38:29,163 xlim = -50.000000 50.000000\n",
      "yt : [INFO     ] 2020-07-01 12:38:29,163 ylim = -50.000000 50.000000\n",
      "yt : [INFO     ] 2020-07-01 12:38:29,164 xlim = -50.000000 50.000000\n",
      "yt : [INFO     ] 2020-07-01 12:38:29,165 ylim = -50.000000 50.000000\n",
      "yt : [INFO     ] 2020-07-01 12:38:29,166 Making a fixed resolution buffer of (('boxlib', 'Psi')) 800 by 800\n",
      "yt : [WARNING  ] 2020-07-01 12:38:29,192 Plot image for field ('boxlib', 'Psi') has both positive and negative values. Min = -0.069589, Max = 0.098509.\n",
      "yt : [WARNING  ] 2020-07-01 12:38:29,192 Switching to symlog colorbar scaling unless linear scaling is specified later\n",
      "yt : [INFO     ] 2020-07-01 12:38:29,270 Making a fixed resolution buffer of (('boxlib', 'Psi')) 800 by 800\n",
      "yt : [WARNING  ] 2020-07-01 12:38:29,354 Supplied id_loc but draw_ids is False. Not drawing grid ids\n",
      "yt : [WARNING  ] 2020-07-01 12:38:29,356 Supplied id_loc but draw_ids is False. Not drawing grid ids\n",
      "yt : [WARNING  ] 2020-07-01 12:38:29,358 Supplied id_loc but draw_ids is False. Not drawing grid ids\n",
      "yt : [WARNING  ] 2020-07-01 12:38:29,359 Supplied id_loc but draw_ids is False. Not drawing grid ids\n",
      "yt : [WARNING  ] 2020-07-01 12:38:29,361 Supplied id_loc but draw_ids is False. Not drawing grid ids\n",
      "yt : [WARNING  ] 2020-07-01 12:38:29,363 Supplied id_loc but draw_ids is False. Not drawing grid ids\n",
      "yt : [WARNING  ] 2020-07-01 12:38:29,365 Supplied id_loc but draw_ids is False. Not drawing grid ids\n",
      "yt : [WARNING  ] 2020-07-01 12:38:29,367 Supplied id_loc but draw_ids is False. Not drawing grid ids\n",
      "yt : [WARNING  ] 2020-07-01 12:38:29,369 Supplied id_loc but draw_ids is False. Not drawing grid ids\n",
      "yt : [INFO     ] 2020-07-01 12:38:29,369 Saving plot img00044.png\n"
     ]
    },
    {
     "name": "stdout",
     "output_type": "stream",
     "text": [
      "plt0000044\n",
      "img00044.png\n"
     ]
    },
    {
     "name": "stderr",
     "output_type": "stream",
     "text": [
      "yt : [INFO     ] 2020-07-01 12:38:29,545 Parameters: current_time              = 8.7890625\n",
      "yt : [INFO     ] 2020-07-01 12:38:29,545 Parameters: domain_dimensions         = [256 256   1]\n",
      "yt : [INFO     ] 2020-07-01 12:38:29,546 Parameters: domain_left_edge          = [-50. -50.   0.]\n",
      "yt : [INFO     ] 2020-07-01 12:38:29,546 Parameters: domain_right_edge         = [ 50.  50.   1.]\n",
      "yt : [INFO     ] 2020-07-01 12:38:29,647 xlim = -50.000000 50.000000\n",
      "yt : [INFO     ] 2020-07-01 12:38:29,647 ylim = -50.000000 50.000000\n",
      "yt : [INFO     ] 2020-07-01 12:38:29,648 xlim = -50.000000 50.000000\n",
      "yt : [INFO     ] 2020-07-01 12:38:29,649 ylim = -50.000000 50.000000\n",
      "yt : [INFO     ] 2020-07-01 12:38:29,649 Making a fixed resolution buffer of (('boxlib', 'Psi')) 800 by 800\n",
      "yt : [WARNING  ] 2020-07-01 12:38:29,676 Plot image for field ('boxlib', 'Psi') has both positive and negative values. Min = -0.069953, Max = 0.096493.\n",
      "yt : [WARNING  ] 2020-07-01 12:38:29,676 Switching to symlog colorbar scaling unless linear scaling is specified later\n",
      "yt : [INFO     ] 2020-07-01 12:38:29,752 Making a fixed resolution buffer of (('boxlib', 'Psi')) 800 by 800\n",
      "yt : [WARNING  ] 2020-07-01 12:38:29,834 Supplied id_loc but draw_ids is False. Not drawing grid ids\n",
      "yt : [WARNING  ] 2020-07-01 12:38:29,836 Supplied id_loc but draw_ids is False. Not drawing grid ids\n",
      "yt : [WARNING  ] 2020-07-01 12:38:29,838 Supplied id_loc but draw_ids is False. Not drawing grid ids\n",
      "yt : [WARNING  ] 2020-07-01 12:38:29,840 Supplied id_loc but draw_ids is False. Not drawing grid ids\n",
      "yt : [WARNING  ] 2020-07-01 12:38:29,842 Supplied id_loc but draw_ids is False. Not drawing grid ids\n",
      "yt : [WARNING  ] 2020-07-01 12:38:29,844 Supplied id_loc but draw_ids is False. Not drawing grid ids\n",
      "yt : [WARNING  ] 2020-07-01 12:38:29,846 Supplied id_loc but draw_ids is False. Not drawing grid ids\n",
      "yt : [WARNING  ] 2020-07-01 12:38:29,848 Supplied id_loc but draw_ids is False. Not drawing grid ids\n",
      "yt : [WARNING  ] 2020-07-01 12:38:29,850 Supplied id_loc but draw_ids is False. Not drawing grid ids\n",
      "yt : [INFO     ] 2020-07-01 12:38:29,850 Saving plot img00045.png\n"
     ]
    },
    {
     "name": "stdout",
     "output_type": "stream",
     "text": [
      "plt0000045\n",
      "img00045.png\n"
     ]
    },
    {
     "name": "stderr",
     "output_type": "stream",
     "text": [
      "yt : [INFO     ] 2020-07-01 12:38:30,125 Parameters: current_time              = 8.984375\n",
      "yt : [INFO     ] 2020-07-01 12:38:30,125 Parameters: domain_dimensions         = [256 256   1]\n",
      "yt : [INFO     ] 2020-07-01 12:38:30,126 Parameters: domain_left_edge          = [-50. -50.   0.]\n",
      "yt : [INFO     ] 2020-07-01 12:38:30,126 Parameters: domain_right_edge         = [ 50.  50.   1.]\n",
      "yt : [INFO     ] 2020-07-01 12:38:30,225 xlim = -50.000000 50.000000\n",
      "yt : [INFO     ] 2020-07-01 12:38:30,226 ylim = -50.000000 50.000000\n",
      "yt : [INFO     ] 2020-07-01 12:38:30,227 xlim = -50.000000 50.000000\n",
      "yt : [INFO     ] 2020-07-01 12:38:30,227 ylim = -50.000000 50.000000\n",
      "yt : [INFO     ] 2020-07-01 12:38:30,228 Making a fixed resolution buffer of (('boxlib', 'Psi')) 800 by 800\n",
      "yt : [WARNING  ] 2020-07-01 12:38:30,255 Plot image for field ('boxlib', 'Psi') has both positive and negative values. Min = -0.070360, Max = 0.094221.\n",
      "yt : [WARNING  ] 2020-07-01 12:38:30,255 Switching to symlog colorbar scaling unless linear scaling is specified later\n",
      "yt : [INFO     ] 2020-07-01 12:38:30,335 Making a fixed resolution buffer of (('boxlib', 'Psi')) 800 by 800\n",
      "yt : [WARNING  ] 2020-07-01 12:38:30,418 Supplied id_loc but draw_ids is False. Not drawing grid ids\n",
      "yt : [WARNING  ] 2020-07-01 12:38:30,420 Supplied id_loc but draw_ids is False. Not drawing grid ids\n",
      "yt : [WARNING  ] 2020-07-01 12:38:30,422 Supplied id_loc but draw_ids is False. Not drawing grid ids\n",
      "yt : [WARNING  ] 2020-07-01 12:38:30,424 Supplied id_loc but draw_ids is False. Not drawing grid ids\n",
      "yt : [WARNING  ] 2020-07-01 12:38:30,426 Supplied id_loc but draw_ids is False. Not drawing grid ids\n",
      "yt : [WARNING  ] 2020-07-01 12:38:30,428 Supplied id_loc but draw_ids is False. Not drawing grid ids\n",
      "yt : [WARNING  ] 2020-07-01 12:38:30,430 Supplied id_loc but draw_ids is False. Not drawing grid ids\n",
      "yt : [WARNING  ] 2020-07-01 12:38:30,432 Supplied id_loc but draw_ids is False. Not drawing grid ids\n",
      "yt : [WARNING  ] 2020-07-01 12:38:30,434 Supplied id_loc but draw_ids is False. Not drawing grid ids\n",
      "yt : [INFO     ] 2020-07-01 12:38:30,434 Saving plot img00046.png\n"
     ]
    },
    {
     "name": "stdout",
     "output_type": "stream",
     "text": [
      "plt0000046\n",
      "img00046.png\n"
     ]
    },
    {
     "name": "stderr",
     "output_type": "stream",
     "text": [
      "yt : [INFO     ] 2020-07-01 12:38:30,613 Parameters: current_time              = 9.1796875\n",
      "yt : [INFO     ] 2020-07-01 12:38:30,614 Parameters: domain_dimensions         = [256 256   1]\n",
      "yt : [INFO     ] 2020-07-01 12:38:30,614 Parameters: domain_left_edge          = [-50. -50.   0.]\n",
      "yt : [INFO     ] 2020-07-01 12:38:30,615 Parameters: domain_right_edge         = [ 50.  50.   1.]\n",
      "yt : [INFO     ] 2020-07-01 12:38:30,715 xlim = -50.000000 50.000000\n",
      "yt : [INFO     ] 2020-07-01 12:38:30,716 ylim = -50.000000 50.000000\n",
      "yt : [INFO     ] 2020-07-01 12:38:30,717 xlim = -50.000000 50.000000\n",
      "yt : [INFO     ] 2020-07-01 12:38:30,717 ylim = -50.000000 50.000000\n",
      "yt : [INFO     ] 2020-07-01 12:38:30,718 Making a fixed resolution buffer of (('boxlib', 'Psi')) 800 by 800\n",
      "yt : [WARNING  ] 2020-07-01 12:38:30,744 Plot image for field ('boxlib', 'Psi') has both positive and negative values. Min = -0.070705, Max = 0.092069.\n",
      "yt : [WARNING  ] 2020-07-01 12:38:30,745 Switching to symlog colorbar scaling unless linear scaling is specified later\n",
      "yt : [INFO     ] 2020-07-01 12:38:30,823 Making a fixed resolution buffer of (('boxlib', 'Psi')) 800 by 800\n",
      "yt : [WARNING  ] 2020-07-01 12:38:30,905 Supplied id_loc but draw_ids is False. Not drawing grid ids\n",
      "yt : [WARNING  ] 2020-07-01 12:38:30,907 Supplied id_loc but draw_ids is False. Not drawing grid ids\n",
      "yt : [WARNING  ] 2020-07-01 12:38:30,909 Supplied id_loc but draw_ids is False. Not drawing grid ids\n",
      "yt : [WARNING  ] 2020-07-01 12:38:30,912 Supplied id_loc but draw_ids is False. Not drawing grid ids\n",
      "yt : [WARNING  ] 2020-07-01 12:38:30,914 Supplied id_loc but draw_ids is False. Not drawing grid ids\n",
      "yt : [WARNING  ] 2020-07-01 12:38:30,916 Supplied id_loc but draw_ids is False. Not drawing grid ids\n",
      "yt : [WARNING  ] 2020-07-01 12:38:30,918 Supplied id_loc but draw_ids is False. Not drawing grid ids\n",
      "yt : [WARNING  ] 2020-07-01 12:38:30,920 Supplied id_loc but draw_ids is False. Not drawing grid ids\n",
      "yt : [WARNING  ] 2020-07-01 12:38:30,922 Supplied id_loc but draw_ids is False. Not drawing grid ids\n",
      "yt : [INFO     ] 2020-07-01 12:38:30,922 Saving plot img00047.png\n"
     ]
    },
    {
     "name": "stdout",
     "output_type": "stream",
     "text": [
      "plt0000047\n",
      "img00047.png\n"
     ]
    },
    {
     "name": "stderr",
     "output_type": "stream",
     "text": [
      "yt : [INFO     ] 2020-07-01 12:38:31,101 Parameters: current_time              = 9.375\n",
      "yt : [INFO     ] 2020-07-01 12:38:31,101 Parameters: domain_dimensions         = [256 256   1]\n",
      "yt : [INFO     ] 2020-07-01 12:38:31,102 Parameters: domain_left_edge          = [-50. -50.   0.]\n",
      "yt : [INFO     ] 2020-07-01 12:38:31,103 Parameters: domain_right_edge         = [ 50.  50.   1.]\n",
      "yt : [INFO     ] 2020-07-01 12:38:31,202 xlim = -50.000000 50.000000\n",
      "yt : [INFO     ] 2020-07-01 12:38:31,203 ylim = -50.000000 50.000000\n",
      "yt : [INFO     ] 2020-07-01 12:38:31,204 xlim = -50.000000 50.000000\n",
      "yt : [INFO     ] 2020-07-01 12:38:31,204 ylim = -50.000000 50.000000\n",
      "yt : [INFO     ] 2020-07-01 12:38:31,205 Making a fixed resolution buffer of (('boxlib', 'Psi')) 800 by 800\n",
      "yt : [WARNING  ] 2020-07-01 12:38:31,231 Plot image for field ('boxlib', 'Psi') has both positive and negative values. Min = -0.071003, Max = 0.089943.\n",
      "yt : [WARNING  ] 2020-07-01 12:38:31,232 Switching to symlog colorbar scaling unless linear scaling is specified later\n",
      "yt : [INFO     ] 2020-07-01 12:38:31,411 Making a fixed resolution buffer of (('boxlib', 'Psi')) 800 by 800\n",
      "yt : [WARNING  ] 2020-07-01 12:38:31,502 Supplied id_loc but draw_ids is False. Not drawing grid ids\n",
      "yt : [WARNING  ] 2020-07-01 12:38:31,503 Supplied id_loc but draw_ids is False. Not drawing grid ids\n",
      "yt : [WARNING  ] 2020-07-01 12:38:31,505 Supplied id_loc but draw_ids is False. Not drawing grid ids\n",
      "yt : [WARNING  ] 2020-07-01 12:38:31,507 Supplied id_loc but draw_ids is False. Not drawing grid ids\n",
      "yt : [WARNING  ] 2020-07-01 12:38:31,509 Supplied id_loc but draw_ids is False. Not drawing grid ids\n",
      "yt : [WARNING  ] 2020-07-01 12:38:31,511 Supplied id_loc but draw_ids is False. Not drawing grid ids\n",
      "yt : [WARNING  ] 2020-07-01 12:38:31,513 Supplied id_loc but draw_ids is False. Not drawing grid ids\n",
      "yt : [WARNING  ] 2020-07-01 12:38:31,514 Supplied id_loc but draw_ids is False. Not drawing grid ids\n",
      "yt : [WARNING  ] 2020-07-01 12:38:31,516 Supplied id_loc but draw_ids is False. Not drawing grid ids\n",
      "yt : [INFO     ] 2020-07-01 12:38:31,517 Saving plot img00048.png\n"
     ]
    },
    {
     "name": "stdout",
     "output_type": "stream",
     "text": [
      "plt0000048\n",
      "img00048.png\n"
     ]
    },
    {
     "name": "stderr",
     "output_type": "stream",
     "text": [
      "yt : [INFO     ] 2020-07-01 12:38:31,698 Parameters: current_time              = 9.5703125\n",
      "yt : [INFO     ] 2020-07-01 12:38:31,699 Parameters: domain_dimensions         = [256 256   1]\n",
      "yt : [INFO     ] 2020-07-01 12:38:31,699 Parameters: domain_left_edge          = [-50. -50.   0.]\n",
      "yt : [INFO     ] 2020-07-01 12:38:31,700 Parameters: domain_right_edge         = [ 50.  50.   1.]\n",
      "yt : [INFO     ] 2020-07-01 12:38:31,803 xlim = -50.000000 50.000000\n",
      "yt : [INFO     ] 2020-07-01 12:38:31,803 ylim = -50.000000 50.000000\n",
      "yt : [INFO     ] 2020-07-01 12:38:31,804 xlim = -50.000000 50.000000\n",
      "yt : [INFO     ] 2020-07-01 12:38:31,805 ylim = -50.000000 50.000000\n",
      "yt : [INFO     ] 2020-07-01 12:38:31,805 Making a fixed resolution buffer of (('boxlib', 'Psi')) 800 by 800\n",
      "yt : [WARNING  ] 2020-07-01 12:38:31,833 Plot image for field ('boxlib', 'Psi') has both positive and negative values. Min = -0.071218, Max = 0.087750.\n",
      "yt : [WARNING  ] 2020-07-01 12:38:31,833 Switching to symlog colorbar scaling unless linear scaling is specified later\n",
      "yt : [INFO     ] 2020-07-01 12:38:31,911 Making a fixed resolution buffer of (('boxlib', 'Psi')) 800 by 800\n",
      "yt : [WARNING  ] 2020-07-01 12:38:31,995 Supplied id_loc but draw_ids is False. Not drawing grid ids\n",
      "yt : [WARNING  ] 2020-07-01 12:38:31,996 Supplied id_loc but draw_ids is False. Not drawing grid ids\n",
      "yt : [WARNING  ] 2020-07-01 12:38:31,998 Supplied id_loc but draw_ids is False. Not drawing grid ids\n",
      "yt : [WARNING  ] 2020-07-01 12:38:32,000 Supplied id_loc but draw_ids is False. Not drawing grid ids\n",
      "yt : [WARNING  ] 2020-07-01 12:38:32,002 Supplied id_loc but draw_ids is False. Not drawing grid ids\n",
      "yt : [WARNING  ] 2020-07-01 12:38:32,004 Supplied id_loc but draw_ids is False. Not drawing grid ids\n",
      "yt : [WARNING  ] 2020-07-01 12:38:32,006 Supplied id_loc but draw_ids is False. Not drawing grid ids\n",
      "yt : [WARNING  ] 2020-07-01 12:38:32,007 Supplied id_loc but draw_ids is False. Not drawing grid ids\n",
      "yt : [WARNING  ] 2020-07-01 12:38:32,009 Supplied id_loc but draw_ids is False. Not drawing grid ids\n",
      "yt : [INFO     ] 2020-07-01 12:38:32,009 Saving plot img00049.png\n"
     ]
    },
    {
     "name": "stdout",
     "output_type": "stream",
     "text": [
      "plt0000049\n",
      "img00049.png\n"
     ]
    },
    {
     "name": "stderr",
     "output_type": "stream",
     "text": [
      "yt : [INFO     ] 2020-07-01 12:38:32,191 Parameters: current_time              = 9.765625\n",
      "yt : [INFO     ] 2020-07-01 12:38:32,192 Parameters: domain_dimensions         = [256 256   1]\n",
      "yt : [INFO     ] 2020-07-01 12:38:32,192 Parameters: domain_left_edge          = [-50. -50.   0.]\n",
      "yt : [INFO     ] 2020-07-01 12:38:32,193 Parameters: domain_right_edge         = [ 50.  50.   1.]\n",
      "yt : [INFO     ] 2020-07-01 12:38:32,295 xlim = -50.000000 50.000000\n",
      "yt : [INFO     ] 2020-07-01 12:38:32,296 ylim = -50.000000 50.000000\n",
      "yt : [INFO     ] 2020-07-01 12:38:32,297 xlim = -50.000000 50.000000\n",
      "yt : [INFO     ] 2020-07-01 12:38:32,297 ylim = -50.000000 50.000000\n",
      "yt : [INFO     ] 2020-07-01 12:38:32,298 Making a fixed resolution buffer of (('boxlib', 'Psi')) 800 by 800\n",
      "yt : [WARNING  ] 2020-07-01 12:38:32,325 Plot image for field ('boxlib', 'Psi') has both positive and negative values. Min = -0.071393, Max = 0.085577.\n",
      "yt : [WARNING  ] 2020-07-01 12:38:32,325 Switching to symlog colorbar scaling unless linear scaling is specified later\n",
      "yt : [INFO     ] 2020-07-01 12:38:32,403 Making a fixed resolution buffer of (('boxlib', 'Psi')) 800 by 800\n",
      "yt : [WARNING  ] 2020-07-01 12:38:32,487 Supplied id_loc but draw_ids is False. Not drawing grid ids\n",
      "yt : [WARNING  ] 2020-07-01 12:38:32,489 Supplied id_loc but draw_ids is False. Not drawing grid ids\n",
      "yt : [WARNING  ] 2020-07-01 12:38:32,491 Supplied id_loc but draw_ids is False. Not drawing grid ids\n",
      "yt : [WARNING  ] 2020-07-01 12:38:32,492 Supplied id_loc but draw_ids is False. Not drawing grid ids\n",
      "yt : [WARNING  ] 2020-07-01 12:38:32,494 Supplied id_loc but draw_ids is False. Not drawing grid ids\n",
      "yt : [WARNING  ] 2020-07-01 12:38:32,496 Supplied id_loc but draw_ids is False. Not drawing grid ids\n",
      "yt : [WARNING  ] 2020-07-01 12:38:32,498 Supplied id_loc but draw_ids is False. Not drawing grid ids\n",
      "yt : [WARNING  ] 2020-07-01 12:38:32,500 Supplied id_loc but draw_ids is False. Not drawing grid ids\n",
      "yt : [WARNING  ] 2020-07-01 12:38:32,502 Supplied id_loc but draw_ids is False. Not drawing grid ids\n",
      "yt : [INFO     ] 2020-07-01 12:38:32,502 Saving plot img00050.png\n"
     ]
    },
    {
     "name": "stdout",
     "output_type": "stream",
     "text": [
      "plt0000050\n",
      "img00050.png\n"
     ]
    },
    {
     "name": "stderr",
     "output_type": "stream",
     "text": [
      "yt : [INFO     ] 2020-07-01 12:38:32,689 Parameters: current_time              = 9.9609375\n",
      "yt : [INFO     ] 2020-07-01 12:38:32,689 Parameters: domain_dimensions         = [256 256   1]\n",
      "yt : [INFO     ] 2020-07-01 12:38:32,690 Parameters: domain_left_edge          = [-50. -50.   0.]\n",
      "yt : [INFO     ] 2020-07-01 12:38:32,690 Parameters: domain_right_edge         = [ 50.  50.   1.]\n",
      "yt : [INFO     ] 2020-07-01 12:38:32,789 xlim = -50.000000 50.000000\n",
      "yt : [INFO     ] 2020-07-01 12:38:32,790 ylim = -50.000000 50.000000\n",
      "yt : [INFO     ] 2020-07-01 12:38:32,791 xlim = -50.000000 50.000000\n",
      "yt : [INFO     ] 2020-07-01 12:38:32,791 ylim = -50.000000 50.000000\n",
      "yt : [INFO     ] 2020-07-01 12:38:32,792 Making a fixed resolution buffer of (('boxlib', 'Psi')) 800 by 800\n",
      "yt : [WARNING  ] 2020-07-01 12:38:32,821 Plot image for field ('boxlib', 'Psi') has both positive and negative values. Min = -0.071505, Max = 0.083636.\n",
      "yt : [WARNING  ] 2020-07-01 12:38:32,821 Switching to symlog colorbar scaling unless linear scaling is specified later\n",
      "yt : [INFO     ] 2020-07-01 12:38:33,015 Making a fixed resolution buffer of (('boxlib', 'Psi')) 800 by 800\n",
      "yt : [WARNING  ] 2020-07-01 12:38:33,100 Supplied id_loc but draw_ids is False. Not drawing grid ids\n",
      "yt : [WARNING  ] 2020-07-01 12:38:33,102 Supplied id_loc but draw_ids is False. Not drawing grid ids\n",
      "yt : [WARNING  ] 2020-07-01 12:38:33,104 Supplied id_loc but draw_ids is False. Not drawing grid ids\n",
      "yt : [WARNING  ] 2020-07-01 12:38:33,106 Supplied id_loc but draw_ids is False. Not drawing grid ids\n",
      "yt : [WARNING  ] 2020-07-01 12:38:33,108 Supplied id_loc but draw_ids is False. Not drawing grid ids\n",
      "yt : [WARNING  ] 2020-07-01 12:38:33,110 Supplied id_loc but draw_ids is False. Not drawing grid ids\n",
      "yt : [WARNING  ] 2020-07-01 12:38:33,111 Supplied id_loc but draw_ids is False. Not drawing grid ids\n",
      "yt : [WARNING  ] 2020-07-01 12:38:33,114 Supplied id_loc but draw_ids is False. Not drawing grid ids\n",
      "yt : [WARNING  ] 2020-07-01 12:38:33,116 Supplied id_loc but draw_ids is False. Not drawing grid ids\n",
      "yt : [INFO     ] 2020-07-01 12:38:33,116 Saving plot img00051.png\n"
     ]
    },
    {
     "name": "stdout",
     "output_type": "stream",
     "text": [
      "plt0000051\n",
      "img00051.png\n"
     ]
    },
    {
     "name": "stderr",
     "output_type": "stream",
     "text": [
      "yt : [INFO     ] 2020-07-01 12:38:33,300 Parameters: current_time              = 10.15625\n",
      "yt : [INFO     ] 2020-07-01 12:38:33,301 Parameters: domain_dimensions         = [256 256   1]\n",
      "yt : [INFO     ] 2020-07-01 12:38:33,302 Parameters: domain_left_edge          = [-50. -50.   0.]\n",
      "yt : [INFO     ] 2020-07-01 12:38:33,302 Parameters: domain_right_edge         = [ 50.  50.   1.]\n",
      "yt : [INFO     ] 2020-07-01 12:38:33,404 xlim = -50.000000 50.000000\n",
      "yt : [INFO     ] 2020-07-01 12:38:33,404 ylim = -50.000000 50.000000\n",
      "yt : [INFO     ] 2020-07-01 12:38:33,405 xlim = -50.000000 50.000000\n",
      "yt : [INFO     ] 2020-07-01 12:38:33,406 ylim = -50.000000 50.000000\n",
      "yt : [INFO     ] 2020-07-01 12:38:33,406 Making a fixed resolution buffer of (('boxlib', 'Psi')) 800 by 800\n",
      "yt : [WARNING  ] 2020-07-01 12:38:33,434 Plot image for field ('boxlib', 'Psi') has both positive and negative values. Min = -0.071588, Max = 0.081467.\n",
      "yt : [WARNING  ] 2020-07-01 12:38:33,434 Switching to symlog colorbar scaling unless linear scaling is specified later\n",
      "yt : [INFO     ] 2020-07-01 12:38:33,513 Making a fixed resolution buffer of (('boxlib', 'Psi')) 800 by 800\n",
      "yt : [WARNING  ] 2020-07-01 12:38:33,595 Supplied id_loc but draw_ids is False. Not drawing grid ids\n",
      "yt : [WARNING  ] 2020-07-01 12:38:33,597 Supplied id_loc but draw_ids is False. Not drawing grid ids\n",
      "yt : [WARNING  ] 2020-07-01 12:38:33,598 Supplied id_loc but draw_ids is False. Not drawing grid ids\n",
      "yt : [WARNING  ] 2020-07-01 12:38:33,602 Supplied id_loc but draw_ids is False. Not drawing grid ids\n",
      "yt : [WARNING  ] 2020-07-01 12:38:33,604 Supplied id_loc but draw_ids is False. Not drawing grid ids\n",
      "yt : [WARNING  ] 2020-07-01 12:38:33,605 Supplied id_loc but draw_ids is False. Not drawing grid ids\n",
      "yt : [WARNING  ] 2020-07-01 12:38:33,607 Supplied id_loc but draw_ids is False. Not drawing grid ids\n",
      "yt : [WARNING  ] 2020-07-01 12:38:33,609 Supplied id_loc but draw_ids is False. Not drawing grid ids\n",
      "yt : [WARNING  ] 2020-07-01 12:38:33,611 Supplied id_loc but draw_ids is False. Not drawing grid ids\n",
      "yt : [INFO     ] 2020-07-01 12:38:33,611 Saving plot img00052.png\n"
     ]
    },
    {
     "name": "stdout",
     "output_type": "stream",
     "text": [
      "plt0000052\n",
      "img00052.png\n"
     ]
    },
    {
     "name": "stderr",
     "output_type": "stream",
     "text": [
      "yt : [INFO     ] 2020-07-01 12:38:33,795 Parameters: current_time              = 10.3515625\n",
      "yt : [INFO     ] 2020-07-01 12:38:33,795 Parameters: domain_dimensions         = [256 256   1]\n",
      "yt : [INFO     ] 2020-07-01 12:38:33,796 Parameters: domain_left_edge          = [-50. -50.   0.]\n",
      "yt : [INFO     ] 2020-07-01 12:38:33,797 Parameters: domain_right_edge         = [ 50.  50.   1.]\n",
      "yt : [INFO     ] 2020-07-01 12:38:33,897 xlim = -50.000000 50.000000\n",
      "yt : [INFO     ] 2020-07-01 12:38:33,898 ylim = -50.000000 50.000000\n",
      "yt : [INFO     ] 2020-07-01 12:38:33,899 xlim = -50.000000 50.000000\n",
      "yt : [INFO     ] 2020-07-01 12:38:33,900 ylim = -50.000000 50.000000\n",
      "yt : [INFO     ] 2020-07-01 12:38:33,901 Making a fixed resolution buffer of (('boxlib', 'Psi')) 800 by 800\n",
      "yt : [WARNING  ] 2020-07-01 12:38:33,927 Plot image for field ('boxlib', 'Psi') has both positive and negative values. Min = -0.071607, Max = 0.079381.\n",
      "yt : [WARNING  ] 2020-07-01 12:38:33,928 Switching to symlog colorbar scaling unless linear scaling is specified later\n",
      "yt : [INFO     ] 2020-07-01 12:38:34,005 Making a fixed resolution buffer of (('boxlib', 'Psi')) 800 by 800\n",
      "yt : [WARNING  ] 2020-07-01 12:38:34,088 Supplied id_loc but draw_ids is False. Not drawing grid ids\n",
      "yt : [WARNING  ] 2020-07-01 12:38:34,090 Supplied id_loc but draw_ids is False. Not drawing grid ids\n",
      "yt : [WARNING  ] 2020-07-01 12:38:34,092 Supplied id_loc but draw_ids is False. Not drawing grid ids\n",
      "yt : [WARNING  ] 2020-07-01 12:38:34,093 Supplied id_loc but draw_ids is False. Not drawing grid ids\n",
      "yt : [WARNING  ] 2020-07-01 12:38:34,095 Supplied id_loc but draw_ids is False. Not drawing grid ids\n",
      "yt : [WARNING  ] 2020-07-01 12:38:34,097 Supplied id_loc but draw_ids is False. Not drawing grid ids\n",
      "yt : [WARNING  ] 2020-07-01 12:38:34,099 Supplied id_loc but draw_ids is False. Not drawing grid ids\n",
      "yt : [WARNING  ] 2020-07-01 12:38:34,100 Supplied id_loc but draw_ids is False. Not drawing grid ids\n",
      "yt : [WARNING  ] 2020-07-01 12:38:34,102 Supplied id_loc but draw_ids is False. Not drawing grid ids\n",
      "yt : [INFO     ] 2020-07-01 12:38:34,102 Saving plot img00053.png\n"
     ]
    },
    {
     "name": "stdout",
     "output_type": "stream",
     "text": [
      "plt0000053\n",
      "img00053.png\n"
     ]
    },
    {
     "name": "stderr",
     "output_type": "stream",
     "text": [
      "yt : [INFO     ] 2020-07-01 12:38:34,288 Parameters: current_time              = 10.546875\n",
      "yt : [INFO     ] 2020-07-01 12:38:34,288 Parameters: domain_dimensions         = [256 256   1]\n",
      "yt : [INFO     ] 2020-07-01 12:38:34,289 Parameters: domain_left_edge          = [-50. -50.   0.]\n",
      "yt : [INFO     ] 2020-07-01 12:38:34,290 Parameters: domain_right_edge         = [ 50.  50.   1.]\n",
      "yt : [INFO     ] 2020-07-01 12:38:34,504 xlim = -50.000000 50.000000\n",
      "yt : [INFO     ] 2020-07-01 12:38:34,505 ylim = -50.000000 50.000000\n",
      "yt : [INFO     ] 2020-07-01 12:38:34,506 xlim = -50.000000 50.000000\n",
      "yt : [INFO     ] 2020-07-01 12:38:34,506 ylim = -50.000000 50.000000\n",
      "yt : [INFO     ] 2020-07-01 12:38:34,508 Making a fixed resolution buffer of (('boxlib', 'Psi')) 800 by 800\n",
      "yt : [WARNING  ] 2020-07-01 12:38:34,536 Plot image for field ('boxlib', 'Psi') has both positive and negative values. Min = -0.071638, Max = 0.077317.\n",
      "yt : [WARNING  ] 2020-07-01 12:38:34,536 Switching to symlog colorbar scaling unless linear scaling is specified later\n",
      "yt : [INFO     ] 2020-07-01 12:38:34,614 Making a fixed resolution buffer of (('boxlib', 'Psi')) 800 by 800\n",
      "yt : [WARNING  ] 2020-07-01 12:38:34,697 Supplied id_loc but draw_ids is False. Not drawing grid ids\n",
      "yt : [WARNING  ] 2020-07-01 12:38:34,699 Supplied id_loc but draw_ids is False. Not drawing grid ids\n",
      "yt : [WARNING  ] 2020-07-01 12:38:34,701 Supplied id_loc but draw_ids is False. Not drawing grid ids\n",
      "yt : [WARNING  ] 2020-07-01 12:38:34,703 Supplied id_loc but draw_ids is False. Not drawing grid ids\n",
      "yt : [WARNING  ] 2020-07-01 12:38:34,705 Supplied id_loc but draw_ids is False. Not drawing grid ids\n",
      "yt : [WARNING  ] 2020-07-01 12:38:34,707 Supplied id_loc but draw_ids is False. Not drawing grid ids\n",
      "yt : [WARNING  ] 2020-07-01 12:38:34,709 Supplied id_loc but draw_ids is False. Not drawing grid ids\n",
      "yt : [WARNING  ] 2020-07-01 12:38:34,711 Supplied id_loc but draw_ids is False. Not drawing grid ids\n",
      "yt : [WARNING  ] 2020-07-01 12:38:34,712 Supplied id_loc but draw_ids is False. Not drawing grid ids\n",
      "yt : [INFO     ] 2020-07-01 12:38:34,713 Saving plot img00054.png\n"
     ]
    },
    {
     "name": "stdout",
     "output_type": "stream",
     "text": [
      "plt0000054\n",
      "img00054.png\n"
     ]
    },
    {
     "name": "stderr",
     "output_type": "stream",
     "text": [
      "yt : [INFO     ] 2020-07-01 12:38:34,898 Parameters: current_time              = 10.7421875\n",
      "yt : [INFO     ] 2020-07-01 12:38:34,899 Parameters: domain_dimensions         = [256 256   1]\n",
      "yt : [INFO     ] 2020-07-01 12:38:34,900 Parameters: domain_left_edge          = [-50. -50.   0.]\n",
      "yt : [INFO     ] 2020-07-01 12:38:34,900 Parameters: domain_right_edge         = [ 50.  50.   1.]\n",
      "yt : [INFO     ] 2020-07-01 12:38:35,002 xlim = -50.000000 50.000000\n",
      "yt : [INFO     ] 2020-07-01 12:38:35,003 ylim = -50.000000 50.000000\n",
      "yt : [INFO     ] 2020-07-01 12:38:35,004 xlim = -50.000000 50.000000\n",
      "yt : [INFO     ] 2020-07-01 12:38:35,004 ylim = -50.000000 50.000000\n",
      "yt : [INFO     ] 2020-07-01 12:38:35,005 Making a fixed resolution buffer of (('boxlib', 'Psi')) 800 by 800\n",
      "yt : [WARNING  ] 2020-07-01 12:38:35,033 Plot image for field ('boxlib', 'Psi') has both positive and negative values. Min = -0.071541, Max = 0.075698.\n",
      "yt : [WARNING  ] 2020-07-01 12:38:35,033 Switching to symlog colorbar scaling unless linear scaling is specified later\n",
      "yt : [INFO     ] 2020-07-01 12:38:35,110 Making a fixed resolution buffer of (('boxlib', 'Psi')) 800 by 800\n",
      "yt : [WARNING  ] 2020-07-01 12:38:35,193 Supplied id_loc but draw_ids is False. Not drawing grid ids\n",
      "yt : [WARNING  ] 2020-07-01 12:38:35,195 Supplied id_loc but draw_ids is False. Not drawing grid ids\n",
      "yt : [WARNING  ] 2020-07-01 12:38:35,197 Supplied id_loc but draw_ids is False. Not drawing grid ids\n",
      "yt : [WARNING  ] 2020-07-01 12:38:35,199 Supplied id_loc but draw_ids is False. Not drawing grid ids\n",
      "yt : [WARNING  ] 2020-07-01 12:38:35,201 Supplied id_loc but draw_ids is False. Not drawing grid ids\n",
      "yt : [WARNING  ] 2020-07-01 12:38:35,202 Supplied id_loc but draw_ids is False. Not drawing grid ids\n",
      "yt : [WARNING  ] 2020-07-01 12:38:35,204 Supplied id_loc but draw_ids is False. Not drawing grid ids\n",
      "yt : [WARNING  ] 2020-07-01 12:38:35,206 Supplied id_loc but draw_ids is False. Not drawing grid ids\n",
      "yt : [WARNING  ] 2020-07-01 12:38:35,208 Supplied id_loc but draw_ids is False. Not drawing grid ids\n",
      "yt : [INFO     ] 2020-07-01 12:38:35,209 Saving plot img00055.png\n"
     ]
    },
    {
     "name": "stdout",
     "output_type": "stream",
     "text": [
      "plt0000055\n",
      "img00055.png\n"
     ]
    },
    {
     "name": "stderr",
     "output_type": "stream",
     "text": [
      "yt : [INFO     ] 2020-07-01 12:38:35,392 Parameters: current_time              = 10.9375\n",
      "yt : [INFO     ] 2020-07-01 12:38:35,392 Parameters: domain_dimensions         = [256 256   1]\n",
      "yt : [INFO     ] 2020-07-01 12:38:35,393 Parameters: domain_left_edge          = [-50. -50.   0.]\n",
      "yt : [INFO     ] 2020-07-01 12:38:35,393 Parameters: domain_right_edge         = [ 50.  50.   1.]\n",
      "yt : [INFO     ] 2020-07-01 12:38:35,493 xlim = -50.000000 50.000000\n",
      "yt : [INFO     ] 2020-07-01 12:38:35,493 ylim = -50.000000 50.000000\n",
      "yt : [INFO     ] 2020-07-01 12:38:35,495 xlim = -50.000000 50.000000\n",
      "yt : [INFO     ] 2020-07-01 12:38:35,495 ylim = -50.000000 50.000000\n",
      "yt : [INFO     ] 2020-07-01 12:38:35,496 Making a fixed resolution buffer of (('boxlib', 'Psi')) 800 by 800\n",
      "yt : [WARNING  ] 2020-07-01 12:38:35,522 Plot image for field ('boxlib', 'Psi') has both positive and negative values. Min = -0.071431, Max = 0.073445.\n",
      "yt : [WARNING  ] 2020-07-01 12:38:35,523 Switching to symlog colorbar scaling unless linear scaling is specified later\n",
      "yt : [INFO     ] 2020-07-01 12:38:35,598 Making a fixed resolution buffer of (('boxlib', 'Psi')) 800 by 800\n",
      "yt : [WARNING  ] 2020-07-01 12:38:35,683 Supplied id_loc but draw_ids is False. Not drawing grid ids\n",
      "yt : [WARNING  ] 2020-07-01 12:38:35,685 Supplied id_loc but draw_ids is False. Not drawing grid ids\n",
      "yt : [WARNING  ] 2020-07-01 12:38:35,686 Supplied id_loc but draw_ids is False. Not drawing grid ids\n",
      "yt : [WARNING  ] 2020-07-01 12:38:35,688 Supplied id_loc but draw_ids is False. Not drawing grid ids\n",
      "yt : [WARNING  ] 2020-07-01 12:38:35,690 Supplied id_loc but draw_ids is False. Not drawing grid ids\n",
      "yt : [WARNING  ] 2020-07-01 12:38:35,692 Supplied id_loc but draw_ids is False. Not drawing grid ids\n",
      "yt : [WARNING  ] 2020-07-01 12:38:35,693 Supplied id_loc but draw_ids is False. Not drawing grid ids\n",
      "yt : [WARNING  ] 2020-07-01 12:38:35,695 Supplied id_loc but draw_ids is False. Not drawing grid ids\n",
      "yt : [WARNING  ] 2020-07-01 12:38:35,697 Supplied id_loc but draw_ids is False. Not drawing grid ids\n",
      "yt : [INFO     ] 2020-07-01 12:38:35,697 Saving plot img00056.png\n"
     ]
    },
    {
     "name": "stdout",
     "output_type": "stream",
     "text": [
      "plt0000056\n",
      "img00056.png\n"
     ]
    },
    {
     "name": "stderr",
     "output_type": "stream",
     "text": [
      "yt : [INFO     ] 2020-07-01 12:38:35,976 Parameters: current_time              = 11.1328125\n",
      "yt : [INFO     ] 2020-07-01 12:38:35,977 Parameters: domain_dimensions         = [256 256   1]\n",
      "yt : [INFO     ] 2020-07-01 12:38:35,977 Parameters: domain_left_edge          = [-50. -50.   0.]\n",
      "yt : [INFO     ] 2020-07-01 12:38:35,978 Parameters: domain_right_edge         = [ 50.  50.   1.]\n",
      "yt : [INFO     ] 2020-07-01 12:38:36,077 xlim = -50.000000 50.000000\n",
      "yt : [INFO     ] 2020-07-01 12:38:36,077 ylim = -50.000000 50.000000\n",
      "yt : [INFO     ] 2020-07-01 12:38:36,079 xlim = -50.000000 50.000000\n",
      "yt : [INFO     ] 2020-07-01 12:38:36,079 ylim = -50.000000 50.000000\n",
      "yt : [INFO     ] 2020-07-01 12:38:36,080 Making a fixed resolution buffer of (('boxlib', 'Psi')) 800 by 800\n",
      "yt : [WARNING  ] 2020-07-01 12:38:36,106 Plot image for field ('boxlib', 'Psi') has both positive and negative values. Min = -0.071170, Max = 0.071265.\n",
      "yt : [WARNING  ] 2020-07-01 12:38:36,107 Switching to symlog colorbar scaling unless linear scaling is specified later\n",
      "yt : [INFO     ] 2020-07-01 12:38:36,184 Making a fixed resolution buffer of (('boxlib', 'Psi')) 800 by 800\n",
      "yt : [WARNING  ] 2020-07-01 12:38:36,268 Supplied id_loc but draw_ids is False. Not drawing grid ids\n",
      "yt : [WARNING  ] 2020-07-01 12:38:36,270 Supplied id_loc but draw_ids is False. Not drawing grid ids\n",
      "yt : [WARNING  ] 2020-07-01 12:38:36,272 Supplied id_loc but draw_ids is False. Not drawing grid ids\n",
      "yt : [WARNING  ] 2020-07-01 12:38:36,273 Supplied id_loc but draw_ids is False. Not drawing grid ids\n",
      "yt : [WARNING  ] 2020-07-01 12:38:36,275 Supplied id_loc but draw_ids is False. Not drawing grid ids\n",
      "yt : [WARNING  ] 2020-07-01 12:38:36,277 Supplied id_loc but draw_ids is False. Not drawing grid ids\n",
      "yt : [WARNING  ] 2020-07-01 12:38:36,279 Supplied id_loc but draw_ids is False. Not drawing grid ids\n",
      "yt : [WARNING  ] 2020-07-01 12:38:36,281 Supplied id_loc but draw_ids is False. Not drawing grid ids\n",
      "yt : [WARNING  ] 2020-07-01 12:38:36,283 Supplied id_loc but draw_ids is False. Not drawing grid ids\n",
      "yt : [INFO     ] 2020-07-01 12:38:36,283 Saving plot img00057.png\n"
     ]
    },
    {
     "name": "stdout",
     "output_type": "stream",
     "text": [
      "plt0000057\n",
      "img00057.png\n"
     ]
    },
    {
     "name": "stderr",
     "output_type": "stream",
     "text": [
      "yt : [INFO     ] 2020-07-01 12:38:36,468 Parameters: current_time              = 11.328125\n",
      "yt : [INFO     ] 2020-07-01 12:38:36,469 Parameters: domain_dimensions         = [256 256   1]\n",
      "yt : [INFO     ] 2020-07-01 12:38:36,469 Parameters: domain_left_edge          = [-50. -50.   0.]\n",
      "yt : [INFO     ] 2020-07-01 12:38:36,470 Parameters: domain_right_edge         = [ 50.  50.   1.]\n",
      "yt : [INFO     ] 2020-07-01 12:38:36,570 xlim = -50.000000 50.000000\n",
      "yt : [INFO     ] 2020-07-01 12:38:36,570 ylim = -50.000000 50.000000\n",
      "yt : [INFO     ] 2020-07-01 12:38:36,571 xlim = -50.000000 50.000000\n",
      "yt : [INFO     ] 2020-07-01 12:38:36,571 ylim = -50.000000 50.000000\n",
      "yt : [INFO     ] 2020-07-01 12:38:36,572 Making a fixed resolution buffer of (('boxlib', 'Psi')) 800 by 800\n",
      "yt : [WARNING  ] 2020-07-01 12:38:36,599 Plot image for field ('boxlib', 'Psi') has both positive and negative values. Min = -0.070968, Max = 0.069367.\n",
      "yt : [WARNING  ] 2020-07-01 12:38:36,599 Switching to symlog colorbar scaling unless linear scaling is specified later\n",
      "yt : [INFO     ] 2020-07-01 12:38:36,675 Making a fixed resolution buffer of (('boxlib', 'Psi')) 800 by 800\n",
      "yt : [WARNING  ] 2020-07-01 12:38:36,756 Supplied id_loc but draw_ids is False. Not drawing grid ids\n",
      "yt : [WARNING  ] 2020-07-01 12:38:36,758 Supplied id_loc but draw_ids is False. Not drawing grid ids\n",
      "yt : [WARNING  ] 2020-07-01 12:38:36,760 Supplied id_loc but draw_ids is False. Not drawing grid ids\n",
      "yt : [WARNING  ] 2020-07-01 12:38:36,762 Supplied id_loc but draw_ids is False. Not drawing grid ids\n",
      "yt : [WARNING  ] 2020-07-01 12:38:36,765 Supplied id_loc but draw_ids is False. Not drawing grid ids\n",
      "yt : [WARNING  ] 2020-07-01 12:38:36,767 Supplied id_loc but draw_ids is False. Not drawing grid ids\n",
      "yt : [WARNING  ] 2020-07-01 12:38:36,769 Supplied id_loc but draw_ids is False. Not drawing grid ids\n",
      "yt : [WARNING  ] 2020-07-01 12:38:36,771 Supplied id_loc but draw_ids is False. Not drawing grid ids\n",
      "yt : [WARNING  ] 2020-07-01 12:38:36,772 Supplied id_loc but draw_ids is False. Not drawing grid ids\n",
      "yt : [INFO     ] 2020-07-01 12:38:36,773 Saving plot img00058.png\n"
     ]
    },
    {
     "name": "stdout",
     "output_type": "stream",
     "text": [
      "plt0000058\n",
      "img00058.png\n"
     ]
    },
    {
     "name": "stderr",
     "output_type": "stream",
     "text": [
      "yt : [INFO     ] 2020-07-01 12:38:36,957 Parameters: current_time              = 11.5234375\n",
      "yt : [INFO     ] 2020-07-01 12:38:36,957 Parameters: domain_dimensions         = [256 256   1]\n",
      "yt : [INFO     ] 2020-07-01 12:38:36,958 Parameters: domain_left_edge          = [-50. -50.   0.]\n",
      "yt : [INFO     ] 2020-07-01 12:38:36,958 Parameters: domain_right_edge         = [ 50.  50.   1.]\n",
      "yt : [INFO     ] 2020-07-01 12:38:37,057 xlim = -50.000000 50.000000\n",
      "yt : [INFO     ] 2020-07-01 12:38:37,058 ylim = -50.000000 50.000000\n",
      "yt : [INFO     ] 2020-07-01 12:38:37,059 xlim = -50.000000 50.000000\n",
      "yt : [INFO     ] 2020-07-01 12:38:37,059 ylim = -50.000000 50.000000\n",
      "yt : [INFO     ] 2020-07-01 12:38:37,060 Making a fixed resolution buffer of (('boxlib', 'Psi')) 800 by 800\n",
      "yt : [WARNING  ] 2020-07-01 12:38:37,087 Plot image for field ('boxlib', 'Psi') has both positive and negative values. Min = -0.070677, Max = 0.067638.\n",
      "yt : [WARNING  ] 2020-07-01 12:38:37,087 Switching to symlog colorbar scaling unless linear scaling is specified later\n",
      "yt : [INFO     ] 2020-07-01 12:38:37,265 Making a fixed resolution buffer of (('boxlib', 'Psi')) 800 by 800\n",
      "yt : [WARNING  ] 2020-07-01 12:38:37,355 Supplied id_loc but draw_ids is False. Not drawing grid ids\n",
      "yt : [WARNING  ] 2020-07-01 12:38:37,357 Supplied id_loc but draw_ids is False. Not drawing grid ids\n",
      "yt : [WARNING  ] 2020-07-01 12:38:37,359 Supplied id_loc but draw_ids is False. Not drawing grid ids\n",
      "yt : [WARNING  ] 2020-07-01 12:38:37,360 Supplied id_loc but draw_ids is False. Not drawing grid ids\n",
      "yt : [WARNING  ] 2020-07-01 12:38:37,362 Supplied id_loc but draw_ids is False. Not drawing grid ids\n",
      "yt : [WARNING  ] 2020-07-01 12:38:37,364 Supplied id_loc but draw_ids is False. Not drawing grid ids\n",
      "yt : [WARNING  ] 2020-07-01 12:38:37,366 Supplied id_loc but draw_ids is False. Not drawing grid ids\n",
      "yt : [WARNING  ] 2020-07-01 12:38:37,368 Supplied id_loc but draw_ids is False. Not drawing grid ids\n",
      "yt : [WARNING  ] 2020-07-01 12:38:37,369 Supplied id_loc but draw_ids is False. Not drawing grid ids\n",
      "yt : [INFO     ] 2020-07-01 12:38:37,370 Saving plot img00059.png\n"
     ]
    },
    {
     "name": "stdout",
     "output_type": "stream",
     "text": [
      "plt0000059\n",
      "img00059.png\n"
     ]
    },
    {
     "name": "stderr",
     "output_type": "stream",
     "text": [
      "yt : [INFO     ] 2020-07-01 12:38:37,555 Parameters: current_time              = 11.71875\n",
      "yt : [INFO     ] 2020-07-01 12:38:37,556 Parameters: domain_dimensions         = [256 256   1]\n",
      "yt : [INFO     ] 2020-07-01 12:38:37,556 Parameters: domain_left_edge          = [-50. -50.   0.]\n",
      "yt : [INFO     ] 2020-07-01 12:38:37,557 Parameters: domain_right_edge         = [ 50.  50.   1.]\n",
      "yt : [INFO     ] 2020-07-01 12:38:37,658 xlim = -50.000000 50.000000\n",
      "yt : [INFO     ] 2020-07-01 12:38:37,658 ylim = -50.000000 50.000000\n",
      "yt : [INFO     ] 2020-07-01 12:38:37,659 xlim = -50.000000 50.000000\n",
      "yt : [INFO     ] 2020-07-01 12:38:37,660 ylim = -50.000000 50.000000\n",
      "yt : [INFO     ] 2020-07-01 12:38:37,660 Making a fixed resolution buffer of (('boxlib', 'Psi')) 800 by 800\n",
      "yt : [WARNING  ] 2020-07-01 12:38:37,688 Plot image for field ('boxlib', 'Psi') has both positive and negative values. Min = -0.070332, Max = 0.065946.\n",
      "yt : [WARNING  ] 2020-07-01 12:38:37,688 Switching to symlog colorbar scaling unless linear scaling is specified later\n",
      "yt : [INFO     ] 2020-07-01 12:38:37,764 Making a fixed resolution buffer of (('boxlib', 'Psi')) 800 by 800\n",
      "yt : [WARNING  ] 2020-07-01 12:38:37,847 Supplied id_loc but draw_ids is False. Not drawing grid ids\n",
      "yt : [WARNING  ] 2020-07-01 12:38:37,849 Supplied id_loc but draw_ids is False. Not drawing grid ids\n",
      "yt : [WARNING  ] 2020-07-01 12:38:37,850 Supplied id_loc but draw_ids is False. Not drawing grid ids\n",
      "yt : [WARNING  ] 2020-07-01 12:38:37,852 Supplied id_loc but draw_ids is False. Not drawing grid ids\n",
      "yt : [WARNING  ] 2020-07-01 12:38:37,854 Supplied id_loc but draw_ids is False. Not drawing grid ids\n",
      "yt : [WARNING  ] 2020-07-01 12:38:37,856 Supplied id_loc but draw_ids is False. Not drawing grid ids\n",
      "yt : [WARNING  ] 2020-07-01 12:38:37,858 Supplied id_loc but draw_ids is False. Not drawing grid ids\n",
      "yt : [WARNING  ] 2020-07-01 12:38:37,860 Supplied id_loc but draw_ids is False. Not drawing grid ids\n",
      "yt : [WARNING  ] 2020-07-01 12:38:37,861 Supplied id_loc but draw_ids is False. Not drawing grid ids\n",
      "yt : [INFO     ] 2020-07-01 12:38:37,862 Saving plot img00060.png\n"
     ]
    },
    {
     "name": "stdout",
     "output_type": "stream",
     "text": [
      "plt0000060\n",
      "img00060.png\n"
     ]
    },
    {
     "name": "stderr",
     "output_type": "stream",
     "text": [
      "yt : [INFO     ] 2020-07-01 12:38:38,048 Parameters: current_time              = 11.9140625\n",
      "yt : [INFO     ] 2020-07-01 12:38:38,048 Parameters: domain_dimensions         = [256 256   1]\n",
      "yt : [INFO     ] 2020-07-01 12:38:38,049 Parameters: domain_left_edge          = [-50. -50.   0.]\n",
      "yt : [INFO     ] 2020-07-01 12:38:38,049 Parameters: domain_right_edge         = [ 50.  50.   1.]\n",
      "yt : [INFO     ] 2020-07-01 12:38:38,149 xlim = -50.000000 50.000000\n",
      "yt : [INFO     ] 2020-07-01 12:38:38,150 ylim = -50.000000 50.000000\n",
      "yt : [INFO     ] 2020-07-01 12:38:38,151 xlim = -50.000000 50.000000\n",
      "yt : [INFO     ] 2020-07-01 12:38:38,151 ylim = -50.000000 50.000000\n",
      "yt : [INFO     ] 2020-07-01 12:38:38,152 Making a fixed resolution buffer of (('boxlib', 'Psi')) 800 by 800\n",
      "yt : [WARNING  ] 2020-07-01 12:38:38,180 Plot image for field ('boxlib', 'Psi') has both positive and negative values. Min = -0.070159, Max = 0.064311.\n",
      "yt : [WARNING  ] 2020-07-01 12:38:38,180 Switching to symlog colorbar scaling unless linear scaling is specified later\n",
      "yt : [INFO     ] 2020-07-01 12:38:38,255 Making a fixed resolution buffer of (('boxlib', 'Psi')) 800 by 800\n",
      "yt : [WARNING  ] 2020-07-01 12:38:38,339 Supplied id_loc but draw_ids is False. Not drawing grid ids\n",
      "yt : [WARNING  ] 2020-07-01 12:38:38,341 Supplied id_loc but draw_ids is False. Not drawing grid ids\n",
      "yt : [WARNING  ] 2020-07-01 12:38:38,342 Supplied id_loc but draw_ids is False. Not drawing grid ids\n",
      "yt : [WARNING  ] 2020-07-01 12:38:38,344 Supplied id_loc but draw_ids is False. Not drawing grid ids\n",
      "yt : [WARNING  ] 2020-07-01 12:38:38,346 Supplied id_loc but draw_ids is False. Not drawing grid ids\n",
      "yt : [WARNING  ] 2020-07-01 12:38:38,347 Supplied id_loc but draw_ids is False. Not drawing grid ids\n",
      "yt : [WARNING  ] 2020-07-01 12:38:38,350 Supplied id_loc but draw_ids is False. Not drawing grid ids\n",
      "yt : [WARNING  ] 2020-07-01 12:38:38,351 Supplied id_loc but draw_ids is False. Not drawing grid ids\n",
      "yt : [WARNING  ] 2020-07-01 12:38:38,353 Supplied id_loc but draw_ids is False. Not drawing grid ids\n",
      "yt : [INFO     ] 2020-07-01 12:38:38,353 Saving plot img00061.png\n"
     ]
    },
    {
     "name": "stdout",
     "output_type": "stream",
     "text": [
      "plt0000061\n",
      "img00061.png\n"
     ]
    },
    {
     "name": "stderr",
     "output_type": "stream",
     "text": [
      "yt : [INFO     ] 2020-07-01 12:38:38,544 Parameters: current_time              = 12.109375\n",
      "yt : [INFO     ] 2020-07-01 12:38:38,544 Parameters: domain_dimensions         = [256 256   1]\n",
      "yt : [INFO     ] 2020-07-01 12:38:38,545 Parameters: domain_left_edge          = [-50. -50.   0.]\n",
      "yt : [INFO     ] 2020-07-01 12:38:38,545 Parameters: domain_right_edge         = [ 50.  50.   1.]\n",
      "yt : [INFO     ] 2020-07-01 12:38:38,645 xlim = -50.000000 50.000000\n",
      "yt : [INFO     ] 2020-07-01 12:38:38,645 ylim = -50.000000 50.000000\n",
      "yt : [INFO     ] 2020-07-01 12:38:38,647 xlim = -50.000000 50.000000\n",
      "yt : [INFO     ] 2020-07-01 12:38:38,647 ylim = -50.000000 50.000000\n",
      "yt : [INFO     ] 2020-07-01 12:38:38,648 Making a fixed resolution buffer of (('boxlib', 'Psi')) 800 by 800\n",
      "yt : [WARNING  ] 2020-07-01 12:38:38,677 Plot image for field ('boxlib', 'Psi') has both positive and negative values. Min = -0.069838, Max = 0.062535.\n",
      "yt : [WARNING  ] 2020-07-01 12:38:38,678 Switching to symlog colorbar scaling unless linear scaling is specified later\n",
      "yt : [INFO     ] 2020-07-01 12:38:38,863 Making a fixed resolution buffer of (('boxlib', 'Psi')) 800 by 800\n",
      "yt : [WARNING  ] 2020-07-01 12:38:38,948 Supplied id_loc but draw_ids is False. Not drawing grid ids\n",
      "yt : [WARNING  ] 2020-07-01 12:38:38,950 Supplied id_loc but draw_ids is False. Not drawing grid ids\n",
      "yt : [WARNING  ] 2020-07-01 12:38:38,952 Supplied id_loc but draw_ids is False. Not drawing grid ids\n",
      "yt : [WARNING  ] 2020-07-01 12:38:38,953 Supplied id_loc but draw_ids is False. Not drawing grid ids\n",
      "yt : [WARNING  ] 2020-07-01 12:38:38,955 Supplied id_loc but draw_ids is False. Not drawing grid ids\n",
      "yt : [WARNING  ] 2020-07-01 12:38:38,957 Supplied id_loc but draw_ids is False. Not drawing grid ids\n",
      "yt : [WARNING  ] 2020-07-01 12:38:38,959 Supplied id_loc but draw_ids is False. Not drawing grid ids\n",
      "yt : [WARNING  ] 2020-07-01 12:38:38,961 Supplied id_loc but draw_ids is False. Not drawing grid ids\n",
      "yt : [WARNING  ] 2020-07-01 12:38:38,962 Supplied id_loc but draw_ids is False. Not drawing grid ids\n",
      "yt : [INFO     ] 2020-07-01 12:38:38,963 Saving plot img00062.png\n"
     ]
    },
    {
     "name": "stdout",
     "output_type": "stream",
     "text": [
      "plt0000062\n",
      "img00062.png\n"
     ]
    },
    {
     "name": "stderr",
     "output_type": "stream",
     "text": [
      "yt : [INFO     ] 2020-07-01 12:38:39,154 Parameters: current_time              = 12.3046875\n",
      "yt : [INFO     ] 2020-07-01 12:38:39,154 Parameters: domain_dimensions         = [256 256   1]\n",
      "yt : [INFO     ] 2020-07-01 12:38:39,155 Parameters: domain_left_edge          = [-50. -50.   0.]\n",
      "yt : [INFO     ] 2020-07-01 12:38:39,155 Parameters: domain_right_edge         = [ 50.  50.   1.]\n",
      "yt : [INFO     ] 2020-07-01 12:38:39,255 xlim = -50.000000 50.000000\n",
      "yt : [INFO     ] 2020-07-01 12:38:39,255 ylim = -50.000000 50.000000\n",
      "yt : [INFO     ] 2020-07-01 12:38:39,256 xlim = -50.000000 50.000000\n",
      "yt : [INFO     ] 2020-07-01 12:38:39,257 ylim = -50.000000 50.000000\n",
      "yt : [INFO     ] 2020-07-01 12:38:39,258 Making a fixed resolution buffer of (('boxlib', 'Psi')) 800 by 800\n",
      "yt : [WARNING  ] 2020-07-01 12:38:39,285 Plot image for field ('boxlib', 'Psi') has both positive and negative values. Min = -0.069278, Max = 0.061024.\n",
      "yt : [WARNING  ] 2020-07-01 12:38:39,285 Switching to symlog colorbar scaling unless linear scaling is specified later\n",
      "yt : [INFO     ] 2020-07-01 12:38:39,359 Making a fixed resolution buffer of (('boxlib', 'Psi')) 800 by 800\n",
      "yt : [WARNING  ] 2020-07-01 12:38:39,443 Supplied id_loc but draw_ids is False. Not drawing grid ids\n",
      "yt : [WARNING  ] 2020-07-01 12:38:39,445 Supplied id_loc but draw_ids is False. Not drawing grid ids\n",
      "yt : [WARNING  ] 2020-07-01 12:38:39,447 Supplied id_loc but draw_ids is False. Not drawing grid ids\n",
      "yt : [WARNING  ] 2020-07-01 12:38:39,448 Supplied id_loc but draw_ids is False. Not drawing grid ids\n",
      "yt : [WARNING  ] 2020-07-01 12:38:39,450 Supplied id_loc but draw_ids is False. Not drawing grid ids\n",
      "yt : [WARNING  ] 2020-07-01 12:38:39,452 Supplied id_loc but draw_ids is False. Not drawing grid ids\n",
      "yt : [WARNING  ] 2020-07-01 12:38:39,454 Supplied id_loc but draw_ids is False. Not drawing grid ids\n",
      "yt : [WARNING  ] 2020-07-01 12:38:39,455 Supplied id_loc but draw_ids is False. Not drawing grid ids\n",
      "yt : [WARNING  ] 2020-07-01 12:38:39,457 Supplied id_loc but draw_ids is False. Not drawing grid ids\n",
      "yt : [INFO     ] 2020-07-01 12:38:39,458 Saving plot img00063.png\n"
     ]
    },
    {
     "name": "stdout",
     "output_type": "stream",
     "text": [
      "plt0000063\n",
      "img00063.png\n"
     ]
    },
    {
     "name": "stderr",
     "output_type": "stream",
     "text": [
      "yt : [INFO     ] 2020-07-01 12:38:39,647 Parameters: current_time              = 12.5\n",
      "yt : [INFO     ] 2020-07-01 12:38:39,648 Parameters: domain_dimensions         = [256 256   1]\n",
      "yt : [INFO     ] 2020-07-01 12:38:39,648 Parameters: domain_left_edge          = [-50. -50.   0.]\n",
      "yt : [INFO     ] 2020-07-01 12:38:39,649 Parameters: domain_right_edge         = [ 50.  50.   1.]\n",
      "yt : [INFO     ] 2020-07-01 12:38:39,748 xlim = -50.000000 50.000000\n",
      "yt : [INFO     ] 2020-07-01 12:38:39,749 ylim = -50.000000 50.000000\n",
      "yt : [INFO     ] 2020-07-01 12:38:39,750 xlim = -50.000000 50.000000\n",
      "yt : [INFO     ] 2020-07-01 12:38:39,750 ylim = -50.000000 50.000000\n",
      "yt : [INFO     ] 2020-07-01 12:38:39,751 Making a fixed resolution buffer of (('boxlib', 'Psi')) 800 by 800\n",
      "yt : [WARNING  ] 2020-07-01 12:38:39,779 Plot image for field ('boxlib', 'Psi') has both positive and negative values. Min = -0.068621, Max = 0.059267.\n",
      "yt : [WARNING  ] 2020-07-01 12:38:39,779 Switching to symlog colorbar scaling unless linear scaling is specified later\n",
      "yt : [INFO     ] 2020-07-01 12:38:39,852 Making a fixed resolution buffer of (('boxlib', 'Psi')) 800 by 800\n",
      "yt : [WARNING  ] 2020-07-01 12:38:39,933 Supplied id_loc but draw_ids is False. Not drawing grid ids\n",
      "yt : [WARNING  ] 2020-07-01 12:38:39,935 Supplied id_loc but draw_ids is False. Not drawing grid ids\n",
      "yt : [WARNING  ] 2020-07-01 12:38:39,937 Supplied id_loc but draw_ids is False. Not drawing grid ids\n",
      "yt : [WARNING  ] 2020-07-01 12:38:39,939 Supplied id_loc but draw_ids is False. Not drawing grid ids\n",
      "yt : [WARNING  ] 2020-07-01 12:38:39,940 Supplied id_loc but draw_ids is False. Not drawing grid ids\n",
      "yt : [WARNING  ] 2020-07-01 12:38:39,944 Supplied id_loc but draw_ids is False. Not drawing grid ids\n",
      "yt : [WARNING  ] 2020-07-01 12:38:39,945 Supplied id_loc but draw_ids is False. Not drawing grid ids\n",
      "yt : [WARNING  ] 2020-07-01 12:38:39,948 Supplied id_loc but draw_ids is False. Not drawing grid ids\n",
      "yt : [WARNING  ] 2020-07-01 12:38:39,949 Supplied id_loc but draw_ids is False. Not drawing grid ids\n",
      "yt : [INFO     ] 2020-07-01 12:38:39,950 Saving plot img00064.png\n"
     ]
    },
    {
     "name": "stdout",
     "output_type": "stream",
     "text": [
      "plt0000064\n",
      "img00064.png\n"
     ]
    },
    {
     "name": "stderr",
     "output_type": "stream",
     "text": [
      "yt : [INFO     ] 2020-07-01 12:38:40,141 Parameters: current_time              = 12.6953125\n",
      "yt : [INFO     ] 2020-07-01 12:38:40,141 Parameters: domain_dimensions         = [256 256   1]\n",
      "yt : [INFO     ] 2020-07-01 12:38:40,142 Parameters: domain_left_edge          = [-50. -50.   0.]\n",
      "yt : [INFO     ] 2020-07-01 12:38:40,142 Parameters: domain_right_edge         = [ 50.  50.   1.]\n",
      "yt : [INFO     ] 2020-07-01 12:38:40,358 xlim = -50.000000 50.000000\n",
      "yt : [INFO     ] 2020-07-01 12:38:40,359 ylim = -50.000000 50.000000\n",
      "yt : [INFO     ] 2020-07-01 12:38:40,360 xlim = -50.000000 50.000000\n",
      "yt : [INFO     ] 2020-07-01 12:38:40,360 ylim = -50.000000 50.000000\n",
      "yt : [INFO     ] 2020-07-01 12:38:40,361 Making a fixed resolution buffer of (('boxlib', 'Psi')) 800 by 800\n",
      "yt : [WARNING  ] 2020-07-01 12:38:40,390 Plot image for field ('boxlib', 'Psi') has both positive and negative values. Min = -0.068035, Max = 0.057391.\n",
      "yt : [WARNING  ] 2020-07-01 12:38:40,390 Switching to symlog colorbar scaling unless linear scaling is specified later\n",
      "yt : [INFO     ] 2020-07-01 12:38:40,464 Making a fixed resolution buffer of (('boxlib', 'Psi')) 800 by 800\n",
      "yt : [WARNING  ] 2020-07-01 12:38:40,547 Supplied id_loc but draw_ids is False. Not drawing grid ids\n",
      "yt : [WARNING  ] 2020-07-01 12:38:40,549 Supplied id_loc but draw_ids is False. Not drawing grid ids\n",
      "yt : [WARNING  ] 2020-07-01 12:38:40,551 Supplied id_loc but draw_ids is False. Not drawing grid ids\n",
      "yt : [WARNING  ] 2020-07-01 12:38:40,552 Supplied id_loc but draw_ids is False. Not drawing grid ids\n",
      "yt : [WARNING  ] 2020-07-01 12:38:40,554 Supplied id_loc but draw_ids is False. Not drawing grid ids\n",
      "yt : [WARNING  ] 2020-07-01 12:38:40,556 Supplied id_loc but draw_ids is False. Not drawing grid ids\n",
      "yt : [WARNING  ] 2020-07-01 12:38:40,558 Supplied id_loc but draw_ids is False. Not drawing grid ids\n",
      "yt : [WARNING  ] 2020-07-01 12:38:40,560 Supplied id_loc but draw_ids is False. Not drawing grid ids\n",
      "yt : [WARNING  ] 2020-07-01 12:38:40,561 Supplied id_loc but draw_ids is False. Not drawing grid ids\n",
      "yt : [INFO     ] 2020-07-01 12:38:40,562 Saving plot img00065.png\n"
     ]
    },
    {
     "name": "stdout",
     "output_type": "stream",
     "text": [
      "plt0000065\n",
      "img00065.png\n"
     ]
    },
    {
     "name": "stderr",
     "output_type": "stream",
     "text": [
      "yt : [INFO     ] 2020-07-01 12:38:40,754 Parameters: current_time              = 12.890625\n",
      "yt : [INFO     ] 2020-07-01 12:38:40,755 Parameters: domain_dimensions         = [256 256   1]\n",
      "yt : [INFO     ] 2020-07-01 12:38:40,755 Parameters: domain_left_edge          = [-50. -50.   0.]\n",
      "yt : [INFO     ] 2020-07-01 12:38:40,756 Parameters: domain_right_edge         = [ 50.  50.   1.]\n",
      "yt : [INFO     ] 2020-07-01 12:38:40,857 xlim = -50.000000 50.000000\n",
      "yt : [INFO     ] 2020-07-01 12:38:40,857 ylim = -50.000000 50.000000\n",
      "yt : [INFO     ] 2020-07-01 12:38:40,858 xlim = -50.000000 50.000000\n",
      "yt : [INFO     ] 2020-07-01 12:38:40,859 ylim = -50.000000 50.000000\n",
      "yt : [INFO     ] 2020-07-01 12:38:40,859 Making a fixed resolution buffer of (('boxlib', 'Psi')) 800 by 800\n",
      "yt : [WARNING  ] 2020-07-01 12:38:40,887 Plot image for field ('boxlib', 'Psi') has both positive and negative values. Min = -0.067501, Max = 0.055843.\n",
      "yt : [WARNING  ] 2020-07-01 12:38:40,888 Switching to symlog colorbar scaling unless linear scaling is specified later\n",
      "yt : [INFO     ] 2020-07-01 12:38:40,960 Making a fixed resolution buffer of (('boxlib', 'Psi')) 800 by 800\n",
      "yt : [WARNING  ] 2020-07-01 12:38:41,042 Supplied id_loc but draw_ids is False. Not drawing grid ids\n",
      "yt : [WARNING  ] 2020-07-01 12:38:41,045 Supplied id_loc but draw_ids is False. Not drawing grid ids\n",
      "yt : [WARNING  ] 2020-07-01 12:38:41,046 Supplied id_loc but draw_ids is False. Not drawing grid ids\n",
      "yt : [WARNING  ] 2020-07-01 12:38:41,048 Supplied id_loc but draw_ids is False. Not drawing grid ids\n",
      "yt : [WARNING  ] 2020-07-01 12:38:41,050 Supplied id_loc but draw_ids is False. Not drawing grid ids\n",
      "yt : [WARNING  ] 2020-07-01 12:38:41,052 Supplied id_loc but draw_ids is False. Not drawing grid ids\n",
      "yt : [WARNING  ] 2020-07-01 12:38:41,053 Supplied id_loc but draw_ids is False. Not drawing grid ids\n",
      "yt : [WARNING  ] 2020-07-01 12:38:41,055 Supplied id_loc but draw_ids is False. Not drawing grid ids\n",
      "yt : [WARNING  ] 2020-07-01 12:38:41,057 Supplied id_loc but draw_ids is False. Not drawing grid ids\n",
      "yt : [INFO     ] 2020-07-01 12:38:41,057 Saving plot img00066.png\n"
     ]
    },
    {
     "name": "stdout",
     "output_type": "stream",
     "text": [
      "plt0000066\n",
      "img00066.png\n"
     ]
    },
    {
     "name": "stderr",
     "output_type": "stream",
     "text": [
      "yt : [INFO     ] 2020-07-01 12:38:41,250 Parameters: current_time              = 13.0859375\n",
      "yt : [INFO     ] 2020-07-01 12:38:41,250 Parameters: domain_dimensions         = [256 256   1]\n",
      "yt : [INFO     ] 2020-07-01 12:38:41,251 Parameters: domain_left_edge          = [-50. -50.   0.]\n",
      "yt : [INFO     ] 2020-07-01 12:38:41,251 Parameters: domain_right_edge         = [ 50.  50.   1.]\n",
      "yt : [INFO     ] 2020-07-01 12:38:41,351 xlim = -50.000000 50.000000\n",
      "yt : [INFO     ] 2020-07-01 12:38:41,352 ylim = -50.000000 50.000000\n",
      "yt : [INFO     ] 2020-07-01 12:38:41,353 xlim = -50.000000 50.000000\n",
      "yt : [INFO     ] 2020-07-01 12:38:41,353 ylim = -50.000000 50.000000\n",
      "yt : [INFO     ] 2020-07-01 12:38:41,354 Making a fixed resolution buffer of (('boxlib', 'Psi')) 800 by 800\n",
      "yt : [WARNING  ] 2020-07-01 12:38:41,382 Plot image for field ('boxlib', 'Psi') has both positive and negative values. Min = -0.066913, Max = 0.054412.\n",
      "yt : [WARNING  ] 2020-07-01 12:38:41,382 Switching to symlog colorbar scaling unless linear scaling is specified later\n",
      "yt : [INFO     ] 2020-07-01 12:38:41,454 Making a fixed resolution buffer of (('boxlib', 'Psi')) 800 by 800\n",
      "yt : [WARNING  ] 2020-07-01 12:38:41,538 Supplied id_loc but draw_ids is False. Not drawing grid ids\n",
      "yt : [WARNING  ] 2020-07-01 12:38:41,540 Supplied id_loc but draw_ids is False. Not drawing grid ids\n",
      "yt : [WARNING  ] 2020-07-01 12:38:41,541 Supplied id_loc but draw_ids is False. Not drawing grid ids\n",
      "yt : [WARNING  ] 2020-07-01 12:38:41,543 Supplied id_loc but draw_ids is False. Not drawing grid ids\n",
      "yt : [WARNING  ] 2020-07-01 12:38:41,545 Supplied id_loc but draw_ids is False. Not drawing grid ids\n",
      "yt : [WARNING  ] 2020-07-01 12:38:41,547 Supplied id_loc but draw_ids is False. Not drawing grid ids\n",
      "yt : [WARNING  ] 2020-07-01 12:38:41,549 Supplied id_loc but draw_ids is False. Not drawing grid ids\n",
      "yt : [WARNING  ] 2020-07-01 12:38:41,550 Supplied id_loc but draw_ids is False. Not drawing grid ids\n",
      "yt : [WARNING  ] 2020-07-01 12:38:41,552 Supplied id_loc but draw_ids is False. Not drawing grid ids\n",
      "yt : [INFO     ] 2020-07-01 12:38:41,553 Saving plot img00067.png\n"
     ]
    },
    {
     "name": "stdout",
     "output_type": "stream",
     "text": [
      "plt0000067\n",
      "img00067.png\n"
     ]
    },
    {
     "name": "stderr",
     "output_type": "stream",
     "text": [
      "yt : [INFO     ] 2020-07-01 12:38:41,751 Parameters: current_time              = 13.28125\n",
      "yt : [INFO     ] 2020-07-01 12:38:41,751 Parameters: domain_dimensions         = [256 256   1]\n",
      "yt : [INFO     ] 2020-07-01 12:38:41,752 Parameters: domain_left_edge          = [-50. -50.   0.]\n",
      "yt : [INFO     ] 2020-07-01 12:38:41,753 Parameters: domain_right_edge         = [ 50.  50.   1.]\n",
      "yt : [INFO     ] 2020-07-01 12:38:41,964 xlim = -50.000000 50.000000\n",
      "yt : [INFO     ] 2020-07-01 12:38:41,964 ylim = -50.000000 50.000000\n",
      "yt : [INFO     ] 2020-07-01 12:38:41,965 xlim = -50.000000 50.000000\n",
      "yt : [INFO     ] 2020-07-01 12:38:41,965 ylim = -50.000000 50.000000\n",
      "yt : [INFO     ] 2020-07-01 12:38:41,966 Making a fixed resolution buffer of (('boxlib', 'Psi')) 800 by 800\n",
      "yt : [WARNING  ] 2020-07-01 12:38:41,995 Plot image for field ('boxlib', 'Psi') has both positive and negative values. Min = -0.066288, Max = 0.052916.\n",
      "yt : [WARNING  ] 2020-07-01 12:38:41,995 Switching to symlog colorbar scaling unless linear scaling is specified later\n",
      "yt : [INFO     ] 2020-07-01 12:38:42,068 Making a fixed resolution buffer of (('boxlib', 'Psi')) 800 by 800\n",
      "yt : [WARNING  ] 2020-07-01 12:38:42,152 Supplied id_loc but draw_ids is False. Not drawing grid ids\n",
      "yt : [WARNING  ] 2020-07-01 12:38:42,154 Supplied id_loc but draw_ids is False. Not drawing grid ids\n",
      "yt : [WARNING  ] 2020-07-01 12:38:42,155 Supplied id_loc but draw_ids is False. Not drawing grid ids\n",
      "yt : [WARNING  ] 2020-07-01 12:38:42,157 Supplied id_loc but draw_ids is False. Not drawing grid ids\n",
      "yt : [WARNING  ] 2020-07-01 12:38:42,159 Supplied id_loc but draw_ids is False. Not drawing grid ids\n",
      "yt : [WARNING  ] 2020-07-01 12:38:42,161 Supplied id_loc but draw_ids is False. Not drawing grid ids\n",
      "yt : [WARNING  ] 2020-07-01 12:38:42,163 Supplied id_loc but draw_ids is False. Not drawing grid ids\n",
      "yt : [WARNING  ] 2020-07-01 12:38:42,165 Supplied id_loc but draw_ids is False. Not drawing grid ids\n",
      "yt : [WARNING  ] 2020-07-01 12:38:42,166 Supplied id_loc but draw_ids is False. Not drawing grid ids\n",
      "yt : [INFO     ] 2020-07-01 12:38:42,167 Saving plot img00068.png\n"
     ]
    },
    {
     "name": "stdout",
     "output_type": "stream",
     "text": [
      "plt0000068\n",
      "img00068.png\n"
     ]
    },
    {
     "name": "stderr",
     "output_type": "stream",
     "text": [
      "yt : [INFO     ] 2020-07-01 12:38:42,363 Parameters: current_time              = 13.4765625\n",
      "yt : [INFO     ] 2020-07-01 12:38:42,364 Parameters: domain_dimensions         = [256 256   1]\n",
      "yt : [INFO     ] 2020-07-01 12:38:42,364 Parameters: domain_left_edge          = [-50. -50.   0.]\n",
      "yt : [INFO     ] 2020-07-01 12:38:42,365 Parameters: domain_right_edge         = [ 50.  50.   1.]\n",
      "yt : [INFO     ] 2020-07-01 12:38:42,465 xlim = -50.000000 50.000000\n",
      "yt : [INFO     ] 2020-07-01 12:38:42,466 ylim = -50.000000 50.000000\n",
      "yt : [INFO     ] 2020-07-01 12:38:42,467 xlim = -50.000000 50.000000\n",
      "yt : [INFO     ] 2020-07-01 12:38:42,467 ylim = -50.000000 50.000000\n",
      "yt : [INFO     ] 2020-07-01 12:38:42,468 Making a fixed resolution buffer of (('boxlib', 'Psi')) 800 by 800\n",
      "yt : [WARNING  ] 2020-07-01 12:38:42,496 Plot image for field ('boxlib', 'Psi') has both positive and negative values. Min = -0.065835, Max = 0.051396.\n",
      "yt : [WARNING  ] 2020-07-01 12:38:42,497 Switching to symlog colorbar scaling unless linear scaling is specified later\n",
      "yt : [INFO     ] 2020-07-01 12:38:42,569 Making a fixed resolution buffer of (('boxlib', 'Psi')) 800 by 800\n",
      "yt : [WARNING  ] 2020-07-01 12:38:42,651 Supplied id_loc but draw_ids is False. Not drawing grid ids\n",
      "yt : [WARNING  ] 2020-07-01 12:38:42,653 Supplied id_loc but draw_ids is False. Not drawing grid ids\n",
      "yt : [WARNING  ] 2020-07-01 12:38:42,655 Supplied id_loc but draw_ids is False. Not drawing grid ids\n",
      "yt : [WARNING  ] 2020-07-01 12:38:42,657 Supplied id_loc but draw_ids is False. Not drawing grid ids\n",
      "yt : [WARNING  ] 2020-07-01 12:38:42,659 Supplied id_loc but draw_ids is False. Not drawing grid ids\n",
      "yt : [WARNING  ] 2020-07-01 12:38:42,661 Supplied id_loc but draw_ids is False. Not drawing grid ids\n",
      "yt : [WARNING  ] 2020-07-01 12:38:42,662 Supplied id_loc but draw_ids is False. Not drawing grid ids\n",
      "yt : [WARNING  ] 2020-07-01 12:38:42,664 Supplied id_loc but draw_ids is False. Not drawing grid ids\n",
      "yt : [WARNING  ] 2020-07-01 12:38:42,666 Supplied id_loc but draw_ids is False. Not drawing grid ids\n",
      "yt : [INFO     ] 2020-07-01 12:38:42,666 Saving plot img00069.png\n"
     ]
    },
    {
     "name": "stdout",
     "output_type": "stream",
     "text": [
      "plt0000069\n",
      "img00069.png\n"
     ]
    },
    {
     "name": "stderr",
     "output_type": "stream",
     "text": [
      "yt : [INFO     ] 2020-07-01 12:38:42,864 Parameters: current_time              = 13.671875\n",
      "yt : [INFO     ] 2020-07-01 12:38:42,864 Parameters: domain_dimensions         = [256 256   1]\n",
      "yt : [INFO     ] 2020-07-01 12:38:42,865 Parameters: domain_left_edge          = [-50. -50.   0.]\n",
      "yt : [INFO     ] 2020-07-01 12:38:42,865 Parameters: domain_right_edge         = [ 50.  50.   1.]\n",
      "yt : [INFO     ] 2020-07-01 12:38:42,966 xlim = -50.000000 50.000000\n",
      "yt : [INFO     ] 2020-07-01 12:38:42,966 ylim = -50.000000 50.000000\n",
      "yt : [INFO     ] 2020-07-01 12:38:42,967 xlim = -50.000000 50.000000\n",
      "yt : [INFO     ] 2020-07-01 12:38:42,968 ylim = -50.000000 50.000000\n",
      "yt : [INFO     ] 2020-07-01 12:38:42,968 Making a fixed resolution buffer of (('boxlib', 'Psi')) 800 by 800\n",
      "yt : [WARNING  ] 2020-07-01 12:38:42,997 Plot image for field ('boxlib', 'Psi') has both positive and negative values. Min = -0.065170, Max = 0.050295.\n",
      "yt : [WARNING  ] 2020-07-01 12:38:42,997 Switching to symlog colorbar scaling unless linear scaling is specified later\n",
      "yt : [INFO     ] 2020-07-01 12:38:43,167 Making a fixed resolution buffer of (('boxlib', 'Psi')) 800 by 800\n",
      "yt : [WARNING  ] 2020-07-01 12:38:43,261 Supplied id_loc but draw_ids is False. Not drawing grid ids\n",
      "yt : [WARNING  ] 2020-07-01 12:38:43,263 Supplied id_loc but draw_ids is False. Not drawing grid ids\n",
      "yt : [WARNING  ] 2020-07-01 12:38:43,265 Supplied id_loc but draw_ids is False. Not drawing grid ids\n",
      "yt : [WARNING  ] 2020-07-01 12:38:43,267 Supplied id_loc but draw_ids is False. Not drawing grid ids\n",
      "yt : [WARNING  ] 2020-07-01 12:38:43,269 Supplied id_loc but draw_ids is False. Not drawing grid ids\n",
      "yt : [WARNING  ] 2020-07-01 12:38:43,271 Supplied id_loc but draw_ids is False. Not drawing grid ids\n",
      "yt : [WARNING  ] 2020-07-01 12:38:43,273 Supplied id_loc but draw_ids is False. Not drawing grid ids\n",
      "yt : [WARNING  ] 2020-07-01 12:38:43,275 Supplied id_loc but draw_ids is False. Not drawing grid ids\n",
      "yt : [WARNING  ] 2020-07-01 12:38:43,277 Supplied id_loc but draw_ids is False. Not drawing grid ids\n",
      "yt : [INFO     ] 2020-07-01 12:38:43,278 Saving plot img00070.png\n"
     ]
    },
    {
     "name": "stdout",
     "output_type": "stream",
     "text": [
      "plt0000070\n",
      "img00070.png\n"
     ]
    },
    {
     "name": "stderr",
     "output_type": "stream",
     "text": [
      "yt : [INFO     ] 2020-07-01 12:38:43,475 Parameters: current_time              = 13.8671875\n",
      "yt : [INFO     ] 2020-07-01 12:38:43,475 Parameters: domain_dimensions         = [256 256   1]\n",
      "yt : [INFO     ] 2020-07-01 12:38:43,476 Parameters: domain_left_edge          = [-50. -50.   0.]\n",
      "yt : [INFO     ] 2020-07-01 12:38:43,476 Parameters: domain_right_edge         = [ 50.  50.   1.]\n",
      "yt : [INFO     ] 2020-07-01 12:38:43,580 xlim = -50.000000 50.000000\n",
      "yt : [INFO     ] 2020-07-01 12:38:43,580 ylim = -50.000000 50.000000\n",
      "yt : [INFO     ] 2020-07-01 12:38:43,581 xlim = -50.000000 50.000000\n",
      "yt : [INFO     ] 2020-07-01 12:38:43,582 ylim = -50.000000 50.000000\n",
      "yt : [INFO     ] 2020-07-01 12:38:43,583 Making a fixed resolution buffer of (('boxlib', 'Psi')) 800 by 800\n",
      "yt : [WARNING  ] 2020-07-01 12:38:43,611 Plot image for field ('boxlib', 'Psi') has both positive and negative values. Min = -0.064465, Max = 0.050531.\n",
      "yt : [WARNING  ] 2020-07-01 12:38:43,612 Switching to symlog colorbar scaling unless linear scaling is specified later\n",
      "yt : [INFO     ] 2020-07-01 12:38:43,685 Making a fixed resolution buffer of (('boxlib', 'Psi')) 800 by 800\n",
      "yt : [WARNING  ] 2020-07-01 12:38:43,769 Supplied id_loc but draw_ids is False. Not drawing grid ids\n",
      "yt : [WARNING  ] 2020-07-01 12:38:43,771 Supplied id_loc but draw_ids is False. Not drawing grid ids\n",
      "yt : [WARNING  ] 2020-07-01 12:38:43,773 Supplied id_loc but draw_ids is False. Not drawing grid ids\n",
      "yt : [WARNING  ] 2020-07-01 12:38:43,775 Supplied id_loc but draw_ids is False. Not drawing grid ids\n",
      "yt : [WARNING  ] 2020-07-01 12:38:43,777 Supplied id_loc but draw_ids is False. Not drawing grid ids\n",
      "yt : [WARNING  ] 2020-07-01 12:38:43,779 Supplied id_loc but draw_ids is False. Not drawing grid ids\n",
      "yt : [WARNING  ] 2020-07-01 12:38:43,780 Supplied id_loc but draw_ids is False. Not drawing grid ids\n",
      "yt : [WARNING  ] 2020-07-01 12:38:43,783 Supplied id_loc but draw_ids is False. Not drawing grid ids\n",
      "yt : [WARNING  ] 2020-07-01 12:38:43,785 Supplied id_loc but draw_ids is False. Not drawing grid ids\n",
      "yt : [INFO     ] 2020-07-01 12:38:43,785 Saving plot img00071.png\n"
     ]
    },
    {
     "name": "stdout",
     "output_type": "stream",
     "text": [
      "plt0000071\n",
      "img00071.png\n"
     ]
    },
    {
     "name": "stderr",
     "output_type": "stream",
     "text": [
      "yt : [INFO     ] 2020-07-01 12:38:43,983 Parameters: current_time              = 14.0625\n",
      "yt : [INFO     ] 2020-07-01 12:38:43,984 Parameters: domain_dimensions         = [256 256   1]\n",
      "yt : [INFO     ] 2020-07-01 12:38:43,985 Parameters: domain_left_edge          = [-50. -50.   0.]\n",
      "yt : [INFO     ] 2020-07-01 12:38:43,985 Parameters: domain_right_edge         = [ 50.  50.   1.]\n",
      "yt : [INFO     ] 2020-07-01 12:38:44,087 xlim = -50.000000 50.000000\n",
      "yt : [INFO     ] 2020-07-01 12:38:44,087 ylim = -50.000000 50.000000\n",
      "yt : [INFO     ] 2020-07-01 12:38:44,088 xlim = -50.000000 50.000000\n",
      "yt : [INFO     ] 2020-07-01 12:38:44,089 ylim = -50.000000 50.000000\n",
      "yt : [INFO     ] 2020-07-01 12:38:44,090 Making a fixed resolution buffer of (('boxlib', 'Psi')) 800 by 800\n",
      "yt : [WARNING  ] 2020-07-01 12:38:44,119 Plot image for field ('boxlib', 'Psi') has both positive and negative values. Min = -0.063644, Max = 0.050500.\n",
      "yt : [WARNING  ] 2020-07-01 12:38:44,119 Switching to symlog colorbar scaling unless linear scaling is specified later\n",
      "yt : [INFO     ] 2020-07-01 12:38:44,194 Making a fixed resolution buffer of (('boxlib', 'Psi')) 800 by 800\n",
      "yt : [WARNING  ] 2020-07-01 12:38:44,280 Supplied id_loc but draw_ids is False. Not drawing grid ids\n",
      "yt : [WARNING  ] 2020-07-01 12:38:44,282 Supplied id_loc but draw_ids is False. Not drawing grid ids\n",
      "yt : [WARNING  ] 2020-07-01 12:38:44,284 Supplied id_loc but draw_ids is False. Not drawing grid ids\n",
      "yt : [WARNING  ] 2020-07-01 12:38:44,286 Supplied id_loc but draw_ids is False. Not drawing grid ids\n",
      "yt : [WARNING  ] 2020-07-01 12:38:44,288 Supplied id_loc but draw_ids is False. Not drawing grid ids\n",
      "yt : [WARNING  ] 2020-07-01 12:38:44,290 Supplied id_loc but draw_ids is False. Not drawing grid ids\n",
      "yt : [WARNING  ] 2020-07-01 12:38:44,292 Supplied id_loc but draw_ids is False. Not drawing grid ids\n",
      "yt : [WARNING  ] 2020-07-01 12:38:44,294 Supplied id_loc but draw_ids is False. Not drawing grid ids\n",
      "yt : [WARNING  ] 2020-07-01 12:38:44,296 Supplied id_loc but draw_ids is False. Not drawing grid ids\n",
      "yt : [INFO     ] 2020-07-01 12:38:44,297 Saving plot img00072.png\n"
     ]
    },
    {
     "name": "stdout",
     "output_type": "stream",
     "text": [
      "plt0000072\n",
      "img00072.png\n"
     ]
    },
    {
     "name": "stderr",
     "output_type": "stream",
     "text": [
      "yt : [INFO     ] 2020-07-01 12:38:44,498 Parameters: current_time              = 14.2578125\n",
      "yt : [INFO     ] 2020-07-01 12:38:44,498 Parameters: domain_dimensions         = [256 256   1]\n",
      "yt : [INFO     ] 2020-07-01 12:38:44,499 Parameters: domain_left_edge          = [-50. -50.   0.]\n",
      "yt : [INFO     ] 2020-07-01 12:38:44,499 Parameters: domain_right_edge         = [ 50.  50.   1.]\n",
      "yt : [INFO     ] 2020-07-01 12:38:44,601 xlim = -50.000000 50.000000\n",
      "yt : [INFO     ] 2020-07-01 12:38:44,601 ylim = -50.000000 50.000000\n",
      "yt : [INFO     ] 2020-07-01 12:38:44,602 xlim = -50.000000 50.000000\n",
      "yt : [INFO     ] 2020-07-01 12:38:44,603 ylim = -50.000000 50.000000\n",
      "yt : [INFO     ] 2020-07-01 12:38:44,603 Making a fixed resolution buffer of (('boxlib', 'Psi')) 800 by 800\n",
      "yt : [WARNING  ] 2020-07-01 12:38:44,635 Plot image for field ('boxlib', 'Psi') has both positive and negative values. Min = -0.063035, Max = 0.050649.\n",
      "yt : [WARNING  ] 2020-07-01 12:38:44,636 Switching to symlog colorbar scaling unless linear scaling is specified later\n",
      "yt : [INFO     ] 2020-07-01 12:38:44,824 Making a fixed resolution buffer of (('boxlib', 'Psi')) 800 by 800\n",
      "yt : [WARNING  ] 2020-07-01 12:38:44,910 Supplied id_loc but draw_ids is False. Not drawing grid ids\n",
      "yt : [WARNING  ] 2020-07-01 12:38:44,912 Supplied id_loc but draw_ids is False. Not drawing grid ids\n",
      "yt : [WARNING  ] 2020-07-01 12:38:44,914 Supplied id_loc but draw_ids is False. Not drawing grid ids\n",
      "yt : [WARNING  ] 2020-07-01 12:38:44,916 Supplied id_loc but draw_ids is False. Not drawing grid ids\n",
      "yt : [WARNING  ] 2020-07-01 12:38:44,918 Supplied id_loc but draw_ids is False. Not drawing grid ids\n",
      "yt : [WARNING  ] 2020-07-01 12:38:44,920 Supplied id_loc but draw_ids is False. Not drawing grid ids\n",
      "yt : [WARNING  ] 2020-07-01 12:38:44,922 Supplied id_loc but draw_ids is False. Not drawing grid ids\n",
      "yt : [WARNING  ] 2020-07-01 12:38:44,924 Supplied id_loc but draw_ids is False. Not drawing grid ids\n",
      "yt : [WARNING  ] 2020-07-01 12:38:44,926 Supplied id_loc but draw_ids is False. Not drawing grid ids\n",
      "yt : [INFO     ] 2020-07-01 12:38:44,926 Saving plot img00073.png\n"
     ]
    },
    {
     "name": "stdout",
     "output_type": "stream",
     "text": [
      "plt0000073\n",
      "img00073.png\n"
     ]
    },
    {
     "name": "stderr",
     "output_type": "stream",
     "text": [
      "yt : [INFO     ] 2020-07-01 12:38:45,126 Parameters: current_time              = 14.453125\n",
      "yt : [INFO     ] 2020-07-01 12:38:45,126 Parameters: domain_dimensions         = [256 256   1]\n",
      "yt : [INFO     ] 2020-07-01 12:38:45,127 Parameters: domain_left_edge          = [-50. -50.   0.]\n",
      "yt : [INFO     ] 2020-07-01 12:38:45,127 Parameters: domain_right_edge         = [ 50.  50.   1.]\n",
      "yt : [INFO     ] 2020-07-01 12:38:45,228 xlim = -50.000000 50.000000\n",
      "yt : [INFO     ] 2020-07-01 12:38:45,228 ylim = -50.000000 50.000000\n",
      "yt : [INFO     ] 2020-07-01 12:38:45,229 xlim = -50.000000 50.000000\n",
      "yt : [INFO     ] 2020-07-01 12:38:45,230 ylim = -50.000000 50.000000\n",
      "yt : [INFO     ] 2020-07-01 12:38:45,231 Making a fixed resolution buffer of (('boxlib', 'Psi')) 800 by 800\n",
      "yt : [WARNING  ] 2020-07-01 12:38:45,260 Plot image for field ('boxlib', 'Psi') has both positive and negative values. Min = -0.062328, Max = 0.050530.\n",
      "yt : [WARNING  ] 2020-07-01 12:38:45,261 Switching to symlog colorbar scaling unless linear scaling is specified later\n",
      "yt : [INFO     ] 2020-07-01 12:38:45,334 Making a fixed resolution buffer of (('boxlib', 'Psi')) 800 by 800\n",
      "yt : [WARNING  ] 2020-07-01 12:38:45,418 Supplied id_loc but draw_ids is False. Not drawing grid ids\n",
      "yt : [WARNING  ] 2020-07-01 12:38:45,420 Supplied id_loc but draw_ids is False. Not drawing grid ids\n",
      "yt : [WARNING  ] 2020-07-01 12:38:45,422 Supplied id_loc but draw_ids is False. Not drawing grid ids\n",
      "yt : [WARNING  ] 2020-07-01 12:38:45,424 Supplied id_loc but draw_ids is False. Not drawing grid ids\n",
      "yt : [WARNING  ] 2020-07-01 12:38:45,426 Supplied id_loc but draw_ids is False. Not drawing grid ids\n",
      "yt : [WARNING  ] 2020-07-01 12:38:45,428 Supplied id_loc but draw_ids is False. Not drawing grid ids\n",
      "yt : [WARNING  ] 2020-07-01 12:38:45,430 Supplied id_loc but draw_ids is False. Not drawing grid ids\n",
      "yt : [WARNING  ] 2020-07-01 12:38:45,431 Supplied id_loc but draw_ids is False. Not drawing grid ids\n",
      "yt : [WARNING  ] 2020-07-01 12:38:45,433 Supplied id_loc but draw_ids is False. Not drawing grid ids\n",
      "yt : [INFO     ] 2020-07-01 12:38:45,434 Saving plot img00074.png\n"
     ]
    },
    {
     "name": "stdout",
     "output_type": "stream",
     "text": [
      "plt0000074\n",
      "img00074.png\n"
     ]
    },
    {
     "name": "stderr",
     "output_type": "stream",
     "text": [
      "yt : [INFO     ] 2020-07-01 12:38:45,633 Parameters: current_time              = 14.6484375\n",
      "yt : [INFO     ] 2020-07-01 12:38:45,634 Parameters: domain_dimensions         = [256 256   1]\n",
      "yt : [INFO     ] 2020-07-01 12:38:45,635 Parameters: domain_left_edge          = [-50. -50.   0.]\n",
      "yt : [INFO     ] 2020-07-01 12:38:45,635 Parameters: domain_right_edge         = [ 50.  50.   1.]\n",
      "yt : [INFO     ] 2020-07-01 12:38:45,735 xlim = -50.000000 50.000000\n",
      "yt : [INFO     ] 2020-07-01 12:38:45,736 ylim = -50.000000 50.000000\n",
      "yt : [INFO     ] 2020-07-01 12:38:45,737 xlim = -50.000000 50.000000\n",
      "yt : [INFO     ] 2020-07-01 12:38:45,737 ylim = -50.000000 50.000000\n",
      "yt : [INFO     ] 2020-07-01 12:38:45,738 Making a fixed resolution buffer of (('boxlib', 'Psi')) 800 by 800\n",
      "yt : [WARNING  ] 2020-07-01 12:38:45,767 Plot image for field ('boxlib', 'Psi') has both positive and negative values. Min = -0.061581, Max = 0.050544.\n",
      "yt : [WARNING  ] 2020-07-01 12:38:45,768 Switching to symlog colorbar scaling unless linear scaling is specified later\n",
      "yt : [INFO     ] 2020-07-01 12:38:45,841 Making a fixed resolution buffer of (('boxlib', 'Psi')) 800 by 800\n",
      "yt : [WARNING  ] 2020-07-01 12:38:45,924 Supplied id_loc but draw_ids is False. Not drawing grid ids\n",
      "yt : [WARNING  ] 2020-07-01 12:38:45,925 Supplied id_loc but draw_ids is False. Not drawing grid ids\n",
      "yt : [WARNING  ] 2020-07-01 12:38:45,927 Supplied id_loc but draw_ids is False. Not drawing grid ids\n",
      "yt : [WARNING  ] 2020-07-01 12:38:45,929 Supplied id_loc but draw_ids is False. Not drawing grid ids\n",
      "yt : [WARNING  ] 2020-07-01 12:38:45,931 Supplied id_loc but draw_ids is False. Not drawing grid ids\n",
      "yt : [WARNING  ] 2020-07-01 12:38:45,934 Supplied id_loc but draw_ids is False. Not drawing grid ids\n",
      "yt : [WARNING  ] 2020-07-01 12:38:45,936 Supplied id_loc but draw_ids is False. Not drawing grid ids\n",
      "yt : [WARNING  ] 2020-07-01 12:38:45,937 Supplied id_loc but draw_ids is False. Not drawing grid ids\n",
      "yt : [WARNING  ] 2020-07-01 12:38:45,939 Supplied id_loc but draw_ids is False. Not drawing grid ids\n",
      "yt : [INFO     ] 2020-07-01 12:38:45,940 Saving plot img00075.png\n"
     ]
    },
    {
     "name": "stdout",
     "output_type": "stream",
     "text": [
      "plt0000075\n",
      "img00075.png\n"
     ]
    },
    {
     "name": "stderr",
     "output_type": "stream",
     "text": [
      "yt : [INFO     ] 2020-07-01 12:38:46,141 Parameters: current_time              = 14.84375\n",
      "yt : [INFO     ] 2020-07-01 12:38:46,141 Parameters: domain_dimensions         = [256 256   1]\n",
      "yt : [INFO     ] 2020-07-01 12:38:46,142 Parameters: domain_left_edge          = [-50. -50.   0.]\n",
      "yt : [INFO     ] 2020-07-01 12:38:46,142 Parameters: domain_right_edge         = [ 50.  50.   1.]\n",
      "yt : [INFO     ] 2020-07-01 12:38:46,363 xlim = -50.000000 50.000000\n",
      "yt : [INFO     ] 2020-07-01 12:38:46,364 ylim = -50.000000 50.000000\n",
      "yt : [INFO     ] 2020-07-01 12:38:46,365 xlim = -50.000000 50.000000\n",
      "yt : [INFO     ] 2020-07-01 12:38:46,365 ylim = -50.000000 50.000000\n",
      "yt : [INFO     ] 2020-07-01 12:38:46,366 Making a fixed resolution buffer of (('boxlib', 'Psi')) 800 by 800\n",
      "yt : [WARNING  ] 2020-07-01 12:38:46,396 Plot image for field ('boxlib', 'Psi') has both positive and negative values. Min = -0.061147, Max = 0.050579.\n",
      "yt : [WARNING  ] 2020-07-01 12:38:46,397 Switching to symlog colorbar scaling unless linear scaling is specified later\n",
      "yt : [INFO     ] 2020-07-01 12:38:46,471 Making a fixed resolution buffer of (('boxlib', 'Psi')) 800 by 800\n",
      "yt : [WARNING  ] 2020-07-01 12:38:46,556 Supplied id_loc but draw_ids is False. Not drawing grid ids\n",
      "yt : [WARNING  ] 2020-07-01 12:38:46,558 Supplied id_loc but draw_ids is False. Not drawing grid ids\n",
      "yt : [WARNING  ] 2020-07-01 12:38:46,559 Supplied id_loc but draw_ids is False. Not drawing grid ids\n",
      "yt : [WARNING  ] 2020-07-01 12:38:46,561 Supplied id_loc but draw_ids is False. Not drawing grid ids\n",
      "yt : [WARNING  ] 2020-07-01 12:38:46,563 Supplied id_loc but draw_ids is False. Not drawing grid ids\n",
      "yt : [WARNING  ] 2020-07-01 12:38:46,565 Supplied id_loc but draw_ids is False. Not drawing grid ids\n",
      "yt : [WARNING  ] 2020-07-01 12:38:46,567 Supplied id_loc but draw_ids is False. Not drawing grid ids\n",
      "yt : [WARNING  ] 2020-07-01 12:38:46,568 Supplied id_loc but draw_ids is False. Not drawing grid ids\n",
      "yt : [WARNING  ] 2020-07-01 12:38:46,571 Supplied id_loc but draw_ids is False. Not drawing grid ids\n",
      "yt : [INFO     ] 2020-07-01 12:38:46,571 Saving plot img00076.png\n"
     ]
    },
    {
     "name": "stdout",
     "output_type": "stream",
     "text": [
      "plt0000076\n",
      "img00076.png\n"
     ]
    },
    {
     "name": "stderr",
     "output_type": "stream",
     "text": [
      "yt : [INFO     ] 2020-07-01 12:38:46,771 Parameters: current_time              = 15.0390625\n",
      "yt : [INFO     ] 2020-07-01 12:38:46,772 Parameters: domain_dimensions         = [256 256   1]\n",
      "yt : [INFO     ] 2020-07-01 12:38:46,772 Parameters: domain_left_edge          = [-50. -50.   0.]\n",
      "yt : [INFO     ] 2020-07-01 12:38:46,773 Parameters: domain_right_edge         = [ 50.  50.   1.]\n",
      "yt : [INFO     ] 2020-07-01 12:38:46,874 xlim = -50.000000 50.000000\n",
      "yt : [INFO     ] 2020-07-01 12:38:46,874 ylim = -50.000000 50.000000\n",
      "yt : [INFO     ] 2020-07-01 12:38:46,875 xlim = -50.000000 50.000000\n",
      "yt : [INFO     ] 2020-07-01 12:38:46,876 ylim = -50.000000 50.000000\n",
      "yt : [INFO     ] 2020-07-01 12:38:46,876 Making a fixed resolution buffer of (('boxlib', 'Psi')) 800 by 800\n",
      "yt : [WARNING  ] 2020-07-01 12:38:46,906 Plot image for field ('boxlib', 'Psi') has both positive and negative values. Min = -0.060335, Max = 0.050582.\n",
      "yt : [WARNING  ] 2020-07-01 12:38:46,907 Switching to symlog colorbar scaling unless linear scaling is specified later\n",
      "yt : [INFO     ] 2020-07-01 12:38:46,979 Making a fixed resolution buffer of (('boxlib', 'Psi')) 800 by 800\n",
      "yt : [WARNING  ] 2020-07-01 12:38:47,062 Supplied id_loc but draw_ids is False. Not drawing grid ids\n",
      "yt : [WARNING  ] 2020-07-01 12:38:47,064 Supplied id_loc but draw_ids is False. Not drawing grid ids\n",
      "yt : [WARNING  ] 2020-07-01 12:38:47,066 Supplied id_loc but draw_ids is False. Not drawing grid ids\n",
      "yt : [WARNING  ] 2020-07-01 12:38:47,068 Supplied id_loc but draw_ids is False. Not drawing grid ids\n",
      "yt : [WARNING  ] 2020-07-01 12:38:47,069 Supplied id_loc but draw_ids is False. Not drawing grid ids\n",
      "yt : [WARNING  ] 2020-07-01 12:38:47,071 Supplied id_loc but draw_ids is False. Not drawing grid ids\n",
      "yt : [WARNING  ] 2020-07-01 12:38:47,072 Supplied id_loc but draw_ids is False. Not drawing grid ids\n",
      "yt : [WARNING  ] 2020-07-01 12:38:47,074 Supplied id_loc but draw_ids is False. Not drawing grid ids\n",
      "yt : [WARNING  ] 2020-07-01 12:38:47,076 Supplied id_loc but draw_ids is False. Not drawing grid ids\n",
      "yt : [INFO     ] 2020-07-01 12:38:47,076 Saving plot img00077.png\n"
     ]
    },
    {
     "name": "stdout",
     "output_type": "stream",
     "text": [
      "plt0000077\n",
      "img00077.png\n"
     ]
    },
    {
     "name": "stderr",
     "output_type": "stream",
     "text": [
      "yt : [INFO     ] 2020-07-01 12:38:47,280 Parameters: current_time              = 15.234375\n",
      "yt : [INFO     ] 2020-07-01 12:38:47,281 Parameters: domain_dimensions         = [256 256   1]\n",
      "yt : [INFO     ] 2020-07-01 12:38:47,281 Parameters: domain_left_edge          = [-50. -50.   0.]\n",
      "yt : [INFO     ] 2020-07-01 12:38:47,282 Parameters: domain_right_edge         = [ 50.  50.   1.]\n",
      "yt : [INFO     ] 2020-07-01 12:38:47,382 xlim = -50.000000 50.000000\n",
      "yt : [INFO     ] 2020-07-01 12:38:47,383 ylim = -50.000000 50.000000\n",
      "yt : [INFO     ] 2020-07-01 12:38:47,384 xlim = -50.000000 50.000000\n",
      "yt : [INFO     ] 2020-07-01 12:38:47,384 ylim = -50.000000 50.000000\n",
      "yt : [INFO     ] 2020-07-01 12:38:47,385 Making a fixed resolution buffer of (('boxlib', 'Psi')) 800 by 800\n",
      "yt : [WARNING  ] 2020-07-01 12:38:47,414 Plot image for field ('boxlib', 'Psi') has both positive and negative values. Min = -0.059501, Max = 0.050565.\n",
      "yt : [WARNING  ] 2020-07-01 12:38:47,415 Switching to symlog colorbar scaling unless linear scaling is specified later\n",
      "yt : [INFO     ] 2020-07-01 12:38:47,487 Making a fixed resolution buffer of (('boxlib', 'Psi')) 800 by 800\n",
      "yt : [WARNING  ] 2020-07-01 12:38:47,572 Supplied id_loc but draw_ids is False. Not drawing grid ids\n",
      "yt : [WARNING  ] 2020-07-01 12:38:47,574 Supplied id_loc but draw_ids is False. Not drawing grid ids\n",
      "yt : [WARNING  ] 2020-07-01 12:38:47,576 Supplied id_loc but draw_ids is False. Not drawing grid ids\n",
      "yt : [WARNING  ] 2020-07-01 12:38:47,577 Supplied id_loc but draw_ids is False. Not drawing grid ids\n",
      "yt : [WARNING  ] 2020-07-01 12:38:47,579 Supplied id_loc but draw_ids is False. Not drawing grid ids\n",
      "yt : [WARNING  ] 2020-07-01 12:38:47,581 Supplied id_loc but draw_ids is False. Not drawing grid ids\n",
      "yt : [WARNING  ] 2020-07-01 12:38:47,583 Supplied id_loc but draw_ids is False. Not drawing grid ids\n",
      "yt : [WARNING  ] 2020-07-01 12:38:47,584 Supplied id_loc but draw_ids is False. Not drawing grid ids\n",
      "yt : [WARNING  ] 2020-07-01 12:38:47,586 Supplied id_loc but draw_ids is False. Not drawing grid ids\n",
      "yt : [INFO     ] 2020-07-01 12:38:47,586 Saving plot img00078.png\n"
     ]
    },
    {
     "name": "stdout",
     "output_type": "stream",
     "text": [
      "plt0000078\n",
      "img00078.png\n"
     ]
    },
    {
     "name": "stderr",
     "output_type": "stream",
     "text": [
      "yt : [INFO     ] 2020-07-01 12:38:47,888 Parameters: current_time              = 15.4296875\n",
      "yt : [INFO     ] 2020-07-01 12:38:47,888 Parameters: domain_dimensions         = [256 256   1]\n",
      "yt : [INFO     ] 2020-07-01 12:38:47,889 Parameters: domain_left_edge          = [-50. -50.   0.]\n",
      "yt : [INFO     ] 2020-07-01 12:38:47,890 Parameters: domain_right_edge         = [ 50.  50.   1.]\n",
      "yt : [INFO     ] 2020-07-01 12:38:47,990 xlim = -50.000000 50.000000\n",
      "yt : [INFO     ] 2020-07-01 12:38:47,990 ylim = -50.000000 50.000000\n",
      "yt : [INFO     ] 2020-07-01 12:38:47,991 xlim = -50.000000 50.000000\n",
      "yt : [INFO     ] 2020-07-01 12:38:47,992 ylim = -50.000000 50.000000\n",
      "yt : [INFO     ] 2020-07-01 12:38:47,993 Making a fixed resolution buffer of (('boxlib', 'Psi')) 800 by 800\n",
      "yt : [WARNING  ] 2020-07-01 12:38:48,022 Plot image for field ('boxlib', 'Psi') has both positive and negative values. Min = -0.058638, Max = 0.050519.\n",
      "yt : [WARNING  ] 2020-07-01 12:38:48,023 Switching to symlog colorbar scaling unless linear scaling is specified later\n",
      "yt : [INFO     ] 2020-07-01 12:38:48,095 Making a fixed resolution buffer of (('boxlib', 'Psi')) 800 by 800\n",
      "yt : [WARNING  ] 2020-07-01 12:38:48,179 Supplied id_loc but draw_ids is False. Not drawing grid ids\n",
      "yt : [WARNING  ] 2020-07-01 12:38:48,180 Supplied id_loc but draw_ids is False. Not drawing grid ids\n",
      "yt : [WARNING  ] 2020-07-01 12:38:48,182 Supplied id_loc but draw_ids is False. Not drawing grid ids\n",
      "yt : [WARNING  ] 2020-07-01 12:38:48,184 Supplied id_loc but draw_ids is False. Not drawing grid ids\n",
      "yt : [WARNING  ] 2020-07-01 12:38:48,186 Supplied id_loc but draw_ids is False. Not drawing grid ids\n",
      "yt : [WARNING  ] 2020-07-01 12:38:48,187 Supplied id_loc but draw_ids is False. Not drawing grid ids\n",
      "yt : [WARNING  ] 2020-07-01 12:38:48,189 Supplied id_loc but draw_ids is False. Not drawing grid ids\n",
      "yt : [WARNING  ] 2020-07-01 12:38:48,191 Supplied id_loc but draw_ids is False. Not drawing grid ids\n",
      "yt : [WARNING  ] 2020-07-01 12:38:48,192 Supplied id_loc but draw_ids is False. Not drawing grid ids\n",
      "yt : [INFO     ] 2020-07-01 12:38:48,193 Saving plot img00079.png\n"
     ]
    },
    {
     "name": "stdout",
     "output_type": "stream",
     "text": [
      "plt0000079\n",
      "img00079.png\n"
     ]
    },
    {
     "name": "stderr",
     "output_type": "stream",
     "text": [
      "yt : [INFO     ] 2020-07-01 12:38:48,398 Parameters: current_time              = 15.625\n",
      "yt : [INFO     ] 2020-07-01 12:38:48,399 Parameters: domain_dimensions         = [256 256   1]\n",
      "yt : [INFO     ] 2020-07-01 12:38:48,399 Parameters: domain_left_edge          = [-50. -50.   0.]\n",
      "yt : [INFO     ] 2020-07-01 12:38:48,400 Parameters: domain_right_edge         = [ 50.  50.   1.]\n",
      "yt : [INFO     ] 2020-07-01 12:38:48,499 xlim = -50.000000 50.000000\n",
      "yt : [INFO     ] 2020-07-01 12:38:48,500 ylim = -50.000000 50.000000\n",
      "yt : [INFO     ] 2020-07-01 12:38:48,501 xlim = -50.000000 50.000000\n",
      "yt : [INFO     ] 2020-07-01 12:38:48,501 ylim = -50.000000 50.000000\n",
      "yt : [INFO     ] 2020-07-01 12:38:48,502 Making a fixed resolution buffer of (('boxlib', 'Psi')) 800 by 800\n",
      "yt : [WARNING  ] 2020-07-01 12:38:48,532 Plot image for field ('boxlib', 'Psi') has both positive and negative values. Min = -0.057906, Max = 0.050479.\n",
      "yt : [WARNING  ] 2020-07-01 12:38:48,532 Switching to symlog colorbar scaling unless linear scaling is specified later\n",
      "yt : [INFO     ] 2020-07-01 12:38:48,603 Making a fixed resolution buffer of (('boxlib', 'Psi')) 800 by 800\n",
      "yt : [WARNING  ] 2020-07-01 12:38:48,685 Supplied id_loc but draw_ids is False. Not drawing grid ids\n",
      "yt : [WARNING  ] 2020-07-01 12:38:48,687 Supplied id_loc but draw_ids is False. Not drawing grid ids\n",
      "yt : [WARNING  ] 2020-07-01 12:38:48,689 Supplied id_loc but draw_ids is False. Not drawing grid ids\n",
      "yt : [WARNING  ] 2020-07-01 12:38:48,690 Supplied id_loc but draw_ids is False. Not drawing grid ids\n",
      "yt : [WARNING  ] 2020-07-01 12:38:48,692 Supplied id_loc but draw_ids is False. Not drawing grid ids\n",
      "yt : [WARNING  ] 2020-07-01 12:38:48,694 Supplied id_loc but draw_ids is False. Not drawing grid ids\n",
      "yt : [WARNING  ] 2020-07-01 12:38:48,696 Supplied id_loc but draw_ids is False. Not drawing grid ids\n",
      "yt : [WARNING  ] 2020-07-01 12:38:48,697 Supplied id_loc but draw_ids is False. Not drawing grid ids\n",
      "yt : [WARNING  ] 2020-07-01 12:38:48,699 Supplied id_loc but draw_ids is False. Not drawing grid ids\n",
      "yt : [INFO     ] 2020-07-01 12:38:48,699 Saving plot img00080.png\n"
     ]
    },
    {
     "name": "stdout",
     "output_type": "stream",
     "text": [
      "plt0000080\n",
      "img00080.png\n"
     ]
    },
    {
     "name": "stderr",
     "output_type": "stream",
     "text": [
      "yt : [INFO     ] 2020-07-01 12:38:48,906 Parameters: current_time              = 15.8203125\n",
      "yt : [INFO     ] 2020-07-01 12:38:48,906 Parameters: domain_dimensions         = [256 256   1]\n",
      "yt : [INFO     ] 2020-07-01 12:38:48,907 Parameters: domain_left_edge          = [-50. -50.   0.]\n",
      "yt : [INFO     ] 2020-07-01 12:38:48,907 Parameters: domain_right_edge         = [ 50.  50.   1.]\n",
      "yt : [INFO     ] 2020-07-01 12:38:49,006 xlim = -50.000000 50.000000\n",
      "yt : [INFO     ] 2020-07-01 12:38:49,007 ylim = -50.000000 50.000000\n",
      "yt : [INFO     ] 2020-07-01 12:38:49,008 xlim = -50.000000 50.000000\n",
      "yt : [INFO     ] 2020-07-01 12:38:49,008 ylim = -50.000000 50.000000\n",
      "yt : [INFO     ] 2020-07-01 12:38:49,009 Making a fixed resolution buffer of (('boxlib', 'Psi')) 800 by 800\n",
      "yt : [WARNING  ] 2020-07-01 12:38:49,039 Plot image for field ('boxlib', 'Psi') has both positive and negative values. Min = -0.057099, Max = 0.050443.\n",
      "yt : [WARNING  ] 2020-07-01 12:38:49,040 Switching to symlog colorbar scaling unless linear scaling is specified later\n",
      "yt : [INFO     ] 2020-07-01 12:38:49,111 Making a fixed resolution buffer of (('boxlib', 'Psi')) 800 by 800\n",
      "yt : [WARNING  ] 2020-07-01 12:38:49,193 Supplied id_loc but draw_ids is False. Not drawing grid ids\n",
      "yt : [WARNING  ] 2020-07-01 12:38:49,194 Supplied id_loc but draw_ids is False. Not drawing grid ids\n",
      "yt : [WARNING  ] 2020-07-01 12:38:49,196 Supplied id_loc but draw_ids is False. Not drawing grid ids\n",
      "yt : [WARNING  ] 2020-07-01 12:38:49,198 Supplied id_loc but draw_ids is False. Not drawing grid ids\n",
      "yt : [WARNING  ] 2020-07-01 12:38:49,200 Supplied id_loc but draw_ids is False. Not drawing grid ids\n",
      "yt : [WARNING  ] 2020-07-01 12:38:49,201 Supplied id_loc but draw_ids is False. Not drawing grid ids\n",
      "yt : [WARNING  ] 2020-07-01 12:38:49,205 Supplied id_loc but draw_ids is False. Not drawing grid ids\n",
      "yt : [WARNING  ] 2020-07-01 12:38:49,206 Supplied id_loc but draw_ids is False. Not drawing grid ids\n",
      "yt : [WARNING  ] 2020-07-01 12:38:49,208 Supplied id_loc but draw_ids is False. Not drawing grid ids\n",
      "yt : [INFO     ] 2020-07-01 12:38:49,209 Saving plot img00081.png\n"
     ]
    },
    {
     "name": "stdout",
     "output_type": "stream",
     "text": [
      "plt0000081\n",
      "img00081.png\n"
     ]
    },
    {
     "name": "stderr",
     "output_type": "stream",
     "text": [
      "yt : [INFO     ] 2020-07-01 12:38:49,512 Parameters: current_time              = 16.015625\n",
      "yt : [INFO     ] 2020-07-01 12:38:49,512 Parameters: domain_dimensions         = [256 256   1]\n",
      "yt : [INFO     ] 2020-07-01 12:38:49,513 Parameters: domain_left_edge          = [-50. -50.   0.]\n",
      "yt : [INFO     ] 2020-07-01 12:38:49,514 Parameters: domain_right_edge         = [ 50.  50.   1.]\n",
      "yt : [INFO     ] 2020-07-01 12:38:49,618 xlim = -50.000000 50.000000\n",
      "yt : [INFO     ] 2020-07-01 12:38:49,618 ylim = -50.000000 50.000000\n",
      "yt : [INFO     ] 2020-07-01 12:38:49,619 xlim = -50.000000 50.000000\n",
      "yt : [INFO     ] 2020-07-01 12:38:49,619 ylim = -50.000000 50.000000\n",
      "yt : [INFO     ] 2020-07-01 12:38:49,620 Making a fixed resolution buffer of (('boxlib', 'Psi')) 800 by 800\n",
      "yt : [WARNING  ] 2020-07-01 12:38:49,651 Plot image for field ('boxlib', 'Psi') has both positive and negative values. Min = -0.056248, Max = 0.050370.\n",
      "yt : [WARNING  ] 2020-07-01 12:38:49,652 Switching to symlog colorbar scaling unless linear scaling is specified later\n",
      "yt : [INFO     ] 2020-07-01 12:38:49,724 Making a fixed resolution buffer of (('boxlib', 'Psi')) 800 by 800\n",
      "yt : [WARNING  ] 2020-07-01 12:38:49,807 Supplied id_loc but draw_ids is False. Not drawing grid ids\n",
      "yt : [WARNING  ] 2020-07-01 12:38:49,809 Supplied id_loc but draw_ids is False. Not drawing grid ids\n",
      "yt : [WARNING  ] 2020-07-01 12:38:49,811 Supplied id_loc but draw_ids is False. Not drawing grid ids\n",
      "yt : [WARNING  ] 2020-07-01 12:38:49,813 Supplied id_loc but draw_ids is False. Not drawing grid ids\n",
      "yt : [WARNING  ] 2020-07-01 12:38:49,815 Supplied id_loc but draw_ids is False. Not drawing grid ids\n",
      "yt : [WARNING  ] 2020-07-01 12:38:49,816 Supplied id_loc but draw_ids is False. Not drawing grid ids\n",
      "yt : [WARNING  ] 2020-07-01 12:38:49,818 Supplied id_loc but draw_ids is False. Not drawing grid ids\n",
      "yt : [WARNING  ] 2020-07-01 12:38:49,821 Supplied id_loc but draw_ids is False. Not drawing grid ids\n",
      "yt : [WARNING  ] 2020-07-01 12:38:49,823 Supplied id_loc but draw_ids is False. Not drawing grid ids\n",
      "yt : [INFO     ] 2020-07-01 12:38:49,823 Saving plot img00082.png\n"
     ]
    },
    {
     "name": "stdout",
     "output_type": "stream",
     "text": [
      "plt0000082\n",
      "img00082.png\n"
     ]
    },
    {
     "name": "stderr",
     "output_type": "stream",
     "text": [
      "yt : [INFO     ] 2020-07-01 12:38:50,032 Parameters: current_time              = 16.2109375\n",
      "yt : [INFO     ] 2020-07-01 12:38:50,033 Parameters: domain_dimensions         = [256 256   1]\n",
      "yt : [INFO     ] 2020-07-01 12:38:50,033 Parameters: domain_left_edge          = [-50. -50.   0.]\n",
      "yt : [INFO     ] 2020-07-01 12:38:50,034 Parameters: domain_right_edge         = [ 50.  50.   1.]\n",
      "yt : [INFO     ] 2020-07-01 12:38:50,149 xlim = -50.000000 50.000000\n",
      "yt : [INFO     ] 2020-07-01 12:38:50,149 ylim = -50.000000 50.000000\n",
      "yt : [INFO     ] 2020-07-01 12:38:50,151 xlim = -50.000000 50.000000\n",
      "yt : [INFO     ] 2020-07-01 12:38:50,151 ylim = -50.000000 50.000000\n",
      "yt : [INFO     ] 2020-07-01 12:38:50,152 Making a fixed resolution buffer of (('boxlib', 'Psi')) 800 by 800\n",
      "yt : [WARNING  ] 2020-07-01 12:38:50,198 Plot image for field ('boxlib', 'Psi') has both positive and negative values. Min = -0.055615, Max = 0.050278.\n",
      "yt : [WARNING  ] 2020-07-01 12:38:50,199 Switching to symlog colorbar scaling unless linear scaling is specified later\n",
      "yt : [INFO     ] 2020-07-01 12:38:50,270 Making a fixed resolution buffer of (('boxlib', 'Psi')) 800 by 800\n",
      "yt : [WARNING  ] 2020-07-01 12:38:50,354 Supplied id_loc but draw_ids is False. Not drawing grid ids\n",
      "yt : [WARNING  ] 2020-07-01 12:38:50,356 Supplied id_loc but draw_ids is False. Not drawing grid ids\n",
      "yt : [WARNING  ] 2020-07-01 12:38:50,359 Supplied id_loc but draw_ids is False. Not drawing grid ids\n",
      "yt : [WARNING  ] 2020-07-01 12:38:50,361 Supplied id_loc but draw_ids is False. Not drawing grid ids\n",
      "yt : [WARNING  ] 2020-07-01 12:38:50,364 Supplied id_loc but draw_ids is False. Not drawing grid ids\n",
      "yt : [WARNING  ] 2020-07-01 12:38:50,366 Supplied id_loc but draw_ids is False. Not drawing grid ids\n",
      "yt : [WARNING  ] 2020-07-01 12:38:50,369 Supplied id_loc but draw_ids is False. Not drawing grid ids\n",
      "yt : [WARNING  ] 2020-07-01 12:38:50,371 Supplied id_loc but draw_ids is False. Not drawing grid ids\n",
      "yt : [WARNING  ] 2020-07-01 12:38:50,374 Supplied id_loc but draw_ids is False. Not drawing grid ids\n",
      "yt : [INFO     ] 2020-07-01 12:38:50,374 Saving plot img00083.png\n"
     ]
    },
    {
     "name": "stdout",
     "output_type": "stream",
     "text": [
      "plt0000083\n",
      "img00083.png\n"
     ]
    },
    {
     "name": "stderr",
     "output_type": "stream",
     "text": [
      "yt : [INFO     ] 2020-07-01 12:38:50,615 Parameters: current_time              = 16.40625\n",
      "yt : [INFO     ] 2020-07-01 12:38:50,615 Parameters: domain_dimensions         = [256 256   1]\n",
      "yt : [INFO     ] 2020-07-01 12:38:50,616 Parameters: domain_left_edge          = [-50. -50.   0.]\n",
      "yt : [INFO     ] 2020-07-01 12:38:50,617 Parameters: domain_right_edge         = [ 50.  50.   1.]\n",
      "yt : [INFO     ] 2020-07-01 12:38:50,721 xlim = -50.000000 50.000000\n",
      "yt : [INFO     ] 2020-07-01 12:38:50,721 ylim = -50.000000 50.000000\n",
      "yt : [INFO     ] 2020-07-01 12:38:50,722 xlim = -50.000000 50.000000\n",
      "yt : [INFO     ] 2020-07-01 12:38:50,723 ylim = -50.000000 50.000000\n",
      "yt : [INFO     ] 2020-07-01 12:38:50,724 Making a fixed resolution buffer of (('boxlib', 'Psi')) 800 by 800\n",
      "yt : [WARNING  ] 2020-07-01 12:38:50,754 Plot image for field ('boxlib', 'Psi') has both positive and negative values. Min = -0.054908, Max = 0.050224.\n",
      "yt : [WARNING  ] 2020-07-01 12:38:50,755 Switching to symlog colorbar scaling unless linear scaling is specified later\n",
      "yt : [INFO     ] 2020-07-01 12:38:50,827 Making a fixed resolution buffer of (('boxlib', 'Psi')) 800 by 800\n",
      "yt : [WARNING  ] 2020-07-01 12:38:50,910 Supplied id_loc but draw_ids is False. Not drawing grid ids\n",
      "yt : [WARNING  ] 2020-07-01 12:38:50,912 Supplied id_loc but draw_ids is False. Not drawing grid ids\n",
      "yt : [WARNING  ] 2020-07-01 12:38:50,915 Supplied id_loc but draw_ids is False. Not drawing grid ids\n",
      "yt : [WARNING  ] 2020-07-01 12:38:50,918 Supplied id_loc but draw_ids is False. Not drawing grid ids\n",
      "yt : [WARNING  ] 2020-07-01 12:38:50,920 Supplied id_loc but draw_ids is False. Not drawing grid ids\n",
      "yt : [WARNING  ] 2020-07-01 12:38:50,923 Supplied id_loc but draw_ids is False. Not drawing grid ids\n",
      "yt : [WARNING  ] 2020-07-01 12:38:50,925 Supplied id_loc but draw_ids is False. Not drawing grid ids\n",
      "yt : [WARNING  ] 2020-07-01 12:38:50,928 Supplied id_loc but draw_ids is False. Not drawing grid ids\n",
      "yt : [WARNING  ] 2020-07-01 12:38:50,931 Supplied id_loc but draw_ids is False. Not drawing grid ids\n",
      "yt : [INFO     ] 2020-07-01 12:38:50,931 Saving plot img00084.png\n"
     ]
    },
    {
     "name": "stdout",
     "output_type": "stream",
     "text": [
      "plt0000084\n",
      "img00084.png\n"
     ]
    },
    {
     "name": "stderr",
     "output_type": "stream",
     "text": [
      "yt : [INFO     ] 2020-07-01 12:38:51,280 Parameters: current_time              = 16.6015625\n",
      "yt : [INFO     ] 2020-07-01 12:38:51,280 Parameters: domain_dimensions         = [256 256   1]\n",
      "yt : [INFO     ] 2020-07-01 12:38:51,281 Parameters: domain_left_edge          = [-50. -50.   0.]\n",
      "yt : [INFO     ] 2020-07-01 12:38:51,282 Parameters: domain_right_edge         = [ 50.  50.   1.]\n",
      "yt : [INFO     ] 2020-07-01 12:38:51,387 xlim = -50.000000 50.000000\n",
      "yt : [INFO     ] 2020-07-01 12:38:51,388 ylim = -50.000000 50.000000\n",
      "yt : [INFO     ] 2020-07-01 12:38:51,389 xlim = -50.000000 50.000000\n",
      "yt : [INFO     ] 2020-07-01 12:38:51,389 ylim = -50.000000 50.000000\n",
      "yt : [INFO     ] 2020-07-01 12:38:51,390 Making a fixed resolution buffer of (('boxlib', 'Psi')) 800 by 800\n",
      "yt : [WARNING  ] 2020-07-01 12:38:51,422 Plot image for field ('boxlib', 'Psi') has both positive and negative values. Min = -0.053865, Max = 0.050066.\n",
      "yt : [WARNING  ] 2020-07-01 12:38:51,423 Switching to symlog colorbar scaling unless linear scaling is specified later\n",
      "yt : [INFO     ] 2020-07-01 12:38:51,496 Making a fixed resolution buffer of (('boxlib', 'Psi')) 800 by 800\n",
      "yt : [WARNING  ] 2020-07-01 12:38:51,580 Supplied id_loc but draw_ids is False. Not drawing grid ids\n",
      "yt : [WARNING  ] 2020-07-01 12:38:51,582 Supplied id_loc but draw_ids is False. Not drawing grid ids\n",
      "yt : [WARNING  ] 2020-07-01 12:38:51,584 Supplied id_loc but draw_ids is False. Not drawing grid ids\n",
      "yt : [WARNING  ] 2020-07-01 12:38:51,586 Supplied id_loc but draw_ids is False. Not drawing grid ids\n",
      "yt : [WARNING  ] 2020-07-01 12:38:51,588 Supplied id_loc but draw_ids is False. Not drawing grid ids\n",
      "yt : [WARNING  ] 2020-07-01 12:38:51,590 Supplied id_loc but draw_ids is False. Not drawing grid ids\n",
      "yt : [WARNING  ] 2020-07-01 12:38:51,592 Supplied id_loc but draw_ids is False. Not drawing grid ids\n",
      "yt : [WARNING  ] 2020-07-01 12:38:51,594 Supplied id_loc but draw_ids is False. Not drawing grid ids\n",
      "yt : [WARNING  ] 2020-07-01 12:38:51,596 Supplied id_loc but draw_ids is False. Not drawing grid ids\n",
      "yt : [INFO     ] 2020-07-01 12:38:51,597 Saving plot img00085.png\n"
     ]
    },
    {
     "name": "stdout",
     "output_type": "stream",
     "text": [
      "plt0000085\n",
      "img00085.png\n"
     ]
    },
    {
     "name": "stderr",
     "output_type": "stream",
     "text": [
      "yt : [INFO     ] 2020-07-01 12:38:51,812 Parameters: current_time              = 16.796875\n",
      "yt : [INFO     ] 2020-07-01 12:38:51,812 Parameters: domain_dimensions         = [256 256   1]\n",
      "yt : [INFO     ] 2020-07-01 12:38:51,813 Parameters: domain_left_edge          = [-50. -50.   0.]\n",
      "yt : [INFO     ] 2020-07-01 12:38:51,813 Parameters: domain_right_edge         = [ 50.  50.   1.]\n",
      "yt : [INFO     ] 2020-07-01 12:38:51,917 xlim = -50.000000 50.000000\n",
      "yt : [INFO     ] 2020-07-01 12:38:51,917 ylim = -50.000000 50.000000\n",
      "yt : [INFO     ] 2020-07-01 12:38:51,919 xlim = -50.000000 50.000000\n",
      "yt : [INFO     ] 2020-07-01 12:38:51,919 ylim = -50.000000 50.000000\n",
      "yt : [INFO     ] 2020-07-01 12:38:51,920 Making a fixed resolution buffer of (('boxlib', 'Psi')) 800 by 800\n",
      "yt : [WARNING  ] 2020-07-01 12:38:51,951 Plot image for field ('boxlib', 'Psi') has both positive and negative values. Min = -0.052897, Max = 0.049888.\n",
      "yt : [WARNING  ] 2020-07-01 12:38:51,951 Switching to symlog colorbar scaling unless linear scaling is specified later\n",
      "yt : [INFO     ] 2020-07-01 12:38:52,022 Making a fixed resolution buffer of (('boxlib', 'Psi')) 800 by 800\n",
      "yt : [WARNING  ] 2020-07-01 12:38:52,105 Supplied id_loc but draw_ids is False. Not drawing grid ids\n",
      "yt : [WARNING  ] 2020-07-01 12:38:52,107 Supplied id_loc but draw_ids is False. Not drawing grid ids\n",
      "yt : [WARNING  ] 2020-07-01 12:38:52,109 Supplied id_loc but draw_ids is False. Not drawing grid ids\n",
      "yt : [WARNING  ] 2020-07-01 12:38:52,111 Supplied id_loc but draw_ids is False. Not drawing grid ids\n",
      "yt : [WARNING  ] 2020-07-01 12:38:52,113 Supplied id_loc but draw_ids is False. Not drawing grid ids\n",
      "yt : [WARNING  ] 2020-07-01 12:38:52,115 Supplied id_loc but draw_ids is False. Not drawing grid ids\n",
      "yt : [WARNING  ] 2020-07-01 12:38:52,118 Supplied id_loc but draw_ids is False. Not drawing grid ids\n",
      "yt : [WARNING  ] 2020-07-01 12:38:52,120 Supplied id_loc but draw_ids is False. Not drawing grid ids\n",
      "yt : [WARNING  ] 2020-07-01 12:38:52,122 Supplied id_loc but draw_ids is False. Not drawing grid ids\n",
      "yt : [INFO     ] 2020-07-01 12:38:52,122 Saving plot img00086.png\n"
     ]
    },
    {
     "name": "stdout",
     "output_type": "stream",
     "text": [
      "plt0000086\n",
      "img00086.png\n"
     ]
    },
    {
     "name": "stderr",
     "output_type": "stream",
     "text": [
      "yt : [INFO     ] 2020-07-01 12:38:52,338 Parameters: current_time              = 16.9921875\n",
      "yt : [INFO     ] 2020-07-01 12:38:52,338 Parameters: domain_dimensions         = [256 256   1]\n",
      "yt : [INFO     ] 2020-07-01 12:38:52,339 Parameters: domain_left_edge          = [-50. -50.   0.]\n",
      "yt : [INFO     ] 2020-07-01 12:38:52,340 Parameters: domain_right_edge         = [ 50.  50.   1.]\n",
      "yt : [INFO     ] 2020-07-01 12:38:52,441 xlim = -50.000000 50.000000\n",
      "yt : [INFO     ] 2020-07-01 12:38:52,442 ylim = -50.000000 50.000000\n",
      "yt : [INFO     ] 2020-07-01 12:38:52,443 xlim = -50.000000 50.000000\n",
      "yt : [INFO     ] 2020-07-01 12:38:52,443 ylim = -50.000000 50.000000\n",
      "yt : [INFO     ] 2020-07-01 12:38:52,444 Making a fixed resolution buffer of (('boxlib', 'Psi')) 800 by 800\n",
      "yt : [WARNING  ] 2020-07-01 12:38:52,475 Plot image for field ('boxlib', 'Psi') has both positive and negative values. Min = -0.052020, Max = 0.049799.\n",
      "yt : [WARNING  ] 2020-07-01 12:38:52,475 Switching to symlog colorbar scaling unless linear scaling is specified later\n",
      "yt : [INFO     ] 2020-07-01 12:38:52,546 Making a fixed resolution buffer of (('boxlib', 'Psi')) 800 by 800\n",
      "yt : [WARNING  ] 2020-07-01 12:38:52,742 Supplied id_loc but draw_ids is False. Not drawing grid ids\n",
      "yt : [WARNING  ] 2020-07-01 12:38:52,744 Supplied id_loc but draw_ids is False. Not drawing grid ids\n",
      "yt : [WARNING  ] 2020-07-01 12:38:52,746 Supplied id_loc but draw_ids is False. Not drawing grid ids\n"
     ]
    },
    {
     "name": "stdout",
     "output_type": "stream",
     "text": [
      "plt0000087\n",
      "img00087.png\n"
     ]
    },
    {
     "name": "stderr",
     "output_type": "stream",
     "text": [
      "yt : [WARNING  ] 2020-07-01 12:38:52,748 Supplied id_loc but draw_ids is False. Not drawing grid ids\n",
      "yt : [WARNING  ] 2020-07-01 12:38:52,752 Supplied id_loc but draw_ids is False. Not drawing grid ids\n",
      "yt : [WARNING  ] 2020-07-01 12:38:52,754 Supplied id_loc but draw_ids is False. Not drawing grid ids\n",
      "yt : [WARNING  ] 2020-07-01 12:38:52,756 Supplied id_loc but draw_ids is False. Not drawing grid ids\n",
      "yt : [WARNING  ] 2020-07-01 12:38:52,758 Supplied id_loc but draw_ids is False. Not drawing grid ids\n",
      "yt : [WARNING  ] 2020-07-01 12:38:52,760 Supplied id_loc but draw_ids is False. Not drawing grid ids\n",
      "yt : [INFO     ] 2020-07-01 12:38:52,760 Saving plot img00087.png\n",
      "yt : [INFO     ] 2020-07-01 12:38:52,975 Parameters: current_time              = 17.1875\n",
      "yt : [INFO     ] 2020-07-01 12:38:52,976 Parameters: domain_dimensions         = [256 256   1]\n",
      "yt : [INFO     ] 2020-07-01 12:38:52,976 Parameters: domain_left_edge          = [-50. -50.   0.]\n",
      "yt : [INFO     ] 2020-07-01 12:38:52,977 Parameters: domain_right_edge         = [ 50.  50.   1.]\n",
      "yt : [INFO     ] 2020-07-01 12:38:53,081 xlim = -50.000000 50.000000\n",
      "yt : [INFO     ] 2020-07-01 12:38:53,082 ylim = -50.000000 50.000000\n",
      "yt : [INFO     ] 2020-07-01 12:38:53,083 xlim = -50.000000 50.000000\n",
      "yt : [INFO     ] 2020-07-01 12:38:53,083 ylim = -50.000000 50.000000\n",
      "yt : [INFO     ] 2020-07-01 12:38:53,084 Making a fixed resolution buffer of (('boxlib', 'Psi')) 800 by 800\n",
      "yt : [WARNING  ] 2020-07-01 12:38:53,115 Plot image for field ('boxlib', 'Psi') has both positive and negative values. Min = -0.051321, Max = 0.049610.\n",
      "yt : [WARNING  ] 2020-07-01 12:38:53,115 Switching to symlog colorbar scaling unless linear scaling is specified later\n",
      "yt : [INFO     ] 2020-07-01 12:38:53,187 Making a fixed resolution buffer of (('boxlib', 'Psi')) 800 by 800\n",
      "yt : [WARNING  ] 2020-07-01 12:38:53,270 Supplied id_loc but draw_ids is False. Not drawing grid ids\n",
      "yt : [WARNING  ] 2020-07-01 12:38:53,272 Supplied id_loc but draw_ids is False. Not drawing grid ids\n",
      "yt : [WARNING  ] 2020-07-01 12:38:53,275 Supplied id_loc but draw_ids is False. Not drawing grid ids\n",
      "yt : [WARNING  ] 2020-07-01 12:38:53,277 Supplied id_loc but draw_ids is False. Not drawing grid ids\n",
      "yt : [WARNING  ] 2020-07-01 12:38:53,279 Supplied id_loc but draw_ids is False. Not drawing grid ids\n",
      "yt : [WARNING  ] 2020-07-01 12:38:53,280 Supplied id_loc but draw_ids is False. Not drawing grid ids\n",
      "yt : [WARNING  ] 2020-07-01 12:38:53,283 Supplied id_loc but draw_ids is False. Not drawing grid ids\n",
      "yt : [WARNING  ] 2020-07-01 12:38:53,284 Supplied id_loc but draw_ids is False. Not drawing grid ids\n",
      "yt : [WARNING  ] 2020-07-01 12:38:53,286 Supplied id_loc but draw_ids is False. Not drawing grid ids\n",
      "yt : [INFO     ] 2020-07-01 12:38:53,287 Saving plot img00088.png\n"
     ]
    },
    {
     "name": "stdout",
     "output_type": "stream",
     "text": [
      "plt0000088\n",
      "img00088.png\n"
     ]
    },
    {
     "name": "stderr",
     "output_type": "stream",
     "text": [
      "yt : [INFO     ] 2020-07-01 12:38:53,500 Parameters: current_time              = 17.3828125\n",
      "yt : [INFO     ] 2020-07-01 12:38:53,500 Parameters: domain_dimensions         = [256 256   1]\n",
      "yt : [INFO     ] 2020-07-01 12:38:53,501 Parameters: domain_left_edge          = [-50. -50.   0.]\n",
      "yt : [INFO     ] 2020-07-01 12:38:53,501 Parameters: domain_right_edge         = [ 50.  50.   1.]\n",
      "yt : [INFO     ] 2020-07-01 12:38:53,606 xlim = -50.000000 50.000000\n",
      "yt : [INFO     ] 2020-07-01 12:38:53,607 ylim = -50.000000 50.000000\n",
      "yt : [INFO     ] 2020-07-01 12:38:53,608 xlim = -50.000000 50.000000\n",
      "yt : [INFO     ] 2020-07-01 12:38:53,608 ylim = -50.000000 50.000000\n",
      "yt : [INFO     ] 2020-07-01 12:38:53,609 Making a fixed resolution buffer of (('boxlib', 'Psi')) 800 by 800\n",
      "yt : [WARNING  ] 2020-07-01 12:38:53,640 Plot image for field ('boxlib', 'Psi') has both positive and negative values. Min = -0.050524, Max = 0.049500.\n",
      "yt : [WARNING  ] 2020-07-01 12:38:53,640 Switching to symlog colorbar scaling unless linear scaling is specified later\n",
      "yt : [INFO     ] 2020-07-01 12:38:53,711 Making a fixed resolution buffer of (('boxlib', 'Psi')) 800 by 800\n",
      "yt : [WARNING  ] 2020-07-01 12:38:53,795 Supplied id_loc but draw_ids is False. Not drawing grid ids\n",
      "yt : [WARNING  ] 2020-07-01 12:38:53,797 Supplied id_loc but draw_ids is False. Not drawing grid ids\n",
      "yt : [WARNING  ] 2020-07-01 12:38:53,799 Supplied id_loc but draw_ids is False. Not drawing grid ids\n",
      "yt : [WARNING  ] 2020-07-01 12:38:53,801 Supplied id_loc but draw_ids is False. Not drawing grid ids\n",
      "yt : [WARNING  ] 2020-07-01 12:38:53,803 Supplied id_loc but draw_ids is False. Not drawing grid ids\n",
      "yt : [WARNING  ] 2020-07-01 12:38:53,805 Supplied id_loc but draw_ids is False. Not drawing grid ids\n",
      "yt : [WARNING  ] 2020-07-01 12:38:53,808 Supplied id_loc but draw_ids is False. Not drawing grid ids\n",
      "yt : [WARNING  ] 2020-07-01 12:38:53,810 Supplied id_loc but draw_ids is False. Not drawing grid ids\n",
      "yt : [WARNING  ] 2020-07-01 12:38:53,812 Supplied id_loc but draw_ids is False. Not drawing grid ids\n",
      "yt : [INFO     ] 2020-07-01 12:38:53,812 Saving plot img00089.png\n"
     ]
    },
    {
     "name": "stdout",
     "output_type": "stream",
     "text": [
      "plt0000089\n",
      "img00089.png\n"
     ]
    },
    {
     "name": "stderr",
     "output_type": "stream",
     "text": [
      "yt : [INFO     ] 2020-07-01 12:38:54,029 Parameters: current_time              = 17.578125\n",
      "yt : [INFO     ] 2020-07-01 12:38:54,029 Parameters: domain_dimensions         = [256 256   1]\n",
      "yt : [INFO     ] 2020-07-01 12:38:54,030 Parameters: domain_left_edge          = [-50. -50.   0.]\n",
      "yt : [INFO     ] 2020-07-01 12:38:54,030 Parameters: domain_right_edge         = [ 50.  50.   1.]\n",
      "yt : [INFO     ] 2020-07-01 12:38:54,138 xlim = -50.000000 50.000000\n",
      "yt : [INFO     ] 2020-07-01 12:38:54,139 ylim = -50.000000 50.000000\n",
      "yt : [INFO     ] 2020-07-01 12:38:54,140 xlim = -50.000000 50.000000\n",
      "yt : [INFO     ] 2020-07-01 12:38:54,140 ylim = -50.000000 50.000000\n",
      "yt : [INFO     ] 2020-07-01 12:38:54,141 Making a fixed resolution buffer of (('boxlib', 'Psi')) 800 by 800\n",
      "yt : [WARNING  ] 2020-07-01 12:38:54,173 Plot image for field ('boxlib', 'Psi') has both positive and negative values. Min = -0.049889, Max = 0.049609.\n",
      "yt : [WARNING  ] 2020-07-01 12:38:54,174 Switching to symlog colorbar scaling unless linear scaling is specified later\n",
      "yt : [INFO     ] 2020-07-01 12:38:54,375 Making a fixed resolution buffer of (('boxlib', 'Psi')) 800 by 800\n",
      "yt : [WARNING  ] 2020-07-01 12:38:54,460 Supplied id_loc but draw_ids is False. Not drawing grid ids\n",
      "yt : [WARNING  ] 2020-07-01 12:38:54,463 Supplied id_loc but draw_ids is False. Not drawing grid ids\n",
      "yt : [WARNING  ] 2020-07-01 12:38:54,465 Supplied id_loc but draw_ids is False. Not drawing grid ids\n",
      "yt : [WARNING  ] 2020-07-01 12:38:54,469 Supplied id_loc but draw_ids is False. Not drawing grid ids\n",
      "yt : [WARNING  ] 2020-07-01 12:38:54,472 Supplied id_loc but draw_ids is False. Not drawing grid ids\n",
      "yt : [WARNING  ] 2020-07-01 12:38:54,474 Supplied id_loc but draw_ids is False. Not drawing grid ids\n",
      "yt : [WARNING  ] 2020-07-01 12:38:54,476 Supplied id_loc but draw_ids is False. Not drawing grid ids\n",
      "yt : [WARNING  ] 2020-07-01 12:38:54,478 Supplied id_loc but draw_ids is False. Not drawing grid ids\n",
      "yt : [WARNING  ] 2020-07-01 12:38:54,481 Supplied id_loc but draw_ids is False. Not drawing grid ids\n",
      "yt : [INFO     ] 2020-07-01 12:38:54,481 Saving plot img00090.png\n"
     ]
    },
    {
     "name": "stdout",
     "output_type": "stream",
     "text": [
      "plt0000090\n",
      "img00090.png\n"
     ]
    },
    {
     "name": "stderr",
     "output_type": "stream",
     "text": [
      "yt : [INFO     ] 2020-07-01 12:38:54,696 Parameters: current_time              = 17.7734375\n",
      "yt : [INFO     ] 2020-07-01 12:38:54,697 Parameters: domain_dimensions         = [256 256   1]\n",
      "yt : [INFO     ] 2020-07-01 12:38:54,697 Parameters: domain_left_edge          = [-50. -50.   0.]\n",
      "yt : [INFO     ] 2020-07-01 12:38:54,698 Parameters: domain_right_edge         = [ 50.  50.   1.]\n",
      "yt : [INFO     ] 2020-07-01 12:38:54,803 xlim = -50.000000 50.000000\n",
      "yt : [INFO     ] 2020-07-01 12:38:54,804 ylim = -50.000000 50.000000\n",
      "yt : [INFO     ] 2020-07-01 12:38:54,805 xlim = -50.000000 50.000000\n",
      "yt : [INFO     ] 2020-07-01 12:38:54,805 ylim = -50.000000 50.000000\n",
      "yt : [INFO     ] 2020-07-01 12:38:54,806 Making a fixed resolution buffer of (('boxlib', 'Psi')) 800 by 800\n",
      "yt : [WARNING  ] 2020-07-01 12:38:54,837 Plot image for field ('boxlib', 'Psi') has both positive and negative values. Min = -0.049170, Max = 0.049268.\n",
      "yt : [WARNING  ] 2020-07-01 12:38:54,837 Switching to symlog colorbar scaling unless linear scaling is specified later\n",
      "yt : [INFO     ] 2020-07-01 12:38:54,929 Making a fixed resolution buffer of (('boxlib', 'Psi')) 800 by 800\n",
      "yt : [WARNING  ] 2020-07-01 12:38:55,012 Supplied id_loc but draw_ids is False. Not drawing grid ids\n",
      "yt : [WARNING  ] 2020-07-01 12:38:55,014 Supplied id_loc but draw_ids is False. Not drawing grid ids\n",
      "yt : [WARNING  ] 2020-07-01 12:38:55,016 Supplied id_loc but draw_ids is False. Not drawing grid ids\n",
      "yt : [WARNING  ] 2020-07-01 12:38:55,018 Supplied id_loc but draw_ids is False. Not drawing grid ids\n",
      "yt : [WARNING  ] 2020-07-01 12:38:55,020 Supplied id_loc but draw_ids is False. Not drawing grid ids\n",
      "yt : [WARNING  ] 2020-07-01 12:38:55,022 Supplied id_loc but draw_ids is False. Not drawing grid ids\n",
      "yt : [WARNING  ] 2020-07-01 12:38:55,024 Supplied id_loc but draw_ids is False. Not drawing grid ids\n",
      "yt : [WARNING  ] 2020-07-01 12:38:55,026 Supplied id_loc but draw_ids is False. Not drawing grid ids\n",
      "yt : [WARNING  ] 2020-07-01 12:38:55,028 Supplied id_loc but draw_ids is False. Not drawing grid ids\n",
      "yt : [INFO     ] 2020-07-01 12:38:55,028 Saving plot img00091.png\n"
     ]
    },
    {
     "name": "stdout",
     "output_type": "stream",
     "text": [
      "plt0000091\n",
      "img00091.png\n"
     ]
    },
    {
     "name": "stderr",
     "output_type": "stream",
     "text": [
      "yt : [INFO     ] 2020-07-01 12:38:55,245 Parameters: current_time              = 17.96875\n",
      "yt : [INFO     ] 2020-07-01 12:38:55,245 Parameters: domain_dimensions         = [256 256   1]\n",
      "yt : [INFO     ] 2020-07-01 12:38:55,246 Parameters: domain_left_edge          = [-50. -50.   0.]\n",
      "yt : [INFO     ] 2020-07-01 12:38:55,246 Parameters: domain_right_edge         = [ 50.  50.   1.]\n",
      "yt : [INFO     ] 2020-07-01 12:38:55,352 xlim = -50.000000 50.000000\n",
      "yt : [INFO     ] 2020-07-01 12:38:55,353 ylim = -50.000000 50.000000\n",
      "yt : [INFO     ] 2020-07-01 12:38:55,354 xlim = -50.000000 50.000000\n",
      "yt : [INFO     ] 2020-07-01 12:38:55,354 ylim = -50.000000 50.000000\n",
      "yt : [INFO     ] 2020-07-01 12:38:55,355 Making a fixed resolution buffer of (('boxlib', 'Psi')) 800 by 800\n",
      "yt : [WARNING  ] 2020-07-01 12:38:55,387 Plot image for field ('boxlib', 'Psi') has both positive and negative values. Min = -0.048391, Max = 0.049012.\n",
      "yt : [WARNING  ] 2020-07-01 12:38:55,388 Switching to symlog colorbar scaling unless linear scaling is specified later\n",
      "yt : [INFO     ] 2020-07-01 12:38:55,478 Making a fixed resolution buffer of (('boxlib', 'Psi')) 800 by 800\n",
      "yt : [WARNING  ] 2020-07-01 12:38:55,672 Supplied id_loc but draw_ids is False. Not drawing grid ids\n",
      "yt : [WARNING  ] 2020-07-01 12:38:55,675 Supplied id_loc but draw_ids is False. Not drawing grid ids\n"
     ]
    },
    {
     "name": "stdout",
     "output_type": "stream",
     "text": [
      "plt0000092\n",
      "img00092.png\n"
     ]
    },
    {
     "name": "stderr",
     "output_type": "stream",
     "text": [
      "yt : [WARNING  ] 2020-07-01 12:38:55,678 Supplied id_loc but draw_ids is False. Not drawing grid ids\n",
      "yt : [WARNING  ] 2020-07-01 12:38:55,681 Supplied id_loc but draw_ids is False. Not drawing grid ids\n",
      "yt : [WARNING  ] 2020-07-01 12:38:55,684 Supplied id_loc but draw_ids is False. Not drawing grid ids\n",
      "yt : [WARNING  ] 2020-07-01 12:38:55,686 Supplied id_loc but draw_ids is False. Not drawing grid ids\n",
      "yt : [WARNING  ] 2020-07-01 12:38:55,689 Supplied id_loc but draw_ids is False. Not drawing grid ids\n",
      "yt : [WARNING  ] 2020-07-01 12:38:55,691 Supplied id_loc but draw_ids is False. Not drawing grid ids\n",
      "yt : [WARNING  ] 2020-07-01 12:38:55,694 Supplied id_loc but draw_ids is False. Not drawing grid ids\n",
      "yt : [INFO     ] 2020-07-01 12:38:55,694 Saving plot img00092.png\n",
      "yt : [INFO     ] 2020-07-01 12:38:55,911 Parameters: current_time              = 18.1640625\n",
      "yt : [INFO     ] 2020-07-01 12:38:55,912 Parameters: domain_dimensions         = [256 256   1]\n",
      "yt : [INFO     ] 2020-07-01 12:38:55,912 Parameters: domain_left_edge          = [-50. -50.   0.]\n",
      "yt : [INFO     ] 2020-07-01 12:38:55,913 Parameters: domain_right_edge         = [ 50.  50.   1.]\n",
      "yt : [INFO     ] 2020-07-01 12:38:56,019 xlim = -50.000000 50.000000\n",
      "yt : [INFO     ] 2020-07-01 12:38:56,019 ylim = -50.000000 50.000000\n",
      "yt : [INFO     ] 2020-07-01 12:38:56,020 xlim = -50.000000 50.000000\n",
      "yt : [INFO     ] 2020-07-01 12:38:56,021 ylim = -50.000000 50.000000\n",
      "yt : [INFO     ] 2020-07-01 12:38:56,022 Making a fixed resolution buffer of (('boxlib', 'Psi')) 800 by 800\n",
      "yt : [WARNING  ] 2020-07-01 12:38:56,054 Plot image for field ('boxlib', 'Psi') has both positive and negative values. Min = -0.047499, Max = 0.048658.\n",
      "yt : [WARNING  ] 2020-07-01 12:38:56,055 Switching to symlog colorbar scaling unless linear scaling is specified later\n",
      "yt : [INFO     ] 2020-07-01 12:38:56,147 Making a fixed resolution buffer of (('boxlib', 'Psi')) 800 by 800\n",
      "yt : [WARNING  ] 2020-07-01 12:38:56,232 Supplied id_loc but draw_ids is False. Not drawing grid ids\n",
      "yt : [WARNING  ] 2020-07-01 12:38:56,234 Supplied id_loc but draw_ids is False. Not drawing grid ids\n",
      "yt : [WARNING  ] 2020-07-01 12:38:56,236 Supplied id_loc but draw_ids is False. Not drawing grid ids\n",
      "yt : [WARNING  ] 2020-07-01 12:38:56,239 Supplied id_loc but draw_ids is False. Not drawing grid ids\n",
      "yt : [WARNING  ] 2020-07-01 12:38:56,241 Supplied id_loc but draw_ids is False. Not drawing grid ids\n",
      "yt : [WARNING  ] 2020-07-01 12:38:56,243 Supplied id_loc but draw_ids is False. Not drawing grid ids\n",
      "yt : [WARNING  ] 2020-07-01 12:38:56,245 Supplied id_loc but draw_ids is False. Not drawing grid ids\n",
      "yt : [WARNING  ] 2020-07-01 12:38:56,247 Supplied id_loc but draw_ids is False. Not drawing grid ids\n",
      "yt : [WARNING  ] 2020-07-01 12:38:56,249 Supplied id_loc but draw_ids is False. Not drawing grid ids\n",
      "yt : [INFO     ] 2020-07-01 12:38:56,249 Saving plot img00093.png\n"
     ]
    },
    {
     "name": "stdout",
     "output_type": "stream",
     "text": [
      "plt0000093\n",
      "img00093.png\n"
     ]
    },
    {
     "name": "stderr",
     "output_type": "stream",
     "text": [
      "yt : [INFO     ] 2020-07-01 12:38:56,469 Parameters: current_time              = 18.359375\n",
      "yt : [INFO     ] 2020-07-01 12:38:56,469 Parameters: domain_dimensions         = [256 256   1]\n",
      "yt : [INFO     ] 2020-07-01 12:38:56,470 Parameters: domain_left_edge          = [-50. -50.   0.]\n",
      "yt : [INFO     ] 2020-07-01 12:38:56,471 Parameters: domain_right_edge         = [ 50.  50.   1.]\n",
      "yt : [INFO     ] 2020-07-01 12:38:56,575 xlim = -50.000000 50.000000\n",
      "yt : [INFO     ] 2020-07-01 12:38:56,576 ylim = -50.000000 50.000000\n",
      "yt : [INFO     ] 2020-07-01 12:38:56,577 xlim = -50.000000 50.000000\n",
      "yt : [INFO     ] 2020-07-01 12:38:56,577 ylim = -50.000000 50.000000\n",
      "yt : [INFO     ] 2020-07-01 12:38:56,578 Making a fixed resolution buffer of (('boxlib', 'Psi')) 800 by 800\n",
      "yt : [WARNING  ] 2020-07-01 12:38:56,609 Plot image for field ('boxlib', 'Psi') has both positive and negative values. Min = -0.046584, Max = 0.048345.\n",
      "yt : [WARNING  ] 2020-07-01 12:38:56,610 Switching to symlog colorbar scaling unless linear scaling is specified later\n",
      "yt : [INFO     ] 2020-07-01 12:38:56,702 Making a fixed resolution buffer of (('boxlib', 'Psi')) 800 by 800\n",
      "yt : [WARNING  ] 2020-07-01 12:38:56,787 Supplied id_loc but draw_ids is False. Not drawing grid ids\n",
      "yt : [WARNING  ] 2020-07-01 12:38:56,789 Supplied id_loc but draw_ids is False. Not drawing grid ids\n",
      "yt : [WARNING  ] 2020-07-01 12:38:56,791 Supplied id_loc but draw_ids is False. Not drawing grid ids\n",
      "yt : [WARNING  ] 2020-07-01 12:38:56,793 Supplied id_loc but draw_ids is False. Not drawing grid ids\n",
      "yt : [WARNING  ] 2020-07-01 12:38:56,795 Supplied id_loc but draw_ids is False. Not drawing grid ids\n",
      "yt : [WARNING  ] 2020-07-01 12:38:56,797 Supplied id_loc but draw_ids is False. Not drawing grid ids\n",
      "yt : [WARNING  ] 2020-07-01 12:38:56,799 Supplied id_loc but draw_ids is False. Not drawing grid ids\n",
      "yt : [WARNING  ] 2020-07-01 12:38:56,801 Supplied id_loc but draw_ids is False. Not drawing grid ids\n",
      "yt : [WARNING  ] 2020-07-01 12:38:56,803 Supplied id_loc but draw_ids is False. Not drawing grid ids\n",
      "yt : [INFO     ] 2020-07-01 12:38:56,803 Saving plot img00094.png\n"
     ]
    },
    {
     "name": "stdout",
     "output_type": "stream",
     "text": [
      "plt0000094\n",
      "img00094.png\n"
     ]
    },
    {
     "name": "stderr",
     "output_type": "stream",
     "text": [
      "yt : [INFO     ] 2020-07-01 12:38:57,024 Parameters: current_time              = 18.5546875\n",
      "yt : [INFO     ] 2020-07-01 12:38:57,024 Parameters: domain_dimensions         = [256 256   1]\n",
      "yt : [INFO     ] 2020-07-01 12:38:57,025 Parameters: domain_left_edge          = [-50. -50.   0.]\n",
      "yt : [INFO     ] 2020-07-01 12:38:57,025 Parameters: domain_right_edge         = [ 50.  50.   1.]\n",
      "yt : [INFO     ] 2020-07-01 12:38:57,134 xlim = -50.000000 50.000000\n",
      "yt : [INFO     ] 2020-07-01 12:38:57,134 ylim = -50.000000 50.000000\n",
      "yt : [INFO     ] 2020-07-01 12:38:57,136 xlim = -50.000000 50.000000\n",
      "yt : [INFO     ] 2020-07-01 12:38:57,136 ylim = -50.000000 50.000000\n",
      "yt : [INFO     ] 2020-07-01 12:38:57,137 Making a fixed resolution buffer of (('boxlib', 'Psi')) 800 by 800\n",
      "yt : [WARNING  ] 2020-07-01 12:38:57,169 Plot image for field ('boxlib', 'Psi') has both positive and negative values. Min = -0.045788, Max = 0.048024.\n",
      "yt : [WARNING  ] 2020-07-01 12:38:57,169 Switching to symlog colorbar scaling unless linear scaling is specified later\n",
      "yt : [INFO     ] 2020-07-01 12:38:57,371 Making a fixed resolution buffer of (('boxlib', 'Psi')) 800 by 800\n",
      "yt : [WARNING  ] 2020-07-01 12:38:57,457 Supplied id_loc but draw_ids is False. Not drawing grid ids\n",
      "yt : [WARNING  ] 2020-07-01 12:38:57,460 Supplied id_loc but draw_ids is False. Not drawing grid ids\n",
      "yt : [WARNING  ] 2020-07-01 12:38:57,462 Supplied id_loc but draw_ids is False. Not drawing grid ids\n",
      "yt : [WARNING  ] 2020-07-01 12:38:57,464 Supplied id_loc but draw_ids is False. Not drawing grid ids\n",
      "yt : [WARNING  ] 2020-07-01 12:38:57,466 Supplied id_loc but draw_ids is False. Not drawing grid ids\n",
      "yt : [WARNING  ] 2020-07-01 12:38:57,469 Supplied id_loc but draw_ids is False. Not drawing grid ids\n",
      "yt : [WARNING  ] 2020-07-01 12:38:57,471 Supplied id_loc but draw_ids is False. Not drawing grid ids\n",
      "yt : [WARNING  ] 2020-07-01 12:38:57,473 Supplied id_loc but draw_ids is False. Not drawing grid ids\n",
      "yt : [WARNING  ] 2020-07-01 12:38:57,475 Supplied id_loc but draw_ids is False. Not drawing grid ids\n",
      "yt : [INFO     ] 2020-07-01 12:38:57,476 Saving plot img00095.png\n"
     ]
    },
    {
     "name": "stdout",
     "output_type": "stream",
     "text": [
      "plt0000095\n",
      "img00095.png\n"
     ]
    },
    {
     "name": "stderr",
     "output_type": "stream",
     "text": [
      "yt : [INFO     ] 2020-07-01 12:38:57,697 Parameters: current_time              = 18.75\n",
      "yt : [INFO     ] 2020-07-01 12:38:57,698 Parameters: domain_dimensions         = [256 256   1]\n",
      "yt : [INFO     ] 2020-07-01 12:38:57,698 Parameters: domain_left_edge          = [-50. -50.   0.]\n",
      "yt : [INFO     ] 2020-07-01 12:38:57,699 Parameters: domain_right_edge         = [ 50.  50.   1.]\n",
      "yt : [INFO     ] 2020-07-01 12:38:57,807 xlim = -50.000000 50.000000\n",
      "yt : [INFO     ] 2020-07-01 12:38:57,808 ylim = -50.000000 50.000000\n",
      "yt : [INFO     ] 2020-07-01 12:38:57,809 xlim = -50.000000 50.000000\n",
      "yt : [INFO     ] 2020-07-01 12:38:57,809 ylim = -50.000000 50.000000\n",
      "yt : [INFO     ] 2020-07-01 12:38:57,810 Making a fixed resolution buffer of (('boxlib', 'Psi')) 800 by 800\n",
      "yt : [WARNING  ] 2020-07-01 12:38:57,844 Plot image for field ('boxlib', 'Psi') has both positive and negative values. Min = -0.045183, Max = 0.047727.\n",
      "yt : [WARNING  ] 2020-07-01 12:38:57,844 Switching to symlog colorbar scaling unless linear scaling is specified later\n",
      "yt : [INFO     ] 2020-07-01 12:38:57,936 Making a fixed resolution buffer of (('boxlib', 'Psi')) 800 by 800\n",
      "yt : [WARNING  ] 2020-07-01 12:38:58,021 Supplied id_loc but draw_ids is False. Not drawing grid ids\n",
      "yt : [WARNING  ] 2020-07-01 12:38:58,023 Supplied id_loc but draw_ids is False. Not drawing grid ids\n",
      "yt : [WARNING  ] 2020-07-01 12:38:58,026 Supplied id_loc but draw_ids is False. Not drawing grid ids\n",
      "yt : [WARNING  ] 2020-07-01 12:38:58,028 Supplied id_loc but draw_ids is False. Not drawing grid ids\n",
      "yt : [WARNING  ] 2020-07-01 12:38:58,030 Supplied id_loc but draw_ids is False. Not drawing grid ids\n",
      "yt : [WARNING  ] 2020-07-01 12:38:58,033 Supplied id_loc but draw_ids is False. Not drawing grid ids\n",
      "yt : [WARNING  ] 2020-07-01 12:38:58,035 Supplied id_loc but draw_ids is False. Not drawing grid ids\n",
      "yt : [WARNING  ] 2020-07-01 12:38:58,037 Supplied id_loc but draw_ids is False. Not drawing grid ids\n",
      "yt : [WARNING  ] 2020-07-01 12:38:58,039 Supplied id_loc but draw_ids is False. Not drawing grid ids\n",
      "yt : [INFO     ] 2020-07-01 12:38:58,040 Saving plot img00096.png\n"
     ]
    },
    {
     "name": "stdout",
     "output_type": "stream",
     "text": [
      "plt0000096\n",
      "img00096.png\n"
     ]
    },
    {
     "name": "stderr",
     "output_type": "stream",
     "text": [
      "yt : [INFO     ] 2020-07-01 12:38:58,264 Parameters: current_time              = 18.9453125\n",
      "yt : [INFO     ] 2020-07-01 12:38:58,264 Parameters: domain_dimensions         = [256 256   1]\n",
      "yt : [INFO     ] 2020-07-01 12:38:58,265 Parameters: domain_left_edge          = [-50. -50.   0.]\n",
      "yt : [INFO     ] 2020-07-01 12:38:58,266 Parameters: domain_right_edge         = [ 50.  50.   1.]\n",
      "yt : [INFO     ] 2020-07-01 12:38:58,381 xlim = -50.000000 50.000000\n",
      "yt : [INFO     ] 2020-07-01 12:38:58,382 ylim = -50.000000 50.000000\n",
      "yt : [INFO     ] 2020-07-01 12:38:58,383 xlim = -50.000000 50.000000\n",
      "yt : [INFO     ] 2020-07-01 12:38:58,383 ylim = -50.000000 50.000000\n",
      "yt : [INFO     ] 2020-07-01 12:38:58,384 Making a fixed resolution buffer of (('boxlib', 'Psi')) 800 by 800\n",
      "yt : [WARNING  ] 2020-07-01 12:38:58,419 Plot image for field ('boxlib', 'Psi') has both positive and negative values. Min = -0.044501, Max = 0.047770.\n",
      "yt : [WARNING  ] 2020-07-01 12:38:58,420 Switching to symlog colorbar scaling unless linear scaling is specified later\n",
      "yt : [INFO     ] 2020-07-01 12:38:58,511 Making a fixed resolution buffer of (('boxlib', 'Psi')) 800 by 800\n",
      "yt : [WARNING  ] 2020-07-01 12:38:58,599 Supplied id_loc but draw_ids is False. Not drawing grid ids\n",
      "yt : [WARNING  ] 2020-07-01 12:38:58,602 Supplied id_loc but draw_ids is False. Not drawing grid ids\n",
      "yt : [WARNING  ] 2020-07-01 12:38:58,606 Supplied id_loc but draw_ids is False. Not drawing grid ids\n",
      "yt : [WARNING  ] 2020-07-01 12:38:58,609 Supplied id_loc but draw_ids is False. Not drawing grid ids\n",
      "yt : [WARNING  ] 2020-07-01 12:38:58,612 Supplied id_loc but draw_ids is False. Not drawing grid ids\n",
      "yt : [WARNING  ] 2020-07-01 12:38:58,615 Supplied id_loc but draw_ids is False. Not drawing grid ids\n",
      "yt : [WARNING  ] 2020-07-01 12:38:58,618 Supplied id_loc but draw_ids is False. Not drawing grid ids\n",
      "yt : [WARNING  ] 2020-07-01 12:38:58,621 Supplied id_loc but draw_ids is False. Not drawing grid ids\n",
      "yt : [WARNING  ] 2020-07-01 12:38:58,624 Supplied id_loc but draw_ids is False. Not drawing grid ids\n",
      "yt : [INFO     ] 2020-07-01 12:38:58,625 Saving plot img00097.png\n"
     ]
    },
    {
     "name": "stdout",
     "output_type": "stream",
     "text": [
      "plt0000097\n",
      "img00097.png\n"
     ]
    },
    {
     "name": "stderr",
     "output_type": "stream",
     "text": [
      "yt : [INFO     ] 2020-07-01 12:38:58,953 Parameters: current_time              = 19.140625\n",
      "yt : [INFO     ] 2020-07-01 12:38:58,954 Parameters: domain_dimensions         = [256 256   1]\n",
      "yt : [INFO     ] 2020-07-01 12:38:58,954 Parameters: domain_left_edge          = [-50. -50.   0.]\n",
      "yt : [INFO     ] 2020-07-01 12:38:58,955 Parameters: domain_right_edge         = [ 50.  50.   1.]\n",
      "yt : [INFO     ] 2020-07-01 12:38:59,066 xlim = -50.000000 50.000000\n",
      "yt : [INFO     ] 2020-07-01 12:38:59,067 ylim = -50.000000 50.000000\n",
      "yt : [INFO     ] 2020-07-01 12:38:59,068 xlim = -50.000000 50.000000\n",
      "yt : [INFO     ] 2020-07-01 12:38:59,068 ylim = -50.000000 50.000000\n",
      "yt : [INFO     ] 2020-07-01 12:38:59,069 Making a fixed resolution buffer of (('boxlib', 'Psi')) 800 by 800\n",
      "yt : [WARNING  ] 2020-07-01 12:38:59,105 Plot image for field ('boxlib', 'Psi') has both positive and negative values. Min = -0.043654, Max = 0.047297.\n",
      "yt : [WARNING  ] 2020-07-01 12:38:59,105 Switching to symlog colorbar scaling unless linear scaling is specified later\n",
      "yt : [INFO     ] 2020-07-01 12:38:59,196 Making a fixed resolution buffer of (('boxlib', 'Psi')) 800 by 800\n",
      "yt : [WARNING  ] 2020-07-01 12:38:59,283 Supplied id_loc but draw_ids is False. Not drawing grid ids\n",
      "yt : [WARNING  ] 2020-07-01 12:38:59,285 Supplied id_loc but draw_ids is False. Not drawing grid ids\n",
      "yt : [WARNING  ] 2020-07-01 12:38:59,288 Supplied id_loc but draw_ids is False. Not drawing grid ids\n",
      "yt : [WARNING  ] 2020-07-01 12:38:59,291 Supplied id_loc but draw_ids is False. Not drawing grid ids\n",
      "yt : [WARNING  ] 2020-07-01 12:38:59,294 Supplied id_loc but draw_ids is False. Not drawing grid ids\n",
      "yt : [WARNING  ] 2020-07-01 12:38:59,296 Supplied id_loc but draw_ids is False. Not drawing grid ids\n",
      "yt : [WARNING  ] 2020-07-01 12:38:59,299 Supplied id_loc but draw_ids is False. Not drawing grid ids\n",
      "yt : [WARNING  ] 2020-07-01 12:38:59,301 Supplied id_loc but draw_ids is False. Not drawing grid ids\n",
      "yt : [WARNING  ] 2020-07-01 12:38:59,306 Supplied id_loc but draw_ids is False. Not drawing grid ids\n",
      "yt : [INFO     ] 2020-07-01 12:38:59,306 Saving plot img00098.png\n"
     ]
    },
    {
     "name": "stdout",
     "output_type": "stream",
     "text": [
      "plt0000098\n",
      "img00098.png\n"
     ]
    },
    {
     "name": "stderr",
     "output_type": "stream",
     "text": [
      "yt : [INFO     ] 2020-07-01 12:38:59,533 Parameters: current_time              = 19.3359375\n",
      "yt : [INFO     ] 2020-07-01 12:38:59,534 Parameters: domain_dimensions         = [256 256   1]\n",
      "yt : [INFO     ] 2020-07-01 12:38:59,535 Parameters: domain_left_edge          = [-50. -50.   0.]\n",
      "yt : [INFO     ] 2020-07-01 12:38:59,535 Parameters: domain_right_edge         = [ 50.  50.   1.]\n",
      "yt : [INFO     ] 2020-07-01 12:38:59,645 xlim = -50.000000 50.000000\n",
      "yt : [INFO     ] 2020-07-01 12:38:59,645 ylim = -50.000000 50.000000\n",
      "yt : [INFO     ] 2020-07-01 12:38:59,647 xlim = -50.000000 50.000000\n",
      "yt : [INFO     ] 2020-07-01 12:38:59,647 ylim = -50.000000 50.000000\n",
      "yt : [INFO     ] 2020-07-01 12:38:59,648 Making a fixed resolution buffer of (('boxlib', 'Psi')) 800 by 800\n",
      "yt : [WARNING  ] 2020-07-01 12:38:59,682 Plot image for field ('boxlib', 'Psi') has both positive and negative values. Min = -0.042878, Max = 0.047061.\n",
      "yt : [WARNING  ] 2020-07-01 12:38:59,682 Switching to symlog colorbar scaling unless linear scaling is specified later\n",
      "yt : [INFO     ] 2020-07-01 12:38:59,774 Making a fixed resolution buffer of (('boxlib', 'Psi')) 800 by 800\n",
      "yt : [WARNING  ] 2020-07-01 12:38:59,859 Supplied id_loc but draw_ids is False. Not drawing grid ids\n",
      "yt : [WARNING  ] 2020-07-01 12:38:59,862 Supplied id_loc but draw_ids is False. Not drawing grid ids\n",
      "yt : [WARNING  ] 2020-07-01 12:38:59,864 Supplied id_loc but draw_ids is False. Not drawing grid ids\n",
      "yt : [WARNING  ] 2020-07-01 12:38:59,867 Supplied id_loc but draw_ids is False. Not drawing grid ids\n",
      "yt : [WARNING  ] 2020-07-01 12:38:59,869 Supplied id_loc but draw_ids is False. Not drawing grid ids\n",
      "yt : [WARNING  ] 2020-07-01 12:38:59,871 Supplied id_loc but draw_ids is False. Not drawing grid ids\n",
      "yt : [WARNING  ] 2020-07-01 12:38:59,874 Supplied id_loc but draw_ids is False. Not drawing grid ids\n",
      "yt : [WARNING  ] 2020-07-01 12:38:59,876 Supplied id_loc but draw_ids is False. Not drawing grid ids\n",
      "yt : [WARNING  ] 2020-07-01 12:38:59,879 Supplied id_loc but draw_ids is False. Not drawing grid ids\n",
      "yt : [INFO     ] 2020-07-01 12:38:59,879 Saving plot img00099.png\n"
     ]
    },
    {
     "name": "stdout",
     "output_type": "stream",
     "text": [
      "plt0000099\n",
      "img00099.png\n"
     ]
    },
    {
     "name": "stderr",
     "output_type": "stream",
     "text": [
      "yt : [INFO     ] 2020-07-01 12:39:00,107 Parameters: current_time              = 19.53125\n",
      "yt : [INFO     ] 2020-07-01 12:39:00,107 Parameters: domain_dimensions         = [256 256   1]\n",
      "yt : [INFO     ] 2020-07-01 12:39:00,108 Parameters: domain_left_edge          = [-50. -50.   0.]\n",
      "yt : [INFO     ] 2020-07-01 12:39:00,109 Parameters: domain_right_edge         = [ 50.  50.   1.]\n",
      "yt : [INFO     ] 2020-07-01 12:39:00,218 xlim = -50.000000 50.000000\n",
      "yt : [INFO     ] 2020-07-01 12:39:00,219 ylim = -50.000000 50.000000\n",
      "yt : [INFO     ] 2020-07-01 12:39:00,220 xlim = -50.000000 50.000000\n",
      "yt : [INFO     ] 2020-07-01 12:39:00,220 ylim = -50.000000 50.000000\n",
      "yt : [INFO     ] 2020-07-01 12:39:00,221 Making a fixed resolution buffer of (('boxlib', 'Psi')) 800 by 800\n",
      "yt : [WARNING  ] 2020-07-01 12:39:00,255 Plot image for field ('boxlib', 'Psi') has both positive and negative values. Min = -0.042168, Max = 0.046656.\n",
      "yt : [WARNING  ] 2020-07-01 12:39:00,256 Switching to symlog colorbar scaling unless linear scaling is specified later\n",
      "yt : [INFO     ] 2020-07-01 12:39:00,462 Making a fixed resolution buffer of (('boxlib', 'Psi')) 800 by 800\n",
      "yt : [WARNING  ] 2020-07-01 12:39:00,551 Supplied id_loc but draw_ids is False. Not drawing grid ids\n",
      "yt : [WARNING  ] 2020-07-01 12:39:00,553 Supplied id_loc but draw_ids is False. Not drawing grid ids\n",
      "yt : [WARNING  ] 2020-07-01 12:39:00,556 Supplied id_loc but draw_ids is False. Not drawing grid ids\n",
      "yt : [WARNING  ] 2020-07-01 12:39:00,559 Supplied id_loc but draw_ids is False. Not drawing grid ids\n",
      "yt : [WARNING  ] 2020-07-01 12:39:00,561 Supplied id_loc but draw_ids is False. Not drawing grid ids\n",
      "yt : [WARNING  ] 2020-07-01 12:39:00,563 Supplied id_loc but draw_ids is False. Not drawing grid ids\n",
      "yt : [WARNING  ] 2020-07-01 12:39:00,566 Supplied id_loc but draw_ids is False. Not drawing grid ids\n",
      "yt : [WARNING  ] 2020-07-01 12:39:00,568 Supplied id_loc but draw_ids is False. Not drawing grid ids\n",
      "yt : [WARNING  ] 2020-07-01 12:39:00,571 Supplied id_loc but draw_ids is False. Not drawing grid ids\n",
      "yt : [INFO     ] 2020-07-01 12:39:00,571 Saving plot img00100.png\n"
     ]
    },
    {
     "name": "stdout",
     "output_type": "stream",
     "text": [
      "plt0000100\n",
      "img00100.png\n"
     ]
    },
    {
     "name": "stderr",
     "output_type": "stream",
     "text": [
      "yt : [INFO     ] 2020-07-01 12:39:00,802 Parameters: current_time              = 19.7265625\n",
      "yt : [INFO     ] 2020-07-01 12:39:00,802 Parameters: domain_dimensions         = [256 256   1]\n",
      "yt : [INFO     ] 2020-07-01 12:39:00,803 Parameters: domain_left_edge          = [-50. -50.   0.]\n",
      "yt : [INFO     ] 2020-07-01 12:39:00,804 Parameters: domain_right_edge         = [ 50.  50.   1.]\n",
      "yt : [INFO     ] 2020-07-01 12:39:00,915 xlim = -50.000000 50.000000\n",
      "yt : [INFO     ] 2020-07-01 12:39:00,916 ylim = -50.000000 50.000000\n",
      "yt : [INFO     ] 2020-07-01 12:39:00,917 xlim = -50.000000 50.000000\n",
      "yt : [INFO     ] 2020-07-01 12:39:00,917 ylim = -50.000000 50.000000\n",
      "yt : [INFO     ] 2020-07-01 12:39:00,918 Making a fixed resolution buffer of (('boxlib', 'Psi')) 800 by 800\n",
      "yt : [WARNING  ] 2020-07-01 12:39:00,953 Plot image for field ('boxlib', 'Psi') has both positive and negative values. Min = -0.041201, Max = 0.046326.\n",
      "yt : [WARNING  ] 2020-07-01 12:39:00,954 Switching to symlog colorbar scaling unless linear scaling is specified later\n",
      "yt : [INFO     ] 2020-07-01 12:39:01,045 Making a fixed resolution buffer of (('boxlib', 'Psi')) 800 by 800\n",
      "yt : [WARNING  ] 2020-07-01 12:39:01,133 Supplied id_loc but draw_ids is False. Not drawing grid ids\n",
      "yt : [WARNING  ] 2020-07-01 12:39:01,135 Supplied id_loc but draw_ids is False. Not drawing grid ids\n",
      "yt : [WARNING  ] 2020-07-01 12:39:01,138 Supplied id_loc but draw_ids is False. Not drawing grid ids\n",
      "yt : [WARNING  ] 2020-07-01 12:39:01,140 Supplied id_loc but draw_ids is False. Not drawing grid ids\n",
      "yt : [WARNING  ] 2020-07-01 12:39:01,143 Supplied id_loc but draw_ids is False. Not drawing grid ids\n",
      "yt : [WARNING  ] 2020-07-01 12:39:01,145 Supplied id_loc but draw_ids is False. Not drawing grid ids\n",
      "yt : [WARNING  ] 2020-07-01 12:39:01,148 Supplied id_loc but draw_ids is False. Not drawing grid ids\n",
      "yt : [WARNING  ] 2020-07-01 12:39:01,150 Supplied id_loc but draw_ids is False. Not drawing grid ids\n",
      "yt : [WARNING  ] 2020-07-01 12:39:01,153 Supplied id_loc but draw_ids is False. Not drawing grid ids\n",
      "yt : [INFO     ] 2020-07-01 12:39:01,153 Saving plot img00101.png\n"
     ]
    },
    {
     "name": "stdout",
     "output_type": "stream",
     "text": [
      "plt0000101\n",
      "img00101.png\n"
     ]
    },
    {
     "name": "stderr",
     "output_type": "stream",
     "text": [
      "yt : [INFO     ] 2020-07-01 12:39:01,385 Parameters: current_time              = 19.921875\n",
      "yt : [INFO     ] 2020-07-01 12:39:01,386 Parameters: domain_dimensions         = [256 256   1]\n",
      "yt : [INFO     ] 2020-07-01 12:39:01,386 Parameters: domain_left_edge          = [-50. -50.   0.]\n",
      "yt : [INFO     ] 2020-07-01 12:39:01,387 Parameters: domain_right_edge         = [ 50.  50.   1.]\n",
      "yt : [INFO     ] 2020-07-01 12:39:01,613 xlim = -50.000000 50.000000\n",
      "yt : [INFO     ] 2020-07-01 12:39:01,614 ylim = -50.000000 50.000000\n",
      "yt : [INFO     ] 2020-07-01 12:39:01,615 xlim = -50.000000 50.000000\n",
      "yt : [INFO     ] 2020-07-01 12:39:01,615 ylim = -50.000000 50.000000\n",
      "yt : [INFO     ] 2020-07-01 12:39:01,616 Making a fixed resolution buffer of (('boxlib', 'Psi')) 800 by 800\n",
      "yt : [WARNING  ] 2020-07-01 12:39:01,652 Plot image for field ('boxlib', 'Psi') has both positive and negative values. Min = -0.040425, Max = 0.045962.\n",
      "yt : [WARNING  ] 2020-07-01 12:39:01,652 Switching to symlog colorbar scaling unless linear scaling is specified later\n",
      "yt : [INFO     ] 2020-07-01 12:39:01,744 Making a fixed resolution buffer of (('boxlib', 'Psi')) 800 by 800\n",
      "yt : [WARNING  ] 2020-07-01 12:39:01,832 Supplied id_loc but draw_ids is False. Not drawing grid ids\n",
      "yt : [WARNING  ] 2020-07-01 12:39:01,835 Supplied id_loc but draw_ids is False. Not drawing grid ids\n",
      "yt : [WARNING  ] 2020-07-01 12:39:01,837 Supplied id_loc but draw_ids is False. Not drawing grid ids\n",
      "yt : [WARNING  ] 2020-07-01 12:39:01,840 Supplied id_loc but draw_ids is False. Not drawing grid ids\n",
      "yt : [WARNING  ] 2020-07-01 12:39:01,842 Supplied id_loc but draw_ids is False. Not drawing grid ids\n",
      "yt : [WARNING  ] 2020-07-01 12:39:01,844 Supplied id_loc but draw_ids is False. Not drawing grid ids\n",
      "yt : [WARNING  ] 2020-07-01 12:39:01,847 Supplied id_loc but draw_ids is False. Not drawing grid ids\n",
      "yt : [WARNING  ] 2020-07-01 12:39:01,849 Supplied id_loc but draw_ids is False. Not drawing grid ids\n",
      "yt : [WARNING  ] 2020-07-01 12:39:01,851 Supplied id_loc but draw_ids is False. Not drawing grid ids\n",
      "yt : [INFO     ] 2020-07-01 12:39:01,852 Saving plot img00102.png\n"
     ]
    },
    {
     "name": "stdout",
     "output_type": "stream",
     "text": [
      "plt0000102\n",
      "img00102.png\n"
     ]
    },
    {
     "name": "stderr",
     "output_type": "stream",
     "text": [
      "yt : [INFO     ] 2020-07-01 12:39:02,085 Parameters: current_time              = 20.1171875\n",
      "yt : [INFO     ] 2020-07-01 12:39:02,085 Parameters: domain_dimensions         = [256 256   1]\n",
      "yt : [INFO     ] 2020-07-01 12:39:02,086 Parameters: domain_left_edge          = [-50. -50.   0.]\n",
      "yt : [INFO     ] 2020-07-01 12:39:02,086 Parameters: domain_right_edge         = [ 50.  50.   1.]\n",
      "yt : [INFO     ] 2020-07-01 12:39:02,194 xlim = -50.000000 50.000000\n",
      "yt : [INFO     ] 2020-07-01 12:39:02,194 ylim = -50.000000 50.000000\n",
      "yt : [INFO     ] 2020-07-01 12:39:02,195 xlim = -50.000000 50.000000\n",
      "yt : [INFO     ] 2020-07-01 12:39:02,196 ylim = -50.000000 50.000000\n",
      "yt : [INFO     ] 2020-07-01 12:39:02,197 Making a fixed resolution buffer of (('boxlib', 'Psi')) 800 by 800\n",
      "yt : [WARNING  ] 2020-07-01 12:39:02,231 Plot image for field ('boxlib', 'Psi') has both positive and negative values. Min = -0.039782, Max = 0.045645.\n",
      "yt : [WARNING  ] 2020-07-01 12:39:02,232 Switching to symlog colorbar scaling unless linear scaling is specified later\n",
      "yt : [INFO     ] 2020-07-01 12:39:02,322 Making a fixed resolution buffer of (('boxlib', 'Psi')) 800 by 800\n",
      "yt : [WARNING  ] 2020-07-01 12:39:02,409 Supplied id_loc but draw_ids is False. Not drawing grid ids\n",
      "yt : [WARNING  ] 2020-07-01 12:39:02,411 Supplied id_loc but draw_ids is False. Not drawing grid ids\n",
      "yt : [WARNING  ] 2020-07-01 12:39:02,414 Supplied id_loc but draw_ids is False. Not drawing grid ids\n",
      "yt : [WARNING  ] 2020-07-01 12:39:02,416 Supplied id_loc but draw_ids is False. Not drawing grid ids\n",
      "yt : [WARNING  ] 2020-07-01 12:39:02,418 Supplied id_loc but draw_ids is False. Not drawing grid ids\n",
      "yt : [WARNING  ] 2020-07-01 12:39:02,420 Supplied id_loc but draw_ids is False. Not drawing grid ids\n",
      "yt : [WARNING  ] 2020-07-01 12:39:02,423 Supplied id_loc but draw_ids is False. Not drawing grid ids\n",
      "yt : [WARNING  ] 2020-07-01 12:39:02,425 Supplied id_loc but draw_ids is False. Not drawing grid ids\n",
      "yt : [WARNING  ] 2020-07-01 12:39:02,427 Supplied id_loc but draw_ids is False. Not drawing grid ids\n",
      "yt : [INFO     ] 2020-07-01 12:39:02,427 Saving plot img00103.png\n"
     ]
    },
    {
     "name": "stdout",
     "output_type": "stream",
     "text": [
      "plt0000103\n",
      "img00103.png\n"
     ]
    },
    {
     "name": "stderr",
     "output_type": "stream",
     "text": [
      "yt : [INFO     ] 2020-07-01 12:39:02,659 Parameters: current_time              = 20.3125\n",
      "yt : [INFO     ] 2020-07-01 12:39:02,660 Parameters: domain_dimensions         = [256 256   1]\n",
      "yt : [INFO     ] 2020-07-01 12:39:02,660 Parameters: domain_left_edge          = [-50. -50.   0.]\n",
      "yt : [INFO     ] 2020-07-01 12:39:02,661 Parameters: domain_right_edge         = [ 50.  50.   1.]\n",
      "yt : [INFO     ] 2020-07-01 12:39:02,771 xlim = -50.000000 50.000000\n",
      "yt : [INFO     ] 2020-07-01 12:39:02,772 ylim = -50.000000 50.000000\n",
      "yt : [INFO     ] 2020-07-01 12:39:02,773 xlim = -50.000000 50.000000\n",
      "yt : [INFO     ] 2020-07-01 12:39:02,773 ylim = -50.000000 50.000000\n",
      "yt : [INFO     ] 2020-07-01 12:39:02,774 Making a fixed resolution buffer of (('boxlib', 'Psi')) 800 by 800\n",
      "yt : [WARNING  ] 2020-07-01 12:39:02,809 Plot image for field ('boxlib', 'Psi') has both positive and negative values. Min = -0.039246, Max = 0.045552.\n",
      "yt : [WARNING  ] 2020-07-01 12:39:02,809 Switching to symlog colorbar scaling unless linear scaling is specified later\n",
      "yt : [INFO     ] 2020-07-01 12:39:03,012 Making a fixed resolution buffer of (('boxlib', 'Psi')) 800 by 800\n",
      "yt : [WARNING  ] 2020-07-01 12:39:03,100 Supplied id_loc but draw_ids is False. Not drawing grid ids\n",
      "yt : [WARNING  ] 2020-07-01 12:39:03,104 Supplied id_loc but draw_ids is False. Not drawing grid ids\n",
      "yt : [WARNING  ] 2020-07-01 12:39:03,107 Supplied id_loc but draw_ids is False. Not drawing grid ids\n",
      "yt : [WARNING  ] 2020-07-01 12:39:03,110 Supplied id_loc but draw_ids is False. Not drawing grid ids\n",
      "yt : [WARNING  ] 2020-07-01 12:39:03,112 Supplied id_loc but draw_ids is False. Not drawing grid ids\n",
      "yt : [WARNING  ] 2020-07-01 12:39:03,115 Supplied id_loc but draw_ids is False. Not drawing grid ids\n",
      "yt : [WARNING  ] 2020-07-01 12:39:03,117 Supplied id_loc but draw_ids is False. Not drawing grid ids\n",
      "yt : [WARNING  ] 2020-07-01 12:39:03,120 Supplied id_loc but draw_ids is False. Not drawing grid ids\n",
      "yt : [WARNING  ] 2020-07-01 12:39:03,122 Supplied id_loc but draw_ids is False. Not drawing grid ids\n",
      "yt : [INFO     ] 2020-07-01 12:39:03,123 Saving plot img00104.png\n"
     ]
    },
    {
     "name": "stdout",
     "output_type": "stream",
     "text": [
      "plt0000104\n",
      "img00104.png\n"
     ]
    },
    {
     "name": "stderr",
     "output_type": "stream",
     "text": [
      "yt : [INFO     ] 2020-07-01 12:39:03,357 Parameters: current_time              = 20.5078125\n",
      "yt : [INFO     ] 2020-07-01 12:39:03,357 Parameters: domain_dimensions         = [256 256   1]\n",
      "yt : [INFO     ] 2020-07-01 12:39:03,358 Parameters: domain_left_edge          = [-50. -50.   0.]\n",
      "yt : [INFO     ] 2020-07-01 12:39:03,359 Parameters: domain_right_edge         = [ 50.  50.   1.]\n",
      "yt : [INFO     ] 2020-07-01 12:39:03,471 xlim = -50.000000 50.000000\n",
      "yt : [INFO     ] 2020-07-01 12:39:03,471 ylim = -50.000000 50.000000\n",
      "yt : [INFO     ] 2020-07-01 12:39:03,472 xlim = -50.000000 50.000000\n",
      "yt : [INFO     ] 2020-07-01 12:39:03,473 ylim = -50.000000 50.000000\n",
      "yt : [INFO     ] 2020-07-01 12:39:03,474 Making a fixed resolution buffer of (('boxlib', 'Psi')) 800 by 800\n",
      "yt : [WARNING  ] 2020-07-01 12:39:03,509 Plot image for field ('boxlib', 'Psi') has both positive and negative values. Min = -0.039263, Max = 0.045302.\n",
      "yt : [WARNING  ] 2020-07-01 12:39:03,510 Switching to symlog colorbar scaling unless linear scaling is specified later\n",
      "yt : [INFO     ] 2020-07-01 12:39:03,599 Making a fixed resolution buffer of (('boxlib', 'Psi')) 800 by 800\n",
      "yt : [WARNING  ] 2020-07-01 12:39:03,687 Supplied id_loc but draw_ids is False. Not drawing grid ids\n",
      "yt : [WARNING  ] 2020-07-01 12:39:03,690 Supplied id_loc but draw_ids is False. Not drawing grid ids\n",
      "yt : [WARNING  ] 2020-07-01 12:39:03,693 Supplied id_loc but draw_ids is False. Not drawing grid ids\n",
      "yt : [WARNING  ] 2020-07-01 12:39:03,695 Supplied id_loc but draw_ids is False. Not drawing grid ids\n",
      "yt : [WARNING  ] 2020-07-01 12:39:03,698 Supplied id_loc but draw_ids is False. Not drawing grid ids\n",
      "yt : [WARNING  ] 2020-07-01 12:39:03,700 Supplied id_loc but draw_ids is False. Not drawing grid ids\n",
      "yt : [WARNING  ] 2020-07-01 12:39:03,703 Supplied id_loc but draw_ids is False. Not drawing grid ids\n",
      "yt : [WARNING  ] 2020-07-01 12:39:03,706 Supplied id_loc but draw_ids is False. Not drawing grid ids\n",
      "yt : [WARNING  ] 2020-07-01 12:39:03,708 Supplied id_loc but draw_ids is False. Not drawing grid ids\n",
      "yt : [INFO     ] 2020-07-01 12:39:03,709 Saving plot img00105.png\n"
     ]
    },
    {
     "name": "stdout",
     "output_type": "stream",
     "text": [
      "plt0000105\n",
      "img00105.png\n"
     ]
    },
    {
     "name": "stderr",
     "output_type": "stream",
     "text": [
      "yt : [INFO     ] 2020-07-01 12:39:03,943 Parameters: current_time              = 20.703125\n",
      "yt : [INFO     ] 2020-07-01 12:39:03,943 Parameters: domain_dimensions         = [256 256   1]\n",
      "yt : [INFO     ] 2020-07-01 12:39:03,944 Parameters: domain_left_edge          = [-50. -50.   0.]\n",
      "yt : [INFO     ] 2020-07-01 12:39:03,945 Parameters: domain_right_edge         = [ 50.  50.   1.]\n",
      "yt : [INFO     ] 2020-07-01 12:39:04,059 xlim = -50.000000 50.000000\n",
      "yt : [INFO     ] 2020-07-01 12:39:04,060 ylim = -50.000000 50.000000\n",
      "yt : [INFO     ] 2020-07-01 12:39:04,061 xlim = -50.000000 50.000000\n",
      "yt : [INFO     ] 2020-07-01 12:39:04,061 ylim = -50.000000 50.000000\n",
      "yt : [INFO     ] 2020-07-01 12:39:04,062 Making a fixed resolution buffer of (('boxlib', 'Psi')) 800 by 800\n",
      "yt : [WARNING  ] 2020-07-01 12:39:04,099 Plot image for field ('boxlib', 'Psi') has both positive and negative values. Min = -0.039198, Max = 0.044920.\n",
      "yt : [WARNING  ] 2020-07-01 12:39:04,099 Switching to symlog colorbar scaling unless linear scaling is specified later\n",
      "yt : [INFO     ] 2020-07-01 12:39:04,190 Making a fixed resolution buffer of (('boxlib', 'Psi')) 800 by 800\n"
     ]
    },
    {
     "name": "stdout",
     "output_type": "stream",
     "text": [
      "plt0000106\n",
      "img00106.png\n"
     ]
    },
    {
     "name": "stderr",
     "output_type": "stream",
     "text": [
      "yt : [WARNING  ] 2020-07-01 12:39:04,399 Supplied id_loc but draw_ids is False. Not drawing grid ids\n",
      "yt : [WARNING  ] 2020-07-01 12:39:04,402 Supplied id_loc but draw_ids is False. Not drawing grid ids\n",
      "yt : [WARNING  ] 2020-07-01 12:39:04,405 Supplied id_loc but draw_ids is False. Not drawing grid ids\n",
      "yt : [WARNING  ] 2020-07-01 12:39:04,408 Supplied id_loc but draw_ids is False. Not drawing grid ids\n",
      "yt : [WARNING  ] 2020-07-01 12:39:04,411 Supplied id_loc but draw_ids is False. Not drawing grid ids\n",
      "yt : [WARNING  ] 2020-07-01 12:39:04,414 Supplied id_loc but draw_ids is False. Not drawing grid ids\n",
      "yt : [WARNING  ] 2020-07-01 12:39:04,417 Supplied id_loc but draw_ids is False. Not drawing grid ids\n",
      "yt : [WARNING  ] 2020-07-01 12:39:04,421 Supplied id_loc but draw_ids is False. Not drawing grid ids\n",
      "yt : [WARNING  ] 2020-07-01 12:39:04,423 Supplied id_loc but draw_ids is False. Not drawing grid ids\n",
      "yt : [INFO     ] 2020-07-01 12:39:04,424 Saving plot img00106.png\n",
      "yt : [INFO     ] 2020-07-01 12:39:04,661 Parameters: current_time              = 20.8984375\n",
      "yt : [INFO     ] 2020-07-01 12:39:04,662 Parameters: domain_dimensions         = [256 256   1]\n",
      "yt : [INFO     ] 2020-07-01 12:39:04,662 Parameters: domain_left_edge          = [-50. -50.   0.]\n",
      "yt : [INFO     ] 2020-07-01 12:39:04,663 Parameters: domain_right_edge         = [ 50.  50.   1.]\n",
      "yt : [INFO     ] 2020-07-01 12:39:04,772 xlim = -50.000000 50.000000\n",
      "yt : [INFO     ] 2020-07-01 12:39:04,772 ylim = -50.000000 50.000000\n",
      "yt : [INFO     ] 2020-07-01 12:39:04,774 xlim = -50.000000 50.000000\n",
      "yt : [INFO     ] 2020-07-01 12:39:04,775 ylim = -50.000000 50.000000\n",
      "yt : [INFO     ] 2020-07-01 12:39:04,776 Making a fixed resolution buffer of (('boxlib', 'Psi')) 800 by 800\n",
      "yt : [WARNING  ] 2020-07-01 12:39:04,811 Plot image for field ('boxlib', 'Psi') has both positive and negative values. Min = -0.039086, Max = 0.044589.\n",
      "yt : [WARNING  ] 2020-07-01 12:39:04,811 Switching to symlog colorbar scaling unless linear scaling is specified later\n",
      "yt : [INFO     ] 2020-07-01 12:39:04,903 Making a fixed resolution buffer of (('boxlib', 'Psi')) 800 by 800\n",
      "yt : [WARNING  ] 2020-07-01 12:39:04,991 Supplied id_loc but draw_ids is False. Not drawing grid ids\n",
      "yt : [WARNING  ] 2020-07-01 12:39:04,993 Supplied id_loc but draw_ids is False. Not drawing grid ids\n",
      "yt : [WARNING  ] 2020-07-01 12:39:04,995 Supplied id_loc but draw_ids is False. Not drawing grid ids\n",
      "yt : [WARNING  ] 2020-07-01 12:39:04,998 Supplied id_loc but draw_ids is False. Not drawing grid ids\n",
      "yt : [WARNING  ] 2020-07-01 12:39:05,000 Supplied id_loc but draw_ids is False. Not drawing grid ids\n",
      "yt : [WARNING  ] 2020-07-01 12:39:05,003 Supplied id_loc but draw_ids is False. Not drawing grid ids\n",
      "yt : [WARNING  ] 2020-07-01 12:39:05,005 Supplied id_loc but draw_ids is False. Not drawing grid ids\n",
      "yt : [WARNING  ] 2020-07-01 12:39:05,007 Supplied id_loc but draw_ids is False. Not drawing grid ids\n",
      "yt : [WARNING  ] 2020-07-01 12:39:05,010 Supplied id_loc but draw_ids is False. Not drawing grid ids\n",
      "yt : [INFO     ] 2020-07-01 12:39:05,010 Saving plot img00107.png\n"
     ]
    },
    {
     "name": "stdout",
     "output_type": "stream",
     "text": [
      "plt0000107\n",
      "img00107.png\n"
     ]
    },
    {
     "name": "stderr",
     "output_type": "stream",
     "text": [
      "yt : [INFO     ] 2020-07-01 12:39:05,249 Parameters: current_time              = 21.09375\n",
      "yt : [INFO     ] 2020-07-01 12:39:05,249 Parameters: domain_dimensions         = [256 256   1]\n",
      "yt : [INFO     ] 2020-07-01 12:39:05,250 Parameters: domain_left_edge          = [-50. -50.   0.]\n",
      "yt : [INFO     ] 2020-07-01 12:39:05,251 Parameters: domain_right_edge         = [ 50.  50.   1.]\n",
      "yt : [INFO     ] 2020-07-01 12:39:05,362 xlim = -50.000000 50.000000\n",
      "yt : [INFO     ] 2020-07-01 12:39:05,363 ylim = -50.000000 50.000000\n",
      "yt : [INFO     ] 2020-07-01 12:39:05,364 xlim = -50.000000 50.000000\n",
      "yt : [INFO     ] 2020-07-01 12:39:05,364 ylim = -50.000000 50.000000\n",
      "yt : [INFO     ] 2020-07-01 12:39:05,365 Making a fixed resolution buffer of (('boxlib', 'Psi')) 800 by 800\n",
      "yt : [WARNING  ] 2020-07-01 12:39:05,401 Plot image for field ('boxlib', 'Psi') has both positive and negative values. Min = -0.039007, Max = 0.044119.\n",
      "yt : [WARNING  ] 2020-07-01 12:39:05,401 Switching to symlog colorbar scaling unless linear scaling is specified later\n",
      "yt : [INFO     ] 2020-07-01 12:39:05,491 Making a fixed resolution buffer of (('boxlib', 'Psi')) 800 by 800\n",
      "yt : [WARNING  ] 2020-07-01 12:39:05,579 Supplied id_loc but draw_ids is False. Not drawing grid ids\n",
      "yt : [WARNING  ] 2020-07-01 12:39:05,582 Supplied id_loc but draw_ids is False. Not drawing grid ids\n",
      "yt : [WARNING  ] 2020-07-01 12:39:05,584 Supplied id_loc but draw_ids is False. Not drawing grid ids\n",
      "yt : [WARNING  ] 2020-07-01 12:39:05,587 Supplied id_loc but draw_ids is False. Not drawing grid ids\n",
      "yt : [WARNING  ] 2020-07-01 12:39:05,590 Supplied id_loc but draw_ids is False. Not drawing grid ids\n",
      "yt : [WARNING  ] 2020-07-01 12:39:05,592 Supplied id_loc but draw_ids is False. Not drawing grid ids\n",
      "yt : [WARNING  ] 2020-07-01 12:39:05,595 Supplied id_loc but draw_ids is False. Not drawing grid ids\n",
      "yt : [WARNING  ] 2020-07-01 12:39:05,598 Supplied id_loc but draw_ids is False. Not drawing grid ids\n",
      "yt : [WARNING  ] 2020-07-01 12:39:05,600 Supplied id_loc but draw_ids is False. Not drawing grid ids\n",
      "yt : [INFO     ] 2020-07-01 12:39:05,601 Saving plot img00108.png\n"
     ]
    },
    {
     "name": "stdout",
     "output_type": "stream",
     "text": [
      "plt0000108\n",
      "img00108.png\n"
     ]
    },
    {
     "name": "stderr",
     "output_type": "stream",
     "text": [
      "yt : [INFO     ] 2020-07-01 12:39:05,838 Parameters: current_time              = 21.2890625\n",
      "yt : [INFO     ] 2020-07-01 12:39:05,839 Parameters: domain_dimensions         = [256 256   1]\n",
      "yt : [INFO     ] 2020-07-01 12:39:05,839 Parameters: domain_left_edge          = [-50. -50.   0.]\n",
      "yt : [INFO     ] 2020-07-01 12:39:05,840 Parameters: domain_right_edge         = [ 50.  50.   1.]\n",
      "yt : [INFO     ] 2020-07-01 12:39:06,069 xlim = -50.000000 50.000000\n",
      "yt : [INFO     ] 2020-07-01 12:39:06,069 ylim = -50.000000 50.000000\n",
      "yt : [INFO     ] 2020-07-01 12:39:06,070 xlim = -50.000000 50.000000\n",
      "yt : [INFO     ] 2020-07-01 12:39:06,071 ylim = -50.000000 50.000000\n",
      "yt : [INFO     ] 2020-07-01 12:39:06,071 Making a fixed resolution buffer of (('boxlib', 'Psi')) 800 by 800\n",
      "yt : [WARNING  ] 2020-07-01 12:39:06,108 Plot image for field ('boxlib', 'Psi') has both positive and negative values. Min = -0.038943, Max = 0.043725.\n",
      "yt : [WARNING  ] 2020-07-01 12:39:06,109 Switching to symlog colorbar scaling unless linear scaling is specified later\n",
      "yt : [INFO     ] 2020-07-01 12:39:06,198 Making a fixed resolution buffer of (('boxlib', 'Psi')) 800 by 800\n",
      "yt : [WARNING  ] 2020-07-01 12:39:06,287 Supplied id_loc but draw_ids is False. Not drawing grid ids\n",
      "yt : [WARNING  ] 2020-07-01 12:39:06,290 Supplied id_loc but draw_ids is False. Not drawing grid ids\n",
      "yt : [WARNING  ] 2020-07-01 12:39:06,292 Supplied id_loc but draw_ids is False. Not drawing grid ids\n",
      "yt : [WARNING  ] 2020-07-01 12:39:06,295 Supplied id_loc but draw_ids is False. Not drawing grid ids\n",
      "yt : [WARNING  ] 2020-07-01 12:39:06,298 Supplied id_loc but draw_ids is False. Not drawing grid ids\n",
      "yt : [WARNING  ] 2020-07-01 12:39:06,301 Supplied id_loc but draw_ids is False. Not drawing grid ids\n",
      "yt : [WARNING  ] 2020-07-01 12:39:06,303 Supplied id_loc but draw_ids is False. Not drawing grid ids\n",
      "yt : [WARNING  ] 2020-07-01 12:39:06,306 Supplied id_loc but draw_ids is False. Not drawing grid ids\n",
      "yt : [WARNING  ] 2020-07-01 12:39:06,309 Supplied id_loc but draw_ids is False. Not drawing grid ids\n",
      "yt : [INFO     ] 2020-07-01 12:39:06,309 Saving plot img00109.png\n"
     ]
    },
    {
     "name": "stdout",
     "output_type": "stream",
     "text": [
      "plt0000109\n",
      "img00109.png\n"
     ]
    },
    {
     "name": "stderr",
     "output_type": "stream",
     "text": [
      "yt : [INFO     ] 2020-07-01 12:39:06,549 Parameters: current_time              = 21.484375\n",
      "yt : [INFO     ] 2020-07-01 12:39:06,550 Parameters: domain_dimensions         = [256 256   1]\n",
      "yt : [INFO     ] 2020-07-01 12:39:06,551 Parameters: domain_left_edge          = [-50. -50.   0.]\n",
      "yt : [INFO     ] 2020-07-01 12:39:06,551 Parameters: domain_right_edge         = [ 50.  50.   1.]\n",
      "yt : [INFO     ] 2020-07-01 12:39:06,664 xlim = -50.000000 50.000000\n",
      "yt : [INFO     ] 2020-07-01 12:39:06,665 ylim = -50.000000 50.000000\n",
      "yt : [INFO     ] 2020-07-01 12:39:06,666 xlim = -50.000000 50.000000\n",
      "yt : [INFO     ] 2020-07-01 12:39:06,666 ylim = -50.000000 50.000000\n",
      "yt : [INFO     ] 2020-07-01 12:39:06,667 Making a fixed resolution buffer of (('boxlib', 'Psi')) 800 by 800\n",
      "yt : [WARNING  ] 2020-07-01 12:39:06,703 Plot image for field ('boxlib', 'Psi') has both positive and negative values. Min = -0.038867, Max = 0.043425.\n",
      "yt : [WARNING  ] 2020-07-01 12:39:06,704 Switching to symlog colorbar scaling unless linear scaling is specified later\n",
      "yt : [INFO     ] 2020-07-01 12:39:06,793 Making a fixed resolution buffer of (('boxlib', 'Psi')) 800 by 800\n",
      "yt : [WARNING  ] 2020-07-01 12:39:06,881 Supplied id_loc but draw_ids is False. Not drawing grid ids\n",
      "yt : [WARNING  ] 2020-07-01 12:39:06,884 Supplied id_loc but draw_ids is False. Not drawing grid ids\n",
      "yt : [WARNING  ] 2020-07-01 12:39:06,887 Supplied id_loc but draw_ids is False. Not drawing grid ids\n",
      "yt : [WARNING  ] 2020-07-01 12:39:06,889 Supplied id_loc but draw_ids is False. Not drawing grid ids\n",
      "yt : [WARNING  ] 2020-07-01 12:39:06,892 Supplied id_loc but draw_ids is False. Not drawing grid ids\n",
      "yt : [WARNING  ] 2020-07-01 12:39:06,894 Supplied id_loc but draw_ids is False. Not drawing grid ids\n",
      "yt : [WARNING  ] 2020-07-01 12:39:06,897 Supplied id_loc but draw_ids is False. Not drawing grid ids\n",
      "yt : [WARNING  ] 2020-07-01 12:39:06,900 Supplied id_loc but draw_ids is False. Not drawing grid ids\n",
      "yt : [WARNING  ] 2020-07-01 12:39:06,902 Supplied id_loc but draw_ids is False. Not drawing grid ids\n",
      "yt : [INFO     ] 2020-07-01 12:39:06,903 Saving plot img00110.png\n"
     ]
    },
    {
     "name": "stdout",
     "output_type": "stream",
     "text": [
      "plt0000110\n",
      "img00110.png\n"
     ]
    },
    {
     "name": "stderr",
     "output_type": "stream",
     "text": [
      "yt : [INFO     ] 2020-07-01 12:39:07,144 Parameters: current_time              = 21.6796875\n",
      "yt : [INFO     ] 2020-07-01 12:39:07,144 Parameters: domain_dimensions         = [256 256   1]\n",
      "yt : [INFO     ] 2020-07-01 12:39:07,145 Parameters: domain_left_edge          = [-50. -50.   0.]\n",
      "yt : [INFO     ] 2020-07-01 12:39:07,145 Parameters: domain_right_edge         = [ 50.  50.   1.]\n",
      "yt : [INFO     ] 2020-07-01 12:39:07,254 xlim = -50.000000 50.000000\n",
      "yt : [INFO     ] 2020-07-01 12:39:07,255 ylim = -50.000000 50.000000\n",
      "yt : [INFO     ] 2020-07-01 12:39:07,256 xlim = -50.000000 50.000000\n",
      "yt : [INFO     ] 2020-07-01 12:39:07,256 ylim = -50.000000 50.000000\n",
      "yt : [INFO     ] 2020-07-01 12:39:07,257 Making a fixed resolution buffer of (('boxlib', 'Psi')) 800 by 800\n",
      "yt : [WARNING  ] 2020-07-01 12:39:07,292 Plot image for field ('boxlib', 'Psi') has both positive and negative values. Min = -0.038745, Max = 0.043043.\n",
      "yt : [WARNING  ] 2020-07-01 12:39:07,293 Switching to symlog colorbar scaling unless linear scaling is specified later\n",
      "yt : [INFO     ] 2020-07-01 12:39:07,497 Making a fixed resolution buffer of (('boxlib', 'Psi')) 800 by 800\n",
      "yt : [WARNING  ] 2020-07-01 12:39:07,588 Supplied id_loc but draw_ids is False. Not drawing grid ids\n",
      "yt : [WARNING  ] 2020-07-01 12:39:07,590 Supplied id_loc but draw_ids is False. Not drawing grid ids\n",
      "yt : [WARNING  ] 2020-07-01 12:39:07,593 Supplied id_loc but draw_ids is False. Not drawing grid ids\n",
      "yt : [WARNING  ] 2020-07-01 12:39:07,595 Supplied id_loc but draw_ids is False. Not drawing grid ids\n",
      "yt : [WARNING  ] 2020-07-01 12:39:07,598 Supplied id_loc but draw_ids is False. Not drawing grid ids\n",
      "yt : [WARNING  ] 2020-07-01 12:39:07,600 Supplied id_loc but draw_ids is False. Not drawing grid ids\n",
      "yt : [WARNING  ] 2020-07-01 12:39:07,603 Supplied id_loc but draw_ids is False. Not drawing grid ids\n",
      "yt : [WARNING  ] 2020-07-01 12:39:07,605 Supplied id_loc but draw_ids is False. Not drawing grid ids\n",
      "yt : [WARNING  ] 2020-07-01 12:39:07,607 Supplied id_loc but draw_ids is False. Not drawing grid ids\n",
      "yt : [INFO     ] 2020-07-01 12:39:07,608 Saving plot img00111.png\n"
     ]
    },
    {
     "name": "stdout",
     "output_type": "stream",
     "text": [
      "plt0000111\n",
      "img00111.png\n"
     ]
    },
    {
     "name": "stderr",
     "output_type": "stream",
     "text": [
      "yt : [INFO     ] 2020-07-01 12:39:07,849 Parameters: current_time              = 21.875\n",
      "yt : [INFO     ] 2020-07-01 12:39:07,850 Parameters: domain_dimensions         = [256 256   1]\n",
      "yt : [INFO     ] 2020-07-01 12:39:07,850 Parameters: domain_left_edge          = [-50. -50.   0.]\n",
      "yt : [INFO     ] 2020-07-01 12:39:07,851 Parameters: domain_right_edge         = [ 50.  50.   1.]\n",
      "yt : [INFO     ] 2020-07-01 12:39:07,962 xlim = -50.000000 50.000000\n",
      "yt : [INFO     ] 2020-07-01 12:39:07,963 ylim = -50.000000 50.000000\n",
      "yt : [INFO     ] 2020-07-01 12:39:07,964 xlim = -50.000000 50.000000\n",
      "yt : [INFO     ] 2020-07-01 12:39:07,964 ylim = -50.000000 50.000000\n",
      "yt : [INFO     ] 2020-07-01 12:39:07,965 Making a fixed resolution buffer of (('boxlib', 'Psi')) 800 by 800\n",
      "yt : [WARNING  ] 2020-07-01 12:39:08,000 Plot image for field ('boxlib', 'Psi') has both positive and negative values. Min = -0.038735, Max = 0.042896.\n",
      "yt : [WARNING  ] 2020-07-01 12:39:08,001 Switching to symlog colorbar scaling unless linear scaling is specified later\n",
      "yt : [INFO     ] 2020-07-01 12:39:08,091 Making a fixed resolution buffer of (('boxlib', 'Psi')) 800 by 800\n",
      "yt : [WARNING  ] 2020-07-01 12:39:08,178 Supplied id_loc but draw_ids is False. Not drawing grid ids\n",
      "yt : [WARNING  ] 2020-07-01 12:39:08,182 Supplied id_loc but draw_ids is False. Not drawing grid ids\n",
      "yt : [WARNING  ] 2020-07-01 12:39:08,185 Supplied id_loc but draw_ids is False. Not drawing grid ids\n",
      "yt : [WARNING  ] 2020-07-01 12:39:08,187 Supplied id_loc but draw_ids is False. Not drawing grid ids\n",
      "yt : [WARNING  ] 2020-07-01 12:39:08,189 Supplied id_loc but draw_ids is False. Not drawing grid ids\n",
      "yt : [WARNING  ] 2020-07-01 12:39:08,192 Supplied id_loc but draw_ids is False. Not drawing grid ids\n",
      "yt : [WARNING  ] 2020-07-01 12:39:08,194 Supplied id_loc but draw_ids is False. Not drawing grid ids\n",
      "yt : [WARNING  ] 2020-07-01 12:39:08,196 Supplied id_loc but draw_ids is False. Not drawing grid ids\n",
      "yt : [WARNING  ] 2020-07-01 12:39:08,199 Supplied id_loc but draw_ids is False. Not drawing grid ids\n",
      "yt : [INFO     ] 2020-07-01 12:39:08,199 Saving plot img00112.png\n"
     ]
    },
    {
     "name": "stdout",
     "output_type": "stream",
     "text": [
      "plt0000112\n",
      "img00112.png\n"
     ]
    },
    {
     "name": "stderr",
     "output_type": "stream",
     "text": [
      "yt : [INFO     ] 2020-07-01 12:39:08,442 Parameters: current_time              = 22.0703125\n",
      "yt : [INFO     ] 2020-07-01 12:39:08,443 Parameters: domain_dimensions         = [256 256   1]\n",
      "yt : [INFO     ] 2020-07-01 12:39:08,443 Parameters: domain_left_edge          = [-50. -50.   0.]\n",
      "yt : [INFO     ] 2020-07-01 12:39:08,444 Parameters: domain_right_edge         = [ 50.  50.   1.]\n",
      "yt : [INFO     ] 2020-07-01 12:39:08,557 xlim = -50.000000 50.000000\n",
      "yt : [INFO     ] 2020-07-01 12:39:08,558 ylim = -50.000000 50.000000\n",
      "yt : [INFO     ] 2020-07-01 12:39:08,559 xlim = -50.000000 50.000000\n",
      "yt : [INFO     ] 2020-07-01 12:39:08,559 ylim = -50.000000 50.000000\n",
      "yt : [INFO     ] 2020-07-01 12:39:08,560 Making a fixed resolution buffer of (('boxlib', 'Psi')) 800 by 800\n",
      "yt : [WARNING  ] 2020-07-01 12:39:08,597 Plot image for field ('boxlib', 'Psi') has both positive and negative values. Min = -0.038644, Max = 0.042547.\n",
      "yt : [WARNING  ] 2020-07-01 12:39:08,597 Switching to symlog colorbar scaling unless linear scaling is specified later\n",
      "yt : [INFO     ] 2020-07-01 12:39:08,688 Making a fixed resolution buffer of (('boxlib', 'Psi')) 800 by 800\n",
      "yt : [WARNING  ] 2020-07-01 12:39:08,778 Supplied id_loc but draw_ids is False. Not drawing grid ids\n",
      "yt : [WARNING  ] 2020-07-01 12:39:08,781 Supplied id_loc but draw_ids is False. Not drawing grid ids\n",
      "yt : [WARNING  ] 2020-07-01 12:39:08,784 Supplied id_loc but draw_ids is False. Not drawing grid ids\n",
      "yt : [WARNING  ] 2020-07-01 12:39:08,787 Supplied id_loc but draw_ids is False. Not drawing grid ids\n",
      "yt : [WARNING  ] 2020-07-01 12:39:08,789 Supplied id_loc but draw_ids is False. Not drawing grid ids\n",
      "yt : [WARNING  ] 2020-07-01 12:39:08,792 Supplied id_loc but draw_ids is False. Not drawing grid ids\n",
      "yt : [WARNING  ] 2020-07-01 12:39:08,794 Supplied id_loc but draw_ids is False. Not drawing grid ids\n",
      "yt : [WARNING  ] 2020-07-01 12:39:08,797 Supplied id_loc but draw_ids is False. Not drawing grid ids\n",
      "yt : [WARNING  ] 2020-07-01 12:39:08,800 Supplied id_loc but draw_ids is False. Not drawing grid ids\n",
      "yt : [INFO     ] 2020-07-01 12:39:08,800 Saving plot img00113.png\n"
     ]
    },
    {
     "name": "stdout",
     "output_type": "stream",
     "text": [
      "plt0000113\n",
      "img00113.png\n"
     ]
    },
    {
     "name": "stderr",
     "output_type": "stream",
     "text": [
      "yt : [INFO     ] 2020-07-01 12:39:09,049 Parameters: current_time              = 22.265625\n",
      "yt : [INFO     ] 2020-07-01 12:39:09,050 Parameters: domain_dimensions         = [256 256   1]\n",
      "yt : [INFO     ] 2020-07-01 12:39:09,051 Parameters: domain_left_edge          = [-50. -50.   0.]\n",
      "yt : [INFO     ] 2020-07-01 12:39:09,051 Parameters: domain_right_edge         = [ 50.  50.   1.]\n",
      "yt : [INFO     ] 2020-07-01 12:39:09,286 xlim = -50.000000 50.000000\n",
      "yt : [INFO     ] 2020-07-01 12:39:09,287 ylim = -50.000000 50.000000\n",
      "yt : [INFO     ] 2020-07-01 12:39:09,288 xlim = -50.000000 50.000000\n",
      "yt : [INFO     ] 2020-07-01 12:39:09,289 ylim = -50.000000 50.000000\n",
      "yt : [INFO     ] 2020-07-01 12:39:09,290 Making a fixed resolution buffer of (('boxlib', 'Psi')) 800 by 800\n",
      "yt : [WARNING  ] 2020-07-01 12:39:09,327 Plot image for field ('boxlib', 'Psi') has both positive and negative values. Min = -0.038568, Max = 0.042101.\n",
      "yt : [WARNING  ] 2020-07-01 12:39:09,328 Switching to symlog colorbar scaling unless linear scaling is specified later\n",
      "yt : [INFO     ] 2020-07-01 12:39:09,418 Making a fixed resolution buffer of (('boxlib', 'Psi')) 800 by 800\n",
      "yt : [WARNING  ] 2020-07-01 12:39:09,507 Supplied id_loc but draw_ids is False. Not drawing grid ids\n",
      "yt : [WARNING  ] 2020-07-01 12:39:09,509 Supplied id_loc but draw_ids is False. Not drawing grid ids\n",
      "yt : [WARNING  ] 2020-07-01 12:39:09,512 Supplied id_loc but draw_ids is False. Not drawing grid ids\n",
      "yt : [WARNING  ] 2020-07-01 12:39:09,515 Supplied id_loc but draw_ids is False. Not drawing grid ids\n",
      "yt : [WARNING  ] 2020-07-01 12:39:09,517 Supplied id_loc but draw_ids is False. Not drawing grid ids\n",
      "yt : [WARNING  ] 2020-07-01 12:39:09,520 Supplied id_loc but draw_ids is False. Not drawing grid ids\n",
      "yt : [WARNING  ] 2020-07-01 12:39:09,523 Supplied id_loc but draw_ids is False. Not drawing grid ids\n",
      "yt : [WARNING  ] 2020-07-01 12:39:09,525 Supplied id_loc but draw_ids is False. Not drawing grid ids\n",
      "yt : [WARNING  ] 2020-07-01 12:39:09,528 Supplied id_loc but draw_ids is False. Not drawing grid ids\n",
      "yt : [INFO     ] 2020-07-01 12:39:09,528 Saving plot img00114.png\n"
     ]
    },
    {
     "name": "stdout",
     "output_type": "stream",
     "text": [
      "plt0000114\n",
      "img00114.png\n"
     ]
    },
    {
     "name": "stderr",
     "output_type": "stream",
     "text": [
      "yt : [INFO     ] 2020-07-01 12:39:09,775 Parameters: current_time              = 22.4609375\n",
      "yt : [INFO     ] 2020-07-01 12:39:09,776 Parameters: domain_dimensions         = [256 256   1]\n",
      "yt : [INFO     ] 2020-07-01 12:39:09,776 Parameters: domain_left_edge          = [-50. -50.   0.]\n",
      "yt : [INFO     ] 2020-07-01 12:39:09,777 Parameters: domain_right_edge         = [ 50.  50.   1.]\n",
      "yt : [INFO     ] 2020-07-01 12:39:09,888 xlim = -50.000000 50.000000\n",
      "yt : [INFO     ] 2020-07-01 12:39:09,888 ylim = -50.000000 50.000000\n",
      "yt : [INFO     ] 2020-07-01 12:39:09,889 xlim = -50.000000 50.000000\n",
      "yt : [INFO     ] 2020-07-01 12:39:09,890 ylim = -50.000000 50.000000\n",
      "yt : [INFO     ] 2020-07-01 12:39:09,891 Making a fixed resolution buffer of (('boxlib', 'Psi')) 800 by 800\n",
      "yt : [WARNING  ] 2020-07-01 12:39:09,927 Plot image for field ('boxlib', 'Psi') has both positive and negative values. Min = -0.038467, Max = 0.041540.\n",
      "yt : [WARNING  ] 2020-07-01 12:39:09,927 Switching to symlog colorbar scaling unless linear scaling is specified later\n",
      "yt : [INFO     ] 2020-07-01 12:39:10,016 Making a fixed resolution buffer of (('boxlib', 'Psi')) 800 by 800\n",
      "yt : [WARNING  ] 2020-07-01 12:39:10,105 Supplied id_loc but draw_ids is False. Not drawing grid ids\n",
      "yt : [WARNING  ] 2020-07-01 12:39:10,107 Supplied id_loc but draw_ids is False. Not drawing grid ids\n",
      "yt : [WARNING  ] 2020-07-01 12:39:10,109 Supplied id_loc but draw_ids is False. Not drawing grid ids\n",
      "yt : [WARNING  ] 2020-07-01 12:39:10,112 Supplied id_loc but draw_ids is False. Not drawing grid ids\n",
      "yt : [WARNING  ] 2020-07-01 12:39:10,114 Supplied id_loc but draw_ids is False. Not drawing grid ids\n",
      "yt : [WARNING  ] 2020-07-01 12:39:10,117 Supplied id_loc but draw_ids is False. Not drawing grid ids\n",
      "yt : [WARNING  ] 2020-07-01 12:39:10,119 Supplied id_loc but draw_ids is False. Not drawing grid ids\n",
      "yt : [WARNING  ] 2020-07-01 12:39:10,122 Supplied id_loc but draw_ids is False. Not drawing grid ids\n",
      "yt : [WARNING  ] 2020-07-01 12:39:10,124 Supplied id_loc but draw_ids is False. Not drawing grid ids\n",
      "yt : [INFO     ] 2020-07-01 12:39:10,125 Saving plot img00115.png\n"
     ]
    },
    {
     "name": "stdout",
     "output_type": "stream",
     "text": [
      "plt0000115\n",
      "img00115.png\n"
     ]
    },
    {
     "name": "stderr",
     "output_type": "stream",
     "text": [
      "yt : [INFO     ] 2020-07-01 12:39:10,371 Parameters: current_time              = 22.65625\n",
      "yt : [INFO     ] 2020-07-01 12:39:10,371 Parameters: domain_dimensions         = [256 256   1]\n",
      "yt : [INFO     ] 2020-07-01 12:39:10,372 Parameters: domain_left_edge          = [-50. -50.   0.]\n",
      "yt : [INFO     ] 2020-07-01 12:39:10,373 Parameters: domain_right_edge         = [ 50.  50.   1.]\n",
      "yt : [INFO     ] 2020-07-01 12:39:10,602 xlim = -50.000000 50.000000\n",
      "yt : [INFO     ] 2020-07-01 12:39:10,603 ylim = -50.000000 50.000000\n",
      "yt : [INFO     ] 2020-07-01 12:39:10,604 xlim = -50.000000 50.000000\n",
      "yt : [INFO     ] 2020-07-01 12:39:10,605 ylim = -50.000000 50.000000\n",
      "yt : [INFO     ] 2020-07-01 12:39:10,605 Making a fixed resolution buffer of (('boxlib', 'Psi')) 800 by 800\n",
      "yt : [WARNING  ] 2020-07-01 12:39:10,642 Plot image for field ('boxlib', 'Psi') has both positive and negative values. Min = -0.038303, Max = 0.041224.\n",
      "yt : [WARNING  ] 2020-07-01 12:39:10,643 Switching to symlog colorbar scaling unless linear scaling is specified later\n",
      "yt : [INFO     ] 2020-07-01 12:39:10,733 Making a fixed resolution buffer of (('boxlib', 'Psi')) 800 by 800\n",
      "yt : [WARNING  ] 2020-07-01 12:39:10,822 Supplied id_loc but draw_ids is False. Not drawing grid ids\n",
      "yt : [WARNING  ] 2020-07-01 12:39:10,825 Supplied id_loc but draw_ids is False. Not drawing grid ids\n",
      "yt : [WARNING  ] 2020-07-01 12:39:10,827 Supplied id_loc but draw_ids is False. Not drawing grid ids\n",
      "yt : [WARNING  ] 2020-07-01 12:39:10,830 Supplied id_loc but draw_ids is False. Not drawing grid ids\n",
      "yt : [WARNING  ] 2020-07-01 12:39:10,832 Supplied id_loc but draw_ids is False. Not drawing grid ids\n",
      "yt : [WARNING  ] 2020-07-01 12:39:10,835 Supplied id_loc but draw_ids is False. Not drawing grid ids\n",
      "yt : [WARNING  ] 2020-07-01 12:39:10,838 Supplied id_loc but draw_ids is False. Not drawing grid ids\n",
      "yt : [WARNING  ] 2020-07-01 12:39:10,841 Supplied id_loc but draw_ids is False. Not drawing grid ids\n",
      "yt : [WARNING  ] 2020-07-01 12:39:10,843 Supplied id_loc but draw_ids is False. Not drawing grid ids\n",
      "yt : [INFO     ] 2020-07-01 12:39:10,844 Saving plot img00116.png\n"
     ]
    },
    {
     "name": "stdout",
     "output_type": "stream",
     "text": [
      "plt0000116\n",
      "img00116.png\n"
     ]
    },
    {
     "name": "stderr",
     "output_type": "stream",
     "text": [
      "yt : [INFO     ] 2020-07-01 12:39:11,093 Parameters: current_time              = 22.8515625\n",
      "yt : [INFO     ] 2020-07-01 12:39:11,093 Parameters: domain_dimensions         = [256 256   1]\n",
      "yt : [INFO     ] 2020-07-01 12:39:11,094 Parameters: domain_left_edge          = [-50. -50.   0.]\n",
      "yt : [INFO     ] 2020-07-01 12:39:11,095 Parameters: domain_right_edge         = [ 50.  50.   1.]\n",
      "yt : [INFO     ] 2020-07-01 12:39:11,210 xlim = -50.000000 50.000000\n",
      "yt : [INFO     ] 2020-07-01 12:39:11,211 ylim = -50.000000 50.000000\n",
      "yt : [INFO     ] 2020-07-01 12:39:11,212 xlim = -50.000000 50.000000\n",
      "yt : [INFO     ] 2020-07-01 12:39:11,212 ylim = -50.000000 50.000000\n",
      "yt : [INFO     ] 2020-07-01 12:39:11,213 Making a fixed resolution buffer of (('boxlib', 'Psi')) 800 by 800\n",
      "yt : [WARNING  ] 2020-07-01 12:39:11,250 Plot image for field ('boxlib', 'Psi') has both positive and negative values. Min = -0.038174, Max = 0.040811.\n",
      "yt : [WARNING  ] 2020-07-01 12:39:11,250 Switching to symlog colorbar scaling unless linear scaling is specified later\n",
      "yt : [INFO     ] 2020-07-01 12:39:11,340 Making a fixed resolution buffer of (('boxlib', 'Psi')) 800 by 800\n",
      "yt : [WARNING  ] 2020-07-01 12:39:11,429 Supplied id_loc but draw_ids is False. Not drawing grid ids\n",
      "yt : [WARNING  ] 2020-07-01 12:39:11,432 Supplied id_loc but draw_ids is False. Not drawing grid ids\n",
      "yt : [WARNING  ] 2020-07-01 12:39:11,435 Supplied id_loc but draw_ids is False. Not drawing grid ids\n",
      "yt : [WARNING  ] 2020-07-01 12:39:11,438 Supplied id_loc but draw_ids is False. Not drawing grid ids\n",
      "yt : [WARNING  ] 2020-07-01 12:39:11,441 Supplied id_loc but draw_ids is False. Not drawing grid ids\n",
      "yt : [WARNING  ] 2020-07-01 12:39:11,444 Supplied id_loc but draw_ids is False. Not drawing grid ids\n",
      "yt : [WARNING  ] 2020-07-01 12:39:11,446 Supplied id_loc but draw_ids is False. Not drawing grid ids\n",
      "yt : [WARNING  ] 2020-07-01 12:39:11,450 Supplied id_loc but draw_ids is False. Not drawing grid ids\n",
      "yt : [WARNING  ] 2020-07-01 12:39:11,453 Supplied id_loc but draw_ids is False. Not drawing grid ids\n",
      "yt : [INFO     ] 2020-07-01 12:39:11,454 Saving plot img00117.png\n"
     ]
    },
    {
     "name": "stdout",
     "output_type": "stream",
     "text": [
      "plt0000117\n",
      "img00117.png\n"
     ]
    },
    {
     "name": "stderr",
     "output_type": "stream",
     "text": [
      "yt : [INFO     ] 2020-07-01 12:39:11,697 Parameters: current_time              = 23.046875\n",
      "yt : [INFO     ] 2020-07-01 12:39:11,698 Parameters: domain_dimensions         = [256 256   1]\n",
      "yt : [INFO     ] 2020-07-01 12:39:11,698 Parameters: domain_left_edge          = [-50. -50.   0.]\n",
      "yt : [INFO     ] 2020-07-01 12:39:11,699 Parameters: domain_right_edge         = [ 50.  50.   1.]\n",
      "yt : [INFO     ] 2020-07-01 12:39:11,812 xlim = -50.000000 50.000000\n",
      "yt : [INFO     ] 2020-07-01 12:39:11,812 ylim = -50.000000 50.000000\n",
      "yt : [INFO     ] 2020-07-01 12:39:11,813 xlim = -50.000000 50.000000\n",
      "yt : [INFO     ] 2020-07-01 12:39:11,814 ylim = -50.000000 50.000000\n",
      "yt : [INFO     ] 2020-07-01 12:39:11,814 Making a fixed resolution buffer of (('boxlib', 'Psi')) 800 by 800\n",
      "yt : [WARNING  ] 2020-07-01 12:39:11,850 Plot image for field ('boxlib', 'Psi') has both positive and negative values. Min = -0.038040, Max = 0.040411.\n",
      "yt : [WARNING  ] 2020-07-01 12:39:11,851 Switching to symlog colorbar scaling unless linear scaling is specified later\n",
      "yt : [INFO     ] 2020-07-01 12:39:12,051 Making a fixed resolution buffer of (('boxlib', 'Psi')) 800 by 800\n",
      "yt : [WARNING  ] 2020-07-01 12:39:12,144 Supplied id_loc but draw_ids is False. Not drawing grid ids\n",
      "yt : [WARNING  ] 2020-07-01 12:39:12,147 Supplied id_loc but draw_ids is False. Not drawing grid ids\n",
      "yt : [WARNING  ] 2020-07-01 12:39:12,150 Supplied id_loc but draw_ids is False. Not drawing grid ids\n",
      "yt : [WARNING  ] 2020-07-01 12:39:12,153 Supplied id_loc but draw_ids is False. Not drawing grid ids\n",
      "yt : [WARNING  ] 2020-07-01 12:39:12,156 Supplied id_loc but draw_ids is False. Not drawing grid ids\n",
      "yt : [WARNING  ] 2020-07-01 12:39:12,159 Supplied id_loc but draw_ids is False. Not drawing grid ids\n",
      "yt : [WARNING  ] 2020-07-01 12:39:12,161 Supplied id_loc but draw_ids is False. Not drawing grid ids\n",
      "yt : [WARNING  ] 2020-07-01 12:39:12,164 Supplied id_loc but draw_ids is False. Not drawing grid ids\n",
      "yt : [WARNING  ] 2020-07-01 12:39:12,167 Supplied id_loc but draw_ids is False. Not drawing grid ids\n",
      "yt : [INFO     ] 2020-07-01 12:39:12,167 Saving plot img00118.png\n"
     ]
    },
    {
     "name": "stdout",
     "output_type": "stream",
     "text": [
      "plt0000118\n",
      "img00118.png\n"
     ]
    },
    {
     "name": "stderr",
     "output_type": "stream",
     "text": [
      "yt : [INFO     ] 2020-07-01 12:39:12,410 Parameters: current_time              = 23.2421875\n",
      "yt : [INFO     ] 2020-07-01 12:39:12,411 Parameters: domain_dimensions         = [256 256   1]\n",
      "yt : [INFO     ] 2020-07-01 12:39:12,411 Parameters: domain_left_edge          = [-50. -50.   0.]\n",
      "yt : [INFO     ] 2020-07-01 12:39:12,412 Parameters: domain_right_edge         = [ 50.  50.   1.]\n",
      "yt : [INFO     ] 2020-07-01 12:39:12,524 xlim = -50.000000 50.000000\n",
      "yt : [INFO     ] 2020-07-01 12:39:12,525 ylim = -50.000000 50.000000\n",
      "yt : [INFO     ] 2020-07-01 12:39:12,526 xlim = -50.000000 50.000000\n",
      "yt : [INFO     ] 2020-07-01 12:39:12,526 ylim = -50.000000 50.000000\n",
      "yt : [INFO     ] 2020-07-01 12:39:12,527 Making a fixed resolution buffer of (('boxlib', 'Psi')) 800 by 800\n",
      "yt : [WARNING  ] 2020-07-01 12:39:12,562 Plot image for field ('boxlib', 'Psi') has both positive and negative values. Min = -0.038028, Max = 0.040280.\n",
      "yt : [WARNING  ] 2020-07-01 12:39:12,563 Switching to symlog colorbar scaling unless linear scaling is specified later\n",
      "yt : [INFO     ] 2020-07-01 12:39:12,653 Making a fixed resolution buffer of (('boxlib', 'Psi')) 800 by 800\n",
      "yt : [WARNING  ] 2020-07-01 12:39:12,741 Supplied id_loc but draw_ids is False. Not drawing grid ids\n",
      "yt : [WARNING  ] 2020-07-01 12:39:12,744 Supplied id_loc but draw_ids is False. Not drawing grid ids\n",
      "yt : [WARNING  ] 2020-07-01 12:39:12,747 Supplied id_loc but draw_ids is False. Not drawing grid ids\n",
      "yt : [WARNING  ] 2020-07-01 12:39:12,750 Supplied id_loc but draw_ids is False. Not drawing grid ids\n",
      "yt : [WARNING  ] 2020-07-01 12:39:12,752 Supplied id_loc but draw_ids is False. Not drawing grid ids\n",
      "yt : [WARNING  ] 2020-07-01 12:39:12,755 Supplied id_loc but draw_ids is False. Not drawing grid ids\n",
      "yt : [WARNING  ] 2020-07-01 12:39:12,758 Supplied id_loc but draw_ids is False. Not drawing grid ids\n",
      "yt : [WARNING  ] 2020-07-01 12:39:12,761 Supplied id_loc but draw_ids is False. Not drawing grid ids\n",
      "yt : [WARNING  ] 2020-07-01 12:39:12,763 Supplied id_loc but draw_ids is False. Not drawing grid ids\n",
      "yt : [INFO     ] 2020-07-01 12:39:12,764 Saving plot img00119.png\n"
     ]
    },
    {
     "name": "stdout",
     "output_type": "stream",
     "text": [
      "plt0000119\n",
      "img00119.png\n"
     ]
    },
    {
     "name": "stderr",
     "output_type": "stream",
     "text": [
      "yt : [INFO     ] 2020-07-01 12:39:13,008 Parameters: current_time              = 23.4375\n",
      "yt : [INFO     ] 2020-07-01 12:39:13,009 Parameters: domain_dimensions         = [256 256   1]\n",
      "yt : [INFO     ] 2020-07-01 12:39:13,009 Parameters: domain_left_edge          = [-50. -50.   0.]\n",
      "yt : [INFO     ] 2020-07-01 12:39:13,010 Parameters: domain_right_edge         = [ 50.  50.   1.]\n",
      "yt : [INFO     ] 2020-07-01 12:39:13,121 xlim = -50.000000 50.000000\n",
      "yt : [INFO     ] 2020-07-01 12:39:13,121 ylim = -50.000000 50.000000\n",
      "yt : [INFO     ] 2020-07-01 12:39:13,122 xlim = -50.000000 50.000000\n",
      "yt : [INFO     ] 2020-07-01 12:39:13,123 ylim = -50.000000 50.000000\n",
      "yt : [INFO     ] 2020-07-01 12:39:13,124 Making a fixed resolution buffer of (('boxlib', 'Psi')) 800 by 800\n",
      "yt : [WARNING  ] 2020-07-01 12:39:13,159 Plot image for field ('boxlib', 'Psi') has both positive and negative values. Min = -0.037930, Max = 0.039922.\n",
      "yt : [WARNING  ] 2020-07-01 12:39:13,159 Switching to symlog colorbar scaling unless linear scaling is specified later\n",
      "yt : [INFO     ] 2020-07-01 12:39:13,247 Making a fixed resolution buffer of (('boxlib', 'Psi')) 800 by 800\n",
      "yt : [WARNING  ] 2020-07-01 12:39:13,336 Supplied id_loc but draw_ids is False. Not drawing grid ids\n",
      "yt : [WARNING  ] 2020-07-01 12:39:13,339 Supplied id_loc but draw_ids is False. Not drawing grid ids\n",
      "yt : [WARNING  ] 2020-07-01 12:39:13,342 Supplied id_loc but draw_ids is False. Not drawing grid ids\n",
      "yt : [WARNING  ] 2020-07-01 12:39:13,344 Supplied id_loc but draw_ids is False. Not drawing grid ids\n",
      "yt : [WARNING  ] 2020-07-01 12:39:13,347 Supplied id_loc but draw_ids is False. Not drawing grid ids\n",
      "yt : [WARNING  ] 2020-07-01 12:39:13,350 Supplied id_loc but draw_ids is False. Not drawing grid ids\n",
      "yt : [WARNING  ] 2020-07-01 12:39:13,352 Supplied id_loc but draw_ids is False. Not drawing grid ids\n",
      "yt : [WARNING  ] 2020-07-01 12:39:13,355 Supplied id_loc but draw_ids is False. Not drawing grid ids\n",
      "yt : [WARNING  ] 2020-07-01 12:39:13,358 Supplied id_loc but draw_ids is False. Not drawing grid ids\n",
      "yt : [INFO     ] 2020-07-01 12:39:13,358 Saving plot img00120.png\n"
     ]
    },
    {
     "name": "stdout",
     "output_type": "stream",
     "text": [
      "plt0000120\n",
      "img00120.png\n"
     ]
    },
    {
     "name": "stderr",
     "output_type": "stream",
     "text": [
      "yt : [INFO     ] 2020-07-01 12:39:13,716 Parameters: current_time              = 23.6328125\n",
      "yt : [INFO     ] 2020-07-01 12:39:13,717 Parameters: domain_dimensions         = [256 256   1]\n",
      "yt : [INFO     ] 2020-07-01 12:39:13,717 Parameters: domain_left_edge          = [-50. -50.   0.]\n",
      "yt : [INFO     ] 2020-07-01 12:39:13,718 Parameters: domain_right_edge         = [ 50.  50.   1.]\n",
      "yt : [INFO     ] 2020-07-01 12:39:13,830 xlim = -50.000000 50.000000\n",
      "yt : [INFO     ] 2020-07-01 12:39:13,830 ylim = -50.000000 50.000000\n",
      "yt : [INFO     ] 2020-07-01 12:39:13,831 xlim = -50.000000 50.000000\n",
      "yt : [INFO     ] 2020-07-01 12:39:13,832 ylim = -50.000000 50.000000\n",
      "yt : [INFO     ] 2020-07-01 12:39:13,832 Making a fixed resolution buffer of (('boxlib', 'Psi')) 800 by 800\n",
      "yt : [WARNING  ] 2020-07-01 12:39:13,867 Plot image for field ('boxlib', 'Psi') has both positive and negative values. Min = -0.037813, Max = 0.039620.\n",
      "yt : [WARNING  ] 2020-07-01 12:39:13,868 Switching to symlog colorbar scaling unless linear scaling is specified later\n",
      "yt : [INFO     ] 2020-07-01 12:39:13,956 Making a fixed resolution buffer of (('boxlib', 'Psi')) 800 by 800\n",
      "yt : [WARNING  ] 2020-07-01 12:39:14,044 Supplied id_loc but draw_ids is False. Not drawing grid ids\n",
      "yt : [WARNING  ] 2020-07-01 12:39:14,047 Supplied id_loc but draw_ids is False. Not drawing grid ids\n",
      "yt : [WARNING  ] 2020-07-01 12:39:14,049 Supplied id_loc but draw_ids is False. Not drawing grid ids\n",
      "yt : [WARNING  ] 2020-07-01 12:39:14,052 Supplied id_loc but draw_ids is False. Not drawing grid ids\n",
      "yt : [WARNING  ] 2020-07-01 12:39:14,055 Supplied id_loc but draw_ids is False. Not drawing grid ids\n",
      "yt : [WARNING  ] 2020-07-01 12:39:14,058 Supplied id_loc but draw_ids is False. Not drawing grid ids\n",
      "yt : [WARNING  ] 2020-07-01 12:39:14,061 Supplied id_loc but draw_ids is False. Not drawing grid ids\n",
      "yt : [WARNING  ] 2020-07-01 12:39:14,063 Supplied id_loc but draw_ids is False. Not drawing grid ids\n",
      "yt : [WARNING  ] 2020-07-01 12:39:14,066 Supplied id_loc but draw_ids is False. Not drawing grid ids\n",
      "yt : [INFO     ] 2020-07-01 12:39:14,067 Saving plot img00121.png\n"
     ]
    },
    {
     "name": "stdout",
     "output_type": "stream",
     "text": [
      "plt0000121\n",
      "img00121.png\n"
     ]
    },
    {
     "name": "stderr",
     "output_type": "stream",
     "text": [
      "yt : [INFO     ] 2020-07-01 12:39:14,312 Parameters: current_time              = 23.828125\n",
      "yt : [INFO     ] 2020-07-01 12:39:14,313 Parameters: domain_dimensions         = [256 256   1]\n",
      "yt : [INFO     ] 2020-07-01 12:39:14,313 Parameters: domain_left_edge          = [-50. -50.   0.]\n",
      "yt : [INFO     ] 2020-07-01 12:39:14,314 Parameters: domain_right_edge         = [ 50.  50.   1.]\n",
      "yt : [INFO     ] 2020-07-01 12:39:14,425 xlim = -50.000000 50.000000\n",
      "yt : [INFO     ] 2020-07-01 12:39:14,425 ylim = -50.000000 50.000000\n",
      "yt : [INFO     ] 2020-07-01 12:39:14,427 xlim = -50.000000 50.000000\n",
      "yt : [INFO     ] 2020-07-01 12:39:14,427 ylim = -50.000000 50.000000\n",
      "yt : [INFO     ] 2020-07-01 12:39:14,428 Making a fixed resolution buffer of (('boxlib', 'Psi')) 800 by 800\n",
      "yt : [WARNING  ] 2020-07-01 12:39:14,463 Plot image for field ('boxlib', 'Psi') has both positive and negative values. Min = -0.037662, Max = 0.039127.\n",
      "yt : [WARNING  ] 2020-07-01 12:39:14,463 Switching to symlog colorbar scaling unless linear scaling is specified later\n",
      "yt : [INFO     ] 2020-07-01 12:39:14,551 Making a fixed resolution buffer of (('boxlib', 'Psi')) 800 by 800\n",
      "yt : [WARNING  ] 2020-07-01 12:39:14,638 Supplied id_loc but draw_ids is False. Not drawing grid ids\n",
      "yt : [WARNING  ] 2020-07-01 12:39:14,641 Supplied id_loc but draw_ids is False. Not drawing grid ids\n",
      "yt : [WARNING  ] 2020-07-01 12:39:14,644 Supplied id_loc but draw_ids is False. Not drawing grid ids\n",
      "yt : [WARNING  ] 2020-07-01 12:39:14,647 Supplied id_loc but draw_ids is False. Not drawing grid ids\n",
      "yt : [WARNING  ] 2020-07-01 12:39:14,649 Supplied id_loc but draw_ids is False. Not drawing grid ids\n",
      "yt : [WARNING  ] 2020-07-01 12:39:14,652 Supplied id_loc but draw_ids is False. Not drawing grid ids\n",
      "yt : [WARNING  ] 2020-07-01 12:39:14,654 Supplied id_loc but draw_ids is False. Not drawing grid ids\n",
      "yt : [WARNING  ] 2020-07-01 12:39:14,657 Supplied id_loc but draw_ids is False. Not drawing grid ids\n",
      "yt : [WARNING  ] 2020-07-01 12:39:14,660 Supplied id_loc but draw_ids is False. Not drawing grid ids\n",
      "yt : [INFO     ] 2020-07-01 12:39:14,660 Saving plot img00122.png\n"
     ]
    },
    {
     "name": "stdout",
     "output_type": "stream",
     "text": [
      "plt0000122\n",
      "img00122.png\n"
     ]
    },
    {
     "name": "stderr",
     "output_type": "stream",
     "text": [
      "yt : [INFO     ] 2020-07-01 12:39:14,902 Parameters: current_time              = 24.0234375\n",
      "yt : [INFO     ] 2020-07-01 12:39:14,903 Parameters: domain_dimensions         = [256 256   1]\n",
      "yt : [INFO     ] 2020-07-01 12:39:14,903 Parameters: domain_left_edge          = [-50. -50.   0.]\n",
      "yt : [INFO     ] 2020-07-01 12:39:14,904 Parameters: domain_right_edge         = [ 50.  50.   1.]\n",
      "yt : [INFO     ] 2020-07-01 12:39:15,136 xlim = -50.000000 50.000000\n",
      "yt : [INFO     ] 2020-07-01 12:39:15,137 ylim = -50.000000 50.000000\n",
      "yt : [INFO     ] 2020-07-01 12:39:15,138 xlim = -50.000000 50.000000\n",
      "yt : [INFO     ] 2020-07-01 12:39:15,138 ylim = -50.000000 50.000000\n",
      "yt : [INFO     ] 2020-07-01 12:39:15,139 Making a fixed resolution buffer of (('boxlib', 'Psi')) 800 by 800\n",
      "yt : [WARNING  ] 2020-07-01 12:39:15,176 Plot image for field ('boxlib', 'Psi') has both positive and negative values. Min = -0.037568, Max = 0.038618.\n",
      "yt : [WARNING  ] 2020-07-01 12:39:15,176 Switching to symlog colorbar scaling unless linear scaling is specified later\n",
      "yt : [INFO     ] 2020-07-01 12:39:15,266 Making a fixed resolution buffer of (('boxlib', 'Psi')) 800 by 800\n",
      "yt : [WARNING  ] 2020-07-01 12:39:15,354 Supplied id_loc but draw_ids is False. Not drawing grid ids\n",
      "yt : [WARNING  ] 2020-07-01 12:39:15,357 Supplied id_loc but draw_ids is False. Not drawing grid ids\n",
      "yt : [WARNING  ] 2020-07-01 12:39:15,360 Supplied id_loc but draw_ids is False. Not drawing grid ids\n",
      "yt : [WARNING  ] 2020-07-01 12:39:15,363 Supplied id_loc but draw_ids is False. Not drawing grid ids\n",
      "yt : [WARNING  ] 2020-07-01 12:39:15,366 Supplied id_loc but draw_ids is False. Not drawing grid ids\n",
      "yt : [WARNING  ] 2020-07-01 12:39:15,369 Supplied id_loc but draw_ids is False. Not drawing grid ids\n",
      "yt : [WARNING  ] 2020-07-01 12:39:15,371 Supplied id_loc but draw_ids is False. Not drawing grid ids\n",
      "yt : [WARNING  ] 2020-07-01 12:39:15,374 Supplied id_loc but draw_ids is False. Not drawing grid ids\n",
      "yt : [WARNING  ] 2020-07-01 12:39:15,377 Supplied id_loc but draw_ids is False. Not drawing grid ids\n",
      "yt : [INFO     ] 2020-07-01 12:39:15,378 Saving plot img00123.png\n"
     ]
    },
    {
     "name": "stdout",
     "output_type": "stream",
     "text": [
      "plt0000123\n",
      "img00123.png\n"
     ]
    },
    {
     "name": "stderr",
     "output_type": "stream",
     "text": [
      "yt : [INFO     ] 2020-07-01 12:39:15,623 Parameters: current_time              = 24.21875\n",
      "yt : [INFO     ] 2020-07-01 12:39:15,624 Parameters: domain_dimensions         = [256 256   1]\n",
      "yt : [INFO     ] 2020-07-01 12:39:15,624 Parameters: domain_left_edge          = [-50. -50.   0.]\n",
      "yt : [INFO     ] 2020-07-01 12:39:15,625 Parameters: domain_right_edge         = [ 50.  50.   1.]\n",
      "yt : [INFO     ] 2020-07-01 12:39:15,736 xlim = -50.000000 50.000000\n",
      "yt : [INFO     ] 2020-07-01 12:39:15,736 ylim = -50.000000 50.000000\n",
      "yt : [INFO     ] 2020-07-01 12:39:15,737 xlim = -50.000000 50.000000\n",
      "yt : [INFO     ] 2020-07-01 12:39:15,738 ylim = -50.000000 50.000000\n",
      "yt : [INFO     ] 2020-07-01 12:39:15,738 Making a fixed resolution buffer of (('boxlib', 'Psi')) 800 by 800\n",
      "yt : [WARNING  ] 2020-07-01 12:39:15,773 Plot image for field ('boxlib', 'Psi') has both positive and negative values. Min = -0.037398, Max = 0.038113.\n",
      "yt : [WARNING  ] 2020-07-01 12:39:15,774 Switching to symlog colorbar scaling unless linear scaling is specified later\n",
      "yt : [INFO     ] 2020-07-01 12:39:15,862 Making a fixed resolution buffer of (('boxlib', 'Psi')) 800 by 800\n",
      "yt : [WARNING  ] 2020-07-01 12:39:15,950 Supplied id_loc but draw_ids is False. Not drawing grid ids\n",
      "yt : [WARNING  ] 2020-07-01 12:39:15,952 Supplied id_loc but draw_ids is False. Not drawing grid ids\n",
      "yt : [WARNING  ] 2020-07-01 12:39:15,955 Supplied id_loc but draw_ids is False. Not drawing grid ids\n",
      "yt : [WARNING  ] 2020-07-01 12:39:15,957 Supplied id_loc but draw_ids is False. Not drawing grid ids\n",
      "yt : [WARNING  ] 2020-07-01 12:39:15,960 Supplied id_loc but draw_ids is False. Not drawing grid ids\n",
      "yt : [WARNING  ] 2020-07-01 12:39:15,962 Supplied id_loc but draw_ids is False. Not drawing grid ids\n",
      "yt : [WARNING  ] 2020-07-01 12:39:15,965 Supplied id_loc but draw_ids is False. Not drawing grid ids\n",
      "yt : [WARNING  ] 2020-07-01 12:39:15,968 Supplied id_loc but draw_ids is False. Not drawing grid ids\n",
      "yt : [WARNING  ] 2020-07-01 12:39:15,971 Supplied id_loc but draw_ids is False. Not drawing grid ids\n",
      "yt : [INFO     ] 2020-07-01 12:39:15,971 Saving plot img00124.png\n"
     ]
    },
    {
     "name": "stdout",
     "output_type": "stream",
     "text": [
      "plt0000124\n",
      "img00124.png\n"
     ]
    },
    {
     "name": "stderr",
     "output_type": "stream",
     "text": [
      "yt : [INFO     ] 2020-07-01 12:39:16,219 Parameters: current_time              = 24.4140625\n",
      "yt : [INFO     ] 2020-07-01 12:39:16,220 Parameters: domain_dimensions         = [256 256   1]\n",
      "yt : [INFO     ] 2020-07-01 12:39:16,220 Parameters: domain_left_edge          = [-50. -50.   0.]\n",
      "yt : [INFO     ] 2020-07-01 12:39:16,221 Parameters: domain_right_edge         = [ 50.  50.   1.]\n",
      "yt : [INFO     ] 2020-07-01 12:39:16,337 xlim = -50.000000 50.000000\n",
      "yt : [INFO     ] 2020-07-01 12:39:16,337 ylim = -50.000000 50.000000\n",
      "yt : [INFO     ] 2020-07-01 12:39:16,339 xlim = -50.000000 50.000000\n",
      "yt : [INFO     ] 2020-07-01 12:39:16,339 ylim = -50.000000 50.000000\n",
      "yt : [INFO     ] 2020-07-01 12:39:16,340 Making a fixed resolution buffer of (('boxlib', 'Psi')) 800 by 800\n",
      "yt : [WARNING  ] 2020-07-01 12:39:16,377 Plot image for field ('boxlib', 'Psi') has both positive and negative values. Min = -0.037167, Max = 0.037741.\n",
      "yt : [WARNING  ] 2020-07-01 12:39:16,377 Switching to symlog colorbar scaling unless linear scaling is specified later\n",
      "yt : [INFO     ] 2020-07-01 12:39:16,465 Making a fixed resolution buffer of (('boxlib', 'Psi')) 800 by 800\n"
     ]
    },
    {
     "name": "stdout",
     "output_type": "stream",
     "text": [
      "plt0000125\n",
      "img00125.png\n"
     ]
    },
    {
     "name": "stderr",
     "output_type": "stream",
     "text": [
      "yt : [WARNING  ] 2020-07-01 12:39:16,674 Supplied id_loc but draw_ids is False. Not drawing grid ids\n",
      "yt : [WARNING  ] 2020-07-01 12:39:16,677 Supplied id_loc but draw_ids is False. Not drawing grid ids\n",
      "yt : [WARNING  ] 2020-07-01 12:39:16,680 Supplied id_loc but draw_ids is False. Not drawing grid ids\n",
      "yt : [WARNING  ] 2020-07-01 12:39:16,683 Supplied id_loc but draw_ids is False. Not drawing grid ids\n",
      "yt : [WARNING  ] 2020-07-01 12:39:16,686 Supplied id_loc but draw_ids is False. Not drawing grid ids\n",
      "yt : [WARNING  ] 2020-07-01 12:39:16,689 Supplied id_loc but draw_ids is False. Not drawing grid ids\n",
      "yt : [WARNING  ] 2020-07-01 12:39:16,692 Supplied id_loc but draw_ids is False. Not drawing grid ids\n",
      "yt : [WARNING  ] 2020-07-01 12:39:16,695 Supplied id_loc but draw_ids is False. Not drawing grid ids\n",
      "yt : [WARNING  ] 2020-07-01 12:39:16,698 Supplied id_loc but draw_ids is False. Not drawing grid ids\n",
      "yt : [INFO     ] 2020-07-01 12:39:16,698 Saving plot img00125.png\n",
      "yt : [INFO     ] 2020-07-01 12:39:16,947 Parameters: current_time              = 24.609375\n",
      "yt : [INFO     ] 2020-07-01 12:39:16,948 Parameters: domain_dimensions         = [256 256   1]\n",
      "yt : [INFO     ] 2020-07-01 12:39:16,948 Parameters: domain_left_edge          = [-50. -50.   0.]\n",
      "yt : [INFO     ] 2020-07-01 12:39:16,949 Parameters: domain_right_edge         = [ 50.  50.   1.]\n",
      "yt : [INFO     ] 2020-07-01 12:39:17,059 xlim = -50.000000 50.000000\n",
      "yt : [INFO     ] 2020-07-01 12:39:17,060 ylim = -50.000000 50.000000\n",
      "yt : [INFO     ] 2020-07-01 12:39:17,061 xlim = -50.000000 50.000000\n",
      "yt : [INFO     ] 2020-07-01 12:39:17,061 ylim = -50.000000 50.000000\n",
      "yt : [INFO     ] 2020-07-01 12:39:17,062 Making a fixed resolution buffer of (('boxlib', 'Psi')) 800 by 800\n",
      "yt : [WARNING  ] 2020-07-01 12:39:17,098 Plot image for field ('boxlib', 'Psi') has both positive and negative values. Min = -0.037172, Max = 0.037329.\n",
      "yt : [WARNING  ] 2020-07-01 12:39:17,098 Switching to symlog colorbar scaling unless linear scaling is specified later\n",
      "yt : [INFO     ] 2020-07-01 12:39:17,188 Making a fixed resolution buffer of (('boxlib', 'Psi')) 800 by 800\n",
      "yt : [WARNING  ] 2020-07-01 12:39:17,276 Supplied id_loc but draw_ids is False. Not drawing grid ids\n",
      "yt : [WARNING  ] 2020-07-01 12:39:17,278 Supplied id_loc but draw_ids is False. Not drawing grid ids\n",
      "yt : [WARNING  ] 2020-07-01 12:39:17,281 Supplied id_loc but draw_ids is False. Not drawing grid ids\n",
      "yt : [WARNING  ] 2020-07-01 12:39:17,283 Supplied id_loc but draw_ids is False. Not drawing grid ids\n",
      "yt : [WARNING  ] 2020-07-01 12:39:17,286 Supplied id_loc but draw_ids is False. Not drawing grid ids\n",
      "yt : [WARNING  ] 2020-07-01 12:39:17,288 Supplied id_loc but draw_ids is False. Not drawing grid ids\n",
      "yt : [WARNING  ] 2020-07-01 12:39:17,290 Supplied id_loc but draw_ids is False. Not drawing grid ids\n",
      "yt : [WARNING  ] 2020-07-01 12:39:17,293 Supplied id_loc but draw_ids is False. Not drawing grid ids\n",
      "yt : [WARNING  ] 2020-07-01 12:39:17,295 Supplied id_loc but draw_ids is False. Not drawing grid ids\n",
      "yt : [INFO     ] 2020-07-01 12:39:17,296 Saving plot img00126.png\n"
     ]
    },
    {
     "name": "stdout",
     "output_type": "stream",
     "text": [
      "plt0000126\n",
      "img00126.png\n"
     ]
    },
    {
     "name": "stderr",
     "output_type": "stream",
     "text": [
      "yt : [INFO     ] 2020-07-01 12:39:17,545 Parameters: current_time              = 24.8046875\n",
      "yt : [INFO     ] 2020-07-01 12:39:17,546 Parameters: domain_dimensions         = [256 256   1]\n",
      "yt : [INFO     ] 2020-07-01 12:39:17,546 Parameters: domain_left_edge          = [-50. -50.   0.]\n",
      "yt : [INFO     ] 2020-07-01 12:39:17,547 Parameters: domain_right_edge         = [ 50.  50.   1.]\n",
      "yt : [INFO     ] 2020-07-01 12:39:17,657 xlim = -50.000000 50.000000\n",
      "yt : [INFO     ] 2020-07-01 12:39:17,657 ylim = -50.000000 50.000000\n",
      "yt : [INFO     ] 2020-07-01 12:39:17,659 xlim = -50.000000 50.000000\n",
      "yt : [INFO     ] 2020-07-01 12:39:17,659 ylim = -50.000000 50.000000\n",
      "yt : [INFO     ] 2020-07-01 12:39:17,660 Making a fixed resolution buffer of (('boxlib', 'Psi')) 800 by 800\n",
      "yt : [WARNING  ] 2020-07-01 12:39:17,697 Plot image for field ('boxlib', 'Psi') has both positive and negative values. Min = -0.037027, Max = 0.037027.\n",
      "yt : [WARNING  ] 2020-07-01 12:39:17,697 Switching to symlog colorbar scaling unless linear scaling is specified later\n",
      "yt : [INFO     ] 2020-07-01 12:39:17,787 Making a fixed resolution buffer of (('boxlib', 'Psi')) 800 by 800\n",
      "yt : [WARNING  ] 2020-07-01 12:39:17,875 Supplied id_loc but draw_ids is False. Not drawing grid ids\n",
      "yt : [WARNING  ] 2020-07-01 12:39:17,878 Supplied id_loc but draw_ids is False. Not drawing grid ids\n",
      "yt : [WARNING  ] 2020-07-01 12:39:17,881 Supplied id_loc but draw_ids is False. Not drawing grid ids\n",
      "yt : [WARNING  ] 2020-07-01 12:39:17,884 Supplied id_loc but draw_ids is False. Not drawing grid ids\n",
      "yt : [WARNING  ] 2020-07-01 12:39:17,887 Supplied id_loc but draw_ids is False. Not drawing grid ids\n",
      "yt : [WARNING  ] 2020-07-01 12:39:17,889 Supplied id_loc but draw_ids is False. Not drawing grid ids\n",
      "yt : [WARNING  ] 2020-07-01 12:39:17,892 Supplied id_loc but draw_ids is False. Not drawing grid ids\n",
      "yt : [WARNING  ] 2020-07-01 12:39:17,895 Supplied id_loc but draw_ids is False. Not drawing grid ids\n",
      "yt : [WARNING  ] 2020-07-01 12:39:17,897 Supplied id_loc but draw_ids is False. Not drawing grid ids\n",
      "yt : [INFO     ] 2020-07-01 12:39:17,898 Saving plot img00127.png\n"
     ]
    },
    {
     "name": "stdout",
     "output_type": "stream",
     "text": [
      "plt0000127\n",
      "img00127.png\n"
     ]
    },
    {
     "name": "stderr",
     "output_type": "stream",
     "text": [
      "yt : [INFO     ] 2020-07-01 12:39:18,147 Parameters: current_time              = 25.0\n",
      "yt : [INFO     ] 2020-07-01 12:39:18,147 Parameters: domain_dimensions         = [256 256   1]\n",
      "yt : [INFO     ] 2020-07-01 12:39:18,148 Parameters: domain_left_edge          = [-50. -50.   0.]\n",
      "yt : [INFO     ] 2020-07-01 12:39:18,148 Parameters: domain_right_edge         = [ 50.  50.   1.]\n",
      "yt : [INFO     ] 2020-07-01 12:39:18,380 xlim = -50.000000 50.000000\n",
      "yt : [INFO     ] 2020-07-01 12:39:18,380 ylim = -50.000000 50.000000\n",
      "yt : [INFO     ] 2020-07-01 12:39:18,382 xlim = -50.000000 50.000000\n",
      "yt : [INFO     ] 2020-07-01 12:39:18,382 ylim = -50.000000 50.000000\n",
      "yt : [INFO     ] 2020-07-01 12:39:18,383 Making a fixed resolution buffer of (('boxlib', 'Psi')) 800 by 800\n",
      "yt : [WARNING  ] 2020-07-01 12:39:18,420 Plot image for field ('boxlib', 'Psi') has both positive and negative values. Min = -0.036878, Max = 0.036539.\n",
      "yt : [WARNING  ] 2020-07-01 12:39:18,421 Switching to symlog colorbar scaling unless linear scaling is specified later\n",
      "yt : [INFO     ] 2020-07-01 12:39:18,510 Making a fixed resolution buffer of (('boxlib', 'Psi')) 800 by 800\n",
      "yt : [WARNING  ] 2020-07-01 12:39:18,599 Supplied id_loc but draw_ids is False. Not drawing grid ids\n",
      "yt : [WARNING  ] 2020-07-01 12:39:18,601 Supplied id_loc but draw_ids is False. Not drawing grid ids\n",
      "yt : [WARNING  ] 2020-07-01 12:39:18,604 Supplied id_loc but draw_ids is False. Not drawing grid ids\n",
      "yt : [WARNING  ] 2020-07-01 12:39:18,608 Supplied id_loc but draw_ids is False. Not drawing grid ids\n",
      "yt : [WARNING  ] 2020-07-01 12:39:18,610 Supplied id_loc but draw_ids is False. Not drawing grid ids\n",
      "yt : [WARNING  ] 2020-07-01 12:39:18,614 Supplied id_loc but draw_ids is False. Not drawing grid ids\n",
      "yt : [WARNING  ] 2020-07-01 12:39:18,616 Supplied id_loc but draw_ids is False. Not drawing grid ids\n",
      "yt : [WARNING  ] 2020-07-01 12:39:18,619 Supplied id_loc but draw_ids is False. Not drawing grid ids\n",
      "yt : [WARNING  ] 2020-07-01 12:39:18,622 Supplied id_loc but draw_ids is False. Not drawing grid ids\n",
      "yt : [INFO     ] 2020-07-01 12:39:18,622 Saving plot img00128.png\n"
     ]
    },
    {
     "name": "stdout",
     "output_type": "stream",
     "text": [
      "plt0000128\n",
      "img00128.png\n"
     ]
    },
    {
     "name": "stderr",
     "output_type": "stream",
     "text": [
      "yt : [INFO     ] 2020-07-01 12:39:18,872 Parameters: current_time              = 25.1953125\n",
      "yt : [INFO     ] 2020-07-01 12:39:18,873 Parameters: domain_dimensions         = [256 256   1]\n",
      "yt : [INFO     ] 2020-07-01 12:39:18,873 Parameters: domain_left_edge          = [-50. -50.   0.]\n",
      "yt : [INFO     ] 2020-07-01 12:39:18,874 Parameters: domain_right_edge         = [ 50.  50.   1.]\n",
      "yt : [INFO     ] 2020-07-01 12:39:18,989 xlim = -50.000000 50.000000\n",
      "yt : [INFO     ] 2020-07-01 12:39:18,990 ylim = -50.000000 50.000000\n",
      "yt : [INFO     ] 2020-07-01 12:39:18,991 xlim = -50.000000 50.000000\n",
      "yt : [INFO     ] 2020-07-01 12:39:18,992 ylim = -50.000000 50.000000\n",
      "yt : [INFO     ] 2020-07-01 12:39:18,993 Making a fixed resolution buffer of (('boxlib', 'Psi')) 800 by 800\n",
      "yt : [WARNING  ] 2020-07-01 12:39:19,029 Plot image for field ('boxlib', 'Psi') has both positive and negative values. Min = -0.036663, Max = 0.036086.\n",
      "yt : [WARNING  ] 2020-07-01 12:39:19,030 Switching to symlog colorbar scaling unless linear scaling is specified later\n",
      "yt : [INFO     ] 2020-07-01 12:39:19,118 Making a fixed resolution buffer of (('boxlib', 'Psi')) 800 by 800\n",
      "yt : [WARNING  ] 2020-07-01 12:39:19,206 Supplied id_loc but draw_ids is False. Not drawing grid ids\n",
      "yt : [WARNING  ] 2020-07-01 12:39:19,209 Supplied id_loc but draw_ids is False. Not drawing grid ids\n",
      "yt : [WARNING  ] 2020-07-01 12:39:19,213 Supplied id_loc but draw_ids is False. Not drawing grid ids\n",
      "yt : [WARNING  ] 2020-07-01 12:39:19,216 Supplied id_loc but draw_ids is False. Not drawing grid ids\n",
      "yt : [WARNING  ] 2020-07-01 12:39:19,219 Supplied id_loc but draw_ids is False. Not drawing grid ids\n",
      "yt : [WARNING  ] 2020-07-01 12:39:19,222 Supplied id_loc but draw_ids is False. Not drawing grid ids\n",
      "yt : [WARNING  ] 2020-07-01 12:39:19,225 Supplied id_loc but draw_ids is False. Not drawing grid ids\n",
      "yt : [WARNING  ] 2020-07-01 12:39:19,227 Supplied id_loc but draw_ids is False. Not drawing grid ids\n",
      "yt : [WARNING  ] 2020-07-01 12:39:19,230 Supplied id_loc but draw_ids is False. Not drawing grid ids\n",
      "yt : [INFO     ] 2020-07-01 12:39:19,231 Saving plot img00129.png\n"
     ]
    },
    {
     "name": "stdout",
     "output_type": "stream",
     "text": [
      "plt0000129\n",
      "img00129.png\n"
     ]
    },
    {
     "name": "stderr",
     "output_type": "stream",
     "text": [
      "yt : [INFO     ] 2020-07-01 12:39:19,479 Parameters: current_time              = 25.390625\n",
      "yt : [INFO     ] 2020-07-01 12:39:19,479 Parameters: domain_dimensions         = [256 256   1]\n",
      "yt : [INFO     ] 2020-07-01 12:39:19,480 Parameters: domain_left_edge          = [-50. -50.   0.]\n",
      "yt : [INFO     ] 2020-07-01 12:39:19,481 Parameters: domain_right_edge         = [ 50.  50.   1.]\n",
      "yt : [INFO     ] 2020-07-01 12:39:19,709 xlim = -50.000000 50.000000\n",
      "yt : [INFO     ] 2020-07-01 12:39:19,710 ylim = -50.000000 50.000000\n",
      "yt : [INFO     ] 2020-07-01 12:39:19,711 xlim = -50.000000 50.000000\n",
      "yt : [INFO     ] 2020-07-01 12:39:19,711 ylim = -50.000000 50.000000\n",
      "yt : [INFO     ] 2020-07-01 12:39:19,712 Making a fixed resolution buffer of (('boxlib', 'Psi')) 800 by 800\n",
      "yt : [WARNING  ] 2020-07-01 12:39:19,748 Plot image for field ('boxlib', 'Psi') has both positive and negative values. Min = -0.036507, Max = 0.035522.\n",
      "yt : [WARNING  ] 2020-07-01 12:39:19,749 Switching to symlog colorbar scaling unless linear scaling is specified later\n",
      "yt : [INFO     ] 2020-07-01 12:39:19,838 Making a fixed resolution buffer of (('boxlib', 'Psi')) 800 by 800\n",
      "yt : [WARNING  ] 2020-07-01 12:39:19,927 Supplied id_loc but draw_ids is False. Not drawing grid ids\n",
      "yt : [WARNING  ] 2020-07-01 12:39:19,929 Supplied id_loc but draw_ids is False. Not drawing grid ids\n",
      "yt : [WARNING  ] 2020-07-01 12:39:19,932 Supplied id_loc but draw_ids is False. Not drawing grid ids\n",
      "yt : [WARNING  ] 2020-07-01 12:39:19,934 Supplied id_loc but draw_ids is False. Not drawing grid ids\n",
      "yt : [WARNING  ] 2020-07-01 12:39:19,937 Supplied id_loc but draw_ids is False. Not drawing grid ids\n",
      "yt : [WARNING  ] 2020-07-01 12:39:19,940 Supplied id_loc but draw_ids is False. Not drawing grid ids\n",
      "yt : [WARNING  ] 2020-07-01 12:39:19,943 Supplied id_loc but draw_ids is False. Not drawing grid ids\n",
      "yt : [WARNING  ] 2020-07-01 12:39:19,946 Supplied id_loc but draw_ids is False. Not drawing grid ids\n",
      "yt : [WARNING  ] 2020-07-01 12:39:19,948 Supplied id_loc but draw_ids is False. Not drawing grid ids\n",
      "yt : [INFO     ] 2020-07-01 12:39:19,949 Saving plot img00130.png\n"
     ]
    },
    {
     "name": "stdout",
     "output_type": "stream",
     "text": [
      "plt0000130\n",
      "img00130.png\n"
     ]
    },
    {
     "name": "stderr",
     "output_type": "stream",
     "text": [
      "yt : [INFO     ] 2020-07-01 12:39:20,200 Parameters: current_time              = 25.5859375\n",
      "yt : [INFO     ] 2020-07-01 12:39:20,200 Parameters: domain_dimensions         = [256 256   1]\n",
      "yt : [INFO     ] 2020-07-01 12:39:20,201 Parameters: domain_left_edge          = [-50. -50.   0.]\n",
      "yt : [INFO     ] 2020-07-01 12:39:20,201 Parameters: domain_right_edge         = [ 50.  50.   1.]\n",
      "yt : [INFO     ] 2020-07-01 12:39:20,314 xlim = -50.000000 50.000000\n",
      "yt : [INFO     ] 2020-07-01 12:39:20,315 ylim = -50.000000 50.000000\n",
      "yt : [INFO     ] 2020-07-01 12:39:20,316 xlim = -50.000000 50.000000\n",
      "yt : [INFO     ] 2020-07-01 12:39:20,316 ylim = -50.000000 50.000000\n",
      "yt : [INFO     ] 2020-07-01 12:39:20,317 Making a fixed resolution buffer of (('boxlib', 'Psi')) 800 by 800\n",
      "yt : [WARNING  ] 2020-07-01 12:39:20,353 Plot image for field ('boxlib', 'Psi') has both positive and negative values. Min = -0.036297, Max = 0.034947.\n",
      "yt : [WARNING  ] 2020-07-01 12:39:20,354 Switching to symlog colorbar scaling unless linear scaling is specified later\n",
      "yt : [INFO     ] 2020-07-01 12:39:20,442 Making a fixed resolution buffer of (('boxlib', 'Psi')) 800 by 800\n",
      "yt : [WARNING  ] 2020-07-01 12:39:20,529 Supplied id_loc but draw_ids is False. Not drawing grid ids\n",
      "yt : [WARNING  ] 2020-07-01 12:39:20,532 Supplied id_loc but draw_ids is False. Not drawing grid ids\n",
      "yt : [WARNING  ] 2020-07-01 12:39:20,535 Supplied id_loc but draw_ids is False. Not drawing grid ids\n",
      "yt : [WARNING  ] 2020-07-01 12:39:20,538 Supplied id_loc but draw_ids is False. Not drawing grid ids\n",
      "yt : [WARNING  ] 2020-07-01 12:39:20,541 Supplied id_loc but draw_ids is False. Not drawing grid ids\n",
      "yt : [WARNING  ] 2020-07-01 12:39:20,543 Supplied id_loc but draw_ids is False. Not drawing grid ids\n",
      "yt : [WARNING  ] 2020-07-01 12:39:20,547 Supplied id_loc but draw_ids is False. Not drawing grid ids\n",
      "yt : [WARNING  ] 2020-07-01 12:39:20,550 Supplied id_loc but draw_ids is False. Not drawing grid ids\n",
      "yt : [WARNING  ] 2020-07-01 12:39:20,552 Supplied id_loc but draw_ids is False. Not drawing grid ids\n",
      "yt : [INFO     ] 2020-07-01 12:39:20,553 Saving plot img00131.png\n"
     ]
    },
    {
     "name": "stdout",
     "output_type": "stream",
     "text": [
      "plt0000131\n",
      "img00131.png\n"
     ]
    },
    {
     "name": "stderr",
     "output_type": "stream",
     "text": [
      "yt : [INFO     ] 2020-07-01 12:39:20,802 Parameters: current_time              = 25.78125\n",
      "yt : [INFO     ] 2020-07-01 12:39:20,802 Parameters: domain_dimensions         = [256 256   1]\n",
      "yt : [INFO     ] 2020-07-01 12:39:20,803 Parameters: domain_left_edge          = [-50. -50.   0.]\n",
      "yt : [INFO     ] 2020-07-01 12:39:20,803 Parameters: domain_right_edge         = [ 50.  50.   1.]\n",
      "yt : [INFO     ] 2020-07-01 12:39:20,915 xlim = -50.000000 50.000000\n",
      "yt : [INFO     ] 2020-07-01 12:39:20,916 ylim = -50.000000 50.000000\n",
      "yt : [INFO     ] 2020-07-01 12:39:20,917 xlim = -50.000000 50.000000\n",
      "yt : [INFO     ] 2020-07-01 12:39:20,917 ylim = -50.000000 50.000000\n",
      "yt : [INFO     ] 2020-07-01 12:39:20,918 Making a fixed resolution buffer of (('boxlib', 'Psi')) 800 by 800\n",
      "yt : [WARNING  ] 2020-07-01 12:39:20,954 Plot image for field ('boxlib', 'Psi') has both positive and negative values. Min = -0.036445, Max = 0.034598.\n",
      "yt : [WARNING  ] 2020-07-01 12:39:20,955 Switching to symlog colorbar scaling unless linear scaling is specified later\n",
      "yt : [INFO     ] 2020-07-01 12:39:21,162 Making a fixed resolution buffer of (('boxlib', 'Psi')) 800 by 800\n",
      "yt : [WARNING  ] 2020-07-01 12:39:21,252 Supplied id_loc but draw_ids is False. Not drawing grid ids\n",
      "yt : [WARNING  ] 2020-07-01 12:39:21,255 Supplied id_loc but draw_ids is False. Not drawing grid ids\n",
      "yt : [WARNING  ] 2020-07-01 12:39:21,258 Supplied id_loc but draw_ids is False. Not drawing grid ids\n",
      "yt : [WARNING  ] 2020-07-01 12:39:21,260 Supplied id_loc but draw_ids is False. Not drawing grid ids\n",
      "yt : [WARNING  ] 2020-07-01 12:39:21,263 Supplied id_loc but draw_ids is False. Not drawing grid ids\n",
      "yt : [WARNING  ] 2020-07-01 12:39:21,266 Supplied id_loc but draw_ids is False. Not drawing grid ids\n",
      "yt : [WARNING  ] 2020-07-01 12:39:21,268 Supplied id_loc but draw_ids is False. Not drawing grid ids\n",
      "yt : [WARNING  ] 2020-07-01 12:39:21,271 Supplied id_loc but draw_ids is False. Not drawing grid ids\n",
      "yt : [WARNING  ] 2020-07-01 12:39:21,274 Supplied id_loc but draw_ids is False. Not drawing grid ids\n",
      "yt : [INFO     ] 2020-07-01 12:39:21,275 Saving plot img00132.png\n"
     ]
    },
    {
     "name": "stdout",
     "output_type": "stream",
     "text": [
      "plt0000132\n",
      "img00132.png\n"
     ]
    },
    {
     "name": "stderr",
     "output_type": "stream",
     "text": [
      "yt : [INFO     ] 2020-07-01 12:39:21,527 Parameters: current_time              = 25.9765625\n",
      "yt : [INFO     ] 2020-07-01 12:39:21,527 Parameters: domain_dimensions         = [256 256   1]\n",
      "yt : [INFO     ] 2020-07-01 12:39:21,528 Parameters: domain_left_edge          = [-50. -50.   0.]\n",
      "yt : [INFO     ] 2020-07-01 12:39:21,528 Parameters: domain_right_edge         = [ 50.  50.   1.]\n",
      "yt : [INFO     ] 2020-07-01 12:39:21,638 xlim = -50.000000 50.000000\n",
      "yt : [INFO     ] 2020-07-01 12:39:21,638 ylim = -50.000000 50.000000\n",
      "yt : [INFO     ] 2020-07-01 12:39:21,639 xlim = -50.000000 50.000000\n",
      "yt : [INFO     ] 2020-07-01 12:39:21,639 ylim = -50.000000 50.000000\n",
      "yt : [INFO     ] 2020-07-01 12:39:21,640 Making a fixed resolution buffer of (('boxlib', 'Psi')) 800 by 800\n",
      "yt : [WARNING  ] 2020-07-01 12:39:21,676 Plot image for field ('boxlib', 'Psi') has both positive and negative values. Min = -0.036544, Max = 0.034203.\n",
      "yt : [WARNING  ] 2020-07-01 12:39:21,677 Switching to symlog colorbar scaling unless linear scaling is specified later\n",
      "yt : [INFO     ] 2020-07-01 12:39:21,766 Making a fixed resolution buffer of (('boxlib', 'Psi')) 800 by 800\n",
      "yt : [WARNING  ] 2020-07-01 12:39:21,853 Supplied id_loc but draw_ids is False. Not drawing grid ids\n",
      "yt : [WARNING  ] 2020-07-01 12:39:21,855 Supplied id_loc but draw_ids is False. Not drawing grid ids\n",
      "yt : [WARNING  ] 2020-07-01 12:39:21,858 Supplied id_loc but draw_ids is False. Not drawing grid ids\n",
      "yt : [WARNING  ] 2020-07-01 12:39:21,861 Supplied id_loc but draw_ids is False. Not drawing grid ids\n",
      "yt : [WARNING  ] 2020-07-01 12:39:21,863 Supplied id_loc but draw_ids is False. Not drawing grid ids\n",
      "yt : [WARNING  ] 2020-07-01 12:39:21,866 Supplied id_loc but draw_ids is False. Not drawing grid ids\n",
      "yt : [WARNING  ] 2020-07-01 12:39:21,868 Supplied id_loc but draw_ids is False. Not drawing grid ids\n",
      "yt : [WARNING  ] 2020-07-01 12:39:21,871 Supplied id_loc but draw_ids is False. Not drawing grid ids\n",
      "yt : [WARNING  ] 2020-07-01 12:39:21,873 Supplied id_loc but draw_ids is False. Not drawing grid ids\n",
      "yt : [INFO     ] 2020-07-01 12:39:21,874 Saving plot img00133.png\n"
     ]
    },
    {
     "name": "stdout",
     "output_type": "stream",
     "text": [
      "plt0000133\n",
      "img00133.png\n"
     ]
    },
    {
     "name": "stderr",
     "output_type": "stream",
     "text": [
      "yt : [INFO     ] 2020-07-01 12:39:22,130 Parameters: current_time              = 26.171875\n",
      "yt : [INFO     ] 2020-07-01 12:39:22,130 Parameters: domain_dimensions         = [256 256   1]\n",
      "yt : [INFO     ] 2020-07-01 12:39:22,131 Parameters: domain_left_edge          = [-50. -50.   0.]\n",
      "yt : [INFO     ] 2020-07-01 12:39:22,131 Parameters: domain_right_edge         = [ 50.  50.   1.]\n",
      "yt : [INFO     ] 2020-07-01 12:39:22,245 xlim = -50.000000 50.000000\n",
      "yt : [INFO     ] 2020-07-01 12:39:22,245 ylim = -50.000000 50.000000\n",
      "yt : [INFO     ] 2020-07-01 12:39:22,247 xlim = -50.000000 50.000000\n",
      "yt : [INFO     ] 2020-07-01 12:39:22,247 ylim = -50.000000 50.000000\n",
      "yt : [INFO     ] 2020-07-01 12:39:22,248 Making a fixed resolution buffer of (('boxlib', 'Psi')) 800 by 800\n",
      "yt : [WARNING  ] 2020-07-01 12:39:22,286 Plot image for field ('boxlib', 'Psi') has both positive and negative values. Min = -0.036099, Max = 0.033825.\n",
      "yt : [WARNING  ] 2020-07-01 12:39:22,287 Switching to symlog colorbar scaling unless linear scaling is specified later\n",
      "yt : [INFO     ] 2020-07-01 12:39:22,375 Making a fixed resolution buffer of (('boxlib', 'Psi')) 800 by 800\n"
     ]
    },
    {
     "name": "stdout",
     "output_type": "stream",
     "text": [
      "plt0000134\n",
      "img00134.png\n"
     ]
    },
    {
     "name": "stderr",
     "output_type": "stream",
     "text": [
      "yt : [WARNING  ] 2020-07-01 12:39:22,592 Supplied id_loc but draw_ids is False. Not drawing grid ids\n",
      "yt : [WARNING  ] 2020-07-01 12:39:22,594 Supplied id_loc but draw_ids is False. Not drawing grid ids\n",
      "yt : [WARNING  ] 2020-07-01 12:39:22,597 Supplied id_loc but draw_ids is False. Not drawing grid ids\n",
      "yt : [WARNING  ] 2020-07-01 12:39:22,600 Supplied id_loc but draw_ids is False. Not drawing grid ids\n",
      "yt : [WARNING  ] 2020-07-01 12:39:22,603 Supplied id_loc but draw_ids is False. Not drawing grid ids\n",
      "yt : [WARNING  ] 2020-07-01 12:39:22,606 Supplied id_loc but draw_ids is False. Not drawing grid ids\n",
      "yt : [WARNING  ] 2020-07-01 12:39:22,608 Supplied id_loc but draw_ids is False. Not drawing grid ids\n",
      "yt : [WARNING  ] 2020-07-01 12:39:22,611 Supplied id_loc but draw_ids is False. Not drawing grid ids\n",
      "yt : [WARNING  ] 2020-07-01 12:39:22,614 Supplied id_loc but draw_ids is False. Not drawing grid ids\n",
      "yt : [INFO     ] 2020-07-01 12:39:22,615 Saving plot img00134.png\n",
      "yt : [INFO     ] 2020-07-01 12:39:22,870 Parameters: current_time              = 26.3671875\n",
      "yt : [INFO     ] 2020-07-01 12:39:22,871 Parameters: domain_dimensions         = [256 256   1]\n",
      "yt : [INFO     ] 2020-07-01 12:39:22,871 Parameters: domain_left_edge          = [-50. -50.   0.]\n",
      "yt : [INFO     ] 2020-07-01 12:39:22,872 Parameters: domain_right_edge         = [ 50.  50.   1.]\n",
      "yt : [INFO     ] 2020-07-01 12:39:22,982 xlim = -50.000000 50.000000\n",
      "yt : [INFO     ] 2020-07-01 12:39:22,982 ylim = -50.000000 50.000000\n",
      "yt : [INFO     ] 2020-07-01 12:39:22,983 xlim = -50.000000 50.000000\n",
      "yt : [INFO     ] 2020-07-01 12:39:22,984 ylim = -50.000000 50.000000\n",
      "yt : [INFO     ] 2020-07-01 12:39:22,984 Making a fixed resolution buffer of (('boxlib', 'Psi')) 800 by 800\n",
      "yt : [WARNING  ] 2020-07-01 12:39:23,020 Plot image for field ('boxlib', 'Psi') has both positive and negative values. Min = -0.035940, Max = 0.033349.\n",
      "yt : [WARNING  ] 2020-07-01 12:39:23,021 Switching to symlog colorbar scaling unless linear scaling is specified later\n",
      "yt : [INFO     ] 2020-07-01 12:39:23,111 Making a fixed resolution buffer of (('boxlib', 'Psi')) 800 by 800\n",
      "yt : [WARNING  ] 2020-07-01 12:39:23,198 Supplied id_loc but draw_ids is False. Not drawing grid ids\n",
      "yt : [WARNING  ] 2020-07-01 12:39:23,201 Supplied id_loc but draw_ids is False. Not drawing grid ids\n",
      "yt : [WARNING  ] 2020-07-01 12:39:23,203 Supplied id_loc but draw_ids is False. Not drawing grid ids\n",
      "yt : [WARNING  ] 2020-07-01 12:39:23,206 Supplied id_loc but draw_ids is False. Not drawing grid ids\n",
      "yt : [WARNING  ] 2020-07-01 12:39:23,209 Supplied id_loc but draw_ids is False. Not drawing grid ids\n",
      "yt : [WARNING  ] 2020-07-01 12:39:23,211 Supplied id_loc but draw_ids is False. Not drawing grid ids\n",
      "yt : [WARNING  ] 2020-07-01 12:39:23,214 Supplied id_loc but draw_ids is False. Not drawing grid ids\n",
      "yt : [WARNING  ] 2020-07-01 12:39:23,216 Supplied id_loc but draw_ids is False. Not drawing grid ids\n",
      "yt : [WARNING  ] 2020-07-01 12:39:23,219 Supplied id_loc but draw_ids is False. Not drawing grid ids\n",
      "yt : [INFO     ] 2020-07-01 12:39:23,219 Saving plot img00135.png\n"
     ]
    },
    {
     "name": "stdout",
     "output_type": "stream",
     "text": [
      "plt0000135\n",
      "img00135.png\n"
     ]
    },
    {
     "name": "stderr",
     "output_type": "stream",
     "text": [
      "yt : [INFO     ] 2020-07-01 12:39:23,473 Parameters: current_time              = 26.5625\n",
      "yt : [INFO     ] 2020-07-01 12:39:23,473 Parameters: domain_dimensions         = [256 256   1]\n",
      "yt : [INFO     ] 2020-07-01 12:39:23,474 Parameters: domain_left_edge          = [-50. -50.   0.]\n",
      "yt : [INFO     ] 2020-07-01 12:39:23,475 Parameters: domain_right_edge         = [ 50.  50.   1.]\n",
      "yt : [INFO     ] 2020-07-01 12:39:23,588 xlim = -50.000000 50.000000\n",
      "yt : [INFO     ] 2020-07-01 12:39:23,589 ylim = -50.000000 50.000000\n",
      "yt : [INFO     ] 2020-07-01 12:39:23,590 xlim = -50.000000 50.000000\n",
      "yt : [INFO     ] 2020-07-01 12:39:23,590 ylim = -50.000000 50.000000\n",
      "yt : [INFO     ] 2020-07-01 12:39:23,591 Making a fixed resolution buffer of (('boxlib', 'Psi')) 800 by 800\n",
      "yt : [WARNING  ] 2020-07-01 12:39:23,627 Plot image for field ('boxlib', 'Psi') has both positive and negative values. Min = -0.035623, Max = 0.032861.\n",
      "yt : [WARNING  ] 2020-07-01 12:39:23,628 Switching to symlog colorbar scaling unless linear scaling is specified later\n",
      "yt : [INFO     ] 2020-07-01 12:39:23,716 Making a fixed resolution buffer of (('boxlib', 'Psi')) 800 by 800\n",
      "yt : [WARNING  ] 2020-07-01 12:39:23,803 Supplied id_loc but draw_ids is False. Not drawing grid ids\n",
      "yt : [WARNING  ] 2020-07-01 12:39:23,806 Supplied id_loc but draw_ids is False. Not drawing grid ids\n",
      "yt : [WARNING  ] 2020-07-01 12:39:23,809 Supplied id_loc but draw_ids is False. Not drawing grid ids\n",
      "yt : [WARNING  ] 2020-07-01 12:39:23,812 Supplied id_loc but draw_ids is False. Not drawing grid ids\n",
      "yt : [WARNING  ] 2020-07-01 12:39:23,814 Supplied id_loc but draw_ids is False. Not drawing grid ids\n",
      "yt : [WARNING  ] 2020-07-01 12:39:23,817 Supplied id_loc but draw_ids is False. Not drawing grid ids\n",
      "yt : [WARNING  ] 2020-07-01 12:39:23,820 Supplied id_loc but draw_ids is False. Not drawing grid ids\n",
      "yt : [WARNING  ] 2020-07-01 12:39:23,824 Supplied id_loc but draw_ids is False. Not drawing grid ids\n",
      "yt : [WARNING  ] 2020-07-01 12:39:23,827 Supplied id_loc but draw_ids is False. Not drawing grid ids\n",
      "yt : [INFO     ] 2020-07-01 12:39:23,827 Saving plot img00136.png\n"
     ]
    },
    {
     "name": "stdout",
     "output_type": "stream",
     "text": [
      "plt0000136\n",
      "img00136.png\n"
     ]
    },
    {
     "name": "stderr",
     "output_type": "stream",
     "text": [
      "yt : [INFO     ] 2020-07-01 12:39:24,082 Parameters: current_time              = 26.7578125\n",
      "yt : [INFO     ] 2020-07-01 12:39:24,083 Parameters: domain_dimensions         = [256 256   1]\n",
      "yt : [INFO     ] 2020-07-01 12:39:24,083 Parameters: domain_left_edge          = [-50. -50.   0.]\n",
      "yt : [INFO     ] 2020-07-01 12:39:24,084 Parameters: domain_right_edge         = [ 50.  50.   1.]\n",
      "yt : [INFO     ] 2020-07-01 12:39:24,319 xlim = -50.000000 50.000000\n",
      "yt : [INFO     ] 2020-07-01 12:39:24,320 ylim = -50.000000 50.000000\n",
      "yt : [INFO     ] 2020-07-01 12:39:24,321 xlim = -50.000000 50.000000\n",
      "yt : [INFO     ] 2020-07-01 12:39:24,321 ylim = -50.000000 50.000000\n",
      "yt : [INFO     ] 2020-07-01 12:39:24,322 Making a fixed resolution buffer of (('boxlib', 'Psi')) 800 by 800\n",
      "yt : [WARNING  ] 2020-07-01 12:39:24,360 Plot image for field ('boxlib', 'Psi') has both positive and negative values. Min = -0.035417, Max = 0.032320.\n",
      "yt : [WARNING  ] 2020-07-01 12:39:24,361 Switching to symlog colorbar scaling unless linear scaling is specified later\n",
      "yt : [INFO     ] 2020-07-01 12:39:24,449 Making a fixed resolution buffer of (('boxlib', 'Psi')) 800 by 800\n",
      "yt : [WARNING  ] 2020-07-01 12:39:24,538 Supplied id_loc but draw_ids is False. Not drawing grid ids\n",
      "yt : [WARNING  ] 2020-07-01 12:39:24,541 Supplied id_loc but draw_ids is False. Not drawing grid ids\n",
      "yt : [WARNING  ] 2020-07-01 12:39:24,544 Supplied id_loc but draw_ids is False. Not drawing grid ids\n",
      "yt : [WARNING  ] 2020-07-01 12:39:24,547 Supplied id_loc but draw_ids is False. Not drawing grid ids\n",
      "yt : [WARNING  ] 2020-07-01 12:39:24,550 Supplied id_loc but draw_ids is False. Not drawing grid ids\n",
      "yt : [WARNING  ] 2020-07-01 12:39:24,553 Supplied id_loc but draw_ids is False. Not drawing grid ids\n",
      "yt : [WARNING  ] 2020-07-01 12:39:24,556 Supplied id_loc but draw_ids is False. Not drawing grid ids\n",
      "yt : [WARNING  ] 2020-07-01 12:39:24,559 Supplied id_loc but draw_ids is False. Not drawing grid ids\n",
      "yt : [WARNING  ] 2020-07-01 12:39:24,562 Supplied id_loc but draw_ids is False. Not drawing grid ids\n",
      "yt : [INFO     ] 2020-07-01 12:39:24,562 Saving plot img00137.png\n"
     ]
    },
    {
     "name": "stdout",
     "output_type": "stream",
     "text": [
      "plt0000137\n",
      "img00137.png\n"
     ]
    },
    {
     "name": "stderr",
     "output_type": "stream",
     "text": [
      "yt : [INFO     ] 2020-07-01 12:39:24,820 Parameters: current_time              = 26.953125\n",
      "yt : [INFO     ] 2020-07-01 12:39:24,820 Parameters: domain_dimensions         = [256 256   1]\n",
      "yt : [INFO     ] 2020-07-01 12:39:24,821 Parameters: domain_left_edge          = [-50. -50.   0.]\n",
      "yt : [INFO     ] 2020-07-01 12:39:24,821 Parameters: domain_right_edge         = [ 50.  50.   1.]\n",
      "yt : [INFO     ] 2020-07-01 12:39:24,934 xlim = -50.000000 50.000000\n",
      "yt : [INFO     ] 2020-07-01 12:39:24,935 ylim = -50.000000 50.000000\n",
      "yt : [INFO     ] 2020-07-01 12:39:24,936 xlim = -50.000000 50.000000\n",
      "yt : [INFO     ] 2020-07-01 12:39:24,936 ylim = -50.000000 50.000000\n",
      "yt : [INFO     ] 2020-07-01 12:39:24,937 Making a fixed resolution buffer of (('boxlib', 'Psi')) 800 by 800\n",
      "yt : [WARNING  ] 2020-07-01 12:39:24,974 Plot image for field ('boxlib', 'Psi') has both positive and negative values. Min = -0.035169, Max = 0.031747.\n",
      "yt : [WARNING  ] 2020-07-01 12:39:24,974 Switching to symlog colorbar scaling unless linear scaling is specified later\n",
      "yt : [INFO     ] 2020-07-01 12:39:25,064 Making a fixed resolution buffer of (('boxlib', 'Psi')) 800 by 800\n",
      "yt : [WARNING  ] 2020-07-01 12:39:25,153 Supplied id_loc but draw_ids is False. Not drawing grid ids\n",
      "yt : [WARNING  ] 2020-07-01 12:39:25,155 Supplied id_loc but draw_ids is False. Not drawing grid ids\n",
      "yt : [WARNING  ] 2020-07-01 12:39:25,158 Supplied id_loc but draw_ids is False. Not drawing grid ids\n",
      "yt : [WARNING  ] 2020-07-01 12:39:25,161 Supplied id_loc but draw_ids is False. Not drawing grid ids\n",
      "yt : [WARNING  ] 2020-07-01 12:39:25,164 Supplied id_loc but draw_ids is False. Not drawing grid ids\n",
      "yt : [WARNING  ] 2020-07-01 12:39:25,167 Supplied id_loc but draw_ids is False. Not drawing grid ids\n",
      "yt : [WARNING  ] 2020-07-01 12:39:25,169 Supplied id_loc but draw_ids is False. Not drawing grid ids\n",
      "yt : [WARNING  ] 2020-07-01 12:39:25,172 Supplied id_loc but draw_ids is False. Not drawing grid ids\n",
      "yt : [WARNING  ] 2020-07-01 12:39:25,175 Supplied id_loc but draw_ids is False. Not drawing grid ids\n",
      "yt : [INFO     ] 2020-07-01 12:39:25,175 Saving plot img00138.png\n"
     ]
    },
    {
     "name": "stdout",
     "output_type": "stream",
     "text": [
      "plt0000138\n",
      "img00138.png\n"
     ]
    },
    {
     "name": "stderr",
     "output_type": "stream",
     "text": [
      "yt : [INFO     ] 2020-07-01 12:39:25,429 Parameters: current_time              = 27.1484375\n",
      "yt : [INFO     ] 2020-07-01 12:39:25,429 Parameters: domain_dimensions         = [256 256   1]\n",
      "yt : [INFO     ] 2020-07-01 12:39:25,430 Parameters: domain_left_edge          = [-50. -50.   0.]\n",
      "yt : [INFO     ] 2020-07-01 12:39:25,431 Parameters: domain_right_edge         = [ 50.  50.   1.]\n",
      "yt : [INFO     ] 2020-07-01 12:39:25,547 xlim = -50.000000 50.000000\n",
      "yt : [INFO     ] 2020-07-01 12:39:25,548 ylim = -50.000000 50.000000\n",
      "yt : [INFO     ] 2020-07-01 12:39:25,549 xlim = -50.000000 50.000000\n",
      "yt : [INFO     ] 2020-07-01 12:39:25,549 ylim = -50.000000 50.000000\n",
      "yt : [INFO     ] 2020-07-01 12:39:25,550 Making a fixed resolution buffer of (('boxlib', 'Psi')) 800 by 800\n",
      "yt : [WARNING  ] 2020-07-01 12:39:25,588 Plot image for field ('boxlib', 'Psi') has both positive and negative values. Min = -0.035002, Max = 0.031426.\n",
      "yt : [WARNING  ] 2020-07-01 12:39:25,588 Switching to symlog colorbar scaling unless linear scaling is specified later\n",
      "yt : [INFO     ] 2020-07-01 12:39:25,796 Making a fixed resolution buffer of (('boxlib', 'Psi')) 800 by 800\n",
      "yt : [WARNING  ] 2020-07-01 12:39:25,886 Supplied id_loc but draw_ids is False. Not drawing grid ids\n",
      "yt : [WARNING  ] 2020-07-01 12:39:25,889 Supplied id_loc but draw_ids is False. Not drawing grid ids\n",
      "yt : [WARNING  ] 2020-07-01 12:39:25,892 Supplied id_loc but draw_ids is False. Not drawing grid ids\n",
      "yt : [WARNING  ] 2020-07-01 12:39:25,895 Supplied id_loc but draw_ids is False. Not drawing grid ids\n",
      "yt : [WARNING  ] 2020-07-01 12:39:25,898 Supplied id_loc but draw_ids is False. Not drawing grid ids\n",
      "yt : [WARNING  ] 2020-07-01 12:39:25,901 Supplied id_loc but draw_ids is False. Not drawing grid ids\n",
      "yt : [WARNING  ] 2020-07-01 12:39:25,904 Supplied id_loc but draw_ids is False. Not drawing grid ids\n",
      "yt : [WARNING  ] 2020-07-01 12:39:25,907 Supplied id_loc but draw_ids is False. Not drawing grid ids\n",
      "yt : [WARNING  ] 2020-07-01 12:39:25,910 Supplied id_loc but draw_ids is False. Not drawing grid ids\n",
      "yt : [INFO     ] 2020-07-01 12:39:25,910 Saving plot img00139.png\n"
     ]
    },
    {
     "name": "stdout",
     "output_type": "stream",
     "text": [
      "plt0000139\n",
      "img00139.png\n"
     ]
    },
    {
     "name": "stderr",
     "output_type": "stream",
     "text": [
      "yt : [INFO     ] 2020-07-01 12:39:26,164 Parameters: current_time              = 27.34375\n",
      "yt : [INFO     ] 2020-07-01 12:39:26,165 Parameters: domain_dimensions         = [256 256   1]\n",
      "yt : [INFO     ] 2020-07-01 12:39:26,166 Parameters: domain_left_edge          = [-50. -50.   0.]\n",
      "yt : [INFO     ] 2020-07-01 12:39:26,166 Parameters: domain_right_edge         = [ 50.  50.   1.]\n",
      "yt : [INFO     ] 2020-07-01 12:39:26,282 xlim = -50.000000 50.000000\n",
      "yt : [INFO     ] 2020-07-01 12:39:26,282 ylim = -50.000000 50.000000\n",
      "yt : [INFO     ] 2020-07-01 12:39:26,284 xlim = -50.000000 50.000000\n",
      "yt : [INFO     ] 2020-07-01 12:39:26,284 ylim = -50.000000 50.000000\n",
      "yt : [INFO     ] 2020-07-01 12:39:26,285 Making a fixed resolution buffer of (('boxlib', 'Psi')) 800 by 800\n",
      "yt : [WARNING  ] 2020-07-01 12:39:26,322 Plot image for field ('boxlib', 'Psi') has both positive and negative values. Min = -0.035013, Max = 0.031372.\n",
      "yt : [WARNING  ] 2020-07-01 12:39:26,323 Switching to symlog colorbar scaling unless linear scaling is specified later\n",
      "yt : [INFO     ] 2020-07-01 12:39:26,412 Making a fixed resolution buffer of (('boxlib', 'Psi')) 800 by 800\n",
      "yt : [WARNING  ] 2020-07-01 12:39:26,500 Supplied id_loc but draw_ids is False. Not drawing grid ids\n",
      "yt : [WARNING  ] 2020-07-01 12:39:26,503 Supplied id_loc but draw_ids is False. Not drawing grid ids\n",
      "yt : [WARNING  ] 2020-07-01 12:39:26,506 Supplied id_loc but draw_ids is False. Not drawing grid ids\n",
      "yt : [WARNING  ] 2020-07-01 12:39:26,509 Supplied id_loc but draw_ids is False. Not drawing grid ids\n",
      "yt : [WARNING  ] 2020-07-01 12:39:26,511 Supplied id_loc but draw_ids is False. Not drawing grid ids\n",
      "yt : [WARNING  ] 2020-07-01 12:39:26,514 Supplied id_loc but draw_ids is False. Not drawing grid ids\n",
      "yt : [WARNING  ] 2020-07-01 12:39:26,517 Supplied id_loc but draw_ids is False. Not drawing grid ids\n",
      "yt : [WARNING  ] 2020-07-01 12:39:26,520 Supplied id_loc but draw_ids is False. Not drawing grid ids\n",
      "yt : [WARNING  ] 2020-07-01 12:39:26,523 Supplied id_loc but draw_ids is False. Not drawing grid ids\n",
      "yt : [INFO     ] 2020-07-01 12:39:26,523 Saving plot img00140.png\n"
     ]
    },
    {
     "name": "stdout",
     "output_type": "stream",
     "text": [
      "plt0000140\n",
      "img00140.png\n"
     ]
    },
    {
     "name": "stderr",
     "output_type": "stream",
     "text": [
      "yt : [INFO     ] 2020-07-01 12:39:26,781 Parameters: current_time              = 27.5390625\n",
      "yt : [INFO     ] 2020-07-01 12:39:26,782 Parameters: domain_dimensions         = [256 256   1]\n",
      "yt : [INFO     ] 2020-07-01 12:39:26,782 Parameters: domain_left_edge          = [-50. -50.   0.]\n",
      "yt : [INFO     ] 2020-07-01 12:39:26,783 Parameters: domain_right_edge         = [ 50.  50.   1.]\n",
      "yt : [INFO     ] 2020-07-01 12:39:26,899 xlim = -50.000000 50.000000\n",
      "yt : [INFO     ] 2020-07-01 12:39:26,900 ylim = -50.000000 50.000000\n",
      "yt : [INFO     ] 2020-07-01 12:39:26,901 xlim = -50.000000 50.000000\n",
      "yt : [INFO     ] 2020-07-01 12:39:26,901 ylim = -50.000000 50.000000\n",
      "yt : [INFO     ] 2020-07-01 12:39:26,902 Making a fixed resolution buffer of (('boxlib', 'Psi')) 800 by 800\n",
      "yt : [WARNING  ] 2020-07-01 12:39:26,943 Plot image for field ('boxlib', 'Psi') has both positive and negative values. Min = -0.034890, Max = 0.031455.\n",
      "yt : [WARNING  ] 2020-07-01 12:39:26,944 Switching to symlog colorbar scaling unless linear scaling is specified later\n",
      "yt : [INFO     ] 2020-07-01 12:39:27,157 Making a fixed resolution buffer of (('boxlib', 'Psi')) 800 by 800\n",
      "yt : [WARNING  ] 2020-07-01 12:39:27,247 Supplied id_loc but draw_ids is False. Not drawing grid ids\n",
      "yt : [WARNING  ] 2020-07-01 12:39:27,250 Supplied id_loc but draw_ids is False. Not drawing grid ids\n",
      "yt : [WARNING  ] 2020-07-01 12:39:27,253 Supplied id_loc but draw_ids is False. Not drawing grid ids\n",
      "yt : [WARNING  ] 2020-07-01 12:39:27,256 Supplied id_loc but draw_ids is False. Not drawing grid ids\n",
      "yt : [WARNING  ] 2020-07-01 12:39:27,259 Supplied id_loc but draw_ids is False. Not drawing grid ids\n",
      "yt : [WARNING  ] 2020-07-01 12:39:27,262 Supplied id_loc but draw_ids is False. Not drawing grid ids\n",
      "yt : [WARNING  ] 2020-07-01 12:39:27,265 Supplied id_loc but draw_ids is False. Not drawing grid ids\n",
      "yt : [WARNING  ] 2020-07-01 12:39:27,268 Supplied id_loc but draw_ids is False. Not drawing grid ids\n",
      "yt : [WARNING  ] 2020-07-01 12:39:27,271 Supplied id_loc but draw_ids is False. Not drawing grid ids\n",
      "yt : [INFO     ] 2020-07-01 12:39:27,272 Saving plot img00141.png\n"
     ]
    },
    {
     "name": "stdout",
     "output_type": "stream",
     "text": [
      "plt0000141\n",
      "img00141.png\n"
     ]
    },
    {
     "name": "stderr",
     "output_type": "stream",
     "text": [
      "yt : [INFO     ] 2020-07-01 12:39:27,524 Parameters: current_time              = 27.734375\n",
      "yt : [INFO     ] 2020-07-01 12:39:27,525 Parameters: domain_dimensions         = [256 256   1]\n",
      "yt : [INFO     ] 2020-07-01 12:39:27,525 Parameters: domain_left_edge          = [-50. -50.   0.]\n",
      "yt : [INFO     ] 2020-07-01 12:39:27,526 Parameters: domain_right_edge         = [ 50.  50.   1.]\n",
      "yt : [INFO     ] 2020-07-01 12:39:27,641 xlim = -50.000000 50.000000\n",
      "yt : [INFO     ] 2020-07-01 12:39:27,642 ylim = -50.000000 50.000000\n",
      "yt : [INFO     ] 2020-07-01 12:39:27,643 xlim = -50.000000 50.000000\n",
      "yt : [INFO     ] 2020-07-01 12:39:27,643 ylim = -50.000000 50.000000\n",
      "yt : [INFO     ] 2020-07-01 12:39:27,644 Making a fixed resolution buffer of (('boxlib', 'Psi')) 800 by 800\n",
      "yt : [WARNING  ] 2020-07-01 12:39:27,681 Plot image for field ('boxlib', 'Psi') has both positive and negative values. Min = -0.034540, Max = 0.031400.\n",
      "yt : [WARNING  ] 2020-07-01 12:39:27,682 Switching to symlog colorbar scaling unless linear scaling is specified later\n",
      "yt : [INFO     ] 2020-07-01 12:39:27,770 Making a fixed resolution buffer of (('boxlib', 'Psi')) 800 by 800\n",
      "yt : [WARNING  ] 2020-07-01 12:39:27,857 Supplied id_loc but draw_ids is False. Not drawing grid ids\n",
      "yt : [WARNING  ] 2020-07-01 12:39:27,860 Supplied id_loc but draw_ids is False. Not drawing grid ids\n",
      "yt : [WARNING  ] 2020-07-01 12:39:27,863 Supplied id_loc but draw_ids is False. Not drawing grid ids\n",
      "yt : [WARNING  ] 2020-07-01 12:39:27,866 Supplied id_loc but draw_ids is False. Not drawing grid ids\n",
      "yt : [WARNING  ] 2020-07-01 12:39:27,868 Supplied id_loc but draw_ids is False. Not drawing grid ids\n",
      "yt : [WARNING  ] 2020-07-01 12:39:27,871 Supplied id_loc but draw_ids is False. Not drawing grid ids\n",
      "yt : [WARNING  ] 2020-07-01 12:39:27,874 Supplied id_loc but draw_ids is False. Not drawing grid ids\n",
      "yt : [WARNING  ] 2020-07-01 12:39:27,876 Supplied id_loc but draw_ids is False. Not drawing grid ids\n",
      "yt : [WARNING  ] 2020-07-01 12:39:27,879 Supplied id_loc but draw_ids is False. Not drawing grid ids\n",
      "yt : [INFO     ] 2020-07-01 12:39:27,880 Saving plot img00142.png\n"
     ]
    },
    {
     "name": "stdout",
     "output_type": "stream",
     "text": [
      "plt0000142\n",
      "img00142.png\n"
     ]
    },
    {
     "name": "stderr",
     "output_type": "stream",
     "text": [
      "yt : [INFO     ] 2020-07-01 12:39:28,127 Parameters: current_time              = 27.9296875\n",
      "yt : [INFO     ] 2020-07-01 12:39:28,128 Parameters: domain_dimensions         = [256 256   1]\n",
      "yt : [INFO     ] 2020-07-01 12:39:28,128 Parameters: domain_left_edge          = [-50. -50.   0.]\n",
      "yt : [INFO     ] 2020-07-01 12:39:28,129 Parameters: domain_right_edge         = [ 50.  50.   1.]\n",
      "yt : [INFO     ] 2020-07-01 12:39:28,245 xlim = -50.000000 50.000000\n",
      "yt : [INFO     ] 2020-07-01 12:39:28,245 ylim = -50.000000 50.000000\n",
      "yt : [INFO     ] 2020-07-01 12:39:28,246 xlim = -50.000000 50.000000\n",
      "yt : [INFO     ] 2020-07-01 12:39:28,246 ylim = -50.000000 50.000000\n",
      "yt : [INFO     ] 2020-07-01 12:39:28,247 Making a fixed resolution buffer of (('boxlib', 'Psi')) 800 by 800\n",
      "yt : [WARNING  ] 2020-07-01 12:39:28,284 Plot image for field ('boxlib', 'Psi') has both positive and negative values. Min = -0.034371, Max = 0.031413.\n",
      "yt : [WARNING  ] 2020-07-01 12:39:28,285 Switching to symlog colorbar scaling unless linear scaling is specified later\n",
      "yt : [INFO     ] 2020-07-01 12:39:28,496 Making a fixed resolution buffer of (('boxlib', 'Psi')) 800 by 800\n",
      "yt : [WARNING  ] 2020-07-01 12:39:28,587 Supplied id_loc but draw_ids is False. Not drawing grid ids\n",
      "yt : [WARNING  ] 2020-07-01 12:39:28,590 Supplied id_loc but draw_ids is False. Not drawing grid ids\n",
      "yt : [WARNING  ] 2020-07-01 12:39:28,593 Supplied id_loc but draw_ids is False. Not drawing grid ids\n",
      "yt : [WARNING  ] 2020-07-01 12:39:28,596 Supplied id_loc but draw_ids is False. Not drawing grid ids\n",
      "yt : [WARNING  ] 2020-07-01 12:39:28,599 Supplied id_loc but draw_ids is False. Not drawing grid ids\n",
      "yt : [WARNING  ] 2020-07-01 12:39:28,602 Supplied id_loc but draw_ids is False. Not drawing grid ids\n",
      "yt : [WARNING  ] 2020-07-01 12:39:28,605 Supplied id_loc but draw_ids is False. Not drawing grid ids\n",
      "yt : [WARNING  ] 2020-07-01 12:39:28,608 Supplied id_loc but draw_ids is False. Not drawing grid ids\n",
      "yt : [WARNING  ] 2020-07-01 12:39:28,611 Supplied id_loc but draw_ids is False. Not drawing grid ids\n",
      "yt : [INFO     ] 2020-07-01 12:39:28,612 Saving plot img00143.png\n"
     ]
    },
    {
     "name": "stdout",
     "output_type": "stream",
     "text": [
      "plt0000143\n",
      "img00143.png\n"
     ]
    },
    {
     "name": "stderr",
     "output_type": "stream",
     "text": [
      "yt : [INFO     ] 2020-07-01 12:39:28,859 Parameters: current_time              = 28.125\n",
      "yt : [INFO     ] 2020-07-01 12:39:28,860 Parameters: domain_dimensions         = [256 256   1]\n",
      "yt : [INFO     ] 2020-07-01 12:39:28,861 Parameters: domain_left_edge          = [-50. -50.   0.]\n",
      "yt : [INFO     ] 2020-07-01 12:39:28,861 Parameters: domain_right_edge         = [ 50.  50.   1.]\n",
      "yt : [INFO     ] 2020-07-01 12:39:28,980 xlim = -50.000000 50.000000\n",
      "yt : [INFO     ] 2020-07-01 12:39:28,981 ylim = -50.000000 50.000000\n",
      "yt : [INFO     ] 2020-07-01 12:39:28,982 xlim = -50.000000 50.000000\n",
      "yt : [INFO     ] 2020-07-01 12:39:28,982 ylim = -50.000000 50.000000\n",
      "yt : [INFO     ] 2020-07-01 12:39:28,983 Making a fixed resolution buffer of (('boxlib', 'Psi')) 800 by 800\n",
      "yt : [WARNING  ] 2020-07-01 12:39:29,021 Plot image for field ('boxlib', 'Psi') has both positive and negative values. Min = -0.034035, Max = 0.031287.\n",
      "yt : [WARNING  ] 2020-07-01 12:39:29,021 Switching to symlog colorbar scaling unless linear scaling is specified later\n",
      "yt : [INFO     ] 2020-07-01 12:39:29,111 Making a fixed resolution buffer of (('boxlib', 'Psi')) 800 by 800\n",
      "yt : [WARNING  ] 2020-07-01 12:39:29,200 Supplied id_loc but draw_ids is False. Not drawing grid ids\n",
      "yt : [WARNING  ] 2020-07-01 12:39:29,203 Supplied id_loc but draw_ids is False. Not drawing grid ids\n",
      "yt : [WARNING  ] 2020-07-01 12:39:29,206 Supplied id_loc but draw_ids is False. Not drawing grid ids\n",
      "yt : [WARNING  ] 2020-07-01 12:39:29,209 Supplied id_loc but draw_ids is False. Not drawing grid ids\n",
      "yt : [WARNING  ] 2020-07-01 12:39:29,212 Supplied id_loc but draw_ids is False. Not drawing grid ids\n",
      "yt : [WARNING  ] 2020-07-01 12:39:29,215 Supplied id_loc but draw_ids is False. Not drawing grid ids\n",
      "yt : [WARNING  ] 2020-07-01 12:39:29,219 Supplied id_loc but draw_ids is False. Not drawing grid ids\n",
      "yt : [WARNING  ] 2020-07-01 12:39:29,222 Supplied id_loc but draw_ids is False. Not drawing grid ids\n",
      "yt : [WARNING  ] 2020-07-01 12:39:29,225 Supplied id_loc but draw_ids is False. Not drawing grid ids\n",
      "yt : [INFO     ] 2020-07-01 12:39:29,225 Saving plot img00144.png\n"
     ]
    },
    {
     "name": "stdout",
     "output_type": "stream",
     "text": [
      "plt0000144\n",
      "img00144.png\n"
     ]
    },
    {
     "name": "stderr",
     "output_type": "stream",
     "text": [
      "yt : [INFO     ] 2020-07-01 12:39:29,472 Parameters: current_time              = 28.3203125\n",
      "yt : [INFO     ] 2020-07-01 12:39:29,472 Parameters: domain_dimensions         = [256 256   1]\n",
      "yt : [INFO     ] 2020-07-01 12:39:29,473 Parameters: domain_left_edge          = [-50. -50.   0.]\n",
      "yt : [INFO     ] 2020-07-01 12:39:29,474 Parameters: domain_right_edge         = [ 50.  50.   1.]\n",
      "yt : [INFO     ] 2020-07-01 12:39:29,589 xlim = -50.000000 50.000000\n",
      "yt : [INFO     ] 2020-07-01 12:39:29,590 ylim = -50.000000 50.000000\n",
      "yt : [INFO     ] 2020-07-01 12:39:29,591 xlim = -50.000000 50.000000\n",
      "yt : [INFO     ] 2020-07-01 12:39:29,591 ylim = -50.000000 50.000000\n",
      "yt : [INFO     ] 2020-07-01 12:39:29,592 Making a fixed resolution buffer of (('boxlib', 'Psi')) 800 by 800\n",
      "yt : [WARNING  ] 2020-07-01 12:39:29,629 Plot image for field ('boxlib', 'Psi') has both positive and negative values. Min = -0.033730, Max = 0.031061.\n",
      "yt : [WARNING  ] 2020-07-01 12:39:29,630 Switching to symlog colorbar scaling unless linear scaling is specified later\n",
      "yt : [INFO     ] 2020-07-01 12:39:29,717 Making a fixed resolution buffer of (('boxlib', 'Psi')) 800 by 800\n"
     ]
    },
    {
     "name": "stdout",
     "output_type": "stream",
     "text": [
      "plt0000145\n",
      "img00145.png\n"
     ]
    },
    {
     "name": "stderr",
     "output_type": "stream",
     "text": [
      "yt : [WARNING  ] 2020-07-01 12:39:29,937 Supplied id_loc but draw_ids is False. Not drawing grid ids\n",
      "yt : [WARNING  ] 2020-07-01 12:39:29,940 Supplied id_loc but draw_ids is False. Not drawing grid ids\n",
      "yt : [WARNING  ] 2020-07-01 12:39:29,943 Supplied id_loc but draw_ids is False. Not drawing grid ids\n",
      "yt : [WARNING  ] 2020-07-01 12:39:29,946 Supplied id_loc but draw_ids is False. Not drawing grid ids\n",
      "yt : [WARNING  ] 2020-07-01 12:39:29,949 Supplied id_loc but draw_ids is False. Not drawing grid ids\n",
      "yt : [WARNING  ] 2020-07-01 12:39:29,952 Supplied id_loc but draw_ids is False. Not drawing grid ids\n",
      "yt : [WARNING  ] 2020-07-01 12:39:29,955 Supplied id_loc but draw_ids is False. Not drawing grid ids\n",
      "yt : [WARNING  ] 2020-07-01 12:39:29,958 Supplied id_loc but draw_ids is False. Not drawing grid ids\n",
      "yt : [WARNING  ] 2020-07-01 12:39:29,961 Supplied id_loc but draw_ids is False. Not drawing grid ids\n",
      "yt : [INFO     ] 2020-07-01 12:39:29,961 Saving plot img00145.png\n",
      "yt : [INFO     ] 2020-07-01 12:39:30,209 Parameters: current_time              = 28.515625\n",
      "yt : [INFO     ] 2020-07-01 12:39:30,210 Parameters: domain_dimensions         = [256 256   1]\n",
      "yt : [INFO     ] 2020-07-01 12:39:30,210 Parameters: domain_left_edge          = [-50. -50.   0.]\n",
      "yt : [INFO     ] 2020-07-01 12:39:30,211 Parameters: domain_right_edge         = [ 50.  50.   1.]\n",
      "yt : [INFO     ] 2020-07-01 12:39:30,327 xlim = -50.000000 50.000000\n",
      "yt : [INFO     ] 2020-07-01 12:39:30,328 ylim = -50.000000 50.000000\n",
      "yt : [INFO     ] 2020-07-01 12:39:30,329 xlim = -50.000000 50.000000\n",
      "yt : [INFO     ] 2020-07-01 12:39:30,329 ylim = -50.000000 50.000000\n",
      "yt : [INFO     ] 2020-07-01 12:39:30,330 Making a fixed resolution buffer of (('boxlib', 'Psi')) 800 by 800\n",
      "yt : [WARNING  ] 2020-07-01 12:39:30,367 Plot image for field ('boxlib', 'Psi') has both positive and negative values. Min = -0.033634, Max = 0.031120.\n",
      "yt : [WARNING  ] 2020-07-01 12:39:30,368 Switching to symlog colorbar scaling unless linear scaling is specified later\n",
      "yt : [INFO     ] 2020-07-01 12:39:30,456 Making a fixed resolution buffer of (('boxlib', 'Psi')) 800 by 800\n",
      "yt : [WARNING  ] 2020-07-01 12:39:30,543 Supplied id_loc but draw_ids is False. Not drawing grid ids\n",
      "yt : [WARNING  ] 2020-07-01 12:39:30,546 Supplied id_loc but draw_ids is False. Not drawing grid ids\n",
      "yt : [WARNING  ] 2020-07-01 12:39:30,549 Supplied id_loc but draw_ids is False. Not drawing grid ids\n",
      "yt : [WARNING  ] 2020-07-01 12:39:30,552 Supplied id_loc but draw_ids is False. Not drawing grid ids\n",
      "yt : [WARNING  ] 2020-07-01 12:39:30,555 Supplied id_loc but draw_ids is False. Not drawing grid ids\n",
      "yt : [WARNING  ] 2020-07-01 12:39:30,558 Supplied id_loc but draw_ids is False. Not drawing grid ids\n",
      "yt : [WARNING  ] 2020-07-01 12:39:30,560 Supplied id_loc but draw_ids is False. Not drawing grid ids\n",
      "yt : [WARNING  ] 2020-07-01 12:39:30,563 Supplied id_loc but draw_ids is False. Not drawing grid ids\n",
      "yt : [WARNING  ] 2020-07-01 12:39:30,566 Supplied id_loc but draw_ids is False. Not drawing grid ids\n",
      "yt : [INFO     ] 2020-07-01 12:39:30,567 Saving plot img00146.png\n"
     ]
    },
    {
     "name": "stdout",
     "output_type": "stream",
     "text": [
      "plt0000146\n",
      "img00146.png\n"
     ]
    },
    {
     "name": "stderr",
     "output_type": "stream",
     "text": [
      "yt : [INFO     ] 2020-07-01 12:39:30,814 Parameters: current_time              = 28.7109375\n",
      "yt : [INFO     ] 2020-07-01 12:39:30,814 Parameters: domain_dimensions         = [256 256   1]\n",
      "yt : [INFO     ] 2020-07-01 12:39:30,815 Parameters: domain_left_edge          = [-50. -50.   0.]\n",
      "yt : [INFO     ] 2020-07-01 12:39:30,815 Parameters: domain_right_edge         = [ 50.  50.   1.]\n",
      "yt : [INFO     ] 2020-07-01 12:39:30,935 xlim = -50.000000 50.000000\n",
      "yt : [INFO     ] 2020-07-01 12:39:30,936 ylim = -50.000000 50.000000\n",
      "yt : [INFO     ] 2020-07-01 12:39:30,937 xlim = -50.000000 50.000000\n",
      "yt : [INFO     ] 2020-07-01 12:39:30,937 ylim = -50.000000 50.000000\n",
      "yt : [INFO     ] 2020-07-01 12:39:30,938 Making a fixed resolution buffer of (('boxlib', 'Psi')) 800 by 800\n",
      "yt : [WARNING  ] 2020-07-01 12:39:30,976 Plot image for field ('boxlib', 'Psi') has both positive and negative values. Min = -0.033383, Max = 0.031136.\n",
      "yt : [WARNING  ] 2020-07-01 12:39:30,977 Switching to symlog colorbar scaling unless linear scaling is specified later\n",
      "yt : [INFO     ] 2020-07-01 12:39:31,064 Making a fixed resolution buffer of (('boxlib', 'Psi')) 800 by 800\n",
      "yt : [WARNING  ] 2020-07-01 12:39:31,151 Supplied id_loc but draw_ids is False. Not drawing grid ids\n",
      "yt : [WARNING  ] 2020-07-01 12:39:31,154 Supplied id_loc but draw_ids is False. Not drawing grid ids\n",
      "yt : [WARNING  ] 2020-07-01 12:39:31,158 Supplied id_loc but draw_ids is False. Not drawing grid ids\n",
      "yt : [WARNING  ] 2020-07-01 12:39:31,161 Supplied id_loc but draw_ids is False. Not drawing grid ids\n",
      "yt : [WARNING  ] 2020-07-01 12:39:31,164 Supplied id_loc but draw_ids is False. Not drawing grid ids\n",
      "yt : [WARNING  ] 2020-07-01 12:39:31,167 Supplied id_loc but draw_ids is False. Not drawing grid ids\n",
      "yt : [WARNING  ] 2020-07-01 12:39:31,170 Supplied id_loc but draw_ids is False. Not drawing grid ids\n",
      "yt : [WARNING  ] 2020-07-01 12:39:31,173 Supplied id_loc but draw_ids is False. Not drawing grid ids\n",
      "yt : [WARNING  ] 2020-07-01 12:39:31,177 Supplied id_loc but draw_ids is False. Not drawing grid ids\n",
      "yt : [INFO     ] 2020-07-01 12:39:31,177 Saving plot img00147.png\n"
     ]
    },
    {
     "name": "stdout",
     "output_type": "stream",
     "text": [
      "plt0000147\n",
      "img00147.png\n"
     ]
    },
    {
     "name": "stderr",
     "output_type": "stream",
     "text": [
      "yt : [INFO     ] 2020-07-01 12:39:31,530 Parameters: current_time              = 28.90625\n",
      "yt : [INFO     ] 2020-07-01 12:39:31,531 Parameters: domain_dimensions         = [256 256   1]\n",
      "yt : [INFO     ] 2020-07-01 12:39:31,531 Parameters: domain_left_edge          = [-50. -50.   0.]\n",
      "yt : [INFO     ] 2020-07-01 12:39:31,532 Parameters: domain_right_edge         = [ 50.  50.   1.]\n",
      "yt : [INFO     ] 2020-07-01 12:39:31,652 xlim = -50.000000 50.000000\n",
      "yt : [INFO     ] 2020-07-01 12:39:31,652 ylim = -50.000000 50.000000\n",
      "yt : [INFO     ] 2020-07-01 12:39:31,653 xlim = -50.000000 50.000000\n",
      "yt : [INFO     ] 2020-07-01 12:39:31,654 ylim = -50.000000 50.000000\n",
      "yt : [INFO     ] 2020-07-01 12:39:31,655 Making a fixed resolution buffer of (('boxlib', 'Psi')) 800 by 800\n",
      "yt : [WARNING  ] 2020-07-01 12:39:31,692 Plot image for field ('boxlib', 'Psi') has both positive and negative values. Min = -0.033183, Max = 0.031072.\n",
      "yt : [WARNING  ] 2020-07-01 12:39:31,693 Switching to symlog colorbar scaling unless linear scaling is specified later\n",
      "yt : [INFO     ] 2020-07-01 12:39:31,782 Making a fixed resolution buffer of (('boxlib', 'Psi')) 800 by 800\n",
      "yt : [WARNING  ] 2020-07-01 12:39:31,871 Supplied id_loc but draw_ids is False. Not drawing grid ids\n",
      "yt : [WARNING  ] 2020-07-01 12:39:31,874 Supplied id_loc but draw_ids is False. Not drawing grid ids\n",
      "yt : [WARNING  ] 2020-07-01 12:39:31,878 Supplied id_loc but draw_ids is False. Not drawing grid ids\n",
      "yt : [WARNING  ] 2020-07-01 12:39:31,881 Supplied id_loc but draw_ids is False. Not drawing grid ids\n",
      "yt : [WARNING  ] 2020-07-01 12:39:31,884 Supplied id_loc but draw_ids is False. Not drawing grid ids\n",
      "yt : [WARNING  ] 2020-07-01 12:39:31,887 Supplied id_loc but draw_ids is False. Not drawing grid ids\n",
      "yt : [WARNING  ] 2020-07-01 12:39:31,890 Supplied id_loc but draw_ids is False. Not drawing grid ids\n",
      "yt : [WARNING  ] 2020-07-01 12:39:31,893 Supplied id_loc but draw_ids is False. Not drawing grid ids\n",
      "yt : [WARNING  ] 2020-07-01 12:39:31,896 Supplied id_loc but draw_ids is False. Not drawing grid ids\n",
      "yt : [INFO     ] 2020-07-01 12:39:31,897 Saving plot img00148.png\n"
     ]
    },
    {
     "name": "stdout",
     "output_type": "stream",
     "text": [
      "plt0000148\n",
      "img00148.png\n"
     ]
    },
    {
     "name": "stderr",
     "output_type": "stream",
     "text": [
      "yt : [INFO     ] 2020-07-01 12:39:32,145 Parameters: current_time              = 29.1015625\n",
      "yt : [INFO     ] 2020-07-01 12:39:32,145 Parameters: domain_dimensions         = [256 256   1]\n",
      "yt : [INFO     ] 2020-07-01 12:39:32,146 Parameters: domain_left_edge          = [-50. -50.   0.]\n",
      "yt : [INFO     ] 2020-07-01 12:39:32,147 Parameters: domain_right_edge         = [ 50.  50.   1.]\n",
      "yt : [INFO     ] 2020-07-01 12:39:32,268 xlim = -50.000000 50.000000\n",
      "yt : [INFO     ] 2020-07-01 12:39:32,269 ylim = -50.000000 50.000000\n",
      "yt : [INFO     ] 2020-07-01 12:39:32,271 xlim = -50.000000 50.000000\n",
      "yt : [INFO     ] 2020-07-01 12:39:32,271 ylim = -50.000000 50.000000\n",
      "yt : [INFO     ] 2020-07-01 12:39:32,272 Making a fixed resolution buffer of (('boxlib', 'Psi')) 800 by 800\n",
      "yt : [WARNING  ] 2020-07-01 12:39:32,311 Plot image for field ('boxlib', 'Psi') has both positive and negative values. Min = -0.032993, Max = 0.031056.\n",
      "yt : [WARNING  ] 2020-07-01 12:39:32,312 Switching to symlog colorbar scaling unless linear scaling is specified later\n",
      "yt : [INFO     ] 2020-07-01 12:39:32,400 Making a fixed resolution buffer of (('boxlib', 'Psi')) 800 by 800\n",
      "yt : [WARNING  ] 2020-07-01 12:39:32,489 Supplied id_loc but draw_ids is False. Not drawing grid ids\n",
      "yt : [WARNING  ] 2020-07-01 12:39:32,493 Supplied id_loc but draw_ids is False. Not drawing grid ids\n",
      "yt : [WARNING  ] 2020-07-01 12:39:32,496 Supplied id_loc but draw_ids is False. Not drawing grid ids\n",
      "yt : [WARNING  ] 2020-07-01 12:39:32,500 Supplied id_loc but draw_ids is False. Not drawing grid ids\n",
      "yt : [WARNING  ] 2020-07-01 12:39:32,503 Supplied id_loc but draw_ids is False. Not drawing grid ids\n",
      "yt : [WARNING  ] 2020-07-01 12:39:32,507 Supplied id_loc but draw_ids is False. Not drawing grid ids\n",
      "yt : [WARNING  ] 2020-07-01 12:39:32,510 Supplied id_loc but draw_ids is False. Not drawing grid ids\n",
      "yt : [WARNING  ] 2020-07-01 12:39:32,513 Supplied id_loc but draw_ids is False. Not drawing grid ids\n",
      "yt : [WARNING  ] 2020-07-01 12:39:32,518 Supplied id_loc but draw_ids is False. Not drawing grid ids\n",
      "yt : [INFO     ] 2020-07-01 12:39:32,518 Saving plot img00149.png\n"
     ]
    },
    {
     "name": "stdout",
     "output_type": "stream",
     "text": [
      "plt0000149\n",
      "img00149.png\n"
     ]
    },
    {
     "name": "stderr",
     "output_type": "stream",
     "text": [
      "yt : [INFO     ] 2020-07-01 12:39:32,763 Parameters: current_time              = 29.296875\n",
      "yt : [INFO     ] 2020-07-01 12:39:32,764 Parameters: domain_dimensions         = [256 256   1]\n",
      "yt : [INFO     ] 2020-07-01 12:39:32,764 Parameters: domain_left_edge          = [-50. -50.   0.]\n",
      "yt : [INFO     ] 2020-07-01 12:39:32,765 Parameters: domain_right_edge         = [ 50.  50.   1.]\n",
      "yt : [INFO     ] 2020-07-01 12:39:33,007 xlim = -50.000000 50.000000\n",
      "yt : [INFO     ] 2020-07-01 12:39:33,007 ylim = -50.000000 50.000000\n",
      "yt : [INFO     ] 2020-07-01 12:39:33,008 xlim = -50.000000 50.000000\n",
      "yt : [INFO     ] 2020-07-01 12:39:33,009 ylim = -50.000000 50.000000\n",
      "yt : [INFO     ] 2020-07-01 12:39:33,010 Making a fixed resolution buffer of (('boxlib', 'Psi')) 800 by 800\n",
      "yt : [WARNING  ] 2020-07-01 12:39:33,050 Plot image for field ('boxlib', 'Psi') has both positive and negative values. Min = -0.032930, Max = 0.030971.\n",
      "yt : [WARNING  ] 2020-07-01 12:39:33,050 Switching to symlog colorbar scaling unless linear scaling is specified later\n",
      "yt : [INFO     ] 2020-07-01 12:39:33,140 Making a fixed resolution buffer of (('boxlib', 'Psi')) 800 by 800\n",
      "yt : [WARNING  ] 2020-07-01 12:39:33,230 Supplied id_loc but draw_ids is False. Not drawing grid ids\n",
      "yt : [WARNING  ] 2020-07-01 12:39:33,233 Supplied id_loc but draw_ids is False. Not drawing grid ids\n",
      "yt : [WARNING  ] 2020-07-01 12:39:33,237 Supplied id_loc but draw_ids is False. Not drawing grid ids\n",
      "yt : [WARNING  ] 2020-07-01 12:39:33,240 Supplied id_loc but draw_ids is False. Not drawing grid ids\n",
      "yt : [WARNING  ] 2020-07-01 12:39:33,243 Supplied id_loc but draw_ids is False. Not drawing grid ids\n",
      "yt : [WARNING  ] 2020-07-01 12:39:33,247 Supplied id_loc but draw_ids is False. Not drawing grid ids\n",
      "yt : [WARNING  ] 2020-07-01 12:39:33,250 Supplied id_loc but draw_ids is False. Not drawing grid ids\n",
      "yt : [WARNING  ] 2020-07-01 12:39:33,253 Supplied id_loc but draw_ids is False. Not drawing grid ids\n",
      "yt : [WARNING  ] 2020-07-01 12:39:33,256 Supplied id_loc but draw_ids is False. Not drawing grid ids\n",
      "yt : [INFO     ] 2020-07-01 12:39:33,257 Saving plot img00150.png\n"
     ]
    },
    {
     "name": "stdout",
     "output_type": "stream",
     "text": [
      "plt0000150\n",
      "img00150.png\n"
     ]
    },
    {
     "name": "stderr",
     "output_type": "stream",
     "text": [
      "yt : [INFO     ] 2020-07-01 12:39:33,503 Parameters: current_time              = 29.4921875\n",
      "yt : [INFO     ] 2020-07-01 12:39:33,503 Parameters: domain_dimensions         = [256 256   1]\n",
      "yt : [INFO     ] 2020-07-01 12:39:33,504 Parameters: domain_left_edge          = [-50. -50.   0.]\n",
      "yt : [INFO     ] 2020-07-01 12:39:33,504 Parameters: domain_right_edge         = [ 50.  50.   1.]\n",
      "yt : [INFO     ] 2020-07-01 12:39:33,624 xlim = -50.000000 50.000000\n",
      "yt : [INFO     ] 2020-07-01 12:39:33,625 ylim = -50.000000 50.000000\n",
      "yt : [INFO     ] 2020-07-01 12:39:33,626 xlim = -50.000000 50.000000\n",
      "yt : [INFO     ] 2020-07-01 12:39:33,626 ylim = -50.000000 50.000000\n",
      "yt : [INFO     ] 2020-07-01 12:39:33,627 Making a fixed resolution buffer of (('boxlib', 'Psi')) 800 by 800\n",
      "yt : [WARNING  ] 2020-07-01 12:39:33,665 Plot image for field ('boxlib', 'Psi') has both positive and negative values. Min = -0.032606, Max = 0.030851.\n",
      "yt : [WARNING  ] 2020-07-01 12:39:33,666 Switching to symlog colorbar scaling unless linear scaling is specified later\n",
      "yt : [INFO     ] 2020-07-01 12:39:33,755 Making a fixed resolution buffer of (('boxlib', 'Psi')) 800 by 800\n",
      "yt : [WARNING  ] 2020-07-01 12:39:33,843 Supplied id_loc but draw_ids is False. Not drawing grid ids\n",
      "yt : [WARNING  ] 2020-07-01 12:39:33,847 Supplied id_loc but draw_ids is False. Not drawing grid ids\n",
      "yt : [WARNING  ] 2020-07-01 12:39:33,850 Supplied id_loc but draw_ids is False. Not drawing grid ids\n",
      "yt : [WARNING  ] 2020-07-01 12:39:33,853 Supplied id_loc but draw_ids is False. Not drawing grid ids\n",
      "yt : [WARNING  ] 2020-07-01 12:39:33,856 Supplied id_loc but draw_ids is False. Not drawing grid ids\n",
      "yt : [WARNING  ] 2020-07-01 12:39:33,859 Supplied id_loc but draw_ids is False. Not drawing grid ids\n",
      "yt : [WARNING  ] 2020-07-01 12:39:33,862 Supplied id_loc but draw_ids is False. Not drawing grid ids\n",
      "yt : [WARNING  ] 2020-07-01 12:39:33,865 Supplied id_loc but draw_ids is False. Not drawing grid ids\n",
      "yt : [WARNING  ] 2020-07-01 12:39:33,869 Supplied id_loc but draw_ids is False. Not drawing grid ids\n",
      "yt : [INFO     ] 2020-07-01 12:39:33,869 Saving plot img00151.png\n"
     ]
    },
    {
     "name": "stdout",
     "output_type": "stream",
     "text": [
      "plt0000151\n",
      "img00151.png\n"
     ]
    },
    {
     "name": "stderr",
     "output_type": "stream",
     "text": [
      "yt : [INFO     ] 2020-07-01 12:39:34,114 Parameters: current_time              = 29.6875\n",
      "yt : [INFO     ] 2020-07-01 12:39:34,114 Parameters: domain_dimensions         = [256 256   1]\n",
      "yt : [INFO     ] 2020-07-01 12:39:34,115 Parameters: domain_left_edge          = [-50. -50.   0.]\n",
      "yt : [INFO     ] 2020-07-01 12:39:34,116 Parameters: domain_right_edge         = [ 50.  50.   1.]\n",
      "yt : [INFO     ] 2020-07-01 12:39:34,237 xlim = -50.000000 50.000000\n",
      "yt : [INFO     ] 2020-07-01 12:39:34,237 ylim = -50.000000 50.000000\n",
      "yt : [INFO     ] 2020-07-01 12:39:34,238 xlim = -50.000000 50.000000\n",
      "yt : [INFO     ] 2020-07-01 12:39:34,238 ylim = -50.000000 50.000000\n",
      "yt : [INFO     ] 2020-07-01 12:39:34,239 Making a fixed resolution buffer of (('boxlib', 'Psi')) 800 by 800\n",
      "yt : [WARNING  ] 2020-07-01 12:39:34,278 Plot image for field ('boxlib', 'Psi') has both positive and negative values. Min = -0.032508, Max = 0.030788.\n",
      "yt : [WARNING  ] 2020-07-01 12:39:34,278 Switching to symlog colorbar scaling unless linear scaling is specified later\n",
      "yt : [INFO     ] 2020-07-01 12:39:34,481 Making a fixed resolution buffer of (('boxlib', 'Psi')) 800 by 800\n",
      "yt : [WARNING  ] 2020-07-01 12:39:34,578 Supplied id_loc but draw_ids is False. Not drawing grid ids\n",
      "yt : [WARNING  ] 2020-07-01 12:39:34,582 Supplied id_loc but draw_ids is False. Not drawing grid ids\n",
      "yt : [WARNING  ] 2020-07-01 12:39:34,585 Supplied id_loc but draw_ids is False. Not drawing grid ids\n",
      "yt : [WARNING  ] 2020-07-01 12:39:34,588 Supplied id_loc but draw_ids is False. Not drawing grid ids\n",
      "yt : [WARNING  ] 2020-07-01 12:39:34,591 Supplied id_loc but draw_ids is False. Not drawing grid ids\n",
      "yt : [WARNING  ] 2020-07-01 12:39:34,595 Supplied id_loc but draw_ids is False. Not drawing grid ids\n",
      "yt : [WARNING  ] 2020-07-01 12:39:34,598 Supplied id_loc but draw_ids is False. Not drawing grid ids\n",
      "yt : [WARNING  ] 2020-07-01 12:39:34,601 Supplied id_loc but draw_ids is False. Not drawing grid ids\n",
      "yt : [WARNING  ] 2020-07-01 12:39:34,604 Supplied id_loc but draw_ids is False. Not drawing grid ids\n",
      "yt : [INFO     ] 2020-07-01 12:39:34,605 Saving plot img00152.png\n"
     ]
    },
    {
     "name": "stdout",
     "output_type": "stream",
     "text": [
      "plt0000152\n",
      "img00152.png\n"
     ]
    },
    {
     "name": "stderr",
     "output_type": "stream",
     "text": [
      "yt : [INFO     ] 2020-07-01 12:39:34,849 Parameters: current_time              = 29.8828125\n",
      "yt : [INFO     ] 2020-07-01 12:39:34,850 Parameters: domain_dimensions         = [256 256   1]\n",
      "yt : [INFO     ] 2020-07-01 12:39:34,850 Parameters: domain_left_edge          = [-50. -50.   0.]\n",
      "yt : [INFO     ] 2020-07-01 12:39:34,851 Parameters: domain_right_edge         = [ 50.  50.   1.]\n",
      "yt : [INFO     ] 2020-07-01 12:39:34,974 xlim = -50.000000 50.000000\n",
      "yt : [INFO     ] 2020-07-01 12:39:34,975 ylim = -50.000000 50.000000\n",
      "yt : [INFO     ] 2020-07-01 12:39:34,976 xlim = -50.000000 50.000000\n",
      "yt : [INFO     ] 2020-07-01 12:39:34,976 ylim = -50.000000 50.000000\n",
      "yt : [INFO     ] 2020-07-01 12:39:34,977 Making a fixed resolution buffer of (('boxlib', 'Psi')) 800 by 800\n",
      "yt : [WARNING  ] 2020-07-01 12:39:35,016 Plot image for field ('boxlib', 'Psi') has both positive and negative values. Min = -0.032233, Max = 0.030758.\n",
      "yt : [WARNING  ] 2020-07-01 12:39:35,016 Switching to symlog colorbar scaling unless linear scaling is specified later\n",
      "yt : [INFO     ] 2020-07-01 12:39:35,105 Making a fixed resolution buffer of (('boxlib', 'Psi')) 800 by 800\n",
      "yt : [WARNING  ] 2020-07-01 12:39:35,194 Supplied id_loc but draw_ids is False. Not drawing grid ids\n",
      "yt : [WARNING  ] 2020-07-01 12:39:35,198 Supplied id_loc but draw_ids is False. Not drawing grid ids\n",
      "yt : [WARNING  ] 2020-07-01 12:39:35,201 Supplied id_loc but draw_ids is False. Not drawing grid ids\n",
      "yt : [WARNING  ] 2020-07-01 12:39:35,205 Supplied id_loc but draw_ids is False. Not drawing grid ids\n",
      "yt : [WARNING  ] 2020-07-01 12:39:35,208 Supplied id_loc but draw_ids is False. Not drawing grid ids\n",
      "yt : [WARNING  ] 2020-07-01 12:39:35,211 Supplied id_loc but draw_ids is False. Not drawing grid ids\n",
      "yt : [WARNING  ] 2020-07-01 12:39:35,214 Supplied id_loc but draw_ids is False. Not drawing grid ids\n",
      "yt : [WARNING  ] 2020-07-01 12:39:35,218 Supplied id_loc but draw_ids is False. Not drawing grid ids\n",
      "yt : [WARNING  ] 2020-07-01 12:39:35,221 Supplied id_loc but draw_ids is False. Not drawing grid ids\n",
      "yt : [INFO     ] 2020-07-01 12:39:35,221 Saving plot img00153.png\n"
     ]
    },
    {
     "name": "stdout",
     "output_type": "stream",
     "text": [
      "plt0000153\n",
      "img00153.png\n"
     ]
    },
    {
     "name": "stderr",
     "output_type": "stream",
     "text": [
      "yt : [INFO     ] 2020-07-01 12:39:35,464 Parameters: current_time              = 30.078125\n",
      "yt : [INFO     ] 2020-07-01 12:39:35,465 Parameters: domain_dimensions         = [256 256   1]\n",
      "yt : [INFO     ] 2020-07-01 12:39:35,466 Parameters: domain_left_edge          = [-50. -50.   0.]\n",
      "yt : [INFO     ] 2020-07-01 12:39:35,466 Parameters: domain_right_edge         = [ 50.  50.   1.]\n",
      "yt : [INFO     ] 2020-07-01 12:39:35,587 xlim = -50.000000 50.000000\n",
      "yt : [INFO     ] 2020-07-01 12:39:35,588 ylim = -50.000000 50.000000\n",
      "yt : [INFO     ] 2020-07-01 12:39:35,589 xlim = -50.000000 50.000000\n",
      "yt : [INFO     ] 2020-07-01 12:39:35,589 ylim = -50.000000 50.000000\n",
      "yt : [INFO     ] 2020-07-01 12:39:35,590 Making a fixed resolution buffer of (('boxlib', 'Psi')) 800 by 800\n",
      "yt : [WARNING  ] 2020-07-01 12:39:35,628 Plot image for field ('boxlib', 'Psi') has both positive and negative values. Min = -0.031870, Max = 0.030650.\n",
      "yt : [WARNING  ] 2020-07-01 12:39:35,629 Switching to symlog colorbar scaling unless linear scaling is specified later\n",
      "yt : [INFO     ] 2020-07-01 12:39:35,716 Making a fixed resolution buffer of (('boxlib', 'Psi')) 800 by 800\n",
      "yt : [WARNING  ] 2020-07-01 12:39:35,805 Supplied id_loc but draw_ids is False. Not drawing grid ids\n",
      "yt : [WARNING  ] 2020-07-01 12:39:35,808 Supplied id_loc but draw_ids is False. Not drawing grid ids\n",
      "yt : [WARNING  ] 2020-07-01 12:39:35,812 Supplied id_loc but draw_ids is False. Not drawing grid ids\n",
      "yt : [WARNING  ] 2020-07-01 12:39:35,815 Supplied id_loc but draw_ids is False. Not drawing grid ids\n",
      "yt : [WARNING  ] 2020-07-01 12:39:35,818 Supplied id_loc but draw_ids is False. Not drawing grid ids\n",
      "yt : [WARNING  ] 2020-07-01 12:39:35,821 Supplied id_loc but draw_ids is False. Not drawing grid ids\n",
      "yt : [WARNING  ] 2020-07-01 12:39:35,824 Supplied id_loc but draw_ids is False. Not drawing grid ids\n",
      "yt : [WARNING  ] 2020-07-01 12:39:35,828 Supplied id_loc but draw_ids is False. Not drawing grid ids\n",
      "yt : [WARNING  ] 2020-07-01 12:39:35,831 Supplied id_loc but draw_ids is False. Not drawing grid ids\n",
      "yt : [INFO     ] 2020-07-01 12:39:35,831 Saving plot img00154.png\n"
     ]
    },
    {
     "name": "stdout",
     "output_type": "stream",
     "text": [
      "plt0000154\n",
      "img00154.png\n"
     ]
    },
    {
     "name": "stderr",
     "output_type": "stream",
     "text": [
      "yt : [INFO     ] 2020-07-01 12:39:36,075 Parameters: current_time              = 30.2734375\n",
      "yt : [INFO     ] 2020-07-01 12:39:36,076 Parameters: domain_dimensions         = [256 256   1]\n",
      "yt : [INFO     ] 2020-07-01 12:39:36,076 Parameters: domain_left_edge          = [-50. -50.   0.]\n",
      "yt : [INFO     ] 2020-07-01 12:39:36,077 Parameters: domain_right_edge         = [ 50.  50.   1.]\n",
      "yt : [INFO     ] 2020-07-01 12:39:36,328 xlim = -50.000000 50.000000\n",
      "yt : [INFO     ] 2020-07-01 12:39:36,328 ylim = -50.000000 50.000000\n",
      "yt : [INFO     ] 2020-07-01 12:39:36,329 xlim = -50.000000 50.000000\n",
      "yt : [INFO     ] 2020-07-01 12:39:36,330 ylim = -50.000000 50.000000\n",
      "yt : [INFO     ] 2020-07-01 12:39:36,331 Making a fixed resolution buffer of (('boxlib', 'Psi')) 800 by 800\n",
      "yt : [WARNING  ] 2020-07-01 12:39:36,369 Plot image for field ('boxlib', 'Psi') has both positive and negative values. Min = -0.031645, Max = 0.030522.\n",
      "yt : [WARNING  ] 2020-07-01 12:39:36,370 Switching to symlog colorbar scaling unless linear scaling is specified later\n",
      "yt : [INFO     ] 2020-07-01 12:39:36,460 Making a fixed resolution buffer of (('boxlib', 'Psi')) 800 by 800\n",
      "yt : [WARNING  ] 2020-07-01 12:39:36,549 Supplied id_loc but draw_ids is False. Not drawing grid ids\n",
      "yt : [WARNING  ] 2020-07-01 12:39:36,553 Supplied id_loc but draw_ids is False. Not drawing grid ids\n",
      "yt : [WARNING  ] 2020-07-01 12:39:36,556 Supplied id_loc but draw_ids is False. Not drawing grid ids\n",
      "yt : [WARNING  ] 2020-07-01 12:39:36,560 Supplied id_loc but draw_ids is False. Not drawing grid ids\n",
      "yt : [WARNING  ] 2020-07-01 12:39:36,563 Supplied id_loc but draw_ids is False. Not drawing grid ids\n",
      "yt : [WARNING  ] 2020-07-01 12:39:36,567 Supplied id_loc but draw_ids is False. Not drawing grid ids\n",
      "yt : [WARNING  ] 2020-07-01 12:39:36,570 Supplied id_loc but draw_ids is False. Not drawing grid ids\n",
      "yt : [WARNING  ] 2020-07-01 12:39:36,574 Supplied id_loc but draw_ids is False. Not drawing grid ids\n",
      "yt : [WARNING  ] 2020-07-01 12:39:36,577 Supplied id_loc but draw_ids is False. Not drawing grid ids\n",
      "yt : [INFO     ] 2020-07-01 12:39:36,577 Saving plot img00155.png\n"
     ]
    },
    {
     "name": "stdout",
     "output_type": "stream",
     "text": [
      "plt0000155\n",
      "img00155.png\n"
     ]
    },
    {
     "name": "stderr",
     "output_type": "stream",
     "text": [
      "yt : [INFO     ] 2020-07-01 12:39:36,816 Parameters: current_time              = 30.46875\n",
      "yt : [INFO     ] 2020-07-01 12:39:36,816 Parameters: domain_dimensions         = [256 256   1]\n",
      "yt : [INFO     ] 2020-07-01 12:39:36,817 Parameters: domain_left_edge          = [-50. -50.   0.]\n",
      "yt : [INFO     ] 2020-07-01 12:39:36,818 Parameters: domain_right_edge         = [ 50.  50.   1.]\n",
      "yt : [INFO     ] 2020-07-01 12:39:36,939 xlim = -50.000000 50.000000\n",
      "yt : [INFO     ] 2020-07-01 12:39:36,940 ylim = -50.000000 50.000000\n",
      "yt : [INFO     ] 2020-07-01 12:39:36,941 xlim = -50.000000 50.000000\n",
      "yt : [INFO     ] 2020-07-01 12:39:36,941 ylim = -50.000000 50.000000\n",
      "yt : [INFO     ] 2020-07-01 12:39:36,942 Making a fixed resolution buffer of (('boxlib', 'Psi')) 800 by 800\n",
      "yt : [WARNING  ] 2020-07-01 12:39:36,980 Plot image for field ('boxlib', 'Psi') has both positive and negative values. Min = -0.031193, Max = 0.030486.\n",
      "yt : [WARNING  ] 2020-07-01 12:39:36,981 Switching to symlog colorbar scaling unless linear scaling is specified later\n",
      "yt : [INFO     ] 2020-07-01 12:39:37,069 Making a fixed resolution buffer of (('boxlib', 'Psi')) 800 by 800\n",
      "yt : [WARNING  ] 2020-07-01 12:39:37,157 Supplied id_loc but draw_ids is False. Not drawing grid ids\n",
      "yt : [WARNING  ] 2020-07-01 12:39:37,161 Supplied id_loc but draw_ids is False. Not drawing grid ids\n",
      "yt : [WARNING  ] 2020-07-01 12:39:37,164 Supplied id_loc but draw_ids is False. Not drawing grid ids\n",
      "yt : [WARNING  ] 2020-07-01 12:39:37,168 Supplied id_loc but draw_ids is False. Not drawing grid ids\n",
      "yt : [WARNING  ] 2020-07-01 12:39:37,171 Supplied id_loc but draw_ids is False. Not drawing grid ids\n",
      "yt : [WARNING  ] 2020-07-01 12:39:37,174 Supplied id_loc but draw_ids is False. Not drawing grid ids\n",
      "yt : [WARNING  ] 2020-07-01 12:39:37,177 Supplied id_loc but draw_ids is False. Not drawing grid ids\n",
      "yt : [WARNING  ] 2020-07-01 12:39:37,181 Supplied id_loc but draw_ids is False. Not drawing grid ids\n",
      "yt : [WARNING  ] 2020-07-01 12:39:37,184 Supplied id_loc but draw_ids is False. Not drawing grid ids\n",
      "yt : [INFO     ] 2020-07-01 12:39:37,184 Saving plot img00156.png\n"
     ]
    },
    {
     "name": "stdout",
     "output_type": "stream",
     "text": [
      "plt0000156\n",
      "img00156.png\n"
     ]
    },
    {
     "name": "stderr",
     "output_type": "stream",
     "text": [
      "yt : [INFO     ] 2020-07-01 12:39:37,419 Parameters: current_time              = 30.6640625\n",
      "yt : [INFO     ] 2020-07-01 12:39:37,420 Parameters: domain_dimensions         = [256 256   1]\n",
      "yt : [INFO     ] 2020-07-01 12:39:37,420 Parameters: domain_left_edge          = [-50. -50.   0.]\n",
      "yt : [INFO     ] 2020-07-01 12:39:37,421 Parameters: domain_right_edge         = [ 50.  50.   1.]\n",
      "yt : [INFO     ] 2020-07-01 12:39:37,540 xlim = -50.000000 50.000000\n",
      "yt : [INFO     ] 2020-07-01 12:39:37,541 ylim = -50.000000 50.000000\n",
      "yt : [INFO     ] 2020-07-01 12:39:37,542 xlim = -50.000000 50.000000\n",
      "yt : [INFO     ] 2020-07-01 12:39:37,542 ylim = -50.000000 50.000000\n",
      "yt : [INFO     ] 2020-07-01 12:39:37,543 Making a fixed resolution buffer of (('boxlib', 'Psi')) 800 by 800\n",
      "yt : [WARNING  ] 2020-07-01 12:39:37,581 Plot image for field ('boxlib', 'Psi') has both positive and negative values. Min = -0.030936, Max = 0.030471.\n",
      "yt : [WARNING  ] 2020-07-01 12:39:37,582 Switching to symlog colorbar scaling unless linear scaling is specified later\n",
      "yt : [INFO     ] 2020-07-01 12:39:37,799 Making a fixed resolution buffer of (('boxlib', 'Psi')) 800 by 800\n",
      "yt : [WARNING  ] 2020-07-01 12:39:37,890 Supplied id_loc but draw_ids is False. Not drawing grid ids\n",
      "yt : [WARNING  ] 2020-07-01 12:39:37,893 Supplied id_loc but draw_ids is False. Not drawing grid ids\n",
      "yt : [WARNING  ] 2020-07-01 12:39:37,897 Supplied id_loc but draw_ids is False. Not drawing grid ids\n",
      "yt : [WARNING  ] 2020-07-01 12:39:37,900 Supplied id_loc but draw_ids is False. Not drawing grid ids\n",
      "yt : [WARNING  ] 2020-07-01 12:39:37,903 Supplied id_loc but draw_ids is False. Not drawing grid ids\n",
      "yt : [WARNING  ] 2020-07-01 12:39:37,906 Supplied id_loc but draw_ids is False. Not drawing grid ids\n",
      "yt : [WARNING  ] 2020-07-01 12:39:37,909 Supplied id_loc but draw_ids is False. Not drawing grid ids\n",
      "yt : [WARNING  ] 2020-07-01 12:39:37,913 Supplied id_loc but draw_ids is False. Not drawing grid ids\n",
      "yt : [WARNING  ] 2020-07-01 12:39:37,916 Supplied id_loc but draw_ids is False. Not drawing grid ids\n",
      "yt : [INFO     ] 2020-07-01 12:39:37,916 Saving plot img00157.png\n"
     ]
    },
    {
     "name": "stdout",
     "output_type": "stream",
     "text": [
      "plt0000157\n",
      "img00157.png\n"
     ]
    },
    {
     "name": "stderr",
     "output_type": "stream",
     "text": [
      "yt : [INFO     ] 2020-07-01 12:39:38,151 Parameters: current_time              = 30.859375\n",
      "yt : [INFO     ] 2020-07-01 12:39:38,151 Parameters: domain_dimensions         = [256 256   1]\n",
      "yt : [INFO     ] 2020-07-01 12:39:38,152 Parameters: domain_left_edge          = [-50. -50.   0.]\n",
      "yt : [INFO     ] 2020-07-01 12:39:38,153 Parameters: domain_right_edge         = [ 50.  50.   1.]\n",
      "yt : [INFO     ] 2020-07-01 12:39:38,274 xlim = -50.000000 50.000000\n",
      "yt : [INFO     ] 2020-07-01 12:39:38,275 ylim = -50.000000 50.000000\n",
      "yt : [INFO     ] 2020-07-01 12:39:38,276 xlim = -50.000000 50.000000\n",
      "yt : [INFO     ] 2020-07-01 12:39:38,276 ylim = -50.000000 50.000000\n",
      "yt : [INFO     ] 2020-07-01 12:39:38,277 Making a fixed resolution buffer of (('boxlib', 'Psi')) 800 by 800\n",
      "yt : [WARNING  ] 2020-07-01 12:39:38,315 Plot image for field ('boxlib', 'Psi') has both positive and negative values. Min = -0.030555, Max = 0.030393.\n",
      "yt : [WARNING  ] 2020-07-01 12:39:38,316 Switching to symlog colorbar scaling unless linear scaling is specified later\n",
      "yt : [INFO     ] 2020-07-01 12:39:38,403 Making a fixed resolution buffer of (('boxlib', 'Psi')) 800 by 800\n",
      "yt : [WARNING  ] 2020-07-01 12:39:38,492 Supplied id_loc but draw_ids is False. Not drawing grid ids\n",
      "yt : [WARNING  ] 2020-07-01 12:39:38,495 Supplied id_loc but draw_ids is False. Not drawing grid ids\n",
      "yt : [WARNING  ] 2020-07-01 12:39:38,499 Supplied id_loc but draw_ids is False. Not drawing grid ids\n",
      "yt : [WARNING  ] 2020-07-01 12:39:38,502 Supplied id_loc but draw_ids is False. Not drawing grid ids\n",
      "yt : [WARNING  ] 2020-07-01 12:39:38,505 Supplied id_loc but draw_ids is False. Not drawing grid ids\n",
      "yt : [WARNING  ] 2020-07-01 12:39:38,509 Supplied id_loc but draw_ids is False. Not drawing grid ids\n",
      "yt : [WARNING  ] 2020-07-01 12:39:38,512 Supplied id_loc but draw_ids is False. Not drawing grid ids\n",
      "yt : [WARNING  ] 2020-07-01 12:39:38,515 Supplied id_loc but draw_ids is False. Not drawing grid ids\n",
      "yt : [WARNING  ] 2020-07-01 12:39:38,521 Supplied id_loc but draw_ids is False. Not drawing grid ids\n",
      "yt : [INFO     ] 2020-07-01 12:39:38,521 Saving plot img00158.png\n"
     ]
    },
    {
     "name": "stdout",
     "output_type": "stream",
     "text": [
      "plt0000158\n",
      "img00158.png\n"
     ]
    },
    {
     "name": "stderr",
     "output_type": "stream",
     "text": [
      "yt : [INFO     ] 2020-07-01 12:39:38,754 Parameters: current_time              = 31.0546875\n",
      "yt : [INFO     ] 2020-07-01 12:39:38,754 Parameters: domain_dimensions         = [256 256   1]\n",
      "yt : [INFO     ] 2020-07-01 12:39:38,755 Parameters: domain_left_edge          = [-50. -50.   0.]\n",
      "yt : [INFO     ] 2020-07-01 12:39:38,755 Parameters: domain_right_edge         = [ 50.  50.   1.]\n",
      "yt : [INFO     ] 2020-07-01 12:39:38,878 xlim = -50.000000 50.000000\n",
      "yt : [INFO     ] 2020-07-01 12:39:38,879 ylim = -50.000000 50.000000\n",
      "yt : [INFO     ] 2020-07-01 12:39:38,880 xlim = -50.000000 50.000000\n",
      "yt : [INFO     ] 2020-07-01 12:39:38,880 ylim = -50.000000 50.000000\n",
      "yt : [INFO     ] 2020-07-01 12:39:38,881 Making a fixed resolution buffer of (('boxlib', 'Psi')) 800 by 800\n",
      "yt : [WARNING  ] 2020-07-01 12:39:38,919 Plot image for field ('boxlib', 'Psi') has both positive and negative values. Min = -0.030291, Max = 0.030422.\n",
      "yt : [WARNING  ] 2020-07-01 12:39:38,920 Switching to symlog colorbar scaling unless linear scaling is specified later\n",
      "yt : [INFO     ] 2020-07-01 12:39:39,008 Making a fixed resolution buffer of (('boxlib', 'Psi')) 800 by 800\n",
      "yt : [WARNING  ] 2020-07-01 12:39:39,099 Supplied id_loc but draw_ids is False. Not drawing grid ids\n",
      "yt : [WARNING  ] 2020-07-01 12:39:39,103 Supplied id_loc but draw_ids is False. Not drawing grid ids\n",
      "yt : [WARNING  ] 2020-07-01 12:39:39,106 Supplied id_loc but draw_ids is False. Not drawing grid ids\n",
      "yt : [WARNING  ] 2020-07-01 12:39:39,109 Supplied id_loc but draw_ids is False. Not drawing grid ids\n",
      "yt : [WARNING  ] 2020-07-01 12:39:39,112 Supplied id_loc but draw_ids is False. Not drawing grid ids\n",
      "yt : [WARNING  ] 2020-07-01 12:39:39,116 Supplied id_loc but draw_ids is False. Not drawing grid ids\n",
      "yt : [WARNING  ] 2020-07-01 12:39:39,119 Supplied id_loc but draw_ids is False. Not drawing grid ids\n",
      "yt : [WARNING  ] 2020-07-01 12:39:39,122 Supplied id_loc but draw_ids is False. Not drawing grid ids\n",
      "yt : [WARNING  ] 2020-07-01 12:39:39,126 Supplied id_loc but draw_ids is False. Not drawing grid ids\n",
      "yt : [INFO     ] 2020-07-01 12:39:39,126 Saving plot img00159.png\n"
     ]
    },
    {
     "name": "stdout",
     "output_type": "stream",
     "text": [
      "plt0000159\n",
      "img00159.png\n"
     ]
    },
    {
     "name": "stderr",
     "output_type": "stream",
     "text": [
      "yt : [INFO     ] 2020-07-01 12:39:39,359 Parameters: current_time              = 31.25\n",
      "yt : [INFO     ] 2020-07-01 12:39:39,360 Parameters: domain_dimensions         = [256 256   1]\n",
      "yt : [INFO     ] 2020-07-01 12:39:39,360 Parameters: domain_left_edge          = [-50. -50.   0.]\n",
      "yt : [INFO     ] 2020-07-01 12:39:39,361 Parameters: domain_right_edge         = [ 50.  50.   1.]\n",
      "yt : [INFO     ] 2020-07-01 12:39:39,599 xlim = -50.000000 50.000000\n",
      "yt : [INFO     ] 2020-07-01 12:39:39,600 ylim = -50.000000 50.000000\n",
      "yt : [INFO     ] 2020-07-01 12:39:39,601 xlim = -50.000000 50.000000\n",
      "yt : [INFO     ] 2020-07-01 12:39:39,601 ylim = -50.000000 50.000000\n",
      "yt : [INFO     ] 2020-07-01 12:39:39,602 Making a fixed resolution buffer of (('boxlib', 'Psi')) 800 by 800\n",
      "yt : [WARNING  ] 2020-07-01 12:39:39,634 Plot image for field ('boxlib', 'Psi') has both positive and negative values. Min = -0.030015, Max = 0.030247.\n",
      "yt : [WARNING  ] 2020-07-01 12:39:39,635 Switching to symlog colorbar scaling unless linear scaling is specified later\n",
      "yt : [INFO     ] 2020-07-01 12:39:39,724 Making a fixed resolution buffer of (('boxlib', 'Psi')) 800 by 800\n",
      "yt : [WARNING  ] 2020-07-01 12:39:39,809 Supplied id_loc but draw_ids is False. Not drawing grid ids\n",
      "yt : [WARNING  ] 2020-07-01 12:39:39,811 Supplied id_loc but draw_ids is False. Not drawing grid ids\n",
      "yt : [WARNING  ] 2020-07-01 12:39:39,814 Supplied id_loc but draw_ids is False. Not drawing grid ids\n",
      "yt : [WARNING  ] 2020-07-01 12:39:39,816 Supplied id_loc but draw_ids is False. Not drawing grid ids\n",
      "yt : [WARNING  ] 2020-07-01 12:39:39,818 Supplied id_loc but draw_ids is False. Not drawing grid ids\n",
      "yt : [WARNING  ] 2020-07-01 12:39:39,820 Supplied id_loc but draw_ids is False. Not drawing grid ids\n",
      "yt : [WARNING  ] 2020-07-01 12:39:39,822 Supplied id_loc but draw_ids is False. Not drawing grid ids\n",
      "yt : [WARNING  ] 2020-07-01 12:39:39,825 Supplied id_loc but draw_ids is False. Not drawing grid ids\n",
      "yt : [WARNING  ] 2020-07-01 12:39:39,827 Supplied id_loc but draw_ids is False. Not drawing grid ids\n",
      "yt : [INFO     ] 2020-07-01 12:39:39,827 Saving plot img00160.png\n"
     ]
    },
    {
     "name": "stdout",
     "output_type": "stream",
     "text": [
      "plt0000160\n",
      "img00160.png\n"
     ]
    },
    {
     "name": "stderr",
     "output_type": "stream",
     "text": [
      "yt : [INFO     ] 2020-07-01 12:39:40,050 Parameters: current_time              = 31.4453125\n",
      "yt : [INFO     ] 2020-07-01 12:39:40,051 Parameters: domain_dimensions         = [256 256   1]\n",
      "yt : [INFO     ] 2020-07-01 12:39:40,051 Parameters: domain_left_edge          = [-50. -50.   0.]\n",
      "yt : [INFO     ] 2020-07-01 12:39:40,052 Parameters: domain_right_edge         = [ 50.  50.   1.]\n",
      "yt : [INFO     ] 2020-07-01 12:39:40,155 xlim = -50.000000 50.000000\n",
      "yt : [INFO     ] 2020-07-01 12:39:40,156 ylim = -50.000000 50.000000\n",
      "yt : [INFO     ] 2020-07-01 12:39:40,157 xlim = -50.000000 50.000000\n",
      "yt : [INFO     ] 2020-07-01 12:39:40,157 ylim = -50.000000 50.000000\n",
      "yt : [INFO     ] 2020-07-01 12:39:40,158 Making a fixed resolution buffer of (('boxlib', 'Psi')) 800 by 800\n",
      "yt : [WARNING  ] 2020-07-01 12:39:40,187 Plot image for field ('boxlib', 'Psi') has both positive and negative values. Min = -0.029529, Max = 0.030102.\n",
      "yt : [WARNING  ] 2020-07-01 12:39:40,188 Switching to symlog colorbar scaling unless linear scaling is specified later\n",
      "yt : [INFO     ] 2020-07-01 12:39:40,276 Making a fixed resolution buffer of (('boxlib', 'Psi')) 800 by 800\n",
      "yt : [WARNING  ] 2020-07-01 12:39:40,359 Supplied id_loc but draw_ids is False. Not drawing grid ids\n",
      "yt : [WARNING  ] 2020-07-01 12:39:40,361 Supplied id_loc but draw_ids is False. Not drawing grid ids\n",
      "yt : [WARNING  ] 2020-07-01 12:39:40,362 Supplied id_loc but draw_ids is False. Not drawing grid ids\n",
      "yt : [WARNING  ] 2020-07-01 12:39:40,364 Supplied id_loc but draw_ids is False. Not drawing grid ids\n",
      "yt : [WARNING  ] 2020-07-01 12:39:40,366 Supplied id_loc but draw_ids is False. Not drawing grid ids\n",
      "yt : [WARNING  ] 2020-07-01 12:39:40,368 Supplied id_loc but draw_ids is False. Not drawing grid ids\n",
      "yt : [WARNING  ] 2020-07-01 12:39:40,370 Supplied id_loc but draw_ids is False. Not drawing grid ids\n",
      "yt : [WARNING  ] 2020-07-01 12:39:40,371 Supplied id_loc but draw_ids is False. Not drawing grid ids\n",
      "yt : [WARNING  ] 2020-07-01 12:39:40,373 Supplied id_loc but draw_ids is False. Not drawing grid ids\n",
      "yt : [INFO     ] 2020-07-01 12:39:40,373 Saving plot img00161.png\n"
     ]
    },
    {
     "name": "stdout",
     "output_type": "stream",
     "text": [
      "plt0000161\n",
      "img00161.png\n"
     ]
    },
    {
     "name": "stderr",
     "output_type": "stream",
     "text": [
      "yt : [INFO     ] 2020-07-01 12:39:40,593 Parameters: current_time              = 31.640625\n",
      "yt : [INFO     ] 2020-07-01 12:39:40,593 Parameters: domain_dimensions         = [256 256   1]\n",
      "yt : [INFO     ] 2020-07-01 12:39:40,594 Parameters: domain_left_edge          = [-50. -50.   0.]\n",
      "yt : [INFO     ] 2020-07-01 12:39:40,595 Parameters: domain_right_edge         = [ 50.  50.   1.]\n",
      "yt : [INFO     ] 2020-07-01 12:39:40,695 xlim = -50.000000 50.000000\n",
      "yt : [INFO     ] 2020-07-01 12:39:40,696 ylim = -50.000000 50.000000\n",
      "yt : [INFO     ] 2020-07-01 12:39:40,697 xlim = -50.000000 50.000000\n",
      "yt : [INFO     ] 2020-07-01 12:39:40,697 ylim = -50.000000 50.000000\n",
      "yt : [INFO     ] 2020-07-01 12:39:40,698 Making a fixed resolution buffer of (('boxlib', 'Psi')) 800 by 800\n",
      "yt : [WARNING  ] 2020-07-01 12:39:40,727 Plot image for field ('boxlib', 'Psi') has both positive and negative values. Min = -0.029315, Max = 0.029991.\n",
      "yt : [WARNING  ] 2020-07-01 12:39:40,727 Switching to symlog colorbar scaling unless linear scaling is specified later\n",
      "yt : [INFO     ] 2020-07-01 12:39:40,813 Making a fixed resolution buffer of (('boxlib', 'Psi')) 800 by 800\n",
      "yt : [WARNING  ] 2020-07-01 12:39:40,895 Supplied id_loc but draw_ids is False. Not drawing grid ids\n",
      "yt : [WARNING  ] 2020-07-01 12:39:40,897 Supplied id_loc but draw_ids is False. Not drawing grid ids\n",
      "yt : [WARNING  ] 2020-07-01 12:39:40,899 Supplied id_loc but draw_ids is False. Not drawing grid ids\n",
      "yt : [WARNING  ] 2020-07-01 12:39:40,900 Supplied id_loc but draw_ids is False. Not drawing grid ids\n",
      "yt : [WARNING  ] 2020-07-01 12:39:40,902 Supplied id_loc but draw_ids is False. Not drawing grid ids\n",
      "yt : [WARNING  ] 2020-07-01 12:39:40,905 Supplied id_loc but draw_ids is False. Not drawing grid ids\n",
      "yt : [WARNING  ] 2020-07-01 12:39:40,906 Supplied id_loc but draw_ids is False. Not drawing grid ids\n",
      "yt : [WARNING  ] 2020-07-01 12:39:40,908 Supplied id_loc but draw_ids is False. Not drawing grid ids\n",
      "yt : [WARNING  ] 2020-07-01 12:39:40,910 Supplied id_loc but draw_ids is False. Not drawing grid ids\n",
      "yt : [INFO     ] 2020-07-01 12:39:40,911 Saving plot img00162.png\n"
     ]
    },
    {
     "name": "stdout",
     "output_type": "stream",
     "text": [
      "plt0000162\n",
      "img00162.png\n"
     ]
    },
    {
     "name": "stderr",
     "output_type": "stream",
     "text": [
      "yt : [INFO     ] 2020-07-01 12:39:41,246 Parameters: current_time              = 31.8359375\n",
      "yt : [INFO     ] 2020-07-01 12:39:41,247 Parameters: domain_dimensions         = [256 256   1]\n",
      "yt : [INFO     ] 2020-07-01 12:39:41,247 Parameters: domain_left_edge          = [-50. -50.   0.]\n",
      "yt : [INFO     ] 2020-07-01 12:39:41,248 Parameters: domain_right_edge         = [ 50.  50.   1.]\n",
      "yt : [INFO     ] 2020-07-01 12:39:41,349 xlim = -50.000000 50.000000\n",
      "yt : [INFO     ] 2020-07-01 12:39:41,350 ylim = -50.000000 50.000000\n",
      "yt : [INFO     ] 2020-07-01 12:39:41,351 xlim = -50.000000 50.000000\n",
      "yt : [INFO     ] 2020-07-01 12:39:41,351 ylim = -50.000000 50.000000\n",
      "yt : [INFO     ] 2020-07-01 12:39:41,352 Making a fixed resolution buffer of (('boxlib', 'Psi')) 800 by 800\n",
      "yt : [WARNING  ] 2020-07-01 12:39:41,382 Plot image for field ('boxlib', 'Psi') has both positive and negative values. Min = -0.029051, Max = 0.029911.\n",
      "yt : [WARNING  ] 2020-07-01 12:39:41,382 Switching to symlog colorbar scaling unless linear scaling is specified later\n",
      "yt : [INFO     ] 2020-07-01 12:39:41,469 Making a fixed resolution buffer of (('boxlib', 'Psi')) 800 by 800\n",
      "yt : [WARNING  ] 2020-07-01 12:39:41,552 Supplied id_loc but draw_ids is False. Not drawing grid ids\n",
      "yt : [WARNING  ] 2020-07-01 12:39:41,554 Supplied id_loc but draw_ids is False. Not drawing grid ids\n",
      "yt : [WARNING  ] 2020-07-01 12:39:41,556 Supplied id_loc but draw_ids is False. Not drawing grid ids\n",
      "yt : [WARNING  ] 2020-07-01 12:39:41,558 Supplied id_loc but draw_ids is False. Not drawing grid ids\n",
      "yt : [WARNING  ] 2020-07-01 12:39:41,559 Supplied id_loc but draw_ids is False. Not drawing grid ids\n",
      "yt : [WARNING  ] 2020-07-01 12:39:41,561 Supplied id_loc but draw_ids is False. Not drawing grid ids\n",
      "yt : [WARNING  ] 2020-07-01 12:39:41,563 Supplied id_loc but draw_ids is False. Not drawing grid ids\n",
      "yt : [WARNING  ] 2020-07-01 12:39:41,565 Supplied id_loc but draw_ids is False. Not drawing grid ids\n",
      "yt : [WARNING  ] 2020-07-01 12:39:41,566 Supplied id_loc but draw_ids is False. Not drawing grid ids\n",
      "yt : [INFO     ] 2020-07-01 12:39:41,567 Saving plot img00163.png\n"
     ]
    },
    {
     "name": "stdout",
     "output_type": "stream",
     "text": [
      "plt0000163\n",
      "img00163.png\n"
     ]
    },
    {
     "name": "stderr",
     "output_type": "stream",
     "text": [
      "yt : [INFO     ] 2020-07-01 12:39:41,788 Parameters: current_time              = 32.03125\n",
      "yt : [INFO     ] 2020-07-01 12:39:41,789 Parameters: domain_dimensions         = [256 256   1]\n",
      "yt : [INFO     ] 2020-07-01 12:39:41,789 Parameters: domain_left_edge          = [-50. -50.   0.]\n",
      "yt : [INFO     ] 2020-07-01 12:39:41,790 Parameters: domain_right_edge         = [ 50.  50.   1.]\n",
      "yt : [INFO     ] 2020-07-01 12:39:41,889 xlim = -50.000000 50.000000\n",
      "yt : [INFO     ] 2020-07-01 12:39:41,890 ylim = -50.000000 50.000000\n",
      "yt : [INFO     ] 2020-07-01 12:39:41,891 xlim = -50.000000 50.000000\n",
      "yt : [INFO     ] 2020-07-01 12:39:41,891 ylim = -50.000000 50.000000\n",
      "yt : [INFO     ] 2020-07-01 12:39:41,892 Making a fixed resolution buffer of (('boxlib', 'Psi')) 800 by 800\n",
      "yt : [WARNING  ] 2020-07-01 12:39:41,921 Plot image for field ('boxlib', 'Psi') has both positive and negative values. Min = -0.028700, Max = 0.029911.\n",
      "yt : [WARNING  ] 2020-07-01 12:39:41,922 Switching to symlog colorbar scaling unless linear scaling is specified later\n",
      "yt : [INFO     ] 2020-07-01 12:39:42,008 Making a fixed resolution buffer of (('boxlib', 'Psi')) 800 by 800\n",
      "yt : [WARNING  ] 2020-07-01 12:39:42,091 Supplied id_loc but draw_ids is False. Not drawing grid ids\n",
      "yt : [WARNING  ] 2020-07-01 12:39:42,093 Supplied id_loc but draw_ids is False. Not drawing grid ids\n",
      "yt : [WARNING  ] 2020-07-01 12:39:42,095 Supplied id_loc but draw_ids is False. Not drawing grid ids\n",
      "yt : [WARNING  ] 2020-07-01 12:39:42,097 Supplied id_loc but draw_ids is False. Not drawing grid ids\n",
      "yt : [WARNING  ] 2020-07-01 12:39:42,098 Supplied id_loc but draw_ids is False. Not drawing grid ids\n",
      "yt : [WARNING  ] 2020-07-01 12:39:42,100 Supplied id_loc but draw_ids is False. Not drawing grid ids\n",
      "yt : [WARNING  ] 2020-07-01 12:39:42,102 Supplied id_loc but draw_ids is False. Not drawing grid ids\n",
      "yt : [WARNING  ] 2020-07-01 12:39:42,104 Supplied id_loc but draw_ids is False. Not drawing grid ids\n",
      "yt : [WARNING  ] 2020-07-01 12:39:42,106 Supplied id_loc but draw_ids is False. Not drawing grid ids\n",
      "yt : [INFO     ] 2020-07-01 12:39:42,106 Saving plot img00164.png\n"
     ]
    },
    {
     "name": "stdout",
     "output_type": "stream",
     "text": [
      "plt0000164\n",
      "img00164.png\n"
     ]
    },
    {
     "name": "stderr",
     "output_type": "stream",
     "text": [
      "yt : [INFO     ] 2020-07-01 12:39:42,327 Parameters: current_time              = 32.2265625\n",
      "yt : [INFO     ] 2020-07-01 12:39:42,327 Parameters: domain_dimensions         = [256 256   1]\n",
      "yt : [INFO     ] 2020-07-01 12:39:42,328 Parameters: domain_left_edge          = [-50. -50.   0.]\n",
      "yt : [INFO     ] 2020-07-01 12:39:42,329 Parameters: domain_right_edge         = [ 50.  50.   1.]\n",
      "yt : [INFO     ] 2020-07-01 12:39:42,428 xlim = -50.000000 50.000000\n",
      "yt : [INFO     ] 2020-07-01 12:39:42,428 ylim = -50.000000 50.000000\n",
      "yt : [INFO     ] 2020-07-01 12:39:42,429 xlim = -50.000000 50.000000\n",
      "yt : [INFO     ] 2020-07-01 12:39:42,430 ylim = -50.000000 50.000000\n",
      "yt : [INFO     ] 2020-07-01 12:39:42,431 Making a fixed resolution buffer of (('boxlib', 'Psi')) 800 by 800\n",
      "yt : [WARNING  ] 2020-07-01 12:39:42,460 Plot image for field ('boxlib', 'Psi') has both positive and negative values. Min = -0.028417, Max = 0.029960.\n",
      "yt : [WARNING  ] 2020-07-01 12:39:42,461 Switching to symlog colorbar scaling unless linear scaling is specified later\n",
      "yt : [INFO     ] 2020-07-01 12:39:42,546 Making a fixed resolution buffer of (('boxlib', 'Psi')) 800 by 800\n",
      "yt : [WARNING  ] 2020-07-01 12:39:42,746 Supplied id_loc but draw_ids is False. Not drawing grid ids\n"
     ]
    },
    {
     "name": "stdout",
     "output_type": "stream",
     "text": [
      "plt0000165\n",
      "img00165.png\n"
     ]
    },
    {
     "name": "stderr",
     "output_type": "stream",
     "text": [
      "yt : [WARNING  ] 2020-07-01 12:39:42,748 Supplied id_loc but draw_ids is False. Not drawing grid ids\n",
      "yt : [WARNING  ] 2020-07-01 12:39:42,751 Supplied id_loc but draw_ids is False. Not drawing grid ids\n",
      "yt : [WARNING  ] 2020-07-01 12:39:42,753 Supplied id_loc but draw_ids is False. Not drawing grid ids\n",
      "yt : [WARNING  ] 2020-07-01 12:39:42,755 Supplied id_loc but draw_ids is False. Not drawing grid ids\n",
      "yt : [WARNING  ] 2020-07-01 12:39:42,757 Supplied id_loc but draw_ids is False. Not drawing grid ids\n",
      "yt : [WARNING  ] 2020-07-01 12:39:42,759 Supplied id_loc but draw_ids is False. Not drawing grid ids\n",
      "yt : [WARNING  ] 2020-07-01 12:39:42,761 Supplied id_loc but draw_ids is False. Not drawing grid ids\n",
      "yt : [WARNING  ] 2020-07-01 12:39:42,763 Supplied id_loc but draw_ids is False. Not drawing grid ids\n",
      "yt : [INFO     ] 2020-07-01 12:39:42,763 Saving plot img00165.png\n",
      "yt : [INFO     ] 2020-07-01 12:39:42,985 Parameters: current_time              = 32.421875\n",
      "yt : [INFO     ] 2020-07-01 12:39:42,986 Parameters: domain_dimensions         = [256 256   1]\n",
      "yt : [INFO     ] 2020-07-01 12:39:42,986 Parameters: domain_left_edge          = [-50. -50.   0.]\n",
      "yt : [INFO     ] 2020-07-01 12:39:42,987 Parameters: domain_right_edge         = [ 50.  50.   1.]\n",
      "yt : [INFO     ] 2020-07-01 12:39:43,088 xlim = -50.000000 50.000000\n",
      "yt : [INFO     ] 2020-07-01 12:39:43,089 ylim = -50.000000 50.000000\n",
      "yt : [INFO     ] 2020-07-01 12:39:43,090 xlim = -50.000000 50.000000\n",
      "yt : [INFO     ] 2020-07-01 12:39:43,090 ylim = -50.000000 50.000000\n",
      "yt : [INFO     ] 2020-07-01 12:39:43,091 Making a fixed resolution buffer of (('boxlib', 'Psi')) 800 by 800\n",
      "yt : [WARNING  ] 2020-07-01 12:39:43,120 Plot image for field ('boxlib', 'Psi') has both positive and negative values. Min = -0.028209, Max = 0.029795.\n",
      "yt : [WARNING  ] 2020-07-01 12:39:43,121 Switching to symlog colorbar scaling unless linear scaling is specified later\n",
      "yt : [INFO     ] 2020-07-01 12:39:43,207 Making a fixed resolution buffer of (('boxlib', 'Psi')) 800 by 800\n",
      "yt : [WARNING  ] 2020-07-01 12:39:43,291 Supplied id_loc but draw_ids is False. Not drawing grid ids\n",
      "yt : [WARNING  ] 2020-07-01 12:39:43,292 Supplied id_loc but draw_ids is False. Not drawing grid ids\n",
      "yt : [WARNING  ] 2020-07-01 12:39:43,294 Supplied id_loc but draw_ids is False. Not drawing grid ids\n",
      "yt : [WARNING  ] 2020-07-01 12:39:43,296 Supplied id_loc but draw_ids is False. Not drawing grid ids\n",
      "yt : [WARNING  ] 2020-07-01 12:39:43,297 Supplied id_loc but draw_ids is False. Not drawing grid ids\n",
      "yt : [WARNING  ] 2020-07-01 12:39:43,299 Supplied id_loc but draw_ids is False. Not drawing grid ids\n",
      "yt : [WARNING  ] 2020-07-01 12:39:43,301 Supplied id_loc but draw_ids is False. Not drawing grid ids\n",
      "yt : [WARNING  ] 2020-07-01 12:39:43,302 Supplied id_loc but draw_ids is False. Not drawing grid ids\n",
      "yt : [WARNING  ] 2020-07-01 12:39:43,304 Supplied id_loc but draw_ids is False. Not drawing grid ids\n",
      "yt : [INFO     ] 2020-07-01 12:39:43,305 Saving plot img00166.png\n"
     ]
    },
    {
     "name": "stdout",
     "output_type": "stream",
     "text": [
      "plt0000166\n",
      "img00166.png\n"
     ]
    },
    {
     "name": "stderr",
     "output_type": "stream",
     "text": [
      "yt : [INFO     ] 2020-07-01 12:39:43,525 Parameters: current_time              = 32.6171875\n",
      "yt : [INFO     ] 2020-07-01 12:39:43,525 Parameters: domain_dimensions         = [256 256   1]\n",
      "yt : [INFO     ] 2020-07-01 12:39:43,526 Parameters: domain_left_edge          = [-50. -50.   0.]\n",
      "yt : [INFO     ] 2020-07-01 12:39:43,527 Parameters: domain_right_edge         = [ 50.  50.   1.]\n",
      "yt : [INFO     ] 2020-07-01 12:39:43,626 xlim = -50.000000 50.000000\n",
      "yt : [INFO     ] 2020-07-01 12:39:43,626 ylim = -50.000000 50.000000\n",
      "yt : [INFO     ] 2020-07-01 12:39:43,627 xlim = -50.000000 50.000000\n",
      "yt : [INFO     ] 2020-07-01 12:39:43,628 ylim = -50.000000 50.000000\n",
      "yt : [INFO     ] 2020-07-01 12:39:43,628 Making a fixed resolution buffer of (('boxlib', 'Psi')) 800 by 800\n",
      "yt : [WARNING  ] 2020-07-01 12:39:43,657 Plot image for field ('boxlib', 'Psi') has both positive and negative values. Min = -0.027985, Max = 0.029573.\n",
      "yt : [WARNING  ] 2020-07-01 12:39:43,657 Switching to symlog colorbar scaling unless linear scaling is specified later\n",
      "yt : [INFO     ] 2020-07-01 12:39:43,744 Making a fixed resolution buffer of (('boxlib', 'Psi')) 800 by 800\n",
      "yt : [WARNING  ] 2020-07-01 12:39:43,826 Supplied id_loc but draw_ids is False. Not drawing grid ids\n",
      "yt : [WARNING  ] 2020-07-01 12:39:43,828 Supplied id_loc but draw_ids is False. Not drawing grid ids\n",
      "yt : [WARNING  ] 2020-07-01 12:39:43,830 Supplied id_loc but draw_ids is False. Not drawing grid ids\n",
      "yt : [WARNING  ] 2020-07-01 12:39:43,831 Supplied id_loc but draw_ids is False. Not drawing grid ids\n",
      "yt : [WARNING  ] 2020-07-01 12:39:43,833 Supplied id_loc but draw_ids is False. Not drawing grid ids\n",
      "yt : [WARNING  ] 2020-07-01 12:39:43,834 Supplied id_loc but draw_ids is False. Not drawing grid ids\n",
      "yt : [WARNING  ] 2020-07-01 12:39:43,836 Supplied id_loc but draw_ids is False. Not drawing grid ids\n",
      "yt : [WARNING  ] 2020-07-01 12:39:43,838 Supplied id_loc but draw_ids is False. Not drawing grid ids\n",
      "yt : [WARNING  ] 2020-07-01 12:39:43,840 Supplied id_loc but draw_ids is False. Not drawing grid ids\n",
      "yt : [INFO     ] 2020-07-01 12:39:43,840 Saving plot img00167.png\n"
     ]
    },
    {
     "name": "stdout",
     "output_type": "stream",
     "text": [
      "plt0000167\n",
      "img00167.png\n"
     ]
    },
    {
     "name": "stderr",
     "output_type": "stream",
     "text": [
      "yt : [INFO     ] 2020-07-01 12:39:44,060 Parameters: current_time              = 32.8125\n",
      "yt : [INFO     ] 2020-07-01 12:39:44,060 Parameters: domain_dimensions         = [256 256   1]\n",
      "yt : [INFO     ] 2020-07-01 12:39:44,061 Parameters: domain_left_edge          = [-50. -50.   0.]\n",
      "yt : [INFO     ] 2020-07-01 12:39:44,061 Parameters: domain_right_edge         = [ 50.  50.   1.]\n",
      "yt : [INFO     ] 2020-07-01 12:39:44,160 xlim = -50.000000 50.000000\n",
      "yt : [INFO     ] 2020-07-01 12:39:44,161 ylim = -50.000000 50.000000\n",
      "yt : [INFO     ] 2020-07-01 12:39:44,162 xlim = -50.000000 50.000000\n",
      "yt : [INFO     ] 2020-07-01 12:39:44,162 ylim = -50.000000 50.000000\n",
      "yt : [INFO     ] 2020-07-01 12:39:44,163 Making a fixed resolution buffer of (('boxlib', 'Psi')) 800 by 800\n",
      "yt : [WARNING  ] 2020-07-01 12:39:44,192 Plot image for field ('boxlib', 'Psi') has both positive and negative values. Min = -0.027611, Max = 0.029375.\n",
      "yt : [WARNING  ] 2020-07-01 12:39:44,192 Switching to symlog colorbar scaling unless linear scaling is specified later\n",
      "yt : [INFO     ] 2020-07-01 12:39:44,392 Making a fixed resolution buffer of (('boxlib', 'Psi')) 800 by 800\n",
      "yt : [WARNING  ] 2020-07-01 12:39:44,478 Supplied id_loc but draw_ids is False. Not drawing grid ids\n",
      "yt : [WARNING  ] 2020-07-01 12:39:44,479 Supplied id_loc but draw_ids is False. Not drawing grid ids\n",
      "yt : [WARNING  ] 2020-07-01 12:39:44,481 Supplied id_loc but draw_ids is False. Not drawing grid ids\n",
      "yt : [WARNING  ] 2020-07-01 12:39:44,482 Supplied id_loc but draw_ids is False. Not drawing grid ids\n",
      "yt : [WARNING  ] 2020-07-01 12:39:44,484 Supplied id_loc but draw_ids is False. Not drawing grid ids\n",
      "yt : [WARNING  ] 2020-07-01 12:39:44,486 Supplied id_loc but draw_ids is False. Not drawing grid ids\n",
      "yt : [WARNING  ] 2020-07-01 12:39:44,487 Supplied id_loc but draw_ids is False. Not drawing grid ids\n",
      "yt : [WARNING  ] 2020-07-01 12:39:44,489 Supplied id_loc but draw_ids is False. Not drawing grid ids\n",
      "yt : [WARNING  ] 2020-07-01 12:39:44,491 Supplied id_loc but draw_ids is False. Not drawing grid ids\n",
      "yt : [INFO     ] 2020-07-01 12:39:44,491 Saving plot img00168.png\n"
     ]
    },
    {
     "name": "stdout",
     "output_type": "stream",
     "text": [
      "plt0000168\n",
      "img00168.png\n"
     ]
    },
    {
     "name": "stderr",
     "output_type": "stream",
     "text": [
      "yt : [INFO     ] 2020-07-01 12:39:44,711 Parameters: current_time              = 33.0078125\n",
      "yt : [INFO     ] 2020-07-01 12:39:44,712 Parameters: domain_dimensions         = [256 256   1]\n",
      "yt : [INFO     ] 2020-07-01 12:39:44,712 Parameters: domain_left_edge          = [-50. -50.   0.]\n",
      "yt : [INFO     ] 2020-07-01 12:39:44,713 Parameters: domain_right_edge         = [ 50.  50.   1.]\n",
      "yt : [INFO     ] 2020-07-01 12:39:44,814 xlim = -50.000000 50.000000\n",
      "yt : [INFO     ] 2020-07-01 12:39:44,815 ylim = -50.000000 50.000000\n",
      "yt : [INFO     ] 2020-07-01 12:39:44,816 xlim = -50.000000 50.000000\n",
      "yt : [INFO     ] 2020-07-01 12:39:44,816 ylim = -50.000000 50.000000\n",
      "yt : [INFO     ] 2020-07-01 12:39:44,817 Making a fixed resolution buffer of (('boxlib', 'Psi')) 800 by 800\n",
      "yt : [WARNING  ] 2020-07-01 12:39:44,846 Plot image for field ('boxlib', 'Psi') has both positive and negative values. Min = -0.027540, Max = 0.029255.\n",
      "yt : [WARNING  ] 2020-07-01 12:39:44,847 Switching to symlog colorbar scaling unless linear scaling is specified later\n",
      "yt : [INFO     ] 2020-07-01 12:39:44,935 Making a fixed resolution buffer of (('boxlib', 'Psi')) 800 by 800\n",
      "yt : [WARNING  ] 2020-07-01 12:39:45,017 Supplied id_loc but draw_ids is False. Not drawing grid ids\n",
      "yt : [WARNING  ] 2020-07-01 12:39:45,018 Supplied id_loc but draw_ids is False. Not drawing grid ids\n",
      "yt : [WARNING  ] 2020-07-01 12:39:45,020 Supplied id_loc but draw_ids is False. Not drawing grid ids\n",
      "yt : [WARNING  ] 2020-07-01 12:39:45,022 Supplied id_loc but draw_ids is False. Not drawing grid ids\n",
      "yt : [WARNING  ] 2020-07-01 12:39:45,023 Supplied id_loc but draw_ids is False. Not drawing grid ids\n",
      "yt : [WARNING  ] 2020-07-01 12:39:45,025 Supplied id_loc but draw_ids is False. Not drawing grid ids\n",
      "yt : [WARNING  ] 2020-07-01 12:39:45,027 Supplied id_loc but draw_ids is False. Not drawing grid ids\n",
      "yt : [WARNING  ] 2020-07-01 12:39:45,029 Supplied id_loc but draw_ids is False. Not drawing grid ids\n",
      "yt : [WARNING  ] 2020-07-01 12:39:45,030 Supplied id_loc but draw_ids is False. Not drawing grid ids\n",
      "yt : [INFO     ] 2020-07-01 12:39:45,030 Saving plot img00169.png\n"
     ]
    },
    {
     "name": "stdout",
     "output_type": "stream",
     "text": [
      "plt0000169\n",
      "img00169.png\n"
     ]
    },
    {
     "name": "stderr",
     "output_type": "stream",
     "text": [
      "yt : [INFO     ] 2020-07-01 12:39:45,251 Parameters: current_time              = 33.203125\n",
      "yt : [INFO     ] 2020-07-01 12:39:45,251 Parameters: domain_dimensions         = [256 256   1]\n",
      "yt : [INFO     ] 2020-07-01 12:39:45,252 Parameters: domain_left_edge          = [-50. -50.   0.]\n",
      "yt : [INFO     ] 2020-07-01 12:39:45,252 Parameters: domain_right_edge         = [ 50.  50.   1.]\n",
      "yt : [INFO     ] 2020-07-01 12:39:45,351 xlim = -50.000000 50.000000\n",
      "yt : [INFO     ] 2020-07-01 12:39:45,352 ylim = -50.000000 50.000000\n",
      "yt : [INFO     ] 2020-07-01 12:39:45,353 xlim = -50.000000 50.000000\n",
      "yt : [INFO     ] 2020-07-01 12:39:45,353 ylim = -50.000000 50.000000\n",
      "yt : [INFO     ] 2020-07-01 12:39:45,354 Making a fixed resolution buffer of (('boxlib', 'Psi')) 800 by 800\n",
      "yt : [WARNING  ] 2020-07-01 12:39:45,383 Plot image for field ('boxlib', 'Psi') has both positive and negative values. Min = -0.027340, Max = 0.029085.\n",
      "yt : [WARNING  ] 2020-07-01 12:39:45,383 Switching to symlog colorbar scaling unless linear scaling is specified later\n",
      "yt : [INFO     ] 2020-07-01 12:39:45,471 Making a fixed resolution buffer of (('boxlib', 'Psi')) 800 by 800\n",
      "yt : [WARNING  ] 2020-07-01 12:39:45,553 Supplied id_loc but draw_ids is False. Not drawing grid ids\n",
      "yt : [WARNING  ] 2020-07-01 12:39:45,554 Supplied id_loc but draw_ids is False. Not drawing grid ids\n",
      "yt : [WARNING  ] 2020-07-01 12:39:45,556 Supplied id_loc but draw_ids is False. Not drawing grid ids\n",
      "yt : [WARNING  ] 2020-07-01 12:39:45,558 Supplied id_loc but draw_ids is False. Not drawing grid ids\n",
      "yt : [WARNING  ] 2020-07-01 12:39:45,559 Supplied id_loc but draw_ids is False. Not drawing grid ids\n",
      "yt : [WARNING  ] 2020-07-01 12:39:45,561 Supplied id_loc but draw_ids is False. Not drawing grid ids\n",
      "yt : [WARNING  ] 2020-07-01 12:39:45,563 Supplied id_loc but draw_ids is False. Not drawing grid ids\n",
      "yt : [WARNING  ] 2020-07-01 12:39:45,564 Supplied id_loc but draw_ids is False. Not drawing grid ids\n",
      "yt : [WARNING  ] 2020-07-01 12:39:45,566 Supplied id_loc but draw_ids is False. Not drawing grid ids\n",
      "yt : [INFO     ] 2020-07-01 12:39:45,566 Saving plot img00170.png\n"
     ]
    },
    {
     "name": "stdout",
     "output_type": "stream",
     "text": [
      "plt0000170\n",
      "img00170.png\n"
     ]
    },
    {
     "name": "stderr",
     "output_type": "stream",
     "text": [
      "yt : [INFO     ] 2020-07-01 12:39:45,790 Parameters: current_time              = 33.3984375\n",
      "yt : [INFO     ] 2020-07-01 12:39:45,790 Parameters: domain_dimensions         = [256 256   1]\n",
      "yt : [INFO     ] 2020-07-01 12:39:45,791 Parameters: domain_left_edge          = [-50. -50.   0.]\n",
      "yt : [INFO     ] 2020-07-01 12:39:45,791 Parameters: domain_right_edge         = [ 50.  50.   1.]\n",
      "yt : [INFO     ] 2020-07-01 12:39:45,890 xlim = -50.000000 50.000000\n",
      "yt : [INFO     ] 2020-07-01 12:39:45,890 ylim = -50.000000 50.000000\n",
      "yt : [INFO     ] 2020-07-01 12:39:45,891 xlim = -50.000000 50.000000\n",
      "yt : [INFO     ] 2020-07-01 12:39:45,892 ylim = -50.000000 50.000000\n",
      "yt : [INFO     ] 2020-07-01 12:39:45,893 Making a fixed resolution buffer of (('boxlib', 'Psi')) 800 by 800\n",
      "yt : [WARNING  ] 2020-07-01 12:39:45,928 Plot image for field ('boxlib', 'Psi') has both positive and negative values. Min = -0.026825, Max = 0.028995.\n",
      "yt : [WARNING  ] 2020-07-01 12:39:45,928 Switching to symlog colorbar scaling unless linear scaling is specified later\n",
      "yt : [INFO     ] 2020-07-01 12:39:46,135 Making a fixed resolution buffer of (('boxlib', 'Psi')) 800 by 800\n",
      "yt : [WARNING  ] 2020-07-01 12:39:46,218 Supplied id_loc but draw_ids is False. Not drawing grid ids\n",
      "yt : [WARNING  ] 2020-07-01 12:39:46,220 Supplied id_loc but draw_ids is False. Not drawing grid ids\n",
      "yt : [WARNING  ] 2020-07-01 12:39:46,222 Supplied id_loc but draw_ids is False. Not drawing grid ids\n",
      "yt : [WARNING  ] 2020-07-01 12:39:46,224 Supplied id_loc but draw_ids is False. Not drawing grid ids\n",
      "yt : [WARNING  ] 2020-07-01 12:39:46,225 Supplied id_loc but draw_ids is False. Not drawing grid ids\n",
      "yt : [WARNING  ] 2020-07-01 12:39:46,227 Supplied id_loc but draw_ids is False. Not drawing grid ids\n",
      "yt : [WARNING  ] 2020-07-01 12:39:46,229 Supplied id_loc but draw_ids is False. Not drawing grid ids\n",
      "yt : [WARNING  ] 2020-07-01 12:39:46,230 Supplied id_loc but draw_ids is False. Not drawing grid ids\n",
      "yt : [WARNING  ] 2020-07-01 12:39:46,232 Supplied id_loc but draw_ids is False. Not drawing grid ids\n",
      "yt : [INFO     ] 2020-07-01 12:39:46,232 Saving plot img00171.png\n"
     ]
    },
    {
     "name": "stdout",
     "output_type": "stream",
     "text": [
      "plt0000171\n",
      "img00171.png\n"
     ]
    },
    {
     "name": "stderr",
     "output_type": "stream",
     "text": [
      "yt : [INFO     ] 2020-07-01 12:39:46,451 Parameters: current_time              = 33.59375\n",
      "yt : [INFO     ] 2020-07-01 12:39:46,452 Parameters: domain_dimensions         = [256 256   1]\n",
      "yt : [INFO     ] 2020-07-01 12:39:46,452 Parameters: domain_left_edge          = [-50. -50.   0.]\n",
      "yt : [INFO     ] 2020-07-01 12:39:46,453 Parameters: domain_right_edge         = [ 50.  50.   1.]\n",
      "yt : [INFO     ] 2020-07-01 12:39:46,555 xlim = -50.000000 50.000000\n",
      "yt : [INFO     ] 2020-07-01 12:39:46,555 ylim = -50.000000 50.000000\n",
      "yt : [INFO     ] 2020-07-01 12:39:46,556 xlim = -50.000000 50.000000\n",
      "yt : [INFO     ] 2020-07-01 12:39:46,557 ylim = -50.000000 50.000000\n",
      "yt : [INFO     ] 2020-07-01 12:39:46,557 Making a fixed resolution buffer of (('boxlib', 'Psi')) 800 by 800\n",
      "yt : [WARNING  ] 2020-07-01 12:39:46,587 Plot image for field ('boxlib', 'Psi') has both positive and negative values. Min = -0.026562, Max = 0.028870.\n",
      "yt : [WARNING  ] 2020-07-01 12:39:46,587 Switching to symlog colorbar scaling unless linear scaling is specified later\n",
      "yt : [INFO     ] 2020-07-01 12:39:46,675 Making a fixed resolution buffer of (('boxlib', 'Psi')) 800 by 800\n",
      "yt : [WARNING  ] 2020-07-01 12:39:46,757 Supplied id_loc but draw_ids is False. Not drawing grid ids\n",
      "yt : [WARNING  ] 2020-07-01 12:39:46,758 Supplied id_loc but draw_ids is False. Not drawing grid ids\n",
      "yt : [WARNING  ] 2020-07-01 12:39:46,760 Supplied id_loc but draw_ids is False. Not drawing grid ids\n",
      "yt : [WARNING  ] 2020-07-01 12:39:46,762 Supplied id_loc but draw_ids is False. Not drawing grid ids\n",
      "yt : [WARNING  ] 2020-07-01 12:39:46,763 Supplied id_loc but draw_ids is False. Not drawing grid ids\n",
      "yt : [WARNING  ] 2020-07-01 12:39:46,765 Supplied id_loc but draw_ids is False. Not drawing grid ids\n",
      "yt : [WARNING  ] 2020-07-01 12:39:46,766 Supplied id_loc but draw_ids is False. Not drawing grid ids\n",
      "yt : [WARNING  ] 2020-07-01 12:39:46,768 Supplied id_loc but draw_ids is False. Not drawing grid ids\n",
      "yt : [WARNING  ] 2020-07-01 12:39:46,769 Supplied id_loc but draw_ids is False. Not drawing grid ids\n",
      "yt : [INFO     ] 2020-07-01 12:39:46,771 Saving plot img00172.png\n"
     ]
    },
    {
     "name": "stdout",
     "output_type": "stream",
     "text": [
      "plt0000172\n",
      "img00172.png\n"
     ]
    },
    {
     "name": "stderr",
     "output_type": "stream",
     "text": [
      "yt : [INFO     ] 2020-07-01 12:39:46,990 Parameters: current_time              = 33.7890625\n",
      "yt : [INFO     ] 2020-07-01 12:39:46,991 Parameters: domain_dimensions         = [256 256   1]\n",
      "yt : [INFO     ] 2020-07-01 12:39:46,991 Parameters: domain_left_edge          = [-50. -50.   0.]\n",
      "yt : [INFO     ] 2020-07-01 12:39:46,992 Parameters: domain_right_edge         = [ 50.  50.   1.]\n",
      "yt : [INFO     ] 2020-07-01 12:39:47,091 xlim = -50.000000 50.000000\n",
      "yt : [INFO     ] 2020-07-01 12:39:47,091 ylim = -50.000000 50.000000\n",
      "yt : [INFO     ] 2020-07-01 12:39:47,092 xlim = -50.000000 50.000000\n",
      "yt : [INFO     ] 2020-07-01 12:39:47,093 ylim = -50.000000 50.000000\n",
      "yt : [INFO     ] 2020-07-01 12:39:47,093 Making a fixed resolution buffer of (('boxlib', 'Psi')) 800 by 800\n",
      "yt : [WARNING  ] 2020-07-01 12:39:47,122 Plot image for field ('boxlib', 'Psi') has both positive and negative values. Min = -0.026610, Max = 0.028663.\n",
      "yt : [WARNING  ] 2020-07-01 12:39:47,123 Switching to symlog colorbar scaling unless linear scaling is specified later\n",
      "yt : [INFO     ] 2020-07-01 12:39:47,209 Making a fixed resolution buffer of (('boxlib', 'Psi')) 800 by 800\n",
      "yt : [WARNING  ] 2020-07-01 12:39:47,291 Supplied id_loc but draw_ids is False. Not drawing grid ids\n",
      "yt : [WARNING  ] 2020-07-01 12:39:47,293 Supplied id_loc but draw_ids is False. Not drawing grid ids\n",
      "yt : [WARNING  ] 2020-07-01 12:39:47,295 Supplied id_loc but draw_ids is False. Not drawing grid ids\n",
      "yt : [WARNING  ] 2020-07-01 12:39:47,296 Supplied id_loc but draw_ids is False. Not drawing grid ids\n",
      "yt : [WARNING  ] 2020-07-01 12:39:47,298 Supplied id_loc but draw_ids is False. Not drawing grid ids\n",
      "yt : [WARNING  ] 2020-07-01 12:39:47,300 Supplied id_loc but draw_ids is False. Not drawing grid ids\n",
      "yt : [WARNING  ] 2020-07-01 12:39:47,302 Supplied id_loc but draw_ids is False. Not drawing grid ids\n",
      "yt : [WARNING  ] 2020-07-01 12:39:47,303 Supplied id_loc but draw_ids is False. Not drawing grid ids\n",
      "yt : [WARNING  ] 2020-07-01 12:39:47,305 Supplied id_loc but draw_ids is False. Not drawing grid ids\n",
      "yt : [INFO     ] 2020-07-01 12:39:47,305 Saving plot img00173.png\n"
     ]
    },
    {
     "name": "stdout",
     "output_type": "stream",
     "text": [
      "plt0000173\n",
      "img00173.png\n"
     ]
    },
    {
     "name": "stderr",
     "output_type": "stream",
     "text": [
      "yt : [INFO     ] 2020-07-01 12:39:47,527 Parameters: current_time              = 33.984375\n",
      "yt : [INFO     ] 2020-07-01 12:39:47,527 Parameters: domain_dimensions         = [256 256   1]\n",
      "yt : [INFO     ] 2020-07-01 12:39:47,528 Parameters: domain_left_edge          = [-50. -50.   0.]\n",
      "yt : [INFO     ] 2020-07-01 12:39:47,528 Parameters: domain_right_edge         = [ 50.  50.   1.]\n",
      "yt : [INFO     ] 2020-07-01 12:39:47,747 xlim = -50.000000 50.000000\n",
      "yt : [INFO     ] 2020-07-01 12:39:47,748 ylim = -50.000000 50.000000\n",
      "yt : [INFO     ] 2020-07-01 12:39:47,749 xlim = -50.000000 50.000000\n",
      "yt : [INFO     ] 2020-07-01 12:39:47,749 ylim = -50.000000 50.000000\n",
      "yt : [INFO     ] 2020-07-01 12:39:47,750 Making a fixed resolution buffer of (('boxlib', 'Psi')) 800 by 800\n",
      "yt : [WARNING  ] 2020-07-01 12:39:47,780 Plot image for field ('boxlib', 'Psi') has both positive and negative values. Min = -0.026508, Max = 0.028448.\n",
      "yt : [WARNING  ] 2020-07-01 12:39:47,781 Switching to symlog colorbar scaling unless linear scaling is specified later\n",
      "yt : [INFO     ] 2020-07-01 12:39:47,868 Making a fixed resolution buffer of (('boxlib', 'Psi')) 800 by 800\n",
      "yt : [WARNING  ] 2020-07-01 12:39:47,951 Supplied id_loc but draw_ids is False. Not drawing grid ids\n",
      "yt : [WARNING  ] 2020-07-01 12:39:47,953 Supplied id_loc but draw_ids is False. Not drawing grid ids\n",
      "yt : [WARNING  ] 2020-07-01 12:39:47,955 Supplied id_loc but draw_ids is False. Not drawing grid ids\n",
      "yt : [WARNING  ] 2020-07-01 12:39:47,956 Supplied id_loc but draw_ids is False. Not drawing grid ids\n",
      "yt : [WARNING  ] 2020-07-01 12:39:47,958 Supplied id_loc but draw_ids is False. Not drawing grid ids\n",
      "yt : [WARNING  ] 2020-07-01 12:39:47,959 Supplied id_loc but draw_ids is False. Not drawing grid ids\n",
      "yt : [WARNING  ] 2020-07-01 12:39:47,961 Supplied id_loc but draw_ids is False. Not drawing grid ids\n",
      "yt : [WARNING  ] 2020-07-01 12:39:47,963 Supplied id_loc but draw_ids is False. Not drawing grid ids\n",
      "yt : [WARNING  ] 2020-07-01 12:39:47,964 Supplied id_loc but draw_ids is False. Not drawing grid ids\n",
      "yt : [INFO     ] 2020-07-01 12:39:47,965 Saving plot img00174.png\n"
     ]
    },
    {
     "name": "stdout",
     "output_type": "stream",
     "text": [
      "plt0000174\n",
      "img00174.png\n"
     ]
    },
    {
     "name": "stderr",
     "output_type": "stream",
     "text": [
      "yt : [INFO     ] 2020-07-01 12:39:48,183 Parameters: current_time              = 34.1796875\n",
      "yt : [INFO     ] 2020-07-01 12:39:48,184 Parameters: domain_dimensions         = [256 256   1]\n",
      "yt : [INFO     ] 2020-07-01 12:39:48,184 Parameters: domain_left_edge          = [-50. -50.   0.]\n",
      "yt : [INFO     ] 2020-07-01 12:39:48,185 Parameters: domain_right_edge         = [ 50.  50.   1.]\n",
      "yt : [INFO     ] 2020-07-01 12:39:48,286 xlim = -50.000000 50.000000\n",
      "yt : [INFO     ] 2020-07-01 12:39:48,286 ylim = -50.000000 50.000000\n",
      "yt : [INFO     ] 2020-07-01 12:39:48,287 xlim = -50.000000 50.000000\n",
      "yt : [INFO     ] 2020-07-01 12:39:48,288 ylim = -50.000000 50.000000\n",
      "yt : [INFO     ] 2020-07-01 12:39:48,289 Making a fixed resolution buffer of (('boxlib', 'Psi')) 800 by 800\n",
      "yt : [WARNING  ] 2020-07-01 12:39:48,318 Plot image for field ('boxlib', 'Psi') has both positive and negative values. Min = -0.026477, Max = 0.028259.\n",
      "yt : [WARNING  ] 2020-07-01 12:39:48,318 Switching to symlog colorbar scaling unless linear scaling is specified later\n",
      "yt : [INFO     ] 2020-07-01 12:39:48,405 Making a fixed resolution buffer of (('boxlib', 'Psi')) 800 by 800\n",
      "yt : [WARNING  ] 2020-07-01 12:39:48,488 Supplied id_loc but draw_ids is False. Not drawing grid ids\n",
      "yt : [WARNING  ] 2020-07-01 12:39:48,489 Supplied id_loc but draw_ids is False. Not drawing grid ids\n",
      "yt : [WARNING  ] 2020-07-01 12:39:48,491 Supplied id_loc but draw_ids is False. Not drawing grid ids\n",
      "yt : [WARNING  ] 2020-07-01 12:39:48,493 Supplied id_loc but draw_ids is False. Not drawing grid ids\n",
      "yt : [WARNING  ] 2020-07-01 12:39:48,494 Supplied id_loc but draw_ids is False. Not drawing grid ids\n",
      "yt : [WARNING  ] 2020-07-01 12:39:48,496 Supplied id_loc but draw_ids is False. Not drawing grid ids\n",
      "yt : [WARNING  ] 2020-07-01 12:39:48,498 Supplied id_loc but draw_ids is False. Not drawing grid ids\n",
      "yt : [WARNING  ] 2020-07-01 12:39:48,499 Supplied id_loc but draw_ids is False. Not drawing grid ids\n",
      "yt : [WARNING  ] 2020-07-01 12:39:48,501 Supplied id_loc but draw_ids is False. Not drawing grid ids\n",
      "yt : [INFO     ] 2020-07-01 12:39:48,502 Saving plot img00175.png\n"
     ]
    },
    {
     "name": "stdout",
     "output_type": "stream",
     "text": [
      "plt0000175\n",
      "img00175.png\n"
     ]
    },
    {
     "name": "stderr",
     "output_type": "stream",
     "text": [
      "yt : [INFO     ] 2020-07-01 12:39:48,720 Parameters: current_time              = 34.375\n",
      "yt : [INFO     ] 2020-07-01 12:39:48,721 Parameters: domain_dimensions         = [256 256   1]\n",
      "yt : [INFO     ] 2020-07-01 12:39:48,721 Parameters: domain_left_edge          = [-50. -50.   0.]\n",
      "yt : [INFO     ] 2020-07-01 12:39:48,722 Parameters: domain_right_edge         = [ 50.  50.   1.]\n",
      "yt : [INFO     ] 2020-07-01 12:39:48,821 xlim = -50.000000 50.000000\n",
      "yt : [INFO     ] 2020-07-01 12:39:48,822 ylim = -50.000000 50.000000\n",
      "yt : [INFO     ] 2020-07-01 12:39:48,823 xlim = -50.000000 50.000000\n",
      "yt : [INFO     ] 2020-07-01 12:39:48,823 ylim = -50.000000 50.000000\n",
      "yt : [INFO     ] 2020-07-01 12:39:48,824 Making a fixed resolution buffer of (('boxlib', 'Psi')) 800 by 800\n",
      "yt : [WARNING  ] 2020-07-01 12:39:48,853 Plot image for field ('boxlib', 'Psi') has both positive and negative values. Min = -0.026427, Max = 0.028261.\n",
      "yt : [WARNING  ] 2020-07-01 12:39:48,854 Switching to symlog colorbar scaling unless linear scaling is specified later\n",
      "yt : [INFO     ] 2020-07-01 12:39:48,941 Making a fixed resolution buffer of (('boxlib', 'Psi')) 800 by 800\n",
      "yt : [WARNING  ] 2020-07-01 12:39:49,022 Supplied id_loc but draw_ids is False. Not drawing grid ids\n",
      "yt : [WARNING  ] 2020-07-01 12:39:49,024 Supplied id_loc but draw_ids is False. Not drawing grid ids\n",
      "yt : [WARNING  ] 2020-07-01 12:39:49,026 Supplied id_loc but draw_ids is False. Not drawing grid ids\n",
      "yt : [WARNING  ] 2020-07-01 12:39:49,027 Supplied id_loc but draw_ids is False. Not drawing grid ids\n",
      "yt : [WARNING  ] 2020-07-01 12:39:49,029 Supplied id_loc but draw_ids is False. Not drawing grid ids\n",
      "yt : [WARNING  ] 2020-07-01 12:39:49,030 Supplied id_loc but draw_ids is False. Not drawing grid ids\n",
      "yt : [WARNING  ] 2020-07-01 12:39:49,032 Supplied id_loc but draw_ids is False. Not drawing grid ids\n",
      "yt : [WARNING  ] 2020-07-01 12:39:49,034 Supplied id_loc but draw_ids is False. Not drawing grid ids\n",
      "yt : [WARNING  ] 2020-07-01 12:39:49,036 Supplied id_loc but draw_ids is False. Not drawing grid ids\n",
      "yt : [INFO     ] 2020-07-01 12:39:49,036 Saving plot img00176.png\n"
     ]
    },
    {
     "name": "stdout",
     "output_type": "stream",
     "text": [
      "plt0000176\n",
      "img00176.png\n"
     ]
    },
    {
     "name": "stderr",
     "output_type": "stream",
     "text": [
      "yt : [INFO     ] 2020-07-01 12:39:49,359 Parameters: current_time              = 34.5703125\n",
      "yt : [INFO     ] 2020-07-01 12:39:49,359 Parameters: domain_dimensions         = [256 256   1]\n",
      "yt : [INFO     ] 2020-07-01 12:39:49,360 Parameters: domain_left_edge          = [-50. -50.   0.]\n",
      "yt : [INFO     ] 2020-07-01 12:39:49,360 Parameters: domain_right_edge         = [ 50.  50.   1.]\n",
      "yt : [INFO     ] 2020-07-01 12:39:49,460 xlim = -50.000000 50.000000\n",
      "yt : [INFO     ] 2020-07-01 12:39:49,461 ylim = -50.000000 50.000000\n",
      "yt : [INFO     ] 2020-07-01 12:39:49,462 xlim = -50.000000 50.000000\n",
      "yt : [INFO     ] 2020-07-01 12:39:49,462 ylim = -50.000000 50.000000\n",
      "yt : [INFO     ] 2020-07-01 12:39:49,463 Making a fixed resolution buffer of (('boxlib', 'Psi')) 800 by 800\n",
      "yt : [WARNING  ] 2020-07-01 12:39:49,493 Plot image for field ('boxlib', 'Psi') has both positive and negative values. Min = -0.026318, Max = 0.028086.\n",
      "yt : [WARNING  ] 2020-07-01 12:39:49,493 Switching to symlog colorbar scaling unless linear scaling is specified later\n",
      "yt : [INFO     ] 2020-07-01 12:39:49,582 Making a fixed resolution buffer of (('boxlib', 'Psi')) 800 by 800\n",
      "yt : [WARNING  ] 2020-07-01 12:39:49,665 Supplied id_loc but draw_ids is False. Not drawing grid ids\n",
      "yt : [WARNING  ] 2020-07-01 12:39:49,667 Supplied id_loc but draw_ids is False. Not drawing grid ids\n",
      "yt : [WARNING  ] 2020-07-01 12:39:49,669 Supplied id_loc but draw_ids is False. Not drawing grid ids\n",
      "yt : [WARNING  ] 2020-07-01 12:39:49,670 Supplied id_loc but draw_ids is False. Not drawing grid ids\n",
      "yt : [WARNING  ] 2020-07-01 12:39:49,672 Supplied id_loc but draw_ids is False. Not drawing grid ids\n",
      "yt : [WARNING  ] 2020-07-01 12:39:49,673 Supplied id_loc but draw_ids is False. Not drawing grid ids\n",
      "yt : [WARNING  ] 2020-07-01 12:39:49,675 Supplied id_loc but draw_ids is False. Not drawing grid ids\n",
      "yt : [WARNING  ] 2020-07-01 12:39:49,677 Supplied id_loc but draw_ids is False. Not drawing grid ids\n",
      "yt : [WARNING  ] 2020-07-01 12:39:49,679 Supplied id_loc but draw_ids is False. Not drawing grid ids\n",
      "yt : [INFO     ] 2020-07-01 12:39:49,679 Saving plot img00177.png\n"
     ]
    },
    {
     "name": "stdout",
     "output_type": "stream",
     "text": [
      "plt0000177\n",
      "img00177.png\n"
     ]
    },
    {
     "name": "stderr",
     "output_type": "stream",
     "text": [
      "yt : [INFO     ] 2020-07-01 12:39:49,899 Parameters: current_time              = 34.765625\n",
      "yt : [INFO     ] 2020-07-01 12:39:49,899 Parameters: domain_dimensions         = [256 256   1]\n",
      "yt : [INFO     ] 2020-07-01 12:39:49,900 Parameters: domain_left_edge          = [-50. -50.   0.]\n",
      "yt : [INFO     ] 2020-07-01 12:39:49,901 Parameters: domain_right_edge         = [ 50.  50.   1.]\n",
      "yt : [INFO     ] 2020-07-01 12:39:50,000 xlim = -50.000000 50.000000\n",
      "yt : [INFO     ] 2020-07-01 12:39:50,001 ylim = -50.000000 50.000000\n",
      "yt : [INFO     ] 2020-07-01 12:39:50,002 xlim = -50.000000 50.000000\n",
      "yt : [INFO     ] 2020-07-01 12:39:50,002 ylim = -50.000000 50.000000\n",
      "yt : [INFO     ] 2020-07-01 12:39:50,003 Making a fixed resolution buffer of (('boxlib', 'Psi')) 800 by 800\n",
      "yt : [WARNING  ] 2020-07-01 12:39:50,033 Plot image for field ('boxlib', 'Psi') has both positive and negative values. Min = -0.026428, Max = 0.027804.\n",
      "yt : [WARNING  ] 2020-07-01 12:39:50,034 Switching to symlog colorbar scaling unless linear scaling is specified later\n",
      "yt : [INFO     ] 2020-07-01 12:39:50,120 Making a fixed resolution buffer of (('boxlib', 'Psi')) 800 by 800\n",
      "yt : [WARNING  ] 2020-07-01 12:39:50,202 Supplied id_loc but draw_ids is False. Not drawing grid ids\n",
      "yt : [WARNING  ] 2020-07-01 12:39:50,204 Supplied id_loc but draw_ids is False. Not drawing grid ids\n",
      "yt : [WARNING  ] 2020-07-01 12:39:50,206 Supplied id_loc but draw_ids is False. Not drawing grid ids\n",
      "yt : [WARNING  ] 2020-07-01 12:39:50,207 Supplied id_loc but draw_ids is False. Not drawing grid ids\n",
      "yt : [WARNING  ] 2020-07-01 12:39:50,209 Supplied id_loc but draw_ids is False. Not drawing grid ids\n",
      "yt : [WARNING  ] 2020-07-01 12:39:50,210 Supplied id_loc but draw_ids is False. Not drawing grid ids\n",
      "yt : [WARNING  ] 2020-07-01 12:39:50,212 Supplied id_loc but draw_ids is False. Not drawing grid ids\n",
      "yt : [WARNING  ] 2020-07-01 12:39:50,214 Supplied id_loc but draw_ids is False. Not drawing grid ids\n",
      "yt : [WARNING  ] 2020-07-01 12:39:50,216 Supplied id_loc but draw_ids is False. Not drawing grid ids\n",
      "yt : [INFO     ] 2020-07-01 12:39:50,216 Saving plot img00178.png\n"
     ]
    },
    {
     "name": "stdout",
     "output_type": "stream",
     "text": [
      "plt0000178\n",
      "img00178.png\n"
     ]
    },
    {
     "name": "stderr",
     "output_type": "stream",
     "text": [
      "yt : [INFO     ] 2020-07-01 12:39:50,436 Parameters: current_time              = 34.9609375\n",
      "yt : [INFO     ] 2020-07-01 12:39:50,436 Parameters: domain_dimensions         = [256 256   1]\n",
      "yt : [INFO     ] 2020-07-01 12:39:50,437 Parameters: domain_left_edge          = [-50. -50.   0.]\n",
      "yt : [INFO     ] 2020-07-01 12:39:50,437 Parameters: domain_right_edge         = [ 50.  50.   1.]\n",
      "yt : [INFO     ] 2020-07-01 12:39:50,536 xlim = -50.000000 50.000000\n",
      "yt : [INFO     ] 2020-07-01 12:39:50,536 ylim = -50.000000 50.000000\n",
      "yt : [INFO     ] 2020-07-01 12:39:50,537 xlim = -50.000000 50.000000\n",
      "yt : [INFO     ] 2020-07-01 12:39:50,537 ylim = -50.000000 50.000000\n",
      "yt : [INFO     ] 2020-07-01 12:39:50,538 Making a fixed resolution buffer of (('boxlib', 'Psi')) 800 by 800\n",
      "yt : [WARNING  ] 2020-07-01 12:39:50,568 Plot image for field ('boxlib', 'Psi') has both positive and negative values. Min = -0.026479, Max = 0.027631.\n",
      "yt : [WARNING  ] 2020-07-01 12:39:50,568 Switching to symlog colorbar scaling unless linear scaling is specified later\n",
      "yt : [INFO     ] 2020-07-01 12:39:50,772 Making a fixed resolution buffer of (('boxlib', 'Psi')) 800 by 800\n",
      "yt : [WARNING  ] 2020-07-01 12:39:50,857 Supplied id_loc but draw_ids is False. Not drawing grid ids\n",
      "yt : [WARNING  ] 2020-07-01 12:39:50,858 Supplied id_loc but draw_ids is False. Not drawing grid ids\n",
      "yt : [WARNING  ] 2020-07-01 12:39:50,860 Supplied id_loc but draw_ids is False. Not drawing grid ids\n",
      "yt : [WARNING  ] 2020-07-01 12:39:50,862 Supplied id_loc but draw_ids is False. Not drawing grid ids\n",
      "yt : [WARNING  ] 2020-07-01 12:39:50,863 Supplied id_loc but draw_ids is False. Not drawing grid ids\n",
      "yt : [WARNING  ] 2020-07-01 12:39:50,865 Supplied id_loc but draw_ids is False. Not drawing grid ids\n",
      "yt : [WARNING  ] 2020-07-01 12:39:50,867 Supplied id_loc but draw_ids is False. Not drawing grid ids\n",
      "yt : [WARNING  ] 2020-07-01 12:39:50,868 Supplied id_loc but draw_ids is False. Not drawing grid ids\n",
      "yt : [WARNING  ] 2020-07-01 12:39:50,870 Supplied id_loc but draw_ids is False. Not drawing grid ids\n",
      "yt : [INFO     ] 2020-07-01 12:39:50,870 Saving plot img00179.png\n"
     ]
    },
    {
     "name": "stdout",
     "output_type": "stream",
     "text": [
      "plt0000179\n",
      "img00179.png\n"
     ]
    },
    {
     "name": "stderr",
     "output_type": "stream",
     "text": [
      "yt : [INFO     ] 2020-07-01 12:39:51,089 Parameters: current_time              = 35.15625\n",
      "yt : [INFO     ] 2020-07-01 12:39:51,090 Parameters: domain_dimensions         = [256 256   1]\n",
      "yt : [INFO     ] 2020-07-01 12:39:51,090 Parameters: domain_left_edge          = [-50. -50.   0.]\n",
      "yt : [INFO     ] 2020-07-01 12:39:51,091 Parameters: domain_right_edge         = [ 50.  50.   1.]\n",
      "yt : [INFO     ] 2020-07-01 12:39:51,192 xlim = -50.000000 50.000000\n",
      "yt : [INFO     ] 2020-07-01 12:39:51,193 ylim = -50.000000 50.000000\n",
      "yt : [INFO     ] 2020-07-01 12:39:51,194 xlim = -50.000000 50.000000\n",
      "yt : [INFO     ] 2020-07-01 12:39:51,194 ylim = -50.000000 50.000000\n",
      "yt : [INFO     ] 2020-07-01 12:39:51,195 Making a fixed resolution buffer of (('boxlib', 'Psi')) 800 by 800\n",
      "yt : [WARNING  ] 2020-07-01 12:39:51,225 Plot image for field ('boxlib', 'Psi') has both positive and negative values. Min = -0.026532, Max = 0.027441.\n",
      "yt : [WARNING  ] 2020-07-01 12:39:51,225 Switching to symlog colorbar scaling unless linear scaling is specified later\n",
      "yt : [INFO     ] 2020-07-01 12:39:51,313 Making a fixed resolution buffer of (('boxlib', 'Psi')) 800 by 800\n",
      "yt : [WARNING  ] 2020-07-01 12:39:51,395 Supplied id_loc but draw_ids is False. Not drawing grid ids\n",
      "yt : [WARNING  ] 2020-07-01 12:39:51,397 Supplied id_loc but draw_ids is False. Not drawing grid ids\n",
      "yt : [WARNING  ] 2020-07-01 12:39:51,399 Supplied id_loc but draw_ids is False. Not drawing grid ids\n",
      "yt : [WARNING  ] 2020-07-01 12:39:51,400 Supplied id_loc but draw_ids is False. Not drawing grid ids\n",
      "yt : [WARNING  ] 2020-07-01 12:39:51,402 Supplied id_loc but draw_ids is False. Not drawing grid ids\n",
      "yt : [WARNING  ] 2020-07-01 12:39:51,403 Supplied id_loc but draw_ids is False. Not drawing grid ids\n",
      "yt : [WARNING  ] 2020-07-01 12:39:51,405 Supplied id_loc but draw_ids is False. Not drawing grid ids\n",
      "yt : [WARNING  ] 2020-07-01 12:39:51,406 Supplied id_loc but draw_ids is False. Not drawing grid ids\n",
      "yt : [WARNING  ] 2020-07-01 12:39:51,408 Supplied id_loc but draw_ids is False. Not drawing grid ids\n",
      "yt : [INFO     ] 2020-07-01 12:39:51,408 Saving plot img00180.png\n"
     ]
    },
    {
     "name": "stdout",
     "output_type": "stream",
     "text": [
      "plt0000180\n",
      "img00180.png\n"
     ]
    },
    {
     "name": "stderr",
     "output_type": "stream",
     "text": [
      "yt : [INFO     ] 2020-07-01 12:39:51,627 Parameters: current_time              = 35.3515625\n",
      "yt : [INFO     ] 2020-07-01 12:39:51,627 Parameters: domain_dimensions         = [256 256   1]\n",
      "yt : [INFO     ] 2020-07-01 12:39:51,628 Parameters: domain_left_edge          = [-50. -50.   0.]\n",
      "yt : [INFO     ] 2020-07-01 12:39:51,628 Parameters: domain_right_edge         = [ 50.  50.   1.]\n",
      "yt : [INFO     ] 2020-07-01 12:39:51,729 xlim = -50.000000 50.000000\n",
      "yt : [INFO     ] 2020-07-01 12:39:51,730 ylim = -50.000000 50.000000\n",
      "yt : [INFO     ] 2020-07-01 12:39:51,731 xlim = -50.000000 50.000000\n",
      "yt : [INFO     ] 2020-07-01 12:39:51,731 ylim = -50.000000 50.000000\n",
      "yt : [INFO     ] 2020-07-01 12:39:51,732 Making a fixed resolution buffer of (('boxlib', 'Psi')) 800 by 800\n",
      "yt : [WARNING  ] 2020-07-01 12:39:51,762 Plot image for field ('boxlib', 'Psi') has both positive and negative values. Min = -0.026318, Max = 0.027278.\n",
      "yt : [WARNING  ] 2020-07-01 12:39:51,762 Switching to symlog colorbar scaling unless linear scaling is specified later\n",
      "yt : [INFO     ] 2020-07-01 12:39:51,849 Making a fixed resolution buffer of (('boxlib', 'Psi')) 800 by 800\n",
      "yt : [WARNING  ] 2020-07-01 12:39:51,930 Supplied id_loc but draw_ids is False. Not drawing grid ids\n",
      "yt : [WARNING  ] 2020-07-01 12:39:51,932 Supplied id_loc but draw_ids is False. Not drawing grid ids\n",
      "yt : [WARNING  ] 2020-07-01 12:39:51,934 Supplied id_loc but draw_ids is False. Not drawing grid ids\n",
      "yt : [WARNING  ] 2020-07-01 12:39:51,935 Supplied id_loc but draw_ids is False. Not drawing grid ids\n",
      "yt : [WARNING  ] 2020-07-01 12:39:51,937 Supplied id_loc but draw_ids is False. Not drawing grid ids\n",
      "yt : [WARNING  ] 2020-07-01 12:39:51,938 Supplied id_loc but draw_ids is False. Not drawing grid ids\n",
      "yt : [WARNING  ] 2020-07-01 12:39:51,940 Supplied id_loc but draw_ids is False. Not drawing grid ids\n",
      "yt : [WARNING  ] 2020-07-01 12:39:51,941 Supplied id_loc but draw_ids is False. Not drawing grid ids\n",
      "yt : [WARNING  ] 2020-07-01 12:39:51,943 Supplied id_loc but draw_ids is False. Not drawing grid ids\n",
      "yt : [INFO     ] 2020-07-01 12:39:51,943 Saving plot img00181.png\n"
     ]
    },
    {
     "name": "stdout",
     "output_type": "stream",
     "text": [
      "plt0000181\n",
      "img00181.png\n"
     ]
    },
    {
     "name": "stderr",
     "output_type": "stream",
     "text": [
      "yt : [INFO     ] 2020-07-01 12:39:52,168 Parameters: current_time              = 35.546875\n",
      "yt : [INFO     ] 2020-07-01 12:39:52,168 Parameters: domain_dimensions         = [256 256   1]\n",
      "yt : [INFO     ] 2020-07-01 12:39:52,169 Parameters: domain_left_edge          = [-50. -50.   0.]\n",
      "yt : [INFO     ] 2020-07-01 12:39:52,170 Parameters: domain_right_edge         = [ 50.  50.   1.]\n",
      "yt : [INFO     ] 2020-07-01 12:39:52,389 xlim = -50.000000 50.000000\n",
      "yt : [INFO     ] 2020-07-01 12:39:52,389 ylim = -50.000000 50.000000\n",
      "yt : [INFO     ] 2020-07-01 12:39:52,390 xlim = -50.000000 50.000000\n",
      "yt : [INFO     ] 2020-07-01 12:39:52,391 ylim = -50.000000 50.000000\n",
      "yt : [INFO     ] 2020-07-01 12:39:52,392 Making a fixed resolution buffer of (('boxlib', 'Psi')) 800 by 800\n",
      "yt : [WARNING  ] 2020-07-01 12:39:52,422 Plot image for field ('boxlib', 'Psi') has both positive and negative values. Min = -0.026261, Max = 0.027106.\n",
      "yt : [WARNING  ] 2020-07-01 12:39:52,423 Switching to symlog colorbar scaling unless linear scaling is specified later\n",
      "yt : [INFO     ] 2020-07-01 12:39:52,511 Making a fixed resolution buffer of (('boxlib', 'Psi')) 800 by 800\n",
      "yt : [WARNING  ] 2020-07-01 12:39:52,594 Supplied id_loc but draw_ids is False. Not drawing grid ids\n",
      "yt : [WARNING  ] 2020-07-01 12:39:52,596 Supplied id_loc but draw_ids is False. Not drawing grid ids\n",
      "yt : [WARNING  ] 2020-07-01 12:39:52,597 Supplied id_loc but draw_ids is False. Not drawing grid ids\n",
      "yt : [WARNING  ] 2020-07-01 12:39:52,599 Supplied id_loc but draw_ids is False. Not drawing grid ids\n",
      "yt : [WARNING  ] 2020-07-01 12:39:52,600 Supplied id_loc but draw_ids is False. Not drawing grid ids\n",
      "yt : [WARNING  ] 2020-07-01 12:39:52,602 Supplied id_loc but draw_ids is False. Not drawing grid ids\n",
      "yt : [WARNING  ] 2020-07-01 12:39:52,604 Supplied id_loc but draw_ids is False. Not drawing grid ids\n",
      "yt : [WARNING  ] 2020-07-01 12:39:52,606 Supplied id_loc but draw_ids is False. Not drawing grid ids\n",
      "yt : [WARNING  ] 2020-07-01 12:39:52,607 Supplied id_loc but draw_ids is False. Not drawing grid ids\n",
      "yt : [INFO     ] 2020-07-01 12:39:52,608 Saving plot img00182.png\n"
     ]
    },
    {
     "name": "stdout",
     "output_type": "stream",
     "text": [
      "plt0000182\n",
      "img00182.png\n"
     ]
    },
    {
     "name": "stderr",
     "output_type": "stream",
     "text": [
      "yt : [INFO     ] 2020-07-01 12:39:52,828 Parameters: current_time              = 35.7421875\n",
      "yt : [INFO     ] 2020-07-01 12:39:52,828 Parameters: domain_dimensions         = [256 256   1]\n",
      "yt : [INFO     ] 2020-07-01 12:39:52,829 Parameters: domain_left_edge          = [-50. -50.   0.]\n",
      "yt : [INFO     ] 2020-07-01 12:39:52,829 Parameters: domain_right_edge         = [ 50.  50.   1.]\n",
      "yt : [INFO     ] 2020-07-01 12:39:52,930 xlim = -50.000000 50.000000\n",
      "yt : [INFO     ] 2020-07-01 12:39:52,931 ylim = -50.000000 50.000000\n",
      "yt : [INFO     ] 2020-07-01 12:39:52,932 xlim = -50.000000 50.000000\n",
      "yt : [INFO     ] 2020-07-01 12:39:52,932 ylim = -50.000000 50.000000\n",
      "yt : [INFO     ] 2020-07-01 12:39:52,933 Making a fixed resolution buffer of (('boxlib', 'Psi')) 800 by 800\n",
      "yt : [WARNING  ] 2020-07-01 12:39:52,963 Plot image for field ('boxlib', 'Psi') has both positive and negative values. Min = -0.026188, Max = 0.027053.\n",
      "yt : [WARNING  ] 2020-07-01 12:39:52,963 Switching to symlog colorbar scaling unless linear scaling is specified later\n",
      "yt : [INFO     ] 2020-07-01 12:39:53,051 Making a fixed resolution buffer of (('boxlib', 'Psi')) 800 by 800\n",
      "yt : [WARNING  ] 2020-07-01 12:39:53,133 Supplied id_loc but draw_ids is False. Not drawing grid ids\n",
      "yt : [WARNING  ] 2020-07-01 12:39:53,135 Supplied id_loc but draw_ids is False. Not drawing grid ids\n",
      "yt : [WARNING  ] 2020-07-01 12:39:53,137 Supplied id_loc but draw_ids is False. Not drawing grid ids\n",
      "yt : [WARNING  ] 2020-07-01 12:39:53,138 Supplied id_loc but draw_ids is False. Not drawing grid ids\n",
      "yt : [WARNING  ] 2020-07-01 12:39:53,140 Supplied id_loc but draw_ids is False. Not drawing grid ids\n",
      "yt : [WARNING  ] 2020-07-01 12:39:53,141 Supplied id_loc but draw_ids is False. Not drawing grid ids\n",
      "yt : [WARNING  ] 2020-07-01 12:39:53,143 Supplied id_loc but draw_ids is False. Not drawing grid ids\n",
      "yt : [WARNING  ] 2020-07-01 12:39:53,144 Supplied id_loc but draw_ids is False. Not drawing grid ids\n",
      "yt : [WARNING  ] 2020-07-01 12:39:53,146 Supplied id_loc but draw_ids is False. Not drawing grid ids\n",
      "yt : [INFO     ] 2020-07-01 12:39:53,146 Saving plot img00183.png\n"
     ]
    },
    {
     "name": "stdout",
     "output_type": "stream",
     "text": [
      "plt0000183\n",
      "img00183.png\n"
     ]
    },
    {
     "name": "stderr",
     "output_type": "stream",
     "text": [
      "yt : [INFO     ] 2020-07-01 12:39:53,365 Parameters: current_time              = 35.9375\n",
      "yt : [INFO     ] 2020-07-01 12:39:53,366 Parameters: domain_dimensions         = [256 256   1]\n",
      "yt : [INFO     ] 2020-07-01 12:39:53,366 Parameters: domain_left_edge          = [-50. -50.   0.]\n",
      "yt : [INFO     ] 2020-07-01 12:39:53,367 Parameters: domain_right_edge         = [ 50.  50.   1.]\n",
      "yt : [INFO     ] 2020-07-01 12:39:53,467 xlim = -50.000000 50.000000\n",
      "yt : [INFO     ] 2020-07-01 12:39:53,467 ylim = -50.000000 50.000000\n",
      "yt : [INFO     ] 2020-07-01 12:39:53,468 xlim = -50.000000 50.000000\n",
      "yt : [INFO     ] 2020-07-01 12:39:53,469 ylim = -50.000000 50.000000\n",
      "yt : [INFO     ] 2020-07-01 12:39:53,469 Making a fixed resolution buffer of (('boxlib', 'Psi')) 800 by 800\n",
      "yt : [WARNING  ] 2020-07-01 12:39:53,500 Plot image for field ('boxlib', 'Psi') has both positive and negative values. Min = -0.026155, Max = 0.026772.\n",
      "yt : [WARNING  ] 2020-07-01 12:39:53,500 Switching to symlog colorbar scaling unless linear scaling is specified later\n",
      "yt : [INFO     ] 2020-07-01 12:39:53,586 Making a fixed resolution buffer of (('boxlib', 'Psi')) 800 by 800\n",
      "yt : [WARNING  ] 2020-07-01 12:39:53,668 Supplied id_loc but draw_ids is False. Not drawing grid ids\n",
      "yt : [WARNING  ] 2020-07-01 12:39:53,670 Supplied id_loc but draw_ids is False. Not drawing grid ids\n",
      "yt : [WARNING  ] 2020-07-01 12:39:53,672 Supplied id_loc but draw_ids is False. Not drawing grid ids\n",
      "yt : [WARNING  ] 2020-07-01 12:39:53,673 Supplied id_loc but draw_ids is False. Not drawing grid ids\n",
      "yt : [WARNING  ] 2020-07-01 12:39:53,675 Supplied id_loc but draw_ids is False. Not drawing grid ids\n",
      "yt : [WARNING  ] 2020-07-01 12:39:53,676 Supplied id_loc but draw_ids is False. Not drawing grid ids\n",
      "yt : [WARNING  ] 2020-07-01 12:39:53,678 Supplied id_loc but draw_ids is False. Not drawing grid ids\n",
      "yt : [WARNING  ] 2020-07-01 12:39:53,679 Supplied id_loc but draw_ids is False. Not drawing grid ids\n",
      "yt : [WARNING  ] 2020-07-01 12:39:53,681 Supplied id_loc but draw_ids is False. Not drawing grid ids\n",
      "yt : [INFO     ] 2020-07-01 12:39:53,681 Saving plot img00184.png\n"
     ]
    },
    {
     "name": "stdout",
     "output_type": "stream",
     "text": [
      "plt0000184\n",
      "img00184.png\n"
     ]
    },
    {
     "name": "stderr",
     "output_type": "stream",
     "text": [
      "yt : [INFO     ] 2020-07-01 12:39:54,005 Parameters: current_time              = 36.1328125\n",
      "yt : [INFO     ] 2020-07-01 12:39:54,006 Parameters: domain_dimensions         = [256 256   1]\n",
      "yt : [INFO     ] 2020-07-01 12:39:54,006 Parameters: domain_left_edge          = [-50. -50.   0.]\n",
      "yt : [INFO     ] 2020-07-01 12:39:54,007 Parameters: domain_right_edge         = [ 50.  50.   1.]\n",
      "yt : [INFO     ] 2020-07-01 12:39:54,108 xlim = -50.000000 50.000000\n",
      "yt : [INFO     ] 2020-07-01 12:39:54,108 ylim = -50.000000 50.000000\n",
      "yt : [INFO     ] 2020-07-01 12:39:54,109 xlim = -50.000000 50.000000\n",
      "yt : [INFO     ] 2020-07-01 12:39:54,110 ylim = -50.000000 50.000000\n",
      "yt : [INFO     ] 2020-07-01 12:39:54,111 Making a fixed resolution buffer of (('boxlib', 'Psi')) 800 by 800\n",
      "yt : [WARNING  ] 2020-07-01 12:39:54,141 Plot image for field ('boxlib', 'Psi') has both positive and negative values. Min = -0.026212, Max = 0.026617.\n",
      "yt : [WARNING  ] 2020-07-01 12:39:54,142 Switching to symlog colorbar scaling unless linear scaling is specified later\n",
      "yt : [INFO     ] 2020-07-01 12:39:54,231 Making a fixed resolution buffer of (('boxlib', 'Psi')) 800 by 800\n",
      "yt : [WARNING  ] 2020-07-01 12:39:54,313 Supplied id_loc but draw_ids is False. Not drawing grid ids\n",
      "yt : [WARNING  ] 2020-07-01 12:39:54,315 Supplied id_loc but draw_ids is False. Not drawing grid ids\n",
      "yt : [WARNING  ] 2020-07-01 12:39:54,317 Supplied id_loc but draw_ids is False. Not drawing grid ids\n",
      "yt : [WARNING  ] 2020-07-01 12:39:54,318 Supplied id_loc but draw_ids is False. Not drawing grid ids\n",
      "yt : [WARNING  ] 2020-07-01 12:39:54,320 Supplied id_loc but draw_ids is False. Not drawing grid ids\n",
      "yt : [WARNING  ] 2020-07-01 12:39:54,322 Supplied id_loc but draw_ids is False. Not drawing grid ids\n",
      "yt : [WARNING  ] 2020-07-01 12:39:54,324 Supplied id_loc but draw_ids is False. Not drawing grid ids\n",
      "yt : [WARNING  ] 2020-07-01 12:39:54,327 Supplied id_loc but draw_ids is False. Not drawing grid ids\n",
      "yt : [WARNING  ] 2020-07-01 12:39:54,329 Supplied id_loc but draw_ids is False. Not drawing grid ids\n",
      "yt : [INFO     ] 2020-07-01 12:39:54,329 Saving plot img00185.png\n"
     ]
    },
    {
     "name": "stdout",
     "output_type": "stream",
     "text": [
      "plt0000185\n",
      "img00185.png\n"
     ]
    },
    {
     "name": "stderr",
     "output_type": "stream",
     "text": [
      "yt : [INFO     ] 2020-07-01 12:39:54,548 Parameters: current_time              = 36.328125\n",
      "yt : [INFO     ] 2020-07-01 12:39:54,548 Parameters: domain_dimensions         = [256 256   1]\n",
      "yt : [INFO     ] 2020-07-01 12:39:54,549 Parameters: domain_left_edge          = [-50. -50.   0.]\n",
      "yt : [INFO     ] 2020-07-01 12:39:54,549 Parameters: domain_right_edge         = [ 50.  50.   1.]\n",
      "yt : [INFO     ] 2020-07-01 12:39:54,649 xlim = -50.000000 50.000000\n",
      "yt : [INFO     ] 2020-07-01 12:39:54,650 ylim = -50.000000 50.000000\n",
      "yt : [INFO     ] 2020-07-01 12:39:54,651 xlim = -50.000000 50.000000\n",
      "yt : [INFO     ] 2020-07-01 12:39:54,651 ylim = -50.000000 50.000000\n",
      "yt : [INFO     ] 2020-07-01 12:39:54,652 Making a fixed resolution buffer of (('boxlib', 'Psi')) 800 by 800\n",
      "yt : [WARNING  ] 2020-07-01 12:39:54,683 Plot image for field ('boxlib', 'Psi') has both positive and negative values. Min = -0.026165, Max = 0.026370.\n",
      "yt : [WARNING  ] 2020-07-01 12:39:54,683 Switching to symlog colorbar scaling unless linear scaling is specified later\n",
      "yt : [INFO     ] 2020-07-01 12:39:54,770 Making a fixed resolution buffer of (('boxlib', 'Psi')) 800 by 800\n",
      "yt : [WARNING  ] 2020-07-01 12:39:54,853 Supplied id_loc but draw_ids is False. Not drawing grid ids\n",
      "yt : [WARNING  ] 2020-07-01 12:39:54,854 Supplied id_loc but draw_ids is False. Not drawing grid ids\n",
      "yt : [WARNING  ] 2020-07-01 12:39:54,856 Supplied id_loc but draw_ids is False. Not drawing grid ids\n",
      "yt : [WARNING  ] 2020-07-01 12:39:54,858 Supplied id_loc but draw_ids is False. Not drawing grid ids\n",
      "yt : [WARNING  ] 2020-07-01 12:39:54,859 Supplied id_loc but draw_ids is False. Not drawing grid ids\n",
      "yt : [WARNING  ] 2020-07-01 12:39:54,861 Supplied id_loc but draw_ids is False. Not drawing grid ids\n",
      "yt : [WARNING  ] 2020-07-01 12:39:54,863 Supplied id_loc but draw_ids is False. Not drawing grid ids\n",
      "yt : [WARNING  ] 2020-07-01 12:39:54,865 Supplied id_loc but draw_ids is False. Not drawing grid ids\n",
      "yt : [WARNING  ] 2020-07-01 12:39:54,866 Supplied id_loc but draw_ids is False. Not drawing grid ids\n",
      "yt : [INFO     ] 2020-07-01 12:39:54,867 Saving plot img00186.png\n"
     ]
    },
    {
     "name": "stdout",
     "output_type": "stream",
     "text": [
      "plt0000186\n",
      "img00186.png\n"
     ]
    },
    {
     "name": "stderr",
     "output_type": "stream",
     "text": [
      "yt : [INFO     ] 2020-07-01 12:39:55,084 Parameters: current_time              = 36.5234375\n",
      "yt : [INFO     ] 2020-07-01 12:39:55,085 Parameters: domain_dimensions         = [256 256   1]\n",
      "yt : [INFO     ] 2020-07-01 12:39:55,085 Parameters: domain_left_edge          = [-50. -50.   0.]\n",
      "yt : [INFO     ] 2020-07-01 12:39:55,086 Parameters: domain_right_edge         = [ 50.  50.   1.]\n",
      "yt : [INFO     ] 2020-07-01 12:39:55,185 xlim = -50.000000 50.000000\n",
      "yt : [INFO     ] 2020-07-01 12:39:55,186 ylim = -50.000000 50.000000\n",
      "yt : [INFO     ] 2020-07-01 12:39:55,187 xlim = -50.000000 50.000000\n",
      "yt : [INFO     ] 2020-07-01 12:39:55,187 ylim = -50.000000 50.000000\n",
      "yt : [INFO     ] 2020-07-01 12:39:55,188 Making a fixed resolution buffer of (('boxlib', 'Psi')) 800 by 800\n",
      "yt : [WARNING  ] 2020-07-01 12:39:55,219 Plot image for field ('boxlib', 'Psi') has both positive and negative values. Min = -0.026145, Max = 0.026102.\n",
      "yt : [WARNING  ] 2020-07-01 12:39:55,219 Switching to symlog colorbar scaling unless linear scaling is specified later\n",
      "yt : [INFO     ] 2020-07-01 12:39:55,307 Making a fixed resolution buffer of (('boxlib', 'Psi')) 800 by 800\n"
     ]
    },
    {
     "name": "stdout",
     "output_type": "stream",
     "text": [
      "plt0000187\n",
      "img00187.png\n"
     ]
    },
    {
     "name": "stderr",
     "output_type": "stream",
     "text": [
      "yt : [WARNING  ] 2020-07-01 12:39:55,510 Supplied id_loc but draw_ids is False. Not drawing grid ids\n",
      "yt : [WARNING  ] 2020-07-01 12:39:55,511 Supplied id_loc but draw_ids is False. Not drawing grid ids\n",
      "yt : [WARNING  ] 2020-07-01 12:39:55,513 Supplied id_loc but draw_ids is False. Not drawing grid ids\n",
      "yt : [WARNING  ] 2020-07-01 12:39:55,515 Supplied id_loc but draw_ids is False. Not drawing grid ids\n",
      "yt : [WARNING  ] 2020-07-01 12:39:55,517 Supplied id_loc but draw_ids is False. Not drawing grid ids\n",
      "yt : [WARNING  ] 2020-07-01 12:39:55,518 Supplied id_loc but draw_ids is False. Not drawing grid ids\n",
      "yt : [WARNING  ] 2020-07-01 12:39:55,520 Supplied id_loc but draw_ids is False. Not drawing grid ids\n",
      "yt : [WARNING  ] 2020-07-01 12:39:55,522 Supplied id_loc but draw_ids is False. Not drawing grid ids\n",
      "yt : [WARNING  ] 2020-07-01 12:39:55,524 Supplied id_loc but draw_ids is False. Not drawing grid ids\n",
      "yt : [INFO     ] 2020-07-01 12:39:55,524 Saving plot img00187.png\n",
      "yt : [INFO     ] 2020-07-01 12:39:55,743 Parameters: current_time              = 36.71875\n",
      "yt : [INFO     ] 2020-07-01 12:39:55,743 Parameters: domain_dimensions         = [256 256   1]\n",
      "yt : [INFO     ] 2020-07-01 12:39:55,744 Parameters: domain_left_edge          = [-50. -50.   0.]\n",
      "yt : [INFO     ] 2020-07-01 12:39:55,744 Parameters: domain_right_edge         = [ 50.  50.   1.]\n",
      "yt : [INFO     ] 2020-07-01 12:39:55,844 xlim = -50.000000 50.000000\n",
      "yt : [INFO     ] 2020-07-01 12:39:55,844 ylim = -50.000000 50.000000\n",
      "yt : [INFO     ] 2020-07-01 12:39:55,845 xlim = -50.000000 50.000000\n",
      "yt : [INFO     ] 2020-07-01 12:39:55,846 ylim = -50.000000 50.000000\n",
      "yt : [INFO     ] 2020-07-01 12:39:55,846 Making a fixed resolution buffer of (('boxlib', 'Psi')) 800 by 800\n",
      "yt : [WARNING  ] 2020-07-01 12:39:55,877 Plot image for field ('boxlib', 'Psi') has both positive and negative values. Min = -0.025900, Max = 0.025897.\n",
      "yt : [WARNING  ] 2020-07-01 12:39:55,877 Switching to symlog colorbar scaling unless linear scaling is specified later\n",
      "yt : [INFO     ] 2020-07-01 12:39:55,965 Making a fixed resolution buffer of (('boxlib', 'Psi')) 800 by 800\n",
      "yt : [WARNING  ] 2020-07-01 12:39:56,049 Supplied id_loc but draw_ids is False. Not drawing grid ids\n",
      "yt : [WARNING  ] 2020-07-01 12:39:56,050 Supplied id_loc but draw_ids is False. Not drawing grid ids\n",
      "yt : [WARNING  ] 2020-07-01 12:39:56,052 Supplied id_loc but draw_ids is False. Not drawing grid ids\n",
      "yt : [WARNING  ] 2020-07-01 12:39:56,054 Supplied id_loc but draw_ids is False. Not drawing grid ids\n",
      "yt : [WARNING  ] 2020-07-01 12:39:56,056 Supplied id_loc but draw_ids is False. Not drawing grid ids\n",
      "yt : [WARNING  ] 2020-07-01 12:39:56,057 Supplied id_loc but draw_ids is False. Not drawing grid ids\n",
      "yt : [WARNING  ] 2020-07-01 12:39:56,059 Supplied id_loc but draw_ids is False. Not drawing grid ids\n",
      "yt : [WARNING  ] 2020-07-01 12:39:56,060 Supplied id_loc but draw_ids is False. Not drawing grid ids\n",
      "yt : [WARNING  ] 2020-07-01 12:39:56,062 Supplied id_loc but draw_ids is False. Not drawing grid ids\n",
      "yt : [INFO     ] 2020-07-01 12:39:56,063 Saving plot img00188.png\n"
     ]
    },
    {
     "name": "stdout",
     "output_type": "stream",
     "text": [
      "plt0000188\n",
      "img00188.png\n"
     ]
    },
    {
     "name": "stderr",
     "output_type": "stream",
     "text": [
      "yt : [INFO     ] 2020-07-01 12:39:56,280 Parameters: current_time              = 36.9140625\n",
      "yt : [INFO     ] 2020-07-01 12:39:56,280 Parameters: domain_dimensions         = [256 256   1]\n",
      "yt : [INFO     ] 2020-07-01 12:39:56,281 Parameters: domain_left_edge          = [-50. -50.   0.]\n",
      "yt : [INFO     ] 2020-07-01 12:39:56,281 Parameters: domain_right_edge         = [ 50.  50.   1.]\n",
      "yt : [INFO     ] 2020-07-01 12:39:56,381 xlim = -50.000000 50.000000\n",
      "yt : [INFO     ] 2020-07-01 12:39:56,381 ylim = -50.000000 50.000000\n",
      "yt : [INFO     ] 2020-07-01 12:39:56,382 xlim = -50.000000 50.000000\n",
      "yt : [INFO     ] 2020-07-01 12:39:56,383 ylim = -50.000000 50.000000\n",
      "yt : [INFO     ] 2020-07-01 12:39:56,384 Making a fixed resolution buffer of (('boxlib', 'Psi')) 800 by 800\n",
      "yt : [WARNING  ] 2020-07-01 12:39:56,415 Plot image for field ('boxlib', 'Psi') has both positive and negative values. Min = -0.025854, Max = 0.025759.\n",
      "yt : [WARNING  ] 2020-07-01 12:39:56,415 Switching to symlog colorbar scaling unless linear scaling is specified later\n",
      "yt : [INFO     ] 2020-07-01 12:39:56,502 Making a fixed resolution buffer of (('boxlib', 'Psi')) 800 by 800\n",
      "yt : [WARNING  ] 2020-07-01 12:39:56,584 Supplied id_loc but draw_ids is False. Not drawing grid ids\n",
      "yt : [WARNING  ] 2020-07-01 12:39:56,586 Supplied id_loc but draw_ids is False. Not drawing grid ids\n",
      "yt : [WARNING  ] 2020-07-01 12:39:56,587 Supplied id_loc but draw_ids is False. Not drawing grid ids\n",
      "yt : [WARNING  ] 2020-07-01 12:39:56,589 Supplied id_loc but draw_ids is False. Not drawing grid ids\n",
      "yt : [WARNING  ] 2020-07-01 12:39:56,591 Supplied id_loc but draw_ids is False. Not drawing grid ids\n",
      "yt : [WARNING  ] 2020-07-01 12:39:56,592 Supplied id_loc but draw_ids is False. Not drawing grid ids\n",
      "yt : [WARNING  ] 2020-07-01 12:39:56,594 Supplied id_loc but draw_ids is False. Not drawing grid ids\n",
      "yt : [WARNING  ] 2020-07-01 12:39:56,596 Supplied id_loc but draw_ids is False. Not drawing grid ids\n",
      "yt : [WARNING  ] 2020-07-01 12:39:56,597 Supplied id_loc but draw_ids is False. Not drawing grid ids\n",
      "yt : [INFO     ] 2020-07-01 12:39:56,598 Saving plot img00189.png\n"
     ]
    },
    {
     "name": "stdout",
     "output_type": "stream",
     "text": [
      "plt0000189\n",
      "img00189.png\n"
     ]
    },
    {
     "name": "stderr",
     "output_type": "stream",
     "text": [
      "yt : [INFO     ] 2020-07-01 12:39:56,814 Parameters: current_time              = 37.109375\n",
      "yt : [INFO     ] 2020-07-01 12:39:56,814 Parameters: domain_dimensions         = [256 256   1]\n",
      "yt : [INFO     ] 2020-07-01 12:39:56,815 Parameters: domain_left_edge          = [-50. -50.   0.]\n",
      "yt : [INFO     ] 2020-07-01 12:39:56,815 Parameters: domain_right_edge         = [ 50.  50.   1.]\n",
      "yt : [INFO     ] 2020-07-01 12:39:56,915 xlim = -50.000000 50.000000\n",
      "yt : [INFO     ] 2020-07-01 12:39:56,915 ylim = -50.000000 50.000000\n",
      "yt : [INFO     ] 2020-07-01 12:39:56,916 xlim = -50.000000 50.000000\n",
      "yt : [INFO     ] 2020-07-01 12:39:56,917 ylim = -50.000000 50.000000\n",
      "yt : [INFO     ] 2020-07-01 12:39:56,917 Making a fixed resolution buffer of (('boxlib', 'Psi')) 800 by 800\n",
      "yt : [WARNING  ] 2020-07-01 12:39:56,948 Plot image for field ('boxlib', 'Psi') has both positive and negative values. Min = -0.025680, Max = 0.025771.\n",
      "yt : [WARNING  ] 2020-07-01 12:39:56,948 Switching to symlog colorbar scaling unless linear scaling is specified later\n",
      "yt : [INFO     ] 2020-07-01 12:39:57,152 Making a fixed resolution buffer of (('boxlib', 'Psi')) 800 by 800\n",
      "yt : [WARNING  ] 2020-07-01 12:39:57,237 Supplied id_loc but draw_ids is False. Not drawing grid ids\n",
      "yt : [WARNING  ] 2020-07-01 12:39:57,239 Supplied id_loc but draw_ids is False. Not drawing grid ids\n",
      "yt : [WARNING  ] 2020-07-01 12:39:57,241 Supplied id_loc but draw_ids is False. Not drawing grid ids\n",
      "yt : [WARNING  ] 2020-07-01 12:39:57,242 Supplied id_loc but draw_ids is False. Not drawing grid ids\n",
      "yt : [WARNING  ] 2020-07-01 12:39:57,244 Supplied id_loc but draw_ids is False. Not drawing grid ids\n",
      "yt : [WARNING  ] 2020-07-01 12:39:57,246 Supplied id_loc but draw_ids is False. Not drawing grid ids\n",
      "yt : [WARNING  ] 2020-07-01 12:39:57,247 Supplied id_loc but draw_ids is False. Not drawing grid ids\n",
      "yt : [WARNING  ] 2020-07-01 12:39:57,249 Supplied id_loc but draw_ids is False. Not drawing grid ids\n",
      "yt : [WARNING  ] 2020-07-01 12:39:57,251 Supplied id_loc but draw_ids is False. Not drawing grid ids\n",
      "yt : [INFO     ] 2020-07-01 12:39:57,251 Saving plot img00190.png\n"
     ]
    },
    {
     "name": "stdout",
     "output_type": "stream",
     "text": [
      "plt0000190\n",
      "img00190.png\n"
     ]
    },
    {
     "name": "stderr",
     "output_type": "stream",
     "text": [
      "yt : [INFO     ] 2020-07-01 12:39:57,469 Parameters: current_time              = 37.3046875\n",
      "yt : [INFO     ] 2020-07-01 12:39:57,470 Parameters: domain_dimensions         = [256 256   1]\n",
      "yt : [INFO     ] 2020-07-01 12:39:57,470 Parameters: domain_left_edge          = [-50. -50.   0.]\n",
      "yt : [INFO     ] 2020-07-01 12:39:57,471 Parameters: domain_right_edge         = [ 50.  50.   1.]\n",
      "yt : [INFO     ] 2020-07-01 12:39:57,571 xlim = -50.000000 50.000000\n",
      "yt : [INFO     ] 2020-07-01 12:39:57,572 ylim = -50.000000 50.000000\n",
      "yt : [INFO     ] 2020-07-01 12:39:57,573 xlim = -50.000000 50.000000\n",
      "yt : [INFO     ] 2020-07-01 12:39:57,573 ylim = -50.000000 50.000000\n",
      "yt : [INFO     ] 2020-07-01 12:39:57,574 Making a fixed resolution buffer of (('boxlib', 'Psi')) 800 by 800\n",
      "yt : [WARNING  ] 2020-07-01 12:39:57,605 Plot image for field ('boxlib', 'Psi') has both positive and negative values. Min = -0.025546, Max = 0.025455.\n",
      "yt : [WARNING  ] 2020-07-01 12:39:57,605 Switching to symlog colorbar scaling unless linear scaling is specified later\n",
      "yt : [INFO     ] 2020-07-01 12:39:57,693 Making a fixed resolution buffer of (('boxlib', 'Psi')) 800 by 800\n",
      "yt : [WARNING  ] 2020-07-01 12:39:57,776 Supplied id_loc but draw_ids is False. Not drawing grid ids\n",
      "yt : [WARNING  ] 2020-07-01 12:39:57,777 Supplied id_loc but draw_ids is False. Not drawing grid ids\n",
      "yt : [WARNING  ] 2020-07-01 12:39:57,779 Supplied id_loc but draw_ids is False. Not drawing grid ids\n",
      "yt : [WARNING  ] 2020-07-01 12:39:57,781 Supplied id_loc but draw_ids is False. Not drawing grid ids\n",
      "yt : [WARNING  ] 2020-07-01 12:39:57,782 Supplied id_loc but draw_ids is False. Not drawing grid ids\n",
      "yt : [WARNING  ] 2020-07-01 12:39:57,784 Supplied id_loc but draw_ids is False. Not drawing grid ids\n",
      "yt : [WARNING  ] 2020-07-01 12:39:57,786 Supplied id_loc but draw_ids is False. Not drawing grid ids\n",
      "yt : [WARNING  ] 2020-07-01 12:39:57,787 Supplied id_loc but draw_ids is False. Not drawing grid ids\n",
      "yt : [WARNING  ] 2020-07-01 12:39:57,789 Supplied id_loc but draw_ids is False. Not drawing grid ids\n",
      "yt : [INFO     ] 2020-07-01 12:39:57,790 Saving plot img00191.png\n"
     ]
    },
    {
     "name": "stdout",
     "output_type": "stream",
     "text": [
      "plt0000191\n",
      "img00191.png\n"
     ]
    },
    {
     "name": "stderr",
     "output_type": "stream",
     "text": [
      "yt : [INFO     ] 2020-07-01 12:39:58,008 Parameters: current_time              = 37.5\n",
      "yt : [INFO     ] 2020-07-01 12:39:58,008 Parameters: domain_dimensions         = [256 256   1]\n",
      "yt : [INFO     ] 2020-07-01 12:39:58,009 Parameters: domain_left_edge          = [-50. -50.   0.]\n",
      "yt : [INFO     ] 2020-07-01 12:39:58,009 Parameters: domain_right_edge         = [ 50.  50.   1.]\n",
      "yt : [INFO     ] 2020-07-01 12:39:58,109 xlim = -50.000000 50.000000\n",
      "yt : [INFO     ] 2020-07-01 12:39:58,109 ylim = -50.000000 50.000000\n",
      "yt : [INFO     ] 2020-07-01 12:39:58,110 xlim = -50.000000 50.000000\n",
      "yt : [INFO     ] 2020-07-01 12:39:58,111 ylim = -50.000000 50.000000\n",
      "yt : [INFO     ] 2020-07-01 12:39:58,111 Making a fixed resolution buffer of (('boxlib', 'Psi')) 800 by 800\n",
      "yt : [WARNING  ] 2020-07-01 12:39:58,142 Plot image for field ('boxlib', 'Psi') has both positive and negative values. Min = -0.025574, Max = 0.025173.\n",
      "yt : [WARNING  ] 2020-07-01 12:39:58,143 Switching to symlog colorbar scaling unless linear scaling is specified later\n",
      "yt : [INFO     ] 2020-07-01 12:39:58,229 Making a fixed resolution buffer of (('boxlib', 'Psi')) 800 by 800\n",
      "yt : [WARNING  ] 2020-07-01 12:39:58,312 Supplied id_loc but draw_ids is False. Not drawing grid ids\n",
      "yt : [WARNING  ] 2020-07-01 12:39:58,314 Supplied id_loc but draw_ids is False. Not drawing grid ids\n",
      "yt : [WARNING  ] 2020-07-01 12:39:58,316 Supplied id_loc but draw_ids is False. Not drawing grid ids\n",
      "yt : [WARNING  ] 2020-07-01 12:39:58,317 Supplied id_loc but draw_ids is False. Not drawing grid ids\n",
      "yt : [WARNING  ] 2020-07-01 12:39:58,319 Supplied id_loc but draw_ids is False. Not drawing grid ids\n",
      "yt : [WARNING  ] 2020-07-01 12:39:58,321 Supplied id_loc but draw_ids is False. Not drawing grid ids\n",
      "yt : [WARNING  ] 2020-07-01 12:39:58,322 Supplied id_loc but draw_ids is False. Not drawing grid ids\n",
      "yt : [WARNING  ] 2020-07-01 12:39:58,324 Supplied id_loc but draw_ids is False. Not drawing grid ids\n",
      "yt : [WARNING  ] 2020-07-01 12:39:58,326 Supplied id_loc but draw_ids is False. Not drawing grid ids\n",
      "yt : [INFO     ] 2020-07-01 12:39:58,326 Saving plot img00192.png\n"
     ]
    },
    {
     "name": "stdout",
     "output_type": "stream",
     "text": [
      "plt0000192\n",
      "img00192.png\n"
     ]
    },
    {
     "name": "stderr",
     "output_type": "stream",
     "text": [
      "yt : [INFO     ] 2020-07-01 12:39:58,547 Parameters: current_time              = 37.6953125\n",
      "yt : [INFO     ] 2020-07-01 12:39:58,547 Parameters: domain_dimensions         = [256 256   1]\n",
      "yt : [INFO     ] 2020-07-01 12:39:58,548 Parameters: domain_left_edge          = [-50. -50.   0.]\n",
      "yt : [INFO     ] 2020-07-01 12:39:58,548 Parameters: domain_right_edge         = [ 50.  50.   1.]\n",
      "yt : [INFO     ] 2020-07-01 12:39:58,648 xlim = -50.000000 50.000000\n",
      "yt : [INFO     ] 2020-07-01 12:39:58,648 ylim = -50.000000 50.000000\n",
      "yt : [INFO     ] 2020-07-01 12:39:58,650 xlim = -50.000000 50.000000\n",
      "yt : [INFO     ] 2020-07-01 12:39:58,650 ylim = -50.000000 50.000000\n",
      "yt : [INFO     ] 2020-07-01 12:39:58,651 Making a fixed resolution buffer of (('boxlib', 'Psi')) 800 by 800\n",
      "yt : [WARNING  ] 2020-07-01 12:39:58,688 Plot image for field ('boxlib', 'Psi') has both positive and negative values. Min = -0.025575, Max = 0.025016.\n",
      "yt : [WARNING  ] 2020-07-01 12:39:58,689 Switching to symlog colorbar scaling unless linear scaling is specified later\n",
      "yt : [INFO     ] 2020-07-01 12:39:58,900 Making a fixed resolution buffer of (('boxlib', 'Psi')) 800 by 800\n",
      "yt : [WARNING  ] 2020-07-01 12:39:58,985 Supplied id_loc but draw_ids is False. Not drawing grid ids\n",
      "yt : [WARNING  ] 2020-07-01 12:39:58,987 Supplied id_loc but draw_ids is False. Not drawing grid ids\n",
      "yt : [WARNING  ] 2020-07-01 12:39:58,989 Supplied id_loc but draw_ids is False. Not drawing grid ids\n",
      "yt : [WARNING  ] 2020-07-01 12:39:58,990 Supplied id_loc but draw_ids is False. Not drawing grid ids\n",
      "yt : [WARNING  ] 2020-07-01 12:39:58,992 Supplied id_loc but draw_ids is False. Not drawing grid ids\n",
      "yt : [WARNING  ] 2020-07-01 12:39:58,994 Supplied id_loc but draw_ids is False. Not drawing grid ids\n",
      "yt : [WARNING  ] 2020-07-01 12:39:58,995 Supplied id_loc but draw_ids is False. Not drawing grid ids\n",
      "yt : [WARNING  ] 2020-07-01 12:39:58,997 Supplied id_loc but draw_ids is False. Not drawing grid ids\n",
      "yt : [WARNING  ] 2020-07-01 12:39:58,999 Supplied id_loc but draw_ids is False. Not drawing grid ids\n",
      "yt : [INFO     ] 2020-07-01 12:39:58,999 Saving plot img00193.png\n"
     ]
    },
    {
     "name": "stdout",
     "output_type": "stream",
     "text": [
      "plt0000193\n",
      "img00193.png\n"
     ]
    },
    {
     "name": "stderr",
     "output_type": "stream",
     "text": [
      "yt : [INFO     ] 2020-07-01 12:39:59,217 Parameters: current_time              = 37.890625\n",
      "yt : [INFO     ] 2020-07-01 12:39:59,217 Parameters: domain_dimensions         = [256 256   1]\n",
      "yt : [INFO     ] 2020-07-01 12:39:59,218 Parameters: domain_left_edge          = [-50. -50.   0.]\n",
      "yt : [INFO     ] 2020-07-01 12:39:59,219 Parameters: domain_right_edge         = [ 50.  50.   1.]\n",
      "yt : [INFO     ] 2020-07-01 12:39:59,319 xlim = -50.000000 50.000000\n",
      "yt : [INFO     ] 2020-07-01 12:39:59,319 ylim = -50.000000 50.000000\n",
      "yt : [INFO     ] 2020-07-01 12:39:59,321 xlim = -50.000000 50.000000\n",
      "yt : [INFO     ] 2020-07-01 12:39:59,321 ylim = -50.000000 50.000000\n",
      "yt : [INFO     ] 2020-07-01 12:39:59,322 Making a fixed resolution buffer of (('boxlib', 'Psi')) 800 by 800\n",
      "yt : [WARNING  ] 2020-07-01 12:39:59,354 Plot image for field ('boxlib', 'Psi') has both positive and negative values. Min = -0.025416, Max = 0.024738.\n",
      "yt : [WARNING  ] 2020-07-01 12:39:59,354 Switching to symlog colorbar scaling unless linear scaling is specified later\n",
      "yt : [INFO     ] 2020-07-01 12:39:59,442 Making a fixed resolution buffer of (('boxlib', 'Psi')) 800 by 800\n",
      "yt : [WARNING  ] 2020-07-01 12:39:59,526 Supplied id_loc but draw_ids is False. Not drawing grid ids\n",
      "yt : [WARNING  ] 2020-07-01 12:39:59,528 Supplied id_loc but draw_ids is False. Not drawing grid ids\n",
      "yt : [WARNING  ] 2020-07-01 12:39:59,529 Supplied id_loc but draw_ids is False. Not drawing grid ids\n",
      "yt : [WARNING  ] 2020-07-01 12:39:59,531 Supplied id_loc but draw_ids is False. Not drawing grid ids\n",
      "yt : [WARNING  ] 2020-07-01 12:39:59,533 Supplied id_loc but draw_ids is False. Not drawing grid ids\n",
      "yt : [WARNING  ] 2020-07-01 12:39:59,534 Supplied id_loc but draw_ids is False. Not drawing grid ids\n",
      "yt : [WARNING  ] 2020-07-01 12:39:59,536 Supplied id_loc but draw_ids is False. Not drawing grid ids\n",
      "yt : [WARNING  ] 2020-07-01 12:39:59,537 Supplied id_loc but draw_ids is False. Not drawing grid ids\n",
      "yt : [WARNING  ] 2020-07-01 12:39:59,540 Supplied id_loc but draw_ids is False. Not drawing grid ids\n",
      "yt : [INFO     ] 2020-07-01 12:39:59,540 Saving plot img00194.png\n"
     ]
    },
    {
     "name": "stdout",
     "output_type": "stream",
     "text": [
      "plt0000194\n",
      "img00194.png\n"
     ]
    },
    {
     "name": "stderr",
     "output_type": "stream",
     "text": [
      "yt : [INFO     ] 2020-07-01 12:39:59,757 Parameters: current_time              = 38.0859375\n",
      "yt : [INFO     ] 2020-07-01 12:39:59,757 Parameters: domain_dimensions         = [256 256   1]\n",
      "yt : [INFO     ] 2020-07-01 12:39:59,757 Parameters: domain_left_edge          = [-50. -50.   0.]\n",
      "yt : [INFO     ] 2020-07-01 12:39:59,758 Parameters: domain_right_edge         = [ 50.  50.   1.]\n",
      "yt : [INFO     ] 2020-07-01 12:39:59,857 xlim = -50.000000 50.000000\n",
      "yt : [INFO     ] 2020-07-01 12:39:59,859 ylim = -50.000000 50.000000\n",
      "yt : [INFO     ] 2020-07-01 12:39:59,860 xlim = -50.000000 50.000000\n",
      "yt : [INFO     ] 2020-07-01 12:39:59,860 ylim = -50.000000 50.000000\n",
      "yt : [INFO     ] 2020-07-01 12:39:59,861 Making a fixed resolution buffer of (('boxlib', 'Psi')) 800 by 800\n",
      "yt : [WARNING  ] 2020-07-01 12:39:59,892 Plot image for field ('boxlib', 'Psi') has both positive and negative values. Min = -0.025334, Max = 0.024543.\n",
      "yt : [WARNING  ] 2020-07-01 12:39:59,893 Switching to symlog colorbar scaling unless linear scaling is specified later\n",
      "yt : [INFO     ] 2020-07-01 12:39:59,979 Making a fixed resolution buffer of (('boxlib', 'Psi')) 800 by 800\n",
      "yt : [WARNING  ] 2020-07-01 12:40:00,061 Supplied id_loc but draw_ids is False. Not drawing grid ids\n",
      "yt : [WARNING  ] 2020-07-01 12:40:00,063 Supplied id_loc but draw_ids is False. Not drawing grid ids\n",
      "yt : [WARNING  ] 2020-07-01 12:40:00,065 Supplied id_loc but draw_ids is False. Not drawing grid ids\n",
      "yt : [WARNING  ] 2020-07-01 12:40:00,066 Supplied id_loc but draw_ids is False. Not drawing grid ids\n",
      "yt : [WARNING  ] 2020-07-01 12:40:00,068 Supplied id_loc but draw_ids is False. Not drawing grid ids\n",
      "yt : [WARNING  ] 2020-07-01 12:40:00,069 Supplied id_loc but draw_ids is False. Not drawing grid ids\n",
      "yt : [WARNING  ] 2020-07-01 12:40:00,071 Supplied id_loc but draw_ids is False. Not drawing grid ids\n",
      "yt : [WARNING  ] 2020-07-01 12:40:00,073 Supplied id_loc but draw_ids is False. Not drawing grid ids\n",
      "yt : [WARNING  ] 2020-07-01 12:40:00,074 Supplied id_loc but draw_ids is False. Not drawing grid ids\n",
      "yt : [INFO     ] 2020-07-01 12:40:00,074 Saving plot img00195.png\n"
     ]
    },
    {
     "name": "stdout",
     "output_type": "stream",
     "text": [
      "plt0000195\n",
      "img00195.png\n"
     ]
    },
    {
     "name": "stderr",
     "output_type": "stream",
     "text": [
      "yt : [INFO     ] 2020-07-01 12:40:00,294 Parameters: current_time              = 38.28125\n",
      "yt : [INFO     ] 2020-07-01 12:40:00,294 Parameters: domain_dimensions         = [256 256   1]\n",
      "yt : [INFO     ] 2020-07-01 12:40:00,295 Parameters: domain_left_edge          = [-50. -50.   0.]\n",
      "yt : [INFO     ] 2020-07-01 12:40:00,295 Parameters: domain_right_edge         = [ 50.  50.   1.]\n",
      "yt : [INFO     ] 2020-07-01 12:40:00,517 xlim = -50.000000 50.000000\n",
      "yt : [INFO     ] 2020-07-01 12:40:00,517 ylim = -50.000000 50.000000\n",
      "yt : [INFO     ] 2020-07-01 12:40:00,519 xlim = -50.000000 50.000000\n",
      "yt : [INFO     ] 2020-07-01 12:40:00,519 ylim = -50.000000 50.000000\n",
      "yt : [INFO     ] 2020-07-01 12:40:00,520 Making a fixed resolution buffer of (('boxlib', 'Psi')) 800 by 800\n",
      "yt : [WARNING  ] 2020-07-01 12:40:00,553 Plot image for field ('boxlib', 'Psi') has both positive and negative values. Min = -0.025239, Max = 0.024545.\n",
      "yt : [WARNING  ] 2020-07-01 12:40:00,553 Switching to symlog colorbar scaling unless linear scaling is specified later\n",
      "yt : [INFO     ] 2020-07-01 12:40:00,640 Making a fixed resolution buffer of (('boxlib', 'Psi')) 800 by 800\n",
      "yt : [WARNING  ] 2020-07-01 12:40:00,723 Supplied id_loc but draw_ids is False. Not drawing grid ids\n",
      "yt : [WARNING  ] 2020-07-01 12:40:00,725 Supplied id_loc but draw_ids is False. Not drawing grid ids\n",
      "yt : [WARNING  ] 2020-07-01 12:40:00,727 Supplied id_loc but draw_ids is False. Not drawing grid ids\n",
      "yt : [WARNING  ] 2020-07-01 12:40:00,728 Supplied id_loc but draw_ids is False. Not drawing grid ids\n",
      "yt : [WARNING  ] 2020-07-01 12:40:00,730 Supplied id_loc but draw_ids is False. Not drawing grid ids\n",
      "yt : [WARNING  ] 2020-07-01 12:40:00,732 Supplied id_loc but draw_ids is False. Not drawing grid ids\n",
      "yt : [WARNING  ] 2020-07-01 12:40:00,733 Supplied id_loc but draw_ids is False. Not drawing grid ids\n",
      "yt : [WARNING  ] 2020-07-01 12:40:00,735 Supplied id_loc but draw_ids is False. Not drawing grid ids\n",
      "yt : [WARNING  ] 2020-07-01 12:40:00,737 Supplied id_loc but draw_ids is False. Not drawing grid ids\n",
      "yt : [INFO     ] 2020-07-01 12:40:00,737 Saving plot img00196.png\n"
     ]
    },
    {
     "name": "stdout",
     "output_type": "stream",
     "text": [
      "plt0000196\n",
      "img00196.png\n"
     ]
    },
    {
     "name": "stderr",
     "output_type": "stream",
     "text": [
      "yt : [INFO     ] 2020-07-01 12:40:00,955 Parameters: current_time              = 38.4765625\n",
      "yt : [INFO     ] 2020-07-01 12:40:00,955 Parameters: domain_dimensions         = [256 256   1]\n",
      "yt : [INFO     ] 2020-07-01 12:40:00,956 Parameters: domain_left_edge          = [-50. -50.   0.]\n",
      "yt : [INFO     ] 2020-07-01 12:40:00,957 Parameters: domain_right_edge         = [ 50.  50.   1.]\n",
      "yt : [INFO     ] 2020-07-01 12:40:01,057 xlim = -50.000000 50.000000\n",
      "yt : [INFO     ] 2020-07-01 12:40:01,057 ylim = -50.000000 50.000000\n",
      "yt : [INFO     ] 2020-07-01 12:40:01,058 xlim = -50.000000 50.000000\n",
      "yt : [INFO     ] 2020-07-01 12:40:01,059 ylim = -50.000000 50.000000\n",
      "yt : [INFO     ] 2020-07-01 12:40:01,059 Making a fixed resolution buffer of (('boxlib', 'Psi')) 800 by 800\n",
      "yt : [WARNING  ] 2020-07-01 12:40:01,091 Plot image for field ('boxlib', 'Psi') has both positive and negative values. Min = -0.025023, Max = 0.024535.\n",
      "yt : [WARNING  ] 2020-07-01 12:40:01,092 Switching to symlog colorbar scaling unless linear scaling is specified later\n",
      "yt : [INFO     ] 2020-07-01 12:40:01,178 Making a fixed resolution buffer of (('boxlib', 'Psi')) 800 by 800\n",
      "yt : [WARNING  ] 2020-07-01 12:40:01,261 Supplied id_loc but draw_ids is False. Not drawing grid ids\n",
      "yt : [WARNING  ] 2020-07-01 12:40:01,262 Supplied id_loc but draw_ids is False. Not drawing grid ids\n",
      "yt : [WARNING  ] 2020-07-01 12:40:01,264 Supplied id_loc but draw_ids is False. Not drawing grid ids\n",
      "yt : [WARNING  ] 2020-07-01 12:40:01,266 Supplied id_loc but draw_ids is False. Not drawing grid ids\n",
      "yt : [WARNING  ] 2020-07-01 12:40:01,268 Supplied id_loc but draw_ids is False. Not drawing grid ids\n",
      "yt : [WARNING  ] 2020-07-01 12:40:01,269 Supplied id_loc but draw_ids is False. Not drawing grid ids\n",
      "yt : [WARNING  ] 2020-07-01 12:40:01,271 Supplied id_loc but draw_ids is False. Not drawing grid ids\n",
      "yt : [WARNING  ] 2020-07-01 12:40:01,272 Supplied id_loc but draw_ids is False. Not drawing grid ids\n",
      "yt : [WARNING  ] 2020-07-01 12:40:01,274 Supplied id_loc but draw_ids is False. Not drawing grid ids\n",
      "yt : [INFO     ] 2020-07-01 12:40:01,274 Saving plot img00197.png\n"
     ]
    },
    {
     "name": "stdout",
     "output_type": "stream",
     "text": [
      "plt0000197\n",
      "img00197.png\n"
     ]
    },
    {
     "name": "stderr",
     "output_type": "stream",
     "text": [
      "yt : [INFO     ] 2020-07-01 12:40:01,492 Parameters: current_time              = 38.671875\n",
      "yt : [INFO     ] 2020-07-01 12:40:01,492 Parameters: domain_dimensions         = [256 256   1]\n",
      "yt : [INFO     ] 2020-07-01 12:40:01,493 Parameters: domain_left_edge          = [-50. -50.   0.]\n",
      "yt : [INFO     ] 2020-07-01 12:40:01,493 Parameters: domain_right_edge         = [ 50.  50.   1.]\n",
      "yt : [INFO     ] 2020-07-01 12:40:01,592 xlim = -50.000000 50.000000\n",
      "yt : [INFO     ] 2020-07-01 12:40:01,592 ylim = -50.000000 50.000000\n",
      "yt : [INFO     ] 2020-07-01 12:40:01,593 xlim = -50.000000 50.000000\n",
      "yt : [INFO     ] 2020-07-01 12:40:01,594 ylim = -50.000000 50.000000\n",
      "yt : [INFO     ] 2020-07-01 12:40:01,595 Making a fixed resolution buffer of (('boxlib', 'Psi')) 800 by 800\n",
      "yt : [WARNING  ] 2020-07-01 12:40:01,626 Plot image for field ('boxlib', 'Psi') has both positive and negative values. Min = -0.024873, Max = 0.024299.\n",
      "yt : [WARNING  ] 2020-07-01 12:40:01,627 Switching to symlog colorbar scaling unless linear scaling is specified later\n",
      "yt : [INFO     ] 2020-07-01 12:40:01,714 Making a fixed resolution buffer of (('boxlib', 'Psi')) 800 by 800\n",
      "yt : [WARNING  ] 2020-07-01 12:40:01,799 Supplied id_loc but draw_ids is False. Not drawing grid ids\n",
      "yt : [WARNING  ] 2020-07-01 12:40:01,801 Supplied id_loc but draw_ids is False. Not drawing grid ids\n",
      "yt : [WARNING  ] 2020-07-01 12:40:01,803 Supplied id_loc but draw_ids is False. Not drawing grid ids\n",
      "yt : [WARNING  ] 2020-07-01 12:40:01,804 Supplied id_loc but draw_ids is False. Not drawing grid ids\n",
      "yt : [WARNING  ] 2020-07-01 12:40:01,806 Supplied id_loc but draw_ids is False. Not drawing grid ids\n",
      "yt : [WARNING  ] 2020-07-01 12:40:01,807 Supplied id_loc but draw_ids is False. Not drawing grid ids\n",
      "yt : [WARNING  ] 2020-07-01 12:40:01,809 Supplied id_loc but draw_ids is False. Not drawing grid ids\n",
      "yt : [WARNING  ] 2020-07-01 12:40:01,811 Supplied id_loc but draw_ids is False. Not drawing grid ids\n",
      "yt : [WARNING  ] 2020-07-01 12:40:01,813 Supplied id_loc but draw_ids is False. Not drawing grid ids\n",
      "yt : [INFO     ] 2020-07-01 12:40:01,813 Saving plot img00198.png\n"
     ]
    },
    {
     "name": "stdout",
     "output_type": "stream",
     "text": [
      "plt0000198\n",
      "img00198.png\n"
     ]
    },
    {
     "name": "stderr",
     "output_type": "stream",
     "text": [
      "yt : [INFO     ] 2020-07-01 12:40:02,134 Parameters: current_time              = 38.8671875\n",
      "yt : [INFO     ] 2020-07-01 12:40:02,135 Parameters: domain_dimensions         = [256 256   1]\n",
      "yt : [INFO     ] 2020-07-01 12:40:02,135 Parameters: domain_left_edge          = [-50. -50.   0.]\n",
      "yt : [INFO     ] 2020-07-01 12:40:02,136 Parameters: domain_right_edge         = [ 50.  50.   1.]\n",
      "yt : [INFO     ] 2020-07-01 12:40:02,236 xlim = -50.000000 50.000000\n",
      "yt : [INFO     ] 2020-07-01 12:40:02,237 ylim = -50.000000 50.000000\n",
      "yt : [INFO     ] 2020-07-01 12:40:02,238 xlim = -50.000000 50.000000\n",
      "yt : [INFO     ] 2020-07-01 12:40:02,238 ylim = -50.000000 50.000000\n",
      "yt : [INFO     ] 2020-07-01 12:40:02,239 Making a fixed resolution buffer of (('boxlib', 'Psi')) 800 by 800\n",
      "yt : [WARNING  ] 2020-07-01 12:40:02,271 Plot image for field ('boxlib', 'Psi') has both positive and negative values. Min = -0.024796, Max = 0.023883.\n",
      "yt : [WARNING  ] 2020-07-01 12:40:02,271 Switching to symlog colorbar scaling unless linear scaling is specified later\n",
      "yt : [INFO     ] 2020-07-01 12:40:02,358 Making a fixed resolution buffer of (('boxlib', 'Psi')) 800 by 800\n",
      "yt : [WARNING  ] 2020-07-01 12:40:02,441 Supplied id_loc but draw_ids is False. Not drawing grid ids\n",
      "yt : [WARNING  ] 2020-07-01 12:40:02,442 Supplied id_loc but draw_ids is False. Not drawing grid ids\n",
      "yt : [WARNING  ] 2020-07-01 12:40:02,444 Supplied id_loc but draw_ids is False. Not drawing grid ids\n",
      "yt : [WARNING  ] 2020-07-01 12:40:02,446 Supplied id_loc but draw_ids is False. Not drawing grid ids\n",
      "yt : [WARNING  ] 2020-07-01 12:40:02,447 Supplied id_loc but draw_ids is False. Not drawing grid ids\n",
      "yt : [WARNING  ] 2020-07-01 12:40:02,449 Supplied id_loc but draw_ids is False. Not drawing grid ids\n",
      "yt : [WARNING  ] 2020-07-01 12:40:02,450 Supplied id_loc but draw_ids is False. Not drawing grid ids\n",
      "yt : [WARNING  ] 2020-07-01 12:40:02,452 Supplied id_loc but draw_ids is False. Not drawing grid ids\n",
      "yt : [WARNING  ] 2020-07-01 12:40:02,454 Supplied id_loc but draw_ids is False. Not drawing grid ids\n",
      "yt : [INFO     ] 2020-07-01 12:40:02,454 Saving plot img00199.png\n"
     ]
    },
    {
     "name": "stdout",
     "output_type": "stream",
     "text": [
      "plt0000199\n",
      "img00199.png\n"
     ]
    },
    {
     "name": "stderr",
     "output_type": "stream",
     "text": [
      "yt : [INFO     ] 2020-07-01 12:40:02,671 Parameters: current_time              = 39.0625\n",
      "yt : [INFO     ] 2020-07-01 12:40:02,672 Parameters: domain_dimensions         = [256 256   1]\n",
      "yt : [INFO     ] 2020-07-01 12:40:02,672 Parameters: domain_left_edge          = [-50. -50.   0.]\n",
      "yt : [INFO     ] 2020-07-01 12:40:02,673 Parameters: domain_right_edge         = [ 50.  50.   1.]\n",
      "yt : [INFO     ] 2020-07-01 12:40:02,772 xlim = -50.000000 50.000000\n",
      "yt : [INFO     ] 2020-07-01 12:40:02,773 ylim = -50.000000 50.000000\n",
      "yt : [INFO     ] 2020-07-01 12:40:02,774 xlim = -50.000000 50.000000\n",
      "yt : [INFO     ] 2020-07-01 12:40:02,774 ylim = -50.000000 50.000000\n",
      "yt : [INFO     ] 2020-07-01 12:40:02,775 Making a fixed resolution buffer of (('boxlib', 'Psi')) 800 by 800\n",
      "yt : [WARNING  ] 2020-07-01 12:40:02,806 Plot image for field ('boxlib', 'Psi') has both positive and negative values. Min = -0.024729, Max = 0.023673.\n",
      "yt : [WARNING  ] 2020-07-01 12:40:02,807 Switching to symlog colorbar scaling unless linear scaling is specified later\n",
      "yt : [INFO     ] 2020-07-01 12:40:02,893 Making a fixed resolution buffer of (('boxlib', 'Psi')) 800 by 800\n",
      "yt : [WARNING  ] 2020-07-01 12:40:02,976 Supplied id_loc but draw_ids is False. Not drawing grid ids\n",
      "yt : [WARNING  ] 2020-07-01 12:40:02,977 Supplied id_loc but draw_ids is False. Not drawing grid ids\n",
      "yt : [WARNING  ] 2020-07-01 12:40:02,979 Supplied id_loc but draw_ids is False. Not drawing grid ids\n",
      "yt : [WARNING  ] 2020-07-01 12:40:02,981 Supplied id_loc but draw_ids is False. Not drawing grid ids\n",
      "yt : [WARNING  ] 2020-07-01 12:40:02,982 Supplied id_loc but draw_ids is False. Not drawing grid ids\n",
      "yt : [WARNING  ] 2020-07-01 12:40:02,984 Supplied id_loc but draw_ids is False. Not drawing grid ids\n",
      "yt : [WARNING  ] 2020-07-01 12:40:02,985 Supplied id_loc but draw_ids is False. Not drawing grid ids\n",
      "yt : [WARNING  ] 2020-07-01 12:40:02,987 Supplied id_loc but draw_ids is False. Not drawing grid ids\n",
      "yt : [WARNING  ] 2020-07-01 12:40:02,989 Supplied id_loc but draw_ids is False. Not drawing grid ids\n",
      "yt : [INFO     ] 2020-07-01 12:40:02,989 Saving plot img00200.png\n"
     ]
    },
    {
     "name": "stdout",
     "output_type": "stream",
     "text": [
      "plt0000200\n",
      "img00200.png\n"
     ]
    },
    {
     "name": "stderr",
     "output_type": "stream",
     "text": [
      "yt : [INFO     ] 2020-07-01 12:40:03,205 Parameters: current_time              = 39.2578125\n",
      "yt : [INFO     ] 2020-07-01 12:40:03,206 Parameters: domain_dimensions         = [256 256   1]\n",
      "yt : [INFO     ] 2020-07-01 12:40:03,206 Parameters: domain_left_edge          = [-50. -50.   0.]\n",
      "yt : [INFO     ] 2020-07-01 12:40:03,207 Parameters: domain_right_edge         = [ 50.  50.   1.]\n",
      "yt : [INFO     ] 2020-07-01 12:40:03,306 xlim = -50.000000 50.000000\n",
      "yt : [INFO     ] 2020-07-01 12:40:03,306 ylim = -50.000000 50.000000\n",
      "yt : [INFO     ] 2020-07-01 12:40:03,307 xlim = -50.000000 50.000000\n",
      "yt : [INFO     ] 2020-07-01 12:40:03,308 ylim = -50.000000 50.000000\n",
      "yt : [INFO     ] 2020-07-01 12:40:03,309 Making a fixed resolution buffer of (('boxlib', 'Psi')) 800 by 800\n",
      "yt : [WARNING  ] 2020-07-01 12:40:03,341 Plot image for field ('boxlib', 'Psi') has both positive and negative values. Min = -0.024606, Max = 0.023561.\n",
      "yt : [WARNING  ] 2020-07-01 12:40:03,341 Switching to symlog colorbar scaling unless linear scaling is specified later\n",
      "yt : [INFO     ] 2020-07-01 12:40:03,427 Making a fixed resolution buffer of (('boxlib', 'Psi')) 800 by 800\n"
     ]
    },
    {
     "name": "stdout",
     "output_type": "stream",
     "text": [
      "plt0000201\n",
      "img00201.png\n"
     ]
    },
    {
     "name": "stderr",
     "output_type": "stream",
     "text": [
      "yt : [WARNING  ] 2020-07-01 12:40:03,628 Supplied id_loc but draw_ids is False. Not drawing grid ids\n",
      "yt : [WARNING  ] 2020-07-01 12:40:03,630 Supplied id_loc but draw_ids is False. Not drawing grid ids\n",
      "yt : [WARNING  ] 2020-07-01 12:40:03,632 Supplied id_loc but draw_ids is False. Not drawing grid ids\n",
      "yt : [WARNING  ] 2020-07-01 12:40:03,634 Supplied id_loc but draw_ids is False. Not drawing grid ids\n",
      "yt : [WARNING  ] 2020-07-01 12:40:03,636 Supplied id_loc but draw_ids is False. Not drawing grid ids\n",
      "yt : [WARNING  ] 2020-07-01 12:40:03,637 Supplied id_loc but draw_ids is False. Not drawing grid ids\n",
      "yt : [WARNING  ] 2020-07-01 12:40:03,639 Supplied id_loc but draw_ids is False. Not drawing grid ids\n",
      "yt : [WARNING  ] 2020-07-01 12:40:03,641 Supplied id_loc but draw_ids is False. Not drawing grid ids\n",
      "yt : [WARNING  ] 2020-07-01 12:40:03,642 Supplied id_loc but draw_ids is False. Not drawing grid ids\n",
      "yt : [INFO     ] 2020-07-01 12:40:03,643 Saving plot img00201.png\n",
      "yt : [INFO     ] 2020-07-01 12:40:03,860 Parameters: current_time              = 39.453125\n",
      "yt : [INFO     ] 2020-07-01 12:40:03,860 Parameters: domain_dimensions         = [256 256   1]\n",
      "yt : [INFO     ] 2020-07-01 12:40:03,861 Parameters: domain_left_edge          = [-50. -50.   0.]\n",
      "yt : [INFO     ] 2020-07-01 12:40:03,861 Parameters: domain_right_edge         = [ 50.  50.   1.]\n",
      "yt : [INFO     ] 2020-07-01 12:40:03,961 xlim = -50.000000 50.000000\n",
      "yt : [INFO     ] 2020-07-01 12:40:03,961 ylim = -50.000000 50.000000\n",
      "yt : [INFO     ] 2020-07-01 12:40:03,962 xlim = -50.000000 50.000000\n",
      "yt : [INFO     ] 2020-07-01 12:40:03,963 ylim = -50.000000 50.000000\n",
      "yt : [INFO     ] 2020-07-01 12:40:03,963 Making a fixed resolution buffer of (('boxlib', 'Psi')) 800 by 800\n",
      "yt : [WARNING  ] 2020-07-01 12:40:03,995 Plot image for field ('boxlib', 'Psi') has both positive and negative values. Min = -0.024464, Max = 0.023606.\n",
      "yt : [WARNING  ] 2020-07-01 12:40:03,996 Switching to symlog colorbar scaling unless linear scaling is specified later\n",
      "yt : [INFO     ] 2020-07-01 12:40:04,082 Making a fixed resolution buffer of (('boxlib', 'Psi')) 800 by 800\n",
      "yt : [WARNING  ] 2020-07-01 12:40:04,166 Supplied id_loc but draw_ids is False. Not drawing grid ids\n",
      "yt : [WARNING  ] 2020-07-01 12:40:04,167 Supplied id_loc but draw_ids is False. Not drawing grid ids\n",
      "yt : [WARNING  ] 2020-07-01 12:40:04,169 Supplied id_loc but draw_ids is False. Not drawing grid ids\n",
      "yt : [WARNING  ] 2020-07-01 12:40:04,171 Supplied id_loc but draw_ids is False. Not drawing grid ids\n",
      "yt : [WARNING  ] 2020-07-01 12:40:04,173 Supplied id_loc but draw_ids is False. Not drawing grid ids\n",
      "yt : [WARNING  ] 2020-07-01 12:40:04,174 Supplied id_loc but draw_ids is False. Not drawing grid ids\n",
      "yt : [WARNING  ] 2020-07-01 12:40:04,176 Supplied id_loc but draw_ids is False. Not drawing grid ids\n",
      "yt : [WARNING  ] 2020-07-01 12:40:04,177 Supplied id_loc but draw_ids is False. Not drawing grid ids\n",
      "yt : [WARNING  ] 2020-07-01 12:40:04,179 Supplied id_loc but draw_ids is False. Not drawing grid ids\n",
      "yt : [INFO     ] 2020-07-01 12:40:04,179 Saving plot img00202.png\n"
     ]
    },
    {
     "name": "stdout",
     "output_type": "stream",
     "text": [
      "plt0000202\n",
      "img00202.png\n"
     ]
    },
    {
     "name": "stderr",
     "output_type": "stream",
     "text": [
      "yt : [INFO     ] 2020-07-01 12:40:04,396 Parameters: current_time              = 39.6484375\n",
      "yt : [INFO     ] 2020-07-01 12:40:04,397 Parameters: domain_dimensions         = [256 256   1]\n",
      "yt : [INFO     ] 2020-07-01 12:40:04,397 Parameters: domain_left_edge          = [-50. -50.   0.]\n",
      "yt : [INFO     ] 2020-07-01 12:40:04,398 Parameters: domain_right_edge         = [ 50.  50.   1.]\n",
      "yt : [INFO     ] 2020-07-01 12:40:04,497 xlim = -50.000000 50.000000\n",
      "yt : [INFO     ] 2020-07-01 12:40:04,497 ylim = -50.000000 50.000000\n",
      "yt : [INFO     ] 2020-07-01 12:40:04,499 xlim = -50.000000 50.000000\n",
      "yt : [INFO     ] 2020-07-01 12:40:04,499 ylim = -50.000000 50.000000\n",
      "yt : [INFO     ] 2020-07-01 12:40:04,500 Making a fixed resolution buffer of (('boxlib', 'Psi')) 800 by 800\n",
      "yt : [WARNING  ] 2020-07-01 12:40:04,531 Plot image for field ('boxlib', 'Psi') has both positive and negative values. Min = -0.024369, Max = 0.023366.\n",
      "yt : [WARNING  ] 2020-07-01 12:40:04,532 Switching to symlog colorbar scaling unless linear scaling is specified later\n",
      "yt : [INFO     ] 2020-07-01 12:40:04,618 Making a fixed resolution buffer of (('boxlib', 'Psi')) 800 by 800\n",
      "yt : [WARNING  ] 2020-07-01 12:40:04,701 Supplied id_loc but draw_ids is False. Not drawing grid ids\n",
      "yt : [WARNING  ] 2020-07-01 12:40:04,702 Supplied id_loc but draw_ids is False. Not drawing grid ids\n",
      "yt : [WARNING  ] 2020-07-01 12:40:04,704 Supplied id_loc but draw_ids is False. Not drawing grid ids\n",
      "yt : [WARNING  ] 2020-07-01 12:40:04,706 Supplied id_loc but draw_ids is False. Not drawing grid ids\n",
      "yt : [WARNING  ] 2020-07-01 12:40:04,707 Supplied id_loc but draw_ids is False. Not drawing grid ids\n",
      "yt : [WARNING  ] 2020-07-01 12:40:04,709 Supplied id_loc but draw_ids is False. Not drawing grid ids\n",
      "yt : [WARNING  ] 2020-07-01 12:40:04,710 Supplied id_loc but draw_ids is False. Not drawing grid ids\n",
      "yt : [WARNING  ] 2020-07-01 12:40:04,712 Supplied id_loc but draw_ids is False. Not drawing grid ids\n",
      "yt : [WARNING  ] 2020-07-01 12:40:04,714 Supplied id_loc but draw_ids is False. Not drawing grid ids\n",
      "yt : [INFO     ] 2020-07-01 12:40:04,714 Saving plot img00203.png\n"
     ]
    },
    {
     "name": "stdout",
     "output_type": "stream",
     "text": [
      "plt0000203\n",
      "img00203.png\n"
     ]
    },
    {
     "name": "stderr",
     "output_type": "stream",
     "text": [
      "yt : [INFO     ] 2020-07-01 12:40:04,928 Parameters: current_time              = 39.84375\n",
      "yt : [INFO     ] 2020-07-01 12:40:04,928 Parameters: domain_dimensions         = [256 256   1]\n",
      "yt : [INFO     ] 2020-07-01 12:40:04,929 Parameters: domain_left_edge          = [-50. -50.   0.]\n",
      "yt : [INFO     ] 2020-07-01 12:40:04,930 Parameters: domain_right_edge         = [ 50.  50.   1.]\n",
      "yt : [INFO     ] 2020-07-01 12:40:05,029 xlim = -50.000000 50.000000\n",
      "yt : [INFO     ] 2020-07-01 12:40:05,029 ylim = -50.000000 50.000000\n",
      "yt : [INFO     ] 2020-07-01 12:40:05,030 xlim = -50.000000 50.000000\n",
      "yt : [INFO     ] 2020-07-01 12:40:05,030 ylim = -50.000000 50.000000\n",
      "yt : [INFO     ] 2020-07-01 12:40:05,032 Making a fixed resolution buffer of (('boxlib', 'Psi')) 800 by 800\n",
      "yt : [WARNING  ] 2020-07-01 12:40:05,064 Plot image for field ('boxlib', 'Psi') has both positive and negative values. Min = -0.024206, Max = 0.023627.\n",
      "yt : [WARNING  ] 2020-07-01 12:40:05,065 Switching to symlog colorbar scaling unless linear scaling is specified later\n",
      "yt : [INFO     ] 2020-07-01 12:40:05,267 Making a fixed resolution buffer of (('boxlib', 'Psi')) 800 by 800\n",
      "yt : [WARNING  ] 2020-07-01 12:40:05,352 Supplied id_loc but draw_ids is False. Not drawing grid ids\n",
      "yt : [WARNING  ] 2020-07-01 12:40:05,354 Supplied id_loc but draw_ids is False. Not drawing grid ids\n",
      "yt : [WARNING  ] 2020-07-01 12:40:05,356 Supplied id_loc but draw_ids is False. Not drawing grid ids\n",
      "yt : [WARNING  ] 2020-07-01 12:40:05,357 Supplied id_loc but draw_ids is False. Not drawing grid ids\n",
      "yt : [WARNING  ] 2020-07-01 12:40:05,359 Supplied id_loc but draw_ids is False. Not drawing grid ids\n",
      "yt : [WARNING  ] 2020-07-01 12:40:05,361 Supplied id_loc but draw_ids is False. Not drawing grid ids\n",
      "yt : [WARNING  ] 2020-07-01 12:40:05,362 Supplied id_loc but draw_ids is False. Not drawing grid ids\n",
      "yt : [WARNING  ] 2020-07-01 12:40:05,364 Supplied id_loc but draw_ids is False. Not drawing grid ids\n",
      "yt : [WARNING  ] 2020-07-01 12:40:05,365 Supplied id_loc but draw_ids is False. Not drawing grid ids\n",
      "yt : [INFO     ] 2020-07-01 12:40:05,366 Saving plot img00204.png\n"
     ]
    },
    {
     "name": "stdout",
     "output_type": "stream",
     "text": [
      "plt0000204\n",
      "img00204.png\n"
     ]
    },
    {
     "name": "stderr",
     "output_type": "stream",
     "text": [
      "yt : [INFO     ] 2020-07-01 12:40:05,580 Parameters: current_time              = 40.0390625\n",
      "yt : [INFO     ] 2020-07-01 12:40:05,581 Parameters: domain_dimensions         = [256 256   1]\n",
      "yt : [INFO     ] 2020-07-01 12:40:05,581 Parameters: domain_left_edge          = [-50. -50.   0.]\n",
      "yt : [INFO     ] 2020-07-01 12:40:05,582 Parameters: domain_right_edge         = [ 50.  50.   1.]\n",
      "yt : [INFO     ] 2020-07-01 12:40:05,683 xlim = -50.000000 50.000000\n",
      "yt : [INFO     ] 2020-07-01 12:40:05,683 ylim = -50.000000 50.000000\n",
      "yt : [INFO     ] 2020-07-01 12:40:05,684 xlim = -50.000000 50.000000\n",
      "yt : [INFO     ] 2020-07-01 12:40:05,685 ylim = -50.000000 50.000000\n",
      "yt : [INFO     ] 2020-07-01 12:40:05,685 Making a fixed resolution buffer of (('boxlib', 'Psi')) 800 by 800\n",
      "yt : [WARNING  ] 2020-07-01 12:40:05,718 Plot image for field ('boxlib', 'Psi') has both positive and negative values. Min = -0.024119, Max = 0.023482.\n",
      "yt : [WARNING  ] 2020-07-01 12:40:05,718 Switching to symlog colorbar scaling unless linear scaling is specified later\n",
      "yt : [INFO     ] 2020-07-01 12:40:05,804 Making a fixed resolution buffer of (('boxlib', 'Psi')) 800 by 800\n",
      "yt : [WARNING  ] 2020-07-01 12:40:05,886 Supplied id_loc but draw_ids is False. Not drawing grid ids\n",
      "yt : [WARNING  ] 2020-07-01 12:40:05,888 Supplied id_loc but draw_ids is False. Not drawing grid ids\n",
      "yt : [WARNING  ] 2020-07-01 12:40:05,890 Supplied id_loc but draw_ids is False. Not drawing grid ids\n",
      "yt : [WARNING  ] 2020-07-01 12:40:05,891 Supplied id_loc but draw_ids is False. Not drawing grid ids\n",
      "yt : [WARNING  ] 2020-07-01 12:40:05,893 Supplied id_loc but draw_ids is False. Not drawing grid ids\n",
      "yt : [WARNING  ] 2020-07-01 12:40:05,894 Supplied id_loc but draw_ids is False. Not drawing grid ids\n",
      "yt : [WARNING  ] 2020-07-01 12:40:05,896 Supplied id_loc but draw_ids is False. Not drawing grid ids\n",
      "yt : [WARNING  ] 2020-07-01 12:40:05,898 Supplied id_loc but draw_ids is False. Not drawing grid ids\n",
      "yt : [WARNING  ] 2020-07-01 12:40:05,899 Supplied id_loc but draw_ids is False. Not drawing grid ids\n",
      "yt : [INFO     ] 2020-07-01 12:40:05,899 Saving plot img00205.png\n"
     ]
    },
    {
     "name": "stdout",
     "output_type": "stream",
     "text": [
      "plt0000205\n",
      "img00205.png\n"
     ]
    },
    {
     "name": "stderr",
     "output_type": "stream",
     "text": [
      "yt : [INFO     ] 2020-07-01 12:40:06,114 Parameters: current_time              = 40.234375\n",
      "yt : [INFO     ] 2020-07-01 12:40:06,115 Parameters: domain_dimensions         = [256 256   1]\n",
      "yt : [INFO     ] 2020-07-01 12:40:06,115 Parameters: domain_left_edge          = [-50. -50.   0.]\n",
      "yt : [INFO     ] 2020-07-01 12:40:06,116 Parameters: domain_right_edge         = [ 50.  50.   1.]\n",
      "yt : [INFO     ] 2020-07-01 12:40:06,214 xlim = -50.000000 50.000000\n",
      "yt : [INFO     ] 2020-07-01 12:40:06,215 ylim = -50.000000 50.000000\n",
      "yt : [INFO     ] 2020-07-01 12:40:06,216 xlim = -50.000000 50.000000\n",
      "yt : [INFO     ] 2020-07-01 12:40:06,216 ylim = -50.000000 50.000000\n",
      "yt : [INFO     ] 2020-07-01 12:40:06,217 Making a fixed resolution buffer of (('boxlib', 'Psi')) 800 by 800\n",
      "yt : [WARNING  ] 2020-07-01 12:40:06,251 Plot image for field ('boxlib', 'Psi') has both positive and negative values. Min = -0.023983, Max = 0.023000.\n",
      "yt : [WARNING  ] 2020-07-01 12:40:06,251 Switching to symlog colorbar scaling unless linear scaling is specified later\n",
      "yt : [INFO     ] 2020-07-01 12:40:06,338 Making a fixed resolution buffer of (('boxlib', 'Psi')) 800 by 800\n",
      "yt : [WARNING  ] 2020-07-01 12:40:06,423 Supplied id_loc but draw_ids is False. Not drawing grid ids\n",
      "yt : [WARNING  ] 2020-07-01 12:40:06,425 Supplied id_loc but draw_ids is False. Not drawing grid ids\n",
      "yt : [WARNING  ] 2020-07-01 12:40:06,427 Supplied id_loc but draw_ids is False. Not drawing grid ids\n",
      "yt : [WARNING  ] 2020-07-01 12:40:06,428 Supplied id_loc but draw_ids is False. Not drawing grid ids\n",
      "yt : [WARNING  ] 2020-07-01 12:40:06,430 Supplied id_loc but draw_ids is False. Not drawing grid ids\n",
      "yt : [WARNING  ] 2020-07-01 12:40:06,431 Supplied id_loc but draw_ids is False. Not drawing grid ids\n",
      "yt : [WARNING  ] 2020-07-01 12:40:06,433 Supplied id_loc but draw_ids is False. Not drawing grid ids\n",
      "yt : [WARNING  ] 2020-07-01 12:40:06,435 Supplied id_loc but draw_ids is False. Not drawing grid ids\n",
      "yt : [WARNING  ] 2020-07-01 12:40:06,437 Supplied id_loc but draw_ids is False. Not drawing grid ids\n",
      "yt : [INFO     ] 2020-07-01 12:40:06,437 Saving plot img00206.png\n"
     ]
    },
    {
     "name": "stdout",
     "output_type": "stream",
     "text": [
      "plt0000206\n",
      "img00206.png\n"
     ]
    },
    {
     "name": "stderr",
     "output_type": "stream",
     "text": [
      "yt : [INFO     ] 2020-07-01 12:40:06,654 Parameters: current_time              = 40.4296875\n",
      "yt : [INFO     ] 2020-07-01 12:40:06,655 Parameters: domain_dimensions         = [256 256   1]\n",
      "yt : [INFO     ] 2020-07-01 12:40:06,655 Parameters: domain_left_edge          = [-50. -50.   0.]\n",
      "yt : [INFO     ] 2020-07-01 12:40:06,656 Parameters: domain_right_edge         = [ 50.  50.   1.]\n",
      "yt : [INFO     ] 2020-07-01 12:40:06,754 xlim = -50.000000 50.000000\n",
      "yt : [INFO     ] 2020-07-01 12:40:06,754 ylim = -50.000000 50.000000\n",
      "yt : [INFO     ] 2020-07-01 12:40:06,756 xlim = -50.000000 50.000000\n",
      "yt : [INFO     ] 2020-07-01 12:40:06,756 ylim = -50.000000 50.000000\n",
      "yt : [INFO     ] 2020-07-01 12:40:06,757 Making a fixed resolution buffer of (('boxlib', 'Psi')) 800 by 800\n",
      "yt : [WARNING  ] 2020-07-01 12:40:06,794 Plot image for field ('boxlib', 'Psi') has both positive and negative values. Min = -0.023924, Max = 0.023055.\n",
      "yt : [WARNING  ] 2020-07-01 12:40:06,794 Switching to symlog colorbar scaling unless linear scaling is specified later\n",
      "yt : [INFO     ] 2020-07-01 12:40:07,003 Making a fixed resolution buffer of (('boxlib', 'Psi')) 800 by 800\n",
      "yt : [WARNING  ] 2020-07-01 12:40:07,088 Supplied id_loc but draw_ids is False. Not drawing grid ids\n",
      "yt : [WARNING  ] 2020-07-01 12:40:07,090 Supplied id_loc but draw_ids is False. Not drawing grid ids\n",
      "yt : [WARNING  ] 2020-07-01 12:40:07,091 Supplied id_loc but draw_ids is False. Not drawing grid ids\n",
      "yt : [WARNING  ] 2020-07-01 12:40:07,093 Supplied id_loc but draw_ids is False. Not drawing grid ids\n",
      "yt : [WARNING  ] 2020-07-01 12:40:07,094 Supplied id_loc but draw_ids is False. Not drawing grid ids\n",
      "yt : [WARNING  ] 2020-07-01 12:40:07,096 Supplied id_loc but draw_ids is False. Not drawing grid ids\n",
      "yt : [WARNING  ] 2020-07-01 12:40:07,098 Supplied id_loc but draw_ids is False. Not drawing grid ids\n",
      "yt : [WARNING  ] 2020-07-01 12:40:07,099 Supplied id_loc but draw_ids is False. Not drawing grid ids\n",
      "yt : [WARNING  ] 2020-07-01 12:40:07,101 Supplied id_loc but draw_ids is False. Not drawing grid ids\n",
      "yt : [INFO     ] 2020-07-01 12:40:07,102 Saving plot img00207.png\n"
     ]
    },
    {
     "name": "stdout",
     "output_type": "stream",
     "text": [
      "plt0000207\n",
      "img00207.png\n"
     ]
    },
    {
     "name": "stderr",
     "output_type": "stream",
     "text": [
      "yt : [INFO     ] 2020-07-01 12:40:07,315 Parameters: current_time              = 40.625\n",
      "yt : [INFO     ] 2020-07-01 12:40:07,316 Parameters: domain_dimensions         = [256 256   1]\n",
      "yt : [INFO     ] 2020-07-01 12:40:07,316 Parameters: domain_left_edge          = [-50. -50.   0.]\n",
      "yt : [INFO     ] 2020-07-01 12:40:07,317 Parameters: domain_right_edge         = [ 50.  50.   1.]\n",
      "yt : [INFO     ] 2020-07-01 12:40:07,417 xlim = -50.000000 50.000000\n",
      "yt : [INFO     ] 2020-07-01 12:40:07,418 ylim = -50.000000 50.000000\n",
      "yt : [INFO     ] 2020-07-01 12:40:07,419 xlim = -50.000000 50.000000\n",
      "yt : [INFO     ] 2020-07-01 12:40:07,419 ylim = -50.000000 50.000000\n",
      "yt : [INFO     ] 2020-07-01 12:40:07,420 Making a fixed resolution buffer of (('boxlib', 'Psi')) 800 by 800\n",
      "yt : [WARNING  ] 2020-07-01 12:40:07,452 Plot image for field ('boxlib', 'Psi') has both positive and negative values. Min = -0.023763, Max = 0.022998.\n",
      "yt : [WARNING  ] 2020-07-01 12:40:07,453 Switching to symlog colorbar scaling unless linear scaling is specified later\n",
      "yt : [INFO     ] 2020-07-01 12:40:07,540 Making a fixed resolution buffer of (('boxlib', 'Psi')) 800 by 800\n",
      "yt : [WARNING  ] 2020-07-01 12:40:07,623 Supplied id_loc but draw_ids is False. Not drawing grid ids\n",
      "yt : [WARNING  ] 2020-07-01 12:40:07,624 Supplied id_loc but draw_ids is False. Not drawing grid ids\n",
      "yt : [WARNING  ] 2020-07-01 12:40:07,626 Supplied id_loc but draw_ids is False. Not drawing grid ids\n",
      "yt : [WARNING  ] 2020-07-01 12:40:07,628 Supplied id_loc but draw_ids is False. Not drawing grid ids\n",
      "yt : [WARNING  ] 2020-07-01 12:40:07,629 Supplied id_loc but draw_ids is False. Not drawing grid ids\n",
      "yt : [WARNING  ] 2020-07-01 12:40:07,631 Supplied id_loc but draw_ids is False. Not drawing grid ids\n",
      "yt : [WARNING  ] 2020-07-01 12:40:07,632 Supplied id_loc but draw_ids is False. Not drawing grid ids\n",
      "yt : [WARNING  ] 2020-07-01 12:40:07,634 Supplied id_loc but draw_ids is False. Not drawing grid ids\n",
      "yt : [WARNING  ] 2020-07-01 12:40:07,636 Supplied id_loc but draw_ids is False. Not drawing grid ids\n",
      "yt : [INFO     ] 2020-07-01 12:40:07,636 Saving plot img00208.png\n"
     ]
    },
    {
     "name": "stdout",
     "output_type": "stream",
     "text": [
      "plt0000208\n",
      "img00208.png\n"
     ]
    },
    {
     "name": "stderr",
     "output_type": "stream",
     "text": [
      "yt : [INFO     ] 2020-07-01 12:40:07,851 Parameters: current_time              = 40.8203125\n",
      "yt : [INFO     ] 2020-07-01 12:40:07,851 Parameters: domain_dimensions         = [256 256   1]\n",
      "yt : [INFO     ] 2020-07-01 12:40:07,852 Parameters: domain_left_edge          = [-50. -50.   0.]\n",
      "yt : [INFO     ] 2020-07-01 12:40:07,852 Parameters: domain_right_edge         = [ 50.  50.   1.]\n",
      "yt : [INFO     ] 2020-07-01 12:40:07,951 xlim = -50.000000 50.000000\n",
      "yt : [INFO     ] 2020-07-01 12:40:07,952 ylim = -50.000000 50.000000\n",
      "yt : [INFO     ] 2020-07-01 12:40:07,953 xlim = -50.000000 50.000000\n",
      "yt : [INFO     ] 2020-07-01 12:40:07,953 ylim = -50.000000 50.000000\n",
      "yt : [INFO     ] 2020-07-01 12:40:07,954 Making a fixed resolution buffer of (('boxlib', 'Psi')) 800 by 800\n",
      "yt : [WARNING  ] 2020-07-01 12:40:07,986 Plot image for field ('boxlib', 'Psi') has both positive and negative values. Min = -0.023655, Max = 0.022983.\n",
      "yt : [WARNING  ] 2020-07-01 12:40:07,986 Switching to symlog colorbar scaling unless linear scaling is specified later\n",
      "yt : [INFO     ] 2020-07-01 12:40:08,073 Making a fixed resolution buffer of (('boxlib', 'Psi')) 800 by 800\n",
      "yt : [WARNING  ] 2020-07-01 12:40:08,155 Supplied id_loc but draw_ids is False. Not drawing grid ids\n",
      "yt : [WARNING  ] 2020-07-01 12:40:08,157 Supplied id_loc but draw_ids is False. Not drawing grid ids\n",
      "yt : [WARNING  ] 2020-07-01 12:40:08,158 Supplied id_loc but draw_ids is False. Not drawing grid ids\n",
      "yt : [WARNING  ] 2020-07-01 12:40:08,160 Supplied id_loc but draw_ids is False. Not drawing grid ids\n",
      "yt : [WARNING  ] 2020-07-01 12:40:08,162 Supplied id_loc but draw_ids is False. Not drawing grid ids\n",
      "yt : [WARNING  ] 2020-07-01 12:40:08,163 Supplied id_loc but draw_ids is False. Not drawing grid ids\n",
      "yt : [WARNING  ] 2020-07-01 12:40:08,165 Supplied id_loc but draw_ids is False. Not drawing grid ids\n",
      "yt : [WARNING  ] 2020-07-01 12:40:08,167 Supplied id_loc but draw_ids is False. Not drawing grid ids\n",
      "yt : [WARNING  ] 2020-07-01 12:40:08,168 Supplied id_loc but draw_ids is False. Not drawing grid ids\n",
      "yt : [INFO     ] 2020-07-01 12:40:08,168 Saving plot img00209.png\n"
     ]
    },
    {
     "name": "stdout",
     "output_type": "stream",
     "text": [
      "plt0000209\n",
      "img00209.png\n"
     ]
    },
    {
     "name": "stderr",
     "output_type": "stream",
     "text": [
      "yt : [INFO     ] 2020-07-01 12:40:08,383 Parameters: current_time              = 41.015625\n",
      "yt : [INFO     ] 2020-07-01 12:40:08,383 Parameters: domain_dimensions         = [256 256   1]\n",
      "yt : [INFO     ] 2020-07-01 12:40:08,384 Parameters: domain_left_edge          = [-50. -50.   0.]\n",
      "yt : [INFO     ] 2020-07-01 12:40:08,384 Parameters: domain_right_edge         = [ 50.  50.   1.]\n",
      "yt : [INFO     ] 2020-07-01 12:40:08,483 xlim = -50.000000 50.000000\n",
      "yt : [INFO     ] 2020-07-01 12:40:08,483 ylim = -50.000000 50.000000\n",
      "yt : [INFO     ] 2020-07-01 12:40:08,484 xlim = -50.000000 50.000000\n",
      "yt : [INFO     ] 2020-07-01 12:40:08,485 ylim = -50.000000 50.000000\n",
      "yt : [INFO     ] 2020-07-01 12:40:08,486 Making a fixed resolution buffer of (('boxlib', 'Psi')) 800 by 800\n",
      "yt : [WARNING  ] 2020-07-01 12:40:08,522 Plot image for field ('boxlib', 'Psi') has both positive and negative values. Min = -0.023668, Max = 0.022858.\n",
      "yt : [WARNING  ] 2020-07-01 12:40:08,523 Switching to symlog colorbar scaling unless linear scaling is specified later\n",
      "yt : [INFO     ] 2020-07-01 12:40:08,734 Making a fixed resolution buffer of (('boxlib', 'Psi')) 800 by 800\n",
      "yt : [WARNING  ] 2020-07-01 12:40:08,819 Supplied id_loc but draw_ids is False. Not drawing grid ids\n",
      "yt : [WARNING  ] 2020-07-01 12:40:08,821 Supplied id_loc but draw_ids is False. Not drawing grid ids\n",
      "yt : [WARNING  ] 2020-07-01 12:40:08,823 Supplied id_loc but draw_ids is False. Not drawing grid ids\n",
      "yt : [WARNING  ] 2020-07-01 12:40:08,825 Supplied id_loc but draw_ids is False. Not drawing grid ids\n",
      "yt : [WARNING  ] 2020-07-01 12:40:08,827 Supplied id_loc but draw_ids is False. Not drawing grid ids\n",
      "yt : [WARNING  ] 2020-07-01 12:40:08,829 Supplied id_loc but draw_ids is False. Not drawing grid ids\n",
      "yt : [WARNING  ] 2020-07-01 12:40:08,830 Supplied id_loc but draw_ids is False. Not drawing grid ids\n",
      "yt : [WARNING  ] 2020-07-01 12:40:08,832 Supplied id_loc but draw_ids is False. Not drawing grid ids\n",
      "yt : [WARNING  ] 2020-07-01 12:40:08,834 Supplied id_loc but draw_ids is False. Not drawing grid ids\n",
      "yt : [INFO     ] 2020-07-01 12:40:08,835 Saving plot img00210.png\n"
     ]
    },
    {
     "name": "stdout",
     "output_type": "stream",
     "text": [
      "plt0000210\n",
      "img00210.png\n"
     ]
    },
    {
     "name": "stderr",
     "output_type": "stream",
     "text": [
      "yt : [INFO     ] 2020-07-01 12:40:09,051 Parameters: current_time              = 41.2109375\n",
      "yt : [INFO     ] 2020-07-01 12:40:09,051 Parameters: domain_dimensions         = [256 256   1]\n",
      "yt : [INFO     ] 2020-07-01 12:40:09,052 Parameters: domain_left_edge          = [-50. -50.   0.]\n",
      "yt : [INFO     ] 2020-07-01 12:40:09,052 Parameters: domain_right_edge         = [ 50.  50.   1.]\n",
      "yt : [INFO     ] 2020-07-01 12:40:09,154 xlim = -50.000000 50.000000\n",
      "yt : [INFO     ] 2020-07-01 12:40:09,155 ylim = -50.000000 50.000000\n",
      "yt : [INFO     ] 2020-07-01 12:40:09,156 xlim = -50.000000 50.000000\n",
      "yt : [INFO     ] 2020-07-01 12:40:09,156 ylim = -50.000000 50.000000\n",
      "yt : [INFO     ] 2020-07-01 12:40:09,157 Making a fixed resolution buffer of (('boxlib', 'Psi')) 800 by 800\n",
      "yt : [WARNING  ] 2020-07-01 12:40:09,190 Plot image for field ('boxlib', 'Psi') has both positive and negative values. Min = -0.023556, Max = 0.022746.\n",
      "yt : [WARNING  ] 2020-07-01 12:40:09,190 Switching to symlog colorbar scaling unless linear scaling is specified later\n",
      "yt : [INFO     ] 2020-07-01 12:40:09,276 Making a fixed resolution buffer of (('boxlib', 'Psi')) 800 by 800\n",
      "yt : [WARNING  ] 2020-07-01 12:40:09,361 Supplied id_loc but draw_ids is False. Not drawing grid ids\n",
      "yt : [WARNING  ] 2020-07-01 12:40:09,363 Supplied id_loc but draw_ids is False. Not drawing grid ids\n",
      "yt : [WARNING  ] 2020-07-01 12:40:09,365 Supplied id_loc but draw_ids is False. Not drawing grid ids\n",
      "yt : [WARNING  ] 2020-07-01 12:40:09,367 Supplied id_loc but draw_ids is False. Not drawing grid ids\n",
      "yt : [WARNING  ] 2020-07-01 12:40:09,369 Supplied id_loc but draw_ids is False. Not drawing grid ids\n",
      "yt : [WARNING  ] 2020-07-01 12:40:09,371 Supplied id_loc but draw_ids is False. Not drawing grid ids\n",
      "yt : [WARNING  ] 2020-07-01 12:40:09,372 Supplied id_loc but draw_ids is False. Not drawing grid ids\n",
      "yt : [WARNING  ] 2020-07-01 12:40:09,374 Supplied id_loc but draw_ids is False. Not drawing grid ids\n",
      "yt : [WARNING  ] 2020-07-01 12:40:09,376 Supplied id_loc but draw_ids is False. Not drawing grid ids\n",
      "yt : [INFO     ] 2020-07-01 12:40:09,377 Saving plot img00211.png\n"
     ]
    },
    {
     "name": "stdout",
     "output_type": "stream",
     "text": [
      "plt0000211\n",
      "img00211.png\n"
     ]
    },
    {
     "name": "stderr",
     "output_type": "stream",
     "text": [
      "yt : [INFO     ] 2020-07-01 12:40:09,593 Parameters: current_time              = 41.40625\n",
      "yt : [INFO     ] 2020-07-01 12:40:09,594 Parameters: domain_dimensions         = [256 256   1]\n",
      "yt : [INFO     ] 2020-07-01 12:40:09,594 Parameters: domain_left_edge          = [-50. -50.   0.]\n",
      "yt : [INFO     ] 2020-07-01 12:40:09,595 Parameters: domain_right_edge         = [ 50.  50.   1.]\n",
      "yt : [INFO     ] 2020-07-01 12:40:09,695 xlim = -50.000000 50.000000\n",
      "yt : [INFO     ] 2020-07-01 12:40:09,695 ylim = -50.000000 50.000000\n",
      "yt : [INFO     ] 2020-07-01 12:40:09,696 xlim = -50.000000 50.000000\n",
      "yt : [INFO     ] 2020-07-01 12:40:09,697 ylim = -50.000000 50.000000\n",
      "yt : [INFO     ] 2020-07-01 12:40:09,697 Making a fixed resolution buffer of (('boxlib', 'Psi')) 800 by 800\n",
      "yt : [WARNING  ] 2020-07-01 12:40:09,730 Plot image for field ('boxlib', 'Psi') has both positive and negative values. Min = -0.023481, Max = 0.022650.\n",
      "yt : [WARNING  ] 2020-07-01 12:40:09,730 Switching to symlog colorbar scaling unless linear scaling is specified later\n",
      "yt : [INFO     ] 2020-07-01 12:40:09,816 Making a fixed resolution buffer of (('boxlib', 'Psi')) 800 by 800\n",
      "yt : [WARNING  ] 2020-07-01 12:40:09,901 Supplied id_loc but draw_ids is False. Not drawing grid ids\n",
      "yt : [WARNING  ] 2020-07-01 12:40:09,903 Supplied id_loc but draw_ids is False. Not drawing grid ids\n",
      "yt : [WARNING  ] 2020-07-01 12:40:09,905 Supplied id_loc but draw_ids is False. Not drawing grid ids\n",
      "yt : [WARNING  ] 2020-07-01 12:40:09,906 Supplied id_loc but draw_ids is False. Not drawing grid ids\n",
      "yt : [WARNING  ] 2020-07-01 12:40:09,908 Supplied id_loc but draw_ids is False. Not drawing grid ids\n",
      "yt : [WARNING  ] 2020-07-01 12:40:09,910 Supplied id_loc but draw_ids is False. Not drawing grid ids\n",
      "yt : [WARNING  ] 2020-07-01 12:40:09,912 Supplied id_loc but draw_ids is False. Not drawing grid ids\n",
      "yt : [WARNING  ] 2020-07-01 12:40:09,914 Supplied id_loc but draw_ids is False. Not drawing grid ids\n",
      "yt : [WARNING  ] 2020-07-01 12:40:09,915 Supplied id_loc but draw_ids is False. Not drawing grid ids\n",
      "yt : [INFO     ] 2020-07-01 12:40:09,916 Saving plot img00212.png\n"
     ]
    },
    {
     "name": "stdout",
     "output_type": "stream",
     "text": [
      "plt0000212\n",
      "img00212.png\n"
     ]
    },
    {
     "name": "stderr",
     "output_type": "stream",
     "text": [
      "yt : [INFO     ] 2020-07-01 12:40:10,134 Parameters: current_time              = 41.6015625\n",
      "yt : [INFO     ] 2020-07-01 12:40:10,135 Parameters: domain_dimensions         = [256 256   1]\n",
      "yt : [INFO     ] 2020-07-01 12:40:10,135 Parameters: domain_left_edge          = [-50. -50.   0.]\n",
      "yt : [INFO     ] 2020-07-01 12:40:10,136 Parameters: domain_right_edge         = [ 50.  50.   1.]\n",
      "yt : [INFO     ] 2020-07-01 12:40:10,360 xlim = -50.000000 50.000000\n",
      "yt : [INFO     ] 2020-07-01 12:40:10,360 ylim = -50.000000 50.000000\n",
      "yt : [INFO     ] 2020-07-01 12:40:10,361 xlim = -50.000000 50.000000\n",
      "yt : [INFO     ] 2020-07-01 12:40:10,362 ylim = -50.000000 50.000000\n",
      "yt : [INFO     ] 2020-07-01 12:40:10,363 Making a fixed resolution buffer of (('boxlib', 'Psi')) 800 by 800\n",
      "yt : [WARNING  ] 2020-07-01 12:40:10,396 Plot image for field ('boxlib', 'Psi') has both positive and negative values. Min = -0.023254, Max = 0.022606.\n",
      "yt : [WARNING  ] 2020-07-01 12:40:10,397 Switching to symlog colorbar scaling unless linear scaling is specified later\n",
      "yt : [INFO     ] 2020-07-01 12:40:10,484 Making a fixed resolution buffer of (('boxlib', 'Psi')) 800 by 800\n",
      "yt : [WARNING  ] 2020-07-01 12:40:10,570 Supplied id_loc but draw_ids is False. Not drawing grid ids\n",
      "yt : [WARNING  ] 2020-07-01 12:40:10,572 Supplied id_loc but draw_ids is False. Not drawing grid ids\n",
      "yt : [WARNING  ] 2020-07-01 12:40:10,574 Supplied id_loc but draw_ids is False. Not drawing grid ids\n",
      "yt : [WARNING  ] 2020-07-01 12:40:10,576 Supplied id_loc but draw_ids is False. Not drawing grid ids\n",
      "yt : [WARNING  ] 2020-07-01 12:40:10,578 Supplied id_loc but draw_ids is False. Not drawing grid ids\n",
      "yt : [WARNING  ] 2020-07-01 12:40:10,579 Supplied id_loc but draw_ids is False. Not drawing grid ids\n",
      "yt : [WARNING  ] 2020-07-01 12:40:10,581 Supplied id_loc but draw_ids is False. Not drawing grid ids\n",
      "yt : [WARNING  ] 2020-07-01 12:40:10,583 Supplied id_loc but draw_ids is False. Not drawing grid ids\n",
      "yt : [WARNING  ] 2020-07-01 12:40:10,585 Supplied id_loc but draw_ids is False. Not drawing grid ids\n",
      "yt : [INFO     ] 2020-07-01 12:40:10,586 Saving plot img00213.png\n"
     ]
    },
    {
     "name": "stdout",
     "output_type": "stream",
     "text": [
      "plt0000213\n",
      "img00213.png\n"
     ]
    },
    {
     "name": "stderr",
     "output_type": "stream",
     "text": [
      "yt : [INFO     ] 2020-07-01 12:40:10,803 Parameters: current_time              = 41.796875\n",
      "yt : [INFO     ] 2020-07-01 12:40:10,803 Parameters: domain_dimensions         = [256 256   1]\n",
      "yt : [INFO     ] 2020-07-01 12:40:10,804 Parameters: domain_left_edge          = [-50. -50.   0.]\n",
      "yt : [INFO     ] 2020-07-01 12:40:10,804 Parameters: domain_right_edge         = [ 50.  50.   1.]\n",
      "yt : [INFO     ] 2020-07-01 12:40:10,906 xlim = -50.000000 50.000000\n",
      "yt : [INFO     ] 2020-07-01 12:40:10,907 ylim = -50.000000 50.000000\n",
      "yt : [INFO     ] 2020-07-01 12:40:10,908 xlim = -50.000000 50.000000\n",
      "yt : [INFO     ] 2020-07-01 12:40:10,908 ylim = -50.000000 50.000000\n",
      "yt : [INFO     ] 2020-07-01 12:40:10,909 Making a fixed resolution buffer of (('boxlib', 'Psi')) 800 by 800\n",
      "yt : [WARNING  ] 2020-07-01 12:40:10,943 Plot image for field ('boxlib', 'Psi') has both positive and negative values. Min = -0.023037, Max = 0.022579.\n",
      "yt : [WARNING  ] 2020-07-01 12:40:10,943 Switching to symlog colorbar scaling unless linear scaling is specified later\n",
      "yt : [INFO     ] 2020-07-01 12:40:11,029 Making a fixed resolution buffer of (('boxlib', 'Psi')) 800 by 800\n",
      "yt : [WARNING  ] 2020-07-01 12:40:11,114 Supplied id_loc but draw_ids is False. Not drawing grid ids\n",
      "yt : [WARNING  ] 2020-07-01 12:40:11,116 Supplied id_loc but draw_ids is False. Not drawing grid ids\n",
      "yt : [WARNING  ] 2020-07-01 12:40:11,118 Supplied id_loc but draw_ids is False. Not drawing grid ids\n",
      "yt : [WARNING  ] 2020-07-01 12:40:11,120 Supplied id_loc but draw_ids is False. Not drawing grid ids\n",
      "yt : [WARNING  ] 2020-07-01 12:40:11,122 Supplied id_loc but draw_ids is False. Not drawing grid ids\n",
      "yt : [WARNING  ] 2020-07-01 12:40:11,124 Supplied id_loc but draw_ids is False. Not drawing grid ids\n",
      "yt : [WARNING  ] 2020-07-01 12:40:11,126 Supplied id_loc but draw_ids is False. Not drawing grid ids\n",
      "yt : [WARNING  ] 2020-07-01 12:40:11,127 Supplied id_loc but draw_ids is False. Not drawing grid ids\n",
      "yt : [WARNING  ] 2020-07-01 12:40:11,129 Supplied id_loc but draw_ids is False. Not drawing grid ids\n",
      "yt : [INFO     ] 2020-07-01 12:40:11,130 Saving plot img00214.png\n"
     ]
    },
    {
     "name": "stdout",
     "output_type": "stream",
     "text": [
      "plt0000214\n",
      "img00214.png\n"
     ]
    },
    {
     "name": "stderr",
     "output_type": "stream",
     "text": [
      "yt : [INFO     ] 2020-07-01 12:40:11,347 Parameters: current_time              = 41.9921875\n",
      "yt : [INFO     ] 2020-07-01 12:40:11,348 Parameters: domain_dimensions         = [256 256   1]\n",
      "yt : [INFO     ] 2020-07-01 12:40:11,348 Parameters: domain_left_edge          = [-50. -50.   0.]\n",
      "yt : [INFO     ] 2020-07-01 12:40:11,349 Parameters: domain_right_edge         = [ 50.  50.   1.]\n",
      "yt : [INFO     ] 2020-07-01 12:40:11,449 xlim = -50.000000 50.000000\n",
      "yt : [INFO     ] 2020-07-01 12:40:11,449 ylim = -50.000000 50.000000\n",
      "yt : [INFO     ] 2020-07-01 12:40:11,450 xlim = -50.000000 50.000000\n",
      "yt : [INFO     ] 2020-07-01 12:40:11,451 ylim = -50.000000 50.000000\n",
      "yt : [INFO     ] 2020-07-01 12:40:11,452 Making a fixed resolution buffer of (('boxlib', 'Psi')) 800 by 800\n",
      "yt : [WARNING  ] 2020-07-01 12:40:11,485 Plot image for field ('boxlib', 'Psi') has both positive and negative values. Min = -0.022889, Max = 0.022568.\n",
      "yt : [WARNING  ] 2020-07-01 12:40:11,486 Switching to symlog colorbar scaling unless linear scaling is specified later\n",
      "yt : [INFO     ] 2020-07-01 12:40:11,572 Making a fixed resolution buffer of (('boxlib', 'Psi')) 800 by 800\n",
      "yt : [WARNING  ] 2020-07-01 12:40:11,659 Supplied id_loc but draw_ids is False. Not drawing grid ids\n",
      "yt : [WARNING  ] 2020-07-01 12:40:11,661 Supplied id_loc but draw_ids is False. Not drawing grid ids\n",
      "yt : [WARNING  ] 2020-07-01 12:40:11,662 Supplied id_loc but draw_ids is False. Not drawing grid ids\n",
      "yt : [WARNING  ] 2020-07-01 12:40:11,664 Supplied id_loc but draw_ids is False. Not drawing grid ids\n",
      "yt : [WARNING  ] 2020-07-01 12:40:11,666 Supplied id_loc but draw_ids is False. Not drawing grid ids\n",
      "yt : [WARNING  ] 2020-07-01 12:40:11,668 Supplied id_loc but draw_ids is False. Not drawing grid ids\n",
      "yt : [WARNING  ] 2020-07-01 12:40:11,670 Supplied id_loc but draw_ids is False. Not drawing grid ids\n",
      "yt : [WARNING  ] 2020-07-01 12:40:11,672 Supplied id_loc but draw_ids is False. Not drawing grid ids\n",
      "yt : [WARNING  ] 2020-07-01 12:40:11,673 Supplied id_loc but draw_ids is False. Not drawing grid ids\n",
      "yt : [INFO     ] 2020-07-01 12:40:11,674 Saving plot img00215.png\n"
     ]
    },
    {
     "name": "stdout",
     "output_type": "stream",
     "text": [
      "plt0000215\n",
      "img00215.png\n"
     ]
    },
    {
     "name": "stderr",
     "output_type": "stream",
     "text": [
      "yt : [INFO     ] 2020-07-01 12:40:12,000 Parameters: current_time              = 42.1875\n",
      "yt : [INFO     ] 2020-07-01 12:40:12,000 Parameters: domain_dimensions         = [256 256   1]\n",
      "yt : [INFO     ] 2020-07-01 12:40:12,001 Parameters: domain_left_edge          = [-50. -50.   0.]\n",
      "yt : [INFO     ] 2020-07-01 12:40:12,001 Parameters: domain_right_edge         = [ 50.  50.   1.]\n",
      "yt : [INFO     ] 2020-07-01 12:40:12,102 xlim = -50.000000 50.000000\n",
      "yt : [INFO     ] 2020-07-01 12:40:12,103 ylim = -50.000000 50.000000\n",
      "yt : [INFO     ] 2020-07-01 12:40:12,104 xlim = -50.000000 50.000000\n",
      "yt : [INFO     ] 2020-07-01 12:40:12,104 ylim = -50.000000 50.000000\n",
      "yt : [INFO     ] 2020-07-01 12:40:12,105 Making a fixed resolution buffer of (('boxlib', 'Psi')) 800 by 800\n",
      "yt : [WARNING  ] 2020-07-01 12:40:12,139 Plot image for field ('boxlib', 'Psi') has both positive and negative values. Min = -0.022872, Max = 0.022569.\n",
      "yt : [WARNING  ] 2020-07-01 12:40:12,139 Switching to symlog colorbar scaling unless linear scaling is specified later\n",
      "yt : [INFO     ] 2020-07-01 12:40:12,227 Making a fixed resolution buffer of (('boxlib', 'Psi')) 800 by 800\n",
      "yt : [WARNING  ] 2020-07-01 12:40:12,312 Supplied id_loc but draw_ids is False. Not drawing grid ids\n",
      "yt : [WARNING  ] 2020-07-01 12:40:12,314 Supplied id_loc but draw_ids is False. Not drawing grid ids\n",
      "yt : [WARNING  ] 2020-07-01 12:40:12,316 Supplied id_loc but draw_ids is False. Not drawing grid ids\n",
      "yt : [WARNING  ] 2020-07-01 12:40:12,318 Supplied id_loc but draw_ids is False. Not drawing grid ids\n",
      "yt : [WARNING  ] 2020-07-01 12:40:12,319 Supplied id_loc but draw_ids is False. Not drawing grid ids\n",
      "yt : [WARNING  ] 2020-07-01 12:40:12,322 Supplied id_loc but draw_ids is False. Not drawing grid ids\n",
      "yt : [WARNING  ] 2020-07-01 12:40:12,324 Supplied id_loc but draw_ids is False. Not drawing grid ids\n",
      "yt : [WARNING  ] 2020-07-01 12:40:12,325 Supplied id_loc but draw_ids is False. Not drawing grid ids\n",
      "yt : [WARNING  ] 2020-07-01 12:40:12,327 Supplied id_loc but draw_ids is False. Not drawing grid ids\n",
      "yt : [INFO     ] 2020-07-01 12:40:12,328 Saving plot img00216.png\n"
     ]
    },
    {
     "name": "stdout",
     "output_type": "stream",
     "text": [
      "plt0000216\n",
      "img00216.png\n"
     ]
    },
    {
     "name": "stderr",
     "output_type": "stream",
     "text": [
      "yt : [INFO     ] 2020-07-01 12:40:12,546 Parameters: current_time              = 42.3828125\n",
      "yt : [INFO     ] 2020-07-01 12:40:12,546 Parameters: domain_dimensions         = [256 256   1]\n",
      "yt : [INFO     ] 2020-07-01 12:40:12,547 Parameters: domain_left_edge          = [-50. -50.   0.]\n",
      "yt : [INFO     ] 2020-07-01 12:40:12,547 Parameters: domain_right_edge         = [ 50.  50.   1.]\n",
      "yt : [INFO     ] 2020-07-01 12:40:12,647 xlim = -50.000000 50.000000\n",
      "yt : [INFO     ] 2020-07-01 12:40:12,647 ylim = -50.000000 50.000000\n",
      "yt : [INFO     ] 2020-07-01 12:40:12,648 xlim = -50.000000 50.000000\n",
      "yt : [INFO     ] 2020-07-01 12:40:12,649 ylim = -50.000000 50.000000\n",
      "yt : [INFO     ] 2020-07-01 12:40:12,649 Making a fixed resolution buffer of (('boxlib', 'Psi')) 800 by 800\n",
      "yt : [WARNING  ] 2020-07-01 12:40:12,682 Plot image for field ('boxlib', 'Psi') has both positive and negative values. Min = -0.022654, Max = 0.022507.\n",
      "yt : [WARNING  ] 2020-07-01 12:40:12,683 Switching to symlog colorbar scaling unless linear scaling is specified later\n",
      "yt : [INFO     ] 2020-07-01 12:40:12,770 Making a fixed resolution buffer of (('boxlib', 'Psi')) 800 by 800\n",
      "yt : [WARNING  ] 2020-07-01 12:40:12,854 Supplied id_loc but draw_ids is False. Not drawing grid ids\n",
      "yt : [WARNING  ] 2020-07-01 12:40:12,856 Supplied id_loc but draw_ids is False. Not drawing grid ids\n",
      "yt : [WARNING  ] 2020-07-01 12:40:12,858 Supplied id_loc but draw_ids is False. Not drawing grid ids\n",
      "yt : [WARNING  ] 2020-07-01 12:40:12,860 Supplied id_loc but draw_ids is False. Not drawing grid ids\n",
      "yt : [WARNING  ] 2020-07-01 12:40:12,862 Supplied id_loc but draw_ids is False. Not drawing grid ids\n",
      "yt : [WARNING  ] 2020-07-01 12:40:12,863 Supplied id_loc but draw_ids is False. Not drawing grid ids\n",
      "yt : [WARNING  ] 2020-07-01 12:40:12,865 Supplied id_loc but draw_ids is False. Not drawing grid ids\n",
      "yt : [WARNING  ] 2020-07-01 12:40:12,867 Supplied id_loc but draw_ids is False. Not drawing grid ids\n",
      "yt : [WARNING  ] 2020-07-01 12:40:12,869 Supplied id_loc but draw_ids is False. Not drawing grid ids\n",
      "yt : [INFO     ] 2020-07-01 12:40:12,869 Saving plot img00217.png\n"
     ]
    },
    {
     "name": "stdout",
     "output_type": "stream",
     "text": [
      "plt0000217\n",
      "img00217.png\n"
     ]
    },
    {
     "name": "stderr",
     "output_type": "stream",
     "text": [
      "yt : [INFO     ] 2020-07-01 12:40:13,086 Parameters: current_time              = 42.578125\n",
      "yt : [INFO     ] 2020-07-01 12:40:13,087 Parameters: domain_dimensions         = [256 256   1]\n",
      "yt : [INFO     ] 2020-07-01 12:40:13,087 Parameters: domain_left_edge          = [-50. -50.   0.]\n",
      "yt : [INFO     ] 2020-07-01 12:40:13,088 Parameters: domain_right_edge         = [ 50.  50.   1.]\n",
      "yt : [INFO     ] 2020-07-01 12:40:13,187 xlim = -50.000000 50.000000\n",
      "yt : [INFO     ] 2020-07-01 12:40:13,188 ylim = -50.000000 50.000000\n",
      "yt : [INFO     ] 2020-07-01 12:40:13,189 xlim = -50.000000 50.000000\n",
      "yt : [INFO     ] 2020-07-01 12:40:13,189 ylim = -50.000000 50.000000\n",
      "yt : [INFO     ] 2020-07-01 12:40:13,190 Making a fixed resolution buffer of (('boxlib', 'Psi')) 800 by 800\n",
      "yt : [WARNING  ] 2020-07-01 12:40:13,223 Plot image for field ('boxlib', 'Psi') has both positive and negative values. Min = -0.022781, Max = 0.022356.\n",
      "yt : [WARNING  ] 2020-07-01 12:40:13,223 Switching to symlog colorbar scaling unless linear scaling is specified later\n",
      "yt : [INFO     ] 2020-07-01 12:40:13,426 Making a fixed resolution buffer of (('boxlib', 'Psi')) 800 by 800\n",
      "yt : [WARNING  ] 2020-07-01 12:40:13,516 Supplied id_loc but draw_ids is False. Not drawing grid ids\n",
      "yt : [WARNING  ] 2020-07-01 12:40:13,518 Supplied id_loc but draw_ids is False. Not drawing grid ids\n",
      "yt : [WARNING  ] 2020-07-01 12:40:13,519 Supplied id_loc but draw_ids is False. Not drawing grid ids\n",
      "yt : [WARNING  ] 2020-07-01 12:40:13,521 Supplied id_loc but draw_ids is False. Not drawing grid ids\n",
      "yt : [WARNING  ] 2020-07-01 12:40:13,523 Supplied id_loc but draw_ids is False. Not drawing grid ids\n",
      "yt : [WARNING  ] 2020-07-01 12:40:13,525 Supplied id_loc but draw_ids is False. Not drawing grid ids\n",
      "yt : [WARNING  ] 2020-07-01 12:40:13,526 Supplied id_loc but draw_ids is False. Not drawing grid ids\n",
      "yt : [WARNING  ] 2020-07-01 12:40:13,528 Supplied id_loc but draw_ids is False. Not drawing grid ids\n",
      "yt : [WARNING  ] 2020-07-01 12:40:13,530 Supplied id_loc but draw_ids is False. Not drawing grid ids\n",
      "yt : [INFO     ] 2020-07-01 12:40:13,530 Saving plot img00218.png\n"
     ]
    },
    {
     "name": "stdout",
     "output_type": "stream",
     "text": [
      "plt0000218\n",
      "img00218.png\n"
     ]
    },
    {
     "name": "stderr",
     "output_type": "stream",
     "text": [
      "yt : [INFO     ] 2020-07-01 12:40:13,748 Parameters: current_time              = 42.7734375\n",
      "yt : [INFO     ] 2020-07-01 12:40:13,749 Parameters: domain_dimensions         = [256 256   1]\n",
      "yt : [INFO     ] 2020-07-01 12:40:13,749 Parameters: domain_left_edge          = [-50. -50.   0.]\n",
      "yt : [INFO     ] 2020-07-01 12:40:13,750 Parameters: domain_right_edge         = [ 50.  50.   1.]\n",
      "yt : [INFO     ] 2020-07-01 12:40:13,852 xlim = -50.000000 50.000000\n",
      "yt : [INFO     ] 2020-07-01 12:40:13,852 ylim = -50.000000 50.000000\n",
      "yt : [INFO     ] 2020-07-01 12:40:13,853 xlim = -50.000000 50.000000\n",
      "yt : [INFO     ] 2020-07-01 12:40:13,854 ylim = -50.000000 50.000000\n",
      "yt : [INFO     ] 2020-07-01 12:40:13,854 Making a fixed resolution buffer of (('boxlib', 'Psi')) 800 by 800\n",
      "yt : [WARNING  ] 2020-07-01 12:40:13,889 Plot image for field ('boxlib', 'Psi') has both positive and negative values. Min = -0.022525, Max = 0.022318.\n",
      "yt : [WARNING  ] 2020-07-01 12:40:13,889 Switching to symlog colorbar scaling unless linear scaling is specified later\n",
      "yt : [INFO     ] 2020-07-01 12:40:13,976 Making a fixed resolution buffer of (('boxlib', 'Psi')) 800 by 800\n",
      "yt : [WARNING  ] 2020-07-01 12:40:14,063 Supplied id_loc but draw_ids is False. Not drawing grid ids\n",
      "yt : [WARNING  ] 2020-07-01 12:40:14,065 Supplied id_loc but draw_ids is False. Not drawing grid ids\n",
      "yt : [WARNING  ] 2020-07-01 12:40:14,067 Supplied id_loc but draw_ids is False. Not drawing grid ids\n",
      "yt : [WARNING  ] 2020-07-01 12:40:14,068 Supplied id_loc but draw_ids is False. Not drawing grid ids\n",
      "yt : [WARNING  ] 2020-07-01 12:40:14,070 Supplied id_loc but draw_ids is False. Not drawing grid ids\n",
      "yt : [WARNING  ] 2020-07-01 12:40:14,072 Supplied id_loc but draw_ids is False. Not drawing grid ids\n",
      "yt : [WARNING  ] 2020-07-01 12:40:14,074 Supplied id_loc but draw_ids is False. Not drawing grid ids\n",
      "yt : [WARNING  ] 2020-07-01 12:40:14,075 Supplied id_loc but draw_ids is False. Not drawing grid ids\n",
      "yt : [WARNING  ] 2020-07-01 12:40:14,077 Supplied id_loc but draw_ids is False. Not drawing grid ids\n",
      "yt : [INFO     ] 2020-07-01 12:40:14,077 Saving plot img00219.png\n"
     ]
    },
    {
     "name": "stdout",
     "output_type": "stream",
     "text": [
      "plt0000219\n",
      "img00219.png\n"
     ]
    },
    {
     "name": "stderr",
     "output_type": "stream",
     "text": [
      "yt : [INFO     ] 2020-07-01 12:40:14,297 Parameters: current_time              = 42.96875\n",
      "yt : [INFO     ] 2020-07-01 12:40:14,297 Parameters: domain_dimensions         = [256 256   1]\n",
      "yt : [INFO     ] 2020-07-01 12:40:14,298 Parameters: domain_left_edge          = [-50. -50.   0.]\n",
      "yt : [INFO     ] 2020-07-01 12:40:14,298 Parameters: domain_right_edge         = [ 50.  50.   1.]\n",
      "yt : [INFO     ] 2020-07-01 12:40:14,400 xlim = -50.000000 50.000000\n",
      "yt : [INFO     ] 2020-07-01 12:40:14,400 ylim = -50.000000 50.000000\n",
      "yt : [INFO     ] 2020-07-01 12:40:14,402 xlim = -50.000000 50.000000\n",
      "yt : [INFO     ] 2020-07-01 12:40:14,402 ylim = -50.000000 50.000000\n",
      "yt : [INFO     ] 2020-07-01 12:40:14,403 Making a fixed resolution buffer of (('boxlib', 'Psi')) 800 by 800\n",
      "yt : [WARNING  ] 2020-07-01 12:40:14,438 Plot image for field ('boxlib', 'Psi') has both positive and negative values. Min = -0.022324, Max = 0.022273.\n",
      "yt : [WARNING  ] 2020-07-01 12:40:14,438 Switching to symlog colorbar scaling unless linear scaling is specified later\n",
      "yt : [INFO     ] 2020-07-01 12:40:14,527 Making a fixed resolution buffer of (('boxlib', 'Psi')) 800 by 800\n",
      "yt : [WARNING  ] 2020-07-01 12:40:14,616 Supplied id_loc but draw_ids is False. Not drawing grid ids\n",
      "yt : [WARNING  ] 2020-07-01 12:40:14,617 Supplied id_loc but draw_ids is False. Not drawing grid ids\n",
      "yt : [WARNING  ] 2020-07-01 12:40:14,619 Supplied id_loc but draw_ids is False. Not drawing grid ids\n",
      "yt : [WARNING  ] 2020-07-01 12:40:14,621 Supplied id_loc but draw_ids is False. Not drawing grid ids\n",
      "yt : [WARNING  ] 2020-07-01 12:40:14,623 Supplied id_loc but draw_ids is False. Not drawing grid ids\n",
      "yt : [WARNING  ] 2020-07-01 12:40:14,625 Supplied id_loc but draw_ids is False. Not drawing grid ids\n",
      "yt : [WARNING  ] 2020-07-01 12:40:14,627 Supplied id_loc but draw_ids is False. Not drawing grid ids\n",
      "yt : [WARNING  ] 2020-07-01 12:40:14,628 Supplied id_loc but draw_ids is False. Not drawing grid ids\n",
      "yt : [WARNING  ] 2020-07-01 12:40:14,630 Supplied id_loc but draw_ids is False. Not drawing grid ids\n",
      "yt : [INFO     ] 2020-07-01 12:40:14,630 Saving plot img00220.png\n"
     ]
    },
    {
     "name": "stdout",
     "output_type": "stream",
     "text": [
      "plt0000220\n",
      "img00220.png\n"
     ]
    },
    {
     "name": "stderr",
     "output_type": "stream",
     "text": [
      "yt : [INFO     ] 2020-07-01 12:40:14,848 Parameters: current_time              = 43.1640625\n",
      "yt : [INFO     ] 2020-07-01 12:40:14,848 Parameters: domain_dimensions         = [256 256   1]\n",
      "yt : [INFO     ] 2020-07-01 12:40:14,849 Parameters: domain_left_edge          = [-50. -50.   0.]\n",
      "yt : [INFO     ] 2020-07-01 12:40:14,849 Parameters: domain_right_edge         = [ 50.  50.   1.]\n",
      "yt : [INFO     ] 2020-07-01 12:40:14,947 xlim = -50.000000 50.000000\n",
      "yt : [INFO     ] 2020-07-01 12:40:14,948 ylim = -50.000000 50.000000\n",
      "yt : [INFO     ] 2020-07-01 12:40:14,949 xlim = -50.000000 50.000000\n",
      "yt : [INFO     ] 2020-07-01 12:40:14,949 ylim = -50.000000 50.000000\n",
      "yt : [INFO     ] 2020-07-01 12:40:14,951 Making a fixed resolution buffer of (('boxlib', 'Psi')) 800 by 800\n",
      "yt : [WARNING  ] 2020-07-01 12:40:14,989 Plot image for field ('boxlib', 'Psi') has both positive and negative values. Min = -0.022261, Max = 0.022231.\n",
      "yt : [WARNING  ] 2020-07-01 12:40:14,990 Switching to symlog colorbar scaling unless linear scaling is specified later\n",
      "yt : [INFO     ] 2020-07-01 12:40:15,200 Making a fixed resolution buffer of (('boxlib', 'Psi')) 800 by 800\n",
      "yt : [WARNING  ] 2020-07-01 12:40:15,285 Supplied id_loc but draw_ids is False. Not drawing grid ids\n",
      "yt : [WARNING  ] 2020-07-01 12:40:15,287 Supplied id_loc but draw_ids is False. Not drawing grid ids\n",
      "yt : [WARNING  ] 2020-07-01 12:40:15,289 Supplied id_loc but draw_ids is False. Not drawing grid ids\n",
      "yt : [WARNING  ] 2020-07-01 12:40:15,291 Supplied id_loc but draw_ids is False. Not drawing grid ids\n",
      "yt : [WARNING  ] 2020-07-01 12:40:15,293 Supplied id_loc but draw_ids is False. Not drawing grid ids\n",
      "yt : [WARNING  ] 2020-07-01 12:40:15,294 Supplied id_loc but draw_ids is False. Not drawing grid ids\n",
      "yt : [WARNING  ] 2020-07-01 12:40:15,296 Supplied id_loc but draw_ids is False. Not drawing grid ids\n",
      "yt : [WARNING  ] 2020-07-01 12:40:15,298 Supplied id_loc but draw_ids is False. Not drawing grid ids\n",
      "yt : [WARNING  ] 2020-07-01 12:40:15,300 Supplied id_loc but draw_ids is False. Not drawing grid ids\n",
      "yt : [INFO     ] 2020-07-01 12:40:15,301 Saving plot img00221.png\n"
     ]
    },
    {
     "name": "stdout",
     "output_type": "stream",
     "text": [
      "plt0000221\n",
      "img00221.png\n"
     ]
    },
    {
     "name": "stderr",
     "output_type": "stream",
     "text": [
      "yt : [INFO     ] 2020-07-01 12:40:15,515 Parameters: current_time              = 43.359375\n",
      "yt : [INFO     ] 2020-07-01 12:40:15,516 Parameters: domain_dimensions         = [256 256   1]\n",
      "yt : [INFO     ] 2020-07-01 12:40:15,516 Parameters: domain_left_edge          = [-50. -50.   0.]\n",
      "yt : [INFO     ] 2020-07-01 12:40:15,517 Parameters: domain_right_edge         = [ 50.  50.   1.]\n",
      "yt : [INFO     ] 2020-07-01 12:40:15,619 xlim = -50.000000 50.000000\n",
      "yt : [INFO     ] 2020-07-01 12:40:15,619 ylim = -50.000000 50.000000\n",
      "yt : [INFO     ] 2020-07-01 12:40:15,620 xlim = -50.000000 50.000000\n",
      "yt : [INFO     ] 2020-07-01 12:40:15,621 ylim = -50.000000 50.000000\n",
      "yt : [INFO     ] 2020-07-01 12:40:15,622 Making a fixed resolution buffer of (('boxlib', 'Psi')) 800 by 800\n",
      "yt : [WARNING  ] 2020-07-01 12:40:15,656 Plot image for field ('boxlib', 'Psi') has both positive and negative values. Min = -0.022340, Max = 0.022185.\n",
      "yt : [WARNING  ] 2020-07-01 12:40:15,656 Switching to symlog colorbar scaling unless linear scaling is specified later\n",
      "yt : [INFO     ] 2020-07-01 12:40:15,742 Making a fixed resolution buffer of (('boxlib', 'Psi')) 800 by 800\n",
      "yt : [WARNING  ] 2020-07-01 12:40:15,826 Supplied id_loc but draw_ids is False. Not drawing grid ids\n",
      "yt : [WARNING  ] 2020-07-01 12:40:15,828 Supplied id_loc but draw_ids is False. Not drawing grid ids\n",
      "yt : [WARNING  ] 2020-07-01 12:40:15,830 Supplied id_loc but draw_ids is False. Not drawing grid ids\n",
      "yt : [WARNING  ] 2020-07-01 12:40:15,832 Supplied id_loc but draw_ids is False. Not drawing grid ids\n",
      "yt : [WARNING  ] 2020-07-01 12:40:15,833 Supplied id_loc but draw_ids is False. Not drawing grid ids\n",
      "yt : [WARNING  ] 2020-07-01 12:40:15,835 Supplied id_loc but draw_ids is False. Not drawing grid ids\n",
      "yt : [WARNING  ] 2020-07-01 12:40:15,837 Supplied id_loc but draw_ids is False. Not drawing grid ids\n",
      "yt : [WARNING  ] 2020-07-01 12:40:15,839 Supplied id_loc but draw_ids is False. Not drawing grid ids\n",
      "yt : [WARNING  ] 2020-07-01 12:40:15,841 Supplied id_loc but draw_ids is False. Not drawing grid ids\n",
      "yt : [INFO     ] 2020-07-01 12:40:15,841 Saving plot img00222.png\n"
     ]
    },
    {
     "name": "stdout",
     "output_type": "stream",
     "text": [
      "plt0000222\n",
      "img00222.png\n"
     ]
    },
    {
     "name": "stderr",
     "output_type": "stream",
     "text": [
      "yt : [INFO     ] 2020-07-01 12:40:16,056 Parameters: current_time              = 43.5546875\n",
      "yt : [INFO     ] 2020-07-01 12:40:16,056 Parameters: domain_dimensions         = [256 256   1]\n",
      "yt : [INFO     ] 2020-07-01 12:40:16,057 Parameters: domain_left_edge          = [-50. -50.   0.]\n",
      "yt : [INFO     ] 2020-07-01 12:40:16,057 Parameters: domain_right_edge         = [ 50.  50.   1.]\n",
      "yt : [INFO     ] 2020-07-01 12:40:16,156 xlim = -50.000000 50.000000\n",
      "yt : [INFO     ] 2020-07-01 12:40:16,157 ylim = -50.000000 50.000000\n",
      "yt : [INFO     ] 2020-07-01 12:40:16,158 xlim = -50.000000 50.000000\n",
      "yt : [INFO     ] 2020-07-01 12:40:16,158 ylim = -50.000000 50.000000\n",
      "yt : [INFO     ] 2020-07-01 12:40:16,159 Making a fixed resolution buffer of (('boxlib', 'Psi')) 800 by 800\n",
      "yt : [WARNING  ] 2020-07-01 12:40:16,193 Plot image for field ('boxlib', 'Psi') has both positive and negative values. Min = -0.021895, Max = 0.022090.\n",
      "yt : [WARNING  ] 2020-07-01 12:40:16,194 Switching to symlog colorbar scaling unless linear scaling is specified later\n",
      "yt : [INFO     ] 2020-07-01 12:40:16,280 Making a fixed resolution buffer of (('boxlib', 'Psi')) 800 by 800\n",
      "yt : [WARNING  ] 2020-07-01 12:40:16,364 Supplied id_loc but draw_ids is False. Not drawing grid ids\n",
      "yt : [WARNING  ] 2020-07-01 12:40:16,366 Supplied id_loc but draw_ids is False. Not drawing grid ids\n",
      "yt : [WARNING  ] 2020-07-01 12:40:16,367 Supplied id_loc but draw_ids is False. Not drawing grid ids\n",
      "yt : [WARNING  ] 2020-07-01 12:40:16,369 Supplied id_loc but draw_ids is False. Not drawing grid ids\n",
      "yt : [WARNING  ] 2020-07-01 12:40:16,371 Supplied id_loc but draw_ids is False. Not drawing grid ids\n",
      "yt : [WARNING  ] 2020-07-01 12:40:16,373 Supplied id_loc but draw_ids is False. Not drawing grid ids\n",
      "yt : [WARNING  ] 2020-07-01 12:40:16,375 Supplied id_loc but draw_ids is False. Not drawing grid ids\n",
      "yt : [WARNING  ] 2020-07-01 12:40:16,377 Supplied id_loc but draw_ids is False. Not drawing grid ids\n",
      "yt : [WARNING  ] 2020-07-01 12:40:16,378 Supplied id_loc but draw_ids is False. Not drawing grid ids\n",
      "yt : [INFO     ] 2020-07-01 12:40:16,379 Saving plot img00223.png\n"
     ]
    },
    {
     "name": "stdout",
     "output_type": "stream",
     "text": [
      "plt0000223\n",
      "img00223.png\n"
     ]
    },
    {
     "name": "stderr",
     "output_type": "stream",
     "text": [
      "yt : [INFO     ] 2020-07-01 12:40:16,591 Parameters: current_time              = 43.75\n",
      "yt : [INFO     ] 2020-07-01 12:40:16,592 Parameters: domain_dimensions         = [256 256   1]\n",
      "yt : [INFO     ] 2020-07-01 12:40:16,592 Parameters: domain_left_edge          = [-50. -50.   0.]\n",
      "yt : [INFO     ] 2020-07-01 12:40:16,593 Parameters: domain_right_edge         = [ 50.  50.   1.]\n",
      "yt : [INFO     ] 2020-07-01 12:40:16,818 xlim = -50.000000 50.000000\n",
      "yt : [INFO     ] 2020-07-01 12:40:16,818 ylim = -50.000000 50.000000\n",
      "yt : [INFO     ] 2020-07-01 12:40:16,819 xlim = -50.000000 50.000000\n",
      "yt : [INFO     ] 2020-07-01 12:40:16,820 ylim = -50.000000 50.000000\n",
      "yt : [INFO     ] 2020-07-01 12:40:16,820 Making a fixed resolution buffer of (('boxlib', 'Psi')) 800 by 800\n",
      "yt : [WARNING  ] 2020-07-01 12:40:16,856 Plot image for field ('boxlib', 'Psi') has both positive and negative values. Min = -0.021897, Max = 0.022031.\n",
      "yt : [WARNING  ] 2020-07-01 12:40:16,856 Switching to symlog colorbar scaling unless linear scaling is specified later\n",
      "yt : [INFO     ] 2020-07-01 12:40:16,943 Making a fixed resolution buffer of (('boxlib', 'Psi')) 800 by 800\n",
      "yt : [WARNING  ] 2020-07-01 12:40:17,027 Supplied id_loc but draw_ids is False. Not drawing grid ids\n",
      "yt : [WARNING  ] 2020-07-01 12:40:17,029 Supplied id_loc but draw_ids is False. Not drawing grid ids\n",
      "yt : [WARNING  ] 2020-07-01 12:40:17,031 Supplied id_loc but draw_ids is False. Not drawing grid ids\n",
      "yt : [WARNING  ] 2020-07-01 12:40:17,033 Supplied id_loc but draw_ids is False. Not drawing grid ids\n",
      "yt : [WARNING  ] 2020-07-01 12:40:17,035 Supplied id_loc but draw_ids is False. Not drawing grid ids\n",
      "yt : [WARNING  ] 2020-07-01 12:40:17,036 Supplied id_loc but draw_ids is False. Not drawing grid ids\n",
      "yt : [WARNING  ] 2020-07-01 12:40:17,038 Supplied id_loc but draw_ids is False. Not drawing grid ids\n",
      "yt : [WARNING  ] 2020-07-01 12:40:17,040 Supplied id_loc but draw_ids is False. Not drawing grid ids\n",
      "yt : [WARNING  ] 2020-07-01 12:40:17,042 Supplied id_loc but draw_ids is False. Not drawing grid ids\n",
      "yt : [INFO     ] 2020-07-01 12:40:17,043 Saving plot img00224.png\n"
     ]
    },
    {
     "name": "stdout",
     "output_type": "stream",
     "text": [
      "plt0000224\n",
      "img00224.png\n"
     ]
    },
    {
     "name": "stderr",
     "output_type": "stream",
     "text": [
      "yt : [INFO     ] 2020-07-01 12:40:17,257 Parameters: current_time              = 43.9453125\n",
      "yt : [INFO     ] 2020-07-01 12:40:17,257 Parameters: domain_dimensions         = [256 256   1]\n",
      "yt : [INFO     ] 2020-07-01 12:40:17,258 Parameters: domain_left_edge          = [-50. -50.   0.]\n",
      "yt : [INFO     ] 2020-07-01 12:40:17,258 Parameters: domain_right_edge         = [ 50.  50.   1.]\n",
      "yt : [INFO     ] 2020-07-01 12:40:17,359 xlim = -50.000000 50.000000\n",
      "yt : [INFO     ] 2020-07-01 12:40:17,360 ylim = -50.000000 50.000000\n",
      "yt : [INFO     ] 2020-07-01 12:40:17,361 xlim = -50.000000 50.000000\n",
      "yt : [INFO     ] 2020-07-01 12:40:17,361 ylim = -50.000000 50.000000\n",
      "yt : [INFO     ] 2020-07-01 12:40:17,362 Making a fixed resolution buffer of (('boxlib', 'Psi')) 800 by 800\n",
      "yt : [WARNING  ] 2020-07-01 12:40:17,397 Plot image for field ('boxlib', 'Psi') has both positive and negative values. Min = -0.022063, Max = 0.021902.\n",
      "yt : [WARNING  ] 2020-07-01 12:40:17,397 Switching to symlog colorbar scaling unless linear scaling is specified later\n",
      "yt : [INFO     ] 2020-07-01 12:40:17,484 Making a fixed resolution buffer of (('boxlib', 'Psi')) 800 by 800\n",
      "yt : [WARNING  ] 2020-07-01 12:40:17,568 Supplied id_loc but draw_ids is False. Not drawing grid ids\n",
      "yt : [WARNING  ] 2020-07-01 12:40:17,570 Supplied id_loc but draw_ids is False. Not drawing grid ids\n",
      "yt : [WARNING  ] 2020-07-01 12:40:17,571 Supplied id_loc but draw_ids is False. Not drawing grid ids\n",
      "yt : [WARNING  ] 2020-07-01 12:40:17,573 Supplied id_loc but draw_ids is False. Not drawing grid ids\n",
      "yt : [WARNING  ] 2020-07-01 12:40:17,575 Supplied id_loc but draw_ids is False. Not drawing grid ids\n",
      "yt : [WARNING  ] 2020-07-01 12:40:17,577 Supplied id_loc but draw_ids is False. Not drawing grid ids\n",
      "yt : [WARNING  ] 2020-07-01 12:40:17,579 Supplied id_loc but draw_ids is False. Not drawing grid ids\n",
      "yt : [WARNING  ] 2020-07-01 12:40:17,580 Supplied id_loc but draw_ids is False. Not drawing grid ids\n",
      "yt : [WARNING  ] 2020-07-01 12:40:17,582 Supplied id_loc but draw_ids is False. Not drawing grid ids\n",
      "yt : [INFO     ] 2020-07-01 12:40:17,583 Saving plot img00225.png\n"
     ]
    },
    {
     "name": "stdout",
     "output_type": "stream",
     "text": [
      "plt0000225\n",
      "img00225.png\n"
     ]
    },
    {
     "name": "stderr",
     "output_type": "stream",
     "text": [
      "yt : [INFO     ] 2020-07-01 12:40:17,797 Parameters: current_time              = 44.140625\n",
      "yt : [INFO     ] 2020-07-01 12:40:17,797 Parameters: domain_dimensions         = [256 256   1]\n",
      "yt : [INFO     ] 2020-07-01 12:40:17,798 Parameters: domain_left_edge          = [-50. -50.   0.]\n",
      "yt : [INFO     ] 2020-07-01 12:40:17,798 Parameters: domain_right_edge         = [ 50.  50.   1.]\n",
      "yt : [INFO     ] 2020-07-01 12:40:17,897 xlim = -50.000000 50.000000\n",
      "yt : [INFO     ] 2020-07-01 12:40:17,898 ylim = -50.000000 50.000000\n",
      "yt : [INFO     ] 2020-07-01 12:40:17,899 xlim = -50.000000 50.000000\n",
      "yt : [INFO     ] 2020-07-01 12:40:17,899 ylim = -50.000000 50.000000\n",
      "yt : [INFO     ] 2020-07-01 12:40:17,900 Making a fixed resolution buffer of (('boxlib', 'Psi')) 800 by 800\n",
      "yt : [WARNING  ] 2020-07-01 12:40:17,934 Plot image for field ('boxlib', 'Psi') has both positive and negative values. Min = -0.021960, Max = 0.021822.\n",
      "yt : [WARNING  ] 2020-07-01 12:40:17,935 Switching to symlog colorbar scaling unless linear scaling is specified later\n",
      "yt : [INFO     ] 2020-07-01 12:40:18,022 Making a fixed resolution buffer of (('boxlib', 'Psi')) 800 by 800\n",
      "yt : [WARNING  ] 2020-07-01 12:40:18,110 Supplied id_loc but draw_ids is False. Not drawing grid ids\n",
      "yt : [WARNING  ] 2020-07-01 12:40:18,112 Supplied id_loc but draw_ids is False. Not drawing grid ids\n",
      "yt : [WARNING  ] 2020-07-01 12:40:18,113 Supplied id_loc but draw_ids is False. Not drawing grid ids\n",
      "yt : [WARNING  ] 2020-07-01 12:40:18,115 Supplied id_loc but draw_ids is False. Not drawing grid ids\n",
      "yt : [WARNING  ] 2020-07-01 12:40:18,117 Supplied id_loc but draw_ids is False. Not drawing grid ids\n",
      "yt : [WARNING  ] 2020-07-01 12:40:18,119 Supplied id_loc but draw_ids is False. Not drawing grid ids\n",
      "yt : [WARNING  ] 2020-07-01 12:40:18,121 Supplied id_loc but draw_ids is False. Not drawing grid ids\n",
      "yt : [WARNING  ] 2020-07-01 12:40:18,123 Supplied id_loc but draw_ids is False. Not drawing grid ids\n",
      "yt : [WARNING  ] 2020-07-01 12:40:18,124 Supplied id_loc but draw_ids is False. Not drawing grid ids\n",
      "yt : [INFO     ] 2020-07-01 12:40:18,125 Saving plot img00226.png\n"
     ]
    },
    {
     "name": "stdout",
     "output_type": "stream",
     "text": [
      "plt0000226\n",
      "img00226.png\n"
     ]
    },
    {
     "name": "stderr",
     "output_type": "stream",
     "text": [
      "yt : [INFO     ] 2020-07-01 12:40:18,448 Parameters: current_time              = 44.3359375\n",
      "yt : [INFO     ] 2020-07-01 12:40:18,449 Parameters: domain_dimensions         = [256 256   1]\n",
      "yt : [INFO     ] 2020-07-01 12:40:18,449 Parameters: domain_left_edge          = [-50. -50.   0.]\n",
      "yt : [INFO     ] 2020-07-01 12:40:18,450 Parameters: domain_right_edge         = [ 50.  50.   1.]\n",
      "yt : [INFO     ] 2020-07-01 12:40:18,550 xlim = -50.000000 50.000000\n",
      "yt : [INFO     ] 2020-07-01 12:40:18,551 ylim = -50.000000 50.000000\n",
      "yt : [INFO     ] 2020-07-01 12:40:18,552 xlim = -50.000000 50.000000\n",
      "yt : [INFO     ] 2020-07-01 12:40:18,552 ylim = -50.000000 50.000000\n",
      "yt : [INFO     ] 2020-07-01 12:40:18,553 Making a fixed resolution buffer of (('boxlib', 'Psi')) 800 by 800\n",
      "yt : [WARNING  ] 2020-07-01 12:40:18,589 Plot image for field ('boxlib', 'Psi') has both positive and negative values. Min = -0.021590, Max = 0.021729.\n",
      "yt : [WARNING  ] 2020-07-01 12:40:18,589 Switching to symlog colorbar scaling unless linear scaling is specified later\n",
      "yt : [INFO     ] 2020-07-01 12:40:18,675 Making a fixed resolution buffer of (('boxlib', 'Psi')) 800 by 800\n",
      "yt : [WARNING  ] 2020-07-01 12:40:18,760 Supplied id_loc but draw_ids is False. Not drawing grid ids\n",
      "yt : [WARNING  ] 2020-07-01 12:40:18,761 Supplied id_loc but draw_ids is False. Not drawing grid ids\n",
      "yt : [WARNING  ] 2020-07-01 12:40:18,763 Supplied id_loc but draw_ids is False. Not drawing grid ids\n",
      "yt : [WARNING  ] 2020-07-01 12:40:18,765 Supplied id_loc but draw_ids is False. Not drawing grid ids\n",
      "yt : [WARNING  ] 2020-07-01 12:40:18,767 Supplied id_loc but draw_ids is False. Not drawing grid ids\n",
      "yt : [WARNING  ] 2020-07-01 12:40:18,769 Supplied id_loc but draw_ids is False. Not drawing grid ids\n",
      "yt : [WARNING  ] 2020-07-01 12:40:18,771 Supplied id_loc but draw_ids is False. Not drawing grid ids\n",
      "yt : [WARNING  ] 2020-07-01 12:40:18,772 Supplied id_loc but draw_ids is False. Not drawing grid ids\n",
      "yt : [WARNING  ] 2020-07-01 12:40:18,774 Supplied id_loc but draw_ids is False. Not drawing grid ids\n",
      "yt : [INFO     ] 2020-07-01 12:40:18,775 Saving plot img00227.png\n"
     ]
    },
    {
     "name": "stdout",
     "output_type": "stream",
     "text": [
      "plt0000227\n",
      "img00227.png\n"
     ]
    },
    {
     "name": "stderr",
     "output_type": "stream",
     "text": [
      "yt : [INFO     ] 2020-07-01 12:40:18,991 Parameters: current_time              = 44.53125\n",
      "yt : [INFO     ] 2020-07-01 12:40:18,991 Parameters: domain_dimensions         = [256 256   1]\n",
      "yt : [INFO     ] 2020-07-01 12:40:18,992 Parameters: domain_left_edge          = [-50. -50.   0.]\n",
      "yt : [INFO     ] 2020-07-01 12:40:18,993 Parameters: domain_right_edge         = [ 50.  50.   1.]\n",
      "yt : [INFO     ] 2020-07-01 12:40:19,091 xlim = -50.000000 50.000000\n",
      "yt : [INFO     ] 2020-07-01 12:40:19,092 ylim = -50.000000 50.000000\n",
      "yt : [INFO     ] 2020-07-01 12:40:19,093 xlim = -50.000000 50.000000\n",
      "yt : [INFO     ] 2020-07-01 12:40:19,093 ylim = -50.000000 50.000000\n",
      "yt : [INFO     ] 2020-07-01 12:40:19,094 Making a fixed resolution buffer of (('boxlib', 'Psi')) 800 by 800\n",
      "yt : [WARNING  ] 2020-07-01 12:40:19,129 Plot image for field ('boxlib', 'Psi') has both positive and negative values. Min = -0.021500, Max = 0.021671.\n",
      "yt : [WARNING  ] 2020-07-01 12:40:19,129 Switching to symlog colorbar scaling unless linear scaling is specified later\n",
      "yt : [INFO     ] 2020-07-01 12:40:19,214 Making a fixed resolution buffer of (('boxlib', 'Psi')) 800 by 800\n",
      "yt : [WARNING  ] 2020-07-01 12:40:19,298 Supplied id_loc but draw_ids is False. Not drawing grid ids\n",
      "yt : [WARNING  ] 2020-07-01 12:40:19,299 Supplied id_loc but draw_ids is False. Not drawing grid ids\n",
      "yt : [WARNING  ] 2020-07-01 12:40:19,301 Supplied id_loc but draw_ids is False. Not drawing grid ids\n",
      "yt : [WARNING  ] 2020-07-01 12:40:19,303 Supplied id_loc but draw_ids is False. Not drawing grid ids\n",
      "yt : [WARNING  ] 2020-07-01 12:40:19,304 Supplied id_loc but draw_ids is False. Not drawing grid ids\n",
      "yt : [WARNING  ] 2020-07-01 12:40:19,306 Supplied id_loc but draw_ids is False. Not drawing grid ids\n",
      "yt : [WARNING  ] 2020-07-01 12:40:19,308 Supplied id_loc but draw_ids is False. Not drawing grid ids\n",
      "yt : [WARNING  ] 2020-07-01 12:40:19,309 Supplied id_loc but draw_ids is False. Not drawing grid ids\n",
      "yt : [WARNING  ] 2020-07-01 12:40:19,311 Supplied id_loc but draw_ids is False. Not drawing grid ids\n",
      "yt : [INFO     ] 2020-07-01 12:40:19,312 Saving plot img00228.png\n"
     ]
    },
    {
     "name": "stdout",
     "output_type": "stream",
     "text": [
      "plt0000228\n",
      "img00228.png\n"
     ]
    },
    {
     "name": "stderr",
     "output_type": "stream",
     "text": [
      "yt : [INFO     ] 2020-07-01 12:40:19,528 Parameters: current_time              = 44.7265625\n",
      "yt : [INFO     ] 2020-07-01 12:40:19,528 Parameters: domain_dimensions         = [256 256   1]\n",
      "yt : [INFO     ] 2020-07-01 12:40:19,529 Parameters: domain_left_edge          = [-50. -50.   0.]\n",
      "yt : [INFO     ] 2020-07-01 12:40:19,529 Parameters: domain_right_edge         = [ 50.  50.   1.]\n",
      "yt : [INFO     ] 2020-07-01 12:40:19,628 xlim = -50.000000 50.000000\n",
      "yt : [INFO     ] 2020-07-01 12:40:19,628 ylim = -50.000000 50.000000\n",
      "yt : [INFO     ] 2020-07-01 12:40:19,629 xlim = -50.000000 50.000000\n",
      "yt : [INFO     ] 2020-07-01 12:40:19,630 ylim = -50.000000 50.000000\n",
      "yt : [INFO     ] 2020-07-01 12:40:19,630 Making a fixed resolution buffer of (('boxlib', 'Psi')) 800 by 800\n",
      "yt : [WARNING  ] 2020-07-01 12:40:19,665 Plot image for field ('boxlib', 'Psi') has both positive and negative values. Min = -0.021290, Max = 0.021617.\n",
      "yt : [WARNING  ] 2020-07-01 12:40:19,666 Switching to symlog colorbar scaling unless linear scaling is specified later\n",
      "yt : [INFO     ] 2020-07-01 12:40:19,870 Making a fixed resolution buffer of (('boxlib', 'Psi')) 800 by 800\n",
      "yt : [WARNING  ] 2020-07-01 12:40:19,958 Supplied id_loc but draw_ids is False. Not drawing grid ids\n",
      "yt : [WARNING  ] 2020-07-01 12:40:19,960 Supplied id_loc but draw_ids is False. Not drawing grid ids\n",
      "yt : [WARNING  ] 2020-07-01 12:40:19,962 Supplied id_loc but draw_ids is False. Not drawing grid ids\n",
      "yt : [WARNING  ] 2020-07-01 12:40:19,963 Supplied id_loc but draw_ids is False. Not drawing grid ids\n",
      "yt : [WARNING  ] 2020-07-01 12:40:19,965 Supplied id_loc but draw_ids is False. Not drawing grid ids\n",
      "yt : [WARNING  ] 2020-07-01 12:40:19,967 Supplied id_loc but draw_ids is False. Not drawing grid ids\n",
      "yt : [WARNING  ] 2020-07-01 12:40:19,968 Supplied id_loc but draw_ids is False. Not drawing grid ids\n",
      "yt : [WARNING  ] 2020-07-01 12:40:19,970 Supplied id_loc but draw_ids is False. Not drawing grid ids\n",
      "yt : [WARNING  ] 2020-07-01 12:40:19,972 Supplied id_loc but draw_ids is False. Not drawing grid ids\n",
      "yt : [INFO     ] 2020-07-01 12:40:19,972 Saving plot img00229.png\n"
     ]
    },
    {
     "name": "stdout",
     "output_type": "stream",
     "text": [
      "plt0000229\n",
      "img00229.png\n"
     ]
    },
    {
     "name": "stderr",
     "output_type": "stream",
     "text": [
      "yt : [INFO     ] 2020-07-01 12:40:20,189 Parameters: current_time              = 44.921875\n",
      "yt : [INFO     ] 2020-07-01 12:40:20,189 Parameters: domain_dimensions         = [256 256   1]\n",
      "yt : [INFO     ] 2020-07-01 12:40:20,190 Parameters: domain_left_edge          = [-50. -50.   0.]\n",
      "yt : [INFO     ] 2020-07-01 12:40:20,190 Parameters: domain_right_edge         = [ 50.  50.   1.]\n",
      "yt : [INFO     ] 2020-07-01 12:40:20,291 xlim = -50.000000 50.000000\n",
      "yt : [INFO     ] 2020-07-01 12:40:20,292 ylim = -50.000000 50.000000\n",
      "yt : [INFO     ] 2020-07-01 12:40:20,293 xlim = -50.000000 50.000000\n",
      "yt : [INFO     ] 2020-07-01 12:40:20,293 ylim = -50.000000 50.000000\n",
      "yt : [INFO     ] 2020-07-01 12:40:20,294 Making a fixed resolution buffer of (('boxlib', 'Psi')) 800 by 800\n",
      "yt : [WARNING  ] 2020-07-01 12:40:20,329 Plot image for field ('boxlib', 'Psi') has both positive and negative values. Min = -0.021316, Max = 0.021505.\n",
      "yt : [WARNING  ] 2020-07-01 12:40:20,330 Switching to symlog colorbar scaling unless linear scaling is specified later\n",
      "yt : [INFO     ] 2020-07-01 12:40:20,416 Making a fixed resolution buffer of (('boxlib', 'Psi')) 800 by 800\n",
      "yt : [WARNING  ] 2020-07-01 12:40:20,499 Supplied id_loc but draw_ids is False. Not drawing grid ids\n",
      "yt : [WARNING  ] 2020-07-01 12:40:20,501 Supplied id_loc but draw_ids is False. Not drawing grid ids\n",
      "yt : [WARNING  ] 2020-07-01 12:40:20,502 Supplied id_loc but draw_ids is False. Not drawing grid ids\n",
      "yt : [WARNING  ] 2020-07-01 12:40:20,504 Supplied id_loc but draw_ids is False. Not drawing grid ids\n",
      "yt : [WARNING  ] 2020-07-01 12:40:20,506 Supplied id_loc but draw_ids is False. Not drawing grid ids\n",
      "yt : [WARNING  ] 2020-07-01 12:40:20,507 Supplied id_loc but draw_ids is False. Not drawing grid ids\n",
      "yt : [WARNING  ] 2020-07-01 12:40:20,509 Supplied id_loc but draw_ids is False. Not drawing grid ids\n",
      "yt : [WARNING  ] 2020-07-01 12:40:20,511 Supplied id_loc but draw_ids is False. Not drawing grid ids\n",
      "yt : [WARNING  ] 2020-07-01 12:40:20,512 Supplied id_loc but draw_ids is False. Not drawing grid ids\n",
      "yt : [INFO     ] 2020-07-01 12:40:20,513 Saving plot img00230.png\n"
     ]
    },
    {
     "name": "stdout",
     "output_type": "stream",
     "text": [
      "plt0000230\n",
      "img00230.png\n"
     ]
    },
    {
     "name": "stderr",
     "output_type": "stream",
     "text": [
      "yt : [INFO     ] 2020-07-01 12:40:20,730 Parameters: current_time              = 45.1171875\n",
      "yt : [INFO     ] 2020-07-01 12:40:20,730 Parameters: domain_dimensions         = [256 256   1]\n",
      "yt : [INFO     ] 2020-07-01 12:40:20,731 Parameters: domain_left_edge          = [-50. -50.   0.]\n",
      "yt : [INFO     ] 2020-07-01 12:40:20,731 Parameters: domain_right_edge         = [ 50.  50.   1.]\n",
      "yt : [INFO     ] 2020-07-01 12:40:20,829 xlim = -50.000000 50.000000\n",
      "yt : [INFO     ] 2020-07-01 12:40:20,830 ylim = -50.000000 50.000000\n",
      "yt : [INFO     ] 2020-07-01 12:40:20,831 xlim = -50.000000 50.000000\n",
      "yt : [INFO     ] 2020-07-01 12:40:20,831 ylim = -50.000000 50.000000\n",
      "yt : [INFO     ] 2020-07-01 12:40:20,832 Making a fixed resolution buffer of (('boxlib', 'Psi')) 800 by 800\n",
      "yt : [WARNING  ] 2020-07-01 12:40:20,867 Plot image for field ('boxlib', 'Psi') has both positive and negative values. Min = -0.020980, Max = 0.021444.\n",
      "yt : [WARNING  ] 2020-07-01 12:40:20,867 Switching to symlog colorbar scaling unless linear scaling is specified later\n",
      "yt : [INFO     ] 2020-07-01 12:40:20,954 Making a fixed resolution buffer of (('boxlib', 'Psi')) 800 by 800\n",
      "yt : [WARNING  ] 2020-07-01 12:40:21,039 Supplied id_loc but draw_ids is False. Not drawing grid ids\n",
      "yt : [WARNING  ] 2020-07-01 12:40:21,041 Supplied id_loc but draw_ids is False. Not drawing grid ids\n",
      "yt : [WARNING  ] 2020-07-01 12:40:21,043 Supplied id_loc but draw_ids is False. Not drawing grid ids\n",
      "yt : [WARNING  ] 2020-07-01 12:40:21,044 Supplied id_loc but draw_ids is False. Not drawing grid ids\n",
      "yt : [WARNING  ] 2020-07-01 12:40:21,046 Supplied id_loc but draw_ids is False. Not drawing grid ids\n",
      "yt : [WARNING  ] 2020-07-01 12:40:21,048 Supplied id_loc but draw_ids is False. Not drawing grid ids\n",
      "yt : [WARNING  ] 2020-07-01 12:40:21,050 Supplied id_loc but draw_ids is False. Not drawing grid ids\n",
      "yt : [WARNING  ] 2020-07-01 12:40:21,051 Supplied id_loc but draw_ids is False. Not drawing grid ids\n",
      "yt : [WARNING  ] 2020-07-01 12:40:21,053 Supplied id_loc but draw_ids is False. Not drawing grid ids\n",
      "yt : [INFO     ] 2020-07-01 12:40:21,053 Saving plot img00231.png\n"
     ]
    },
    {
     "name": "stdout",
     "output_type": "stream",
     "text": [
      "plt0000231\n",
      "img00231.png\n"
     ]
    },
    {
     "name": "stderr",
     "output_type": "stream",
     "text": [
      "yt : [INFO     ] 2020-07-01 12:40:21,274 Parameters: current_time              = 45.3125\n",
      "yt : [INFO     ] 2020-07-01 12:40:21,274 Parameters: domain_dimensions         = [256 256   1]\n",
      "yt : [INFO     ] 2020-07-01 12:40:21,275 Parameters: domain_left_edge          = [-50. -50.   0.]\n",
      "yt : [INFO     ] 2020-07-01 12:40:21,275 Parameters: domain_right_edge         = [ 50.  50.   1.]\n",
      "yt : [INFO     ] 2020-07-01 12:40:21,374 xlim = -50.000000 50.000000\n",
      "yt : [INFO     ] 2020-07-01 12:40:21,375 ylim = -50.000000 50.000000\n",
      "yt : [INFO     ] 2020-07-01 12:40:21,376 xlim = -50.000000 50.000000\n",
      "yt : [INFO     ] 2020-07-01 12:40:21,376 ylim = -50.000000 50.000000\n",
      "yt : [INFO     ] 2020-07-01 12:40:21,377 Making a fixed resolution buffer of (('boxlib', 'Psi')) 800 by 800\n",
      "yt : [WARNING  ] 2020-07-01 12:40:21,416 Plot image for field ('boxlib', 'Psi') has both positive and negative values. Min = -0.021150, Max = 0.021363.\n",
      "yt : [WARNING  ] 2020-07-01 12:40:21,416 Switching to symlog colorbar scaling unless linear scaling is specified later\n",
      "yt : [INFO     ] 2020-07-01 12:40:21,631 Making a fixed resolution buffer of (('boxlib', 'Psi')) 800 by 800\n",
      "yt : [WARNING  ] 2020-07-01 12:40:21,717 Supplied id_loc but draw_ids is False. Not drawing grid ids\n",
      "yt : [WARNING  ] 2020-07-01 12:40:21,719 Supplied id_loc but draw_ids is False. Not drawing grid ids\n",
      "yt : [WARNING  ] 2020-07-01 12:40:21,720 Supplied id_loc but draw_ids is False. Not drawing grid ids\n",
      "yt : [WARNING  ] 2020-07-01 12:40:21,722 Supplied id_loc but draw_ids is False. Not drawing grid ids\n",
      "yt : [WARNING  ] 2020-07-01 12:40:21,724 Supplied id_loc but draw_ids is False. Not drawing grid ids\n",
      "yt : [WARNING  ] 2020-07-01 12:40:21,725 Supplied id_loc but draw_ids is False. Not drawing grid ids\n",
      "yt : [WARNING  ] 2020-07-01 12:40:21,727 Supplied id_loc but draw_ids is False. Not drawing grid ids\n",
      "yt : [WARNING  ] 2020-07-01 12:40:21,728 Supplied id_loc but draw_ids is False. Not drawing grid ids\n",
      "yt : [WARNING  ] 2020-07-01 12:40:21,730 Supplied id_loc but draw_ids is False. Not drawing grid ids\n",
      "yt : [INFO     ] 2020-07-01 12:40:21,730 Saving plot img00232.png\n"
     ]
    },
    {
     "name": "stdout",
     "output_type": "stream",
     "text": [
      "plt0000232\n",
      "img00232.png\n"
     ]
    },
    {
     "name": "stderr",
     "output_type": "stream",
     "text": [
      "yt : [INFO     ] 2020-07-01 12:40:21,947 Parameters: current_time              = 45.5078125\n",
      "yt : [INFO     ] 2020-07-01 12:40:21,947 Parameters: domain_dimensions         = [256 256   1]\n",
      "yt : [INFO     ] 2020-07-01 12:40:21,948 Parameters: domain_left_edge          = [-50. -50.   0.]\n",
      "yt : [INFO     ] 2020-07-01 12:40:21,948 Parameters: domain_right_edge         = [ 50.  50.   1.]\n",
      "yt : [INFO     ] 2020-07-01 12:40:22,050 xlim = -50.000000 50.000000\n",
      "yt : [INFO     ] 2020-07-01 12:40:22,050 ylim = -50.000000 50.000000\n",
      "yt : [INFO     ] 2020-07-01 12:40:22,051 xlim = -50.000000 50.000000\n",
      "yt : [INFO     ] 2020-07-01 12:40:22,052 ylim = -50.000000 50.000000\n",
      "yt : [INFO     ] 2020-07-01 12:40:22,052 Making a fixed resolution buffer of (('boxlib', 'Psi')) 800 by 800\n",
      "yt : [WARNING  ] 2020-07-01 12:40:22,087 Plot image for field ('boxlib', 'Psi') has both positive and negative values. Min = -0.021163, Max = 0.021228.\n",
      "yt : [WARNING  ] 2020-07-01 12:40:22,088 Switching to symlog colorbar scaling unless linear scaling is specified later\n",
      "yt : [INFO     ] 2020-07-01 12:40:22,175 Making a fixed resolution buffer of (('boxlib', 'Psi')) 800 by 800\n",
      "yt : [WARNING  ] 2020-07-01 12:40:22,259 Supplied id_loc but draw_ids is False. Not drawing grid ids\n",
      "yt : [WARNING  ] 2020-07-01 12:40:22,261 Supplied id_loc but draw_ids is False. Not drawing grid ids\n",
      "yt : [WARNING  ] 2020-07-01 12:40:22,262 Supplied id_loc but draw_ids is False. Not drawing grid ids\n",
      "yt : [WARNING  ] 2020-07-01 12:40:22,264 Supplied id_loc but draw_ids is False. Not drawing grid ids\n",
      "yt : [WARNING  ] 2020-07-01 12:40:22,266 Supplied id_loc but draw_ids is False. Not drawing grid ids\n",
      "yt : [WARNING  ] 2020-07-01 12:40:22,267 Supplied id_loc but draw_ids is False. Not drawing grid ids\n",
      "yt : [WARNING  ] 2020-07-01 12:40:22,269 Supplied id_loc but draw_ids is False. Not drawing grid ids\n",
      "yt : [WARNING  ] 2020-07-01 12:40:22,271 Supplied id_loc but draw_ids is False. Not drawing grid ids\n",
      "yt : [WARNING  ] 2020-07-01 12:40:22,272 Supplied id_loc but draw_ids is False. Not drawing grid ids\n",
      "yt : [INFO     ] 2020-07-01 12:40:22,273 Saving plot img00233.png\n"
     ]
    },
    {
     "name": "stdout",
     "output_type": "stream",
     "text": [
      "plt0000233\n",
      "img00233.png\n"
     ]
    },
    {
     "name": "stderr",
     "output_type": "stream",
     "text": [
      "yt : [INFO     ] 2020-07-01 12:40:22,489 Parameters: current_time              = 45.703125\n",
      "yt : [INFO     ] 2020-07-01 12:40:22,490 Parameters: domain_dimensions         = [256 256   1]\n",
      "yt : [INFO     ] 2020-07-01 12:40:22,490 Parameters: domain_left_edge          = [-50. -50.   0.]\n",
      "yt : [INFO     ] 2020-07-01 12:40:22,491 Parameters: domain_right_edge         = [ 50.  50.   1.]\n",
      "yt : [INFO     ] 2020-07-01 12:40:22,590 xlim = -50.000000 50.000000\n",
      "yt : [INFO     ] 2020-07-01 12:40:22,590 ylim = -50.000000 50.000000\n",
      "yt : [INFO     ] 2020-07-01 12:40:22,591 xlim = -50.000000 50.000000\n",
      "yt : [INFO     ] 2020-07-01 12:40:22,592 ylim = -50.000000 50.000000\n",
      "yt : [INFO     ] 2020-07-01 12:40:22,592 Making a fixed resolution buffer of (('boxlib', 'Psi')) 800 by 800\n",
      "yt : [WARNING  ] 2020-07-01 12:40:22,627 Plot image for field ('boxlib', 'Psi') has both positive and negative values. Min = -0.020834, Max = 0.021132.\n",
      "yt : [WARNING  ] 2020-07-01 12:40:22,628 Switching to symlog colorbar scaling unless linear scaling is specified later\n",
      "yt : [INFO     ] 2020-07-01 12:40:22,715 Making a fixed resolution buffer of (('boxlib', 'Psi')) 800 by 800\n",
      "yt : [WARNING  ] 2020-07-01 12:40:22,799 Supplied id_loc but draw_ids is False. Not drawing grid ids\n",
      "yt : [WARNING  ] 2020-07-01 12:40:22,800 Supplied id_loc but draw_ids is False. Not drawing grid ids\n",
      "yt : [WARNING  ] 2020-07-01 12:40:22,802 Supplied id_loc but draw_ids is False. Not drawing grid ids\n",
      "yt : [WARNING  ] 2020-07-01 12:40:22,804 Supplied id_loc but draw_ids is False. Not drawing grid ids\n",
      "yt : [WARNING  ] 2020-07-01 12:40:22,805 Supplied id_loc but draw_ids is False. Not drawing grid ids\n",
      "yt : [WARNING  ] 2020-07-01 12:40:22,807 Supplied id_loc but draw_ids is False. Not drawing grid ids\n",
      "yt : [WARNING  ] 2020-07-01 12:40:22,809 Supplied id_loc but draw_ids is False. Not drawing grid ids\n",
      "yt : [WARNING  ] 2020-07-01 12:40:22,810 Supplied id_loc but draw_ids is False. Not drawing grid ids\n",
      "yt : [WARNING  ] 2020-07-01 12:40:22,812 Supplied id_loc but draw_ids is False. Not drawing grid ids\n",
      "yt : [INFO     ] 2020-07-01 12:40:22,812 Saving plot img00234.png\n"
     ]
    },
    {
     "name": "stdout",
     "output_type": "stream",
     "text": [
      "plt0000234\n",
      "img00234.png\n"
     ]
    },
    {
     "name": "stderr",
     "output_type": "stream",
     "text": [
      "yt : [INFO     ] 2020-07-01 12:40:23,028 Parameters: current_time              = 45.8984375\n",
      "yt : [INFO     ] 2020-07-01 12:40:23,028 Parameters: domain_dimensions         = [256 256   1]\n",
      "yt : [INFO     ] 2020-07-01 12:40:23,029 Parameters: domain_left_edge          = [-50. -50.   0.]\n",
      "yt : [INFO     ] 2020-07-01 12:40:23,029 Parameters: domain_right_edge         = [ 50.  50.   1.]\n",
      "yt : [INFO     ] 2020-07-01 12:40:23,260 xlim = -50.000000 50.000000\n",
      "yt : [INFO     ] 2020-07-01 12:40:23,260 ylim = -50.000000 50.000000\n",
      "yt : [INFO     ] 2020-07-01 12:40:23,262 xlim = -50.000000 50.000000\n",
      "yt : [INFO     ] 2020-07-01 12:40:23,262 ylim = -50.000000 50.000000\n",
      "yt : [INFO     ] 2020-07-01 12:40:23,263 Making a fixed resolution buffer of (('boxlib', 'Psi')) 800 by 800\n",
      "yt : [WARNING  ] 2020-07-01 12:40:23,299 Plot image for field ('boxlib', 'Psi') has both positive and negative values. Min = -0.020658, Max = 0.021055.\n",
      "yt : [WARNING  ] 2020-07-01 12:40:23,300 Switching to symlog colorbar scaling unless linear scaling is specified later\n",
      "yt : [INFO     ] 2020-07-01 12:40:23,388 Making a fixed resolution buffer of (('boxlib', 'Psi')) 800 by 800\n",
      "yt : [WARNING  ] 2020-07-01 12:40:23,473 Supplied id_loc but draw_ids is False. Not drawing grid ids\n",
      "yt : [WARNING  ] 2020-07-01 12:40:23,475 Supplied id_loc but draw_ids is False. Not drawing grid ids\n",
      "yt : [WARNING  ] 2020-07-01 12:40:23,477 Supplied id_loc but draw_ids is False. Not drawing grid ids\n",
      "yt : [WARNING  ] 2020-07-01 12:40:23,478 Supplied id_loc but draw_ids is False. Not drawing grid ids\n",
      "yt : [WARNING  ] 2020-07-01 12:40:23,480 Supplied id_loc but draw_ids is False. Not drawing grid ids\n",
      "yt : [WARNING  ] 2020-07-01 12:40:23,482 Supplied id_loc but draw_ids is False. Not drawing grid ids\n",
      "yt : [WARNING  ] 2020-07-01 12:40:23,483 Supplied id_loc but draw_ids is False. Not drawing grid ids\n",
      "yt : [WARNING  ] 2020-07-01 12:40:23,485 Supplied id_loc but draw_ids is False. Not drawing grid ids\n",
      "yt : [WARNING  ] 2020-07-01 12:40:23,487 Supplied id_loc but draw_ids is False. Not drawing grid ids\n",
      "yt : [INFO     ] 2020-07-01 12:40:23,488 Saving plot img00235.png\n"
     ]
    },
    {
     "name": "stdout",
     "output_type": "stream",
     "text": [
      "plt0000235\n",
      "img00235.png\n"
     ]
    },
    {
     "name": "stderr",
     "output_type": "stream",
     "text": [
      "yt : [INFO     ] 2020-07-01 12:40:23,703 Parameters: current_time              = 46.09375\n",
      "yt : [INFO     ] 2020-07-01 12:40:23,704 Parameters: domain_dimensions         = [256 256   1]\n",
      "yt : [INFO     ] 2020-07-01 12:40:23,704 Parameters: domain_left_edge          = [-50. -50.   0.]\n",
      "yt : [INFO     ] 2020-07-01 12:40:23,705 Parameters: domain_right_edge         = [ 50.  50.   1.]\n",
      "yt : [INFO     ] 2020-07-01 12:40:23,806 xlim = -50.000000 50.000000\n",
      "yt : [INFO     ] 2020-07-01 12:40:23,807 ylim = -50.000000 50.000000\n",
      "yt : [INFO     ] 2020-07-01 12:40:23,808 xlim = -50.000000 50.000000\n",
      "yt : [INFO     ] 2020-07-01 12:40:23,809 ylim = -50.000000 50.000000\n",
      "yt : [INFO     ] 2020-07-01 12:40:23,809 Making a fixed resolution buffer of (('boxlib', 'Psi')) 800 by 800\n",
      "yt : [WARNING  ] 2020-07-01 12:40:23,844 Plot image for field ('boxlib', 'Psi') has both positive and negative values. Min = -0.020736, Max = 0.020971.\n",
      "yt : [WARNING  ] 2020-07-01 12:40:23,845 Switching to symlog colorbar scaling unless linear scaling is specified later\n",
      "yt : [INFO     ] 2020-07-01 12:40:23,931 Making a fixed resolution buffer of (('boxlib', 'Psi')) 800 by 800\n",
      "yt : [WARNING  ] 2020-07-01 12:40:24,015 Supplied id_loc but draw_ids is False. Not drawing grid ids\n",
      "yt : [WARNING  ] 2020-07-01 12:40:24,017 Supplied id_loc but draw_ids is False. Not drawing grid ids\n",
      "yt : [WARNING  ] 2020-07-01 12:40:24,019 Supplied id_loc but draw_ids is False. Not drawing grid ids\n",
      "yt : [WARNING  ] 2020-07-01 12:40:24,020 Supplied id_loc but draw_ids is False. Not drawing grid ids\n",
      "yt : [WARNING  ] 2020-07-01 12:40:24,022 Supplied id_loc but draw_ids is False. Not drawing grid ids\n",
      "yt : [WARNING  ] 2020-07-01 12:40:24,024 Supplied id_loc but draw_ids is False. Not drawing grid ids\n",
      "yt : [WARNING  ] 2020-07-01 12:40:24,025 Supplied id_loc but draw_ids is False. Not drawing grid ids\n",
      "yt : [WARNING  ] 2020-07-01 12:40:24,027 Supplied id_loc but draw_ids is False. Not drawing grid ids\n",
      "yt : [WARNING  ] 2020-07-01 12:40:24,029 Supplied id_loc but draw_ids is False. Not drawing grid ids\n",
      "yt : [INFO     ] 2020-07-01 12:40:24,029 Saving plot img00236.png\n"
     ]
    },
    {
     "name": "stdout",
     "output_type": "stream",
     "text": [
      "plt0000236\n",
      "img00236.png\n"
     ]
    },
    {
     "name": "stderr",
     "output_type": "stream",
     "text": [
      "yt : [INFO     ] 2020-07-01 12:40:24,249 Parameters: current_time              = 46.2890625\n",
      "yt : [INFO     ] 2020-07-01 12:40:24,249 Parameters: domain_dimensions         = [256 256   1]\n",
      "yt : [INFO     ] 2020-07-01 12:40:24,250 Parameters: domain_left_edge          = [-50. -50.   0.]\n",
      "yt : [INFO     ] 2020-07-01 12:40:24,251 Parameters: domain_right_edge         = [ 50.  50.   1.]\n",
      "yt : [INFO     ] 2020-07-01 12:40:24,352 xlim = -50.000000 50.000000\n",
      "yt : [INFO     ] 2020-07-01 12:40:24,352 ylim = -50.000000 50.000000\n",
      "yt : [INFO     ] 2020-07-01 12:40:24,354 xlim = -50.000000 50.000000\n",
      "yt : [INFO     ] 2020-07-01 12:40:24,354 ylim = -50.000000 50.000000\n",
      "yt : [INFO     ] 2020-07-01 12:40:24,355 Making a fixed resolution buffer of (('boxlib', 'Psi')) 800 by 800\n",
      "yt : [WARNING  ] 2020-07-01 12:40:24,395 Plot image for field ('boxlib', 'Psi') has both positive and negative values. Min = -0.020307, Max = 0.020857.\n",
      "yt : [WARNING  ] 2020-07-01 12:40:24,396 Switching to symlog colorbar scaling unless linear scaling is specified later\n",
      "yt : [INFO     ] 2020-07-01 12:40:24,485 Making a fixed resolution buffer of (('boxlib', 'Psi')) 800 by 800\n",
      "yt : [WARNING  ] 2020-07-01 12:40:24,572 Supplied id_loc but draw_ids is False. Not drawing grid ids\n",
      "yt : [WARNING  ] 2020-07-01 12:40:24,574 Supplied id_loc but draw_ids is False. Not drawing grid ids\n",
      "yt : [WARNING  ] 2020-07-01 12:40:24,576 Supplied id_loc but draw_ids is False. Not drawing grid ids\n",
      "yt : [WARNING  ] 2020-07-01 12:40:24,578 Supplied id_loc but draw_ids is False. Not drawing grid ids\n",
      "yt : [WARNING  ] 2020-07-01 12:40:24,580 Supplied id_loc but draw_ids is False. Not drawing grid ids\n",
      "yt : [WARNING  ] 2020-07-01 12:40:24,582 Supplied id_loc but draw_ids is False. Not drawing grid ids\n",
      "yt : [WARNING  ] 2020-07-01 12:40:24,584 Supplied id_loc but draw_ids is False. Not drawing grid ids\n",
      "yt : [WARNING  ] 2020-07-01 12:40:24,586 Supplied id_loc but draw_ids is False. Not drawing grid ids\n",
      "yt : [WARNING  ] 2020-07-01 12:40:24,588 Supplied id_loc but draw_ids is False. Not drawing grid ids\n",
      "yt : [INFO     ] 2020-07-01 12:40:24,589 Saving plot img00237.png\n"
     ]
    },
    {
     "name": "stdout",
     "output_type": "stream",
     "text": [
      "plt0000237\n",
      "img00237.png\n"
     ]
    },
    {
     "name": "stderr",
     "output_type": "stream",
     "text": [
      "yt : [INFO     ] 2020-07-01 12:40:24,914 Parameters: current_time              = 46.484375\n",
      "yt : [INFO     ] 2020-07-01 12:40:24,915 Parameters: domain_dimensions         = [256 256   1]\n",
      "yt : [INFO     ] 2020-07-01 12:40:24,915 Parameters: domain_left_edge          = [-50. -50.   0.]\n",
      "yt : [INFO     ] 2020-07-01 12:40:24,916 Parameters: domain_right_edge         = [ 50.  50.   1.]\n",
      "yt : [INFO     ] 2020-07-01 12:40:25,018 xlim = -50.000000 50.000000\n",
      "yt : [INFO     ] 2020-07-01 12:40:25,019 ylim = -50.000000 50.000000\n",
      "yt : [INFO     ] 2020-07-01 12:40:25,020 xlim = -50.000000 50.000000\n",
      "yt : [INFO     ] 2020-07-01 12:40:25,021 ylim = -50.000000 50.000000\n",
      "yt : [INFO     ] 2020-07-01 12:40:25,022 Making a fixed resolution buffer of (('boxlib', 'Psi')) 800 by 800\n",
      "yt : [WARNING  ] 2020-07-01 12:40:25,059 Plot image for field ('boxlib', 'Psi') has both positive and negative values. Min = -0.020478, Max = 0.020758.\n",
      "yt : [WARNING  ] 2020-07-01 12:40:25,059 Switching to symlog colorbar scaling unless linear scaling is specified later\n",
      "yt : [INFO     ] 2020-07-01 12:40:25,147 Making a fixed resolution buffer of (('boxlib', 'Psi')) 800 by 800\n",
      "yt : [WARNING  ] 2020-07-01 12:40:25,233 Supplied id_loc but draw_ids is False. Not drawing grid ids\n",
      "yt : [WARNING  ] 2020-07-01 12:40:25,235 Supplied id_loc but draw_ids is False. Not drawing grid ids\n",
      "yt : [WARNING  ] 2020-07-01 12:40:25,237 Supplied id_loc but draw_ids is False. Not drawing grid ids\n",
      "yt : [WARNING  ] 2020-07-01 12:40:25,239 Supplied id_loc but draw_ids is False. Not drawing grid ids\n",
      "yt : [WARNING  ] 2020-07-01 12:40:25,241 Supplied id_loc but draw_ids is False. Not drawing grid ids\n",
      "yt : [WARNING  ] 2020-07-01 12:40:25,243 Supplied id_loc but draw_ids is False. Not drawing grid ids\n",
      "yt : [WARNING  ] 2020-07-01 12:40:25,245 Supplied id_loc but draw_ids is False. Not drawing grid ids\n",
      "yt : [WARNING  ] 2020-07-01 12:40:25,247 Supplied id_loc but draw_ids is False. Not drawing grid ids\n",
      "yt : [WARNING  ] 2020-07-01 12:40:25,250 Supplied id_loc but draw_ids is False. Not drawing grid ids\n",
      "yt : [INFO     ] 2020-07-01 12:40:25,250 Saving plot img00238.png\n"
     ]
    },
    {
     "name": "stdout",
     "output_type": "stream",
     "text": [
      "plt0000238\n",
      "img00238.png\n"
     ]
    },
    {
     "name": "stderr",
     "output_type": "stream",
     "text": [
      "yt : [INFO     ] 2020-07-01 12:40:25,467 Parameters: current_time              = 46.6796875\n",
      "yt : [INFO     ] 2020-07-01 12:40:25,467 Parameters: domain_dimensions         = [256 256   1]\n",
      "yt : [INFO     ] 2020-07-01 12:40:25,468 Parameters: domain_left_edge          = [-50. -50.   0.]\n",
      "yt : [INFO     ] 2020-07-01 12:40:25,469 Parameters: domain_right_edge         = [ 50.  50.   1.]\n",
      "yt : [INFO     ] 2020-07-01 12:40:25,569 xlim = -50.000000 50.000000\n",
      "yt : [INFO     ] 2020-07-01 12:40:25,570 ylim = -50.000000 50.000000\n",
      "yt : [INFO     ] 2020-07-01 12:40:25,571 xlim = -50.000000 50.000000\n",
      "yt : [INFO     ] 2020-07-01 12:40:25,572 ylim = -50.000000 50.000000\n",
      "yt : [INFO     ] 2020-07-01 12:40:25,573 Making a fixed resolution buffer of (('boxlib', 'Psi')) 800 by 800\n",
      "yt : [WARNING  ] 2020-07-01 12:40:25,608 Plot image for field ('boxlib', 'Psi') has both positive and negative values. Min = -0.020390, Max = 0.020688.\n",
      "yt : [WARNING  ] 2020-07-01 12:40:25,609 Switching to symlog colorbar scaling unless linear scaling is specified later\n",
      "yt : [INFO     ] 2020-07-01 12:40:25,697 Making a fixed resolution buffer of (('boxlib', 'Psi')) 800 by 800\n",
      "yt : [WARNING  ] 2020-07-01 12:40:25,781 Supplied id_loc but draw_ids is False. Not drawing grid ids\n",
      "yt : [WARNING  ] 2020-07-01 12:40:25,783 Supplied id_loc but draw_ids is False. Not drawing grid ids\n",
      "yt : [WARNING  ] 2020-07-01 12:40:25,785 Supplied id_loc but draw_ids is False. Not drawing grid ids\n",
      "yt : [WARNING  ] 2020-07-01 12:40:25,787 Supplied id_loc but draw_ids is False. Not drawing grid ids\n",
      "yt : [WARNING  ] 2020-07-01 12:40:25,789 Supplied id_loc but draw_ids is False. Not drawing grid ids\n",
      "yt : [WARNING  ] 2020-07-01 12:40:25,791 Supplied id_loc but draw_ids is False. Not drawing grid ids\n",
      "yt : [WARNING  ] 2020-07-01 12:40:25,793 Supplied id_loc but draw_ids is False. Not drawing grid ids\n",
      "yt : [WARNING  ] 2020-07-01 12:40:25,795 Supplied id_loc but draw_ids is False. Not drawing grid ids\n",
      "yt : [WARNING  ] 2020-07-01 12:40:25,797 Supplied id_loc but draw_ids is False. Not drawing grid ids\n",
      "yt : [INFO     ] 2020-07-01 12:40:25,797 Saving plot img00239.png\n"
     ]
    },
    {
     "name": "stdout",
     "output_type": "stream",
     "text": [
      "plt0000239\n",
      "img00239.png\n"
     ]
    },
    {
     "name": "stderr",
     "output_type": "stream",
     "text": [
      "yt : [INFO     ] 2020-07-01 12:40:26,014 Parameters: current_time              = 46.875\n",
      "yt : [INFO     ] 2020-07-01 12:40:26,015 Parameters: domain_dimensions         = [256 256   1]\n",
      "yt : [INFO     ] 2020-07-01 12:40:26,015 Parameters: domain_left_edge          = [-50. -50.   0.]\n",
      "yt : [INFO     ] 2020-07-01 12:40:26,016 Parameters: domain_right_edge         = [ 50.  50.   1.]\n",
      "yt : [INFO     ] 2020-07-01 12:40:26,117 xlim = -50.000000 50.000000\n",
      "yt : [INFO     ] 2020-07-01 12:40:26,118 ylim = -50.000000 50.000000\n",
      "yt : [INFO     ] 2020-07-01 12:40:26,119 xlim = -50.000000 50.000000\n",
      "yt : [INFO     ] 2020-07-01 12:40:26,120 ylim = -50.000000 50.000000\n",
      "yt : [INFO     ] 2020-07-01 12:40:26,121 Making a fixed resolution buffer of (('boxlib', 'Psi')) 800 by 800\n",
      "yt : [WARNING  ] 2020-07-01 12:40:26,156 Plot image for field ('boxlib', 'Psi') has both positive and negative values. Min = -0.020397, Max = 0.020759.\n",
      "yt : [WARNING  ] 2020-07-01 12:40:26,157 Switching to symlog colorbar scaling unless linear scaling is specified later\n",
      "yt : [INFO     ] 2020-07-01 12:40:26,364 Making a fixed resolution buffer of (('boxlib', 'Psi')) 800 by 800\n",
      "yt : [WARNING  ] 2020-07-01 12:40:26,453 Supplied id_loc but draw_ids is False. Not drawing grid ids\n",
      "yt : [WARNING  ] 2020-07-01 12:40:26,455 Supplied id_loc but draw_ids is False. Not drawing grid ids\n",
      "yt : [WARNING  ] 2020-07-01 12:40:26,457 Supplied id_loc but draw_ids is False. Not drawing grid ids\n",
      "yt : [WARNING  ] 2020-07-01 12:40:26,459 Supplied id_loc but draw_ids is False. Not drawing grid ids\n",
      "yt : [WARNING  ] 2020-07-01 12:40:26,461 Supplied id_loc but draw_ids is False. Not drawing grid ids\n",
      "yt : [WARNING  ] 2020-07-01 12:40:26,463 Supplied id_loc but draw_ids is False. Not drawing grid ids\n",
      "yt : [WARNING  ] 2020-07-01 12:40:26,465 Supplied id_loc but draw_ids is False. Not drawing grid ids\n",
      "yt : [WARNING  ] 2020-07-01 12:40:26,467 Supplied id_loc but draw_ids is False. Not drawing grid ids\n",
      "yt : [WARNING  ] 2020-07-01 12:40:26,469 Supplied id_loc but draw_ids is False. Not drawing grid ids\n",
      "yt : [INFO     ] 2020-07-01 12:40:26,470 Saving plot img00240.png\n"
     ]
    },
    {
     "name": "stdout",
     "output_type": "stream",
     "text": [
      "plt0000240\n",
      "img00240.png\n"
     ]
    },
    {
     "name": "stderr",
     "output_type": "stream",
     "text": [
      "yt : [INFO     ] 2020-07-01 12:40:26,686 Parameters: current_time              = 47.0703125\n",
      "yt : [INFO     ] 2020-07-01 12:40:26,687 Parameters: domain_dimensions         = [256 256   1]\n",
      "yt : [INFO     ] 2020-07-01 12:40:26,687 Parameters: domain_left_edge          = [-50. -50.   0.]\n",
      "yt : [INFO     ] 2020-07-01 12:40:26,688 Parameters: domain_right_edge         = [ 50.  50.   1.]\n",
      "yt : [INFO     ] 2020-07-01 12:40:26,791 xlim = -50.000000 50.000000\n",
      "yt : [INFO     ] 2020-07-01 12:40:26,791 ylim = -50.000000 50.000000\n",
      "yt : [INFO     ] 2020-07-01 12:40:26,793 xlim = -50.000000 50.000000\n",
      "yt : [INFO     ] 2020-07-01 12:40:26,793 ylim = -50.000000 50.000000\n",
      "yt : [INFO     ] 2020-07-01 12:40:26,794 Making a fixed resolution buffer of (('boxlib', 'Psi')) 800 by 800\n",
      "yt : [WARNING  ] 2020-07-01 12:40:26,831 Plot image for field ('boxlib', 'Psi') has both positive and negative values. Min = -0.020148, Max = 0.020816.\n",
      "yt : [WARNING  ] 2020-07-01 12:40:26,831 Switching to symlog colorbar scaling unless linear scaling is specified later\n",
      "yt : [INFO     ] 2020-07-01 12:40:26,919 Making a fixed resolution buffer of (('boxlib', 'Psi')) 800 by 800\n",
      "yt : [WARNING  ] 2020-07-01 12:40:27,004 Supplied id_loc but draw_ids is False. Not drawing grid ids\n",
      "yt : [WARNING  ] 2020-07-01 12:40:27,006 Supplied id_loc but draw_ids is False. Not drawing grid ids\n",
      "yt : [WARNING  ] 2020-07-01 12:40:27,008 Supplied id_loc but draw_ids is False. Not drawing grid ids\n",
      "yt : [WARNING  ] 2020-07-01 12:40:27,010 Supplied id_loc but draw_ids is False. Not drawing grid ids\n",
      "yt : [WARNING  ] 2020-07-01 12:40:27,012 Supplied id_loc but draw_ids is False. Not drawing grid ids\n",
      "yt : [WARNING  ] 2020-07-01 12:40:27,014 Supplied id_loc but draw_ids is False. Not drawing grid ids\n",
      "yt : [WARNING  ] 2020-07-01 12:40:27,016 Supplied id_loc but draw_ids is False. Not drawing grid ids\n",
      "yt : [WARNING  ] 2020-07-01 12:40:27,018 Supplied id_loc but draw_ids is False. Not drawing grid ids\n",
      "yt : [WARNING  ] 2020-07-01 12:40:27,021 Supplied id_loc but draw_ids is False. Not drawing grid ids\n",
      "yt : [INFO     ] 2020-07-01 12:40:27,021 Saving plot img00241.png\n"
     ]
    },
    {
     "name": "stdout",
     "output_type": "stream",
     "text": [
      "plt0000241\n",
      "img00241.png\n"
     ]
    },
    {
     "name": "stderr",
     "output_type": "stream",
     "text": [
      "yt : [INFO     ] 2020-07-01 12:40:27,242 Parameters: current_time              = 47.265625\n",
      "yt : [INFO     ] 2020-07-01 12:40:27,242 Parameters: domain_dimensions         = [256 256   1]\n",
      "yt : [INFO     ] 2020-07-01 12:40:27,243 Parameters: domain_left_edge          = [-50. -50.   0.]\n",
      "yt : [INFO     ] 2020-07-01 12:40:27,243 Parameters: domain_right_edge         = [ 50.  50.   1.]\n",
      "yt : [INFO     ] 2020-07-01 12:40:27,344 xlim = -50.000000 50.000000\n",
      "yt : [INFO     ] 2020-07-01 12:40:27,345 ylim = -50.000000 50.000000\n",
      "yt : [INFO     ] 2020-07-01 12:40:27,346 xlim = -50.000000 50.000000\n",
      "yt : [INFO     ] 2020-07-01 12:40:27,347 ylim = -50.000000 50.000000\n",
      "yt : [INFO     ] 2020-07-01 12:40:27,348 Making a fixed resolution buffer of (('boxlib', 'Psi')) 800 by 800\n",
      "yt : [WARNING  ] 2020-07-01 12:40:27,389 Plot image for field ('boxlib', 'Psi') has both positive and negative values. Min = -0.020006, Max = 0.020722.\n",
      "yt : [WARNING  ] 2020-07-01 12:40:27,389 Switching to symlog colorbar scaling unless linear scaling is specified later\n",
      "yt : [INFO     ] 2020-07-01 12:40:27,478 Making a fixed resolution buffer of (('boxlib', 'Psi')) 800 by 800\n",
      "yt : [WARNING  ] 2020-07-01 12:40:27,565 Supplied id_loc but draw_ids is False. Not drawing grid ids\n",
      "yt : [WARNING  ] 2020-07-01 12:40:27,567 Supplied id_loc but draw_ids is False. Not drawing grid ids\n",
      "yt : [WARNING  ] 2020-07-01 12:40:27,569 Supplied id_loc but draw_ids is False. Not drawing grid ids\n",
      "yt : [WARNING  ] 2020-07-01 12:40:27,571 Supplied id_loc but draw_ids is False. Not drawing grid ids\n",
      "yt : [WARNING  ] 2020-07-01 12:40:27,573 Supplied id_loc but draw_ids is False. Not drawing grid ids\n",
      "yt : [WARNING  ] 2020-07-01 12:40:27,575 Supplied id_loc but draw_ids is False. Not drawing grid ids\n",
      "yt : [WARNING  ] 2020-07-01 12:40:27,577 Supplied id_loc but draw_ids is False. Not drawing grid ids\n",
      "yt : [WARNING  ] 2020-07-01 12:40:27,579 Supplied id_loc but draw_ids is False. Not drawing grid ids\n",
      "yt : [WARNING  ] 2020-07-01 12:40:27,581 Supplied id_loc but draw_ids is False. Not drawing grid ids\n",
      "yt : [INFO     ] 2020-07-01 12:40:27,582 Saving plot img00242.png\n"
     ]
    },
    {
     "name": "stdout",
     "output_type": "stream",
     "text": [
      "plt0000242\n",
      "img00242.png\n"
     ]
    },
    {
     "name": "stderr",
     "output_type": "stream",
     "text": [
      "yt : [INFO     ] 2020-07-01 12:40:27,803 Parameters: current_time              = 47.4609375\n",
      "yt : [INFO     ] 2020-07-01 12:40:27,803 Parameters: domain_dimensions         = [256 256   1]\n",
      "yt : [INFO     ] 2020-07-01 12:40:27,804 Parameters: domain_left_edge          = [-50. -50.   0.]\n",
      "yt : [INFO     ] 2020-07-01 12:40:27,804 Parameters: domain_right_edge         = [ 50.  50.   1.]\n",
      "yt : [INFO     ] 2020-07-01 12:40:27,905 xlim = -50.000000 50.000000\n",
      "yt : [INFO     ] 2020-07-01 12:40:27,905 ylim = -50.000000 50.000000\n",
      "yt : [INFO     ] 2020-07-01 12:40:27,907 xlim = -50.000000 50.000000\n",
      "yt : [INFO     ] 2020-07-01 12:40:27,907 ylim = -50.000000 50.000000\n",
      "yt : [INFO     ] 2020-07-01 12:40:27,908 Making a fixed resolution buffer of (('boxlib', 'Psi')) 800 by 800\n",
      "yt : [WARNING  ] 2020-07-01 12:40:27,949 Plot image for field ('boxlib', 'Psi') has both positive and negative values. Min = -0.020037, Max = 0.020366.\n",
      "yt : [WARNING  ] 2020-07-01 12:40:27,949 Switching to symlog colorbar scaling unless linear scaling is specified later\n",
      "yt : [INFO     ] 2020-07-01 12:40:28,164 Making a fixed resolution buffer of (('boxlib', 'Psi')) 800 by 800\n",
      "yt : [WARNING  ] 2020-07-01 12:40:28,251 Supplied id_loc but draw_ids is False. Not drawing grid ids\n",
      "yt : [WARNING  ] 2020-07-01 12:40:28,252 Supplied id_loc but draw_ids is False. Not drawing grid ids\n",
      "yt : [WARNING  ] 2020-07-01 12:40:28,255 Supplied id_loc but draw_ids is False. Not drawing grid ids\n",
      "yt : [WARNING  ] 2020-07-01 12:40:28,256 Supplied id_loc but draw_ids is False. Not drawing grid ids\n",
      "yt : [WARNING  ] 2020-07-01 12:40:28,258 Supplied id_loc but draw_ids is False. Not drawing grid ids\n",
      "yt : [WARNING  ] 2020-07-01 12:40:28,260 Supplied id_loc but draw_ids is False. Not drawing grid ids\n",
      "yt : [WARNING  ] 2020-07-01 12:40:28,263 Supplied id_loc but draw_ids is False. Not drawing grid ids\n",
      "yt : [WARNING  ] 2020-07-01 12:40:28,265 Supplied id_loc but draw_ids is False. Not drawing grid ids\n",
      "yt : [WARNING  ] 2020-07-01 12:40:28,267 Supplied id_loc but draw_ids is False. Not drawing grid ids\n",
      "yt : [INFO     ] 2020-07-01 12:40:28,267 Saving plot img00243.png\n"
     ]
    },
    {
     "name": "stdout",
     "output_type": "stream",
     "text": [
      "plt0000243\n",
      "img00243.png\n"
     ]
    },
    {
     "name": "stderr",
     "output_type": "stream",
     "text": [
      "yt : [INFO     ] 2020-07-01 12:40:28,485 Parameters: current_time              = 47.65625\n",
      "yt : [INFO     ] 2020-07-01 12:40:28,486 Parameters: domain_dimensions         = [256 256   1]\n",
      "yt : [INFO     ] 2020-07-01 12:40:28,486 Parameters: domain_left_edge          = [-50. -50.   0.]\n",
      "yt : [INFO     ] 2020-07-01 12:40:28,487 Parameters: domain_right_edge         = [ 50.  50.   1.]\n",
      "yt : [INFO     ] 2020-07-01 12:40:28,590 xlim = -50.000000 50.000000\n",
      "yt : [INFO     ] 2020-07-01 12:40:28,590 ylim = -50.000000 50.000000\n",
      "yt : [INFO     ] 2020-07-01 12:40:28,592 xlim = -50.000000 50.000000\n",
      "yt : [INFO     ] 2020-07-01 12:40:28,592 ylim = -50.000000 50.000000\n",
      "yt : [INFO     ] 2020-07-01 12:40:28,594 Making a fixed resolution buffer of (('boxlib', 'Psi')) 800 by 800\n",
      "yt : [WARNING  ] 2020-07-01 12:40:28,630 Plot image for field ('boxlib', 'Psi') has both positive and negative values. Min = -0.019895, Max = 0.020266.\n",
      "yt : [WARNING  ] 2020-07-01 12:40:28,630 Switching to symlog colorbar scaling unless linear scaling is specified later\n",
      "yt : [INFO     ] 2020-07-01 12:40:28,718 Making a fixed resolution buffer of (('boxlib', 'Psi')) 800 by 800\n",
      "yt : [WARNING  ] 2020-07-01 12:40:28,802 Supplied id_loc but draw_ids is False. Not drawing grid ids\n",
      "yt : [WARNING  ] 2020-07-01 12:40:28,805 Supplied id_loc but draw_ids is False. Not drawing grid ids\n",
      "yt : [WARNING  ] 2020-07-01 12:40:28,806 Supplied id_loc but draw_ids is False. Not drawing grid ids\n",
      "yt : [WARNING  ] 2020-07-01 12:40:28,809 Supplied id_loc but draw_ids is False. Not drawing grid ids\n",
      "yt : [WARNING  ] 2020-07-01 12:40:28,810 Supplied id_loc but draw_ids is False. Not drawing grid ids\n",
      "yt : [WARNING  ] 2020-07-01 12:40:28,812 Supplied id_loc but draw_ids is False. Not drawing grid ids\n",
      "yt : [WARNING  ] 2020-07-01 12:40:28,814 Supplied id_loc but draw_ids is False. Not drawing grid ids\n",
      "yt : [WARNING  ] 2020-07-01 12:40:28,816 Supplied id_loc but draw_ids is False. Not drawing grid ids\n",
      "yt : [WARNING  ] 2020-07-01 12:40:28,819 Supplied id_loc but draw_ids is False. Not drawing grid ids\n",
      "yt : [INFO     ] 2020-07-01 12:40:28,819 Saving plot img00244.png\n"
     ]
    },
    {
     "name": "stdout",
     "output_type": "stream",
     "text": [
      "plt0000244\n",
      "img00244.png\n"
     ]
    },
    {
     "name": "stderr",
     "output_type": "stream",
     "text": [
      "yt : [INFO     ] 2020-07-01 12:40:29,037 Parameters: current_time              = 47.8515625\n",
      "yt : [INFO     ] 2020-07-01 12:40:29,037 Parameters: domain_dimensions         = [256 256   1]\n",
      "yt : [INFO     ] 2020-07-01 12:40:29,038 Parameters: domain_left_edge          = [-50. -50.   0.]\n",
      "yt : [INFO     ] 2020-07-01 12:40:29,038 Parameters: domain_right_edge         = [ 50.  50.   1.]\n",
      "yt : [INFO     ] 2020-07-01 12:40:29,139 xlim = -50.000000 50.000000\n",
      "yt : [INFO     ] 2020-07-01 12:40:29,139 ylim = -50.000000 50.000000\n",
      "yt : [INFO     ] 2020-07-01 12:40:29,141 xlim = -50.000000 50.000000\n",
      "yt : [INFO     ] 2020-07-01 12:40:29,141 ylim = -50.000000 50.000000\n",
      "yt : [INFO     ] 2020-07-01 12:40:29,142 Making a fixed resolution buffer of (('boxlib', 'Psi')) 800 by 800\n",
      "yt : [WARNING  ] 2020-07-01 12:40:29,178 Plot image for field ('boxlib', 'Psi') has both positive and negative values. Min = -0.019802, Max = 0.020288.\n",
      "yt : [WARNING  ] 2020-07-01 12:40:29,179 Switching to symlog colorbar scaling unless linear scaling is specified later\n",
      "yt : [INFO     ] 2020-07-01 12:40:29,266 Making a fixed resolution buffer of (('boxlib', 'Psi')) 800 by 800\n",
      "yt : [WARNING  ] 2020-07-01 12:40:29,352 Supplied id_loc but draw_ids is False. Not drawing grid ids\n",
      "yt : [WARNING  ] 2020-07-01 12:40:29,353 Supplied id_loc but draw_ids is False. Not drawing grid ids\n",
      "yt : [WARNING  ] 2020-07-01 12:40:29,355 Supplied id_loc but draw_ids is False. Not drawing grid ids\n",
      "yt : [WARNING  ] 2020-07-01 12:40:29,357 Supplied id_loc but draw_ids is False. Not drawing grid ids\n",
      "yt : [WARNING  ] 2020-07-01 12:40:29,359 Supplied id_loc but draw_ids is False. Not drawing grid ids\n",
      "yt : [WARNING  ] 2020-07-01 12:40:29,361 Supplied id_loc but draw_ids is False. Not drawing grid ids\n",
      "yt : [WARNING  ] 2020-07-01 12:40:29,363 Supplied id_loc but draw_ids is False. Not drawing grid ids\n",
      "yt : [WARNING  ] 2020-07-01 12:40:29,365 Supplied id_loc but draw_ids is False. Not drawing grid ids\n",
      "yt : [WARNING  ] 2020-07-01 12:40:29,367 Supplied id_loc but draw_ids is False. Not drawing grid ids\n",
      "yt : [INFO     ] 2020-07-01 12:40:29,368 Saving plot img00245.png\n"
     ]
    },
    {
     "name": "stdout",
     "output_type": "stream",
     "text": [
      "plt0000245\n",
      "img00245.png\n"
     ]
    },
    {
     "name": "stderr",
     "output_type": "stream",
     "text": [
      "yt : [INFO     ] 2020-07-01 12:40:29,590 Parameters: current_time              = 48.046875\n",
      "yt : [INFO     ] 2020-07-01 12:40:29,590 Parameters: domain_dimensions         = [256 256   1]\n",
      "yt : [INFO     ] 2020-07-01 12:40:29,591 Parameters: domain_left_edge          = [-50. -50.   0.]\n",
      "yt : [INFO     ] 2020-07-01 12:40:29,592 Parameters: domain_right_edge         = [ 50.  50.   1.]\n",
      "yt : [INFO     ] 2020-07-01 12:40:29,819 xlim = -50.000000 50.000000\n",
      "yt : [INFO     ] 2020-07-01 12:40:29,820 ylim = -50.000000 50.000000\n",
      "yt : [INFO     ] 2020-07-01 12:40:29,821 xlim = -50.000000 50.000000\n",
      "yt : [INFO     ] 2020-07-01 12:40:29,822 ylim = -50.000000 50.000000\n",
      "yt : [INFO     ] 2020-07-01 12:40:29,823 Making a fixed resolution buffer of (('boxlib', 'Psi')) 800 by 800\n",
      "yt : [WARNING  ] 2020-07-01 12:40:29,861 Plot image for field ('boxlib', 'Psi') has both positive and negative values. Min = -0.019749, Max = 0.020400.\n",
      "yt : [WARNING  ] 2020-07-01 12:40:29,861 Switching to symlog colorbar scaling unless linear scaling is specified later\n",
      "yt : [INFO     ] 2020-07-01 12:40:29,949 Making a fixed resolution buffer of (('boxlib', 'Psi')) 800 by 800\n",
      "yt : [WARNING  ] 2020-07-01 12:40:30,035 Supplied id_loc but draw_ids is False. Not drawing grid ids\n",
      "yt : [WARNING  ] 2020-07-01 12:40:30,037 Supplied id_loc but draw_ids is False. Not drawing grid ids\n",
      "yt : [WARNING  ] 2020-07-01 12:40:30,039 Supplied id_loc but draw_ids is False. Not drawing grid ids\n",
      "yt : [WARNING  ] 2020-07-01 12:40:30,041 Supplied id_loc but draw_ids is False. Not drawing grid ids\n",
      "yt : [WARNING  ] 2020-07-01 12:40:30,043 Supplied id_loc but draw_ids is False. Not drawing grid ids\n",
      "yt : [WARNING  ] 2020-07-01 12:40:30,045 Supplied id_loc but draw_ids is False. Not drawing grid ids\n",
      "yt : [WARNING  ] 2020-07-01 12:40:30,047 Supplied id_loc but draw_ids is False. Not drawing grid ids\n",
      "yt : [WARNING  ] 2020-07-01 12:40:30,049 Supplied id_loc but draw_ids is False. Not drawing grid ids\n",
      "yt : [WARNING  ] 2020-07-01 12:40:30,052 Supplied id_loc but draw_ids is False. Not drawing grid ids\n",
      "yt : [INFO     ] 2020-07-01 12:40:30,052 Saving plot img00246.png\n"
     ]
    },
    {
     "name": "stdout",
     "output_type": "stream",
     "text": [
      "plt0000246\n",
      "img00246.png\n"
     ]
    },
    {
     "name": "stderr",
     "output_type": "stream",
     "text": [
      "yt : [INFO     ] 2020-07-01 12:40:30,269 Parameters: current_time              = 48.2421875\n",
      "yt : [INFO     ] 2020-07-01 12:40:30,270 Parameters: domain_dimensions         = [256 256   1]\n",
      "yt : [INFO     ] 2020-07-01 12:40:30,271 Parameters: domain_left_edge          = [-50. -50.   0.]\n",
      "yt : [INFO     ] 2020-07-01 12:40:30,271 Parameters: domain_right_edge         = [ 50.  50.   1.]\n",
      "yt : [INFO     ] 2020-07-01 12:40:30,379 xlim = -50.000000 50.000000\n",
      "yt : [INFO     ] 2020-07-01 12:40:30,380 ylim = -50.000000 50.000000\n",
      "yt : [INFO     ] 2020-07-01 12:40:30,381 xlim = -50.000000 50.000000\n",
      "yt : [INFO     ] 2020-07-01 12:40:30,382 ylim = -50.000000 50.000000\n",
      "yt : [INFO     ] 2020-07-01 12:40:30,383 Making a fixed resolution buffer of (('boxlib', 'Psi')) 800 by 800\n",
      "yt : [WARNING  ] 2020-07-01 12:40:30,420 Plot image for field ('boxlib', 'Psi') has both positive and negative values. Min = -0.019703, Max = 0.020216.\n",
      "yt : [WARNING  ] 2020-07-01 12:40:30,421 Switching to symlog colorbar scaling unless linear scaling is specified later\n",
      "yt : [INFO     ] 2020-07-01 12:40:30,507 Making a fixed resolution buffer of (('boxlib', 'Psi')) 800 by 800\n",
      "yt : [WARNING  ] 2020-07-01 12:40:30,592 Supplied id_loc but draw_ids is False. Not drawing grid ids\n",
      "yt : [WARNING  ] 2020-07-01 12:40:30,594 Supplied id_loc but draw_ids is False. Not drawing grid ids\n",
      "yt : [WARNING  ] 2020-07-01 12:40:30,597 Supplied id_loc but draw_ids is False. Not drawing grid ids\n",
      "yt : [WARNING  ] 2020-07-01 12:40:30,599 Supplied id_loc but draw_ids is False. Not drawing grid ids\n",
      "yt : [WARNING  ] 2020-07-01 12:40:30,602 Supplied id_loc but draw_ids is False. Not drawing grid ids\n",
      "yt : [WARNING  ] 2020-07-01 12:40:30,604 Supplied id_loc but draw_ids is False. Not drawing grid ids\n",
      "yt : [WARNING  ] 2020-07-01 12:40:30,607 Supplied id_loc but draw_ids is False. Not drawing grid ids\n",
      "yt : [WARNING  ] 2020-07-01 12:40:30,609 Supplied id_loc but draw_ids is False. Not drawing grid ids\n",
      "yt : [WARNING  ] 2020-07-01 12:40:30,612 Supplied id_loc but draw_ids is False. Not drawing grid ids\n",
      "yt : [INFO     ] 2020-07-01 12:40:30,612 Saving plot img00247.png\n"
     ]
    },
    {
     "name": "stdout",
     "output_type": "stream",
     "text": [
      "plt0000247\n",
      "img00247.png\n"
     ]
    },
    {
     "name": "stderr",
     "output_type": "stream",
     "text": [
      "yt : [INFO     ] 2020-07-01 12:40:30,827 Parameters: current_time              = 48.4375\n",
      "yt : [INFO     ] 2020-07-01 12:40:30,827 Parameters: domain_dimensions         = [256 256   1]\n",
      "yt : [INFO     ] 2020-07-01 12:40:30,828 Parameters: domain_left_edge          = [-50. -50.   0.]\n",
      "yt : [INFO     ] 2020-07-01 12:40:30,828 Parameters: domain_right_edge         = [ 50.  50.   1.]\n",
      "yt : [INFO     ] 2020-07-01 12:40:30,934 xlim = -50.000000 50.000000\n",
      "yt : [INFO     ] 2020-07-01 12:40:30,935 ylim = -50.000000 50.000000\n",
      "yt : [INFO     ] 2020-07-01 12:40:30,936 xlim = -50.000000 50.000000\n",
      "yt : [INFO     ] 2020-07-01 12:40:30,937 ylim = -50.000000 50.000000\n",
      "yt : [INFO     ] 2020-07-01 12:40:30,938 Making a fixed resolution buffer of (('boxlib', 'Psi')) 800 by 800\n",
      "yt : [WARNING  ] 2020-07-01 12:40:30,975 Plot image for field ('boxlib', 'Psi') has both positive and negative values. Min = -0.019672, Max = 0.020082.\n",
      "yt : [WARNING  ] 2020-07-01 12:40:30,975 Switching to symlog colorbar scaling unless linear scaling is specified later\n",
      "yt : [INFO     ] 2020-07-01 12:40:31,062 Making a fixed resolution buffer of (('boxlib', 'Psi')) 800 by 800\n",
      "yt : [WARNING  ] 2020-07-01 12:40:31,148 Supplied id_loc but draw_ids is False. Not drawing grid ids\n",
      "yt : [WARNING  ] 2020-07-01 12:40:31,150 Supplied id_loc but draw_ids is False. Not drawing grid ids\n",
      "yt : [WARNING  ] 2020-07-01 12:40:31,152 Supplied id_loc but draw_ids is False. Not drawing grid ids\n",
      "yt : [WARNING  ] 2020-07-01 12:40:31,154 Supplied id_loc but draw_ids is False. Not drawing grid ids\n",
      "yt : [WARNING  ] 2020-07-01 12:40:31,157 Supplied id_loc but draw_ids is False. Not drawing grid ids\n",
      "yt : [WARNING  ] 2020-07-01 12:40:31,159 Supplied id_loc but draw_ids is False. Not drawing grid ids\n",
      "yt : [WARNING  ] 2020-07-01 12:40:31,162 Supplied id_loc but draw_ids is False. Not drawing grid ids\n",
      "yt : [WARNING  ] 2020-07-01 12:40:31,164 Supplied id_loc but draw_ids is False. Not drawing grid ids\n",
      "yt : [WARNING  ] 2020-07-01 12:40:31,166 Supplied id_loc but draw_ids is False. Not drawing grid ids\n",
      "yt : [INFO     ] 2020-07-01 12:40:31,167 Saving plot img00248.png\n"
     ]
    },
    {
     "name": "stdout",
     "output_type": "stream",
     "text": [
      "plt0000248\n",
      "img00248.png\n"
     ]
    },
    {
     "name": "stderr",
     "output_type": "stream",
     "text": [
      "yt : [INFO     ] 2020-07-01 12:40:31,490 Parameters: current_time              = 48.6328125\n",
      "yt : [INFO     ] 2020-07-01 12:40:31,491 Parameters: domain_dimensions         = [256 256   1]\n",
      "yt : [INFO     ] 2020-07-01 12:40:31,492 Parameters: domain_left_edge          = [-50. -50.   0.]\n",
      "yt : [INFO     ] 2020-07-01 12:40:31,492 Parameters: domain_right_edge         = [ 50.  50.   1.]\n",
      "yt : [INFO     ] 2020-07-01 12:40:31,595 xlim = -50.000000 50.000000\n",
      "yt : [INFO     ] 2020-07-01 12:40:31,595 ylim = -50.000000 50.000000\n",
      "yt : [INFO     ] 2020-07-01 12:40:31,597 xlim = -50.000000 50.000000\n",
      "yt : [INFO     ] 2020-07-01 12:40:31,597 ylim = -50.000000 50.000000\n",
      "yt : [INFO     ] 2020-07-01 12:40:31,599 Making a fixed resolution buffer of (('boxlib', 'Psi')) 800 by 800\n",
      "yt : [WARNING  ] 2020-07-01 12:40:31,636 Plot image for field ('boxlib', 'Psi') has both positive and negative values. Min = -0.019612, Max = 0.019952.\n",
      "yt : [WARNING  ] 2020-07-01 12:40:31,636 Switching to symlog colorbar scaling unless linear scaling is specified later\n",
      "yt : [INFO     ] 2020-07-01 12:40:31,723 Making a fixed resolution buffer of (('boxlib', 'Psi')) 800 by 800\n",
      "yt : [WARNING  ] 2020-07-01 12:40:31,807 Supplied id_loc but draw_ids is False. Not drawing grid ids\n",
      "yt : [WARNING  ] 2020-07-01 12:40:31,809 Supplied id_loc but draw_ids is False. Not drawing grid ids\n",
      "yt : [WARNING  ] 2020-07-01 12:40:31,811 Supplied id_loc but draw_ids is False. Not drawing grid ids\n",
      "yt : [WARNING  ] 2020-07-01 12:40:31,813 Supplied id_loc but draw_ids is False. Not drawing grid ids\n",
      "yt : [WARNING  ] 2020-07-01 12:40:31,815 Supplied id_loc but draw_ids is False. Not drawing grid ids\n",
      "yt : [WARNING  ] 2020-07-01 12:40:31,818 Supplied id_loc but draw_ids is False. Not drawing grid ids\n",
      "yt : [WARNING  ] 2020-07-01 12:40:31,820 Supplied id_loc but draw_ids is False. Not drawing grid ids\n",
      "yt : [WARNING  ] 2020-07-01 12:40:31,822 Supplied id_loc but draw_ids is False. Not drawing grid ids\n",
      "yt : [WARNING  ] 2020-07-01 12:40:31,824 Supplied id_loc but draw_ids is False. Not drawing grid ids\n",
      "yt : [INFO     ] 2020-07-01 12:40:31,824 Saving plot img00249.png\n"
     ]
    },
    {
     "name": "stdout",
     "output_type": "stream",
     "text": [
      "plt0000249\n",
      "img00249.png\n"
     ]
    },
    {
     "name": "stderr",
     "output_type": "stream",
     "text": [
      "yt : [INFO     ] 2020-07-01 12:40:32,043 Parameters: current_time              = 48.828125\n",
      "yt : [INFO     ] 2020-07-01 12:40:32,043 Parameters: domain_dimensions         = [256 256   1]\n",
      "yt : [INFO     ] 2020-07-01 12:40:32,044 Parameters: domain_left_edge          = [-50. -50.   0.]\n",
      "yt : [INFO     ] 2020-07-01 12:40:32,044 Parameters: domain_right_edge         = [ 50.  50.   1.]\n",
      "yt : [INFO     ] 2020-07-01 12:40:32,147 xlim = -50.000000 50.000000\n",
      "yt : [INFO     ] 2020-07-01 12:40:32,148 ylim = -50.000000 50.000000\n",
      "yt : [INFO     ] 2020-07-01 12:40:32,149 xlim = -50.000000 50.000000\n",
      "yt : [INFO     ] 2020-07-01 12:40:32,150 ylim = -50.000000 50.000000\n",
      "yt : [INFO     ] 2020-07-01 12:40:32,151 Making a fixed resolution buffer of (('boxlib', 'Psi')) 800 by 800\n",
      "yt : [WARNING  ] 2020-07-01 12:40:32,188 Plot image for field ('boxlib', 'Psi') has both positive and negative values. Min = -0.019534, Max = 0.019862.\n",
      "yt : [WARNING  ] 2020-07-01 12:40:32,188 Switching to symlog colorbar scaling unless linear scaling is specified later\n",
      "yt : [INFO     ] 2020-07-01 12:40:32,273 Making a fixed resolution buffer of (('boxlib', 'Psi')) 800 by 800\n",
      "yt : [WARNING  ] 2020-07-01 12:40:32,359 Supplied id_loc but draw_ids is False. Not drawing grid ids\n",
      "yt : [WARNING  ] 2020-07-01 12:40:32,361 Supplied id_loc but draw_ids is False. Not drawing grid ids\n",
      "yt : [WARNING  ] 2020-07-01 12:40:32,363 Supplied id_loc but draw_ids is False. Not drawing grid ids\n",
      "yt : [WARNING  ] 2020-07-01 12:40:32,365 Supplied id_loc but draw_ids is False. Not drawing grid ids\n",
      "yt : [WARNING  ] 2020-07-01 12:40:32,366 Supplied id_loc but draw_ids is False. Not drawing grid ids\n",
      "yt : [WARNING  ] 2020-07-01 12:40:32,368 Supplied id_loc but draw_ids is False. Not drawing grid ids\n",
      "yt : [WARNING  ] 2020-07-01 12:40:32,370 Supplied id_loc but draw_ids is False. Not drawing grid ids\n",
      "yt : [WARNING  ] 2020-07-01 12:40:32,372 Supplied id_loc but draw_ids is False. Not drawing grid ids\n",
      "yt : [WARNING  ] 2020-07-01 12:40:32,374 Supplied id_loc but draw_ids is False. Not drawing grid ids\n",
      "yt : [INFO     ] 2020-07-01 12:40:32,374 Saving plot img00250.png\n"
     ]
    },
    {
     "name": "stdout",
     "output_type": "stream",
     "text": [
      "plt0000250\n",
      "img00250.png\n"
     ]
    }
   ],
   "source": [
    "var = 'Psi'\n",
    "for i in range(1,251):\n",
    "    ident = list(str(int(i)+10000))\n",
    "    ident[0] = '0'\n",
    "    filename = \"plt00\"+\"\".join(ident)\n",
    "    ds = yt.load(filename)\n",
    "    s = yt.SlicePlot(ds, 'z', ('boxlib', var), origin='native')\n",
    "    s.set_log(('boxlib', var), False)\n",
    "    s.set_xlabel('x - Axis')\n",
    "    s.set_ylabel('y - Axis')\n",
    "    s.hide_colorbar()\n",
    "    #s.annotate_cell_edges()\n",
    "    s.annotate_grids(edgecolors = 'black')\n",
    "    \n",
    "    s.zoom(2)\n",
    "    \n",
    "    ident2 = list(str(i+10000))\n",
    "    ident2[0] = '0'\n",
    "    dstname = \"img\"+\"\".join(ident2)+\".png\"\n",
    "    print(filename)\n",
    "    print(dstname)\n",
    "    s.save(dstname)"
   ]
  },
  {
   "cell_type": "code",
   "execution_count": 76,
   "metadata": {},
   "outputs": [],
   "source": [
    "cg = ds.covering_grid(left_edge=ds.domain_left_edge, dims=ds.domain_dimensions, level=0)\n",
    "coords = cg.fcoords\n",
    "\n",
    "xs = coords[:,0]\n",
    "ys = coords[:,1]\n",
    "zs = coords[:,2]\n",
    "\n",
    "dx = np.max(xs[1:] - xs[:-1])\n",
    "dy = np.max(ys[1:] - ys[:-1])\n",
    "dz = np.max(zs[1:] - zs[:-1])\n",
    "\n",
    "H = cg[\"u\"][:,:,:].d"
   ]
  },
  {
   "cell_type": "code",
   "execution_count": 77,
   "metadata": {},
   "outputs": [
    {
     "data": {
      "text/plain": [
       "0.0081254919985896176"
      ]
     },
     "execution_count": 77,
     "metadata": {},
     "output_type": "execute_result"
    }
   ],
   "source": [
    "H[64, 64, 64]"
   ]
  },
  {
   "cell_type": "code",
   "execution_count": 49,
   "metadata": {},
   "outputs": [
    {
     "data": {
      "text/plain": [
       "1.2775443176769271e-10"
      ]
     },
     "execution_count": 49,
     "metadata": {},
     "output_type": "execute_result"
    }
   ],
   "source": [
    "H[64, 64, 64]"
   ]
  },
  {
   "cell_type": "code",
   "execution_count": 49,
   "metadata": {},
   "outputs": [
    {
     "data": {
      "text/plain": [
       "0.0010225271343679068"
      ]
     },
     "execution_count": 49,
     "metadata": {},
     "output_type": "execute_result"
    }
   ],
   "source": [
    "H[0, 0, 0]"
   ]
  },
  {
   "cell_type": "code",
   "execution_count": null,
   "metadata": {},
   "outputs": [],
   "source": []
  }
 ],
 "metadata": {
  "kernelspec": {
   "display_name": "Python 3",
   "language": "python",
   "name": "python3"
  },
  "language_info": {
   "codemirror_mode": {
    "name": "ipython",
    "version": 3
   },
   "file_extension": ".py",
   "mimetype": "text/x-python",
   "name": "python",
   "nbconvert_exporter": "python",
   "pygments_lexer": "ipython3",
   "version": "3.8.10"
  }
 },
 "nbformat": 4,
 "nbformat_minor": 2
}
