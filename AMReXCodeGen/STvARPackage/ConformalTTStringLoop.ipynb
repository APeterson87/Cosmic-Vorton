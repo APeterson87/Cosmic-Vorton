{
 "cells": [
  {
   "cell_type": "code",
   "execution_count": 1,
   "id": "8a15b977",
   "metadata": {},
   "outputs": [],
   "source": [
    "from STvAR_v3 import *\n",
    "from STvARMetricObjects import *\n",
    "from STvARFiniteDifference import *\n",
    "from STvARAdvection import *\n",
    "from STvARSymbolParsing import *\n",
    "from STvARIndexing import*"
   ]
  },
  {
   "cell_type": "code",
   "execution_count": 2,
   "id": "09acf833",
   "metadata": {},
   "outputs": [],
   "source": [
    "DiffOrder = 4\n",
    "upDiffOrder = DiffOrder\n",
    "dnDiffOrder = DiffOrder\n",
    "DiffOrderKO = DiffOrder + 2\n",
    "KOsigmaVal = 0.32\n",
    "dim = 3"
   ]
  },
  {
   "cell_type": "code",
   "execution_count": 6,
   "id": "8f76bcce",
   "metadata": {},
   "outputs": [],
   "source": [
    "w_U = stvarrank1('w_U', gridvar = True, vartype = 'state_fab', isreal = True)"
   ]
  },
  {
   "cell_type": "code",
   "execution_count": 7,
   "id": "fe3830c1",
   "metadata": {},
   "outputs": [],
   "source": [
    "RHSString = \"\""
   ]
  },
  {
   "cell_type": "code",
   "execution_count": 8,
   "id": "36f1aaa1",
   "metadata": {},
   "outputs": [],
   "source": [
    "dDw_UL = w_U.diff('dD', Accuracy = DiffOrder)\n",
    "dDDw_ULL = w_U.diff('dDD', Accuracy = DiffOrder)\n",
    "dKODFullw_U = w_U.diff('dKODFull', Accuracy = DiffOrderKO)\n",
    "\n",
    "RHSString += dDw_UL.symb2isymb()\n",
    "RHSString += dDDw_ULL.symb2isymb()\n",
    "RHSString += dKODFullw_U.symb2isymb()"
   ]
  },
  {
   "cell_type": "code",
   "execution_count": null,
   "id": "3389d85a",
   "metadata": {},
   "outputs": [],
   "source": [
    "Atilde_UU = stvarrank2('Atilde_UU', sym = 'sym01')\n",
    "for i in range(3):\n",
    "    for j in range(3):\n",
    "        Atilde_UU.expr[i][j] = dDw_UL.symb[i][j] + dDw_UL.symb[j][i]\n",
    "        \n",
    "RHSString += Atilde_UU.symb2expr()"
   ]
  },
  {
   "cell_type": "code",
   "execution_count": null,
   "id": "6eaabad2",
   "metadata": {},
   "outputs": [],
   "source": [
    "AA = stvar('AA')\n",
    "for i in range(3):\n",
    "    for j in range(3):\n",
    "        AA.expr += Atilde_UU.symb[i][j]*Atilde_UU.symb[i][j]"
   ]
  },
  {
   "cell_type": "code",
   "execution_count": null,
   "id": "fece3310",
   "metadata": {},
   "outputs": [],
   "source": [
    "RHSString += AA.symb2expr()"
   ]
  },
  {
   "cell_type": "code",
   "execution_count": null,
   "id": "6801d59a",
   "metadata": {},
   "outputs": [],
   "source": [
    "print(RHSString.replace(\"state_fabIdx\",\"Idx\"))"
   ]
  },
  {
   "cell_type": "code",
   "execution_count": null,
   "id": "c66df5d7",
   "metadata": {},
   "outputs": [],
   "source": []
  }
 ],
 "metadata": {
  "kernelspec": {
   "display_name": "Python 3",
   "language": "python",
   "name": "python3"
  },
  "language_info": {
   "codemirror_mode": {
    "name": "ipython",
    "version": 3
   },
   "file_extension": ".py",
   "mimetype": "text/x-python",
   "name": "python",
   "nbconvert_exporter": "python",
   "pygments_lexer": "ipython3",
   "version": "3.8.10"
  }
 },
 "nbformat": 4,
 "nbformat_minor": 5
}
