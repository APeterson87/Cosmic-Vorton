{
 "cells": [
  {
   "cell_type": "code",
   "execution_count": 1,
   "id": "8a15b977",
   "metadata": {},
   "outputs": [],
   "source": [
    "from STvAR_v3 import *\n",
    "from STvARMetricObjects import *\n",
    "from STvARFiniteDifference import *\n",
    "from STvARAdvection import *\n",
    "from STvARSymbolParsing import *\n",
    "from STvARIndexing import*"
   ]
  },
  {
   "cell_type": "code",
   "execution_count": 2,
   "id": "09acf833",
   "metadata": {},
   "outputs": [],
   "source": [
    "DiffOrder = 2\n",
    "upDiffOrder = DiffOrder\n",
    "dnDiffOrder = DiffOrder\n",
    "DiffOrderKO = DiffOrder + 2\n",
    "KOsigmaVal = 0.32\n",
    "dim = 3"
   ]
  },
  {
   "cell_type": "code",
   "execution_count": 3,
   "id": "8f76bcce",
   "metadata": {},
   "outputs": [],
   "source": [
    "w_U = stvarrank1('w_U', gridvar = True, vartype = 'state_fab', isreal = True)"
   ]
  },
  {
   "cell_type": "code",
   "execution_count": 4,
   "id": "fe3830c1",
   "metadata": {},
   "outputs": [],
   "source": [
    "RHSString = \"\""
   ]
  },
  {
   "cell_type": "code",
   "execution_count": 5,
   "id": "36f1aaa1",
   "metadata": {},
   "outputs": [],
   "source": [
    "dDw_UL = w_U.diff('dD', Accuracy = DiffOrder)\n",
    "dDDw_ULL = w_U.diff('dDD', Accuracy = DiffOrder)\n",
    "dKODFullw_U = w_U.diff('dKODFull', Accuracy = DiffOrderKO)\n",
    "\n",
    "RHSString += dDw_UL.symb2isymb()\n",
    "RHSString += dDDw_ULL.symb2isymb()\n",
    "RHSString += dKODFullw_U.symb2isymb()"
   ]
  },
  {
   "cell_type": "code",
   "execution_count": 6,
   "id": "3389d85a",
   "metadata": {},
   "outputs": [],
   "source": [
    "Atilde_UU = stvarrank2('Atilde_UU', sym = 'sym01')\n",
    "for i in range(3):\n",
    "    for j in range(3):\n",
    "        Atilde_UU.expr[i][j] = dDw_UL.symb[i][j] + dDw_UL.symb[j][i]\n",
    "        \n",
    "RHSString += Atilde_UU.symb2expr()"
   ]
  },
  {
   "cell_type": "code",
   "execution_count": 7,
   "id": "6eaabad2",
   "metadata": {},
   "outputs": [],
   "source": [
    "AA = stvar('AA')\n",
    "for i in range(3):\n",
    "    for j in range(3):\n",
    "        AA.expr += Atilde_UU.symb[i][j]*Atilde_UU.symb[i][j]"
   ]
  },
  {
   "cell_type": "code",
   "execution_count": 8,
   "id": "fece3310",
   "metadata": {},
   "outputs": [],
   "source": [
    "RHSString += AA.symb2expr()"
   ]
  },
  {
   "cell_type": "code",
   "execution_count": 9,
   "id": "6801d59a",
   "metadata": {},
   "outputs": [
    {
     "name": "stdout",
     "output_type": "stream",
     "text": [
      "        amrex::Real dDw_UL_00 = ((1.0/2.0)*state_fab(i + 1, j, k, Idx::w_U_0) - 1.0/2.0*state_fab(i - 1, j, k, Idx::w_U_0))/dx[0];\n",
      "        amrex::Real dDw_UL_01 = ((1.0/2.0)*state_fab(i, j + 1, k, Idx::w_U_0) - 1.0/2.0*state_fab(i, j - 1, k, Idx::w_U_0))/dx[1];\n",
      "        amrex::Real dDw_UL_02 = ((1.0/2.0)*state_fab(i, j, k + 1, Idx::w_U_0) - 1.0/2.0*state_fab(i, j, k - 1, Idx::w_U_0))/dx[2];\n",
      "        amrex::Real dDw_UL_10 = ((1.0/2.0)*state_fab(i + 1, j, k, Idx::w_U_1) - 1.0/2.0*state_fab(i - 1, j, k, Idx::w_U_1))/dx[0];\n",
      "        amrex::Real dDw_UL_11 = ((1.0/2.0)*state_fab(i, j + 1, k, Idx::w_U_1) - 1.0/2.0*state_fab(i, j - 1, k, Idx::w_U_1))/dx[1];\n",
      "        amrex::Real dDw_UL_12 = ((1.0/2.0)*state_fab(i, j, k + 1, Idx::w_U_1) - 1.0/2.0*state_fab(i, j, k - 1, Idx::w_U_1))/dx[2];\n",
      "        amrex::Real dDw_UL_20 = ((1.0/2.0)*state_fab(i + 1, j, k, Idx::w_U_2) - 1.0/2.0*state_fab(i - 1, j, k, Idx::w_U_2))/dx[0];\n",
      "        amrex::Real dDw_UL_21 = ((1.0/2.0)*state_fab(i, j + 1, k, Idx::w_U_2) - 1.0/2.0*state_fab(i, j - 1, k, Idx::w_U_2))/dx[1];\n",
      "        amrex::Real dDw_UL_22 = ((1.0/2.0)*state_fab(i, j, k + 1, Idx::w_U_2) - 1.0/2.0*state_fab(i, j, k - 1, Idx::w_U_2))/dx[2];\n",
      "\n",
      "        amrex::Real dDDw_ULL_000 = (state_fab(i + 1, j, k, Idx::w_U_0) + state_fab(i - 1, j, k, Idx::w_U_0) - 2*state_fab(i, j, k, Idx::w_U_0))/std::pow(dx[0], 2);\n",
      "        amrex::Real dDDw_ULL_001 = ((1.0/4.0)*state_fab(i + 1, j + 1, k, Idx::w_U_0) - 1.0/4.0*state_fab(i + 1, j - 1, k, Idx::w_U_0) - 1.0/4.0*state_fab(i - 1, j + 1, k, Idx::w_U_0) + (1.0/4.0)*state_fab(i - 1, j - 1, k, Idx::w_U_0))/(dx[0]*dx[1]);\n",
      "        amrex::Real dDDw_ULL_002 = ((1.0/4.0)*state_fab(i + 1, j, k + 1, Idx::w_U_0) - 1.0/4.0*state_fab(i + 1, j, k - 1, Idx::w_U_0) - 1.0/4.0*state_fab(i - 1, j, k + 1, Idx::w_U_0) + (1.0/4.0)*state_fab(i - 1, j, k - 1, Idx::w_U_0))/(dx[0]*dx[2]);\n",
      "        amrex::Real dDDw_ULL_011 = (state_fab(i, j + 1, k, Idx::w_U_0) + state_fab(i, j - 1, k, Idx::w_U_0) - 2*state_fab(i, j, k, Idx::w_U_0))/std::pow(dx[1], 2);\n",
      "        amrex::Real dDDw_ULL_012 = ((1.0/4.0)*state_fab(i, j + 1, k + 1, Idx::w_U_0) - 1.0/4.0*state_fab(i, j + 1, k - 1, Idx::w_U_0) - 1.0/4.0*state_fab(i, j - 1, k + 1, Idx::w_U_0) + (1.0/4.0)*state_fab(i, j - 1, k - 1, Idx::w_U_0))/(dx[1]*dx[2]);\n",
      "        amrex::Real dDDw_ULL_022 = (state_fab(i, j, k + 1, Idx::w_U_0) + state_fab(i, j, k - 1, Idx::w_U_0) - 2*state_fab(i, j, k, Idx::w_U_0))/std::pow(dx[2], 2);\n",
      "        amrex::Real dDDw_ULL_100 = (state_fab(i + 1, j, k, Idx::w_U_1) + state_fab(i - 1, j, k, Idx::w_U_1) - 2*state_fab(i, j, k, Idx::w_U_1))/std::pow(dx[0], 2);\n",
      "        amrex::Real dDDw_ULL_101 = ((1.0/4.0)*state_fab(i + 1, j + 1, k, Idx::w_U_1) - 1.0/4.0*state_fab(i + 1, j - 1, k, Idx::w_U_1) - 1.0/4.0*state_fab(i - 1, j + 1, k, Idx::w_U_1) + (1.0/4.0)*state_fab(i - 1, j - 1, k, Idx::w_U_1))/(dx[0]*dx[1]);\n",
      "        amrex::Real dDDw_ULL_102 = ((1.0/4.0)*state_fab(i + 1, j, k + 1, Idx::w_U_1) - 1.0/4.0*state_fab(i + 1, j, k - 1, Idx::w_U_1) - 1.0/4.0*state_fab(i - 1, j, k + 1, Idx::w_U_1) + (1.0/4.0)*state_fab(i - 1, j, k - 1, Idx::w_U_1))/(dx[0]*dx[2]);\n",
      "        amrex::Real dDDw_ULL_111 = (state_fab(i, j + 1, k, Idx::w_U_1) + state_fab(i, j - 1, k, Idx::w_U_1) - 2*state_fab(i, j, k, Idx::w_U_1))/std::pow(dx[1], 2);\n",
      "        amrex::Real dDDw_ULL_112 = ((1.0/4.0)*state_fab(i, j + 1, k + 1, Idx::w_U_1) - 1.0/4.0*state_fab(i, j + 1, k - 1, Idx::w_U_1) - 1.0/4.0*state_fab(i, j - 1, k + 1, Idx::w_U_1) + (1.0/4.0)*state_fab(i, j - 1, k - 1, Idx::w_U_1))/(dx[1]*dx[2]);\n",
      "        amrex::Real dDDw_ULL_122 = (state_fab(i, j, k + 1, Idx::w_U_1) + state_fab(i, j, k - 1, Idx::w_U_1) - 2*state_fab(i, j, k, Idx::w_U_1))/std::pow(dx[2], 2);\n",
      "        amrex::Real dDDw_ULL_200 = (state_fab(i + 1, j, k, Idx::w_U_2) + state_fab(i - 1, j, k, Idx::w_U_2) - 2*state_fab(i, j, k, Idx::w_U_2))/std::pow(dx[0], 2);\n",
      "        amrex::Real dDDw_ULL_201 = ((1.0/4.0)*state_fab(i + 1, j + 1, k, Idx::w_U_2) - 1.0/4.0*state_fab(i + 1, j - 1, k, Idx::w_U_2) - 1.0/4.0*state_fab(i - 1, j + 1, k, Idx::w_U_2) + (1.0/4.0)*state_fab(i - 1, j - 1, k, Idx::w_U_2))/(dx[0]*dx[1]);\n",
      "        amrex::Real dDDw_ULL_202 = ((1.0/4.0)*state_fab(i + 1, j, k + 1, Idx::w_U_2) - 1.0/4.0*state_fab(i + 1, j, k - 1, Idx::w_U_2) - 1.0/4.0*state_fab(i - 1, j, k + 1, Idx::w_U_2) + (1.0/4.0)*state_fab(i - 1, j, k - 1, Idx::w_U_2))/(dx[0]*dx[2]);\n",
      "        amrex::Real dDDw_ULL_211 = (state_fab(i, j + 1, k, Idx::w_U_2) + state_fab(i, j - 1, k, Idx::w_U_2) - 2*state_fab(i, j, k, Idx::w_U_2))/std::pow(dx[1], 2);\n",
      "        amrex::Real dDDw_ULL_212 = ((1.0/4.0)*state_fab(i, j + 1, k + 1, Idx::w_U_2) - 1.0/4.0*state_fab(i, j + 1, k - 1, Idx::w_U_2) - 1.0/4.0*state_fab(i, j - 1, k + 1, Idx::w_U_2) + (1.0/4.0)*state_fab(i, j - 1, k - 1, Idx::w_U_2))/(dx[1]*dx[2]);\n",
      "        amrex::Real dDDw_ULL_222 = (state_fab(i, j, k + 1, Idx::w_U_2) + state_fab(i, j, k - 1, Idx::w_U_2) - 2*state_fab(i, j, k, Idx::w_U_2))/std::pow(dx[2], 2);\n",
      "\n",
      "        amrex::Real dKODw_U_0 = ((1.0/4.0)*state_fab(i, j, k + 1, Idx::w_U_0) - 1.0/16.0*state_fab(i, j, k + 2, Idx::w_U_0) + (1.0/4.0)*state_fab(i, j, k - 1, Idx::w_U_0) - 1.0/16.0*state_fab(i, j, k - 2, Idx::w_U_0) - 3.0/8.0*state_fab(i, j, k, Idx::w_U_0))/dx[2] + ((1.0/4.0)*state_fab(i, j + 1, k, Idx::w_U_0) - 1.0/16.0*state_fab(i, j + 2, k, Idx::w_U_0) + (1.0/4.0)*state_fab(i, j - 1, k, Idx::w_U_0) - 1.0/16.0*state_fab(i, j - 2, k, Idx::w_U_0) - 3.0/8.0*state_fab(i, j, k, Idx::w_U_0))/dx[1] + ((1.0/4.0)*state_fab(i + 1, j, k, Idx::w_U_0) - 1.0/16.0*state_fab(i + 2, j, k, Idx::w_U_0) + (1.0/4.0)*state_fab(i - 1, j, k, Idx::w_U_0) - 1.0/16.0*state_fab(i - 2, j, k, Idx::w_U_0) - 3.0/8.0*state_fab(i, j, k, Idx::w_U_0))/dx[0];\n",
      "        amrex::Real dKODw_U_1 = ((1.0/4.0)*state_fab(i, j, k + 1, Idx::w_U_1) - 1.0/16.0*state_fab(i, j, k + 2, Idx::w_U_1) + (1.0/4.0)*state_fab(i, j, k - 1, Idx::w_U_1) - 1.0/16.0*state_fab(i, j, k - 2, Idx::w_U_1) - 3.0/8.0*state_fab(i, j, k, Idx::w_U_1))/dx[2] + ((1.0/4.0)*state_fab(i, j + 1, k, Idx::w_U_1) - 1.0/16.0*state_fab(i, j + 2, k, Idx::w_U_1) + (1.0/4.0)*state_fab(i, j - 1, k, Idx::w_U_1) - 1.0/16.0*state_fab(i, j - 2, k, Idx::w_U_1) - 3.0/8.0*state_fab(i, j, k, Idx::w_U_1))/dx[1] + ((1.0/4.0)*state_fab(i + 1, j, k, Idx::w_U_1) - 1.0/16.0*state_fab(i + 2, j, k, Idx::w_U_1) + (1.0/4.0)*state_fab(i - 1, j, k, Idx::w_U_1) - 1.0/16.0*state_fab(i - 2, j, k, Idx::w_U_1) - 3.0/8.0*state_fab(i, j, k, Idx::w_U_1))/dx[0];\n",
      "        amrex::Real dKODw_U_2 = ((1.0/4.0)*state_fab(i, j, k + 1, Idx::w_U_2) - 1.0/16.0*state_fab(i, j, k + 2, Idx::w_U_2) + (1.0/4.0)*state_fab(i, j, k - 1, Idx::w_U_2) - 1.0/16.0*state_fab(i, j, k - 2, Idx::w_U_2) - 3.0/8.0*state_fab(i, j, k, Idx::w_U_2))/dx[2] + ((1.0/4.0)*state_fab(i, j + 1, k, Idx::w_U_2) - 1.0/16.0*state_fab(i, j + 2, k, Idx::w_U_2) + (1.0/4.0)*state_fab(i, j - 1, k, Idx::w_U_2) - 1.0/16.0*state_fab(i, j - 2, k, Idx::w_U_2) - 3.0/8.0*state_fab(i, j, k, Idx::w_U_2))/dx[1] + ((1.0/4.0)*state_fab(i + 1, j, k, Idx::w_U_2) - 1.0/16.0*state_fab(i + 2, j, k, Idx::w_U_2) + (1.0/4.0)*state_fab(i - 1, j, k, Idx::w_U_2) - 1.0/16.0*state_fab(i - 2, j, k, Idx::w_U_2) - 3.0/8.0*state_fab(i, j, k, Idx::w_U_2))/dx[0];\n",
      "\n",
      "        amrex::Real Atilde_UU_00 = 2*dDw_UL_00;\n",
      "        amrex::Real Atilde_UU_01 = dDw_UL_01 + dDw_UL_10;\n",
      "        amrex::Real Atilde_UU_02 = dDw_UL_02 + dDw_UL_20;\n",
      "        amrex::Real Atilde_UU_11 = 2*dDw_UL_11;\n",
      "        amrex::Real Atilde_UU_12 = dDw_UL_12 + dDw_UL_21;\n",
      "        amrex::Real Atilde_UU_22 = 2*dDw_UL_22;\n",
      "\n",
      "        amrex::Real AA = std::pow(Atilde_UU_00, 2) + 2*std::pow(Atilde_UU_01, 2) + 2*std::pow(Atilde_UU_02, 2) + std::pow(Atilde_UU_11, 2) + 2*std::pow(Atilde_UU_12, 2) + std::pow(Atilde_UU_22, 2);\n",
      "\n",
      "\n"
     ]
    }
   ],
   "source": [
    "print(RHSString.replace(\"state_fabIdx\",\"Idx\"))"
   ]
  },
  {
   "cell_type": "code",
   "execution_count": null,
   "id": "c66df5d7",
   "metadata": {},
   "outputs": [],
   "source": []
  }
 ],
 "metadata": {
  "kernelspec": {
   "display_name": "Python 3",
   "language": "python",
   "name": "python3"
  },
  "language_info": {
   "codemirror_mode": {
    "name": "ipython",
    "version": 3
   },
   "file_extension": ".py",
   "mimetype": "text/x-python",
   "name": "python",
   "nbconvert_exporter": "python",
   "pygments_lexer": "ipython3",
   "version": "3.8.10"
  }
 },
 "nbformat": 4,
 "nbformat_minor": 5
}
