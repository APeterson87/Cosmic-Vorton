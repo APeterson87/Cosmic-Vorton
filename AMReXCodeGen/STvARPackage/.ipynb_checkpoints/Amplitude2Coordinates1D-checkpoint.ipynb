{
 "cells": [
  {
   "cell_type": "code",
   "execution_count": 1,
   "metadata": {},
   "outputs": [],
   "source": [
    "from STvAR_v3 import *"
   ]
  },
  {
   "cell_type": "code",
   "execution_count": null,
   "metadata": {},
   "outputs": [],
   "source": []
  },
  {
   "cell_type": "code",
   "execution_count": 2,
   "metadata": {},
   "outputs": [],
   "source": [
    "fileAmplitudes = open('AmpF.txt', 'r')\n",
    "AF = np.zeros((50))\n",
    "n=0\n",
    "for line in fileAmplitudes:\n",
    "    AF[n] = line\n",
    "    n = n+1\n",
    "fileAmplitudes.close()\n",
    "\n",
    "fileAmplitudes = open('AmpG.txt', 'r')\n",
    "AG = np.zeros((50))\n",
    "n=0\n",
    "for line in fileAmplitudes:\n",
    "    AG[n] = line\n",
    "    n = n+1\n",
    "fileAmplitudes.close()\n",
    "\n",
    "fileAmplitudes = open('AmpA.txt', 'r')\n",
    "AA = np.zeros((50))\n",
    "n=0\n",
    "for line in fileAmplitudes:\n",
    "    AA[n] = line\n",
    "    n = n+1\n",
    "fileAmplitudes.close()\n",
    "\n",
    "fileAmplitudes = open('AmpU.txt', 'r')\n",
    "AU = np.zeros((50))\n",
    "n=0\n",
    "for line in fileAmplitudes:\n",
    "    AU[n] = line\n",
    "    n = n+1\n",
    "fileAmplitudes.close()\n",
    "\n",
    "fileAmplitudes = open('AmpW.txt', 'r')\n",
    "AW = np.zeros((50))\n",
    "n=0\n",
    "for line in fileAmplitudes:\n",
    "    AW[n] = line\n",
    "    n = n+1\n",
    "fileAmplitudes.close()\n",
    "\n",
    "fileAmplitudes = open('AmpDF.txt', 'r')\n",
    "ADF = np.zeros((50))\n",
    "n=0\n",
    "for line in fileAmplitudes:\n",
    "    ADF[n] = line\n",
    "    n = n+1\n",
    "fileAmplitudes.close()\n",
    "\n",
    "fileAmplitudes = open('AmpDG.txt', 'r')\n",
    "ADG = np.zeros((50))\n",
    "n=0\n",
    "for line in fileAmplitudes:\n",
    "    ADG[n] = line\n",
    "    n = n+1\n",
    "fileAmplitudes.close()\n",
    "\n",
    "fileAmplitudes = open('AmpDA.txt', 'r')\n",
    "ADA = np.zeros((50))\n",
    "n=0\n",
    "for line in fileAmplitudes:\n",
    "    ADA[n] = line\n",
    "    n = n+1\n",
    "fileAmplitudes.close()\n",
    "\n",
    "fileAmplitudes = open('AmpDW.txt', 'r')\n",
    "ADW = np.zeros((50))\n",
    "n=0\n",
    "for line in fileAmplitudes:\n",
    "    ADW[n] = line\n",
    "    n = n+1\n",
    "fileAmplitudes.close()"
   ]
  },
  {
   "cell_type": "code",
   "execution_count": 3,
   "metadata": {},
   "outputs": [],
   "source": [
    "AF[0] = 1/2*AF[0]\n",
    "AF[49] = 1/2*AF[49]\n",
    "\n",
    "AG[0] = 1/2*AG[0]\n",
    "AG[49] = 1/2*AG[49]\n",
    "\n",
    "AA[0] = 1/2*AA[0]\n",
    "AA[49] = 1/2*AA[49]\n",
    "\n",
    "AU[0] = 1/2*AU[0]\n",
    "AU[49] = 1/2*AU[49]\n",
    "\n",
    "AW[0] = 1/2*AW[0]\n",
    "AW[49] = 1/2*AW[49]\n",
    "\n",
    "ADF[0] = 1/2*ADF[0]\n",
    "ADF[49] = 1/2*ADF[49]\n",
    "\n",
    "ADG[0] = 1/2*ADG[0]\n",
    "ADG[49] = 1/2*ADG[49]\n",
    "\n",
    "ADA[0] = 1/2*ADA[0]\n",
    "ADA[49] = 1/2*ADA[49]\n",
    "\n",
    "ADW[0] = 1/2*ADW[0]\n",
    "ADW[49] = 1/2*ADW[49]"
   ]
  },
  {
   "cell_type": "code",
   "execution_count": 4,
   "metadata": {},
   "outputs": [],
   "source": [
    "QF = stvar('QF')\n",
    "QF.expr = 0\n",
    "\n",
    "QG = stvar('QG')\n",
    "QG.expr = 0\n",
    "\n",
    "QA = stvar('QA')\n",
    "QA.expr = 0\n",
    "\n",
    "QU = stvar('QU')\n",
    "QU.expr = 0\n",
    "\n",
    "QW = stvar('QW')\n",
    "QW.expr = 0\n",
    "\n",
    "QDF = stvar('QDF')\n",
    "QDF.expr = 0\n",
    "\n",
    "QDG = stvar('QDG')\n",
    "QDG.expr = 0\n",
    "\n",
    "QDA = stvar('QDA')\n",
    "QDA.expr = 0\n",
    "\n",
    "QDW = stvar('QDW')\n",
    "QDW.expr = 0"
   ]
  },
  {
   "cell_type": "code",
   "execution_count": 5,
   "metadata": {},
   "outputs": [],
   "source": [
    "x2 = stvar('x2')"
   ]
  },
  {
   "cell_type": "code",
   "execution_count": 6,
   "metadata": {},
   "outputs": [],
   "source": [
    "QF.expr = 0\n",
    "for n in range(50):\n",
    "    QF.expr += AF[n]*sp.cos(n*sp.acos(-1+2*x2.symb))\n",
    "    \n",
    "QG.expr = 0\n",
    "for n in range(50):\n",
    "    QG.expr += AG[n]*sp.cos(n*sp.acos(-1+2*x2.symb))\n",
    "        \n",
    "QA.expr = 0\n",
    "for n in range(50):\n",
    "    QA.expr += AA[n]*sp.cos(n*sp.acos(-1+2*x2.symb))\n",
    "    \n",
    "QU.expr = 0\n",
    "for n in range(50):\n",
    "    QU.expr += AU[n]*sp.cos(n*sp.acos(-1+2*x2.symb))\n",
    "    \n",
    "QW.expr = 0\n",
    "for n in range(50):\n",
    "    QW.expr += AW[n]*sp.cos(n*sp.acos(-1+2*x2.symb))\n",
    "    \n",
    "QDF.expr = 0\n",
    "for n in range(50):\n",
    "    QDF.expr += ADF[n]*sp.cos(n*sp.acos(-1+2*x2.symb))\n",
    "    \n",
    "QDG.expr = 0\n",
    "for n in range(50):\n",
    "    QDG.expr += ADG[n]*sp.cos(n*sp.acos(-1+2*x2.symb))\n",
    "    \n",
    "QDA.expr = 0\n",
    "for n in range(50):\n",
    "    QDA.expr += ADA[n]*sp.cos(n*sp.acos(-1+2*x2.symb))\n",
    "    \n",
    "QDW.expr = 0\n",
    "for n in range(50):\n",
    "    QDW.expr += ADW[n]*sp.cos(n*sp.acos(-1+2*x2.symb))"
   ]
  },
  {
   "cell_type": "code",
   "execution_count": 7,
   "metadata": {
    "scrolled": false
   },
   "outputs": [
    {
     "name": "stdout",
     "output_type": "stream",
     "text": [
      "         QF = 0.26005796664667624*x2 - 0.12461631661829189*std::cos(2*std::acos(2*x2 - 1)) + 0.11617620187182587*std::cos(3*std::acos(2*x2 - 1)) - 0.1054650146175222*std::cos(4*std::acos(2*x2 - 1)) + 0.09334645865693797*std::cos(5*std::acos(2*x2 - 1)) - 0.080663214186297905*std::cos(6*std::acos(2*x2 - 1)) + 0.068138364641475699*std::cos(7*std::acos(2*x2 - 1)) - 0.056320305653089819*std::cos(8*std::acos(2*x2 - 1)) + 0.045570533512133242*std::cos(9*std::acos(2*x2 - 1)) - 0.036082831328806908*std::cos(10*std::acos(2*x2 - 1)) + 0.027919240452111443*std::cos(11*std::acos(2*x2 - 1)) - 0.021049587070197714*std::cos(12*std::acos(2*x2 - 1)) + 0.01538636727581064*std::cos(13*std::acos(2*x2 - 1)) - 0.010811225741785817*std::cos(14*std::acos(2*x2 - 1)) + 0.0071930460736055121*std::cos(15*std::acos(2*x2 - 1)) - 0.0043991794162670135*std::cos(16*std::acos(2*x2 - 1)) + 0.002302009255212685*std::cos(17*std::acos(2*x2 - 1)) - 0.00078256136396004719*std::cos(18*std::acos(2*x2 - 1)) - 0.00026753145290902419*std::cos(19*std::acos(2*x2 - 1)) + 0.00094503682222471866*std::cos(20*std::acos(2*x2 - 1)) - 0.0013346905891958583*std::cos(21*std::acos(2*x2 - 1)) + 0.0015091953318529319*std::cos(22*std::acos(2*x2 - 1)) - 0.0015295510655180776*std::cos(23*std::acos(2*x2 - 1)) + 0.0014456913150764604*std::cos(24*std::acos(2*x2 - 1)) - 0.0012973592107509736*std::cos(25*std::acos(2*x2 - 1)) + 0.0011151732016694942*std::cos(26*std::acos(2*x2 - 1)) - 0.00092180550129570757*std::cos(27*std::acos(2*x2 - 1)) + 0.00073320980082354839*std::cos(28*std::acos(2*x2 - 1)) - 0.00055983127135711755*std::cos(29*std::acos(2*x2 - 1)) + 0.00040774992261132306*std::cos(30*std::acos(2*x2 - 1)) - 0.00027971709839445802*std::cos(31*std::acos(2*x2 - 1)) + 0.00017606205167765634*std::cos(32*std::acos(2*x2 - 1)) - 9.5456174447356573e-5*std::cos(33*std::acos(2*x2 - 1)) + 3.5534482206136392e-5*std::cos(34*std::acos(2*x2 - 1)) + 6.6185176528510414e-6*std::cos(35*std::acos(2*x2 - 1)) - 3.4105607164301027e-5*std::cos(36*std::acos(2*x2 - 1)) + 4.9959585442217735e-5*std::cos(37*std::acos(2*x2 - 1)) - 5.697480396162774e-5*std::cos(38*std::acos(2*x2 - 1)) + 5.7608573976467708e-5*std::cos(39*std::acos(2*x2 - 1)) - 5.3937885151723181e-5*std::cos(40*std::acos(2*x2 - 1)) + 4.7653248077310362e-5*std::cos(41*std::acos(2*x2 - 1)) - 4.0082872830644878e-5*std::cos(42*std::acos(2*x2 - 1)) + 3.2227037249771967e-5*std::cos(43*std::acos(2*x2 - 1)) - 2.4811722475336084e-5*std::cos(44*std::acos(2*x2 - 1)) + 1.8325824273458108e-5*std::cos(45*std::acos(2*x2 - 1)) - 1.3090874666055186e-5*std::cos(46*std::acos(2*x2 - 1)) + 9.2667244503408241e-6*std::cos(47*std::acos(2*x2 - 1)) - 6.9646274018543564e-6*std::cos(48*std::acos(2*x2 - 1)) + 3.077790294929092e-6*std::cos(49*std::acos(2*x2 - 1)) + 0.80402356813839038;\n",
      "\n",
      "\n",
      "         QG = -0.35754232248511858*x2 + 0.15608548720369442*std::cos(2*std::acos(2*x2 - 1)) - 0.12486421661464829*std::cos(3*std::acos(2*x2 - 1)) + 0.091808026841730325*std::cos(4*std::acos(2*x2 - 1)) - 0.06212168844407006*std::cos(5*std::acos(2*x2 - 1)) + 0.038483620523462013*std::cos(6*std::acos(2*x2 - 1)) - 0.021338273467366269*std::cos(7*std::acos(2*x2 - 1)) + 0.0098058469051768953*std::cos(8*std::acos(2*x2 - 1)) - 0.0025455071672251745*std::cos(9*std::acos(2*x2 - 1)) - 0.0017180421430708487*std::cos(10*std::acos(2*x2 - 1)) + 0.0039885901173244073*std::cos(11*std::acos(2*x2 - 1)) - 0.0049822917968185467*std::cos(12*std::acos(2*x2 - 1)) + 0.0051851424492484754*std::cos(13*std::acos(2*x2 - 1)) - 0.0049198808993129034*std::cos(14*std::acos(2*x2 - 1)) + 0.0043991231262898106*std::cos(15*std::acos(2*x2 - 1)) - 0.0037619838663847322*std::cos(16*std::acos(2*x2 - 1)) + 0.0030980486478062149*std::cos(17*std::acos(2*x2 - 1)) - 0.0024630364553298403*std::cos(18*std::acos(2*x2 - 1)) + 0.0018892851028672374*std::cos(19*std::acos(2*x2 - 1)) - 0.001393001446880764*std::cos(20*std::acos(2*x2 - 1)) + 0.00097941972631926193*std::cos(21*std::acos(2*x2 - 1)) - 0.00064654271895247986*std::cos(22*std::acos(2*x2 - 1)) + 0.0003878774734519169*std::cos(23*std::acos(2*x2 - 1)) - 0.00019442955972063156*std::cos(24*std::acos(2*x2 - 1)) + 5.6134762334540995e-5*std::cos(25*std::acos(2*x2 - 1)) + 3.7143237800691702e-5*std::cos(26*std::acos(2*x2 - 1)) - 9.4951627584177625e-5*std::cos(27*std::acos(2*x2 - 1)) + 0.00012584621766472182*std::cos(28*std::acos(2*x2 - 1)) - 0.00013718487310657632*std::cos(29*std::acos(2*x2 - 1)) + 0.00013506423107222332*std::cos(30*std::acos(2*x2 - 1)) - 0.00012435651412282049*std::cos(31*std::acos(2*x2 - 1)) + 0.00010881140324963304*std::cos(32*std::acos(2*x2 - 1)) - 9.119529752751342e-5*std::cos(33*std::acos(2*x2 - 1)) + 7.34468842843185e-5*std::cos(34*std::acos(2*x2 - 1)) - 5.6833720296890238e-5*std::cos(35*std::acos(2*x2 - 1)) + 4.2099425005885097e-5*std::cos(36*std::acos(2*x2 - 1)) - 2.9595091175899913e-5*std::cos(37*std::acos(2*x2 - 1)) + 1.939165391062395e-5*std::cos(38*std::acos(2*x2 - 1)) - 1.1372295662746267e-5*std::cos(39*std::acos(2*x2 - 1)) + 5.3056032266421663e-6*std::cos(40*std::acos(2*x2 - 1)) - 9.0124997945408883e-7*std::cos(41*std::acos(2*x2 - 1)) - 2.1494271744385998e-6*std::cos(42*std::acos(2*x2 - 1)) + 4.1453415722360761e-6*std::cos(43*std::acos(2*x2 - 1)) - 5.3574619996423261e-6*std::cos(44*std::acos(2*x2 - 1)) + 6.0181156309194265e-6*std::cos(45*std::acos(2*x2 - 1)) - 6.315762337769154e-6*std::cos(46*std::acos(2*x2 - 1)) + 6.3935234957617817e-6*std::cos(47*std::acos(2*x2 - 1)) - 6.3525617977737233e-6*std::cos(48*std::acos(2*x2 - 1)) + 3.1243709306815226e-6*std::cos(49*std::acos(2*x2 - 1)) + 0.27232439006011511;\n",
      "\n",
      "\n",
      "         QA = 0.30344547521606563*x2 - 0.14596694284308137*std::cos(2*std::acos(2*x2 - 1)) + 0.13675775239183841*std::cos(3*std::acos(2*x2 - 1)) - 0.12463540834576639*std::cos(4*std::acos(2*x2 - 1)) + 0.11028844234994814*std::cos(5*std::acos(2*x2 - 1)) - 0.094496358886943688*std::cos(6*std::acos(2*x2 - 1)) + 0.078066264287156142*std::cos(7*std::acos(2*x2 - 1)) - 0.061772641757538549*std::cos(8*std::acos(2*x2 - 1)) + 0.046303727175987519*std::cos(9*std::acos(2*x2 - 1)) - 0.032221313058086079*std::cos(10*std::acos(2*x2 - 1)) + 0.019934693810221456*std::cos(11*std::acos(2*x2 - 1)) - 0.0096913952895848546*std::cos(12*std::acos(2*x2 - 1)) + 0.0015820277722112669*std::cos(13*std::acos(2*x2 - 1)) + 0.0044418479120719966*std::cos(14*std::acos(2*x2 - 1)) - 0.0085415612247200616*std::cos(15*std::acos(2*x2 - 1)) + 0.010959769886103039*std::cos(16*std::acos(2*x2 - 1)) - 0.011988158608013156*std::cos(17*std::acos(2*x2 - 1)) + 0.011936943728265415*std::cos(18*std::acos(2*x2 - 1)) - 0.011109187013162356*std::cos(19*std::acos(2*x2 - 1)) + 0.00978092702492964*std::cos(20*std::acos(2*x2 - 1)) - 0.0081880373005700745*std::cos(21*std::acos(2*x2 - 1)) + 0.0065192716724033171*std::cos(22*std::acos(2*x2 - 1)) - 0.0049148765354180626*std::cos(23*std::acos(2*x2 - 1)) + 0.0034694035218712331*std::cos(24*std::acos(2*x2 - 1)) - 0.002237514546252959*std::cos(25*std::acos(2*x2 - 1)) + 0.0012413977965343853*std::cos(26*std::acos(2*x2 - 1)) - 0.00047875155675303899*std::cos(27*std::acos(2*x2 - 1)) - 6.9574444973966726e-5*std::cos(28*std::acos(2*x2 - 1)) + 0.0004328318953938648*std::cos(29*std::acos(2*x2 - 1)) - 0.00064487350426358295*std::cos(30*std::acos(2*x2 - 1)) + 0.00073999280347635324*std::cos(31*std::acos(2*x2 - 1)) - 0.0007500625783859946*std::cos(32*std::acos(2*x2 - 1)) + 0.00070280415434859078*std::cos(33*std::acos(2*x2 - 1)) - 0.00062097555756001135*std::cos(34*std::acos(2*x2 - 1)) + 0.00052224344175609907*std::cos(35*std::acos(2*x2 - 1)) - 0.00041952040970094986*std::cos(36*std::acos(2*x2 - 1)) + 0.00032158015222568184*std::cos(37*std::acos(2*x2 - 1)) - 0.00023379883013923894*std::cos(38*std::acos(2*x2 - 1)) + 0.00015891909077718133*std::cos(39*std::acos(2*x2 - 1)) - 9.7755856706592537e-5*std::cos(40*std::acos(2*x2 - 1)) + 4.9817697265978206e-5*std::cos(41*std::acos(2*x2 - 1)) - 1.3799582730723153e-5*std::cos(42*std::acos(2*x2 - 1)) - 1.2010326537473942e-5*std::cos(43*std::acos(2*x2 - 1)) + 2.9479362733675352e-5*std::cos(44*std::acos(2*x2 - 1)) - 4.0386325489433911e-5*std::cos(45*std::acos(2*x2 - 1)) + 4.6413634528837816e-5*std::cos(46*std::acos(2*x2 - 1)) - 4.8935097074372796e-5*std::cos(47*std::acos(2*x2 - 1)) + 4.9391833721112305e-5*std::cos(48*std::acos(2*x2 - 1)) - 2.4416096648568683e-5*std::cos(49*std::acos(2*x2 - 1)) + 0.77143683696426668;\n",
      "\n",
      "\n",
      "         QU = -0.018337146439863797*x2 + 0.0070078311207971604*std::cos(2*std::acos(2*x2 - 1)) - 0.0050311322446984826*std::cos(3*std::acos(2*x2 - 1)) + 0.0034860636080965707*std::cos(4*std::acos(2*x2 - 1)) - 0.0023332397833438052*std::cos(5*std::acos(2*x2 - 1)) + 0.0014905514551152832*std::cos(6*std::acos(2*x2 - 1)) - 0.00089277511094256715*std::cos(7*std::acos(2*x2 - 1)) + 0.00048251842309513621*std::cos(8*std::acos(2*x2 - 1)) - 0.00021093564996129443*std::cos(9*std::acos(2*x2 - 1)) + 3.8663519002404264e-5*std::cos(10*std::acos(2*x2 - 1)) + 6.4601885708618563e-5*std::cos(11*std::acos(2*x2 - 1)) - 0.00012130440018425446*std::cos(12*std::acos(2*x2 - 1)) + 0.00014751702343932413*std::cos(13*std::acos(2*x2 - 1)) - 0.00015441610428736796*std::cos(14*std::acos(2*x2 - 1)) + 0.00014957506718556561*std::cos(15*std::acos(2*x2 - 1)) - 0.00013801186564184903*std::cos(16*std::acos(2*x2 - 1)) + 0.0001229876377128674*std::cos(17*std::acos(2*x2 - 1)) - 0.00010658688193696443*std::cos(18*std::acos(2*x2 - 1)) + 9.012170987152956e-5*std::cos(19*std::acos(2*x2 - 1)) - 7.4403183792611148e-5*std::cos(20*std::acos(2*x2 - 1)) + 5.9917477831405888e-5*std::cos(21*std::acos(2*x2 - 1)) - 4.693722843353101e-5*std::cos(22*std::acos(2*x2 - 1)) + 3.5590930058879104e-5*std::cos(23*std::acos(2*x2 - 1)) - 2.5906559200424643e-5*std::cos(24*std::acos(2*x2 - 1)) + 1.7840182069872059e-5*std::cos(25*std::acos(2*x2 - 1)) - 1.1296198975068237e-5*std::cos(26*std::acos(2*x2 - 1)) + 6.1429928111520388e-6*std::cos(27*std::acos(2*x2 - 1)) - 2.2258733957228756e-6*std::cos(28*std::acos(2*x2 - 1)) - 6.2189703559166402e-7*std::cos(29*std::acos(2*x2 - 1)) + 2.5697795522591598e-6*std::cos(30*std::acos(2*x2 - 1)) - 3.7823418133615718e-6*std::cos(31*std::acos(2*x2 - 1)) + 4.4133845506574263e-6*std::cos(32*std::acos(2*x2 - 1)) - 4.6017851938287045e-6*std::cos(33*std::acos(2*x2 - 1)) + 4.4689449921897958e-6*std::cos(34*std::acos(2*x2 - 1)) - 4.1176482847885212e-6*std::cos(35*std::acos(2*x2 - 1)) + 3.6320904946512315e-6*std::cos(36*std::acos(2*x2 - 1)) - 3.0788084016343361e-6*std::cos(37*std::acos(2*x2 - 1)) + 2.5082491470323114e-6*std::cos(38*std::acos(2*x2 - 1)) - 1.9567373095131423e-6*std::cos(39*std::acos(2*x2 - 1)) + 1.4486355357474359e-6*std::cos(40*std::acos(2*x2 - 1)) - 9.985370771183129e-7*std::cos(41*std::acos(2*x2 - 1)) + 6.1337233485992335e-7*std::cos(42*std::acos(2*x2 - 1)) - 2.9435163954998236e-7*std::cos(43*std::acos(2*x2 - 1)) + 3.8700510448885838e-8*std::cos(44*std::acos(2*x2 - 1)) + 1.5882920779265299e-7*std::cos(45*std::acos(2*x2 - 1)) - 3.046700932785424e-7*std::cos(46*std::acos(2*x2 - 1)) + 4.0536394992766625e-7*std::cos(47*std::acos(2*x2 - 1)) - 4.6670641143359604e-7*std::cos(48*std::acos(2*x2 - 1)) + 2.4154077414037033e-7*std::cos(49*std::acos(2*x2 - 1)) + 0.01428611908407236;\n",
      "\n",
      "\n",
      "         QW = 0.0078641601166254127*x2 - 0.0027591617171332742*std::cos(2*std::acos(2*x2 - 1)) + 0.0017360814967613959*std::cos(3*std::acos(2*x2 - 1)) - 0.00099853970385825543*std::cos(4*std::acos(2*x2 - 1)) + 0.00050775724665516489*std::cos(5*std::acos(2*x2 - 1)) - 0.00019934851455592179*std::cos(6*std::acos(2*x2 - 1)) + 2.1906847834586794e-5*std::cos(7*std::acos(2*x2 - 1)) + 6.7053196784061075e-5*std::cos(8*std::acos(2*x2 - 1)) - 0.00010067352139982206*std::cos(9*std::acos(2*x2 - 1)) + 0.00010289446171254723*std::cos(10*std::acos(2*x2 - 1)) - 8.9733896734310007e-5*std::cos(11*std::acos(2*x2 - 1)) + 7.1058905616464479e-5*std::cos(12*std::acos(2*x2 - 1)) - 5.2355797477034065e-5*std::cos(13*std::acos(2*x2 - 1)) + 3.6232667730293002e-5*std::cos(14*std::acos(2*x2 - 1)) - 2.3561176219661788e-5*std::cos(15*std::acos(2*x2 - 1)) + 1.4270463598946142e-5*std::cos(16*std::acos(2*x2 - 1)) - 7.8566283823383483e-6*std::cos(17*std::acos(2*x2 - 1)) + 3.6833907555552697e-6*std::cos(18*std::acos(2*x2 - 1)) - 1.1415959198317886e-6*std::cos(19*std::acos(2*x2 - 1)) - 2.7995462413972296e-7*std::cos(20*std::acos(2*x2 - 1)) + 9.7514369747559756e-7*std::cos(21*std::acos(2*x2 - 1)) - 1.2280262998610352e-6*std::cos(22*std::acos(2*x2 - 1)) + 1.2318628371071543e-6*std::cos(23*std::acos(2*x2 - 1)) - 1.1108712469576789e-6*std::cos(24*std::acos(2*x2 - 1)) + 9.4014167339187342e-7*std::cos(25*std::acos(2*x2 - 1)) - 7.6182066040096373e-7*std::cos(26*std::acos(2*x2 - 1)) + 5.9721155636273367e-7*std::cos(27*std::acos(2*x2 - 1)) - 4.5522479805580243e-7*std::cos(28*std::acos(2*x2 - 1)) + 3.3792302610340956e-7*std::cos(29*std::acos(2*x2 - 1)) - 2.4394177667289074e-7*std::cos(30*std::acos(2*x2 - 1)) + 1.7046431477110818e-7*std::cos(31*std::acos(2*x2 - 1)) - 1.1427676779764496e-7*std::cos(32*std::acos(2*x2 - 1)) + 7.22774013652906e-8*std::cos(33*std::acos(2*x2 - 1)) - 4.1685847126084528e-8*std::cos(34*std::acos(2*x2 - 1)) + 2.0101950956492584e-8*std::cos(35*std::acos(2*x2 - 1)) - 5.4980251900855658e-9*std::cos(36*std::acos(2*x2 - 1)) - 3.8131290796774964e-9*std::cos(37*std::acos(2*x2 - 1)) + 9.2157944922275763e-9*std::cos(38*std::acos(2*x2 - 1)) - 1.1827993685305005e-8*std::cos(39*std::acos(2*x2 - 1)) + 1.2535956410939569e-8*std::cos(40*std::acos(2*x2 - 1)) - 1.2026744044314302e-8*std::cos(41*std::acos(2*x2 - 1)) + 1.0819412198704838e-8*std::cos(42*std::acos(2*x2 - 1)) - 9.2946539836397178e-9*std::cos(43*std::acos(2*x2 - 1)) + 7.7224455120719973e-9*std::cos(44*std::acos(2*x2 - 1)) - 6.2869463503653398e-9*std::cos(45*std::acos(2*x2 - 1)) + 5.1078012850929494e-9*std::cos(46*std::acos(2*x2 - 1)) - 4.2571005009173237e-9*std::cos(47*std::acos(2*x2 - 1)) + 3.771697402184331e-9*std::cos(48*std::acos(2*x2 - 1)) - 1.7933069166768232e-9*std::cos(49*std::acos(2*x2 - 1)) - 0.006192829942038053;\n",
      "\n",
      "\n",
      "         QDF = -0.0092350098002562074*x2 + 0.0044238733516144078*std::cos(2*std::acos(2*x2 - 1)) - 0.0041190393844221752*std::cos(3*std::acos(2*x2 - 1)) + 0.0037268157918546804*std::cos(4*std::acos(2*x2 - 1)) - 0.0032753188456217368*std::cos(5*std::acos(2*x2 - 1)) + 0.0027933507385527606*std::cos(6*std::acos(2*x2 - 1)) - 0.0023073597914066326*std::cos(7*std::acos(2*x2 - 1)) + 0.0018394131566033161*std::cos(8*std::acos(2*x2 - 1)) - 0.001406234450394531*std::cos(9*std::acos(2*x2 - 1)) + 0.0010191431432499144*std::cos(10*std::acos(2*x2 - 1)) - 0.00068457746298989665*std::cos(11*std::acos(2*x2 - 1)) + 0.00040491954619166368*std::cos(12*std::acos(2*x2 - 1)) - 0.00017938712070998046*std::cos(13*std::acos(2*x2 - 1)) + 4.873796997716682e-6*std::cos(14*std::acos(2*x2 - 1)) + 0.00012332735141725956*std::cos(15*std::acos(2*x2 - 1)) - 0.00021091769310619372*std::cos(16*std::acos(2*x2 - 1)) + 0.00026410116312471923*std::cos(17*std::acos(2*x2 - 1)) - 0.00028918604691760715*std::cos(18*std::acos(2*x2 - 1)) + 0.00029227338631338738*std::cos(19*std::acos(2*x2 - 1)) - 0.00027901984662395701*std::cos(20*std::acos(2*x2 - 1)) + 0.00025447189452365083*std::cos(21*std::acos(2*x2 - 1)) - 0.00022296281384921363*std::cos(22*std::acos(2*x2 - 1)) + 0.00018806726671980847*std::cos(23*std::acos(2*x2 - 1)) - 0.000152603429655697*std::cos(24*std::acos(2*x2 - 1)) + 0.00011867404889952882*std::cos(25*std::acos(2*x2 - 1)) - 8.7735436684146823e-5*std::cos(26*std::acos(2*x2 - 1)) + 6.0685013418211955e-5*std::cos(27*std::acos(2*x2 - 1)) - 3.7957914725411413e-5*std::cos(28*std::acos(2*x2 - 1)) + 1.9625244042201431e-5*std::cos(29*std::acos(2*x2 - 1)) - 5.4876847515920187e-6*std::cos(30*std::acos(2*x2 - 1)) - 4.8397635469902428e-6*std::cos(31*std::acos(2*x2 - 1)) + 1.1854784020104683e-5*std::cos(32*std::acos(2*x2 - 1)) - 1.6107740488361719e-5*std::cos(33*std::acos(2*x2 - 1)) + 1.8154894683688022e-5*std::cos(34*std::acos(2*x2 - 1)) - 1.8524086486547911e-5*std::cos(35*std::acos(2*x2 - 1)) + 1.7691598216350405e-5*std::cos(36*std::acos(2*x2 - 1)) - 1.6068481542916581e-5*std::cos(37*std::acos(2*x2 - 1)) + 1.3994587045112318e-5*std::cos(38*std::acos(2*x2 - 1)) - 1.1738394276786067e-5*std::cos(39*std::acos(2*x2 - 1)) + 9.5011160282146319e-6*std::cos(40*std::acos(2*x2 - 1)) - 7.423361307131082e-6*std::cos(41*std::acos(2*x2 - 1)) + 5.5935477320906383e-6*std::cos(42*std::acos(2*x2 - 1)) - 4.0563983058778174e-6*std::cos(43*std::acos(2*x2 - 1)) + 2.8220211428420804e-6*std::cos(44*std::acos(2*x2 - 1)) - 1.8729656363291313e-6*std::cos(45*std::acos(2*x2 - 1)) + 1.1726961335638252e-6*std::cos(46*std::acos(2*x2 - 1)) - 6.6860456488431508e-7*std::cos(47*std::acos(2*x2 - 1)) + 3.0162359969897932e-7*std::cos(48*std::acos(2*x2 - 1)) - 1.9734461463983858e-19*std::cos(49*std::acos(2*x2 - 1)) + 0.0069594706242731685;\n",
      "\n",
      "\n",
      "         QDG = 0.0028307709613119721*x2 - 0.0011536472535479713*std::cos(2*std::acos(2*x2 - 1)) + 0.00079104321967007852*std::cos(3*std::acos(2*x2 - 1)) - 0.00040446157926724577*std::cos(4*std::acos(2*x2 - 1)) + 5.6578637703939553e-5*std::cos(5*std::acos(2*x2 - 1)) + 0.00021675561578205605*std::cos(6*std::acos(2*x2 - 1)) - 0.00040522503947945106*std::cos(7*std::acos(2*x2 - 1)) + 0.00051549159369317229*std::cos(8*std::acos(2*x2 - 1)) - 0.00056211866840909133*std::cos(9*std::acos(2*x2 - 1)) + 0.00056131074561279815*std::cos(10*std::acos(2*x2 - 1)) - 0.00052775780836724479*std::cos(11*std::acos(2*x2 - 1)) + 0.00047356171915715012*std::cos(12*std::acos(2*x2 - 1)) - 0.00040818274545606953*std::cos(13*std::acos(2*x2 - 1)) + 0.00033874794806980135*std::cos(14*std::acos(2*x2 - 1)) - 0.00027042601139694165*std::cos(15*std::acos(2*x2 - 1)) + 0.00020677418829422926*std::cos(16*std::acos(2*x2 - 1)) - 0.00015004246748085201*std::cos(17*std::acos(2*x2 - 1)) + 0.00010144048160196843*std::cos(18*std::acos(2*x2 - 1)) - 6.1373110754304677e-5*std::cos(19*std::acos(2*x2 - 1)) + 2.9647611796576591e-5*std::cos(20*std::acos(2*x2 - 1)) - 5.6530250190340043e-6*std::cos(21*std::acos(2*x2 - 1)) - 1.1488037276653946e-5*std::cos(22*std::acos(2*x2 - 1)) + 2.2794868838825672e-5*std::cos(23*std::acos(2*x2 - 1)) - 2.933040997663027e-5*std::cos(24*std::acos(2*x2 - 1)) + 3.2127492371728227e-5*std::cos(25*std::acos(2*x2 - 1)) - 3.2137149496727457e-5*std::cos(26*std::acos(2*x2 - 1)) + 3.0196043040372685e-5*std::cos(27*std::acos(2*x2 - 1)) - 2.7009759043488601e-5*std::cos(28*std::acos(2*x2 - 1)) + 2.3148651327449094e-5*std::cos(29*std::acos(2*x2 - 1)) - 1.9053032424941528e-5*std::cos(30*std::acos(2*x2 - 1)) + 1.5044793411187961e-5*std::cos(31*std::acos(2*x2 - 1)) - 1.1342924694275549e-5*std::cos(32*std::acos(2*x2 - 1)) + 8.0808601212396134e-6*std::cos(33*std::acos(2*x2 - 1)) - 5.3240320480114167e-6*std::cos(34*std::acos(2*x2 - 1)) + 3.0864694927084735e-6*std::cos(35*std::acos(2*x2 - 1)) - 1.3456696380516092e-6*std::cos(36*std::acos(2*x2 - 1)) + 5.5309376710825414e-8*std::cos(37*std::acos(2*x2 - 1)) + 8.4436820398195087e-7*std::cos(38*std::acos(2*x2 - 1)) - 1.418457057382605e-6*std::cos(39*std::acos(2*x2 - 1)) + 1.7314077091945217e-6*std::cos(40*std::acos(2*x2 - 1)) - 1.8429055277398358e-6*std::cos(41*std::acos(2*x2 - 1)) + 1.8053102444607527e-6*std::cos(42*std::acos(2*x2 - 1)) - 1.6623535548096782e-6*std::cos(43*std::acos(2*x2 - 1)) + 1.4488106909968875e-6*std::cos(44*std::acos(2*x2 - 1)) - 1.1908966631088003e-6*std::cos(45*std::acos(2*x2 - 1)) + 9.0718001340360632e-7*std::cos(46*std::acos(2*x2 - 1)) - 6.0984623750754286e-7*std::cos(47*std::acos(2*x2 - 1)) + 3.0618850430191758e-7*std::cos(48*std::acos(2*x2 - 1)) - 2.284910045912112e-18*std::cos(49*std::acos(2*x2 - 1)) - 0.0021709803580581568;\n",
      "\n",
      "\n",
      "         QDA = -0.0058889485478670432*x2 + 0.0027183627939841221*std::cos(2*std::acos(2*x2 - 1)) - 0.0023606062106271645*std::cos(3*std::acos(2*x2 - 1)) + 0.0018978158693596368*std::cos(4*std::acos(2*x2 - 1)) - 0.001363522445319162*std::cos(5*std::acos(2*x2 - 1)) + 0.00079493089441765594*std::cos(6*std::acos(2*x2 - 1)) - 0.00022956557169740208*std::cos(7*std::acos(2*x2 - 1)) - 0.00029799735206664758*std::cos(8*std::acos(2*x2 - 1)) + 0.00075879719060458579*std::cos(9*std::acos(2*x2 - 1)) - 0.0011314648579681728*std::cos(10*std::acos(2*x2 - 1)) + 0.0014032237739796032*std::cos(11*std::acos(2*x2 - 1)) - 0.0015700283410747871*std::cos(12*std::acos(2*x2 - 1)) + 0.0016358173772264442*std::cos(13*std::acos(2*x2 - 1)) - 0.0016111610837186473*std::cos(14*std::acos(2*x2 - 1)) + 0.001511445573502528*std::cos(15*std::acos(2*x2 - 1)) - 0.0013549141188535616*std::cos(16*std::acos(2*x2 - 1)) + 0.0011607327617908368*std::cos(17*std::acos(2*x2 - 1)) - 0.00094731652238232134*std::cos(18*std::acos(2*x2 - 1)) + 0.00073100257270818526*std::cos(19*std::acos(2*x2 - 1)) - 0.00052516720480748726*std::cos(20*std::acos(2*x2 - 1)) + 0.00033976529609235941*std::cos(21*std::acos(2*x2 - 1)) - 0.00018126946623467575*std::cos(22*std::acos(2*x2 - 1)) + 5.2917199082563824e-5*std::cos(23*std::acos(2*x2 - 1)) + 4.4814967436763202e-5*std::cos(24*std::acos(2*x2 - 1)) - 0.00011361425323298581*std::cos(25*std::acos(2*x2 - 1)) + 0.00015669075068731081*std::cos(26*std::acos(2*x2 - 1)) - 0.00017816697092911746*std::cos(27*std::acos(2*x2 - 1)) + 0.00018254334767827762*std::cos(28*std::acos(2*x2 - 1)) - 0.00017427080006249599*std::cos(29*std::acos(2*x2 - 1)) + 0.00015743908519329509*std::cos(30*std::acos(2*x2 - 1)) - 0.00013557837046047246*std::cos(31*std::acos(2*x2 - 1)) + 0.00011155950843797924*std::cos(32*std::acos(2*x2 - 1)) - 8.757434144176413e-5*std::cos(33*std::acos(2*x2 - 1)) + 6.5174411058424058e-5*std::cos(34*std::acos(2*x2 - 1)) - 4.5347982414502306e-5*std::cos(35*std::acos(2*x2 - 1)) + 2.8617351856973696e-5*std::cos(36*std::acos(2*x2 - 1)) - 1.5142497813291588e-5*std::cos(37*std::acos(2*x2 - 1)) + 4.8204086937951324e-6*std::cos(38*std::acos(2*x2 - 1)) + 2.6262221616490417e-6*std::cos(39*std::acos(2*x2 - 1)) - 7.5752865846662344e-6*std::cos(40*std::acos(2*x2 - 1)) + 1.0446694608415992e-5*std::cos(41*std::acos(2*x2 - 1)) - 1.1660339803001563e-5*std::cos(42*std::acos(2*x2 - 1)) + 1.1605860137379033e-5*std::cos(43*std::acos(2*x2 - 1)) - 1.0627451204337824e-5*std::cos(44*std::acos(2*x2 - 1)) + 9.0116749197246484e-6*std::cos(45*std::acos(2*x2 - 1)) - 6.9926800929075113e-6*std::cos(46*std::acos(2*x2 - 1)) + 4.7416184080297778e-6*std::cos(47*std::acos(2*x2 - 1)) - 2.3927786679577219e-6*std::cos(48*std::acos(2*x2 - 1)) - 3.68605246715675e-18*std::cos(49*std::acos(2*x2 - 1)) + 0.00445537848439502;\n",
      "\n",
      "\n"
     ]
    },
    {
     "name": "stdout",
     "output_type": "stream",
     "text": [
      "         QDW = -3.0363892010895975e-5*x2 + 9.8449930715941357e-6*std::cos(2*std::acos(2*x2 - 1)) - 4.1452936185887085e-6*std::cos(3*std::acos(2*x2 - 1)) - 5.7150111722135055e-7*std::cos(4*std::acos(2*x2 - 1)) + 3.8430280064382409e-6*std::cos(5*std::acos(2*x2 - 1)) - 5.6490761225605514e-6*std::cos(6*std::acos(2*x2 - 1)) + 6.2352113772011103e-6*std::cos(7*std::acos(2*x2 - 1)) - 5.955772145592773e-6*std::cos(8*std::acos(2*x2 - 1)) + 5.1623596922302208e-6*std::cos(9*std::acos(2*x2 - 1)) - 4.1436478543337689e-6*std::cos(10*std::acos(2*x2 - 1)) + 3.1044694290341325e-6*std::cos(11*std::acos(2*x2 - 1)) - 2.1695011391055972e-6*std::cos(12*std::acos(2*x2 - 1)) + 1.3990548415316894e-6*std::cos(13*std::acos(2*x2 - 1)) - 8.0824972407694194e-7*std::cos(14*std::acos(2*x2 - 1)) + 3.8453963782587023e-7*std::cos(15*std::acos(2*x2 - 1)) - 1.0141408406929006e-7*std::cos(16*std::acos(2*x2 - 1)) - 7.21154256680504e-8*std::cos(17*std::acos(2*x2 - 1)) + 1.6571141449290593e-7*std::cos(18*std::acos(2*x2 - 1)) - 2.0471755916902152e-7*std::cos(19*std::acos(2*x2 - 1)) + 2.0909208113687098e-7*std::cos(20*std::acos(2*x2 - 1)) - 1.9351936860427827e-7*std::cos(21*std::acos(2*x2 - 1)) + 1.6813602536480452e-7*std::cos(22*std::acos(2*x2 - 1)) - 1.3948618439384514e-7*std::cos(23*std::acos(2*x2 - 1)) + 1.1147030652503781e-7*std::cos(24*std::acos(2*x2 - 1)) - 8.6164337878941494e-8*std::cos(25*std::acos(2*x2 - 1)) + 6.4463199351880839e-8*std::cos(26*std::acos(2*x2 - 1)) - 4.6549643730809709e-8*std::cos(27*std::acos(2*x2 - 1)) + 3.2213759183589222e-8*std::cos(28*std::acos(2*x2 - 1)) - 2.1057042293322339e-8*std::cos(29*std::acos(2*x2 - 1)) + 1.2614213869782695e-8*std::cos(30*std::acos(2*x2 - 1)) - 6.4205283747197205e-9*std::cos(31*std::acos(2*x2 - 1)) + 2.0454210696370226e-9*std::cos(32*std::acos(2*x2 - 1)) + 8.9318842125698954e-10*std::cos(33*std::acos(2*x2 - 1)) - 2.7248898056472382e-9*std::cos(34*std::acos(2*x2 - 1)) + 3.7278274431781844e-9*std::cos(35*std::acos(2*x2 - 1)) - 4.1320270761228126e-9*std::cos(36*std::acos(2*x2 - 1)) + 4.1236854547060183e-9*std::cos(37*std::acos(2*x2 - 1)) - 3.8498553831162833e-9*std::cos(38*std::acos(2*x2 - 1)) + 3.423284723155087e-9*std::cos(39*std::acos(2*x2 - 1)) - 2.9272714143613104e-9*std::cos(40*std::acos(2*x2 - 1)) + 2.4204077088988359e-9*std::cos(41*std::acos(2*x2 - 1)) - 1.9410779096317662e-9*std::cos(42*std::acos(2*x2 - 1)) + 1.5115766297656427e-9*std::cos(43*std::acos(2*x2 - 1)) - 1.1417372673420386e-9*std::cos(44*std::acos(2*x2 - 1)) + 8.3200108486339132e-10*std::cos(45*std::acos(2*x2 - 1)) - 5.7591181297822195e-10*std::cos(46*std::acos(2*x2 - 1)) + 3.6208313165790501e-10*std::cos(47*std::acos(2*x2 - 1)) - 1.7574416575071345e-10*std::cos(48*std::acos(2*x2 - 1)) + 5.5357821724192548e-20*std::cos(49*std::acos(2*x2 - 1)) + 2.4036524565598778e-5;\n",
      "\n",
      "\n"
     ]
    }
   ],
   "source": [
    "print(QF.symb2expr().replace(\"amrex::Real\", \"\"))\n",
    "\n",
    "print(QG.symb2expr().replace(\"amrex::Real\", \"\"))\n",
    "\n",
    "print(QA.symb2expr().replace(\"amrex::Real\", \"\"))\n",
    "\n",
    "print(QU.symb2expr().replace(\"amrex::Real\", \"\"))\n",
    "\n",
    "print(QW.symb2expr().replace(\"amrex::Real\", \"\"))\n",
    "\n",
    "print(QDF.symb2expr().replace(\"amrex::Real\", \"\"))\n",
    "\n",
    "print(QDG.symb2expr().replace(\"amrex::Real\", \"\"))\n",
    "\n",
    "print(QDA.symb2expr().replace(\"amrex::Real\", \"\"))\n",
    "\n",
    "print(QDW.symb2expr().replace(\"amrex::Real\", \"\"))"
   ]
  },
  {
   "cell_type": "code",
   "execution_count": 8,
   "metadata": {
    "scrolled": false
   },
   "outputs": [
    {
     "name": "stdout",
     "output_type": "stream",
     "text": [
      "        amrex::Real QF = 0.26005796664667624*x2 - 0.12461631661829189*std::cos(2*std::acos(2*x2 - 1)) + 0.11617620187182587*std::cos(3*std::acos(2*x2 - 1)) - 0.1054650146175222*std::cos(4*std::acos(2*x2 - 1)) + 0.09334645865693797*std::cos(5*std::acos(2*x2 - 1)) - 0.080663214186297905*std::cos(6*std::acos(2*x2 - 1)) + 0.068138364641475699*std::cos(7*std::acos(2*x2 - 1)) - 0.056320305653089819*std::cos(8*std::acos(2*x2 - 1)) + 0.045570533512133242*std::cos(9*std::acos(2*x2 - 1)) - 0.036082831328806908*std::cos(10*std::acos(2*x2 - 1)) + 0.027919240452111443*std::cos(11*std::acos(2*x2 - 1)) - 0.021049587070197714*std::cos(12*std::acos(2*x2 - 1)) + 0.01538636727581064*std::cos(13*std::acos(2*x2 - 1)) - 0.010811225741785817*std::cos(14*std::acos(2*x2 - 1)) + 0.0071930460736055121*std::cos(15*std::acos(2*x2 - 1)) - 0.0043991794162670135*std::cos(16*std::acos(2*x2 - 1)) + 0.002302009255212685*std::cos(17*std::acos(2*x2 - 1)) - 0.00078256136396004719*std::cos(18*std::acos(2*x2 - 1)) - 0.00026753145290902419*std::cos(19*std::acos(2*x2 - 1)) + 0.00094503682222471866*std::cos(20*std::acos(2*x2 - 1)) - 0.0013346905891958583*std::cos(21*std::acos(2*x2 - 1)) + 0.0015091953318529319*std::cos(22*std::acos(2*x2 - 1)) - 0.0015295510655180776*std::cos(23*std::acos(2*x2 - 1)) + 0.0014456913150764604*std::cos(24*std::acos(2*x2 - 1)) - 0.0012973592107509736*std::cos(25*std::acos(2*x2 - 1)) + 0.0011151732016694942*std::cos(26*std::acos(2*x2 - 1)) - 0.00092180550129570757*std::cos(27*std::acos(2*x2 - 1)) + 0.00073320980082354839*std::cos(28*std::acos(2*x2 - 1)) - 0.00055983127135711755*std::cos(29*std::acos(2*x2 - 1)) + 0.00040774992261132306*std::cos(30*std::acos(2*x2 - 1)) - 0.00027971709839445802*std::cos(31*std::acos(2*x2 - 1)) + 0.00017606205167765634*std::cos(32*std::acos(2*x2 - 1)) - 9.5456174447356573e-5*std::cos(33*std::acos(2*x2 - 1)) + 3.5534482206136392e-5*std::cos(34*std::acos(2*x2 - 1)) + 6.6185176528510414e-6*std::cos(35*std::acos(2*x2 - 1)) - 3.4105607164301027e-5*std::cos(36*std::acos(2*x2 - 1)) + 4.9959585442217735e-5*std::cos(37*std::acos(2*x2 - 1)) - 5.697480396162774e-5*std::cos(38*std::acos(2*x2 - 1)) + 5.7608573976467708e-5*std::cos(39*std::acos(2*x2 - 1)) - 5.3937885151723181e-5*std::cos(40*std::acos(2*x2 - 1)) + 4.7653248077310362e-5*std::cos(41*std::acos(2*x2 - 1)) - 4.0082872830644878e-5*std::cos(42*std::acos(2*x2 - 1)) + 3.2227037249771967e-5*std::cos(43*std::acos(2*x2 - 1)) - 2.4811722475336084e-5*std::cos(44*std::acos(2*x2 - 1)) + 1.8325824273458108e-5*std::cos(45*std::acos(2*x2 - 1)) - 1.3090874666055186e-5*std::cos(46*std::acos(2*x2 - 1)) + 9.2667244503408241e-6*std::cos(47*std::acos(2*x2 - 1)) - 6.9646274018543564e-6*std::cos(48*std::acos(2*x2 - 1)) + 3.077790294929092e-6*std::cos(49*std::acos(2*x2 - 1)) + 0.80402356813839038;\n",
      "\n",
      "\n",
      "        amrex::Real QG = -0.35754232248511858*x2 + 0.15608548720369442*std::cos(2*std::acos(2*x2 - 1)) - 0.12486421661464829*std::cos(3*std::acos(2*x2 - 1)) + 0.091808026841730325*std::cos(4*std::acos(2*x2 - 1)) - 0.06212168844407006*std::cos(5*std::acos(2*x2 - 1)) + 0.038483620523462013*std::cos(6*std::acos(2*x2 - 1)) - 0.021338273467366269*std::cos(7*std::acos(2*x2 - 1)) + 0.0098058469051768953*std::cos(8*std::acos(2*x2 - 1)) - 0.0025455071672251745*std::cos(9*std::acos(2*x2 - 1)) - 0.0017180421430708487*std::cos(10*std::acos(2*x2 - 1)) + 0.0039885901173244073*std::cos(11*std::acos(2*x2 - 1)) - 0.0049822917968185467*std::cos(12*std::acos(2*x2 - 1)) + 0.0051851424492484754*std::cos(13*std::acos(2*x2 - 1)) - 0.0049198808993129034*std::cos(14*std::acos(2*x2 - 1)) + 0.0043991231262898106*std::cos(15*std::acos(2*x2 - 1)) - 0.0037619838663847322*std::cos(16*std::acos(2*x2 - 1)) + 0.0030980486478062149*std::cos(17*std::acos(2*x2 - 1)) - 0.0024630364553298403*std::cos(18*std::acos(2*x2 - 1)) + 0.0018892851028672374*std::cos(19*std::acos(2*x2 - 1)) - 0.001393001446880764*std::cos(20*std::acos(2*x2 - 1)) + 0.00097941972631926193*std::cos(21*std::acos(2*x2 - 1)) - 0.00064654271895247986*std::cos(22*std::acos(2*x2 - 1)) + 0.0003878774734519169*std::cos(23*std::acos(2*x2 - 1)) - 0.00019442955972063156*std::cos(24*std::acos(2*x2 - 1)) + 5.6134762334540995e-5*std::cos(25*std::acos(2*x2 - 1)) + 3.7143237800691702e-5*std::cos(26*std::acos(2*x2 - 1)) - 9.4951627584177625e-5*std::cos(27*std::acos(2*x2 - 1)) + 0.00012584621766472182*std::cos(28*std::acos(2*x2 - 1)) - 0.00013718487310657632*std::cos(29*std::acos(2*x2 - 1)) + 0.00013506423107222332*std::cos(30*std::acos(2*x2 - 1)) - 0.00012435651412282049*std::cos(31*std::acos(2*x2 - 1)) + 0.00010881140324963304*std::cos(32*std::acos(2*x2 - 1)) - 9.119529752751342e-5*std::cos(33*std::acos(2*x2 - 1)) + 7.34468842843185e-5*std::cos(34*std::acos(2*x2 - 1)) - 5.6833720296890238e-5*std::cos(35*std::acos(2*x2 - 1)) + 4.2099425005885097e-5*std::cos(36*std::acos(2*x2 - 1)) - 2.9595091175899913e-5*std::cos(37*std::acos(2*x2 - 1)) + 1.939165391062395e-5*std::cos(38*std::acos(2*x2 - 1)) - 1.1372295662746267e-5*std::cos(39*std::acos(2*x2 - 1)) + 5.3056032266421663e-6*std::cos(40*std::acos(2*x2 - 1)) - 9.0124997945408883e-7*std::cos(41*std::acos(2*x2 - 1)) - 2.1494271744385998e-6*std::cos(42*std::acos(2*x2 - 1)) + 4.1453415722360761e-6*std::cos(43*std::acos(2*x2 - 1)) - 5.3574619996423261e-6*std::cos(44*std::acos(2*x2 - 1)) + 6.0181156309194265e-6*std::cos(45*std::acos(2*x2 - 1)) - 6.315762337769154e-6*std::cos(46*std::acos(2*x2 - 1)) + 6.3935234957617817e-6*std::cos(47*std::acos(2*x2 - 1)) - 6.3525617977737233e-6*std::cos(48*std::acos(2*x2 - 1)) + 3.1243709306815226e-6*std::cos(49*std::acos(2*x2 - 1)) + 0.27232439006011511;\n",
      "\n",
      "\n",
      "        amrex::Real QA = 0.30344547521606563*x2 - 0.14596694284308137*std::cos(2*std::acos(2*x2 - 1)) + 0.13675775239183841*std::cos(3*std::acos(2*x2 - 1)) - 0.12463540834576639*std::cos(4*std::acos(2*x2 - 1)) + 0.11028844234994814*std::cos(5*std::acos(2*x2 - 1)) - 0.094496358886943688*std::cos(6*std::acos(2*x2 - 1)) + 0.078066264287156142*std::cos(7*std::acos(2*x2 - 1)) - 0.061772641757538549*std::cos(8*std::acos(2*x2 - 1)) + 0.046303727175987519*std::cos(9*std::acos(2*x2 - 1)) - 0.032221313058086079*std::cos(10*std::acos(2*x2 - 1)) + 0.019934693810221456*std::cos(11*std::acos(2*x2 - 1)) - 0.0096913952895848546*std::cos(12*std::acos(2*x2 - 1)) + 0.0015820277722112669*std::cos(13*std::acos(2*x2 - 1)) + 0.0044418479120719966*std::cos(14*std::acos(2*x2 - 1)) - 0.0085415612247200616*std::cos(15*std::acos(2*x2 - 1)) + 0.010959769886103039*std::cos(16*std::acos(2*x2 - 1)) - 0.011988158608013156*std::cos(17*std::acos(2*x2 - 1)) + 0.011936943728265415*std::cos(18*std::acos(2*x2 - 1)) - 0.011109187013162356*std::cos(19*std::acos(2*x2 - 1)) + 0.00978092702492964*std::cos(20*std::acos(2*x2 - 1)) - 0.0081880373005700745*std::cos(21*std::acos(2*x2 - 1)) + 0.0065192716724033171*std::cos(22*std::acos(2*x2 - 1)) - 0.0049148765354180626*std::cos(23*std::acos(2*x2 - 1)) + 0.0034694035218712331*std::cos(24*std::acos(2*x2 - 1)) - 0.002237514546252959*std::cos(25*std::acos(2*x2 - 1)) + 0.0012413977965343853*std::cos(26*std::acos(2*x2 - 1)) - 0.00047875155675303899*std::cos(27*std::acos(2*x2 - 1)) - 6.9574444973966726e-5*std::cos(28*std::acos(2*x2 - 1)) + 0.0004328318953938648*std::cos(29*std::acos(2*x2 - 1)) - 0.00064487350426358295*std::cos(30*std::acos(2*x2 - 1)) + 0.00073999280347635324*std::cos(31*std::acos(2*x2 - 1)) - 0.0007500625783859946*std::cos(32*std::acos(2*x2 - 1)) + 0.00070280415434859078*std::cos(33*std::acos(2*x2 - 1)) - 0.00062097555756001135*std::cos(34*std::acos(2*x2 - 1)) + 0.00052224344175609907*std::cos(35*std::acos(2*x2 - 1)) - 0.00041952040970094986*std::cos(36*std::acos(2*x2 - 1)) + 0.00032158015222568184*std::cos(37*std::acos(2*x2 - 1)) - 0.00023379883013923894*std::cos(38*std::acos(2*x2 - 1)) + 0.00015891909077718133*std::cos(39*std::acos(2*x2 - 1)) - 9.7755856706592537e-5*std::cos(40*std::acos(2*x2 - 1)) + 4.9817697265978206e-5*std::cos(41*std::acos(2*x2 - 1)) - 1.3799582730723153e-5*std::cos(42*std::acos(2*x2 - 1)) - 1.2010326537473942e-5*std::cos(43*std::acos(2*x2 - 1)) + 2.9479362733675352e-5*std::cos(44*std::acos(2*x2 - 1)) - 4.0386325489433911e-5*std::cos(45*std::acos(2*x2 - 1)) + 4.6413634528837816e-5*std::cos(46*std::acos(2*x2 - 1)) - 4.8935097074372796e-5*std::cos(47*std::acos(2*x2 - 1)) + 4.9391833721112305e-5*std::cos(48*std::acos(2*x2 - 1)) - 2.4416096648568683e-5*std::cos(49*std::acos(2*x2 - 1)) + 0.77143683696426668;\n",
      "\n",
      "\n",
      "        amrex::Real QU = -0.018337146439863797*x2 + 0.0070078311207971604*std::cos(2*std::acos(2*x2 - 1)) - 0.0050311322446984826*std::cos(3*std::acos(2*x2 - 1)) + 0.0034860636080965707*std::cos(4*std::acos(2*x2 - 1)) - 0.0023332397833438052*std::cos(5*std::acos(2*x2 - 1)) + 0.0014905514551152832*std::cos(6*std::acos(2*x2 - 1)) - 0.00089277511094256715*std::cos(7*std::acos(2*x2 - 1)) + 0.00048251842309513621*std::cos(8*std::acos(2*x2 - 1)) - 0.00021093564996129443*std::cos(9*std::acos(2*x2 - 1)) + 3.8663519002404264e-5*std::cos(10*std::acos(2*x2 - 1)) + 6.4601885708618563e-5*std::cos(11*std::acos(2*x2 - 1)) - 0.00012130440018425446*std::cos(12*std::acos(2*x2 - 1)) + 0.00014751702343932413*std::cos(13*std::acos(2*x2 - 1)) - 0.00015441610428736796*std::cos(14*std::acos(2*x2 - 1)) + 0.00014957506718556561*std::cos(15*std::acos(2*x2 - 1)) - 0.00013801186564184903*std::cos(16*std::acos(2*x2 - 1)) + 0.0001229876377128674*std::cos(17*std::acos(2*x2 - 1)) - 0.00010658688193696443*std::cos(18*std::acos(2*x2 - 1)) + 9.012170987152956e-5*std::cos(19*std::acos(2*x2 - 1)) - 7.4403183792611148e-5*std::cos(20*std::acos(2*x2 - 1)) + 5.9917477831405888e-5*std::cos(21*std::acos(2*x2 - 1)) - 4.693722843353101e-5*std::cos(22*std::acos(2*x2 - 1)) + 3.5590930058879104e-5*std::cos(23*std::acos(2*x2 - 1)) - 2.5906559200424643e-5*std::cos(24*std::acos(2*x2 - 1)) + 1.7840182069872059e-5*std::cos(25*std::acos(2*x2 - 1)) - 1.1296198975068237e-5*std::cos(26*std::acos(2*x2 - 1)) + 6.1429928111520388e-6*std::cos(27*std::acos(2*x2 - 1)) - 2.2258733957228756e-6*std::cos(28*std::acos(2*x2 - 1)) - 6.2189703559166402e-7*std::cos(29*std::acos(2*x2 - 1)) + 2.5697795522591598e-6*std::cos(30*std::acos(2*x2 - 1)) - 3.7823418133615718e-6*std::cos(31*std::acos(2*x2 - 1)) + 4.4133845506574263e-6*std::cos(32*std::acos(2*x2 - 1)) - 4.6017851938287045e-6*std::cos(33*std::acos(2*x2 - 1)) + 4.4689449921897958e-6*std::cos(34*std::acos(2*x2 - 1)) - 4.1176482847885212e-6*std::cos(35*std::acos(2*x2 - 1)) + 3.6320904946512315e-6*std::cos(36*std::acos(2*x2 - 1)) - 3.0788084016343361e-6*std::cos(37*std::acos(2*x2 - 1)) + 2.5082491470323114e-6*std::cos(38*std::acos(2*x2 - 1)) - 1.9567373095131423e-6*std::cos(39*std::acos(2*x2 - 1)) + 1.4486355357474359e-6*std::cos(40*std::acos(2*x2 - 1)) - 9.985370771183129e-7*std::cos(41*std::acos(2*x2 - 1)) + 6.1337233485992335e-7*std::cos(42*std::acos(2*x2 - 1)) - 2.9435163954998236e-7*std::cos(43*std::acos(2*x2 - 1)) + 3.8700510448885838e-8*std::cos(44*std::acos(2*x2 - 1)) + 1.5882920779265299e-7*std::cos(45*std::acos(2*x2 - 1)) - 3.046700932785424e-7*std::cos(46*std::acos(2*x2 - 1)) + 4.0536394992766625e-7*std::cos(47*std::acos(2*x2 - 1)) - 4.6670641143359604e-7*std::cos(48*std::acos(2*x2 - 1)) + 2.4154077414037033e-7*std::cos(49*std::acos(2*x2 - 1)) + 0.01428611908407236;\n",
      "\n",
      "\n",
      "        amrex::Real QW = 0.0078641601166254127*x2 - 0.0027591617171332742*std::cos(2*std::acos(2*x2 - 1)) + 0.0017360814967613959*std::cos(3*std::acos(2*x2 - 1)) - 0.00099853970385825543*std::cos(4*std::acos(2*x2 - 1)) + 0.00050775724665516489*std::cos(5*std::acos(2*x2 - 1)) - 0.00019934851455592179*std::cos(6*std::acos(2*x2 - 1)) + 2.1906847834586794e-5*std::cos(7*std::acos(2*x2 - 1)) + 6.7053196784061075e-5*std::cos(8*std::acos(2*x2 - 1)) - 0.00010067352139982206*std::cos(9*std::acos(2*x2 - 1)) + 0.00010289446171254723*std::cos(10*std::acos(2*x2 - 1)) - 8.9733896734310007e-5*std::cos(11*std::acos(2*x2 - 1)) + 7.1058905616464479e-5*std::cos(12*std::acos(2*x2 - 1)) - 5.2355797477034065e-5*std::cos(13*std::acos(2*x2 - 1)) + 3.6232667730293002e-5*std::cos(14*std::acos(2*x2 - 1)) - 2.3561176219661788e-5*std::cos(15*std::acos(2*x2 - 1)) + 1.4270463598946142e-5*std::cos(16*std::acos(2*x2 - 1)) - 7.8566283823383483e-6*std::cos(17*std::acos(2*x2 - 1)) + 3.6833907555552697e-6*std::cos(18*std::acos(2*x2 - 1)) - 1.1415959198317886e-6*std::cos(19*std::acos(2*x2 - 1)) - 2.7995462413972296e-7*std::cos(20*std::acos(2*x2 - 1)) + 9.7514369747559756e-7*std::cos(21*std::acos(2*x2 - 1)) - 1.2280262998610352e-6*std::cos(22*std::acos(2*x2 - 1)) + 1.2318628371071543e-6*std::cos(23*std::acos(2*x2 - 1)) - 1.1108712469576789e-6*std::cos(24*std::acos(2*x2 - 1)) + 9.4014167339187342e-7*std::cos(25*std::acos(2*x2 - 1)) - 7.6182066040096373e-7*std::cos(26*std::acos(2*x2 - 1)) + 5.9721155636273367e-7*std::cos(27*std::acos(2*x2 - 1)) - 4.5522479805580243e-7*std::cos(28*std::acos(2*x2 - 1)) + 3.3792302610340956e-7*std::cos(29*std::acos(2*x2 - 1)) - 2.4394177667289074e-7*std::cos(30*std::acos(2*x2 - 1)) + 1.7046431477110818e-7*std::cos(31*std::acos(2*x2 - 1)) - 1.1427676779764496e-7*std::cos(32*std::acos(2*x2 - 1)) + 7.22774013652906e-8*std::cos(33*std::acos(2*x2 - 1)) - 4.1685847126084528e-8*std::cos(34*std::acos(2*x2 - 1)) + 2.0101950956492584e-8*std::cos(35*std::acos(2*x2 - 1)) - 5.4980251900855658e-9*std::cos(36*std::acos(2*x2 - 1)) - 3.8131290796774964e-9*std::cos(37*std::acos(2*x2 - 1)) + 9.2157944922275763e-9*std::cos(38*std::acos(2*x2 - 1)) - 1.1827993685305005e-8*std::cos(39*std::acos(2*x2 - 1)) + 1.2535956410939569e-8*std::cos(40*std::acos(2*x2 - 1)) - 1.2026744044314302e-8*std::cos(41*std::acos(2*x2 - 1)) + 1.0819412198704838e-8*std::cos(42*std::acos(2*x2 - 1)) - 9.2946539836397178e-9*std::cos(43*std::acos(2*x2 - 1)) + 7.7224455120719973e-9*std::cos(44*std::acos(2*x2 - 1)) - 6.2869463503653398e-9*std::cos(45*std::acos(2*x2 - 1)) + 5.1078012850929494e-9*std::cos(46*std::acos(2*x2 - 1)) - 4.2571005009173237e-9*std::cos(47*std::acos(2*x2 - 1)) + 3.771697402184331e-9*std::cos(48*std::acos(2*x2 - 1)) - 1.7933069166768232e-9*std::cos(49*std::acos(2*x2 - 1)) - 0.006192829942038053;\n",
      "\n",
      "\n",
      "        amrex::Real QDF = -0.0092350098002562074*x2 + 0.0044238733516144078*std::cos(2*std::acos(2*x2 - 1)) - 0.0041190393844221752*std::cos(3*std::acos(2*x2 - 1)) + 0.0037268157918546804*std::cos(4*std::acos(2*x2 - 1)) - 0.0032753188456217368*std::cos(5*std::acos(2*x2 - 1)) + 0.0027933507385527606*std::cos(6*std::acos(2*x2 - 1)) - 0.0023073597914066326*std::cos(7*std::acos(2*x2 - 1)) + 0.0018394131566033161*std::cos(8*std::acos(2*x2 - 1)) - 0.001406234450394531*std::cos(9*std::acos(2*x2 - 1)) + 0.0010191431432499144*std::cos(10*std::acos(2*x2 - 1)) - 0.00068457746298989665*std::cos(11*std::acos(2*x2 - 1)) + 0.00040491954619166368*std::cos(12*std::acos(2*x2 - 1)) - 0.00017938712070998046*std::cos(13*std::acos(2*x2 - 1)) + 4.873796997716682e-6*std::cos(14*std::acos(2*x2 - 1)) + 0.00012332735141725956*std::cos(15*std::acos(2*x2 - 1)) - 0.00021091769310619372*std::cos(16*std::acos(2*x2 - 1)) + 0.00026410116312471923*std::cos(17*std::acos(2*x2 - 1)) - 0.00028918604691760715*std::cos(18*std::acos(2*x2 - 1)) + 0.00029227338631338738*std::cos(19*std::acos(2*x2 - 1)) - 0.00027901984662395701*std::cos(20*std::acos(2*x2 - 1)) + 0.00025447189452365083*std::cos(21*std::acos(2*x2 - 1)) - 0.00022296281384921363*std::cos(22*std::acos(2*x2 - 1)) + 0.00018806726671980847*std::cos(23*std::acos(2*x2 - 1)) - 0.000152603429655697*std::cos(24*std::acos(2*x2 - 1)) + 0.00011867404889952882*std::cos(25*std::acos(2*x2 - 1)) - 8.7735436684146823e-5*std::cos(26*std::acos(2*x2 - 1)) + 6.0685013418211955e-5*std::cos(27*std::acos(2*x2 - 1)) - 3.7957914725411413e-5*std::cos(28*std::acos(2*x2 - 1)) + 1.9625244042201431e-5*std::cos(29*std::acos(2*x2 - 1)) - 5.4876847515920187e-6*std::cos(30*std::acos(2*x2 - 1)) - 4.8397635469902428e-6*std::cos(31*std::acos(2*x2 - 1)) + 1.1854784020104683e-5*std::cos(32*std::acos(2*x2 - 1)) - 1.6107740488361719e-5*std::cos(33*std::acos(2*x2 - 1)) + 1.8154894683688022e-5*std::cos(34*std::acos(2*x2 - 1)) - 1.8524086486547911e-5*std::cos(35*std::acos(2*x2 - 1)) + 1.7691598216350405e-5*std::cos(36*std::acos(2*x2 - 1)) - 1.6068481542916581e-5*std::cos(37*std::acos(2*x2 - 1)) + 1.3994587045112318e-5*std::cos(38*std::acos(2*x2 - 1)) - 1.1738394276786067e-5*std::cos(39*std::acos(2*x2 - 1)) + 9.5011160282146319e-6*std::cos(40*std::acos(2*x2 - 1)) - 7.423361307131082e-6*std::cos(41*std::acos(2*x2 - 1)) + 5.5935477320906383e-6*std::cos(42*std::acos(2*x2 - 1)) - 4.0563983058778174e-6*std::cos(43*std::acos(2*x2 - 1)) + 2.8220211428420804e-6*std::cos(44*std::acos(2*x2 - 1)) - 1.8729656363291313e-6*std::cos(45*std::acos(2*x2 - 1)) + 1.1726961335638252e-6*std::cos(46*std::acos(2*x2 - 1)) - 6.6860456488431508e-7*std::cos(47*std::acos(2*x2 - 1)) + 3.0162359969897932e-7*std::cos(48*std::acos(2*x2 - 1)) - 1.9734461463983858e-19*std::cos(49*std::acos(2*x2 - 1)) + 0.0069594706242731685;\n",
      "\n",
      "\n",
      "        amrex::Real QDG = 0.0028307709613119721*x2 - 0.0011536472535479713*std::cos(2*std::acos(2*x2 - 1)) + 0.00079104321967007852*std::cos(3*std::acos(2*x2 - 1)) - 0.00040446157926724577*std::cos(4*std::acos(2*x2 - 1)) + 5.6578637703939553e-5*std::cos(5*std::acos(2*x2 - 1)) + 0.00021675561578205605*std::cos(6*std::acos(2*x2 - 1)) - 0.00040522503947945106*std::cos(7*std::acos(2*x2 - 1)) + 0.00051549159369317229*std::cos(8*std::acos(2*x2 - 1)) - 0.00056211866840909133*std::cos(9*std::acos(2*x2 - 1)) + 0.00056131074561279815*std::cos(10*std::acos(2*x2 - 1)) - 0.00052775780836724479*std::cos(11*std::acos(2*x2 - 1)) + 0.00047356171915715012*std::cos(12*std::acos(2*x2 - 1)) - 0.00040818274545606953*std::cos(13*std::acos(2*x2 - 1)) + 0.00033874794806980135*std::cos(14*std::acos(2*x2 - 1)) - 0.00027042601139694165*std::cos(15*std::acos(2*x2 - 1)) + 0.00020677418829422926*std::cos(16*std::acos(2*x2 - 1)) - 0.00015004246748085201*std::cos(17*std::acos(2*x2 - 1)) + 0.00010144048160196843*std::cos(18*std::acos(2*x2 - 1)) - 6.1373110754304677e-5*std::cos(19*std::acos(2*x2 - 1)) + 2.9647611796576591e-5*std::cos(20*std::acos(2*x2 - 1)) - 5.6530250190340043e-6*std::cos(21*std::acos(2*x2 - 1)) - 1.1488037276653946e-5*std::cos(22*std::acos(2*x2 - 1)) + 2.2794868838825672e-5*std::cos(23*std::acos(2*x2 - 1)) - 2.933040997663027e-5*std::cos(24*std::acos(2*x2 - 1)) + 3.2127492371728227e-5*std::cos(25*std::acos(2*x2 - 1)) - 3.2137149496727457e-5*std::cos(26*std::acos(2*x2 - 1)) + 3.0196043040372685e-5*std::cos(27*std::acos(2*x2 - 1)) - 2.7009759043488601e-5*std::cos(28*std::acos(2*x2 - 1)) + 2.3148651327449094e-5*std::cos(29*std::acos(2*x2 - 1)) - 1.9053032424941528e-5*std::cos(30*std::acos(2*x2 - 1)) + 1.5044793411187961e-5*std::cos(31*std::acos(2*x2 - 1)) - 1.1342924694275549e-5*std::cos(32*std::acos(2*x2 - 1)) + 8.0808601212396134e-6*std::cos(33*std::acos(2*x2 - 1)) - 5.3240320480114167e-6*std::cos(34*std::acos(2*x2 - 1)) + 3.0864694927084735e-6*std::cos(35*std::acos(2*x2 - 1)) - 1.3456696380516092e-6*std::cos(36*std::acos(2*x2 - 1)) + 5.5309376710825414e-8*std::cos(37*std::acos(2*x2 - 1)) + 8.4436820398195087e-7*std::cos(38*std::acos(2*x2 - 1)) - 1.418457057382605e-6*std::cos(39*std::acos(2*x2 - 1)) + 1.7314077091945217e-6*std::cos(40*std::acos(2*x2 - 1)) - 1.8429055277398358e-6*std::cos(41*std::acos(2*x2 - 1)) + 1.8053102444607527e-6*std::cos(42*std::acos(2*x2 - 1)) - 1.6623535548096782e-6*std::cos(43*std::acos(2*x2 - 1)) + 1.4488106909968875e-6*std::cos(44*std::acos(2*x2 - 1)) - 1.1908966631088003e-6*std::cos(45*std::acos(2*x2 - 1)) + 9.0718001340360632e-7*std::cos(46*std::acos(2*x2 - 1)) - 6.0984623750754286e-7*std::cos(47*std::acos(2*x2 - 1)) + 3.0618850430191758e-7*std::cos(48*std::acos(2*x2 - 1)) - 2.284910045912112e-18*std::cos(49*std::acos(2*x2 - 1)) - 0.0021709803580581568;\n",
      "\n",
      "\n",
      "        amrex::Real QDA = -0.0058889485478670432*x2 + 0.0027183627939841221*std::cos(2*std::acos(2*x2 - 1)) - 0.0023606062106271645*std::cos(3*std::acos(2*x2 - 1)) + 0.0018978158693596368*std::cos(4*std::acos(2*x2 - 1)) - 0.001363522445319162*std::cos(5*std::acos(2*x2 - 1)) + 0.00079493089441765594*std::cos(6*std::acos(2*x2 - 1)) - 0.00022956557169740208*std::cos(7*std::acos(2*x2 - 1)) - 0.00029799735206664758*std::cos(8*std::acos(2*x2 - 1)) + 0.00075879719060458579*std::cos(9*std::acos(2*x2 - 1)) - 0.0011314648579681728*std::cos(10*std::acos(2*x2 - 1)) + 0.0014032237739796032*std::cos(11*std::acos(2*x2 - 1)) - 0.0015700283410747871*std::cos(12*std::acos(2*x2 - 1)) + 0.0016358173772264442*std::cos(13*std::acos(2*x2 - 1)) - 0.0016111610837186473*std::cos(14*std::acos(2*x2 - 1)) + 0.001511445573502528*std::cos(15*std::acos(2*x2 - 1)) - 0.0013549141188535616*std::cos(16*std::acos(2*x2 - 1)) + 0.0011607327617908368*std::cos(17*std::acos(2*x2 - 1)) - 0.00094731652238232134*std::cos(18*std::acos(2*x2 - 1)) + 0.00073100257270818526*std::cos(19*std::acos(2*x2 - 1)) - 0.00052516720480748726*std::cos(20*std::acos(2*x2 - 1)) + 0.00033976529609235941*std::cos(21*std::acos(2*x2 - 1)) - 0.00018126946623467575*std::cos(22*std::acos(2*x2 - 1)) + 5.2917199082563824e-5*std::cos(23*std::acos(2*x2 - 1)) + 4.4814967436763202e-5*std::cos(24*std::acos(2*x2 - 1)) - 0.00011361425323298581*std::cos(25*std::acos(2*x2 - 1)) + 0.00015669075068731081*std::cos(26*std::acos(2*x2 - 1)) - 0.00017816697092911746*std::cos(27*std::acos(2*x2 - 1)) + 0.00018254334767827762*std::cos(28*std::acos(2*x2 - 1)) - 0.00017427080006249599*std::cos(29*std::acos(2*x2 - 1)) + 0.00015743908519329509*std::cos(30*std::acos(2*x2 - 1)) - 0.00013557837046047246*std::cos(31*std::acos(2*x2 - 1)) + 0.00011155950843797924*std::cos(32*std::acos(2*x2 - 1)) - 8.757434144176413e-5*std::cos(33*std::acos(2*x2 - 1)) + 6.5174411058424058e-5*std::cos(34*std::acos(2*x2 - 1)) - 4.5347982414502306e-5*std::cos(35*std::acos(2*x2 - 1)) + 2.8617351856973696e-5*std::cos(36*std::acos(2*x2 - 1)) - 1.5142497813291588e-5*std::cos(37*std::acos(2*x2 - 1)) + 4.8204086937951324e-6*std::cos(38*std::acos(2*x2 - 1)) + 2.6262221616490417e-6*std::cos(39*std::acos(2*x2 - 1)) - 7.5752865846662344e-6*std::cos(40*std::acos(2*x2 - 1)) + 1.0446694608415992e-5*std::cos(41*std::acos(2*x2 - 1)) - 1.1660339803001563e-5*std::cos(42*std::acos(2*x2 - 1)) + 1.1605860137379033e-5*std::cos(43*std::acos(2*x2 - 1)) - 1.0627451204337824e-5*std::cos(44*std::acos(2*x2 - 1)) + 9.0116749197246484e-6*std::cos(45*std::acos(2*x2 - 1)) - 6.9926800929075113e-6*std::cos(46*std::acos(2*x2 - 1)) + 4.7416184080297778e-6*std::cos(47*std::acos(2*x2 - 1)) - 2.3927786679577219e-6*std::cos(48*std::acos(2*x2 - 1)) - 3.68605246715675e-18*std::cos(49*std::acos(2*x2 - 1)) + 0.00445537848439502;\n",
      "\n",
      "\n",
      "        amrex::Real QDW = -3.0363892010895975e-5*x2 + 9.8449930715941357e-6*std::cos(2*std::acos(2*x2 - 1)) - 4.1452936185887085e-6*std::cos(3*std::acos(2*x2 - 1)) - 5.7150111722135055e-7*std::cos(4*std::acos(2*x2 - 1)) + 3.8430280064382409e-6*std::cos(5*std::acos(2*x2 - 1)) - 5.6490761225605514e-6*std::cos(6*std::acos(2*x2 - 1)) + 6.2352113772011103e-6*std::cos(7*std::acos(2*x2 - 1)) - 5.955772145592773e-6*std::cos(8*std::acos(2*x2 - 1)) + 5.1623596922302208e-6*std::cos(9*std::acos(2*x2 - 1)) - 4.1436478543337689e-6*std::cos(10*std::acos(2*x2 - 1)) + 3.1044694290341325e-6*std::cos(11*std::acos(2*x2 - 1)) - 2.1695011391055972e-6*std::cos(12*std::acos(2*x2 - 1)) + 1.3990548415316894e-6*std::cos(13*std::acos(2*x2 - 1)) - 8.0824972407694194e-7*std::cos(14*std::acos(2*x2 - 1)) + 3.8453963782587023e-7*std::cos(15*std::acos(2*x2 - 1)) - 1.0141408406929006e-7*std::cos(16*std::acos(2*x2 - 1)) - 7.21154256680504e-8*std::cos(17*std::acos(2*x2 - 1)) + 1.6571141449290593e-7*std::cos(18*std::acos(2*x2 - 1)) - 2.0471755916902152e-7*std::cos(19*std::acos(2*x2 - 1)) + 2.0909208113687098e-7*std::cos(20*std::acos(2*x2 - 1)) - 1.9351936860427827e-7*std::cos(21*std::acos(2*x2 - 1)) + 1.6813602536480452e-7*std::cos(22*std::acos(2*x2 - 1)) - 1.3948618439384514e-7*std::cos(23*std::acos(2*x2 - 1)) + 1.1147030652503781e-7*std::cos(24*std::acos(2*x2 - 1)) - 8.6164337878941494e-8*std::cos(25*std::acos(2*x2 - 1)) + 6.4463199351880839e-8*std::cos(26*std::acos(2*x2 - 1)) - 4.6549643730809709e-8*std::cos(27*std::acos(2*x2 - 1)) + 3.2213759183589222e-8*std::cos(28*std::acos(2*x2 - 1)) - 2.1057042293322339e-8*std::cos(29*std::acos(2*x2 - 1)) + 1.2614213869782695e-8*std::cos(30*std::acos(2*x2 - 1)) - 6.4205283747197205e-9*std::cos(31*std::acos(2*x2 - 1)) + 2.0454210696370226e-9*std::cos(32*std::acos(2*x2 - 1)) + 8.9318842125698954e-10*std::cos(33*std::acos(2*x2 - 1)) - 2.7248898056472382e-9*std::cos(34*std::acos(2*x2 - 1)) + 3.7278274431781844e-9*std::cos(35*std::acos(2*x2 - 1)) - 4.1320270761228126e-9*std::cos(36*std::acos(2*x2 - 1)) + 4.1236854547060183e-9*std::cos(37*std::acos(2*x2 - 1)) - 3.8498553831162833e-9*std::cos(38*std::acos(2*x2 - 1)) + 3.423284723155087e-9*std::cos(39*std::acos(2*x2 - 1)) - 2.9272714143613104e-9*std::cos(40*std::acos(2*x2 - 1)) + 2.4204077088988359e-9*std::cos(41*std::acos(2*x2 - 1)) - 1.9410779096317662e-9*std::cos(42*std::acos(2*x2 - 1)) + 1.5115766297656427e-9*std::cos(43*std::acos(2*x2 - 1)) - 1.1417372673420386e-9*std::cos(44*std::acos(2*x2 - 1)) + 8.3200108486339132e-10*std::cos(45*std::acos(2*x2 - 1)) - 5.7591181297822195e-10*std::cos(46*std::acos(2*x2 - 1)) + 3.6208313165790501e-10*std::cos(47*std::acos(2*x2 - 1)) - 1.7574416575071345e-10*std::cos(48*std::acos(2*x2 - 1)) + 5.5357821724192548e-20*std::cos(49*std::acos(2*x2 - 1)) + 2.4036524565598778e-5;\n",
      "\n",
      "\n"
     ]
    }
   ],
   "source": [
    "print(QF.symb2expr())\n",
    "\n",
    "print(QG.symb2expr())\n",
    "\n",
    "print(QA.symb2expr())\n",
    "\n",
    "print(QU.symb2expr())\n",
    "\n",
    "print(QW.symb2expr())\n",
    "\n",
    "print(QDF.symb2expr())\n",
    "\n",
    "print(QDG.symb2expr())\n",
    "\n",
    "print(QDA.symb2expr())\n",
    "\n",
    "print(QDW.symb2expr())"
   ]
  },
  {
   "cell_type": "code",
   "execution_count": 9,
   "metadata": {},
   "outputs": [
    {
     "name": "stdout",
     "output_type": "stream",
     "text": [
      "        amrex::Real QU = -0.03368113546039312*x2 + 0.0061944504724723006*std::cos(2*std::acos(2*x2 - 1)) - 0.001532799734729521*std::cos(3*std::acos(2*x2 - 1)) - 0.00013715470617930636*std::cos(4*std::acos(2*x2 - 1)) + 0.00053992176738089045*std::cos(5*std::acos(2*x2 - 1)) - 0.00048409619135376719*std::cos(6*std::acos(2*x2 - 1)) + 0.00031102310572364935*std::cos(7*std::acos(2*x2 - 1)) - 0.00015384794051652472*std::cos(8*std::acos(2*x2 - 1)) + 5.1211509726755624e-5*std::cos(9*std::acos(2*x2 - 1)) + 3.4442552164378736e-8*std::cos(10*std::acos(2*x2 - 1)) - 1.7026253973486968e-5*std::cos(11*std::acos(2*x2 - 1)) + 1.6763747160852535e-5*std::cos(12*std::acos(2*x2 - 1)) - 1.0813551366486713e-5*std::cos(13*std::acos(2*x2 - 1)) + 5.0389888693876071e-6*std::cos(14*std::acos(2*x2 - 1)) - 1.3544096146829475e-6*std::cos(15*std::acos(2*x2 - 1)) - 3.329310401443329e-7*std::cos(16*std::acos(2*x2 - 1)) + 7.615049758025313e-7*std::cos(17*std::acos(2*x2 - 1)) - 6.2480961967057871e-7*std::cos(18*std::acos(2*x2 - 1)) + 3.5379092416969501e-7*std::cos(19*std::acos(2*x2 - 1)) - 1.3773795006852003e-7*std::cos(20*std::acos(2*x2 - 1)) + 1.8181743042126315e-8*std::cos(21*std::acos(2*x2 - 1)) + 2.6645683056620434e-8*std::cos(22*std::acos(2*x2 - 1)) - 3.1109104372452044e-8*std::cos(23*std::acos(2*x2 - 1)) + 2.1053445530385125e-8*std::cos(24*std::acos(2*x2 - 1)) - 1.0086426963701467e-8*std::cos(25*std::acos(2*x2 - 1)) + 2.881237645472809e-9*std::cos(26*std::acos(2*x2 - 1)) + 4.6756461123328953e-10*std::cos(27*std::acos(2*x2 - 1)) - 1.3578810110830388e-9*std::cos(28*std::acos(2*x2 - 1)) + 1.1432459295749061e-9*std::cos(29*std::acos(2*x2 - 1)) - 6.6078602318253708e-10*std::cos(30*std::acos(2*x2 - 1)) + 2.7349463443201573e-10*std::cos(31*std::acos(2*x2 - 1)) - 6.0019354043629995e-11*std::cos(32*std::acos(2*x2 - 1)) - 1.9564258660200917e-11*std::cos(33*std::acos(2*x2 - 1)) + 2.7423647710375045e-11*std::cos(34*std::acos(2*x2 - 1)) - 9.5679867878537187e-12*std::cos(35*std::acos(2*x2 - 1)) - 9.8580039914831062e-12*std::cos(36*std::acos(2*x2 - 1)) + 2.1776579607605749e-11*std::cos(37*std::acos(2*x2 - 1)) - 2.4075605177070365e-11*std::cos(38*std::acos(2*x2 - 1)) + 1.6608479589525537e-11*std::cos(39*std::acos(2*x2 - 1)) - 1.0716504658432912e-13*std::cos(40*std::acos(2*x2 - 1)) - 2.1729073017675932e-11*std::cos(41*std::acos(2*x2 - 1)) + 3.8693604457232443e-11*std::cos(42*std::acos(2*x2 - 1)) - 3.2052747282337136e-11*std::cos(43*std::acos(2*x2 - 1)) - 2.1961768969056699e-11*std::cos(44*std::acos(2*x2 - 1)) + 1.4041134189622853e-10*std::cos(45*std::acos(2*x2 - 1)) - 3.1682942723529622e-10*std::cos(46*std::acos(2*x2 - 1)) + 5.1179245464550164e-10*std::cos(47*std::acos(2*x2 - 1)) - 6.6595870786439573e-10*std::cos(48*std::acos(2*x2 - 1)) + 3.586452579757089e-10*std::cos(49*std::acos(2*x2 - 1)) + 0.028899737031107469;\n",
      "\n",
      "\n"
     ]
    }
   ],
   "source": [
    "print(QU.symb2expr())"
   ]
  },
  {
   "cell_type": "code",
   "execution_count": null,
   "metadata": {},
   "outputs": [],
   "source": []
  }
 ],
 "metadata": {
  "kernelspec": {
   "display_name": "Python 3",
   "language": "python",
   "name": "python3"
  },
  "language_info": {
   "codemirror_mode": {
    "name": "ipython",
    "version": 3
   },
   "file_extension": ".py",
   "mimetype": "text/x-python",
   "name": "python",
   "nbconvert_exporter": "python",
   "pygments_lexer": "ipython3",
   "version": "3.8.10"
  }
 },
 "nbformat": 4,
 "nbformat_minor": 2
}
